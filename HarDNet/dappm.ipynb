{
  "nbformat": 4,
  "nbformat_minor": 0,
  "metadata": {
    "colab": {
      "name": "hardnet_with_dappm.ipynb",
      "provenance": [],
      "collapsed_sections": []
    },
    "kernelspec": {
      "name": "python3",
      "display_name": "Python 3"
    }
  },
  "cells": [
    {
      "cell_type": "markdown",
      "metadata": {
        "id": "xSWgwEZf-QEV"
      },
      "source": [
        "# hardnet_with_dappm\n",
        "\n",
        "Стандартная сеть [FCHarDNet](https://github.com/PingoLH/FCHarDNet/blob/fc4b854b5cfa01a449bcfaece6bb3c32d84d9e2b/ptsemseg/models/hardnet.py#L254-L359), с блоком [DAPPM](https://github.com/chenjun2hao/DDRNet.pytorch/blob/1daf52a3eeb638f86fd07d2fba3a46c68bca8f15/lib/models/ddrnet_23_slim.py#L94-L175) из [DDRNet](https://arxiv.org/pdf/2101.06085v1.pdf)"
      ]
    },
    {
      "cell_type": "code",
      "metadata": {
        "id": "R-vhRzkpnUqa",
        "colab": {
          "base_uri": "https://localhost:8080/"
        },
        "outputId": "a15d6dda-20b5-46ee-9ac3-34714311a2fa"
      },
      "source": [
        "import sys\n",
        "sys.path.insert(0, '.')\n",
        "import os\n",
        "import logging\n",
        "import math\n",
        "import random\n",
        "import time\n",
        "# import shutil\n",
        "# from tabulate import tabulate\n",
        "from datetime import datetime\n",
        " \n",
        "!pip install tensorboardX\n",
        "from tensorboardX import SummaryWriter\n",
        " \n",
        "import matplotlib.pyplot as plt\n",
        " \n",
        "from tqdm import tqdm\n",
        "import numpy as np\n",
        " \n",
        "import torch\n",
        "import torch.nn as nn\n",
        "import torch.nn.functional as F\n",
        "import torch.distributed as dist\n",
        " \n",
        "from torchsummary import summary\n",
        "from torchvision.datasets import Cityscapes\n",
        "from torchvision import transforms"
      ],
      "execution_count": null,
      "outputs": [
        {
          "output_type": "stream",
          "text": [
            "Collecting tensorboardX\n",
            "\u001b[?25l  Downloading https://files.pythonhosted.org/packages/07/84/46421bd3e0e89a92682b1a38b40efc22dafb6d8e3d947e4ceefd4a5fabc7/tensorboardX-2.2-py2.py3-none-any.whl (120kB)\n",
            "\r\u001b[K     |██▊                             | 10kB 13.4MB/s eta 0:00:01\r\u001b[K     |█████▍                          | 20kB 20.1MB/s eta 0:00:01\r\u001b[K     |████████▏                       | 30kB 25.2MB/s eta 0:00:01\r\u001b[K     |██████████▉                     | 40kB 19.2MB/s eta 0:00:01\r\u001b[K     |█████████████▋                  | 51kB 13.1MB/s eta 0:00:01\r\u001b[K     |████████████████▎               | 61kB 14.7MB/s eta 0:00:01\r\u001b[K     |███████████████████             | 71kB 13.4MB/s eta 0:00:01\r\u001b[K     |█████████████████████▊          | 81kB 13.0MB/s eta 0:00:01\r\u001b[K     |████████████████████████▌       | 92kB 14.1MB/s eta 0:00:01\r\u001b[K     |███████████████████████████▏    | 102kB 12.7MB/s eta 0:00:01\r\u001b[K     |██████████████████████████████  | 112kB 12.7MB/s eta 0:00:01\r\u001b[K     |████████████████████████████████| 122kB 12.7MB/s \n",
            "\u001b[?25hRequirement already satisfied: protobuf>=3.8.0 in /usr/local/lib/python3.7/dist-packages (from tensorboardX) (3.12.4)\n",
            "Requirement already satisfied: numpy in /usr/local/lib/python3.7/dist-packages (from tensorboardX) (1.19.5)\n",
            "Requirement already satisfied: six>=1.9 in /usr/local/lib/python3.7/dist-packages (from protobuf>=3.8.0->tensorboardX) (1.15.0)\n",
            "Requirement already satisfied: setuptools in /usr/local/lib/python3.7/dist-packages (from protobuf>=3.8.0->tensorboardX) (56.1.0)\n",
            "Installing collected packages: tensorboardX\n",
            "Successfully installed tensorboardX-2.2\n"
          ],
          "name": "stdout"
        }
      ]
    },
    {
      "cell_type": "markdown",
      "metadata": {
        "id": "59q614bw-dJ-"
      },
      "source": [
        "## Blocks"
      ]
    },
    {
      "cell_type": "code",
      "metadata": {
        "id": "vzOZYszKeei6"
      },
      "source": [
        "class ConvLayer(nn.Sequential):\n",
        "    def __init__(self, in_channels, out_channels, kernel=3, stride=1, dropout=0.1, padding=None, dilation=1):\n",
        "        super().__init__()\n",
        "        if padding is None:\n",
        "            padding = kernel//2 + dilation - 1\n",
        "        self.add_module('conv', nn.Conv2d(in_channels, out_channels, kernel_size=kernel,\n",
        "                                          stride=stride, padding=padding, dilation=dilation, bias = False))\n",
        "        self.add_module('norm', nn.BatchNorm2d(out_channels))\n",
        "        self.add_module('relu', nn.ReLU(inplace=True))\n",
        "\n",
        "    def forward(self, x):\n",
        "        return super().forward(x)\n",
        "\n",
        "class TransitionUp(nn.Module):\n",
        "    def __init__(self, in_channels, out_channels):\n",
        "        super().__init__()\n",
        "\n",
        "    def forward(self, x, skip, concat=True):\n",
        "        out = F.interpolate(\n",
        "                x,\n",
        "                size=(skip.size(2), skip.size(3)),\n",
        "                mode=\"bilinear\",\n",
        "                align_corners=True,\n",
        "                            )\n",
        "        if concat:                            \n",
        "          out = torch.cat([out, skip], 1)\n",
        "          \n",
        "        return out"
      ],
      "execution_count": null,
      "outputs": []
    },
    {
      "cell_type": "code",
      "metadata": {
        "id": "ySuR9MkveedM"
      },
      "source": [
        "class my_HarDBlock(nn.Module):\n",
        "    def __init__(self, in_channels, growth_rate, grmul, n_layers, keepBase=False):\n",
        "        super().__init__()\n",
        "        self.in_channels = in_channels\n",
        "        self.growth_rate = growth_rate\n",
        "        self.grmul = grmul\n",
        "        self.links = []\n",
        "        self.out_channels = 0\n",
        "        self.keepBase = keepBase\n",
        "        self.layers = nn.ModuleList([])\n",
        "        for i in range(n_layers):\n",
        "            out_ch, in_ch, el_links = self.get_links(i+1)\n",
        "            self.links.append(el_links)\n",
        "            self.layers.append(ConvLayer(in_ch, out_ch))\n",
        "            if (i % 2 == 0) or (i == n_layers - 1):\n",
        "                self.out_channels += out_ch\n",
        "\n",
        "    def __out_ch(self, layer_id): \n",
        "        out_ch = self.growth_rate\n",
        "        for i in range(1, int(math.log2(layer_id))+1):\n",
        "            if layer_id % 2**i == 0:\n",
        "                out_ch = out_ch*self.grmul\n",
        "        return int(int(out_ch + 1) / 2) * 2\n",
        "\n",
        "    def get_links(self, layer_id):\n",
        "        in_ch = 0\n",
        "        links_ = []\n",
        "        for i in range(int(math.log2(layer_id))):\n",
        "            diff = 2**i\n",
        "            if (layer_id % diff == 0) and layer_id - diff > 0:\n",
        "                in_ch += self.__out_ch(layer_id - diff)\n",
        "                links_.append(layer_id - diff)\n",
        "        if math.log2(layer_id).is_integer():\n",
        "            in_ch += self.in_channels\n",
        "            links_.append(0)\n",
        "        return self.__out_ch(layer_id), in_ch, links_\n",
        "\n",
        "    def forward(self, x):\n",
        "        data = [x]\n",
        "        for layer in range(len(self.layers)):\n",
        "            layer_input = []\n",
        "            for link in self.links[layer]:\n",
        "                layer_input.append(data[link])\n",
        "            in_ = layer_input[0] if len(layer_input) == 1 \\\n",
        "                else torch.cat(layer_input, dim=1)\n",
        "            data.append(self.layers[layer](in_))\n",
        "        t = len(data)\n",
        "        out = []\n",
        "        for i in range(t):\n",
        "            if (i % 2 == 1) or (self.keepBase and i == 0) or (i == t-1):\n",
        "                out.append(data[i])\n",
        "        return torch.cat(out, dim=1)\n",
        "    \n",
        "    def get_out_ch(self):\n",
        "        return self.out_channels"
      ],
      "execution_count": null,
      "outputs": []
    },
    {
      "cell_type": "code",
      "metadata": {
        "id": "lzbXSv_1o17r"
      },
      "source": [
        "bn_mom = 0.1\n",
        "\n",
        "class DAPPM(nn.Module):\n",
        "    def __init__(self, inplanes, branch_planes, outplanes):\n",
        "        super(DAPPM, self).__init__()\n",
        "        self.scale1 = nn.Sequential(nn.AvgPool2d(kernel_size=5, stride=2, padding=2),\n",
        "                                    nn.BatchNorm2d(inplanes, momentum=bn_mom),\n",
        "                                    nn.ReLU(inplace=True),\n",
        "                                    nn.Conv2d(inplanes, branch_planes, kernel_size=1, bias=False),\n",
        "                                    )\n",
        "        self.scale2 = nn.Sequential(nn.AvgPool2d(kernel_size=9, stride=4, padding=4),\n",
        "                                    nn.BatchNorm2d(inplanes, momentum=bn_mom),\n",
        "                                    nn.ReLU(inplace=True),\n",
        "                                    nn.Conv2d(inplanes, branch_planes, kernel_size=1, bias=False),\n",
        "                                    )\n",
        "        self.scale3 = nn.Sequential(nn.AvgPool2d(kernel_size=17, stride=8, padding=8),\n",
        "                                    nn.BatchNorm2d(inplanes, momentum=bn_mom),\n",
        "                                    nn.ReLU(inplace=True),\n",
        "                                    nn.Conv2d(inplanes, branch_planes, kernel_size=1, bias=False),\n",
        "                                    )\n",
        "        self.scale4 = nn.Sequential(nn.AdaptiveAvgPool2d((1, 1)),\n",
        "                                    nn.BatchNorm2d(inplanes, momentum=bn_mom),\n",
        "                                    nn.ReLU(inplace=True),\n",
        "                                    nn.Conv2d(inplanes, branch_planes, kernel_size=1, bias=False),\n",
        "                                    )\n",
        "        self.scale0 = nn.Sequential(\n",
        "                                    nn.BatchNorm2d(inplanes, momentum=bn_mom),\n",
        "                                    nn.ReLU(inplace=True),\n",
        "                                    nn.Conv2d(inplanes, branch_planes, kernel_size=1, bias=False),\n",
        "                                    )\n",
        "        self.process1 = nn.Sequential(\n",
        "                                    nn.BatchNorm2d(branch_planes, momentum=bn_mom),\n",
        "                                    nn.ReLU(inplace=True),\n",
        "                                    nn.Conv2d(branch_planes, branch_planes, kernel_size=3, padding=1, bias=False),\n",
        "                                    )\n",
        "        self.process2 = nn.Sequential(\n",
        "                                    nn.BatchNorm2d(branch_planes, momentum=bn_mom),\n",
        "                                    nn.ReLU(inplace=True),\n",
        "                                    nn.Conv2d(branch_planes, branch_planes, kernel_size=3, padding=1, bias=False),\n",
        "                                    )\n",
        "        self.process3 = nn.Sequential(\n",
        "                                    nn.BatchNorm2d(branch_planes, momentum=bn_mom),\n",
        "                                    nn.ReLU(inplace=True),\n",
        "                                    nn.Conv2d(branch_planes, branch_planes, kernel_size=3, padding=1, bias=False),\n",
        "                                    )\n",
        "        self.process4 = nn.Sequential(\n",
        "                                    nn.BatchNorm2d(branch_planes, momentum=bn_mom),\n",
        "                                    nn.ReLU(inplace=True),\n",
        "                                    nn.Conv2d(branch_planes, branch_planes, kernel_size=3, padding=1, bias=False),\n",
        "                                    )        \n",
        "        self.compression = nn.Sequential(\n",
        "                                    nn.BatchNorm2d(branch_planes * 5, momentum=bn_mom),\n",
        "                                    nn.ReLU(inplace=True),\n",
        "                                    nn.Conv2d(branch_planes * 5, outplanes, kernel_size=1, bias=False),\n",
        "                                    )\n",
        "        self.shortcut = nn.Sequential(\n",
        "                                    nn.BatchNorm2d(inplanes, momentum=bn_mom),\n",
        "                                    nn.ReLU(inplace=True),\n",
        "                                    nn.Conv2d(inplanes, outplanes, kernel_size=1, bias=False),\n",
        "                                    )\n",
        "\n",
        "    def forward(self, x):\n",
        "\n",
        "        #x = self.downsample(x)\n",
        "        width = x.shape[-1]\n",
        "        height = x.shape[-2]\n",
        "        x_list = []\n",
        "\n",
        "        x_list.append(self.scale0(x))\n",
        "        x_list.append(self.process1((F.interpolate(self.scale1(x),\n",
        "                        size=[height, width],\n",
        "                        mode='bilinear')+x_list[0])))\n",
        "        x_list.append((self.process2((F.interpolate(self.scale2(x),\n",
        "                        size=[height, width],\n",
        "                        mode='bilinear')+x_list[1]))))\n",
        "        x_list.append(self.process3((F.interpolate(self.scale3(x),\n",
        "                        size=[height, width],\n",
        "                        mode='bilinear')+x_list[2])))\n",
        "        x_list.append(self.process4((F.interpolate(self.scale4(x),\n",
        "                        size=[height, width],\n",
        "                        mode='bilinear')+x_list[3])))\n",
        "       \n",
        "        out = self.compression(torch.cat(x_list, 1)) + self.shortcut(x)\n",
        "        return out "
      ],
      "execution_count": null,
      "outputs": []
    },
    {
      "cell_type": "markdown",
      "metadata": {
        "id": "jd3xjSLL-4K7"
      },
      "source": [
        "\n",
        "## Model"
      ]
    },
    {
      "cell_type": "code",
      "metadata": {
        "id": "H4U3cxTVizqp"
      },
      "source": [
        "# dapp in low and right U part and replace out to result of dapp\n",
        "\n",
        "class hardnet_m(nn.Module):\n",
        "    def __init__(self, n_classes=19, use_dappm=False):\n",
        "        super(hardnet_m, self).__init__()\n",
        "        self.n_classes = n_classes\n",
        "        self.use_dappm = use_dappm\n",
        "\n",
        "        spp_channels = 128\n",
        "        first_ch  = [16,24,32,48]\n",
        "        ch_list = [  64, 96, 160, 224, 320]\n",
        "        grmul = 1.7\n",
        "        gr       = [  10,16,18,24,32]\n",
        "        n_layers = [   4, 4, 8, 8, 8]\n",
        "\n",
        "        base = [\n",
        "            ConvLayer(          3, first_ch[0], stride=2, dilation=1),\n",
        "            ConvLayer(first_ch[0], first_ch[1], stride=1, dilation=2),\n",
        "            ConvLayer(first_ch[1], first_ch[2], stride=2, dilation=1),\n",
        "            ConvLayer(first_ch[2], first_ch[3], stride=1, dilation=2)\n",
        "        ]\n",
        "\n",
        "        self.base = nn.ModuleList(base)\n",
        "\n",
        "        blks_count = len(n_layers)\n",
        "        ch = first_ch[-1]\n",
        "        skip_connection_channel_counts = []\n",
        "        self.shortcut_layers = []\n",
        "        for i in range(blks_count):\n",
        "            block = my_HarDBlock(ch, gr[i], grmul, n_layers[i])\n",
        "            ch = block.get_out_ch()\n",
        "            skip_connection_channel_counts.append(ch)\n",
        "            \n",
        "            self.base.append(block)\n",
        "            if i < blks_count-1:\n",
        "                self.shortcut_layers.append(len(self.base)-1)\n",
        "            \n",
        "            self.base.append(ConvLayer(ch, ch_list[i], kernel=1))\n",
        "            ch = ch_list[i]\n",
        "            if (i < blks_count - 1):\n",
        "                self.base.append(nn.AvgPool2d(kernel_size=2, stride=2))\n",
        "\n",
        "        self.conv1x1_up = nn.ModuleList()\n",
        "        self.transUp = nn.ModuleList()\n",
        "        self.denseUp = nn.ModuleList()\n",
        "\n",
        "        blks_count -= 1\n",
        "        self.blks_count = blks_count \n",
        "\n",
        "        for i in range(blks_count - 1, -1, -1):\n",
        "            self.transUp.append(TransitionUp(ch, ch))\n",
        "            ch = ch + skip_connection_channel_counts[i]\n",
        "            self.conv1x1_up.append(ConvLayer(ch, ch//2, kernel=1))\n",
        "            ch = ch//2\n",
        "            blk = my_HarDBlock(ch, gr[i], grmul, n_layers[i])\n",
        "            self.denseUp.append(blk)\n",
        "            ch = blk.get_out_ch()\n",
        "        \n",
        "        if self.use_dappm:\n",
        "            # end of network, right path of U\n",
        "            channels_low  = self.denseUp[-1].get_out_ch()\n",
        "            # mid of network, low part of U\n",
        "            channels_high = self.base[self.shortcut_layers[-1]].get_out_ch() \n",
        "\n",
        "            self.spp_low  = DAPPM(channels_low,  spp_channels, channels_low )\n",
        "            self.spp_high = DAPPM(channels_high, spp_channels, channels_high)\n",
        "\n",
        "        self.finalConv = nn.Conv2d(ch, n_classes, kernel_size=1, \n",
        "                                   stride=1, padding=0, bias=True)\n",
        "\n",
        "    def forward(self, x):\n",
        "        size_in = x.size()\n",
        "        out = x\n",
        "        save_shortcut = []\n",
        "        for i in range(len(self.base)):\n",
        "            out = self.base[i](out)\n",
        "            if i in self.shortcut_layers:\n",
        "                if i == self.shortcut_layers[-1] and self.use_dappm:\n",
        "                    out = self.spp_high(out)\n",
        "                save_shortcut.append(out)\n",
        "\n",
        "        \n",
        "        for i in range(self.blks_count):\n",
        "            skip = save_shortcut.pop()\n",
        "            out = self.transUp[i](out, skip, True)\n",
        "            out = self.conv1x1_up[i](out)\n",
        "            out = self.denseUp[i](out)\n",
        "\n",
        "        if self.use_dappm:\n",
        "            out = self.spp_low(out)\n",
        "        out = self.finalConv(out)\n",
        "        \n",
        "        out = F.interpolate(out,\n",
        "                            size=(size_in[2], size_in[3]),\n",
        "                            mode=\"bilinear\",\n",
        "                            align_corners=True)\n",
        "        return out"
      ],
      "execution_count": null,
      "outputs": []
    },
    {
      "cell_type": "code",
      "metadata": {
        "id": "yJgEwcgDIyFC"
      },
      "source": [
        "# dapp in low U part and upsample to original\n",
        "\n",
        "class hardnet_m_upsamle_high(nn.Module):\n",
        "    def __init__(self, n_classes=19, use_dappm=False):\n",
        "        super(hardnet_m_upsamle_high, self).__init__()\n",
        "        self.n_classes = n_classes\n",
        "        self.use_dappm = use_dappm\n",
        "\n",
        "        spp_channels = 128\n",
        "        first_ch  = [16,24,32,48]\n",
        "        ch_list = [  64, 96, 160, 224, 320]\n",
        "        grmul = 1.7\n",
        "        gr       = [  10,16,18,24,32]\n",
        "        n_layers = [   4, 4, 8, 8, 8]\n",
        "\n",
        "        base = [\n",
        "            ConvLayer(          3, first_ch[0], stride=2, dilation=1),\n",
        "            ConvLayer(first_ch[0], first_ch[1], stride=1, dilation=2),\n",
        "            ConvLayer(first_ch[1], first_ch[2], stride=2, dilation=1),\n",
        "            ConvLayer(first_ch[2], first_ch[3], stride=1, dilation=2)\n",
        "        ]\n",
        "\n",
        "        self.base = nn.ModuleList(base)\n",
        "\n",
        "        blks_count = len(n_layers)\n",
        "        ch = first_ch[-1]\n",
        "        skip_connection_channel_counts = []\n",
        "        self.shortcut_layers = []\n",
        "        for i in range(blks_count):\n",
        "            block = my_HarDBlock(ch, gr[i], grmul, n_layers[i])\n",
        "            ch = block.get_out_ch()\n",
        "            skip_connection_channel_counts.append(ch)\n",
        "            \n",
        "            self.base.append(block)\n",
        "            if i < blks_count-1:\n",
        "                self.shortcut_layers.append(len(self.base)-1)\n",
        "            \n",
        "\n",
        "            self.base.append(ConvLayer(ch, ch_list[i], kernel=1))\n",
        "            ch = ch_list[i]\n",
        "            if (i < blks_count - 1):\n",
        "                self.base.append(nn.AvgPool2d(kernel_size=2, stride=2))\n",
        "            elif self.use_dappm:\n",
        "                self.spp = DAPPM(ch_list[-1],  spp_channels, ch_list[-1])\n",
        "                self.upsample_spp = TransitionUp(ch_list[-1], ch_list[-1])\n",
        "\n",
        "        \n",
        "        self.conv1x1_up = nn.ModuleList()\n",
        "        self.transUp = nn.ModuleList()\n",
        "        self.denseUp = nn.ModuleList()\n",
        "\n",
        "        blks_count -= 1\n",
        "        self.blks_count = blks_count \n",
        "\n",
        "        for i in range(blks_count - 1, -1, -1):\n",
        "            self.transUp.append(TransitionUp(ch, ch))\n",
        "            ch = ch + skip_connection_channel_counts[i]\n",
        "            self.conv1x1_up.append(ConvLayer(ch, ch//2, kernel=1))\n",
        "            ch = ch//2\n",
        "            blk = my_HarDBlock(ch, gr[i], grmul, n_layers[i])\n",
        "            self.denseUp.append(blk)\n",
        "            ch = blk.get_out_ch()\n",
        "        \n",
        "        if self.use_dappm:\n",
        "            # mid of network, low part of U\n",
        "            ch = ch + ch_list[-1]\n",
        "\n",
        "        self.finalConv = nn.Conv2d(ch, n_classes, kernel_size=1, \n",
        "                                   stride=1, padding=0, bias=True)\n",
        "\n",
        "    def forward(self, x):\n",
        "        size_in = x.size()\n",
        "        out = x\n",
        "        save_shortcut = []\n",
        "        for i in range(len(self.base)):\n",
        "            out = self.base[i](out)\n",
        "            if i in self.shortcut_layers:\n",
        "                save_shortcut.append(out)\n",
        "        \n",
        "        save_for_spp = out\n",
        "        \n",
        "        for i in range(self.blks_count):\n",
        "            skip = save_shortcut.pop()\n",
        "            out = self.transUp[i](out, skip, True)\n",
        "            out = self.conv1x1_up[i](out)\n",
        "            out = self.denseUp[i](out)\n",
        "\n",
        "        if self.use_dappm:\n",
        "            spp_res = self.spp(save_for_spp)\n",
        "            out = self.upsample_spp(spp_res, out, True)\n",
        "        out = self.finalConv(out)\n",
        "        \n",
        "        out = F.interpolate(out,\n",
        "                            size=(size_in[2], size_in[3]),\n",
        "                            mode=\"bilinear\",\n",
        "                            align_corners=True)\n",
        "        return out"
      ],
      "execution_count": null,
      "outputs": []
    },
    {
      "cell_type": "markdown",
      "metadata": {
        "id": "tsudkRArYRxX"
      },
      "source": [
        "## Compare original & structure with dappm"
      ]
    },
    {
      "cell_type": "code",
      "metadata": {
        "id": "NC6PaFvY-Ifg"
      },
      "source": [
        "model = hardnet_m()"
      ],
      "execution_count": null,
      "outputs": []
    },
    {
      "cell_type": "code",
      "metadata": {
        "id": "04QJ4VgqBVM-"
      },
      "source": [
        "model_dapp = hardnet_m(use_dappm=True)"
      ],
      "execution_count": null,
      "outputs": []
    },
    {
      "cell_type": "code",
      "metadata": {
        "id": "-LpNf9T00PKV"
      },
      "source": [
        "model_dapp_other = hardnet_m_upsamle_high(use_dappm=True)"
      ],
      "execution_count": null,
      "outputs": []
    },
    {
      "cell_type": "code",
      "metadata": {
        "id": "uu8t5l-a_yXC"
      },
      "source": [
        "model_dapp_other"
      ],
      "execution_count": null,
      "outputs": []
    },
    {
      "cell_type": "code",
      "metadata": {
        "id": "8rFtOuqCBcKQ"
      },
      "source": [
        "summary(model_dapp_other, (3,1024, 1024))"
      ],
      "execution_count": null,
      "outputs": []
    },
    {
      "cell_type": "code",
      "metadata": {
        "id": "OxDJM0nr_WK0"
      },
      "source": [
        "out = model(torch.rand(2,3, 1024, 1024))\n",
        "out.shape"
      ],
      "execution_count": null,
      "outputs": []
    },
    {
      "cell_type": "code",
      "metadata": {
        "id": "YJUV70DNBvcQ"
      },
      "source": [
        "out = model_dapp(torch.rand(2,3, 1024, 1024))\n",
        "out.shape"
      ],
      "execution_count": null,
      "outputs": []
    },
    {
      "cell_type": "code",
      "metadata": {
        "colab": {
          "base_uri": "https://localhost:8080/"
        },
        "id": "pC54Gg8EUmYq",
        "outputId": "80a7334d-b99d-4ce1-cfca-0a907391efb9"
      },
      "source": [
        "out = model_dapp_other(torch.rand(2,3, 1024, 1024))\n",
        "out.shape"
      ],
      "execution_count": null,
      "outputs": [
        {
          "output_type": "stream",
          "text": [
            "/usr/local/lib/python3.7/dist-packages/torch/nn/functional.py:3458: UserWarning: Default upsampling behavior when mode=bilinear is changed to align_corners=False since 0.4.0. Please specify align_corners=True if the old behavior is desired. See the documentation of nn.Upsample for details.\n",
            "  \"See the documentation of nn.Upsample for details.\".format(mode)\n"
          ],
          "name": "stderr"
        },
        {
          "output_type": "execute_result",
          "data": {
            "text/plain": [
              "torch.Size([2, 19, 1024, 1024])"
            ]
          },
          "metadata": {
            "tags": []
          },
          "execution_count": 37
        }
      ]
    },
    {
      "cell_type": "markdown",
      "metadata": {
        "id": "ce3a70g7YXnY"
      },
      "source": [
        "## Preparation"
      ]
    },
    {
      "cell_type": "code",
      "metadata": {
        "colab": {
          "base_uri": "https://localhost:8080/"
        },
        "id": "idgfO7APw2qI",
        "outputId": "83d79a04-e0ef-4254-8921-8e0df4397ab6"
      },
      "source": [
        "!git clone https://github.com/PingoLH/FCHarDNet.git\n",
        "!mv FCHarDNet/ptsemseg ./"
      ],
      "execution_count": null,
      "outputs": [
        {
          "output_type": "stream",
          "text": [
            "fatal: destination path 'FCHarDNet' already exists and is not an empty directory.\n",
            "mv: cannot stat 'FCHarDNet/ptsemseg': No such file or directory\n"
          ],
          "name": "stdout"
        }
      ]
    },
    {
      "cell_type": "code",
      "metadata": {
        "id": "Tx8_AGja0sWq"
      },
      "source": [
        "import yaml\n",
        "from torch.utils import data\n",
        "\n",
        "from ptsemseg.models import get_model\n",
        "from ptsemseg.loss import get_loss_function\n",
        "from ptsemseg.loader import get_loader\n",
        "from ptsemseg.utils import get_logger\n",
        "from ptsemseg.metrics import runningScore, averageMeter\n",
        "from ptsemseg.augmentations import get_composed_augmentations\n",
        "from ptsemseg.schedulers import get_scheduler\n",
        "from ptsemseg.optimizers import get_optimizer"
      ],
      "execution_count": null,
      "outputs": []
    },
    {
      "cell_type": "code",
      "metadata": {
        "colab": {
          "base_uri": "https://localhost:8080/"
        },
        "id": "eZqqevrB06sl",
        "outputId": "1aaeddbe-33d3-4bb5-d3e7-a197ce0553ec"
      },
      "source": [
        "from google.colab import drive\n",
        "drive.mount('/content/drive')"
      ],
      "execution_count": null,
      "outputs": [
        {
          "output_type": "stream",
          "text": [
            "Drive already mounted at /content/drive; to attempt to forcibly remount, call drive.mount(\"/content/drive\", force_remount=True).\n"
          ],
          "name": "stdout"
        }
      ]
    },
    {
      "cell_type": "code",
      "metadata": {
        "id": "3cL5Kqz00YPH"
      },
      "source": [
        "with open('FCHarDNet/configs/hardnet.yml') as cf:\n",
        "    cfg = yaml.load(cf)\n",
        "    cfg['data'].update({\n",
        "        'path':'/content/drive/MyDrive/RnD/datasets/',\n",
        "        'sbd_path': '/content/drive/MyDrive/RnD/datasets/'\n",
        "    })\n",
        "    cfg['training'].update({\n",
        "        'train_iters': 3000,\n",
        "        'batch_size': 4,\n",
        "        'n_workers': 2\n",
        "    })\n",
        "    cfg['training']['lr_schedule'].update({\n",
        "        'max_iter': 240000\n",
        "    })"
      ],
      "execution_count": null,
      "outputs": []
    },
    {
      "cell_type": "code",
      "metadata": {
        "colab": {
          "base_uri": "https://localhost:8080/"
        },
        "id": "43IClLgX0afV",
        "outputId": "33729b0a-be84-4284-ae45-c501e81dca4a"
      },
      "source": [
        "# Setup seeds\n",
        "torch.manual_seed(cfg.get(\"seed\", 1337))\n",
        "torch.cuda.manual_seed(cfg.get(\"seed\", 1337))\n",
        "np.random.seed(cfg.get(\"seed\", 1337))\n",
        "random.seed(cfg.get(\"seed\", 1337))\n",
        "\n",
        "# Setup device\n",
        "device = torch.device(\"cuda\" if torch.cuda.is_available() else \"cpu\")\n",
        "\n",
        "# Setup Augmentations\n",
        "augmentations = cfg[\"training\"].get(\"augmentations\", None)\n",
        "data_aug = get_composed_augmentations(augmentations)\n",
        "\n",
        "# Setup Dataloader\n",
        "data_loader = get_loader(cfg[\"data\"][\"dataset\"])\n",
        "data_path = cfg[\"data\"][\"path\"]\n",
        "\n",
        "t_loader = data_loader(\n",
        "    data_path,\n",
        "    is_transform=True,\n",
        "    split=cfg[\"data\"][\"train_split\"],\n",
        "    img_size=(cfg[\"data\"][\"img_rows\"], cfg[\"data\"][\"img_cols\"]),\n",
        "    augmentations=data_aug,\n",
        ")\n",
        "n_classes = t_loader.n_classes\n",
        "trainloader = data.DataLoader(\n",
        "    t_loader,\n",
        "    batch_size=cfg[\"training\"][\"batch_size\"],\n",
        "    num_workers=cfg[\"training\"][\"n_workers\"],\n",
        "    shuffle=True,\n",
        ")\n",
        "\n",
        "v_loader = data_loader(\n",
        "    data_path,\n",
        "    is_transform=True,\n",
        "    split=cfg[\"data\"][\"val_split\"],\n",
        "    img_size=(1024,2048),\n",
        ")\n",
        "valloader = data.DataLoader(\n",
        "    v_loader, batch_size=cfg[\"training\"][\"batch_size\"], num_workers=cfg[\"training\"][\"n_workers\"]\n",
        ")"
      ],
      "execution_count": null,
      "outputs": [
        {
          "output_type": "stream",
          "text": [
            "Found 2975 train images\n",
            "Found 500 val images\n"
          ],
          "name": "stdout"
        }
      ]
    },
    {
      "cell_type": "code",
      "metadata": {
        "colab": {
          "base_uri": "https://localhost:8080/"
        },
        "id": "lzVtLrD40dzK",
        "outputId": "25b7d9b9-90ad-4ac5-e33f-48b1df0eb866"
      },
      "source": [
        "running_metrics_val = runningScore(n_classes)\n",
        "model = hardnet_m(use_dappm=True).to(device)\n",
        "total_params = sum(p.numel() for p in model.parameters())\n",
        "print( 'Parameters:',total_params )\n",
        "def weights_init(m):\n",
        "    if isinstance(m, nn.Conv2d):\n",
        "        nn.init.xavier_normal_(m.weight)\n",
        "\n",
        "model = torch.nn.DataParallel(model, device_ids=range(torch.cuda.device_count()))\n",
        "model.apply(weights_init)\n",
        "pass"
      ],
      "execution_count": null,
      "outputs": [
        {
          "output_type": "stream",
          "text": [
            "Parameters: 5690117\n"
          ],
          "name": "stdout"
        }
      ]
    },
    {
      "cell_type": "code",
      "metadata": {
        "colab": {
          "base_uri": "https://localhost:8080/"
        },
        "id": "DvWgLOlT0eEg",
        "outputId": "c5b8321f-00aa-4449-d16d-9f6adc0417b4"
      },
      "source": [
        "optimizer_cls = get_optimizer(cfg)\n",
        "optimizer_params = {k: v for k, v in cfg[\"training\"][\"optimizer\"].items() if k != \"name\"}\n",
        "optimizer = optimizer_cls(model.parameters(), **optimizer_params)\n",
        "scheduler = get_scheduler(optimizer, cfg[\"training\"][\"lr_schedule\"])\n",
        "loss_fn = get_loss_function(cfg)\n",
        "\n",
        "print(\"Using optimizer {}\".format(optimizer))\n",
        "print(\"Using loss {}\".format(loss_fn))\n",
        "\n",
        "val_loss_meter = averageMeter()\n",
        "time_meter = averageMeter()"
      ],
      "execution_count": null,
      "outputs": [
        {
          "output_type": "stream",
          "text": [
            "Using optimizer SGD (\n",
            "Parameter Group 0\n",
            "    dampening: 0\n",
            "    initial_lr: 0.02\n",
            "    lr: 0.02\n",
            "    momentum: 0.9\n",
            "    nesterov: False\n",
            "    weight_decay: 0.0005\n",
            ")\n",
            "Using loss functools.partial(<function bootstrapped_cross_entropy2d at 0x7f40d5304950>, min_K=4096, loss_th=0.3, size_average=True)\n"
          ],
          "name": "stdout"
        }
      ]
    },
    {
      "cell_type": "code",
      "metadata": {
        "id": "rONTE4LT1Mlf"
      },
      "source": [
        "start_iter = 0\n",
        "best_iou = -100.0\n",
        "i = start_iter\n",
        "flag = True\n",
        "loss_all = 0\n",
        "loss_n = 0"
      ],
      "execution_count": null,
      "outputs": []
    },
    {
      "cell_type": "code",
      "metadata": {
        "id": "s1h-XWuyae9x"
      },
      "source": [
        "base_path = \"/content/drive/MyDrive/RnD/runs/HarDNet/\"\n",
        "model_arch = 'hardnet_dappm'\n",
        "model_name = f'{model_arch}_{cfg[\"data\"][\"dataset\"]}'\n",
        "model_modification_path = os.path.join(base_path, model_arch)"
      ],
      "execution_count": null,
      "outputs": []
    },
    {
      "cell_type": "code",
      "metadata": {
        "colab": {
          "base_uri": "https://localhost:8080/"
        },
        "id": "GbEvJvKx1fC2",
        "outputId": "3f868f5c-f101-4c67-9aa2-b1e7769ddd2b"
      },
      "source": [
        "logdir = os.path.join(model_modification_path, str(datetime.fromtimestamp(int(time.time()))))\n",
        "writer = SummaryWriter(log_dir=logdir)\n",
        "\n",
        "print(\"RUNDIR: {}\".format(logdir))\n",
        "# shutil.copy(args.config, logdir)\n",
        "\n",
        "logger = get_logger(logdir)\n",
        "logger.info(\"Let the games begin\")"
      ],
      "execution_count": null,
      "outputs": [
        {
          "output_type": "stream",
          "text": [
            "INFO:ptsemseg:Let the games begin\n"
          ],
          "name": "stderr"
        },
        {
          "output_type": "stream",
          "text": [
            "RUNDIR: /content/drive/MyDrive/RnD/runs/HarDNet/hardnet_dappm/2021-05-09 12:23:48\n"
          ],
          "name": "stdout"
        }
      ]
    },
    {
      "cell_type": "markdown",
      "metadata": {
        "id": "T42EpULH_CFq"
      },
      "source": [
        "## Model pretrained"
      ]
    },
    {
      "cell_type": "code",
      "metadata": {
        "id": "TyD0RHtDwbow",
        "colab": {
          "base_uri": "https://localhost:8080/"
        },
        "outputId": "d4198346-e70b-4413-da99-45ed3f6776d7"
      },
      "source": [
        "!ls {model_modification_path}"
      ],
      "execution_count": null,
      "outputs": [
        {
          "output_type": "stream",
          "text": [
            "'2021-05-09 12:20:21'  '2021-05-09 12:23:48'\n"
          ],
          "name": "stdout"
        }
      ]
    },
    {
      "cell_type": "code",
      "metadata": {
        "id": "1uFtzagpaqAF"
      },
      "source": [
        "# runs = sorted(os.listdir(model_modification_path), reverse=True)\n",
        "# best_path = None\n",
        "# last_path = None\n",
        "# for run in runs:\n",
        "#     tmp_base = os.path.join(model_modification_path, run)\n",
        "#     checkpoint = os.path.join(tmp_base, f'{model_name}_checkpoint.pkl')\n",
        "#     best = os.path.join(tmp_base, f'{model_name}_best_model.pkl')\n",
        "#     if not last_path and os.path.exists(checkpoint):\n",
        "#         last_path = checkpoint\n",
        "#     if not best_path and os.path.exists(best):\n",
        "#         best_path = best\n",
        "#     if last_path and best_path:\n",
        "#         break"
      ],
      "execution_count": null,
      "outputs": []
    },
    {
      "cell_type": "code",
      "metadata": {
        "id": "d8ygu68aaxQS"
      },
      "source": [
        "# if best_path and last_path:\n",
        "#     loaded = torch.load(last_path)\n",
        "#     best_iou_arrc = torch.load(best_path)\n",
        "#     model_state = loaded.get('model_state')\n",
        "\n",
        "#     optimizer_state = loaded.get('optimizer_state')\n",
        "#     scheduler_state = loaded.get('scheduler_state')\n",
        "#     start_iter = loaded.get('epoch')\n",
        "\n",
        "#     best_iou = best_iou_arrc.get('best_iou')\n",
        "#     i = start_iter\n",
        "#     flag = True\n",
        "#     loss_all = 0\n",
        "#     loss_n = 0\n",
        "\n",
        "#     model.load_state_dict(model_state)\n",
        "#     optimizer.load_state_dict(optimizer_state)\n",
        "#     scheduler.load_state_dict(scheduler_state)"
      ],
      "execution_count": null,
      "outputs": []
    },
    {
      "cell_type": "code",
      "metadata": {
        "id": "L1x2rFGf7T11"
      },
      "source": [
        "# i += 1\n",
        "# cfg[\"training\"].update({\n",
        "#     'train_iters': i+3000\n",
        "# })\n",
        "# flag = True"
      ],
      "execution_count": null,
      "outputs": []
    },
    {
      "cell_type": "code",
      "metadata": {
        "colab": {
          "base_uri": "https://localhost:8080/"
        },
        "id": "O8-LHx2QwFNL",
        "outputId": "65bf1a22-d25a-4f5d-fe26-0088b816bbd7"
      },
      "source": [
        "i, cfg[\"training\"][\"train_iters\"], best_iou"
      ],
      "execution_count": null,
      "outputs": [
        {
          "output_type": "execute_result",
          "data": {
            "text/plain": [
              "(0, 3000, -100.0)"
            ]
          },
          "metadata": {
            "tags": []
          },
          "execution_count": 21
        }
      ]
    },
    {
      "cell_type": "markdown",
      "metadata": {
        "id": "4R-eAXd1_D91"
      },
      "source": [
        "## Training"
      ]
    },
    {
      "cell_type": "code",
      "metadata": {
        "colab": {
          "base_uri": "https://localhost:8080/"
        },
        "id": "mSPLiPoA1M7l",
        "outputId": "aeda7565-3e8b-4b1d-fc41-979ec40739a5"
      },
      "source": [
        "while i <= cfg[\"training\"][\"train_iters\"] and flag:\n",
        "    for (images, labels, _) in trainloader:\n",
        "        i += 1\n",
        "        start_ts = time.time()\n",
        "        model.train()\n",
        "        images = images.to(device)\n",
        "        labels = labels.to(device)\n",
        " \n",
        "        optimizer.zero_grad()\n",
        "        outputs = model(images)\n",
        " \n",
        "        loss = loss_fn(input=outputs, target=labels)\n",
        "        loss.backward()\n",
        "        optimizer.step()\n",
        "        scheduler.step()\n",
        "        c_lr = scheduler.get_lr()\n",
        " \n",
        "        time_meter.update(time.time() - start_ts)\n",
        "        loss_all += loss.item()\n",
        "        loss_n += 1\n",
        "        \n",
        "        if (i + 1) % cfg[\"training\"][\"print_interval\"] == 0:\n",
        "            fmt_str = \"Iter [{:d}/{:d}]  Loss: {:.4f}  Time/Image: {:.4f}  lr={:.6f}\"\n",
        "            print_str = fmt_str.format(\n",
        "                i + 1,\n",
        "                cfg[\"training\"][\"train_iters\"],\n",
        "                loss_all / loss_n,\n",
        "                time_meter.avg / cfg[\"training\"][\"batch_size\"],\n",
        "                c_lr[0],\n",
        "            )\n",
        "            \n",
        " \n",
        "            print(print_str)\n",
        "            logger.info(print_str)\n",
        "            writer.add_scalar(\"loss/train_loss\", loss.item(), i + 1)\n",
        "            time_meter.reset()\n",
        " \n",
        "        if (i + 1) % cfg[\"training\"][\"val_interval\"] == 0 or (i + 1) == cfg[\"training\"][\n",
        "            \"train_iters\"\n",
        "        ]:\n",
        "            torch.cuda.empty_cache()\n",
        "            model.eval()\n",
        "            loss_all = 0\n",
        "            loss_n = 0\n",
        "            with torch.no_grad():\n",
        "                for i_val, (images_val, labels_val, _) in tqdm(enumerate(valloader)):\n",
        "                    images_val = images_val.to(device)\n",
        "                    labels_val = labels_val.to(device)\n",
        " \n",
        "                    outputs = model(images_val)\n",
        "                    val_loss = loss_fn(input=outputs, target=labels_val)\n",
        " \n",
        "                    pred = outputs.data.max(1)[1].cpu().numpy()\n",
        "                    gt = labels_val.data.cpu().numpy()\n",
        " \n",
        "                    running_metrics_val.update(gt, pred)\n",
        "                    val_loss_meter.update(val_loss.item())\n",
        " \n",
        "            writer.add_scalar(\"loss/val_loss\", val_loss_meter.avg, i + 1)\n",
        "            logger.info(\"Iter %d Val Loss: %.4f\" % (i + 1, val_loss_meter.avg))\n",
        " \n",
        "            score, class_iou = running_metrics_val.get_scores()\n",
        "            for k, v in score.items():\n",
        "                print(k, v)\n",
        "                logger.info(\"{}: {}\".format(k, v))\n",
        "                writer.add_scalar(\"val_metrics/{}\".format(k), v, i + 1)\n",
        " \n",
        "            for k, v in class_iou.items():\n",
        "                logger.info(\"{}: {}\".format(k, v))\n",
        "                writer.add_scalar(\"val_metrics/cls_{}\".format(k), v, i + 1)\n",
        " \n",
        "            val_loss_meter.reset()\n",
        "            running_metrics_val.reset()\n",
        "            \n",
        "            state = {\n",
        "                    \"epoch\": i + 1,\n",
        "                    \"model_state\": model.state_dict(),\n",
        "                    \"optimizer_state\": optimizer.state_dict(),\n",
        "                    \"scheduler_state\": scheduler.state_dict(),\n",
        "            }\n",
        "            save_path = os.path.join(\n",
        "                writer.file_writer.get_logdir(),\n",
        "                \"{}_{}_checkpoint.pkl\".format(model_arch, cfg[\"data\"][\"dataset\"]),\n",
        "            )\n",
        "            torch.save(state, save_path)\n",
        " \n",
        "            if score[\"Mean IoU : \\t\"] >= best_iou:\n",
        "                best_iou = score[\"Mean IoU : \\t\"]\n",
        "                state = {\n",
        "                    \"epoch\": i + 1,\n",
        "                    \"model_state\": model.state_dict(),\n",
        "                    \"best_iou\": best_iou,\n",
        "                }\n",
        "                save_path = os.path.join(\n",
        "                    writer.file_writer.get_logdir(),\n",
        "                    \"{}_{}_best_model.pkl\".format(model_arch, cfg[\"data\"][\"dataset\"]),\n",
        "                )\n",
        "                torch.save(state, save_path)\n",
        "            torch.cuda.empty_cache()\n",
        " \n",
        "        if (i + 1) == cfg[\"training\"][\"train_iters\"]:\n",
        "            flag = False\n",
        "            break"
      ],
      "execution_count": null,
      "outputs": [
        {
          "output_type": "stream",
          "text": [
            "/usr/local/lib/python3.7/dist-packages/torch/nn/functional.py:3458: UserWarning: Default upsampling behavior when mode=bilinear is changed to align_corners=False since 0.4.0. Please specify align_corners=True if the old behavior is desired. See the documentation of nn.Upsample for details.\n",
            "  \"See the documentation of nn.Upsample for details.\".format(mode)\n",
            "/usr/local/lib/python3.7/dist-packages/torch/nn/_reduction.py:42: UserWarning: size_average and reduce args will be deprecated, please use reduction='none' instead.\n",
            "  warnings.warn(warning.format(ret))\n",
            "INFO:ptsemseg:Iter [10/3000]  Loss: 2.5497  Time/Image: 0.2424  lr=0.019999\n"
          ],
          "name": "stderr"
        },
        {
          "output_type": "stream",
          "text": [
            "Iter [10/3000]  Loss: 2.5497  Time/Image: 0.2424  lr=0.019999\n"
          ],
          "name": "stdout"
        },
        {
          "output_type": "stream",
          "text": [
            "INFO:ptsemseg:Iter [20/3000]  Loss: 2.3279  Time/Image: 0.2440  lr=0.019999\n"
          ],
          "name": "stderr"
        },
        {
          "output_type": "stream",
          "text": [
            "Iter [20/3000]  Loss: 2.3279  Time/Image: 0.2440  lr=0.019999\n"
          ],
          "name": "stdout"
        },
        {
          "output_type": "stream",
          "text": [
            "INFO:ptsemseg:Iter [30/3000]  Loss: 2.1953  Time/Image: 0.2437  lr=0.019998\n"
          ],
          "name": "stderr"
        },
        {
          "output_type": "stream",
          "text": [
            "Iter [30/3000]  Loss: 2.1953  Time/Image: 0.2437  lr=0.019998\n"
          ],
          "name": "stdout"
        },
        {
          "output_type": "stream",
          "text": [
            "INFO:ptsemseg:Iter [40/3000]  Loss: 2.1469  Time/Image: 0.2450  lr=0.019997\n"
          ],
          "name": "stderr"
        },
        {
          "output_type": "stream",
          "text": [
            "Iter [40/3000]  Loss: 2.1469  Time/Image: 0.2450  lr=0.019997\n"
          ],
          "name": "stdout"
        },
        {
          "output_type": "stream",
          "text": [
            "INFO:ptsemseg:Iter [50/3000]  Loss: 2.0721  Time/Image: 0.2462  lr=0.019996\n"
          ],
          "name": "stderr"
        },
        {
          "output_type": "stream",
          "text": [
            "Iter [50/3000]  Loss: 2.0721  Time/Image: 0.2462  lr=0.019996\n"
          ],
          "name": "stdout"
        },
        {
          "output_type": "stream",
          "text": [
            "INFO:ptsemseg:Iter [60/3000]  Loss: 2.0745  Time/Image: 0.2471  lr=0.019996\n"
          ],
          "name": "stderr"
        },
        {
          "output_type": "stream",
          "text": [
            "Iter [60/3000]  Loss: 2.0745  Time/Image: 0.2471  lr=0.019996\n"
          ],
          "name": "stdout"
        },
        {
          "output_type": "stream",
          "text": [
            "INFO:ptsemseg:Iter [70/3000]  Loss: 2.0309  Time/Image: 0.2461  lr=0.019995\n"
          ],
          "name": "stderr"
        },
        {
          "output_type": "stream",
          "text": [
            "Iter [70/3000]  Loss: 2.0309  Time/Image: 0.2461  lr=0.019995\n"
          ],
          "name": "stdout"
        },
        {
          "output_type": "stream",
          "text": [
            "INFO:ptsemseg:Iter [80/3000]  Loss: 2.0425  Time/Image: 0.2465  lr=0.019994\n"
          ],
          "name": "stderr"
        },
        {
          "output_type": "stream",
          "text": [
            "Iter [80/3000]  Loss: 2.0425  Time/Image: 0.2465  lr=0.019994\n"
          ],
          "name": "stdout"
        },
        {
          "output_type": "stream",
          "text": [
            "INFO:ptsemseg:Iter [90/3000]  Loss: 1.9984  Time/Image: 0.2462  lr=0.019993\n"
          ],
          "name": "stderr"
        },
        {
          "output_type": "stream",
          "text": [
            "Iter [90/3000]  Loss: 1.9984  Time/Image: 0.2462  lr=0.019993\n"
          ],
          "name": "stdout"
        },
        {
          "output_type": "stream",
          "text": [
            "INFO:ptsemseg:Iter [100/3000]  Loss: 1.9749  Time/Image: 0.2457  lr=0.019993\n"
          ],
          "name": "stderr"
        },
        {
          "output_type": "stream",
          "text": [
            "Iter [100/3000]  Loss: 1.9749  Time/Image: 0.2457  lr=0.019993\n"
          ],
          "name": "stdout"
        },
        {
          "output_type": "stream",
          "text": [
            "INFO:ptsemseg:Iter [110/3000]  Loss: 1.9471  Time/Image: 0.2456  lr=0.019992\n"
          ],
          "name": "stderr"
        },
        {
          "output_type": "stream",
          "text": [
            "Iter [110/3000]  Loss: 1.9471  Time/Image: 0.2456  lr=0.019992\n"
          ],
          "name": "stdout"
        },
        {
          "output_type": "stream",
          "text": [
            "INFO:ptsemseg:Iter [120/3000]  Loss: 1.9335  Time/Image: 0.2439  lr=0.019991\n"
          ],
          "name": "stderr"
        },
        {
          "output_type": "stream",
          "text": [
            "Iter [120/3000]  Loss: 1.9335  Time/Image: 0.2439  lr=0.019991\n"
          ],
          "name": "stdout"
        },
        {
          "output_type": "stream",
          "text": [
            "INFO:ptsemseg:Iter [130/3000]  Loss: 1.9184  Time/Image: 0.2474  lr=0.019990\n"
          ],
          "name": "stderr"
        },
        {
          "output_type": "stream",
          "text": [
            "Iter [130/3000]  Loss: 1.9184  Time/Image: 0.2474  lr=0.019990\n"
          ],
          "name": "stdout"
        },
        {
          "output_type": "stream",
          "text": [
            "INFO:ptsemseg:Iter [140/3000]  Loss: 1.9042  Time/Image: 0.2478  lr=0.019990\n"
          ],
          "name": "stderr"
        },
        {
          "output_type": "stream",
          "text": [
            "Iter [140/3000]  Loss: 1.9042  Time/Image: 0.2478  lr=0.019990\n"
          ],
          "name": "stdout"
        },
        {
          "output_type": "stream",
          "text": [
            "INFO:ptsemseg:Iter [150/3000]  Loss: 1.8852  Time/Image: 0.2447  lr=0.019989\n"
          ],
          "name": "stderr"
        },
        {
          "output_type": "stream",
          "text": [
            "Iter [150/3000]  Loss: 1.8852  Time/Image: 0.2447  lr=0.019989\n"
          ],
          "name": "stdout"
        },
        {
          "output_type": "stream",
          "text": [
            "INFO:ptsemseg:Iter [160/3000]  Loss: 1.8618  Time/Image: 0.2457  lr=0.019988\n"
          ],
          "name": "stderr"
        },
        {
          "output_type": "stream",
          "text": [
            "Iter [160/3000]  Loss: 1.8618  Time/Image: 0.2457  lr=0.019988\n"
          ],
          "name": "stdout"
        },
        {
          "output_type": "stream",
          "text": [
            "INFO:ptsemseg:Iter [170/3000]  Loss: 1.8452  Time/Image: 0.2465  lr=0.019987\n"
          ],
          "name": "stderr"
        },
        {
          "output_type": "stream",
          "text": [
            "Iter [170/3000]  Loss: 1.8452  Time/Image: 0.2465  lr=0.019987\n"
          ],
          "name": "stdout"
        },
        {
          "output_type": "stream",
          "text": [
            "INFO:ptsemseg:Iter [180/3000]  Loss: 1.8280  Time/Image: 0.2460  lr=0.019987\n"
          ],
          "name": "stderr"
        },
        {
          "output_type": "stream",
          "text": [
            "Iter [180/3000]  Loss: 1.8280  Time/Image: 0.2460  lr=0.019987\n"
          ],
          "name": "stdout"
        },
        {
          "output_type": "stream",
          "text": [
            "INFO:ptsemseg:Iter [190/3000]  Loss: 1.8162  Time/Image: 0.2457  lr=0.019986\n"
          ],
          "name": "stderr"
        },
        {
          "output_type": "stream",
          "text": [
            "Iter [190/3000]  Loss: 1.8162  Time/Image: 0.2457  lr=0.019986\n"
          ],
          "name": "stdout"
        },
        {
          "output_type": "stream",
          "text": [
            "INFO:ptsemseg:Iter [200/3000]  Loss: 1.8149  Time/Image: 0.2450  lr=0.019985\n"
          ],
          "name": "stderr"
        },
        {
          "output_type": "stream",
          "text": [
            "Iter [200/3000]  Loss: 1.8149  Time/Image: 0.2450  lr=0.019985\n"
          ],
          "name": "stdout"
        },
        {
          "output_type": "stream",
          "text": [
            "INFO:ptsemseg:Iter [210/3000]  Loss: 1.8082  Time/Image: 0.2458  lr=0.019984\n"
          ],
          "name": "stderr"
        },
        {
          "output_type": "stream",
          "text": [
            "Iter [210/3000]  Loss: 1.8082  Time/Image: 0.2458  lr=0.019984\n"
          ],
          "name": "stdout"
        },
        {
          "output_type": "stream",
          "text": [
            "INFO:ptsemseg:Iter [220/3000]  Loss: 1.7996  Time/Image: 0.2454  lr=0.019984\n"
          ],
          "name": "stderr"
        },
        {
          "output_type": "stream",
          "text": [
            "Iter [220/3000]  Loss: 1.7996  Time/Image: 0.2454  lr=0.019984\n"
          ],
          "name": "stdout"
        },
        {
          "output_type": "stream",
          "text": [
            "INFO:ptsemseg:Iter [230/3000]  Loss: 1.7948  Time/Image: 0.2456  lr=0.019983\n"
          ],
          "name": "stderr"
        },
        {
          "output_type": "stream",
          "text": [
            "Iter [230/3000]  Loss: 1.7948  Time/Image: 0.2456  lr=0.019983\n"
          ],
          "name": "stdout"
        },
        {
          "output_type": "stream",
          "text": [
            "INFO:ptsemseg:Iter [240/3000]  Loss: 1.7837  Time/Image: 0.2427  lr=0.019982\n"
          ],
          "name": "stderr"
        },
        {
          "output_type": "stream",
          "text": [
            "Iter [240/3000]  Loss: 1.7837  Time/Image: 0.2427  lr=0.019982\n"
          ],
          "name": "stdout"
        },
        {
          "output_type": "stream",
          "text": [
            "INFO:ptsemseg:Iter [250/3000]  Loss: 1.7747  Time/Image: 0.2339  lr=0.019981\n"
          ],
          "name": "stderr"
        },
        {
          "output_type": "stream",
          "text": [
            "Iter [250/3000]  Loss: 1.7747  Time/Image: 0.2339  lr=0.019981\n"
          ],
          "name": "stdout"
        },
        {
          "output_type": "stream",
          "text": [
            "INFO:ptsemseg:Iter [260/3000]  Loss: 1.7658  Time/Image: 0.2360  lr=0.019981\n"
          ],
          "name": "stderr"
        },
        {
          "output_type": "stream",
          "text": [
            "Iter [260/3000]  Loss: 1.7658  Time/Image: 0.2360  lr=0.019981\n"
          ],
          "name": "stdout"
        },
        {
          "output_type": "stream",
          "text": [
            "INFO:ptsemseg:Iter [270/3000]  Loss: 1.7656  Time/Image: 0.2427  lr=0.019980\n"
          ],
          "name": "stderr"
        },
        {
          "output_type": "stream",
          "text": [
            "Iter [270/3000]  Loss: 1.7656  Time/Image: 0.2427  lr=0.019980\n"
          ],
          "name": "stdout"
        },
        {
          "output_type": "stream",
          "text": [
            "INFO:ptsemseg:Iter [280/3000]  Loss: 1.7518  Time/Image: 0.2415  lr=0.019979\n"
          ],
          "name": "stderr"
        },
        {
          "output_type": "stream",
          "text": [
            "Iter [280/3000]  Loss: 1.7518  Time/Image: 0.2415  lr=0.019979\n"
          ],
          "name": "stdout"
        },
        {
          "output_type": "stream",
          "text": [
            "INFO:ptsemseg:Iter [290/3000]  Loss: 1.7530  Time/Image: 0.2446  lr=0.019978\n"
          ],
          "name": "stderr"
        },
        {
          "output_type": "stream",
          "text": [
            "Iter [290/3000]  Loss: 1.7530  Time/Image: 0.2446  lr=0.019978\n"
          ],
          "name": "stdout"
        },
        {
          "output_type": "stream",
          "text": [
            "INFO:ptsemseg:Iter [300/3000]  Loss: 1.7458  Time/Image: 0.2344  lr=0.019978\n"
          ],
          "name": "stderr"
        },
        {
          "output_type": "stream",
          "text": [
            "Iter [300/3000]  Loss: 1.7458  Time/Image: 0.2344  lr=0.019978\n"
          ],
          "name": "stdout"
        },
        {
          "output_type": "stream",
          "text": [
            "INFO:ptsemseg:Iter [310/3000]  Loss: 1.7387  Time/Image: 0.2340  lr=0.019977\n"
          ],
          "name": "stderr"
        },
        {
          "output_type": "stream",
          "text": [
            "Iter [310/3000]  Loss: 1.7387  Time/Image: 0.2340  lr=0.019977\n"
          ],
          "name": "stdout"
        },
        {
          "output_type": "stream",
          "text": [
            "INFO:ptsemseg:Iter [320/3000]  Loss: 1.7287  Time/Image: 0.2485  lr=0.019976\n"
          ],
          "name": "stderr"
        },
        {
          "output_type": "stream",
          "text": [
            "Iter [320/3000]  Loss: 1.7287  Time/Image: 0.2485  lr=0.019976\n"
          ],
          "name": "stdout"
        },
        {
          "output_type": "stream",
          "text": [
            "INFO:ptsemseg:Iter [330/3000]  Loss: 1.7228  Time/Image: 0.2452  lr=0.019975\n"
          ],
          "name": "stderr"
        },
        {
          "output_type": "stream",
          "text": [
            "Iter [330/3000]  Loss: 1.7228  Time/Image: 0.2452  lr=0.019975\n"
          ],
          "name": "stdout"
        },
        {
          "output_type": "stream",
          "text": [
            "INFO:ptsemseg:Iter [340/3000]  Loss: 1.7237  Time/Image: 0.2467  lr=0.019975\n"
          ],
          "name": "stderr"
        },
        {
          "output_type": "stream",
          "text": [
            "Iter [340/3000]  Loss: 1.7237  Time/Image: 0.2467  lr=0.019975\n"
          ],
          "name": "stdout"
        },
        {
          "output_type": "stream",
          "text": [
            "INFO:ptsemseg:Iter [350/3000]  Loss: 1.7174  Time/Image: 0.2445  lr=0.019974\n"
          ],
          "name": "stderr"
        },
        {
          "output_type": "stream",
          "text": [
            "Iter [350/3000]  Loss: 1.7174  Time/Image: 0.2445  lr=0.019974\n"
          ],
          "name": "stdout"
        },
        {
          "output_type": "stream",
          "text": [
            "INFO:ptsemseg:Iter [360/3000]  Loss: 1.7173  Time/Image: 0.2462  lr=0.019973\n"
          ],
          "name": "stderr"
        },
        {
          "output_type": "stream",
          "text": [
            "Iter [360/3000]  Loss: 1.7173  Time/Image: 0.2462  lr=0.019973\n"
          ],
          "name": "stdout"
        },
        {
          "output_type": "stream",
          "text": [
            "INFO:ptsemseg:Iter [370/3000]  Loss: 1.7108  Time/Image: 0.2462  lr=0.019972\n"
          ],
          "name": "stderr"
        },
        {
          "output_type": "stream",
          "text": [
            "Iter [370/3000]  Loss: 1.7108  Time/Image: 0.2462  lr=0.019972\n"
          ],
          "name": "stdout"
        },
        {
          "output_type": "stream",
          "text": [
            "INFO:ptsemseg:Iter [380/3000]  Loss: 1.7116  Time/Image: 0.2403  lr=0.019972\n"
          ],
          "name": "stderr"
        },
        {
          "output_type": "stream",
          "text": [
            "Iter [380/3000]  Loss: 1.7116  Time/Image: 0.2403  lr=0.019972\n"
          ],
          "name": "stdout"
        },
        {
          "output_type": "stream",
          "text": [
            "INFO:ptsemseg:Iter [390/3000]  Loss: 1.7093  Time/Image: 0.2345  lr=0.019971\n"
          ],
          "name": "stderr"
        },
        {
          "output_type": "stream",
          "text": [
            "Iter [390/3000]  Loss: 1.7093  Time/Image: 0.2345  lr=0.019971\n"
          ],
          "name": "stdout"
        },
        {
          "output_type": "stream",
          "text": [
            "INFO:ptsemseg:Iter [400/3000]  Loss: 1.7040  Time/Image: 0.2354  lr=0.019970\n"
          ],
          "name": "stderr"
        },
        {
          "output_type": "stream",
          "text": [
            "Iter [400/3000]  Loss: 1.7040  Time/Image: 0.2354  lr=0.019970\n"
          ],
          "name": "stdout"
        },
        {
          "output_type": "stream",
          "text": [
            "INFO:ptsemseg:Iter [410/3000]  Loss: 1.6997  Time/Image: 0.2336  lr=0.019969\n"
          ],
          "name": "stderr"
        },
        {
          "output_type": "stream",
          "text": [
            "Iter [410/3000]  Loss: 1.6997  Time/Image: 0.2336  lr=0.019969\n"
          ],
          "name": "stdout"
        },
        {
          "output_type": "stream",
          "text": [
            "INFO:ptsemseg:Iter [420/3000]  Loss: 1.6954  Time/Image: 0.2391  lr=0.019969\n"
          ],
          "name": "stderr"
        },
        {
          "output_type": "stream",
          "text": [
            "Iter [420/3000]  Loss: 1.6954  Time/Image: 0.2391  lr=0.019969\n"
          ],
          "name": "stdout"
        },
        {
          "output_type": "stream",
          "text": [
            "INFO:ptsemseg:Iter [430/3000]  Loss: 1.6898  Time/Image: 0.2453  lr=0.019968\n"
          ],
          "name": "stderr"
        },
        {
          "output_type": "stream",
          "text": [
            "Iter [430/3000]  Loss: 1.6898  Time/Image: 0.2453  lr=0.019968\n"
          ],
          "name": "stdout"
        },
        {
          "output_type": "stream",
          "text": [
            "INFO:ptsemseg:Iter [440/3000]  Loss: 1.6856  Time/Image: 0.2455  lr=0.019967\n"
          ],
          "name": "stderr"
        },
        {
          "output_type": "stream",
          "text": [
            "Iter [440/3000]  Loss: 1.6856  Time/Image: 0.2455  lr=0.019967\n"
          ],
          "name": "stdout"
        },
        {
          "output_type": "stream",
          "text": [
            "INFO:ptsemseg:Iter [450/3000]  Loss: 1.6832  Time/Image: 0.2336  lr=0.019966\n"
          ],
          "name": "stderr"
        },
        {
          "output_type": "stream",
          "text": [
            "Iter [450/3000]  Loss: 1.6832  Time/Image: 0.2336  lr=0.019966\n"
          ],
          "name": "stdout"
        },
        {
          "output_type": "stream",
          "text": [
            "INFO:ptsemseg:Iter [460/3000]  Loss: 1.6844  Time/Image: 0.2428  lr=0.019966\n"
          ],
          "name": "stderr"
        },
        {
          "output_type": "stream",
          "text": [
            "Iter [460/3000]  Loss: 1.6844  Time/Image: 0.2428  lr=0.019966\n"
          ],
          "name": "stdout"
        },
        {
          "output_type": "stream",
          "text": [
            "INFO:ptsemseg:Iter [470/3000]  Loss: 1.6792  Time/Image: 0.2463  lr=0.019965\n"
          ],
          "name": "stderr"
        },
        {
          "output_type": "stream",
          "text": [
            "Iter [470/3000]  Loss: 1.6792  Time/Image: 0.2463  lr=0.019965\n"
          ],
          "name": "stdout"
        },
        {
          "output_type": "stream",
          "text": [
            "INFO:ptsemseg:Iter [480/3000]  Loss: 1.6772  Time/Image: 0.2447  lr=0.019964\n"
          ],
          "name": "stderr"
        },
        {
          "output_type": "stream",
          "text": [
            "Iter [480/3000]  Loss: 1.6772  Time/Image: 0.2447  lr=0.019964\n"
          ],
          "name": "stdout"
        },
        {
          "output_type": "stream",
          "text": [
            "INFO:ptsemseg:Iter [490/3000]  Loss: 1.6780  Time/Image: 0.2461  lr=0.019963\n"
          ],
          "name": "stderr"
        },
        {
          "output_type": "stream",
          "text": [
            "Iter [490/3000]  Loss: 1.6780  Time/Image: 0.2461  lr=0.019963\n"
          ],
          "name": "stdout"
        },
        {
          "output_type": "stream",
          "text": [
            "INFO:ptsemseg:Iter [500/3000]  Loss: 1.6707  Time/Image: 0.2477  lr=0.019963\n"
          ],
          "name": "stderr"
        },
        {
          "output_type": "stream",
          "text": [
            "Iter [500/3000]  Loss: 1.6707  Time/Image: 0.2477  lr=0.019963\n"
          ],
          "name": "stdout"
        },
        {
          "output_type": "stream",
          "text": [
            "125it [04:57,  2.38s/it]\n",
            "INFO:ptsemseg:Iter 500 Val Loss: 1.9273\n",
            "INFO:ptsemseg:Overall Acc: \t: 0.6988412574961724\n",
            "INFO:ptsemseg:Mean Acc : \t: 0.19633009766594767\n",
            "INFO:ptsemseg:FreqW Acc : \t: 0.5302999292371223\n",
            "INFO:ptsemseg:Mean IoU : \t: 0.13779950223383017\n",
            "INFO:ptsemseg:0: 0.8161025992620475\n",
            "INFO:ptsemseg:1: 0.0\n",
            "INFO:ptsemseg:2: 0.4656003322601618\n",
            "INFO:ptsemseg:3: 0.0\n",
            "INFO:ptsemseg:4: 0.0\n",
            "INFO:ptsemseg:5: 0.0\n",
            "INFO:ptsemseg:6: 0.0\n",
            "INFO:ptsemseg:7: 0.0\n",
            "INFO:ptsemseg:8: 0.5446661465678497\n",
            "INFO:ptsemseg:9: 0.16264989235091154\n",
            "INFO:ptsemseg:10: 0.49768855110644566\n",
            "INFO:ptsemseg:11: 0.0\n",
            "INFO:ptsemseg:12: 0.0\n",
            "INFO:ptsemseg:13: 0.1314830208953572\n",
            "INFO:ptsemseg:14: 0.0\n",
            "INFO:ptsemseg:15: 0.0\n",
            "INFO:ptsemseg:16: 0.0\n",
            "INFO:ptsemseg:17: 0.0\n",
            "INFO:ptsemseg:18: 0.0\n"
          ],
          "name": "stderr"
        },
        {
          "output_type": "stream",
          "text": [
            "Overall Acc: \t 0.6988412574961724\n",
            "Mean Acc : \t 0.19633009766594767\n",
            "FreqW Acc : \t 0.5302999292371223\n",
            "Mean IoU : \t 0.13779950223383017\n"
          ],
          "name": "stdout"
        },
        {
          "output_type": "stream",
          "text": [
            "INFO:ptsemseg:Iter [510/3000]  Loss: 1.7336  Time/Image: 0.2401  lr=0.019962\n"
          ],
          "name": "stderr"
        },
        {
          "output_type": "stream",
          "text": [
            "Iter [510/3000]  Loss: 1.7336  Time/Image: 0.2401  lr=0.019962\n"
          ],
          "name": "stdout"
        },
        {
          "output_type": "stream",
          "text": [
            "INFO:ptsemseg:Iter [520/3000]  Loss: 1.6690  Time/Image: 0.2414  lr=0.019961\n"
          ],
          "name": "stderr"
        },
        {
          "output_type": "stream",
          "text": [
            "Iter [520/3000]  Loss: 1.6690  Time/Image: 0.2414  lr=0.019961\n"
          ],
          "name": "stdout"
        },
        {
          "output_type": "stream",
          "text": [
            "INFO:ptsemseg:Iter [530/3000]  Loss: 1.5858  Time/Image: 0.2427  lr=0.019960\n"
          ],
          "name": "stderr"
        },
        {
          "output_type": "stream",
          "text": [
            "Iter [530/3000]  Loss: 1.5858  Time/Image: 0.2427  lr=0.019960\n",
            "Iter [540/3000]  Loss: 1.5612  Time/Image: 0.2447  lr=0.019960\n"
          ],
          "name": "stdout"
        },
        {
          "output_type": "stream",
          "text": [
            "INFO:ptsemseg:Iter [540/3000]  Loss: 1.5612  Time/Image: 0.2447  lr=0.019960\n",
            "INFO:ptsemseg:Iter [550/3000]  Loss: 1.5569  Time/Image: 0.2473  lr=0.019959\n"
          ],
          "name": "stderr"
        },
        {
          "output_type": "stream",
          "text": [
            "Iter [550/3000]  Loss: 1.5569  Time/Image: 0.2473  lr=0.019959\n"
          ],
          "name": "stdout"
        },
        {
          "output_type": "stream",
          "text": [
            "INFO:ptsemseg:Iter [560/3000]  Loss: 1.5758  Time/Image: 0.2452  lr=0.019958\n"
          ],
          "name": "stderr"
        },
        {
          "output_type": "stream",
          "text": [
            "Iter [560/3000]  Loss: 1.5758  Time/Image: 0.2452  lr=0.019958\n"
          ],
          "name": "stdout"
        },
        {
          "output_type": "stream",
          "text": [
            "INFO:ptsemseg:Iter [570/3000]  Loss: 1.5662  Time/Image: 0.2476  lr=0.019957\n"
          ],
          "name": "stderr"
        },
        {
          "output_type": "stream",
          "text": [
            "Iter [570/3000]  Loss: 1.5662  Time/Image: 0.2476  lr=0.019957\n"
          ],
          "name": "stdout"
        },
        {
          "output_type": "stream",
          "text": [
            "INFO:ptsemseg:Iter [580/3000]  Loss: 1.5525  Time/Image: 0.2447  lr=0.019957\n"
          ],
          "name": "stderr"
        },
        {
          "output_type": "stream",
          "text": [
            "Iter [580/3000]  Loss: 1.5525  Time/Image: 0.2447  lr=0.019957\n"
          ],
          "name": "stdout"
        },
        {
          "output_type": "stream",
          "text": [
            "INFO:ptsemseg:Iter [590/3000]  Loss: 1.5546  Time/Image: 0.2469  lr=0.019956\n"
          ],
          "name": "stderr"
        },
        {
          "output_type": "stream",
          "text": [
            "Iter [590/3000]  Loss: 1.5546  Time/Image: 0.2469  lr=0.019956\n"
          ],
          "name": "stdout"
        },
        {
          "output_type": "stream",
          "text": [
            "INFO:ptsemseg:Iter [600/3000]  Loss: 1.5345  Time/Image: 0.2464  lr=0.019955\n"
          ],
          "name": "stderr"
        },
        {
          "output_type": "stream",
          "text": [
            "Iter [600/3000]  Loss: 1.5345  Time/Image: 0.2464  lr=0.019955\n"
          ],
          "name": "stdout"
        },
        {
          "output_type": "stream",
          "text": [
            "INFO:ptsemseg:Iter [610/3000]  Loss: 1.5400  Time/Image: 0.2445  lr=0.019954\n"
          ],
          "name": "stderr"
        },
        {
          "output_type": "stream",
          "text": [
            "Iter [610/3000]  Loss: 1.5400  Time/Image: 0.2445  lr=0.019954\n"
          ],
          "name": "stdout"
        },
        {
          "output_type": "stream",
          "text": [
            "INFO:ptsemseg:Iter [620/3000]  Loss: 1.5250  Time/Image: 0.2491  lr=0.019954\n"
          ],
          "name": "stderr"
        },
        {
          "output_type": "stream",
          "text": [
            "Iter [620/3000]  Loss: 1.5250  Time/Image: 0.2491  lr=0.019954\n"
          ],
          "name": "stdout"
        },
        {
          "output_type": "stream",
          "text": [
            "INFO:ptsemseg:Iter [630/3000]  Loss: 1.5390  Time/Image: 0.2440  lr=0.019953\n"
          ],
          "name": "stderr"
        },
        {
          "output_type": "stream",
          "text": [
            "Iter [630/3000]  Loss: 1.5390  Time/Image: 0.2440  lr=0.019953\n"
          ],
          "name": "stdout"
        },
        {
          "output_type": "stream",
          "text": [
            "INFO:ptsemseg:Iter [640/3000]  Loss: 1.5197  Time/Image: 0.2440  lr=0.019952\n"
          ],
          "name": "stderr"
        },
        {
          "output_type": "stream",
          "text": [
            "Iter [640/3000]  Loss: 1.5197  Time/Image: 0.2440  lr=0.019952\n"
          ],
          "name": "stdout"
        },
        {
          "output_type": "stream",
          "text": [
            "INFO:ptsemseg:Iter [650/3000]  Loss: 1.5186  Time/Image: 0.2462  lr=0.019951\n"
          ],
          "name": "stderr"
        },
        {
          "output_type": "stream",
          "text": [
            "Iter [650/3000]  Loss: 1.5186  Time/Image: 0.2462  lr=0.019951\n"
          ],
          "name": "stdout"
        },
        {
          "output_type": "stream",
          "text": [
            "INFO:ptsemseg:Iter [660/3000]  Loss: 1.5148  Time/Image: 0.2446  lr=0.019951\n"
          ],
          "name": "stderr"
        },
        {
          "output_type": "stream",
          "text": [
            "Iter [660/3000]  Loss: 1.5148  Time/Image: 0.2446  lr=0.019951\n"
          ],
          "name": "stdout"
        },
        {
          "output_type": "stream",
          "text": [
            "INFO:ptsemseg:Iter [670/3000]  Loss: 1.5179  Time/Image: 0.2440  lr=0.019950\n"
          ],
          "name": "stderr"
        },
        {
          "output_type": "stream",
          "text": [
            "Iter [670/3000]  Loss: 1.5179  Time/Image: 0.2440  lr=0.019950\n"
          ],
          "name": "stdout"
        },
        {
          "output_type": "stream",
          "text": [
            "INFO:ptsemseg:Iter [680/3000]  Loss: 1.5082  Time/Image: 0.2443  lr=0.019949\n"
          ],
          "name": "stderr"
        },
        {
          "output_type": "stream",
          "text": [
            "Iter [680/3000]  Loss: 1.5082  Time/Image: 0.2443  lr=0.019949\n"
          ],
          "name": "stdout"
        },
        {
          "output_type": "stream",
          "text": [
            "INFO:ptsemseg:Iter [690/3000]  Loss: 1.5162  Time/Image: 0.2451  lr=0.019948\n"
          ],
          "name": "stderr"
        },
        {
          "output_type": "stream",
          "text": [
            "Iter [690/3000]  Loss: 1.5162  Time/Image: 0.2451  lr=0.019948\n"
          ],
          "name": "stdout"
        },
        {
          "output_type": "stream",
          "text": [
            "INFO:ptsemseg:Iter [700/3000]  Loss: 1.5175  Time/Image: 0.2378  lr=0.019948\n"
          ],
          "name": "stderr"
        },
        {
          "output_type": "stream",
          "text": [
            "Iter [700/3000]  Loss: 1.5175  Time/Image: 0.2378  lr=0.019948\n"
          ],
          "name": "stdout"
        },
        {
          "output_type": "stream",
          "text": [
            "INFO:ptsemseg:Iter [710/3000]  Loss: 1.5194  Time/Image: 0.2331  lr=0.019947\n"
          ],
          "name": "stderr"
        },
        {
          "output_type": "stream",
          "text": [
            "Iter [710/3000]  Loss: 1.5194  Time/Image: 0.2331  lr=0.019947\n"
          ],
          "name": "stdout"
        },
        {
          "output_type": "stream",
          "text": [
            "INFO:ptsemseg:Iter [720/3000]  Loss: 1.5340  Time/Image: 0.2363  lr=0.019946\n"
          ],
          "name": "stderr"
        },
        {
          "output_type": "stream",
          "text": [
            "Iter [720/3000]  Loss: 1.5340  Time/Image: 0.2363  lr=0.019946\n"
          ],
          "name": "stdout"
        },
        {
          "output_type": "stream",
          "text": [
            "INFO:ptsemseg:Iter [730/3000]  Loss: 1.5404  Time/Image: 0.2416  lr=0.019945\n"
          ],
          "name": "stderr"
        },
        {
          "output_type": "stream",
          "text": [
            "Iter [730/3000]  Loss: 1.5404  Time/Image: 0.2416  lr=0.019945\n"
          ],
          "name": "stdout"
        },
        {
          "output_type": "stream",
          "text": [
            "INFO:ptsemseg:Iter [740/3000]  Loss: 1.5462  Time/Image: 0.2466  lr=0.019945\n"
          ],
          "name": "stderr"
        },
        {
          "output_type": "stream",
          "text": [
            "Iter [740/3000]  Loss: 1.5462  Time/Image: 0.2466  lr=0.019945\n"
          ],
          "name": "stdout"
        },
        {
          "output_type": "stream",
          "text": [
            "INFO:ptsemseg:Iter [750/3000]  Loss: 1.5426  Time/Image: 0.2367  lr=0.019944\n"
          ],
          "name": "stderr"
        },
        {
          "output_type": "stream",
          "text": [
            "Iter [750/3000]  Loss: 1.5426  Time/Image: 0.2367  lr=0.019944\n"
          ],
          "name": "stdout"
        },
        {
          "output_type": "stream",
          "text": [
            "INFO:ptsemseg:Iter [760/3000]  Loss: 1.5401  Time/Image: 0.2480  lr=0.019943\n"
          ],
          "name": "stderr"
        },
        {
          "output_type": "stream",
          "text": [
            "Iter [760/3000]  Loss: 1.5401  Time/Image: 0.2480  lr=0.019943\n"
          ],
          "name": "stdout"
        },
        {
          "output_type": "stream",
          "text": [
            "INFO:ptsemseg:Iter [770/3000]  Loss: 1.5424  Time/Image: 0.2422  lr=0.019942\n"
          ],
          "name": "stderr"
        },
        {
          "output_type": "stream",
          "text": [
            "Iter [770/3000]  Loss: 1.5424  Time/Image: 0.2422  lr=0.019942\n"
          ],
          "name": "stdout"
        },
        {
          "output_type": "stream",
          "text": [
            "INFO:ptsemseg:Iter [780/3000]  Loss: 1.5461  Time/Image: 0.2441  lr=0.019942\n"
          ],
          "name": "stderr"
        },
        {
          "output_type": "stream",
          "text": [
            "Iter [780/3000]  Loss: 1.5461  Time/Image: 0.2441  lr=0.019942\n"
          ],
          "name": "stdout"
        },
        {
          "output_type": "stream",
          "text": [
            "INFO:ptsemseg:Iter [790/3000]  Loss: 1.5423  Time/Image: 0.2417  lr=0.019941\n"
          ],
          "name": "stderr"
        },
        {
          "output_type": "stream",
          "text": [
            "Iter [790/3000]  Loss: 1.5423  Time/Image: 0.2417  lr=0.019941\n"
          ],
          "name": "stdout"
        },
        {
          "output_type": "stream",
          "text": [
            "INFO:ptsemseg:Iter [800/3000]  Loss: 1.5386  Time/Image: 0.2431  lr=0.019940\n"
          ],
          "name": "stderr"
        },
        {
          "output_type": "stream",
          "text": [
            "Iter [800/3000]  Loss: 1.5386  Time/Image: 0.2431  lr=0.019940\n"
          ],
          "name": "stdout"
        },
        {
          "output_type": "stream",
          "text": [
            "INFO:ptsemseg:Iter [810/3000]  Loss: 1.5363  Time/Image: 0.2444  lr=0.019939\n"
          ],
          "name": "stderr"
        },
        {
          "output_type": "stream",
          "text": [
            "Iter [810/3000]  Loss: 1.5363  Time/Image: 0.2444  lr=0.019939\n"
          ],
          "name": "stdout"
        },
        {
          "output_type": "stream",
          "text": [
            "INFO:ptsemseg:Iter [820/3000]  Loss: 1.5383  Time/Image: 0.2442  lr=0.019939\n"
          ],
          "name": "stderr"
        },
        {
          "output_type": "stream",
          "text": [
            "Iter [820/3000]  Loss: 1.5383  Time/Image: 0.2442  lr=0.019939\n"
          ],
          "name": "stdout"
        },
        {
          "output_type": "stream",
          "text": [
            "INFO:ptsemseg:Iter [830/3000]  Loss: 1.5361  Time/Image: 0.2426  lr=0.019938\n"
          ],
          "name": "stderr"
        },
        {
          "output_type": "stream",
          "text": [
            "Iter [830/3000]  Loss: 1.5361  Time/Image: 0.2426  lr=0.019938\n"
          ],
          "name": "stdout"
        },
        {
          "output_type": "stream",
          "text": [
            "INFO:ptsemseg:Iter [840/3000]  Loss: 1.5393  Time/Image: 0.2437  lr=0.019937\n"
          ],
          "name": "stderr"
        },
        {
          "output_type": "stream",
          "text": [
            "Iter [840/3000]  Loss: 1.5393  Time/Image: 0.2437  lr=0.019937\n"
          ],
          "name": "stdout"
        },
        {
          "output_type": "stream",
          "text": [
            "INFO:ptsemseg:Iter [850/3000]  Loss: 1.5353  Time/Image: 0.2439  lr=0.019936\n"
          ],
          "name": "stderr"
        },
        {
          "output_type": "stream",
          "text": [
            "Iter [850/3000]  Loss: 1.5353  Time/Image: 0.2439  lr=0.019936\n"
          ],
          "name": "stdout"
        },
        {
          "output_type": "stream",
          "text": [
            "INFO:ptsemseg:Iter [860/3000]  Loss: 1.5353  Time/Image: 0.2424  lr=0.019936\n"
          ],
          "name": "stderr"
        },
        {
          "output_type": "stream",
          "text": [
            "Iter [860/3000]  Loss: 1.5353  Time/Image: 0.2424  lr=0.019936\n"
          ],
          "name": "stdout"
        },
        {
          "output_type": "stream",
          "text": [
            "INFO:ptsemseg:Iter [870/3000]  Loss: 1.5313  Time/Image: 0.2433  lr=0.019935\n"
          ],
          "name": "stderr"
        },
        {
          "output_type": "stream",
          "text": [
            "Iter [870/3000]  Loss: 1.5313  Time/Image: 0.2433  lr=0.019935\n"
          ],
          "name": "stdout"
        },
        {
          "output_type": "stream",
          "text": [
            "INFO:ptsemseg:Iter [880/3000]  Loss: 1.5320  Time/Image: 0.2457  lr=0.019934\n"
          ],
          "name": "stderr"
        },
        {
          "output_type": "stream",
          "text": [
            "Iter [880/3000]  Loss: 1.5320  Time/Image: 0.2457  lr=0.019934\n"
          ],
          "name": "stdout"
        },
        {
          "output_type": "stream",
          "text": [
            "INFO:ptsemseg:Iter [890/3000]  Loss: 1.5277  Time/Image: 0.2423  lr=0.019933\n"
          ],
          "name": "stderr"
        },
        {
          "output_type": "stream",
          "text": [
            "Iter [890/3000]  Loss: 1.5277  Time/Image: 0.2423  lr=0.019933\n"
          ],
          "name": "stdout"
        },
        {
          "output_type": "stream",
          "text": [
            "INFO:ptsemseg:Iter [900/3000]  Loss: 1.5248  Time/Image: 0.2451  lr=0.019933\n"
          ],
          "name": "stderr"
        },
        {
          "output_type": "stream",
          "text": [
            "Iter [900/3000]  Loss: 1.5248  Time/Image: 0.2451  lr=0.019933\n"
          ],
          "name": "stdout"
        },
        {
          "output_type": "stream",
          "text": [
            "INFO:ptsemseg:Iter [910/3000]  Loss: 1.5206  Time/Image: 0.2409  lr=0.019932\n"
          ],
          "name": "stderr"
        },
        {
          "output_type": "stream",
          "text": [
            "Iter [910/3000]  Loss: 1.5206  Time/Image: 0.2409  lr=0.019932\n"
          ],
          "name": "stdout"
        },
        {
          "output_type": "stream",
          "text": [
            "INFO:ptsemseg:Iter [920/3000]  Loss: 1.5198  Time/Image: 0.2421  lr=0.019931\n"
          ],
          "name": "stderr"
        },
        {
          "output_type": "stream",
          "text": [
            "Iter [920/3000]  Loss: 1.5198  Time/Image: 0.2421  lr=0.019931\n"
          ],
          "name": "stdout"
        },
        {
          "output_type": "stream",
          "text": [
            "INFO:ptsemseg:Iter [930/3000]  Loss: 1.5162  Time/Image: 0.2436  lr=0.019930\n"
          ],
          "name": "stderr"
        },
        {
          "output_type": "stream",
          "text": [
            "Iter [930/3000]  Loss: 1.5162  Time/Image: 0.2436  lr=0.019930\n"
          ],
          "name": "stdout"
        },
        {
          "output_type": "stream",
          "text": [
            "INFO:ptsemseg:Iter [940/3000]  Loss: 1.5095  Time/Image: 0.2426  lr=0.019930\n"
          ],
          "name": "stderr"
        },
        {
          "output_type": "stream",
          "text": [
            "Iter [940/3000]  Loss: 1.5095  Time/Image: 0.2426  lr=0.019930\n"
          ],
          "name": "stdout"
        },
        {
          "output_type": "stream",
          "text": [
            "INFO:ptsemseg:Iter [950/3000]  Loss: 1.5115  Time/Image: 0.2418  lr=0.019929\n"
          ],
          "name": "stderr"
        },
        {
          "output_type": "stream",
          "text": [
            "Iter [950/3000]  Loss: 1.5115  Time/Image: 0.2418  lr=0.019929\n"
          ],
          "name": "stdout"
        },
        {
          "output_type": "stream",
          "text": [
            "INFO:ptsemseg:Iter [960/3000]  Loss: 1.5079  Time/Image: 0.2410  lr=0.019928\n"
          ],
          "name": "stderr"
        },
        {
          "output_type": "stream",
          "text": [
            "Iter [960/3000]  Loss: 1.5079  Time/Image: 0.2410  lr=0.019928\n"
          ],
          "name": "stdout"
        },
        {
          "output_type": "stream",
          "text": [
            "INFO:ptsemseg:Iter [970/3000]  Loss: 1.5031  Time/Image: 0.2410  lr=0.019927\n"
          ],
          "name": "stderr"
        },
        {
          "output_type": "stream",
          "text": [
            "Iter [970/3000]  Loss: 1.5031  Time/Image: 0.2410  lr=0.019927\n"
          ],
          "name": "stdout"
        },
        {
          "output_type": "stream",
          "text": [
            "INFO:ptsemseg:Iter [980/3000]  Loss: 1.4995  Time/Image: 0.2407  lr=0.019927\n"
          ],
          "name": "stderr"
        },
        {
          "output_type": "stream",
          "text": [
            "Iter [980/3000]  Loss: 1.4995  Time/Image: 0.2407  lr=0.019927\n"
          ],
          "name": "stdout"
        },
        {
          "output_type": "stream",
          "text": [
            "INFO:ptsemseg:Iter [990/3000]  Loss: 1.4981  Time/Image: 0.2397  lr=0.019926\n"
          ],
          "name": "stderr"
        },
        {
          "output_type": "stream",
          "text": [
            "Iter [990/3000]  Loss: 1.4981  Time/Image: 0.2397  lr=0.019926\n"
          ],
          "name": "stdout"
        },
        {
          "output_type": "stream",
          "text": [
            "INFO:ptsemseg:Iter [1000/3000]  Loss: 1.4924  Time/Image: 0.2435  lr=0.019925\n"
          ],
          "name": "stderr"
        },
        {
          "output_type": "stream",
          "text": [
            "Iter [1000/3000]  Loss: 1.4924  Time/Image: 0.2435  lr=0.019925\n"
          ],
          "name": "stdout"
        },
        {
          "output_type": "stream",
          "text": [
            "125it [03:03,  1.47s/it]\n",
            "INFO:ptsemseg:Iter 1000 Val Loss: 1.4668\n",
            "INFO:ptsemseg:Overall Acc: \t: 0.7343765671882762\n",
            "INFO:ptsemseg:Mean Acc : \t: 0.2133366644210212\n",
            "INFO:ptsemseg:FreqW Acc : \t: 0.5846362216040876\n",
            "INFO:ptsemseg:Mean IoU : \t: 0.15721261012073795\n",
            "INFO:ptsemseg:0: 0.8405690867316294\n",
            "INFO:ptsemseg:1: 0.07255300835857138\n",
            "INFO:ptsemseg:2: 0.5226211188880009\n",
            "INFO:ptsemseg:3: 0.0\n",
            "INFO:ptsemseg:4: 0.0\n",
            "INFO:ptsemseg:5: 0.0\n",
            "INFO:ptsemseg:6: 0.0\n",
            "INFO:ptsemseg:7: 0.0\n",
            "INFO:ptsemseg:8: 0.6237069085050364\n",
            "INFO:ptsemseg:9: 0.0039617108466270855\n",
            "INFO:ptsemseg:10: 0.5879029708326332\n",
            "INFO:ptsemseg:11: 0.0\n",
            "INFO:ptsemseg:12: 0.0\n",
            "INFO:ptsemseg:13: 0.33572478813152246\n",
            "INFO:ptsemseg:14: 0.0\n",
            "INFO:ptsemseg:15: 0.0\n",
            "INFO:ptsemseg:16: 0.0\n",
            "INFO:ptsemseg:17: 0.0\n",
            "INFO:ptsemseg:18: 0.0\n"
          ],
          "name": "stderr"
        },
        {
          "output_type": "stream",
          "text": [
            "Overall Acc: \t 0.7343765671882762\n",
            "Mean Acc : \t 0.2133366644210212\n",
            "FreqW Acc : \t 0.5846362216040876\n",
            "Mean IoU : \t 0.15721261012073795\n"
          ],
          "name": "stdout"
        },
        {
          "output_type": "stream",
          "text": [
            "INFO:ptsemseg:Iter [1010/3000]  Loss: 1.4453  Time/Image: 0.2422  lr=0.019924\n"
          ],
          "name": "stderr"
        },
        {
          "output_type": "stream",
          "text": [
            "Iter [1010/3000]  Loss: 1.4453  Time/Image: 0.2422  lr=0.019924\n"
          ],
          "name": "stdout"
        },
        {
          "output_type": "stream",
          "text": [
            "INFO:ptsemseg:Iter [1020/3000]  Loss: 1.4134  Time/Image: 0.2409  lr=0.019924\n"
          ],
          "name": "stderr"
        },
        {
          "output_type": "stream",
          "text": [
            "Iter [1020/3000]  Loss: 1.4134  Time/Image: 0.2409  lr=0.019924\n"
          ],
          "name": "stdout"
        },
        {
          "output_type": "stream",
          "text": [
            "INFO:ptsemseg:Iter [1030/3000]  Loss: 1.4059  Time/Image: 0.2422  lr=0.019923\n"
          ],
          "name": "stderr"
        },
        {
          "output_type": "stream",
          "text": [
            "Iter [1030/3000]  Loss: 1.4059  Time/Image: 0.2422  lr=0.019923\n"
          ],
          "name": "stdout"
        },
        {
          "output_type": "stream",
          "text": [
            "INFO:ptsemseg:Iter [1040/3000]  Loss: 1.3969  Time/Image: 0.2417  lr=0.019922\n"
          ],
          "name": "stderr"
        },
        {
          "output_type": "stream",
          "text": [
            "Iter [1040/3000]  Loss: 1.3969  Time/Image: 0.2417  lr=0.019922\n"
          ],
          "name": "stdout"
        },
        {
          "output_type": "stream",
          "text": [
            "INFO:ptsemseg:Iter [1050/3000]  Loss: 1.3854  Time/Image: 0.2422  lr=0.019921\n"
          ],
          "name": "stderr"
        },
        {
          "output_type": "stream",
          "text": [
            "Iter [1050/3000]  Loss: 1.3854  Time/Image: 0.2422  lr=0.019921\n"
          ],
          "name": "stdout"
        },
        {
          "output_type": "stream",
          "text": [
            "INFO:ptsemseg:Iter [1060/3000]  Loss: 1.4012  Time/Image: 0.2425  lr=0.019921\n"
          ],
          "name": "stderr"
        },
        {
          "output_type": "stream",
          "text": [
            "Iter [1060/3000]  Loss: 1.4012  Time/Image: 0.2425  lr=0.019921\n"
          ],
          "name": "stdout"
        },
        {
          "output_type": "stream",
          "text": [
            "INFO:ptsemseg:Iter [1070/3000]  Loss: 1.4034  Time/Image: 0.2406  lr=0.019920\n"
          ],
          "name": "stderr"
        },
        {
          "output_type": "stream",
          "text": [
            "Iter [1070/3000]  Loss: 1.4034  Time/Image: 0.2406  lr=0.019920\n"
          ],
          "name": "stdout"
        },
        {
          "output_type": "stream",
          "text": [
            "INFO:ptsemseg:Iter [1080/3000]  Loss: 1.3900  Time/Image: 0.2438  lr=0.019919\n"
          ],
          "name": "stderr"
        },
        {
          "output_type": "stream",
          "text": [
            "Iter [1080/3000]  Loss: 1.3900  Time/Image: 0.2438  lr=0.019919\n"
          ],
          "name": "stdout"
        },
        {
          "output_type": "stream",
          "text": [
            "INFO:ptsemseg:Iter [1090/3000]  Loss: 1.4075  Time/Image: 0.2440  lr=0.019918\n"
          ],
          "name": "stderr"
        },
        {
          "output_type": "stream",
          "text": [
            "Iter [1090/3000]  Loss: 1.4075  Time/Image: 0.2440  lr=0.019918\n"
          ],
          "name": "stdout"
        },
        {
          "output_type": "stream",
          "text": [
            "INFO:ptsemseg:Iter [1100/3000]  Loss: 1.4162  Time/Image: 0.2428  lr=0.019918\n"
          ],
          "name": "stderr"
        },
        {
          "output_type": "stream",
          "text": [
            "Iter [1100/3000]  Loss: 1.4162  Time/Image: 0.2428  lr=0.019918\n"
          ],
          "name": "stdout"
        },
        {
          "output_type": "stream",
          "text": [
            "INFO:ptsemseg:Iter [1110/3000]  Loss: 1.4172  Time/Image: 0.2435  lr=0.019917\n"
          ],
          "name": "stderr"
        },
        {
          "output_type": "stream",
          "text": [
            "Iter [1110/3000]  Loss: 1.4172  Time/Image: 0.2435  lr=0.019917\n"
          ],
          "name": "stdout"
        },
        {
          "output_type": "stream",
          "text": [
            "INFO:ptsemseg:Iter [1120/3000]  Loss: 1.4006  Time/Image: 0.2442  lr=0.019916\n"
          ],
          "name": "stderr"
        },
        {
          "output_type": "stream",
          "text": [
            "Iter [1120/3000]  Loss: 1.4006  Time/Image: 0.2442  lr=0.019916\n"
          ],
          "name": "stdout"
        },
        {
          "output_type": "stream",
          "text": [
            "INFO:ptsemseg:Iter [1130/3000]  Loss: 1.4269  Time/Image: 0.2446  lr=0.019915\n"
          ],
          "name": "stderr"
        },
        {
          "output_type": "stream",
          "text": [
            "Iter [1130/3000]  Loss: 1.4269  Time/Image: 0.2446  lr=0.019915\n"
          ],
          "name": "stdout"
        },
        {
          "output_type": "stream",
          "text": [
            "INFO:ptsemseg:Iter [1140/3000]  Loss: 1.4100  Time/Image: 0.2471  lr=0.019915\n"
          ],
          "name": "stderr"
        },
        {
          "output_type": "stream",
          "text": [
            "Iter [1140/3000]  Loss: 1.4100  Time/Image: 0.2471  lr=0.019915\n"
          ],
          "name": "stdout"
        },
        {
          "output_type": "stream",
          "text": [
            "INFO:ptsemseg:Iter [1150/3000]  Loss: 1.4188  Time/Image: 0.2447  lr=0.019914\n"
          ],
          "name": "stderr"
        },
        {
          "output_type": "stream",
          "text": [
            "Iter [1150/3000]  Loss: 1.4188  Time/Image: 0.2447  lr=0.019914\n"
          ],
          "name": "stdout"
        },
        {
          "output_type": "stream",
          "text": [
            "INFO:ptsemseg:Iter [1160/3000]  Loss: 1.4146  Time/Image: 0.2429  lr=0.019913\n"
          ],
          "name": "stderr"
        },
        {
          "output_type": "stream",
          "text": [
            "Iter [1160/3000]  Loss: 1.4146  Time/Image: 0.2429  lr=0.019913\n"
          ],
          "name": "stdout"
        },
        {
          "output_type": "stream",
          "text": [
            "INFO:ptsemseg:Iter [1170/3000]  Loss: 1.4181  Time/Image: 0.2448  lr=0.019912\n"
          ],
          "name": "stderr"
        },
        {
          "output_type": "stream",
          "text": [
            "Iter [1170/3000]  Loss: 1.4181  Time/Image: 0.2448  lr=0.019912\n"
          ],
          "name": "stdout"
        },
        {
          "output_type": "stream",
          "text": [
            "INFO:ptsemseg:Iter [1180/3000]  Loss: 1.4160  Time/Image: 0.2479  lr=0.019912\n"
          ],
          "name": "stderr"
        },
        {
          "output_type": "stream",
          "text": [
            "Iter [1180/3000]  Loss: 1.4160  Time/Image: 0.2479  lr=0.019912\n"
          ],
          "name": "stdout"
        },
        {
          "output_type": "stream",
          "text": [
            "INFO:ptsemseg:Iter [1190/3000]  Loss: 1.4140  Time/Image: 0.2447  lr=0.019911\n"
          ],
          "name": "stderr"
        },
        {
          "output_type": "stream",
          "text": [
            "Iter [1190/3000]  Loss: 1.4140  Time/Image: 0.2447  lr=0.019911\n"
          ],
          "name": "stdout"
        },
        {
          "output_type": "stream",
          "text": [
            "INFO:ptsemseg:Iter [1200/3000]  Loss: 1.4071  Time/Image: 0.2445  lr=0.019910\n"
          ],
          "name": "stderr"
        },
        {
          "output_type": "stream",
          "text": [
            "Iter [1200/3000]  Loss: 1.4071  Time/Image: 0.2445  lr=0.019910\n"
          ],
          "name": "stdout"
        },
        {
          "output_type": "stream",
          "text": [
            "INFO:ptsemseg:Iter [1210/3000]  Loss: 1.4048  Time/Image: 0.2469  lr=0.019909\n"
          ],
          "name": "stderr"
        },
        {
          "output_type": "stream",
          "text": [
            "Iter [1210/3000]  Loss: 1.4048  Time/Image: 0.2469  lr=0.019909\n"
          ],
          "name": "stdout"
        },
        {
          "output_type": "stream",
          "text": [
            "INFO:ptsemseg:Iter [1220/3000]  Loss: 1.4059  Time/Image: 0.2430  lr=0.019909\n"
          ],
          "name": "stderr"
        },
        {
          "output_type": "stream",
          "text": [
            "Iter [1220/3000]  Loss: 1.4059  Time/Image: 0.2430  lr=0.019909\n"
          ],
          "name": "stdout"
        },
        {
          "output_type": "stream",
          "text": [
            "INFO:ptsemseg:Iter [1230/3000]  Loss: 1.4050  Time/Image: 0.2450  lr=0.019908\n"
          ],
          "name": "stderr"
        },
        {
          "output_type": "stream",
          "text": [
            "Iter [1230/3000]  Loss: 1.4050  Time/Image: 0.2450  lr=0.019908\n"
          ],
          "name": "stdout"
        },
        {
          "output_type": "stream",
          "text": [
            "INFO:ptsemseg:Iter [1240/3000]  Loss: 1.4053  Time/Image: 0.2420  lr=0.019907\n"
          ],
          "name": "stderr"
        },
        {
          "output_type": "stream",
          "text": [
            "Iter [1240/3000]  Loss: 1.4053  Time/Image: 0.2420  lr=0.019907\n"
          ],
          "name": "stdout"
        },
        {
          "output_type": "stream",
          "text": [
            "INFO:ptsemseg:Iter [1250/3000]  Loss: 1.4014  Time/Image: 0.2423  lr=0.019906\n"
          ],
          "name": "stderr"
        },
        {
          "output_type": "stream",
          "text": [
            "Iter [1250/3000]  Loss: 1.4014  Time/Image: 0.2423  lr=0.019906\n"
          ],
          "name": "stdout"
        },
        {
          "output_type": "stream",
          "text": [
            "INFO:ptsemseg:Iter [1260/3000]  Loss: 1.4050  Time/Image: 0.2423  lr=0.019906\n"
          ],
          "name": "stderr"
        },
        {
          "output_type": "stream",
          "text": [
            "Iter [1260/3000]  Loss: 1.4050  Time/Image: 0.2423  lr=0.019906\n"
          ],
          "name": "stdout"
        },
        {
          "output_type": "stream",
          "text": [
            "INFO:ptsemseg:Iter [1270/3000]  Loss: 1.4069  Time/Image: 0.2464  lr=0.019905\n"
          ],
          "name": "stderr"
        },
        {
          "output_type": "stream",
          "text": [
            "Iter [1270/3000]  Loss: 1.4069  Time/Image: 0.2464  lr=0.019905\n"
          ],
          "name": "stdout"
        },
        {
          "output_type": "stream",
          "text": [
            "INFO:ptsemseg:Iter [1280/3000]  Loss: 1.4080  Time/Image: 0.2481  lr=0.019904\n"
          ],
          "name": "stderr"
        },
        {
          "output_type": "stream",
          "text": [
            "Iter [1280/3000]  Loss: 1.4080  Time/Image: 0.2481  lr=0.019904\n"
          ],
          "name": "stdout"
        },
        {
          "output_type": "stream",
          "text": [
            "INFO:ptsemseg:Iter [1290/3000]  Loss: 1.4172  Time/Image: 0.2508  lr=0.019903\n"
          ],
          "name": "stderr"
        },
        {
          "output_type": "stream",
          "text": [
            "Iter [1290/3000]  Loss: 1.4172  Time/Image: 0.2508  lr=0.019903\n"
          ],
          "name": "stdout"
        },
        {
          "output_type": "stream",
          "text": [
            "INFO:ptsemseg:Iter [1300/3000]  Loss: 1.4152  Time/Image: 0.2475  lr=0.019903\n"
          ],
          "name": "stderr"
        },
        {
          "output_type": "stream",
          "text": [
            "Iter [1300/3000]  Loss: 1.4152  Time/Image: 0.2475  lr=0.019903\n"
          ],
          "name": "stdout"
        },
        {
          "output_type": "stream",
          "text": [
            "INFO:ptsemseg:Iter [1310/3000]  Loss: 1.4198  Time/Image: 0.2468  lr=0.019902\n"
          ],
          "name": "stderr"
        },
        {
          "output_type": "stream",
          "text": [
            "Iter [1310/3000]  Loss: 1.4198  Time/Image: 0.2468  lr=0.019902\n"
          ],
          "name": "stdout"
        },
        {
          "output_type": "stream",
          "text": [
            "INFO:ptsemseg:Iter [1320/3000]  Loss: 1.4197  Time/Image: 0.2521  lr=0.019901\n"
          ],
          "name": "stderr"
        },
        {
          "output_type": "stream",
          "text": [
            "Iter [1320/3000]  Loss: 1.4197  Time/Image: 0.2521  lr=0.019901\n"
          ],
          "name": "stdout"
        },
        {
          "output_type": "stream",
          "text": [
            "INFO:ptsemseg:Iter [1330/3000]  Loss: 1.4183  Time/Image: 0.2507  lr=0.019900\n"
          ],
          "name": "stderr"
        },
        {
          "output_type": "stream",
          "text": [
            "Iter [1330/3000]  Loss: 1.4183  Time/Image: 0.2507  lr=0.019900\n"
          ],
          "name": "stdout"
        },
        {
          "output_type": "stream",
          "text": [
            "INFO:ptsemseg:Iter [1340/3000]  Loss: 1.4210  Time/Image: 0.2441  lr=0.019900\n"
          ],
          "name": "stderr"
        },
        {
          "output_type": "stream",
          "text": [
            "Iter [1340/3000]  Loss: 1.4210  Time/Image: 0.2441  lr=0.019900\n"
          ],
          "name": "stdout"
        },
        {
          "output_type": "stream",
          "text": [
            "INFO:ptsemseg:Iter [1350/3000]  Loss: 1.4201  Time/Image: 0.2454  lr=0.019899\n"
          ],
          "name": "stderr"
        },
        {
          "output_type": "stream",
          "text": [
            "Iter [1350/3000]  Loss: 1.4201  Time/Image: 0.2454  lr=0.019899\n"
          ],
          "name": "stdout"
        },
        {
          "output_type": "stream",
          "text": [
            "INFO:ptsemseg:Iter [1360/3000]  Loss: 1.4181  Time/Image: 0.2467  lr=0.019898\n"
          ],
          "name": "stderr"
        },
        {
          "output_type": "stream",
          "text": [
            "Iter [1360/3000]  Loss: 1.4181  Time/Image: 0.2467  lr=0.019898\n"
          ],
          "name": "stdout"
        },
        {
          "output_type": "stream",
          "text": [
            "INFO:ptsemseg:Iter [1370/3000]  Loss: 1.4234  Time/Image: 0.2416  lr=0.019897\n"
          ],
          "name": "stderr"
        },
        {
          "output_type": "stream",
          "text": [
            "Iter [1370/3000]  Loss: 1.4234  Time/Image: 0.2416  lr=0.019897\n"
          ],
          "name": "stdout"
        },
        {
          "output_type": "stream",
          "text": [
            "INFO:ptsemseg:Iter [1380/3000]  Loss: 1.4212  Time/Image: 0.2462  lr=0.019897\n"
          ],
          "name": "stderr"
        },
        {
          "output_type": "stream",
          "text": [
            "Iter [1380/3000]  Loss: 1.4212  Time/Image: 0.2462  lr=0.019897\n"
          ],
          "name": "stdout"
        },
        {
          "output_type": "stream",
          "text": [
            "INFO:ptsemseg:Iter [1390/3000]  Loss: 1.4204  Time/Image: 0.2520  lr=0.019896\n"
          ],
          "name": "stderr"
        },
        {
          "output_type": "stream",
          "text": [
            "Iter [1390/3000]  Loss: 1.4204  Time/Image: 0.2520  lr=0.019896\n"
          ],
          "name": "stdout"
        },
        {
          "output_type": "stream",
          "text": [
            "INFO:ptsemseg:Iter [1400/3000]  Loss: 1.4203  Time/Image: 0.2522  lr=0.019895\n"
          ],
          "name": "stderr"
        },
        {
          "output_type": "stream",
          "text": [
            "Iter [1400/3000]  Loss: 1.4203  Time/Image: 0.2522  lr=0.019895\n"
          ],
          "name": "stdout"
        },
        {
          "output_type": "stream",
          "text": [
            "INFO:ptsemseg:Iter [1410/3000]  Loss: 1.4164  Time/Image: 0.2527  lr=0.019894\n"
          ],
          "name": "stderr"
        },
        {
          "output_type": "stream",
          "text": [
            "Iter [1410/3000]  Loss: 1.4164  Time/Image: 0.2527  lr=0.019894\n"
          ],
          "name": "stdout"
        },
        {
          "output_type": "stream",
          "text": [
            "INFO:ptsemseg:Iter [1420/3000]  Loss: 1.4182  Time/Image: 0.2446  lr=0.019894\n"
          ],
          "name": "stderr"
        },
        {
          "output_type": "stream",
          "text": [
            "Iter [1420/3000]  Loss: 1.4182  Time/Image: 0.2446  lr=0.019894\n"
          ],
          "name": "stdout"
        },
        {
          "output_type": "stream",
          "text": [
            "INFO:ptsemseg:Iter [1430/3000]  Loss: 1.4154  Time/Image: 0.2478  lr=0.019893\n"
          ],
          "name": "stderr"
        },
        {
          "output_type": "stream",
          "text": [
            "Iter [1430/3000]  Loss: 1.4154  Time/Image: 0.2478  lr=0.019893\n"
          ],
          "name": "stdout"
        },
        {
          "output_type": "stream",
          "text": [
            "INFO:ptsemseg:Iter [1440/3000]  Loss: 1.4122  Time/Image: 0.2488  lr=0.019892\n"
          ],
          "name": "stderr"
        },
        {
          "output_type": "stream",
          "text": [
            "Iter [1440/3000]  Loss: 1.4122  Time/Image: 0.2488  lr=0.019892\n"
          ],
          "name": "stdout"
        },
        {
          "output_type": "stream",
          "text": [
            "INFO:ptsemseg:Iter [1450/3000]  Loss: 1.4118  Time/Image: 0.2484  lr=0.019891\n"
          ],
          "name": "stderr"
        },
        {
          "output_type": "stream",
          "text": [
            "Iter [1450/3000]  Loss: 1.4118  Time/Image: 0.2484  lr=0.019891\n"
          ],
          "name": "stdout"
        },
        {
          "output_type": "stream",
          "text": [
            "INFO:ptsemseg:Iter [1460/3000]  Loss: 1.4109  Time/Image: 0.2472  lr=0.019891\n"
          ],
          "name": "stderr"
        },
        {
          "output_type": "stream",
          "text": [
            "Iter [1460/3000]  Loss: 1.4109  Time/Image: 0.2472  lr=0.019891\n"
          ],
          "name": "stdout"
        },
        {
          "output_type": "stream",
          "text": [
            "INFO:ptsemseg:Iter [1470/3000]  Loss: 1.4103  Time/Image: 0.2492  lr=0.019890\n"
          ],
          "name": "stderr"
        },
        {
          "output_type": "stream",
          "text": [
            "Iter [1470/3000]  Loss: 1.4103  Time/Image: 0.2492  lr=0.019890\n"
          ],
          "name": "stdout"
        },
        {
          "output_type": "stream",
          "text": [
            "INFO:ptsemseg:Iter [1480/3000]  Loss: 1.4061  Time/Image: 0.2429  lr=0.019889\n"
          ],
          "name": "stderr"
        },
        {
          "output_type": "stream",
          "text": [
            "Iter [1480/3000]  Loss: 1.4061  Time/Image: 0.2429  lr=0.019889\n"
          ],
          "name": "stdout"
        },
        {
          "output_type": "stream",
          "text": [
            "INFO:ptsemseg:Iter [1490/3000]  Loss: 1.4063  Time/Image: 0.2396  lr=0.019888\n"
          ],
          "name": "stderr"
        },
        {
          "output_type": "stream",
          "text": [
            "Iter [1490/3000]  Loss: 1.4063  Time/Image: 0.2396  lr=0.019888\n"
          ],
          "name": "stdout"
        },
        {
          "output_type": "stream",
          "text": [
            "INFO:ptsemseg:Iter [1500/3000]  Loss: 1.4041  Time/Image: 0.2452  lr=0.019888\n"
          ],
          "name": "stderr"
        },
        {
          "output_type": "stream",
          "text": [
            "Iter [1500/3000]  Loss: 1.4041  Time/Image: 0.2452  lr=0.019888\n"
          ],
          "name": "stdout"
        },
        {
          "output_type": "stream",
          "text": [
            "125it [03:06,  1.49s/it]\n",
            "INFO:ptsemseg:Iter 1500 Val Loss: 1.5430\n",
            "INFO:ptsemseg:Overall Acc: \t: 0.7637814159709925\n",
            "INFO:ptsemseg:Mean Acc : \t: 0.2517269567638436\n",
            "INFO:ptsemseg:FreqW Acc : \t: 0.6237676873666324\n",
            "INFO:ptsemseg:Mean IoU : \t: 0.18790364191349926\n",
            "INFO:ptsemseg:0: 0.8424299119495263\n",
            "INFO:ptsemseg:1: 0.06665728480694465\n",
            "INFO:ptsemseg:2: 0.6083592336632929\n",
            "INFO:ptsemseg:3: 0.0\n",
            "INFO:ptsemseg:4: 0.0009222885392016542\n",
            "INFO:ptsemseg:5: 0.0\n",
            "INFO:ptsemseg:6: 0.0\n",
            "INFO:ptsemseg:7: 0.009889922625956303\n",
            "INFO:ptsemseg:8: 0.6811476425067746\n",
            "INFO:ptsemseg:9: 0.2594763839545422\n",
            "INFO:ptsemseg:10: 0.7070986909347962\n",
            "INFO:ptsemseg:11: 0.0\n",
            "INFO:ptsemseg:12: 0.0\n",
            "INFO:ptsemseg:13: 0.3941878373754511\n",
            "INFO:ptsemseg:14: 0.0\n",
            "INFO:ptsemseg:15: 0.0\n",
            "INFO:ptsemseg:16: 0.0\n",
            "INFO:ptsemseg:17: 0.0\n",
            "INFO:ptsemseg:18: 0.0\n"
          ],
          "name": "stderr"
        },
        {
          "output_type": "stream",
          "text": [
            "Overall Acc: \t 0.7637814159709925\n",
            "Mean Acc : \t 0.2517269567638436\n",
            "FreqW Acc : \t 0.6237676873666324\n",
            "Mean IoU : \t 0.18790364191349926\n"
          ],
          "name": "stdout"
        },
        {
          "output_type": "stream",
          "text": [
            "INFO:ptsemseg:Iter [1510/3000]  Loss: 1.5369  Time/Image: 0.2516  lr=0.019887\n"
          ],
          "name": "stderr"
        },
        {
          "output_type": "stream",
          "text": [
            "Iter [1510/3000]  Loss: 1.5369  Time/Image: 0.2516  lr=0.019887\n"
          ],
          "name": "stdout"
        },
        {
          "output_type": "stream",
          "text": [
            "INFO:ptsemseg:Iter [1520/3000]  Loss: 1.4624  Time/Image: 0.2481  lr=0.019886\n"
          ],
          "name": "stderr"
        },
        {
          "output_type": "stream",
          "text": [
            "Iter [1520/3000]  Loss: 1.4624  Time/Image: 0.2481  lr=0.019886\n"
          ],
          "name": "stdout"
        },
        {
          "output_type": "stream",
          "text": [
            "INFO:ptsemseg:Iter [1530/3000]  Loss: 1.3735  Time/Image: 0.2479  lr=0.019885\n"
          ],
          "name": "stderr"
        },
        {
          "output_type": "stream",
          "text": [
            "Iter [1530/3000]  Loss: 1.3735  Time/Image: 0.2479  lr=0.019885\n"
          ],
          "name": "stdout"
        },
        {
          "output_type": "stream",
          "text": [
            "INFO:ptsemseg:Iter [1540/3000]  Loss: 1.3907  Time/Image: 0.2486  lr=0.019885\n"
          ],
          "name": "stderr"
        },
        {
          "output_type": "stream",
          "text": [
            "Iter [1540/3000]  Loss: 1.3907  Time/Image: 0.2486  lr=0.019885\n"
          ],
          "name": "stdout"
        },
        {
          "output_type": "stream",
          "text": [
            "INFO:ptsemseg:Iter [1550/3000]  Loss: 1.3770  Time/Image: 0.2482  lr=0.019884\n"
          ],
          "name": "stderr"
        },
        {
          "output_type": "stream",
          "text": [
            "Iter [1550/3000]  Loss: 1.3770  Time/Image: 0.2482  lr=0.019884\n"
          ],
          "name": "stdout"
        },
        {
          "output_type": "stream",
          "text": [
            "INFO:ptsemseg:Iter [1560/3000]  Loss: 1.3848  Time/Image: 0.2465  lr=0.019883\n"
          ],
          "name": "stderr"
        },
        {
          "output_type": "stream",
          "text": [
            "Iter [1560/3000]  Loss: 1.3848  Time/Image: 0.2465  lr=0.019883\n"
          ],
          "name": "stdout"
        },
        {
          "output_type": "stream",
          "text": [
            "INFO:ptsemseg:Iter [1570/3000]  Loss: 1.3734  Time/Image: 0.2476  lr=0.019882\n"
          ],
          "name": "stderr"
        },
        {
          "output_type": "stream",
          "text": [
            "Iter [1570/3000]  Loss: 1.3734  Time/Image: 0.2476  lr=0.019882\n"
          ],
          "name": "stdout"
        },
        {
          "output_type": "stream",
          "text": [
            "INFO:ptsemseg:Iter [1580/3000]  Loss: 1.3670  Time/Image: 0.2467  lr=0.019882\n"
          ],
          "name": "stderr"
        },
        {
          "output_type": "stream",
          "text": [
            "Iter [1580/3000]  Loss: 1.3670  Time/Image: 0.2467  lr=0.019882\n"
          ],
          "name": "stdout"
        },
        {
          "output_type": "stream",
          "text": [
            "INFO:ptsemseg:Iter [1590/3000]  Loss: 1.3587  Time/Image: 0.2449  lr=0.019881\n"
          ],
          "name": "stderr"
        },
        {
          "output_type": "stream",
          "text": [
            "Iter [1590/3000]  Loss: 1.3587  Time/Image: 0.2449  lr=0.019881\n"
          ],
          "name": "stdout"
        },
        {
          "output_type": "stream",
          "text": [
            "INFO:ptsemseg:Iter [1600/3000]  Loss: 1.3611  Time/Image: 0.2448  lr=0.019880\n"
          ],
          "name": "stderr"
        },
        {
          "output_type": "stream",
          "text": [
            "Iter [1600/3000]  Loss: 1.3611  Time/Image: 0.2448  lr=0.019880\n"
          ],
          "name": "stdout"
        },
        {
          "output_type": "stream",
          "text": [
            "INFO:ptsemseg:Iter [1610/3000]  Loss: 1.3450  Time/Image: 0.2516  lr=0.019879\n"
          ],
          "name": "stderr"
        },
        {
          "output_type": "stream",
          "text": [
            "Iter [1610/3000]  Loss: 1.3450  Time/Image: 0.2516  lr=0.019879\n"
          ],
          "name": "stdout"
        },
        {
          "output_type": "stream",
          "text": [
            "INFO:ptsemseg:Iter [1620/3000]  Loss: 1.3616  Time/Image: 0.2458  lr=0.019879\n"
          ],
          "name": "stderr"
        },
        {
          "output_type": "stream",
          "text": [
            "Iter [1620/3000]  Loss: 1.3616  Time/Image: 0.2458  lr=0.019879\n"
          ],
          "name": "stdout"
        },
        {
          "output_type": "stream",
          "text": [
            "INFO:ptsemseg:Iter [1630/3000]  Loss: 1.3418  Time/Image: 0.2466  lr=0.019878\n"
          ],
          "name": "stderr"
        },
        {
          "output_type": "stream",
          "text": [
            "Iter [1630/3000]  Loss: 1.3418  Time/Image: 0.2466  lr=0.019878\n"
          ],
          "name": "stdout"
        },
        {
          "output_type": "stream",
          "text": [
            "INFO:ptsemseg:Iter [1640/3000]  Loss: 1.3448  Time/Image: 0.2463  lr=0.019877\n"
          ],
          "name": "stderr"
        },
        {
          "output_type": "stream",
          "text": [
            "Iter [1640/3000]  Loss: 1.3448  Time/Image: 0.2463  lr=0.019877\n"
          ],
          "name": "stdout"
        },
        {
          "output_type": "stream",
          "text": [
            "INFO:ptsemseg:Iter [1650/3000]  Loss: 1.3483  Time/Image: 0.2454  lr=0.019876\n"
          ],
          "name": "stderr"
        },
        {
          "output_type": "stream",
          "text": [
            "Iter [1650/3000]  Loss: 1.3483  Time/Image: 0.2454  lr=0.019876\n"
          ],
          "name": "stdout"
        },
        {
          "output_type": "stream",
          "text": [
            "INFO:ptsemseg:Iter [1660/3000]  Loss: 1.3538  Time/Image: 0.2508  lr=0.019876\n"
          ],
          "name": "stderr"
        },
        {
          "output_type": "stream",
          "text": [
            "Iter [1660/3000]  Loss: 1.3538  Time/Image: 0.2508  lr=0.019876\n"
          ],
          "name": "stdout"
        },
        {
          "output_type": "stream",
          "text": [
            "INFO:ptsemseg:Iter [1670/3000]  Loss: 1.3557  Time/Image: 0.2490  lr=0.019875\n"
          ],
          "name": "stderr"
        },
        {
          "output_type": "stream",
          "text": [
            "Iter [1670/3000]  Loss: 1.3557  Time/Image: 0.2490  lr=0.019875\n"
          ],
          "name": "stdout"
        },
        {
          "output_type": "stream",
          "text": [
            "INFO:ptsemseg:Iter [1680/3000]  Loss: 1.3540  Time/Image: 0.2464  lr=0.019874\n"
          ],
          "name": "stderr"
        },
        {
          "output_type": "stream",
          "text": [
            "Iter [1680/3000]  Loss: 1.3540  Time/Image: 0.2464  lr=0.019874\n"
          ],
          "name": "stdout"
        },
        {
          "output_type": "stream",
          "text": [
            "INFO:ptsemseg:Iter [1690/3000]  Loss: 1.3524  Time/Image: 0.2483  lr=0.019873\n"
          ],
          "name": "stderr"
        },
        {
          "output_type": "stream",
          "text": [
            "Iter [1690/3000]  Loss: 1.3524  Time/Image: 0.2483  lr=0.019873\n"
          ],
          "name": "stdout"
        },
        {
          "output_type": "stream",
          "text": [
            "INFO:ptsemseg:Iter [1700/3000]  Loss: 1.3496  Time/Image: 0.2454  lr=0.019873\n"
          ],
          "name": "stderr"
        },
        {
          "output_type": "stream",
          "text": [
            "Iter [1700/3000]  Loss: 1.3496  Time/Image: 0.2454  lr=0.019873\n"
          ],
          "name": "stdout"
        },
        {
          "output_type": "stream",
          "text": [
            "INFO:ptsemseg:Iter [1710/3000]  Loss: 1.3623  Time/Image: 0.2489  lr=0.019872\n"
          ],
          "name": "stderr"
        },
        {
          "output_type": "stream",
          "text": [
            "Iter [1710/3000]  Loss: 1.3623  Time/Image: 0.2489  lr=0.019872\n"
          ],
          "name": "stdout"
        },
        {
          "output_type": "stream",
          "text": [
            "INFO:ptsemseg:Iter [1720/3000]  Loss: 1.3576  Time/Image: 0.2483  lr=0.019871\n"
          ],
          "name": "stderr"
        },
        {
          "output_type": "stream",
          "text": [
            "Iter [1720/3000]  Loss: 1.3576  Time/Image: 0.2483  lr=0.019871\n"
          ],
          "name": "stdout"
        },
        {
          "output_type": "stream",
          "text": [
            "INFO:ptsemseg:Iter [1730/3000]  Loss: 1.3748  Time/Image: 0.2505  lr=0.019870\n"
          ],
          "name": "stderr"
        },
        {
          "output_type": "stream",
          "text": [
            "Iter [1730/3000]  Loss: 1.3748  Time/Image: 0.2505  lr=0.019870\n"
          ],
          "name": "stdout"
        },
        {
          "output_type": "stream",
          "text": [
            "INFO:ptsemseg:Iter [1740/3000]  Loss: 1.3720  Time/Image: 0.2457  lr=0.019870\n"
          ],
          "name": "stderr"
        },
        {
          "output_type": "stream",
          "text": [
            "Iter [1740/3000]  Loss: 1.3720  Time/Image: 0.2457  lr=0.019870\n"
          ],
          "name": "stdout"
        },
        {
          "output_type": "stream",
          "text": [
            "INFO:ptsemseg:Iter [1750/3000]  Loss: 1.3770  Time/Image: 0.2463  lr=0.019869\n"
          ],
          "name": "stderr"
        },
        {
          "output_type": "stream",
          "text": [
            "Iter [1750/3000]  Loss: 1.3770  Time/Image: 0.2463  lr=0.019869\n"
          ],
          "name": "stdout"
        },
        {
          "output_type": "stream",
          "text": [
            "INFO:ptsemseg:Iter [1760/3000]  Loss: 1.3727  Time/Image: 0.2444  lr=0.019868\n"
          ],
          "name": "stderr"
        },
        {
          "output_type": "stream",
          "text": [
            "Iter [1760/3000]  Loss: 1.3727  Time/Image: 0.2444  lr=0.019868\n"
          ],
          "name": "stdout"
        },
        {
          "output_type": "stream",
          "text": [
            "INFO:ptsemseg:Iter [1770/3000]  Loss: 1.3761  Time/Image: 0.2490  lr=0.019867\n"
          ],
          "name": "stderr"
        },
        {
          "output_type": "stream",
          "text": [
            "Iter [1770/3000]  Loss: 1.3761  Time/Image: 0.2490  lr=0.019867\n"
          ],
          "name": "stdout"
        },
        {
          "output_type": "stream",
          "text": [
            "INFO:ptsemseg:Iter [1780/3000]  Loss: 1.3834  Time/Image: 0.2483  lr=0.019867\n"
          ],
          "name": "stderr"
        },
        {
          "output_type": "stream",
          "text": [
            "Iter [1780/3000]  Loss: 1.3834  Time/Image: 0.2483  lr=0.019867\n"
          ],
          "name": "stdout"
        },
        {
          "output_type": "stream",
          "text": [
            "INFO:ptsemseg:Iter [1790/3000]  Loss: 1.3800  Time/Image: 0.2481  lr=0.019866\n"
          ],
          "name": "stderr"
        },
        {
          "output_type": "stream",
          "text": [
            "Iter [1790/3000]  Loss: 1.3800  Time/Image: 0.2481  lr=0.019866\n"
          ],
          "name": "stdout"
        },
        {
          "output_type": "stream",
          "text": [
            "INFO:ptsemseg:Iter [1800/3000]  Loss: 1.3921  Time/Image: 0.2458  lr=0.019865\n"
          ],
          "name": "stderr"
        },
        {
          "output_type": "stream",
          "text": [
            "Iter [1800/3000]  Loss: 1.3921  Time/Image: 0.2458  lr=0.019865\n"
          ],
          "name": "stdout"
        },
        {
          "output_type": "stream",
          "text": [
            "INFO:ptsemseg:Iter [1810/3000]  Loss: 1.3909  Time/Image: 0.2498  lr=0.019864\n"
          ],
          "name": "stderr"
        },
        {
          "output_type": "stream",
          "text": [
            "Iter [1810/3000]  Loss: 1.3909  Time/Image: 0.2498  lr=0.019864\n"
          ],
          "name": "stdout"
        },
        {
          "output_type": "stream",
          "text": [
            "INFO:ptsemseg:Iter [1820/3000]  Loss: 1.3883  Time/Image: 0.2470  lr=0.019864\n"
          ],
          "name": "stderr"
        },
        {
          "output_type": "stream",
          "text": [
            "Iter [1820/3000]  Loss: 1.3883  Time/Image: 0.2470  lr=0.019864\n"
          ],
          "name": "stdout"
        },
        {
          "output_type": "stream",
          "text": [
            "INFO:ptsemseg:Iter [1830/3000]  Loss: 1.3843  Time/Image: 0.2471  lr=0.019863\n"
          ],
          "name": "stderr"
        },
        {
          "output_type": "stream",
          "text": [
            "Iter [1830/3000]  Loss: 1.3843  Time/Image: 0.2471  lr=0.019863\n"
          ],
          "name": "stdout"
        },
        {
          "output_type": "stream",
          "text": [
            "INFO:ptsemseg:Iter [1840/3000]  Loss: 1.3855  Time/Image: 0.2420  lr=0.019862\n"
          ],
          "name": "stderr"
        },
        {
          "output_type": "stream",
          "text": [
            "Iter [1840/3000]  Loss: 1.3855  Time/Image: 0.2420  lr=0.019862\n"
          ],
          "name": "stdout"
        },
        {
          "output_type": "stream",
          "text": [
            "INFO:ptsemseg:Iter [1850/3000]  Loss: 1.3848  Time/Image: 0.2457  lr=0.019861\n"
          ],
          "name": "stderr"
        },
        {
          "output_type": "stream",
          "text": [
            "Iter [1850/3000]  Loss: 1.3848  Time/Image: 0.2457  lr=0.019861\n"
          ],
          "name": "stdout"
        },
        {
          "output_type": "stream",
          "text": [
            "INFO:ptsemseg:Iter [1860/3000]  Loss: 1.3808  Time/Image: 0.2467  lr=0.019861\n"
          ],
          "name": "stderr"
        },
        {
          "output_type": "stream",
          "text": [
            "Iter [1860/3000]  Loss: 1.3808  Time/Image: 0.2467  lr=0.019861\n"
          ],
          "name": "stdout"
        },
        {
          "output_type": "stream",
          "text": [
            "INFO:ptsemseg:Iter [1870/3000]  Loss: 1.3828  Time/Image: 0.2491  lr=0.019860\n"
          ],
          "name": "stderr"
        },
        {
          "output_type": "stream",
          "text": [
            "Iter [1870/3000]  Loss: 1.3828  Time/Image: 0.2491  lr=0.019860\n"
          ],
          "name": "stdout"
        },
        {
          "output_type": "stream",
          "text": [
            "INFO:ptsemseg:Iter [1880/3000]  Loss: 1.3819  Time/Image: 0.2457  lr=0.019859\n"
          ],
          "name": "stderr"
        },
        {
          "output_type": "stream",
          "text": [
            "Iter [1880/3000]  Loss: 1.3819  Time/Image: 0.2457  lr=0.019859\n"
          ],
          "name": "stdout"
        },
        {
          "output_type": "stream",
          "text": [
            "INFO:ptsemseg:Iter [1890/3000]  Loss: 1.3795  Time/Image: 0.2411  lr=0.019858\n"
          ],
          "name": "stderr"
        },
        {
          "output_type": "stream",
          "text": [
            "Iter [1890/3000]  Loss: 1.3795  Time/Image: 0.2411  lr=0.019858\n"
          ],
          "name": "stdout"
        },
        {
          "output_type": "stream",
          "text": [
            "INFO:ptsemseg:Iter [1900/3000]  Loss: 1.3798  Time/Image: 0.2466  lr=0.019858\n"
          ],
          "name": "stderr"
        },
        {
          "output_type": "stream",
          "text": [
            "Iter [1900/3000]  Loss: 1.3798  Time/Image: 0.2466  lr=0.019858\n"
          ],
          "name": "stdout"
        },
        {
          "output_type": "stream",
          "text": [
            "INFO:ptsemseg:Iter [1910/3000]  Loss: 1.3761  Time/Image: 0.2439  lr=0.019857\n"
          ],
          "name": "stderr"
        },
        {
          "output_type": "stream",
          "text": [
            "Iter [1910/3000]  Loss: 1.3761  Time/Image: 0.2439  lr=0.019857\n"
          ],
          "name": "stdout"
        },
        {
          "output_type": "stream",
          "text": [
            "INFO:ptsemseg:Iter [1920/3000]  Loss: 1.3750  Time/Image: 0.2421  lr=0.019856\n"
          ],
          "name": "stderr"
        },
        {
          "output_type": "stream",
          "text": [
            "Iter [1920/3000]  Loss: 1.3750  Time/Image: 0.2421  lr=0.019856\n"
          ],
          "name": "stdout"
        },
        {
          "output_type": "stream",
          "text": [
            "INFO:ptsemseg:Iter [1930/3000]  Loss: 1.3765  Time/Image: 0.2435  lr=0.019855\n"
          ],
          "name": "stderr"
        },
        {
          "output_type": "stream",
          "text": [
            "Iter [1930/3000]  Loss: 1.3765  Time/Image: 0.2435  lr=0.019855\n"
          ],
          "name": "stdout"
        },
        {
          "output_type": "stream",
          "text": [
            "INFO:ptsemseg:Iter [1940/3000]  Loss: 1.3721  Time/Image: 0.2457  lr=0.019855\n"
          ],
          "name": "stderr"
        },
        {
          "output_type": "stream",
          "text": [
            "Iter [1940/3000]  Loss: 1.3721  Time/Image: 0.2457  lr=0.019855\n"
          ],
          "name": "stdout"
        },
        {
          "output_type": "stream",
          "text": [
            "INFO:ptsemseg:Iter [1950/3000]  Loss: 1.3748  Time/Image: 0.2436  lr=0.019854\n"
          ],
          "name": "stderr"
        },
        {
          "output_type": "stream",
          "text": [
            "Iter [1950/3000]  Loss: 1.3748  Time/Image: 0.2436  lr=0.019854\n"
          ],
          "name": "stdout"
        },
        {
          "output_type": "stream",
          "text": [
            "INFO:ptsemseg:Iter [1960/3000]  Loss: 1.3735  Time/Image: 0.2471  lr=0.019853\n"
          ],
          "name": "stderr"
        },
        {
          "output_type": "stream",
          "text": [
            "Iter [1960/3000]  Loss: 1.3735  Time/Image: 0.2471  lr=0.019853\n"
          ],
          "name": "stdout"
        },
        {
          "output_type": "stream",
          "text": [
            "INFO:ptsemseg:Iter [1970/3000]  Loss: 1.3723  Time/Image: 0.2468  lr=0.019852\n"
          ],
          "name": "stderr"
        },
        {
          "output_type": "stream",
          "text": [
            "Iter [1970/3000]  Loss: 1.3723  Time/Image: 0.2468  lr=0.019852\n"
          ],
          "name": "stdout"
        },
        {
          "output_type": "stream",
          "text": [
            "INFO:ptsemseg:Iter [1980/3000]  Loss: 1.3727  Time/Image: 0.2476  lr=0.019852\n"
          ],
          "name": "stderr"
        },
        {
          "output_type": "stream",
          "text": [
            "Iter [1980/3000]  Loss: 1.3727  Time/Image: 0.2476  lr=0.019852\n"
          ],
          "name": "stdout"
        },
        {
          "output_type": "stream",
          "text": [
            "INFO:ptsemseg:Iter [1990/3000]  Loss: 1.3713  Time/Image: 0.2511  lr=0.019851\n"
          ],
          "name": "stderr"
        },
        {
          "output_type": "stream",
          "text": [
            "Iter [1990/3000]  Loss: 1.3713  Time/Image: 0.2511  lr=0.019851\n"
          ],
          "name": "stdout"
        },
        {
          "output_type": "stream",
          "text": [
            "INFO:ptsemseg:Iter [2000/3000]  Loss: 1.3700  Time/Image: 0.2473  lr=0.019850\n"
          ],
          "name": "stderr"
        },
        {
          "output_type": "stream",
          "text": [
            "Iter [2000/3000]  Loss: 1.3700  Time/Image: 0.2473  lr=0.019850\n"
          ],
          "name": "stdout"
        },
        {
          "output_type": "stream",
          "text": [
            "125it [03:09,  1.51s/it]\n",
            "INFO:ptsemseg:Iter 2000 Val Loss: 1.3166\n",
            "INFO:ptsemseg:Overall Acc: \t: 0.7541602468170083\n",
            "INFO:ptsemseg:Mean Acc : \t: 0.23997162031317457\n",
            "INFO:ptsemseg:FreqW Acc : \t: 0.6142886982772896\n",
            "INFO:ptsemseg:Mean IoU : \t: 0.19086463670549253\n",
            "INFO:ptsemseg:0: 0.8354517611274064\n",
            "INFO:ptsemseg:1: 0.23256308222150754\n",
            "INFO:ptsemseg:2: 0.5784323112344957\n",
            "INFO:ptsemseg:3: 0.0\n",
            "INFO:ptsemseg:4: 0.0\n",
            "INFO:ptsemseg:5: 0.0\n",
            "INFO:ptsemseg:6: 0.0\n",
            "INFO:ptsemseg:7: 0.05226528282316761\n",
            "INFO:ptsemseg:8: 0.6122408212461339\n",
            "INFO:ptsemseg:9: 0.18636676266946064\n",
            "INFO:ptsemseg:10: 0.6610406259020635\n",
            "INFO:ptsemseg:11: 0.004898008601783645\n",
            "INFO:ptsemseg:12: 0.0\n",
            "INFO:ptsemseg:13: 0.4631694415783394\n",
            "INFO:ptsemseg:14: 0.0\n",
            "INFO:ptsemseg:15: 0.0\n",
            "INFO:ptsemseg:16: 0.0\n",
            "INFO:ptsemseg:17: 0.0\n",
            "INFO:ptsemseg:18: 0.0\n"
          ],
          "name": "stderr"
        },
        {
          "output_type": "stream",
          "text": [
            "Overall Acc: \t 0.7541602468170083\n",
            "Mean Acc : \t 0.23997162031317457\n",
            "FreqW Acc : \t 0.6142886982772896\n",
            "Mean IoU : \t 0.19086463670549253\n"
          ],
          "name": "stdout"
        },
        {
          "output_type": "stream",
          "text": [
            "INFO:ptsemseg:Iter [2010/3000]  Loss: 1.4369  Time/Image: 0.2420  lr=0.019849\n"
          ],
          "name": "stderr"
        },
        {
          "output_type": "stream",
          "text": [
            "Iter [2010/3000]  Loss: 1.4369  Time/Image: 0.2420  lr=0.019849\n"
          ],
          "name": "stdout"
        },
        {
          "output_type": "stream",
          "text": [
            "INFO:ptsemseg:Iter [2020/3000]  Loss: 1.4340  Time/Image: 0.2417  lr=0.019849\n"
          ],
          "name": "stderr"
        },
        {
          "output_type": "stream",
          "text": [
            "Iter [2020/3000]  Loss: 1.4340  Time/Image: 0.2417  lr=0.019849\n"
          ],
          "name": "stdout"
        },
        {
          "output_type": "stream",
          "text": [
            "INFO:ptsemseg:Iter [2030/3000]  Loss: 1.3464  Time/Image: 0.2456  lr=0.019848\n"
          ],
          "name": "stderr"
        },
        {
          "output_type": "stream",
          "text": [
            "Iter [2030/3000]  Loss: 1.3464  Time/Image: 0.2456  lr=0.019848\n"
          ],
          "name": "stdout"
        },
        {
          "output_type": "stream",
          "text": [
            "INFO:ptsemseg:Iter [2040/3000]  Loss: 1.3795  Time/Image: 0.2472  lr=0.019847\n"
          ],
          "name": "stderr"
        },
        {
          "output_type": "stream",
          "text": [
            "Iter [2040/3000]  Loss: 1.3795  Time/Image: 0.2472  lr=0.019847\n"
          ],
          "name": "stdout"
        },
        {
          "output_type": "stream",
          "text": [
            "INFO:ptsemseg:Iter [2050/3000]  Loss: 1.3501  Time/Image: 0.2473  lr=0.019846\n"
          ],
          "name": "stderr"
        },
        {
          "output_type": "stream",
          "text": [
            "Iter [2050/3000]  Loss: 1.3501  Time/Image: 0.2473  lr=0.019846\n"
          ],
          "name": "stdout"
        },
        {
          "output_type": "stream",
          "text": [
            "INFO:ptsemseg:Iter [2060/3000]  Loss: 1.4080  Time/Image: 0.2476  lr=0.019846\n"
          ],
          "name": "stderr"
        },
        {
          "output_type": "stream",
          "text": [
            "Iter [2060/3000]  Loss: 1.4080  Time/Image: 0.2476  lr=0.019846\n"
          ],
          "name": "stdout"
        },
        {
          "output_type": "stream",
          "text": [
            "INFO:ptsemseg:Iter [2070/3000]  Loss: 1.4280  Time/Image: 0.2439  lr=0.019845\n"
          ],
          "name": "stderr"
        },
        {
          "output_type": "stream",
          "text": [
            "Iter [2070/3000]  Loss: 1.4280  Time/Image: 0.2439  lr=0.019845\n"
          ],
          "name": "stdout"
        },
        {
          "output_type": "stream",
          "text": [
            "INFO:ptsemseg:Iter [2080/3000]  Loss: 1.4095  Time/Image: 0.2454  lr=0.019844\n"
          ],
          "name": "stderr"
        },
        {
          "output_type": "stream",
          "text": [
            "Iter [2080/3000]  Loss: 1.4095  Time/Image: 0.2454  lr=0.019844\n"
          ],
          "name": "stdout"
        },
        {
          "output_type": "stream",
          "text": [
            "INFO:ptsemseg:Iter [2090/3000]  Loss: 1.3982  Time/Image: 0.2460  lr=0.019843\n"
          ],
          "name": "stderr"
        },
        {
          "output_type": "stream",
          "text": [
            "Iter [2090/3000]  Loss: 1.3982  Time/Image: 0.2460  lr=0.019843\n"
          ],
          "name": "stdout"
        },
        {
          "output_type": "stream",
          "text": [
            "INFO:ptsemseg:Iter [2100/3000]  Loss: 1.3976  Time/Image: 0.2476  lr=0.019843\n"
          ],
          "name": "stderr"
        },
        {
          "output_type": "stream",
          "text": [
            "Iter [2100/3000]  Loss: 1.3976  Time/Image: 0.2476  lr=0.019843\n"
          ],
          "name": "stdout"
        },
        {
          "output_type": "stream",
          "text": [
            "INFO:ptsemseg:Iter [2110/3000]  Loss: 1.3797  Time/Image: 0.2421  lr=0.019842\n"
          ],
          "name": "stderr"
        },
        {
          "output_type": "stream",
          "text": [
            "Iter [2110/3000]  Loss: 1.3797  Time/Image: 0.2421  lr=0.019842\n"
          ],
          "name": "stdout"
        },
        {
          "output_type": "stream",
          "text": [
            "INFO:ptsemseg:Iter [2120/3000]  Loss: 1.3700  Time/Image: 0.2436  lr=0.019841\n"
          ],
          "name": "stderr"
        },
        {
          "output_type": "stream",
          "text": [
            "Iter [2120/3000]  Loss: 1.3700  Time/Image: 0.2436  lr=0.019841\n"
          ],
          "name": "stdout"
        },
        {
          "output_type": "stream",
          "text": [
            "INFO:ptsemseg:Iter [2130/3000]  Loss: 1.3678  Time/Image: 0.2422  lr=0.019840\n"
          ],
          "name": "stderr"
        },
        {
          "output_type": "stream",
          "text": [
            "Iter [2130/3000]  Loss: 1.3678  Time/Image: 0.2422  lr=0.019840\n"
          ],
          "name": "stdout"
        },
        {
          "output_type": "stream",
          "text": [
            "INFO:ptsemseg:Iter [2140/3000]  Loss: 1.3670  Time/Image: 0.2402  lr=0.019840\n"
          ],
          "name": "stderr"
        },
        {
          "output_type": "stream",
          "text": [
            "Iter [2140/3000]  Loss: 1.3670  Time/Image: 0.2402  lr=0.019840\n"
          ],
          "name": "stdout"
        },
        {
          "output_type": "stream",
          "text": [
            "INFO:ptsemseg:Iter [2150/3000]  Loss: 1.3684  Time/Image: 0.2420  lr=0.019839\n"
          ],
          "name": "stderr"
        },
        {
          "output_type": "stream",
          "text": [
            "Iter [2150/3000]  Loss: 1.3684  Time/Image: 0.2420  lr=0.019839\n"
          ],
          "name": "stdout"
        },
        {
          "output_type": "stream",
          "text": [
            "INFO:ptsemseg:Iter [2160/3000]  Loss: 1.3704  Time/Image: 0.2407  lr=0.019838\n"
          ],
          "name": "stderr"
        },
        {
          "output_type": "stream",
          "text": [
            "Iter [2160/3000]  Loss: 1.3704  Time/Image: 0.2407  lr=0.019838\n"
          ],
          "name": "stdout"
        },
        {
          "output_type": "stream",
          "text": [
            "INFO:ptsemseg:Iter [2170/3000]  Loss: 1.3720  Time/Image: 0.2449  lr=0.019837\n"
          ],
          "name": "stderr"
        },
        {
          "output_type": "stream",
          "text": [
            "Iter [2170/3000]  Loss: 1.3720  Time/Image: 0.2449  lr=0.019837\n"
          ],
          "name": "stdout"
        },
        {
          "output_type": "stream",
          "text": [
            "INFO:ptsemseg:Iter [2180/3000]  Loss: 1.3703  Time/Image: 0.2454  lr=0.019837\n"
          ],
          "name": "stderr"
        },
        {
          "output_type": "stream",
          "text": [
            "Iter [2180/3000]  Loss: 1.3703  Time/Image: 0.2454  lr=0.019837\n"
          ],
          "name": "stdout"
        },
        {
          "output_type": "stream",
          "text": [
            "INFO:ptsemseg:Iter [2190/3000]  Loss: 1.3674  Time/Image: 0.2461  lr=0.019836\n"
          ],
          "name": "stderr"
        },
        {
          "output_type": "stream",
          "text": [
            "Iter [2190/3000]  Loss: 1.3674  Time/Image: 0.2461  lr=0.019836\n"
          ],
          "name": "stdout"
        },
        {
          "output_type": "stream",
          "text": [
            "INFO:ptsemseg:Iter [2200/3000]  Loss: 1.3590  Time/Image: 0.2442  lr=0.019835\n"
          ],
          "name": "stderr"
        },
        {
          "output_type": "stream",
          "text": [
            "Iter [2200/3000]  Loss: 1.3590  Time/Image: 0.2442  lr=0.019835\n"
          ],
          "name": "stdout"
        },
        {
          "output_type": "stream",
          "text": [
            "INFO:ptsemseg:Iter [2210/3000]  Loss: 1.3610  Time/Image: 0.2406  lr=0.019834\n"
          ],
          "name": "stderr"
        },
        {
          "output_type": "stream",
          "text": [
            "Iter [2210/3000]  Loss: 1.3610  Time/Image: 0.2406  lr=0.019834\n"
          ],
          "name": "stdout"
        },
        {
          "output_type": "stream",
          "text": [
            "INFO:ptsemseg:Iter [2220/3000]  Loss: 1.3595  Time/Image: 0.2443  lr=0.019833\n"
          ],
          "name": "stderr"
        },
        {
          "output_type": "stream",
          "text": [
            "Iter [2220/3000]  Loss: 1.3595  Time/Image: 0.2443  lr=0.019833\n"
          ],
          "name": "stdout"
        },
        {
          "output_type": "stream",
          "text": [
            "INFO:ptsemseg:Iter [2230/3000]  Loss: 1.3562  Time/Image: 0.2414  lr=0.019833\n"
          ],
          "name": "stderr"
        },
        {
          "output_type": "stream",
          "text": [
            "Iter [2230/3000]  Loss: 1.3562  Time/Image: 0.2414  lr=0.019833\n"
          ],
          "name": "stdout"
        },
        {
          "output_type": "stream",
          "text": [
            "INFO:ptsemseg:Iter [2240/3000]  Loss: 1.3489  Time/Image: 0.2456  lr=0.019832\n"
          ],
          "name": "stderr"
        },
        {
          "output_type": "stream",
          "text": [
            "Iter [2240/3000]  Loss: 1.3489  Time/Image: 0.2456  lr=0.019832\n"
          ],
          "name": "stdout"
        },
        {
          "output_type": "stream",
          "text": [
            "INFO:ptsemseg:Iter [2250/3000]  Loss: 1.3527  Time/Image: 0.2473  lr=0.019831\n"
          ],
          "name": "stderr"
        },
        {
          "output_type": "stream",
          "text": [
            "Iter [2250/3000]  Loss: 1.3527  Time/Image: 0.2473  lr=0.019831\n"
          ],
          "name": "stdout"
        },
        {
          "output_type": "stream",
          "text": [
            "INFO:ptsemseg:Iter [2260/3000]  Loss: 1.3511  Time/Image: 0.2486  lr=0.019830\n"
          ],
          "name": "stderr"
        },
        {
          "output_type": "stream",
          "text": [
            "Iter [2260/3000]  Loss: 1.3511  Time/Image: 0.2486  lr=0.019830\n"
          ],
          "name": "stdout"
        },
        {
          "output_type": "stream",
          "text": [
            "INFO:ptsemseg:Iter [2270/3000]  Loss: 1.3478  Time/Image: 0.2496  lr=0.019830\n"
          ],
          "name": "stderr"
        },
        {
          "output_type": "stream",
          "text": [
            "Iter [2270/3000]  Loss: 1.3478  Time/Image: 0.2496  lr=0.019830\n"
          ],
          "name": "stdout"
        },
        {
          "output_type": "stream",
          "text": [
            "INFO:ptsemseg:Iter [2280/3000]  Loss: 1.3487  Time/Image: 0.2468  lr=0.019829\n"
          ],
          "name": "stderr"
        },
        {
          "output_type": "stream",
          "text": [
            "Iter [2280/3000]  Loss: 1.3487  Time/Image: 0.2468  lr=0.019829\n"
          ],
          "name": "stdout"
        },
        {
          "output_type": "stream",
          "text": [
            "INFO:ptsemseg:Iter [2290/3000]  Loss: 1.3463  Time/Image: 0.2463  lr=0.019828\n"
          ],
          "name": "stderr"
        },
        {
          "output_type": "stream",
          "text": [
            "Iter [2290/3000]  Loss: 1.3463  Time/Image: 0.2463  lr=0.019828\n",
            "Iter [2300/3000]  Loss: 1.3486  Time/Image: 0.2507  lr=0.019827\n"
          ],
          "name": "stdout"
        },
        {
          "output_type": "stream",
          "text": [
            "INFO:ptsemseg:Iter [2310/3000]  Loss: 1.3479  Time/Image: 0.2489  lr=0.019827\n"
          ],
          "name": "stderr"
        },
        {
          "output_type": "stream",
          "text": [
            "Iter [2310/3000]  Loss: 1.3479  Time/Image: 0.2489  lr=0.019827\n"
          ],
          "name": "stdout"
        },
        {
          "output_type": "stream",
          "text": [
            "INFO:ptsemseg:Iter [2320/3000]  Loss: 1.3483  Time/Image: 0.2489  lr=0.019826\n"
          ],
          "name": "stderr"
        },
        {
          "output_type": "stream",
          "text": [
            "Iter [2320/3000]  Loss: 1.3483  Time/Image: 0.2489  lr=0.019826\n"
          ],
          "name": "stdout"
        },
        {
          "output_type": "stream",
          "text": [
            "INFO:ptsemseg:Iter [2330/3000]  Loss: 1.3520  Time/Image: 0.2478  lr=0.019825\n"
          ],
          "name": "stderr"
        },
        {
          "output_type": "stream",
          "text": [
            "Iter [2330/3000]  Loss: 1.3520  Time/Image: 0.2478  lr=0.019825\n"
          ],
          "name": "stdout"
        },
        {
          "output_type": "stream",
          "text": [
            "INFO:ptsemseg:Iter [2340/3000]  Loss: 1.3471  Time/Image: 0.2477  lr=0.019824\n"
          ],
          "name": "stderr"
        },
        {
          "output_type": "stream",
          "text": [
            "Iter [2340/3000]  Loss: 1.3471  Time/Image: 0.2477  lr=0.019824\n"
          ],
          "name": "stdout"
        },
        {
          "output_type": "stream",
          "text": [
            "INFO:ptsemseg:Iter [2350/3000]  Loss: 1.3478  Time/Image: 0.2476  lr=0.019824\n"
          ],
          "name": "stderr"
        },
        {
          "output_type": "stream",
          "text": [
            "Iter [2350/3000]  Loss: 1.3478  Time/Image: 0.2476  lr=0.019824\n"
          ],
          "name": "stdout"
        },
        {
          "output_type": "stream",
          "text": [
            "INFO:ptsemseg:Iter [2360/3000]  Loss: 1.3453  Time/Image: 0.2480  lr=0.019823\n"
          ],
          "name": "stderr"
        },
        {
          "output_type": "stream",
          "text": [
            "Iter [2360/3000]  Loss: 1.3453  Time/Image: 0.2480  lr=0.019823\n"
          ],
          "name": "stdout"
        },
        {
          "output_type": "stream",
          "text": [
            "INFO:ptsemseg:Iter [2370/3000]  Loss: 1.3430  Time/Image: 0.2454  lr=0.019822\n"
          ],
          "name": "stderr"
        },
        {
          "output_type": "stream",
          "text": [
            "Iter [2370/3000]  Loss: 1.3430  Time/Image: 0.2454  lr=0.019822\n"
          ],
          "name": "stdout"
        },
        {
          "output_type": "stream",
          "text": [
            "INFO:ptsemseg:Iter [2380/3000]  Loss: 1.3446  Time/Image: 0.2466  lr=0.019821\n"
          ],
          "name": "stderr"
        },
        {
          "output_type": "stream",
          "text": [
            "Iter [2380/3000]  Loss: 1.3446  Time/Image: 0.2466  lr=0.019821\n"
          ],
          "name": "stdout"
        },
        {
          "output_type": "stream",
          "text": [
            "INFO:ptsemseg:Iter [2390/3000]  Loss: 1.3417  Time/Image: 0.2470  lr=0.019821\n"
          ],
          "name": "stderr"
        },
        {
          "output_type": "stream",
          "text": [
            "Iter [2390/3000]  Loss: 1.3417  Time/Image: 0.2470  lr=0.019821\n"
          ],
          "name": "stdout"
        },
        {
          "output_type": "stream",
          "text": [
            "INFO:ptsemseg:Iter [2400/3000]  Loss: 1.3436  Time/Image: 0.2471  lr=0.019820\n"
          ],
          "name": "stderr"
        },
        {
          "output_type": "stream",
          "text": [
            "Iter [2400/3000]  Loss: 1.3436  Time/Image: 0.2471  lr=0.019820\n"
          ],
          "name": "stdout"
        },
        {
          "output_type": "stream",
          "text": [
            "INFO:ptsemseg:Iter [2410/3000]  Loss: 1.3410  Time/Image: 0.2491  lr=0.019819\n"
          ],
          "name": "stderr"
        },
        {
          "output_type": "stream",
          "text": [
            "Iter [2410/3000]  Loss: 1.3410  Time/Image: 0.2491  lr=0.019819\n"
          ],
          "name": "stdout"
        },
        {
          "output_type": "stream",
          "text": [
            "INFO:ptsemseg:Iter [2420/3000]  Loss: 1.3390  Time/Image: 0.2478  lr=0.019818\n"
          ],
          "name": "stderr"
        },
        {
          "output_type": "stream",
          "text": [
            "Iter [2420/3000]  Loss: 1.3390  Time/Image: 0.2478  lr=0.019818\n"
          ],
          "name": "stdout"
        },
        {
          "output_type": "stream",
          "text": [
            "INFO:ptsemseg:Iter [2430/3000]  Loss: 1.3412  Time/Image: 0.2466  lr=0.019818\n"
          ],
          "name": "stderr"
        },
        {
          "output_type": "stream",
          "text": [
            "Iter [2430/3000]  Loss: 1.3412  Time/Image: 0.2466  lr=0.019818\n"
          ],
          "name": "stdout"
        },
        {
          "output_type": "stream",
          "text": [
            "INFO:ptsemseg:Iter [2440/3000]  Loss: 1.3406  Time/Image: 0.2473  lr=0.019817\n"
          ],
          "name": "stderr"
        },
        {
          "output_type": "stream",
          "text": [
            "Iter [2440/3000]  Loss: 1.3406  Time/Image: 0.2473  lr=0.019817\n"
          ],
          "name": "stdout"
        },
        {
          "output_type": "stream",
          "text": [
            "INFO:ptsemseg:Iter [2450/3000]  Loss: 1.3394  Time/Image: 0.2469  lr=0.019816\n"
          ],
          "name": "stderr"
        },
        {
          "output_type": "stream",
          "text": [
            "Iter [2450/3000]  Loss: 1.3394  Time/Image: 0.2469  lr=0.019816\n"
          ],
          "name": "stdout"
        },
        {
          "output_type": "stream",
          "text": [
            "INFO:ptsemseg:Iter [2460/3000]  Loss: 1.3376  Time/Image: 0.2475  lr=0.019815\n"
          ],
          "name": "stderr"
        },
        {
          "output_type": "stream",
          "text": [
            "Iter [2460/3000]  Loss: 1.3376  Time/Image: 0.2475  lr=0.019815\n"
          ],
          "name": "stdout"
        },
        {
          "output_type": "stream",
          "text": [
            "INFO:ptsemseg:Iter [2470/3000]  Loss: 1.3368  Time/Image: 0.2491  lr=0.019815\n"
          ],
          "name": "stderr"
        },
        {
          "output_type": "stream",
          "text": [
            "Iter [2470/3000]  Loss: 1.3368  Time/Image: 0.2491  lr=0.019815\n"
          ],
          "name": "stdout"
        },
        {
          "output_type": "stream",
          "text": [
            "INFO:ptsemseg:Iter [2480/3000]  Loss: 1.3363  Time/Image: 0.2489  lr=0.019814\n"
          ],
          "name": "stderr"
        },
        {
          "output_type": "stream",
          "text": [
            "Iter [2480/3000]  Loss: 1.3363  Time/Image: 0.2489  lr=0.019814\n"
          ],
          "name": "stdout"
        },
        {
          "output_type": "stream",
          "text": [
            "INFO:ptsemseg:Iter [2490/3000]  Loss: 1.3339  Time/Image: 0.2453  lr=0.019813\n"
          ],
          "name": "stderr"
        },
        {
          "output_type": "stream",
          "text": [
            "Iter [2490/3000]  Loss: 1.3339  Time/Image: 0.2453  lr=0.019813\n"
          ],
          "name": "stdout"
        },
        {
          "output_type": "stream",
          "text": [
            "INFO:ptsemseg:Iter [2500/3000]  Loss: 1.3364  Time/Image: 0.2468  lr=0.019812\n"
          ],
          "name": "stderr"
        },
        {
          "output_type": "stream",
          "text": [
            "Iter [2500/3000]  Loss: 1.3364  Time/Image: 0.2468  lr=0.019812\n"
          ],
          "name": "stdout"
        },
        {
          "output_type": "stream",
          "text": [
            "125it [03:04,  1.48s/it]\n",
            "INFO:ptsemseg:Iter 2500 Val Loss: 1.3213\n",
            "INFO:ptsemseg:Overall Acc: \t: 0.7730668459837345\n",
            "INFO:ptsemseg:Mean Acc : \t: 0.28157353294550996\n",
            "INFO:ptsemseg:FreqW Acc : \t: 0.6345965088541322\n",
            "INFO:ptsemseg:Mean IoU : \t: 0.21404004190268147\n",
            "INFO:ptsemseg:0: 0.8612606352139228\n",
            "INFO:ptsemseg:1: 0.2491130787020763\n",
            "INFO:ptsemseg:2: 0.5605919286946471\n",
            "INFO:ptsemseg:3: 0.0\n",
            "INFO:ptsemseg:4: 0.0\n",
            "INFO:ptsemseg:5: 0.017807810114716004\n",
            "INFO:ptsemseg:6: 0.0\n",
            "INFO:ptsemseg:7: 0.08082932838979008\n",
            "INFO:ptsemseg:8: 0.6407700793613821\n",
            "INFO:ptsemseg:9: 0.32592650883252033\n",
            "INFO:ptsemseg:10: 0.6959095864549794\n",
            "INFO:ptsemseg:11: 0.09955577344220255\n",
            "INFO:ptsemseg:12: 0.0\n",
            "INFO:ptsemseg:13: 0.5345142884781379\n",
            "INFO:ptsemseg:14: 0.0\n",
            "INFO:ptsemseg:15: 0.0\n",
            "INFO:ptsemseg:16: 0.0\n",
            "INFO:ptsemseg:17: 0.0\n",
            "INFO:ptsemseg:18: 0.00048177846657322524\n"
          ],
          "name": "stderr"
        },
        {
          "output_type": "stream",
          "text": [
            "Overall Acc: \t 0.7730668459837345\n",
            "Mean Acc : \t 0.28157353294550996\n",
            "FreqW Acc : \t 0.6345965088541322\n",
            "Mean IoU : \t 0.21404004190268147\n"
          ],
          "name": "stdout"
        },
        {
          "output_type": "stream",
          "text": [
            "INFO:ptsemseg:Iter [2510/3000]  Loss: 1.2891  Time/Image: 0.2498  lr=0.019812\n"
          ],
          "name": "stderr"
        },
        {
          "output_type": "stream",
          "text": [
            "Iter [2510/3000]  Loss: 1.2891  Time/Image: 0.2498  lr=0.019812\n"
          ],
          "name": "stdout"
        },
        {
          "output_type": "stream",
          "text": [
            "INFO:ptsemseg:Iter [2520/3000]  Loss: 1.3649  Time/Image: 0.2471  lr=0.019811\n"
          ],
          "name": "stderr"
        },
        {
          "output_type": "stream",
          "text": [
            "Iter [2520/3000]  Loss: 1.3649  Time/Image: 0.2471  lr=0.019811\n"
          ],
          "name": "stdout"
        },
        {
          "output_type": "stream",
          "text": [
            "INFO:ptsemseg:Iter [2530/3000]  Loss: 1.3273  Time/Image: 0.2476  lr=0.019810\n"
          ],
          "name": "stderr"
        },
        {
          "output_type": "stream",
          "text": [
            "Iter [2530/3000]  Loss: 1.3273  Time/Image: 0.2476  lr=0.019810\n"
          ],
          "name": "stdout"
        },
        {
          "output_type": "stream",
          "text": [
            "INFO:ptsemseg:Iter [2540/3000]  Loss: 1.3357  Time/Image: 0.2500  lr=0.019809\n"
          ],
          "name": "stderr"
        },
        {
          "output_type": "stream",
          "text": [
            "Iter [2540/3000]  Loss: 1.3357  Time/Image: 0.2500  lr=0.019809\n"
          ],
          "name": "stdout"
        },
        {
          "output_type": "stream",
          "text": [
            "INFO:ptsemseg:Iter [2550/3000]  Loss: 1.3173  Time/Image: 0.2436  lr=0.019809\n"
          ],
          "name": "stderr"
        },
        {
          "output_type": "stream",
          "text": [
            "Iter [2550/3000]  Loss: 1.3173  Time/Image: 0.2436  lr=0.019809\n"
          ],
          "name": "stdout"
        },
        {
          "output_type": "stream",
          "text": [
            "INFO:ptsemseg:Iter [2560/3000]  Loss: 1.3274  Time/Image: 0.2450  lr=0.019808\n"
          ],
          "name": "stderr"
        },
        {
          "output_type": "stream",
          "text": [
            "Iter [2560/3000]  Loss: 1.3274  Time/Image: 0.2450  lr=0.019808\n"
          ],
          "name": "stdout"
        },
        {
          "output_type": "stream",
          "text": [
            "INFO:ptsemseg:Iter [2570/3000]  Loss: 1.3369  Time/Image: 0.2466  lr=0.019807\n"
          ],
          "name": "stderr"
        },
        {
          "output_type": "stream",
          "text": [
            "Iter [2570/3000]  Loss: 1.3369  Time/Image: 0.2466  lr=0.019807\n"
          ],
          "name": "stdout"
        },
        {
          "output_type": "stream",
          "text": [
            "INFO:ptsemseg:Iter [2580/3000]  Loss: 1.3332  Time/Image: 0.2455  lr=0.019806\n"
          ],
          "name": "stderr"
        },
        {
          "output_type": "stream",
          "text": [
            "Iter [2580/3000]  Loss: 1.3332  Time/Image: 0.2455  lr=0.019806\n"
          ],
          "name": "stdout"
        },
        {
          "output_type": "stream",
          "text": [
            "INFO:ptsemseg:Iter [2590/3000]  Loss: 1.3166  Time/Image: 0.2454  lr=0.019806\n"
          ],
          "name": "stderr"
        },
        {
          "output_type": "stream",
          "text": [
            "Iter [2590/3000]  Loss: 1.3166  Time/Image: 0.2454  lr=0.019806\n"
          ],
          "name": "stdout"
        },
        {
          "output_type": "stream",
          "text": [
            "INFO:ptsemseg:Iter [2600/3000]  Loss: 1.3148  Time/Image: 0.2470  lr=0.019805\n"
          ],
          "name": "stderr"
        },
        {
          "output_type": "stream",
          "text": [
            "Iter [2600/3000]  Loss: 1.3148  Time/Image: 0.2470  lr=0.019805\n"
          ],
          "name": "stdout"
        },
        {
          "output_type": "stream",
          "text": [
            "INFO:ptsemseg:Iter [2610/3000]  Loss: 1.3299  Time/Image: 0.2452  lr=0.019804\n"
          ],
          "name": "stderr"
        },
        {
          "output_type": "stream",
          "text": [
            "Iter [2610/3000]  Loss: 1.3299  Time/Image: 0.2452  lr=0.019804\n"
          ],
          "name": "stdout"
        },
        {
          "output_type": "stream",
          "text": [
            "INFO:ptsemseg:Iter [2620/3000]  Loss: 1.3121  Time/Image: 0.2459  lr=0.019803\n"
          ],
          "name": "stderr"
        },
        {
          "output_type": "stream",
          "text": [
            "Iter [2620/3000]  Loss: 1.3121  Time/Image: 0.2459  lr=0.019803\n"
          ],
          "name": "stdout"
        },
        {
          "output_type": "stream",
          "text": [
            "INFO:ptsemseg:Iter [2630/3000]  Loss: 1.3132  Time/Image: 0.2441  lr=0.019803\n"
          ],
          "name": "stderr"
        },
        {
          "output_type": "stream",
          "text": [
            "Iter [2630/3000]  Loss: 1.3132  Time/Image: 0.2441  lr=0.019803\n"
          ],
          "name": "stdout"
        },
        {
          "output_type": "stream",
          "text": [
            "INFO:ptsemseg:Iter [2640/3000]  Loss: 1.3076  Time/Image: 0.2449  lr=0.019802\n"
          ],
          "name": "stderr"
        },
        {
          "output_type": "stream",
          "text": [
            "Iter [2640/3000]  Loss: 1.3076  Time/Image: 0.2449  lr=0.019802\n"
          ],
          "name": "stdout"
        },
        {
          "output_type": "stream",
          "text": [
            "INFO:ptsemseg:Iter [2650/3000]  Loss: 1.3027  Time/Image: 0.2449  lr=0.019801\n"
          ],
          "name": "stderr"
        },
        {
          "output_type": "stream",
          "text": [
            "Iter [2650/3000]  Loss: 1.3027  Time/Image: 0.2449  lr=0.019801\n"
          ],
          "name": "stdout"
        },
        {
          "output_type": "stream",
          "text": [
            "INFO:ptsemseg:Iter [2660/3000]  Loss: 1.3037  Time/Image: 0.2456  lr=0.019800\n"
          ],
          "name": "stderr"
        },
        {
          "output_type": "stream",
          "text": [
            "Iter [2660/3000]  Loss: 1.3037  Time/Image: 0.2456  lr=0.019800\n"
          ],
          "name": "stdout"
        },
        {
          "output_type": "stream",
          "text": [
            "INFO:ptsemseg:Iter [2670/3000]  Loss: 1.3071  Time/Image: 0.2471  lr=0.019800\n"
          ],
          "name": "stderr"
        },
        {
          "output_type": "stream",
          "text": [
            "Iter [2670/3000]  Loss: 1.3071  Time/Image: 0.2471  lr=0.019800\n"
          ],
          "name": "stdout"
        },
        {
          "output_type": "stream",
          "text": [
            "INFO:ptsemseg:Iter [2680/3000]  Loss: 1.2982  Time/Image: 0.2470  lr=0.019799\n"
          ],
          "name": "stderr"
        },
        {
          "output_type": "stream",
          "text": [
            "Iter [2680/3000]  Loss: 1.2982  Time/Image: 0.2470  lr=0.019799\n"
          ],
          "name": "stdout"
        },
        {
          "output_type": "stream",
          "text": [
            "INFO:ptsemseg:Iter [2690/3000]  Loss: 1.2998  Time/Image: 0.2459  lr=0.019798\n"
          ],
          "name": "stderr"
        },
        {
          "output_type": "stream",
          "text": [
            "Iter [2690/3000]  Loss: 1.2998  Time/Image: 0.2459  lr=0.019798\n"
          ],
          "name": "stdout"
        },
        {
          "output_type": "stream",
          "text": [
            "INFO:ptsemseg:Iter [2700/3000]  Loss: 1.3007  Time/Image: 0.2435  lr=0.019797\n"
          ],
          "name": "stderr"
        },
        {
          "output_type": "stream",
          "text": [
            "Iter [2700/3000]  Loss: 1.3007  Time/Image: 0.2435  lr=0.019797\n"
          ],
          "name": "stdout"
        },
        {
          "output_type": "stream",
          "text": [
            "INFO:ptsemseg:Iter [2710/3000]  Loss: 1.3024  Time/Image: 0.2428  lr=0.019797\n"
          ],
          "name": "stderr"
        },
        {
          "output_type": "stream",
          "text": [
            "Iter [2710/3000]  Loss: 1.3024  Time/Image: 0.2428  lr=0.019797\n"
          ],
          "name": "stdout"
        },
        {
          "output_type": "stream",
          "text": [
            "INFO:ptsemseg:Iter [2720/3000]  Loss: 1.3013  Time/Image: 0.2439  lr=0.019796\n"
          ],
          "name": "stderr"
        },
        {
          "output_type": "stream",
          "text": [
            "Iter [2720/3000]  Loss: 1.3013  Time/Image: 0.2439  lr=0.019796\n"
          ],
          "name": "stdout"
        },
        {
          "output_type": "stream",
          "text": [
            "INFO:ptsemseg:Iter [2730/3000]  Loss: 1.3021  Time/Image: 0.2431  lr=0.019795\n"
          ],
          "name": "stderr"
        },
        {
          "output_type": "stream",
          "text": [
            "Iter [2730/3000]  Loss: 1.3021  Time/Image: 0.2431  lr=0.019795\n"
          ],
          "name": "stdout"
        },
        {
          "output_type": "stream",
          "text": [
            "INFO:ptsemseg:Iter [2740/3000]  Loss: 1.2968  Time/Image: 0.2442  lr=0.019794\n"
          ],
          "name": "stderr"
        },
        {
          "output_type": "stream",
          "text": [
            "Iter [2740/3000]  Loss: 1.2968  Time/Image: 0.2442  lr=0.019794\n"
          ],
          "name": "stdout"
        },
        {
          "output_type": "stream",
          "text": [
            "INFO:ptsemseg:Iter [2750/3000]  Loss: 1.2946  Time/Image: 0.2448  lr=0.019794\n"
          ],
          "name": "stderr"
        },
        {
          "output_type": "stream",
          "text": [
            "Iter [2750/3000]  Loss: 1.2946  Time/Image: 0.2448  lr=0.019794\n"
          ],
          "name": "stdout"
        },
        {
          "output_type": "stream",
          "text": [
            "INFO:ptsemseg:Iter [2760/3000]  Loss: 1.2976  Time/Image: 0.2441  lr=0.019793\n"
          ],
          "name": "stderr"
        },
        {
          "output_type": "stream",
          "text": [
            "Iter [2760/3000]  Loss: 1.2976  Time/Image: 0.2441  lr=0.019793\n"
          ],
          "name": "stdout"
        },
        {
          "output_type": "stream",
          "text": [
            "INFO:ptsemseg:Iter [2770/3000]  Loss: 1.2981  Time/Image: 0.2443  lr=0.019792\n"
          ],
          "name": "stderr"
        },
        {
          "output_type": "stream",
          "text": [
            "Iter [2770/3000]  Loss: 1.2981  Time/Image: 0.2443  lr=0.019792\n"
          ],
          "name": "stdout"
        },
        {
          "output_type": "stream",
          "text": [
            "INFO:ptsemseg:Iter [2780/3000]  Loss: 1.3000  Time/Image: 0.2403  lr=0.019791\n"
          ],
          "name": "stderr"
        },
        {
          "output_type": "stream",
          "text": [
            "Iter [2780/3000]  Loss: 1.3000  Time/Image: 0.2403  lr=0.019791\n"
          ],
          "name": "stdout"
        },
        {
          "output_type": "stream",
          "text": [
            "INFO:ptsemseg:Iter [2790/3000]  Loss: 1.3033  Time/Image: 0.2470  lr=0.019791\n"
          ],
          "name": "stderr"
        },
        {
          "output_type": "stream",
          "text": [
            "Iter [2790/3000]  Loss: 1.3033  Time/Image: 0.2470  lr=0.019791\n"
          ],
          "name": "stdout"
        },
        {
          "output_type": "stream",
          "text": [
            "INFO:ptsemseg:Iter [2800/3000]  Loss: 1.3024  Time/Image: 0.2464  lr=0.019790\n"
          ],
          "name": "stderr"
        },
        {
          "output_type": "stream",
          "text": [
            "Iter [2800/3000]  Loss: 1.3024  Time/Image: 0.2464  lr=0.019790\n"
          ],
          "name": "stdout"
        },
        {
          "output_type": "stream",
          "text": [
            "INFO:ptsemseg:Iter [2810/3000]  Loss: 1.2987  Time/Image: 0.2458  lr=0.019789\n"
          ],
          "name": "stderr"
        },
        {
          "output_type": "stream",
          "text": [
            "Iter [2810/3000]  Loss: 1.2987  Time/Image: 0.2458  lr=0.019789\n"
          ],
          "name": "stdout"
        },
        {
          "output_type": "stream",
          "text": [
            "INFO:ptsemseg:Iter [2820/3000]  Loss: 1.2987  Time/Image: 0.2439  lr=0.019788\n"
          ],
          "name": "stderr"
        },
        {
          "output_type": "stream",
          "text": [
            "Iter [2820/3000]  Loss: 1.2987  Time/Image: 0.2439  lr=0.019788\n"
          ],
          "name": "stdout"
        },
        {
          "output_type": "stream",
          "text": [
            "INFO:ptsemseg:Iter [2830/3000]  Loss: 1.3042  Time/Image: 0.2460  lr=0.019788\n"
          ],
          "name": "stderr"
        },
        {
          "output_type": "stream",
          "text": [
            "Iter [2830/3000]  Loss: 1.3042  Time/Image: 0.2460  lr=0.019788\n"
          ],
          "name": "stdout"
        },
        {
          "output_type": "stream",
          "text": [
            "INFO:ptsemseg:Iter [2840/3000]  Loss: 1.3009  Time/Image: 0.2438  lr=0.019787\n"
          ],
          "name": "stderr"
        },
        {
          "output_type": "stream",
          "text": [
            "Iter [2840/3000]  Loss: 1.3009  Time/Image: 0.2438  lr=0.019787\n"
          ],
          "name": "stdout"
        },
        {
          "output_type": "stream",
          "text": [
            "INFO:ptsemseg:Iter [2850/3000]  Loss: 1.3074  Time/Image: 0.2453  lr=0.019786\n"
          ],
          "name": "stderr"
        },
        {
          "output_type": "stream",
          "text": [
            "Iter [2850/3000]  Loss: 1.3074  Time/Image: 0.2453  lr=0.019786\n"
          ],
          "name": "stdout"
        },
        {
          "output_type": "stream",
          "text": [
            "INFO:ptsemseg:Iter [2860/3000]  Loss: 1.3061  Time/Image: 0.2423  lr=0.019785\n"
          ],
          "name": "stderr"
        },
        {
          "output_type": "stream",
          "text": [
            "Iter [2860/3000]  Loss: 1.3061  Time/Image: 0.2423  lr=0.019785\n"
          ],
          "name": "stdout"
        },
        {
          "output_type": "stream",
          "text": [
            "INFO:ptsemseg:Iter [2870/3000]  Loss: 1.3040  Time/Image: 0.2486  lr=0.019785\n"
          ],
          "name": "stderr"
        },
        {
          "output_type": "stream",
          "text": [
            "Iter [2870/3000]  Loss: 1.3040  Time/Image: 0.2486  lr=0.019785\n"
          ],
          "name": "stdout"
        },
        {
          "output_type": "stream",
          "text": [
            "INFO:ptsemseg:Iter [2880/3000]  Loss: 1.3071  Time/Image: 0.2434  lr=0.019784\n"
          ],
          "name": "stderr"
        },
        {
          "output_type": "stream",
          "text": [
            "Iter [2880/3000]  Loss: 1.3071  Time/Image: 0.2434  lr=0.019784\n"
          ],
          "name": "stdout"
        },
        {
          "output_type": "stream",
          "text": [
            "INFO:ptsemseg:Iter [2890/3000]  Loss: 1.3058  Time/Image: 0.2514  lr=0.019783\n"
          ],
          "name": "stderr"
        },
        {
          "output_type": "stream",
          "text": [
            "Iter [2890/3000]  Loss: 1.3058  Time/Image: 0.2514  lr=0.019783\n"
          ],
          "name": "stdout"
        },
        {
          "output_type": "stream",
          "text": [
            "INFO:ptsemseg:Iter [2900/3000]  Loss: 1.3030  Time/Image: 0.2465  lr=0.019782\n"
          ],
          "name": "stderr"
        },
        {
          "output_type": "stream",
          "text": [
            "Iter [2900/3000]  Loss: 1.3030  Time/Image: 0.2465  lr=0.019782\n"
          ],
          "name": "stdout"
        },
        {
          "output_type": "stream",
          "text": [
            "INFO:ptsemseg:Iter [2910/3000]  Loss: 1.3008  Time/Image: 0.2462  lr=0.019782\n"
          ],
          "name": "stderr"
        },
        {
          "output_type": "stream",
          "text": [
            "Iter [2910/3000]  Loss: 1.3008  Time/Image: 0.2462  lr=0.019782\n"
          ],
          "name": "stdout"
        },
        {
          "output_type": "stream",
          "text": [
            "INFO:ptsemseg:Iter [2920/3000]  Loss: 1.3010  Time/Image: 0.2474  lr=0.019781\n"
          ],
          "name": "stderr"
        },
        {
          "output_type": "stream",
          "text": [
            "Iter [2920/3000]  Loss: 1.3010  Time/Image: 0.2474  lr=0.019781\n"
          ],
          "name": "stdout"
        },
        {
          "output_type": "stream",
          "text": [
            "INFO:ptsemseg:Iter [2930/3000]  Loss: 1.2983  Time/Image: 0.2452  lr=0.019780\n"
          ],
          "name": "stderr"
        },
        {
          "output_type": "stream",
          "text": [
            "Iter [2930/3000]  Loss: 1.2983  Time/Image: 0.2452  lr=0.019780\n"
          ],
          "name": "stdout"
        },
        {
          "output_type": "stream",
          "text": [
            "INFO:ptsemseg:Iter [2940/3000]  Loss: 1.2989  Time/Image: 0.2425  lr=0.019779\n"
          ],
          "name": "stderr"
        },
        {
          "output_type": "stream",
          "text": [
            "Iter [2940/3000]  Loss: 1.2989  Time/Image: 0.2425  lr=0.019779\n"
          ],
          "name": "stdout"
        },
        {
          "output_type": "stream",
          "text": [
            "INFO:ptsemseg:Iter [2950/3000]  Loss: 1.3000  Time/Image: 0.2449  lr=0.019779\n"
          ],
          "name": "stderr"
        },
        {
          "output_type": "stream",
          "text": [
            "Iter [2950/3000]  Loss: 1.3000  Time/Image: 0.2449  lr=0.019779\n"
          ],
          "name": "stdout"
        },
        {
          "output_type": "stream",
          "text": [
            "INFO:ptsemseg:Iter [2960/3000]  Loss: 1.2988  Time/Image: 0.2458  lr=0.019778\n"
          ],
          "name": "stderr"
        },
        {
          "output_type": "stream",
          "text": [
            "Iter [2960/3000]  Loss: 1.2988  Time/Image: 0.2458  lr=0.019778\n"
          ],
          "name": "stdout"
        },
        {
          "output_type": "stream",
          "text": [
            "INFO:ptsemseg:Iter [2970/3000]  Loss: 1.3005  Time/Image: 0.2476  lr=0.019777\n"
          ],
          "name": "stderr"
        },
        {
          "output_type": "stream",
          "text": [
            "Iter [2970/3000]  Loss: 1.3005  Time/Image: 0.2476  lr=0.019777\n"
          ],
          "name": "stdout"
        },
        {
          "output_type": "stream",
          "text": [
            "INFO:ptsemseg:Iter [2980/3000]  Loss: 1.2991  Time/Image: 0.2436  lr=0.019776\n"
          ],
          "name": "stderr"
        },
        {
          "output_type": "stream",
          "text": [
            "Iter [2980/3000]  Loss: 1.2991  Time/Image: 0.2436  lr=0.019776\n"
          ],
          "name": "stdout"
        },
        {
          "output_type": "stream",
          "text": [
            "INFO:ptsemseg:Iter [2990/3000]  Loss: 1.3004  Time/Image: 0.2489  lr=0.019776\n"
          ],
          "name": "stderr"
        },
        {
          "output_type": "stream",
          "text": [
            "Iter [2990/3000]  Loss: 1.3004  Time/Image: 0.2489  lr=0.019776\n"
          ],
          "name": "stdout"
        },
        {
          "output_type": "stream",
          "text": [
            "INFO:ptsemseg:Iter [3000/3000]  Loss: 1.2977  Time/Image: 0.2492  lr=0.019775\n"
          ],
          "name": "stderr"
        },
        {
          "output_type": "stream",
          "text": [
            "Iter [3000/3000]  Loss: 1.2977  Time/Image: 0.2492  lr=0.019775\n"
          ],
          "name": "stdout"
        },
        {
          "output_type": "stream",
          "text": [
            "125it [03:04,  1.48s/it]\n",
            "INFO:ptsemseg:Iter 3000 Val Loss: 1.4394\n",
            "INFO:ptsemseg:Overall Acc: \t: 0.770278949086707\n",
            "INFO:ptsemseg:Mean Acc : \t: 0.2400036121198974\n",
            "INFO:ptsemseg:FreqW Acc : \t: 0.6376844833120168\n",
            "INFO:ptsemseg:Mean IoU : \t: 0.18321929516563504\n",
            "INFO:ptsemseg:0: 0.8733742009475921\n",
            "INFO:ptsemseg:1: 0.2986313244978403\n",
            "INFO:ptsemseg:2: 0.5947619592647345\n",
            "INFO:ptsemseg:3: 0.0\n",
            "INFO:ptsemseg:4: 3.088194732812175e-05\n",
            "INFO:ptsemseg:5: 0.036851660779130525\n",
            "INFO:ptsemseg:6: 0.0\n",
            "INFO:ptsemseg:7: 0.06672863383973798\n",
            "INFO:ptsemseg:8: 0.710618581101658\n",
            "INFO:ptsemseg:9: 0.21261127654198125\n",
            "INFO:ptsemseg:10: 0.14649311601272066\n",
            "INFO:ptsemseg:11: 0.06817809875978605\n",
            "INFO:ptsemseg:12: 0.0\n",
            "INFO:ptsemseg:13: 0.4706738103370599\n",
            "INFO:ptsemseg:14: 0.0\n",
            "INFO:ptsemseg:15: 0.0\n",
            "INFO:ptsemseg:16: 0.0\n",
            "INFO:ptsemseg:17: 0.0\n",
            "INFO:ptsemseg:18: 0.002213064117495923\n"
          ],
          "name": "stderr"
        },
        {
          "output_type": "stream",
          "text": [
            "Overall Acc: \t 0.770278949086707\n",
            "Mean Acc : \t 0.2400036121198974\n",
            "FreqW Acc : \t 0.6376844833120168\n",
            "Mean IoU : \t 0.18321929516563504\n"
          ],
          "name": "stdout"
        }
      ]
    }
  ]
}