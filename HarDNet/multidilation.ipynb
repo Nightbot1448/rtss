{
  "nbformat": 4,
  "nbformat_minor": 0,
  "metadata": {
    "colab": {
      "name": "initial_dilation_hardnet_modification.ipynb",
      "provenance": [],
      "collapsed_sections": []
    },
    "kernelspec": {
      "display_name": "Python 3",
      "name": "python3"
    },
    "accelerator": "GPU"
  },
  "cells": [
    {
      "cell_type": "markdown",
      "metadata": {
        "id": "7eG_Fd639CQt"
      },
      "source": [
        "# Initial_dilation_hardnet_modification\n",
        "\n",
        "Стандартная сеть [FCHarDNet](https://github.com/PingoLH/FCHarDNet/blob/fc4b854b5cfa01a449bcfaece6bb3c32d84d9e2b/ptsemseg/models/hardnet.py#L254-L359), в которой на первых шагах считается свертка для разных пробелов внутри ядра(dilation = \\[1,2,3\\])"
      ]
    },
    {
      "cell_type": "code",
      "metadata": {
        "colab": {
          "base_uri": "https://localhost:8080/"
        },
        "id": "R-vhRzkpnUqa",
        "outputId": "bb99223c-450a-4416-cf71-099d8029e9ae"
      },
      "source": [
        "import sys\n",
        "sys.path.insert(0, '.')\n",
        "import os\n",
        "import os.path as osp\n",
        "import logging\n",
        "import argparse\n",
        "import math\n",
        "import random\n",
        "import time\n",
        "import shutil\n",
        "from tabulate import tabulate\n",
        "from datetime import datetime\n",
        " \n",
        "!pip install tensorboardX\n",
        "from tensorboardX import SummaryWriter\n",
        " \n",
        "import matplotlib.pyplot as plt\n",
        " \n",
        "from tqdm import tqdm\n",
        "import numpy as np\n",
        "import cv2\n",
        "import numpy as np\n",
        "import collections\n",
        " \n",
        "import torch\n",
        "import torch.nn as nn\n",
        "import torch.nn.functional as F\n",
        "import torch.distributed as dist\n",
        " \n",
        "from torchsummary import summary\n",
        "from torchvision.datasets import Cityscapes\n",
        "from torchvision import transforms"
      ],
      "execution_count": null,
      "outputs": [
        {
          "output_type": "stream",
          "text": [
            "Collecting tensorboardX\n",
            "\u001b[?25l  Downloading https://files.pythonhosted.org/packages/af/0c/4f41bcd45db376e6fe5c619c01100e9b7531c55791b7244815bac6eac32c/tensorboardX-2.1-py2.py3-none-any.whl (308kB)\n",
            "\r\u001b[K     |█                               | 10kB 15.1MB/s eta 0:00:01\r\u001b[K     |██▏                             | 20kB 9.8MB/s eta 0:00:01\r\u001b[K     |███▏                            | 30kB 8.0MB/s eta 0:00:01\r\u001b[K     |████▎                           | 40kB 7.2MB/s eta 0:00:01\r\u001b[K     |█████▎                          | 51kB 4.3MB/s eta 0:00:01\r\u001b[K     |██████▍                         | 61kB 4.9MB/s eta 0:00:01\r\u001b[K     |███████▍                        | 71kB 5.0MB/s eta 0:00:01\r\u001b[K     |████████▌                       | 81kB 5.3MB/s eta 0:00:01\r\u001b[K     |█████████▌                      | 92kB 5.6MB/s eta 0:00:01\r\u001b[K     |██████████▋                     | 102kB 5.8MB/s eta 0:00:01\r\u001b[K     |███████████▊                    | 112kB 5.8MB/s eta 0:00:01\r\u001b[K     |████████████▊                   | 122kB 5.8MB/s eta 0:00:01\r\u001b[K     |█████████████▉                  | 133kB 5.8MB/s eta 0:00:01\r\u001b[K     |██████████████▉                 | 143kB 5.8MB/s eta 0:00:01\r\u001b[K     |████████████████                | 153kB 5.8MB/s eta 0:00:01\r\u001b[K     |█████████████████               | 163kB 5.8MB/s eta 0:00:01\r\u001b[K     |██████████████████              | 174kB 5.8MB/s eta 0:00:01\r\u001b[K     |███████████████████             | 184kB 5.8MB/s eta 0:00:01\r\u001b[K     |████████████████████▏           | 194kB 5.8MB/s eta 0:00:01\r\u001b[K     |█████████████████████▎          | 204kB 5.8MB/s eta 0:00:01\r\u001b[K     |██████████████████████▎         | 215kB 5.8MB/s eta 0:00:01\r\u001b[K     |███████████████████████▍        | 225kB 5.8MB/s eta 0:00:01\r\u001b[K     |████████████████████████▍       | 235kB 5.8MB/s eta 0:00:01\r\u001b[K     |█████████████████████████▌      | 245kB 5.8MB/s eta 0:00:01\r\u001b[K     |██████████████████████████▌     | 256kB 5.8MB/s eta 0:00:01\r\u001b[K     |███████████████████████████▋    | 266kB 5.8MB/s eta 0:00:01\r\u001b[K     |████████████████████████████▋   | 276kB 5.8MB/s eta 0:00:01\r\u001b[K     |█████████████████████████████▊  | 286kB 5.8MB/s eta 0:00:01\r\u001b[K     |██████████████████████████████▊ | 296kB 5.8MB/s eta 0:00:01\r\u001b[K     |███████████████████████████████▉| 307kB 5.8MB/s eta 0:00:01\r\u001b[K     |████████████████████████████████| 317kB 5.8MB/s \n",
            "\u001b[?25hRequirement already satisfied: numpy in /usr/local/lib/python3.7/dist-packages (from tensorboardX) (1.19.5)\n",
            "Requirement already satisfied: six in /usr/local/lib/python3.7/dist-packages (from tensorboardX) (1.15.0)\n",
            "Requirement already satisfied: protobuf>=3.8.0 in /usr/local/lib/python3.7/dist-packages (from tensorboardX) (3.12.4)\n",
            "Requirement already satisfied: setuptools in /usr/local/lib/python3.7/dist-packages (from protobuf>=3.8.0->tensorboardX) (54.0.0)\n",
            "Installing collected packages: tensorboardX\n",
            "Successfully installed tensorboardX-2.1\n"
          ],
          "name": "stdout"
        }
      ]
    },
    {
      "cell_type": "markdown",
      "metadata": {
        "id": "yEwMy_XP9BPY"
      },
      "source": [
        "## Blocks"
      ]
    },
    {
      "cell_type": "code",
      "metadata": {
        "id": "khqNoJteMdKP"
      },
      "source": [
        "class MultiDilationsConvLayer(nn.Module):\n",
        "    def __init__(self, in_channels, out_channels, kernel=3, stride=1, dropout=0.1, padding=None, dilation=[1]):\n",
        "        super().__init__()\n",
        "        if not isinstance(dilation, list):\n",
        "            raise ValueError('illegal pair of padding and dilation')\n",
        "\n",
        "        self.layers = nn.ModuleList([])\n",
        "        self.out_channels = out_channels * len(dilation)\n",
        "\n",
        "        for dil in dilation:\n",
        "            padding = kernel//2 + dil - 1\n",
        "            self.layers.append(nn.Conv2d(in_channels, out_channels, kernel_size=kernel,\n",
        "                                        stride=stride, padding=padding, dilation=dil, bias = False))    \n",
        "        \n",
        "        self.norm = nn.BatchNorm2d(self.out_channels)\n",
        "        self.relu = nn.ReLU(inplace=True)\n",
        "\n",
        "    def forward(self, x):\n",
        "        out = []\n",
        "        for layer in self.layers:\n",
        "            out.append(layer(x))\n",
        "        out = torch.cat(out, 1)\n",
        "        return self.relu(self.norm(out))\n",
        "\n",
        "    def get_out_ch(self):\n",
        "        return self.out_channels"
      ],
      "execution_count": null,
      "outputs": []
    },
    {
      "cell_type": "code",
      "metadata": {
        "id": "vzOZYszKeei6"
      },
      "source": [
        "class ConvLayer(nn.Sequential):\n",
        "    def __init__(self, in_channels, out_channels, kernel=3, stride=1, dropout=0.1, padding=None, dilation=1):\n",
        "        super().__init__()\n",
        "        if padding is None:\n",
        "            padding = kernel//2 + dilation - 1\n",
        "        self.add_module('conv', nn.Conv2d(in_channels, out_channels, kernel_size=kernel,\n",
        "                                          stride=stride, padding=padding, dilation=dilation, bias = False))\n",
        "        self.add_module('norm', nn.BatchNorm2d(out_channels))\n",
        "        self.add_module('relu', nn.ReLU(inplace=True))\n",
        "\n",
        "    def forward(self, x):\n",
        "        return super().forward(x)\n",
        "\n",
        "class TransitionUp(nn.Module):\n",
        "    def __init__(self, in_channels, out_channels):\n",
        "        super().__init__()\n",
        "\n",
        "    def forward(self, x, skip, concat=True):\n",
        "        out = F.interpolate(\n",
        "                x,\n",
        "                size=(skip.size(2), skip.size(3)),\n",
        "                mode=\"bilinear\",\n",
        "                align_corners=True,\n",
        "                            )\n",
        "        if concat:                            \n",
        "          out = torch.cat([out, skip], 1)\n",
        "          \n",
        "        return out"
      ],
      "execution_count": null,
      "outputs": []
    },
    {
      "cell_type": "code",
      "metadata": {
        "id": "ySuR9MkveedM"
      },
      "source": [
        "class my_HarDBlock(nn.Module):\n",
        "    def __init__(self, in_channels, growth_rate, grmul, n_layers, keepBase=False):\n",
        "        super().__init__()\n",
        "        self.in_channels = in_channels\n",
        "        self.growth_rate = growth_rate\n",
        "        self.grmul = grmul\n",
        "        self.links = []\n",
        "        self.out_channels = 0\n",
        "        self.keepBase = keepBase\n",
        "        self.layers = nn.ModuleList([])\n",
        "        for i in range(n_layers):\n",
        "            out_ch, in_ch, el_links = self.get_links(i+1)\n",
        "            self.links.append(el_links)\n",
        "            self.layers.append(ConvLayer(in_ch, out_ch))\n",
        "            if (i % 2 == 0) or (i == n_layers - 1):\n",
        "                self.out_channels += out_ch\n",
        "\n",
        "    def __out_ch(self, layer_id): \n",
        "        out_ch = self.growth_rate\n",
        "        for i in range(1, int(math.log2(layer_id))+1):\n",
        "            if layer_id % 2**i == 0:\n",
        "                out_ch = out_ch*self.grmul\n",
        "        return int(int(out_ch + 1) / 2) * 2\n",
        "\n",
        "    def get_links(self, layer_id):\n",
        "        in_ch = 0\n",
        "        links_ = []\n",
        "        for i in range(int(math.log2(layer_id))):\n",
        "            diff = 2**i\n",
        "            if (layer_id % diff == 0) and layer_id - diff > 0:\n",
        "                in_ch += self.__out_ch(layer_id - diff)\n",
        "                links_.append(layer_id - diff)\n",
        "        if math.log2(layer_id).is_integer():\n",
        "            in_ch += self.in_channels\n",
        "            links_.append(0)\n",
        "        return self.__out_ch(layer_id), in_ch, links_\n",
        "\n",
        "    def forward(self, x):\n",
        "        data = [x]\n",
        "        for layer in range(len(self.layers)):\n",
        "            layer_input = []\n",
        "            for link in self.links[layer]:\n",
        "                layer_input.append(data[link])\n",
        "            in_ = layer_input[0] if len(layer_input) == 1 \\\n",
        "                else torch.cat(layer_input, dim=1)\n",
        "            data.append(self.layers[layer](in_))\n",
        "        t = len(data)\n",
        "        out = []\n",
        "        for i in range(t):\n",
        "            if (i % 2 == 1) or (self.keepBase and i == 0) or (i == t-1):\n",
        "                out.append(data[i])\n",
        "        return torch.cat(out, dim=1)\n",
        "    \n",
        "    def get_out_ch(self):\n",
        "        return self.out_channels"
      ],
      "execution_count": null,
      "outputs": []
    },
    {
      "cell_type": "markdown",
      "metadata": {
        "id": "hlVmjHIx-7Ov"
      },
      "source": [
        "## Model"
      ]
    },
    {
      "cell_type": "code",
      "metadata": {
        "id": "ct4r7ov7TeuL"
      },
      "source": [
        "class initial_dilation_hardnet_modification(nn.Module):\n",
        "    def __init__(self, n_classes=19):\n",
        "        super(initial_dilation_hardnet_modification, self).__init__()\n",
        "        self.n_classes = n_classes\n",
        "\n",
        "        first_ch  = [16, 24]\n",
        "        ch_list = [  64, 96, 160, 224, 320]\n",
        "        grmul = 1.7\n",
        "        gr       = [  10,16,18,24,32]\n",
        "        n_layers = [   4, 4, 8, 8, 8]\n",
        "\n",
        "        init_dilations = [1,2,3]\n",
        "        len_init_dil = len(init_dilations)\n",
        "\n",
        "        self.base = nn.ModuleList([\n",
        "            MultiDilationsConvLayer(          3, first_ch[0], dilation=init_dilations, stride=2),\n",
        "            ConvLayer( len_init_dil*first_ch[0], first_ch[0], kernel=1, stride=1),\n",
        "            \n",
        "            MultiDilationsConvLayer(first_ch[0], first_ch[1], dilation=init_dilations, stride=2),\n",
        "            ConvLayer( len_init_dil*first_ch[1], first_ch[1], kernel=1, stride=1),\n",
        "        ])\n",
        "\n",
        "        blks_count = len(n_layers)\n",
        "        ch = first_ch[1]\n",
        "        skip_connection_channel_counts = []\n",
        "        self.shortcut_layers = []\n",
        "        for i in range(blks_count):\n",
        "            block = my_HarDBlock(ch, gr[i], grmul, n_layers[i])\n",
        "            ch = block.get_out_ch()\n",
        "            skip_connection_channel_counts.append(ch)\n",
        "            \n",
        "            self.base.append(block)\n",
        "            if i < blks_count-1:\n",
        "                self.shortcut_layers.append(len(self.base)-1)\n",
        "            \n",
        "            self.base.append(ConvLayer(ch, ch_list[i], kernel=1))\n",
        "            ch = ch_list[i]\n",
        "            if (i < blks_count - 1):\n",
        "                self.base.append(nn.AvgPool2d(kernel_size=2, stride=2))\n",
        "\n",
        "        self.conv1x1_up = nn.ModuleList()\n",
        "        self.transUp = nn.ModuleList()\n",
        "        self.denseUp = nn.ModuleList()\n",
        "\n",
        "        blks_count -= 1\n",
        "        self.blks_count = blks_count \n",
        "\n",
        "        for i in range(blks_count - 1, -1, -1):\n",
        "            self.transUp.append(TransitionUp(ch, ch))\n",
        "            ch = ch + skip_connection_channel_counts[i]\n",
        "            self.conv1x1_up.append(ConvLayer(ch, ch//2, kernel=1))\n",
        "            ch = ch//2\n",
        "            blk = my_HarDBlock(ch, gr[i], grmul, n_layers[i])\n",
        "            self.denseUp.append(blk)\n",
        "            ch = blk.get_out_ch()\n",
        "\n",
        "        self.finalConv = nn.Conv2d(ch, n_classes, kernel_size=1, \n",
        "                                   stride=1, padding=0, bias=True)\n",
        "\n",
        "    def forward(self, x):\n",
        "        size_in = x.size()\n",
        "        out = x\n",
        "        save_shortcut = []\n",
        "        for i in range(len(self.base)):\n",
        "            out = self.base[i](out)\n",
        "            if i in self.shortcut_layers:\n",
        "                save_shortcut.append(out)\n",
        "        \n",
        "        for i in range(self.blks_count):\n",
        "            skip = save_shortcut.pop()\n",
        "            out = self.transUp[i](out, skip, True)\n",
        "            out = self.conv1x1_up[i](out)\n",
        "            out = self.denseUp[i](out)\n",
        "\n",
        "        out = self.finalConv(out)\n",
        "        \n",
        "        out = F.interpolate(out,\n",
        "                            size=(size_in[2], size_in[3]),\n",
        "                            mode=\"bilinear\",\n",
        "                            align_corners=True)\n",
        "        return out"
      ],
      "execution_count": null,
      "outputs": []
    },
    {
      "cell_type": "markdown",
      "metadata": {
        "id": "39oF3Nq2bK4P"
      },
      "source": [
        "---"
      ]
    },
    {
      "cell_type": "markdown",
      "metadata": {
        "id": "RVfeqsMT-p_y"
      },
      "source": [
        "## Preparation"
      ]
    },
    {
      "cell_type": "code",
      "metadata": {
        "colab": {
          "base_uri": "https://localhost:8080/"
        },
        "id": "idgfO7APw2qI",
        "outputId": "e7aa1f25-4168-44ea-9c29-306bd6bc65ea"
      },
      "source": [
        "!git clone https://github.com/PingoLH/FCHarDNet.git\n",
        "!mv FCHarDNet/ptsemseg ./"
      ],
      "execution_count": null,
      "outputs": [
        {
          "output_type": "stream",
          "text": [
            "Cloning into 'FCHarDNet'...\n",
            "remote: Enumerating objects: 3, done.\u001b[K\n",
            "remote: Counting objects: 100% (3/3), done.\u001b[K\n",
            "remote: Compressing objects: 100% (3/3), done.\u001b[K\n",
            "remote: Total 120 (delta 0), reused 2 (delta 0), pack-reused 117\u001b[K\n",
            "Receiving objects: 100% (120/120), 9.09 MiB | 10.69 MiB/s, done.\n",
            "Resolving deltas: 100% (48/48), done.\n"
          ],
          "name": "stdout"
        }
      ]
    },
    {
      "cell_type": "code",
      "metadata": {
        "id": "Tx8_AGja0sWq"
      },
      "source": [
        "import yaml\n",
        "from torch.utils import data\n",
        "\n",
        "from ptsemseg.models import get_model\n",
        "from ptsemseg.loss import get_loss_function\n",
        "from ptsemseg.loader import get_loader\n",
        "from ptsemseg.utils import get_logger\n",
        "from ptsemseg.metrics import runningScore, averageMeter\n",
        "from ptsemseg.augmentations import get_composed_augmentations\n",
        "from ptsemseg.schedulers import get_scheduler\n",
        "from ptsemseg.optimizers import get_optimizer"
      ],
      "execution_count": null,
      "outputs": []
    },
    {
      "cell_type": "code",
      "metadata": {
        "id": "bwfGKA7cuoyZ"
      },
      "source": [
        "!rm -rf drive"
      ],
      "execution_count": null,
      "outputs": []
    },
    {
      "cell_type": "code",
      "metadata": {
        "colab": {
          "base_uri": "https://localhost:8080/"
        },
        "id": "eZqqevrB06sl",
        "outputId": "4fb48079-bc13-4e3f-d102-ae55de3ab4fb"
      },
      "source": [
        "from google.colab import drive\n",
        "drive.mount('/content/drive')"
      ],
      "execution_count": null,
      "outputs": [
        {
          "output_type": "stream",
          "text": [
            "Mounted at /content/drive\n"
          ],
          "name": "stdout"
        }
      ]
    },
    {
      "cell_type": "code",
      "metadata": {
        "id": "3cL5Kqz00YPH"
      },
      "source": [
        "with open('FCHarDNet/configs/hardnet.yml') as cf:\n",
        "    cfg = yaml.load(cf)\n",
        "    cfg['data'].update({\n",
        "        'path':'/content/drive/MyDrive/RnD/datasets/',\n",
        "        'sbd_path': '/content/drive/MyDrive/RnD/datasets/'\n",
        "    })\n",
        "    cfg['training'].update({\n",
        "        'train_iters': 50000,\n",
        "        'batch_size': 6\n",
        "    })\n",
        "    cfg['training']['lr_schedule'].update({\n",
        "        'max_iter': 120000\n",
        "    })"
      ],
      "execution_count": null,
      "outputs": []
    },
    {
      "cell_type": "code",
      "metadata": {
        "colab": {
          "base_uri": "https://localhost:8080/"
        },
        "id": "43IClLgX0afV",
        "outputId": "f25912c6-1196-4a3f-a0be-642d8138935f"
      },
      "source": [
        "# Setup seeds\n",
        "torch.manual_seed(cfg.get(\"seed\", 1337))\n",
        "torch.cuda.manual_seed(cfg.get(\"seed\", 1337))\n",
        "np.random.seed(cfg.get(\"seed\", 1337))\n",
        "random.seed(cfg.get(\"seed\", 1337))\n",
        "\n",
        "# Setup device\n",
        "device = torch.device(\"cuda\" if torch.cuda.is_available() else \"cpu\")\n",
        "\n",
        "# Setup Augmentations\n",
        "augmentations = cfg[\"training\"].get(\"augmentations\", None)\n",
        "data_aug = get_composed_augmentations(augmentations)\n",
        "\n",
        "# Setup Dataloader\n",
        "data_loader = get_loader(cfg[\"data\"][\"dataset\"])\n",
        "data_path = cfg[\"data\"][\"path\"]\n",
        "\n",
        "t_loader = data_loader(\n",
        "    data_path,\n",
        "    is_transform=True,\n",
        "    split=cfg[\"data\"][\"train_split\"],\n",
        "    img_size=(cfg[\"data\"][\"img_rows\"], cfg[\"data\"][\"img_cols\"]),\n",
        "    augmentations=data_aug,\n",
        ")\n",
        "n_classes = t_loader.n_classes\n",
        "trainloader = data.DataLoader(\n",
        "    t_loader,\n",
        "    batch_size=cfg[\"training\"][\"batch_size\"],\n",
        "    num_workers=cfg[\"training\"][\"n_workers\"],\n",
        "    shuffle=True,\n",
        ")\n",
        "\n",
        "v_loader = data_loader(\n",
        "    data_path,\n",
        "    is_transform=True,\n",
        "    split=cfg[\"data\"][\"val_split\"],\n",
        "    img_size=(1024,2048),\n",
        ")\n",
        "valloader = data.DataLoader(\n",
        "    v_loader, batch_size=cfg[\"training\"][\"batch_size\"], num_workers=cfg[\"training\"][\"n_workers\"]\n",
        ")"
      ],
      "execution_count": null,
      "outputs": [
        {
          "output_type": "stream",
          "text": [
            "Found 2975 train images\n"
          ],
          "name": "stdout"
        },
        {
          "output_type": "stream",
          "text": [
            "/usr/local/lib/python3.7/dist-packages/torch/utils/data/dataloader.py:477: UserWarning: This DataLoader will create 8 worker processes in total. Our suggested max number of worker in current system is 2, which is smaller than what this DataLoader is going to create. Please be aware that excessive worker creation might get DataLoader running slow or even freeze, lower the worker number to avoid potential slowness/freeze if necessary.\n",
            "  cpuset_checked))\n"
          ],
          "name": "stderr"
        },
        {
          "output_type": "stream",
          "text": [
            "Found 500 val images\n"
          ],
          "name": "stdout"
        }
      ]
    },
    {
      "cell_type": "code",
      "metadata": {
        "colab": {
          "base_uri": "https://localhost:8080/"
        },
        "id": "lzVtLrD40dzK",
        "outputId": "0b67e6cd-8958-4ae4-b2cb-e2d2f4833a5e"
      },
      "source": [
        "running_metrics_val = runningScore(n_classes)\n",
        "model = initial_dilation_hardnet_modification().to(device)\n",
        "total_params = sum(p.numel() for p in model.parameters())\n",
        "print( 'Parameters:',total_params )\n",
        "def weights_init(m):\n",
        "    if isinstance(m, nn.Conv2d):\n",
        "        nn.init.xavier_normal_(m.weight)\n",
        "\n",
        "model = torch.nn.DataParallel(model, device_ids=range(torch.cuda.device_count()))\n",
        "model.apply(weights_init)\n",
        "pass"
      ],
      "execution_count": null,
      "outputs": [
        {
          "output_type": "stream",
          "text": [
            "Parameters: 4096777\n"
          ],
          "name": "stdout"
        }
      ]
    },
    {
      "cell_type": "code",
      "metadata": {
        "colab": {
          "base_uri": "https://localhost:8080/"
        },
        "id": "DvWgLOlT0eEg",
        "outputId": "a4255520-9a73-4fb2-8ed9-b2cd30d567b1"
      },
      "source": [
        "optimizer_cls = get_optimizer(cfg)\n",
        "optimizer_params = {k: v for k, v in cfg[\"training\"][\"optimizer\"].items() if k != \"name\"}\n",
        "optimizer = optimizer_cls(model.parameters(), **optimizer_params)\n",
        "scheduler = get_scheduler(optimizer, cfg[\"training\"][\"lr_schedule\"])\n",
        "loss_fn = get_loss_function(cfg)\n",
        "\n",
        "print(\"Using optimizer {}\".format(optimizer))\n",
        "print(\"Using loss {}\".format(loss_fn))\n",
        "\n",
        "val_loss_meter = averageMeter()\n",
        "time_meter = averageMeter()"
      ],
      "execution_count": null,
      "outputs": [
        {
          "output_type": "stream",
          "text": [
            "Using optimizer SGD (\n",
            "Parameter Group 0\n",
            "    dampening: 0\n",
            "    initial_lr: 0.02\n",
            "    lr: 0.02\n",
            "    momentum: 0.9\n",
            "    nesterov: False\n",
            "    weight_decay: 0.0005\n",
            ")\n",
            "Using loss functools.partial(<function bootstrapped_cross_entropy2d at 0x7f36324a2710>, min_K=4096, loss_th=0.3, size_average=True)\n"
          ],
          "name": "stdout"
        }
      ]
    },
    {
      "cell_type": "code",
      "metadata": {
        "id": "rONTE4LT1Mlf"
      },
      "source": [
        "start_iter = 0\n",
        "best_iou = -100.0\n",
        "i = start_iter\n",
        "flag = True\n",
        "loss_all = 0\n",
        "loss_n = 0"
      ],
      "execution_count": null,
      "outputs": []
    },
    {
      "cell_type": "code",
      "metadata": {
        "colab": {
          "base_uri": "https://localhost:8080/"
        },
        "id": "GbEvJvKx1fC2",
        "outputId": "b4d7325e-f734-4597-93d7-86b5f4685431"
      },
      "source": [
        "base_path = \"/content/drive/MyDrive/RnD/runs/HarDNet\"\n",
        "logdir = os.path.join(base_path ,\"multi_dilation_on_first_steps\", str(datetime.fromtimestamp(int(time.time()))))\n",
        "writer = SummaryWriter(log_dir=logdir)\n",
        "\n",
        "print(\"RUNDIR: {}\".format(logdir))\n",
        "# shutil.copy(args.config, logdir)\n",
        "\n",
        "logger = get_logger(logdir)\n",
        "logger.info(\"Let the games begin\")"
      ],
      "execution_count": null,
      "outputs": [
        {
          "output_type": "stream",
          "text": [
            "INFO:ptsemseg:Let the games begin\n"
          ],
          "name": "stderr"
        },
        {
          "output_type": "stream",
          "text": [
            "RUNDIR: /content/drive/MyDrive/RnD/runs/multi_dilation_on_first_steps/2021-03-15 16:56:18\n"
          ],
          "name": "stdout"
        }
      ]
    },
    {
      "cell_type": "markdown",
      "metadata": {
        "id": "8J9Gl2Rpb2ZS"
      },
      "source": [
        "## Model pretrained "
      ]
    },
    {
      "cell_type": "code",
      "metadata": {
        "colab": {
          "base_uri": "https://localhost:8080/",
          "height": 35
        },
        "id": "TyD0RHtDwbow",
        "outputId": "1209804f-f749-42dd-f605-f2e38c300ac9"
      },
      "source": [
        "base = os.listdir('/content/drive/MyDrive/RnD/runs/multi_dilation_on_first_steps')[-2]\n",
        "base"
      ],
      "execution_count": null,
      "outputs": [
        {
          "output_type": "execute_result",
          "data": {
            "application/vnd.google.colaboratory.intrinsic+json": {
              "type": "string"
            },
            "text/plain": [
              "'2021-03-15 07:25:31'"
            ]
          },
          "metadata": {
            "tags": []
          },
          "execution_count": 16
        }
      ]
    },
    {
      "cell_type": "code",
      "metadata": {
        "id": "89BPSogcvoQx"
      },
      "source": [
        "loaded = torch.load(f'{base_path}/multi_dilation_on_first_steps/{base}/hardnet_cityscapes_checkpoint.pkl')\n",
        "best_iou_arrc = torch.load(f'{base_path}/multi_dilation_on_first_steps/{base}/hardnet_cityscapes_best_model.pkl')\n",
        "model_state = loaded.get('model_state')\n",
        "\n",
        "optimizer_state = loaded.get('optimizer_state')\n",
        "scheduler_state = loaded.get('scheduler_state')\n",
        "start_iter = loaded.get('epoch')\n",
        "\n",
        "best_iou = best_iou_arrc.get('best_iou')\n",
        "i = start_iter\n",
        "flag = True\n",
        "loss_all = 0\n",
        "loss_n = 0\n",
        "\n",
        "model.load_state_dict(model_state)\n",
        "optimizer.load_state_dict(optimizer_state)\n",
        "scheduler.load_state_dict(scheduler_state)"
      ],
      "execution_count": null,
      "outputs": []
    },
    {
      "cell_type": "markdown",
      "metadata": {
        "id": "QgrsIWRccA1l"
      },
      "source": [
        "## Training"
      ]
    },
    {
      "cell_type": "code",
      "metadata": {
        "colab": {
          "base_uri": "https://localhost:8080/"
        },
        "id": "Y2SP3BpFvuUF",
        "outputId": "ae09a210-ed2d-425e-fa8c-05a87e723dc9"
      },
      "source": [
        "!nvidia-smi"
      ],
      "execution_count": null,
      "outputs": [
        {
          "output_type": "stream",
          "text": [
            "Mon Mar 15 07:25:33 2021       \n",
            "+-----------------------------------------------------------------------------+\n",
            "| NVIDIA-SMI 460.56       Driver Version: 460.32.03    CUDA Version: 11.2     |\n",
            "|-------------------------------+----------------------+----------------------+\n",
            "| GPU  Name        Persistence-M| Bus-Id        Disp.A | Volatile Uncorr. ECC |\n",
            "| Fan  Temp  Perf  Pwr:Usage/Cap|         Memory-Usage | GPU-Util  Compute M. |\n",
            "|                               |                      |               MIG M. |\n",
            "|===============================+======================+======================|\n",
            "|   0  Tesla T4            Off  | 00000000:00:04.0 Off |                    0 |\n",
            "| N/A   54C    P0    28W /  70W |   1146MiB / 15109MiB |      3%      Default |\n",
            "|                               |                      |                  N/A |\n",
            "+-------------------------------+----------------------+----------------------+\n",
            "                                                                               \n",
            "+-----------------------------------------------------------------------------+\n",
            "| Processes:                                                                  |\n",
            "|  GPU   GI   CI        PID   Type   Process name                  GPU Memory |\n",
            "|        ID   ID                                                   Usage      |\n",
            "|=============================================================================|\n",
            "+-----------------------------------------------------------------------------+\n"
          ],
          "name": "stdout"
        }
      ]
    },
    {
      "cell_type": "code",
      "metadata": {
        "colab": {
          "base_uri": "https://localhost:8080/"
        },
        "id": "O8-LHx2QwFNL",
        "outputId": "7f28f22f-e305-41bb-bbe3-eb57d286654a"
      },
      "source": [
        "i, cfg[\"training\"][\"train_iters\"], best_iou"
      ],
      "execution_count": null,
      "outputs": [
        {
          "output_type": "execute_result",
          "data": {
            "text/plain": [
              "(38000, 50000, 0.590415981830435)"
            ]
          },
          "metadata": {
            "tags": []
          },
          "execution_count": 18
        }
      ]
    },
    {
      "cell_type": "code",
      "metadata": {
        "colab": {
          "base_uri": "https://localhost:8080/"
        },
        "id": "mSPLiPoA1M7l",
        "outputId": "340b7980-5b18-473a-d229-e38ce6f9124d"
      },
      "source": [
        "while i <= cfg[\"training\"][\"train_iters\"] and flag:\n",
        "    for (images, labels, _) in trainloader:\n",
        "        i += 1\n",
        "        start_ts = time.time()\n",
        "        model.train()\n",
        "        images = images.to(device)\n",
        "        labels = labels.to(device)\n",
        " \n",
        "        optimizer.zero_grad()\n",
        "        outputs = model(images)\n",
        " \n",
        "        loss = loss_fn(input=outputs, target=labels)\n",
        "        loss.backward()\n",
        "        optimizer.step()\n",
        "        scheduler.step()\n",
        "        c_lr = scheduler.get_lr()\n",
        " \n",
        "        time_meter.update(time.time() - start_ts)\n",
        "        loss_all += loss.item()\n",
        "        loss_n += 1\n",
        "        \n",
        "        if (i + 1) % cfg[\"training\"][\"print_interval\"] == 0:\n",
        "            fmt_str = \"Iter [{:d}/{:d}]  Loss: {:.4f}  Time/Image: {:.4f}  lr={:.6f}\"\n",
        "            print_str = fmt_str.format(\n",
        "                i + 1,\n",
        "                cfg[\"training\"][\"train_iters\"],\n",
        "                loss_all / loss_n,\n",
        "                time_meter.avg / cfg[\"training\"][\"batch_size\"],\n",
        "                c_lr[0],\n",
        "            )\n",
        "            \n",
        " \n",
        "            print(print_str)\n",
        "            logger.info(print_str)\n",
        "            writer.add_scalar(\"loss/train_loss\", loss.item(), i + 1)\n",
        "            time_meter.reset()\n",
        " \n",
        "        if (i + 1) % cfg[\"training\"][\"val_interval\"] == 0 or (i + 1) == cfg[\"training\"][\n",
        "            \"train_iters\"\n",
        "        ]:\n",
        "            torch.cuda.empty_cache()\n",
        "            model.eval()\n",
        "            loss_all = 0\n",
        "            loss_n = 0\n",
        "            with torch.no_grad():\n",
        "                for i_val, (images_val, labels_val, _) in tqdm(enumerate(valloader)):\n",
        "                    images_val = images_val.to(device)\n",
        "                    labels_val = labels_val.to(device)\n",
        " \n",
        "                    outputs = model(images_val)\n",
        "                    val_loss = loss_fn(input=outputs, target=labels_val)\n",
        " \n",
        "                    pred = outputs.data.max(1)[1].cpu().numpy()\n",
        "                    gt = labels_val.data.cpu().numpy()\n",
        " \n",
        "                    running_metrics_val.update(gt, pred)\n",
        "                    val_loss_meter.update(val_loss.item())\n",
        " \n",
        "            writer.add_scalar(\"loss/val_loss\", val_loss_meter.avg, i + 1)\n",
        "            logger.info(\"Iter %d Val Loss: %.4f\" % (i + 1, val_loss_meter.avg))\n",
        " \n",
        "            score, class_iou = running_metrics_val.get_scores()\n",
        "            for k, v in score.items():\n",
        "                print(k, v)\n",
        "                logger.info(\"{}: {}\".format(k, v))\n",
        "                writer.add_scalar(\"val_metrics/{}\".format(k), v, i + 1)\n",
        " \n",
        "            for k, v in class_iou.items():\n",
        "                logger.info(\"{}: {}\".format(k, v))\n",
        "                writer.add_scalar(\"val_metrics/cls_{}\".format(k), v, i + 1)\n",
        " \n",
        "            val_loss_meter.reset()\n",
        "            running_metrics_val.reset()\n",
        "            \n",
        "            state = {\n",
        "                    \"epoch\": i + 1,\n",
        "                    \"model_state\": model.state_dict(),\n",
        "                    \"optimizer_state\": optimizer.state_dict(),\n",
        "                    \"scheduler_state\": scheduler.state_dict(),\n",
        "            }\n",
        "            save_path = os.path.join(\n",
        "                writer.file_writer.get_logdir(),\n",
        "                \"{}_{}_checkpoint.pkl\".format(cfg[\"model\"][\"arch\"], cfg[\"data\"][\"dataset\"]),\n",
        "            )\n",
        "            torch.save(state, save_path)\n",
        " \n",
        "            if score[\"Mean IoU : \\t\"] >= best_iou:\n",
        "                best_iou = score[\"Mean IoU : \\t\"]\n",
        "                state = {\n",
        "                    \"epoch\": i + 1,\n",
        "                    \"model_state\": model.state_dict(),\n",
        "                    \"best_iou\": best_iou,\n",
        "                }\n",
        "                save_path = os.path.join(\n",
        "                    writer.file_writer.get_logdir(),\n",
        "                    \"{}_{}_best_model.pkl\".format(cfg[\"model\"][\"arch\"], cfg[\"data\"][\"dataset\"]),\n",
        "                )\n",
        "                torch.save(state, save_path)\n",
        "            torch.cuda.empty_cache()\n",
        " \n",
        "        if (i + 1) == cfg[\"training\"][\"train_iters\"]:\n",
        "            flag = False\n",
        "            break"
      ],
      "execution_count": null,
      "outputs": [
        {
          "output_type": "stream",
          "text": [
            "/usr/local/lib/python3.7/dist-packages/torch/utils/data/dataloader.py:477: UserWarning: This DataLoader will create 8 worker processes in total. Our suggested max number of worker in current system is 2, which is smaller than what this DataLoader is going to create. Please be aware that excessive worker creation might get DataLoader running slow or even freeze, lower the worker number to avoid potential slowness/freeze if necessary.\n",
            "  cpuset_checked))\n",
            "/usr/local/lib/python3.7/dist-packages/torch/nn/_reduction.py:42: UserWarning: size_average and reduce args will be deprecated, please use reduction='none' instead.\n",
            "  warnings.warn(warning.format(ret))\n",
            "INFO:ptsemseg:Iter [38010/50000]  Loss: 1.0539  Time/Image: 0.2069  lr=0.014196\n"
          ],
          "name": "stderr"
        },
        {
          "output_type": "stream",
          "text": [
            "Iter [38010/50000]  Loss: 1.0539  Time/Image: 0.2069  lr=0.014196\n"
          ],
          "name": "stdout"
        },
        {
          "output_type": "stream",
          "text": [
            "INFO:ptsemseg:Iter [38020/50000]  Loss: 1.0142  Time/Image: 0.1919  lr=0.014195\n"
          ],
          "name": "stderr"
        },
        {
          "output_type": "stream",
          "text": [
            "Iter [38020/50000]  Loss: 1.0142  Time/Image: 0.1919  lr=0.014195\n"
          ],
          "name": "stdout"
        },
        {
          "output_type": "stream",
          "text": [
            "INFO:ptsemseg:Iter [38030/50000]  Loss: 0.9931  Time/Image: 0.1941  lr=0.014193\n"
          ],
          "name": "stderr"
        },
        {
          "output_type": "stream",
          "text": [
            "Iter [38030/50000]  Loss: 0.9931  Time/Image: 0.1941  lr=0.014193\n"
          ],
          "name": "stdout"
        },
        {
          "output_type": "stream",
          "text": [
            "INFO:ptsemseg:Iter [38040/50000]  Loss: 1.0140  Time/Image: 0.2012  lr=0.014191\n"
          ],
          "name": "stderr"
        },
        {
          "output_type": "stream",
          "text": [
            "Iter [38040/50000]  Loss: 1.0140  Time/Image: 0.2012  lr=0.014191\n"
          ],
          "name": "stdout"
        },
        {
          "output_type": "stream",
          "text": [
            "INFO:ptsemseg:Iter [38050/50000]  Loss: 1.0121  Time/Image: 0.2006  lr=0.014190\n"
          ],
          "name": "stderr"
        },
        {
          "output_type": "stream",
          "text": [
            "Iter [38050/50000]  Loss: 1.0121  Time/Image: 0.2006  lr=0.014190\n"
          ],
          "name": "stdout"
        },
        {
          "output_type": "stream",
          "text": [
            "INFO:ptsemseg:Iter [38060/50000]  Loss: 1.0011  Time/Image: 0.2053  lr=0.014188\n"
          ],
          "name": "stderr"
        },
        {
          "output_type": "stream",
          "text": [
            "Iter [38060/50000]  Loss: 1.0011  Time/Image: 0.2053  lr=0.014188\n"
          ],
          "name": "stdout"
        },
        {
          "output_type": "stream",
          "text": [
            "INFO:ptsemseg:Iter [38070/50000]  Loss: 1.0004  Time/Image: 0.2011  lr=0.014187\n"
          ],
          "name": "stderr"
        },
        {
          "output_type": "stream",
          "text": [
            "Iter [38070/50000]  Loss: 1.0004  Time/Image: 0.2011  lr=0.014187\n"
          ],
          "name": "stdout"
        },
        {
          "output_type": "stream",
          "text": [
            "INFO:ptsemseg:Iter [38080/50000]  Loss: 1.0103  Time/Image: 0.2098  lr=0.014185\n"
          ],
          "name": "stderr"
        },
        {
          "output_type": "stream",
          "text": [
            "Iter [38080/50000]  Loss: 1.0103  Time/Image: 0.2098  lr=0.014185\n"
          ],
          "name": "stdout"
        },
        {
          "output_type": "stream",
          "text": [
            "INFO:ptsemseg:Iter [38090/50000]  Loss: 0.9976  Time/Image: 0.2044  lr=0.014184\n"
          ],
          "name": "stderr"
        },
        {
          "output_type": "stream",
          "text": [
            "Iter [38090/50000]  Loss: 0.9976  Time/Image: 0.2044  lr=0.014184\n"
          ],
          "name": "stdout"
        },
        {
          "output_type": "stream",
          "text": [
            "INFO:ptsemseg:Iter [38100/50000]  Loss: 1.0003  Time/Image: 0.1965  lr=0.014182\n"
          ],
          "name": "stderr"
        },
        {
          "output_type": "stream",
          "text": [
            "Iter [38100/50000]  Loss: 1.0003  Time/Image: 0.1965  lr=0.014182\n"
          ],
          "name": "stdout"
        },
        {
          "output_type": "stream",
          "text": [
            "INFO:ptsemseg:Iter [38110/50000]  Loss: 0.9969  Time/Image: 0.2067  lr=0.014181\n"
          ],
          "name": "stderr"
        },
        {
          "output_type": "stream",
          "text": [
            "Iter [38110/50000]  Loss: 0.9969  Time/Image: 0.2067  lr=0.014181\n"
          ],
          "name": "stdout"
        },
        {
          "output_type": "stream",
          "text": [
            "INFO:ptsemseg:Iter [38120/50000]  Loss: 1.0016  Time/Image: 0.1980  lr=0.014179\n"
          ],
          "name": "stderr"
        },
        {
          "output_type": "stream",
          "text": [
            "Iter [38120/50000]  Loss: 1.0016  Time/Image: 0.1980  lr=0.014179\n"
          ],
          "name": "stdout"
        },
        {
          "output_type": "stream",
          "text": [
            "INFO:ptsemseg:Iter [38130/50000]  Loss: 1.0012  Time/Image: 0.2060  lr=0.014177\n"
          ],
          "name": "stderr"
        },
        {
          "output_type": "stream",
          "text": [
            "Iter [38130/50000]  Loss: 1.0012  Time/Image: 0.2060  lr=0.014177\n"
          ],
          "name": "stdout"
        },
        {
          "output_type": "stream",
          "text": [
            "INFO:ptsemseg:Iter [38140/50000]  Loss: 1.0006  Time/Image: 0.1998  lr=0.014176\n"
          ],
          "name": "stderr"
        },
        {
          "output_type": "stream",
          "text": [
            "Iter [38140/50000]  Loss: 1.0006  Time/Image: 0.1998  lr=0.014176\n"
          ],
          "name": "stdout"
        },
        {
          "output_type": "stream",
          "text": [
            "INFO:ptsemseg:Iter [38150/50000]  Loss: 1.0034  Time/Image: 0.1996  lr=0.014174\n"
          ],
          "name": "stderr"
        },
        {
          "output_type": "stream",
          "text": [
            "Iter [38150/50000]  Loss: 1.0034  Time/Image: 0.1996  lr=0.014174\n"
          ],
          "name": "stdout"
        },
        {
          "output_type": "stream",
          "text": [
            "INFO:ptsemseg:Iter [38160/50000]  Loss: 0.9959  Time/Image: 0.1988  lr=0.014173\n"
          ],
          "name": "stderr"
        },
        {
          "output_type": "stream",
          "text": [
            "Iter [38160/50000]  Loss: 0.9959  Time/Image: 0.1988  lr=0.014173\n"
          ],
          "name": "stdout"
        },
        {
          "output_type": "stream",
          "text": [
            "INFO:ptsemseg:Iter [38170/50000]  Loss: 0.9937  Time/Image: 0.2011  lr=0.014171\n"
          ],
          "name": "stderr"
        },
        {
          "output_type": "stream",
          "text": [
            "Iter [38170/50000]  Loss: 0.9937  Time/Image: 0.2011  lr=0.014171\n"
          ],
          "name": "stdout"
        },
        {
          "output_type": "stream",
          "text": [
            "INFO:ptsemseg:Iter [38180/50000]  Loss: 0.9964  Time/Image: 0.2098  lr=0.014170\n"
          ],
          "name": "stderr"
        },
        {
          "output_type": "stream",
          "text": [
            "Iter [38180/50000]  Loss: 0.9964  Time/Image: 0.2098  lr=0.014170\n"
          ],
          "name": "stdout"
        },
        {
          "output_type": "stream",
          "text": [
            "INFO:ptsemseg:Iter [38190/50000]  Loss: 0.9956  Time/Image: 0.2047  lr=0.014168\n"
          ],
          "name": "stderr"
        },
        {
          "output_type": "stream",
          "text": [
            "Iter [38190/50000]  Loss: 0.9956  Time/Image: 0.2047  lr=0.014168\n"
          ],
          "name": "stdout"
        },
        {
          "output_type": "stream",
          "text": [
            "INFO:ptsemseg:Iter [38200/50000]  Loss: 0.9946  Time/Image: 0.2086  lr=0.014167\n"
          ],
          "name": "stderr"
        },
        {
          "output_type": "stream",
          "text": [
            "Iter [38200/50000]  Loss: 0.9946  Time/Image: 0.2086  lr=0.014167\n"
          ],
          "name": "stdout"
        },
        {
          "output_type": "stream",
          "text": [
            "INFO:ptsemseg:Iter [38210/50000]  Loss: 0.9959  Time/Image: 0.1996  lr=0.014165\n"
          ],
          "name": "stderr"
        },
        {
          "output_type": "stream",
          "text": [
            "Iter [38210/50000]  Loss: 0.9959  Time/Image: 0.1996  lr=0.014165\n"
          ],
          "name": "stdout"
        },
        {
          "output_type": "stream",
          "text": [
            "INFO:ptsemseg:Iter [38220/50000]  Loss: 0.9971  Time/Image: 0.2036  lr=0.014163\n"
          ],
          "name": "stderr"
        },
        {
          "output_type": "stream",
          "text": [
            "Iter [38220/50000]  Loss: 0.9971  Time/Image: 0.2036  lr=0.014163\n"
          ],
          "name": "stdout"
        },
        {
          "output_type": "stream",
          "text": [
            "INFO:ptsemseg:Iter [38230/50000]  Loss: 0.9924  Time/Image: 0.1997  lr=0.014162\n"
          ],
          "name": "stderr"
        },
        {
          "output_type": "stream",
          "text": [
            "Iter [38230/50000]  Loss: 0.9924  Time/Image: 0.1997  lr=0.014162\n"
          ],
          "name": "stdout"
        },
        {
          "output_type": "stream",
          "text": [
            "INFO:ptsemseg:Iter [38240/50000]  Loss: 0.9948  Time/Image: 0.2086  lr=0.014160\n"
          ],
          "name": "stderr"
        },
        {
          "output_type": "stream",
          "text": [
            "Iter [38240/50000]  Loss: 0.9948  Time/Image: 0.2086  lr=0.014160\n"
          ],
          "name": "stdout"
        },
        {
          "output_type": "stream",
          "text": [
            "INFO:ptsemseg:Iter [38250/50000]  Loss: 0.9921  Time/Image: 0.1964  lr=0.014159\n"
          ],
          "name": "stderr"
        },
        {
          "output_type": "stream",
          "text": [
            "Iter [38250/50000]  Loss: 0.9921  Time/Image: 0.1964  lr=0.014159\n"
          ],
          "name": "stdout"
        },
        {
          "output_type": "stream",
          "text": [
            "INFO:ptsemseg:Iter [38260/50000]  Loss: 0.9918  Time/Image: 0.2044  lr=0.014157\n"
          ],
          "name": "stderr"
        },
        {
          "output_type": "stream",
          "text": [
            "Iter [38260/50000]  Loss: 0.9918  Time/Image: 0.2044  lr=0.014157\n"
          ],
          "name": "stdout"
        },
        {
          "output_type": "stream",
          "text": [
            "INFO:ptsemseg:Iter [38270/50000]  Loss: 0.9915  Time/Image: 0.1994  lr=0.014156\n"
          ],
          "name": "stderr"
        },
        {
          "output_type": "stream",
          "text": [
            "Iter [38270/50000]  Loss: 0.9915  Time/Image: 0.1994  lr=0.014156\n"
          ],
          "name": "stdout"
        },
        {
          "output_type": "stream",
          "text": [
            "INFO:ptsemseg:Iter [38280/50000]  Loss: 0.9914  Time/Image: 0.1990  lr=0.014154\n"
          ],
          "name": "stderr"
        },
        {
          "output_type": "stream",
          "text": [
            "Iter [38280/50000]  Loss: 0.9914  Time/Image: 0.1990  lr=0.014154\n"
          ],
          "name": "stdout"
        },
        {
          "output_type": "stream",
          "text": [
            "INFO:ptsemseg:Iter [38290/50000]  Loss: 0.9898  Time/Image: 0.2110  lr=0.014153\n"
          ],
          "name": "stderr"
        },
        {
          "output_type": "stream",
          "text": [
            "Iter [38290/50000]  Loss: 0.9898  Time/Image: 0.2110  lr=0.014153\n"
          ],
          "name": "stdout"
        },
        {
          "output_type": "stream",
          "text": [
            "INFO:ptsemseg:Iter [38300/50000]  Loss: 0.9922  Time/Image: 0.1976  lr=0.014151\n"
          ],
          "name": "stderr"
        },
        {
          "output_type": "stream",
          "text": [
            "Iter [38300/50000]  Loss: 0.9922  Time/Image: 0.1976  lr=0.014151\n"
          ],
          "name": "stdout"
        },
        {
          "output_type": "stream",
          "text": [
            "INFO:ptsemseg:Iter [38310/50000]  Loss: 0.9918  Time/Image: 0.1967  lr=0.014149\n"
          ],
          "name": "stderr"
        },
        {
          "output_type": "stream",
          "text": [
            "Iter [38310/50000]  Loss: 0.9918  Time/Image: 0.1967  lr=0.014149\n"
          ],
          "name": "stdout"
        },
        {
          "output_type": "stream",
          "text": [
            "INFO:ptsemseg:Iter [38320/50000]  Loss: 0.9904  Time/Image: 0.2027  lr=0.014148\n"
          ],
          "name": "stderr"
        },
        {
          "output_type": "stream",
          "text": [
            "Iter [38320/50000]  Loss: 0.9904  Time/Image: 0.2027  lr=0.014148\n"
          ],
          "name": "stdout"
        },
        {
          "output_type": "stream",
          "text": [
            "INFO:ptsemseg:Iter [38330/50000]  Loss: 0.9905  Time/Image: 0.1995  lr=0.014146\n"
          ],
          "name": "stderr"
        },
        {
          "output_type": "stream",
          "text": [
            "Iter [38330/50000]  Loss: 0.9905  Time/Image: 0.1995  lr=0.014146\n"
          ],
          "name": "stdout"
        },
        {
          "output_type": "stream",
          "text": [
            "INFO:ptsemseg:Iter [38340/50000]  Loss: 0.9907  Time/Image: 0.2026  lr=0.014145\n"
          ],
          "name": "stderr"
        },
        {
          "output_type": "stream",
          "text": [
            "Iter [38340/50000]  Loss: 0.9907  Time/Image: 0.2026  lr=0.014145\n"
          ],
          "name": "stdout"
        },
        {
          "output_type": "stream",
          "text": [
            "INFO:ptsemseg:Iter [38350/50000]  Loss: 0.9912  Time/Image: 0.2024  lr=0.014143\n"
          ],
          "name": "stderr"
        },
        {
          "output_type": "stream",
          "text": [
            "Iter [38350/50000]  Loss: 0.9912  Time/Image: 0.2024  lr=0.014143\n"
          ],
          "name": "stdout"
        },
        {
          "output_type": "stream",
          "text": [
            "INFO:ptsemseg:Iter [38360/50000]  Loss: 0.9905  Time/Image: 0.2008  lr=0.014142\n"
          ],
          "name": "stderr"
        },
        {
          "output_type": "stream",
          "text": [
            "Iter [38360/50000]  Loss: 0.9905  Time/Image: 0.2008  lr=0.014142\n"
          ],
          "name": "stdout"
        },
        {
          "output_type": "stream",
          "text": [
            "INFO:ptsemseg:Iter [38370/50000]  Loss: 0.9925  Time/Image: 0.2009  lr=0.014140\n"
          ],
          "name": "stderr"
        },
        {
          "output_type": "stream",
          "text": [
            "Iter [38370/50000]  Loss: 0.9925  Time/Image: 0.2009  lr=0.014140\n"
          ],
          "name": "stdout"
        },
        {
          "output_type": "stream",
          "text": [
            "INFO:ptsemseg:Iter [38380/50000]  Loss: 0.9905  Time/Image: 0.1963  lr=0.014138\n"
          ],
          "name": "stderr"
        },
        {
          "output_type": "stream",
          "text": [
            "Iter [38380/50000]  Loss: 0.9905  Time/Image: 0.1963  lr=0.014138\n"
          ],
          "name": "stdout"
        },
        {
          "output_type": "stream",
          "text": [
            "INFO:ptsemseg:Iter [38390/50000]  Loss: 0.9917  Time/Image: 0.2039  lr=0.014137\n"
          ],
          "name": "stderr"
        },
        {
          "output_type": "stream",
          "text": [
            "Iter [38390/50000]  Loss: 0.9917  Time/Image: 0.2039  lr=0.014137\n"
          ],
          "name": "stdout"
        },
        {
          "output_type": "stream",
          "text": [
            "INFO:ptsemseg:Iter [38400/50000]  Loss: 0.9929  Time/Image: 0.1935  lr=0.014135\n"
          ],
          "name": "stderr"
        },
        {
          "output_type": "stream",
          "text": [
            "Iter [38400/50000]  Loss: 0.9929  Time/Image: 0.1935  lr=0.014135\n"
          ],
          "name": "stdout"
        },
        {
          "output_type": "stream",
          "text": [
            "INFO:ptsemseg:Iter [38410/50000]  Loss: 0.9938  Time/Image: 0.1962  lr=0.014134\n"
          ],
          "name": "stderr"
        },
        {
          "output_type": "stream",
          "text": [
            "Iter [38410/50000]  Loss: 0.9938  Time/Image: 0.1962  lr=0.014134\n"
          ],
          "name": "stdout"
        },
        {
          "output_type": "stream",
          "text": [
            "INFO:ptsemseg:Iter [38420/50000]  Loss: 0.9927  Time/Image: 0.1955  lr=0.014132\n"
          ],
          "name": "stderr"
        },
        {
          "output_type": "stream",
          "text": [
            "Iter [38420/50000]  Loss: 0.9927  Time/Image: 0.1955  lr=0.014132\n"
          ],
          "name": "stdout"
        },
        {
          "output_type": "stream",
          "text": [
            "INFO:ptsemseg:Iter [38430/50000]  Loss: 0.9942  Time/Image: 0.1986  lr=0.014131\n"
          ],
          "name": "stderr"
        },
        {
          "output_type": "stream",
          "text": [
            "Iter [38430/50000]  Loss: 0.9942  Time/Image: 0.1986  lr=0.014131\n"
          ],
          "name": "stdout"
        },
        {
          "output_type": "stream",
          "text": [
            "INFO:ptsemseg:Iter [38440/50000]  Loss: 0.9936  Time/Image: 0.1976  lr=0.014129\n"
          ],
          "name": "stderr"
        },
        {
          "output_type": "stream",
          "text": [
            "Iter [38440/50000]  Loss: 0.9936  Time/Image: 0.1976  lr=0.014129\n"
          ],
          "name": "stdout"
        },
        {
          "output_type": "stream",
          "text": [
            "INFO:ptsemseg:Iter [38450/50000]  Loss: 0.9951  Time/Image: 0.1962  lr=0.014128\n"
          ],
          "name": "stderr"
        },
        {
          "output_type": "stream",
          "text": [
            "Iter [38450/50000]  Loss: 0.9951  Time/Image: 0.1962  lr=0.014128\n"
          ],
          "name": "stdout"
        },
        {
          "output_type": "stream",
          "text": [
            "INFO:ptsemseg:Iter [38460/50000]  Loss: 0.9958  Time/Image: 0.2021  lr=0.014126\n"
          ],
          "name": "stderr"
        },
        {
          "output_type": "stream",
          "text": [
            "Iter [38460/50000]  Loss: 0.9958  Time/Image: 0.2021  lr=0.014126\n"
          ],
          "name": "stdout"
        },
        {
          "output_type": "stream",
          "text": [
            "INFO:ptsemseg:Iter [38470/50000]  Loss: 0.9952  Time/Image: 0.1992  lr=0.014124\n"
          ],
          "name": "stderr"
        },
        {
          "output_type": "stream",
          "text": [
            "Iter [38470/50000]  Loss: 0.9952  Time/Image: 0.1992  lr=0.014124\n"
          ],
          "name": "stdout"
        },
        {
          "output_type": "stream",
          "text": [
            "INFO:ptsemseg:Iter [38480/50000]  Loss: 0.9949  Time/Image: 0.1990  lr=0.014123\n"
          ],
          "name": "stderr"
        },
        {
          "output_type": "stream",
          "text": [
            "Iter [38480/50000]  Loss: 0.9949  Time/Image: 0.1990  lr=0.014123\n"
          ],
          "name": "stdout"
        },
        {
          "output_type": "stream",
          "text": [
            "INFO:ptsemseg:Iter [38490/50000]  Loss: 0.9945  Time/Image: 0.1955  lr=0.014121\n"
          ],
          "name": "stderr"
        },
        {
          "output_type": "stream",
          "text": [
            "Iter [38490/50000]  Loss: 0.9945  Time/Image: 0.1955  lr=0.014121\n"
          ],
          "name": "stdout"
        },
        {
          "output_type": "stream",
          "text": [
            "INFO:ptsemseg:Iter [38500/50000]  Loss: 0.9938  Time/Image: 0.1858  lr=0.014120\n"
          ],
          "name": "stderr"
        },
        {
          "output_type": "stream",
          "text": [
            "Iter [38500/50000]  Loss: 0.9938  Time/Image: 0.1858  lr=0.014120\n"
          ],
          "name": "stdout"
        },
        {
          "output_type": "stream",
          "text": [
            "84it [03:41,  2.64s/it]\n",
            "INFO:ptsemseg:Iter 38500 Val Loss: 0.9580\n",
            "INFO:ptsemseg:Overall Acc: \t: 0.928540263052428\n",
            "INFO:ptsemseg:Mean Acc : \t: 0.6802702903410255\n",
            "INFO:ptsemseg:FreqW Acc : \t: 0.8755654942911043\n",
            "INFO:ptsemseg:Mean IoU : \t: 0.5732742821574273\n",
            "INFO:ptsemseg:0: 0.963706063302403\n",
            "INFO:ptsemseg:1: 0.7362469922236181\n",
            "INFO:ptsemseg:2: 0.8774942518804845\n",
            "INFO:ptsemseg:3: 0.2628809117724308\n",
            "INFO:ptsemseg:4: 0.37774645836716225\n",
            "INFO:ptsemseg:5: 0.48001154828385795\n",
            "INFO:ptsemseg:6: 0.4407330618498584\n",
            "INFO:ptsemseg:7: 0.628157797379652\n",
            "INFO:ptsemseg:8: 0.8864741747018826\n",
            "INFO:ptsemseg:9: 0.4667438309542842\n",
            "INFO:ptsemseg:10: 0.9053656975856575\n",
            "INFO:ptsemseg:11: 0.6898860520293495\n",
            "INFO:ptsemseg:12: 0.4340314628431331\n",
            "INFO:ptsemseg:13: 0.8939351606294433\n",
            "INFO:ptsemseg:14: 0.18904588852092397\n",
            "INFO:ptsemseg:15: 0.5220302414985317\n",
            "INFO:ptsemseg:16: 0.29962518740629684\n",
            "INFO:ptsemseg:17: 0.2261790290341832\n",
            "INFO:ptsemseg:18: 0.6119175507279649\n"
          ],
          "name": "stderr"
        },
        {
          "output_type": "stream",
          "text": [
            "Overall Acc: \t 0.928540263052428\n",
            "Mean Acc : \t 0.6802702903410255\n",
            "FreqW Acc : \t 0.8755654942911043\n",
            "Mean IoU : \t 0.5732742821574273\n"
          ],
          "name": "stdout"
        },
        {
          "output_type": "stream",
          "text": [
            "INFO:ptsemseg:Iter [38510/50000]  Loss: 0.9755  Time/Image: 0.2023  lr=0.014118\n"
          ],
          "name": "stderr"
        },
        {
          "output_type": "stream",
          "text": [
            "Iter [38510/50000]  Loss: 0.9755  Time/Image: 0.2023  lr=0.014118\n"
          ],
          "name": "stdout"
        },
        {
          "output_type": "stream",
          "text": [
            "INFO:ptsemseg:Iter [38520/50000]  Loss: 0.9864  Time/Image: 0.2287  lr=0.014117\n"
          ],
          "name": "stderr"
        },
        {
          "output_type": "stream",
          "text": [
            "Iter [38520/50000]  Loss: 0.9864  Time/Image: 0.2287  lr=0.014117\n"
          ],
          "name": "stdout"
        },
        {
          "output_type": "stream",
          "text": [
            "INFO:ptsemseg:Iter [38530/50000]  Loss: 0.9854  Time/Image: 0.2312  lr=0.014115\n"
          ],
          "name": "stderr"
        },
        {
          "output_type": "stream",
          "text": [
            "Iter [38530/50000]  Loss: 0.9854  Time/Image: 0.2312  lr=0.014115\n"
          ],
          "name": "stdout"
        },
        {
          "output_type": "stream",
          "text": [
            "INFO:ptsemseg:Iter [38540/50000]  Loss: 0.9651  Time/Image: 0.2296  lr=0.014114\n"
          ],
          "name": "stderr"
        },
        {
          "output_type": "stream",
          "text": [
            "Iter [38540/50000]  Loss: 0.9651  Time/Image: 0.2296  lr=0.014114\n"
          ],
          "name": "stdout"
        },
        {
          "output_type": "stream",
          "text": [
            "INFO:ptsemseg:Iter [38550/50000]  Loss: 0.9766  Time/Image: 0.2260  lr=0.014112\n"
          ],
          "name": "stderr"
        },
        {
          "output_type": "stream",
          "text": [
            "Iter [38550/50000]  Loss: 0.9766  Time/Image: 0.2260  lr=0.014112\n"
          ],
          "name": "stdout"
        },
        {
          "output_type": "stream",
          "text": [
            "INFO:ptsemseg:Iter [38560/50000]  Loss: 0.9746  Time/Image: 0.2274  lr=0.014110\n"
          ],
          "name": "stderr"
        },
        {
          "output_type": "stream",
          "text": [
            "Iter [38560/50000]  Loss: 0.9746  Time/Image: 0.2274  lr=0.014110\n"
          ],
          "name": "stdout"
        },
        {
          "output_type": "stream",
          "text": [
            "INFO:ptsemseg:Iter [38570/50000]  Loss: 0.9888  Time/Image: 0.2215  lr=0.014109\n"
          ],
          "name": "stderr"
        },
        {
          "output_type": "stream",
          "text": [
            "Iter [38570/50000]  Loss: 0.9888  Time/Image: 0.2215  lr=0.014109\n"
          ],
          "name": "stdout"
        },
        {
          "output_type": "stream",
          "text": [
            "INFO:ptsemseg:Iter [38580/50000]  Loss: 0.9885  Time/Image: 0.2292  lr=0.014107\n"
          ],
          "name": "stderr"
        },
        {
          "output_type": "stream",
          "text": [
            "Iter [38580/50000]  Loss: 0.9885  Time/Image: 0.2292  lr=0.014107\n"
          ],
          "name": "stdout"
        },
        {
          "output_type": "stream",
          "text": [
            "INFO:ptsemseg:Iter [38590/50000]  Loss: 0.9787  Time/Image: 0.2261  lr=0.014106\n"
          ],
          "name": "stderr"
        },
        {
          "output_type": "stream",
          "text": [
            "Iter [38590/50000]  Loss: 0.9787  Time/Image: 0.2261  lr=0.014106\n"
          ],
          "name": "stdout"
        },
        {
          "output_type": "stream",
          "text": [
            "INFO:ptsemseg:Iter [38600/50000]  Loss: 0.9779  Time/Image: 0.2236  lr=0.014104\n"
          ],
          "name": "stderr"
        },
        {
          "output_type": "stream",
          "text": [
            "Iter [38600/50000]  Loss: 0.9779  Time/Image: 0.2236  lr=0.014104\n"
          ],
          "name": "stdout"
        },
        {
          "output_type": "stream",
          "text": [
            "INFO:ptsemseg:Iter [38610/50000]  Loss: 0.9752  Time/Image: 0.2282  lr=0.014103\n"
          ],
          "name": "stderr"
        },
        {
          "output_type": "stream",
          "text": [
            "Iter [38610/50000]  Loss: 0.9752  Time/Image: 0.2282  lr=0.014103\n"
          ],
          "name": "stdout"
        },
        {
          "output_type": "stream",
          "text": [
            "INFO:ptsemseg:Iter [38620/50000]  Loss: 0.9812  Time/Image: 0.2254  lr=0.014101\n"
          ],
          "name": "stderr"
        },
        {
          "output_type": "stream",
          "text": [
            "Iter [38620/50000]  Loss: 0.9812  Time/Image: 0.2254  lr=0.014101\n"
          ],
          "name": "stdout"
        },
        {
          "output_type": "stream",
          "text": [
            "INFO:ptsemseg:Iter [38630/50000]  Loss: 0.9846  Time/Image: 0.2279  lr=0.014100\n"
          ],
          "name": "stderr"
        },
        {
          "output_type": "stream",
          "text": [
            "Iter [38630/50000]  Loss: 0.9846  Time/Image: 0.2279  lr=0.014100\n"
          ],
          "name": "stdout"
        },
        {
          "output_type": "stream",
          "text": [
            "INFO:ptsemseg:Iter [38640/50000]  Loss: 0.9801  Time/Image: 0.2290  lr=0.014098\n"
          ],
          "name": "stderr"
        },
        {
          "output_type": "stream",
          "text": [
            "Iter [38640/50000]  Loss: 0.9801  Time/Image: 0.2290  lr=0.014098\n"
          ],
          "name": "stdout"
        },
        {
          "output_type": "stream",
          "text": [
            "INFO:ptsemseg:Iter [38650/50000]  Loss: 0.9875  Time/Image: 0.2265  lr=0.014096\n"
          ],
          "name": "stderr"
        },
        {
          "output_type": "stream",
          "text": [
            "Iter [38650/50000]  Loss: 0.9875  Time/Image: 0.2265  lr=0.014096\n"
          ],
          "name": "stdout"
        },
        {
          "output_type": "stream",
          "text": [
            "INFO:ptsemseg:Iter [38660/50000]  Loss: 0.9792  Time/Image: 0.2267  lr=0.014095\n"
          ],
          "name": "stderr"
        },
        {
          "output_type": "stream",
          "text": [
            "Iter [38660/50000]  Loss: 0.9792  Time/Image: 0.2267  lr=0.014095\n"
          ],
          "name": "stdout"
        },
        {
          "output_type": "stream",
          "text": [
            "INFO:ptsemseg:Iter [38670/50000]  Loss: 0.9795  Time/Image: 0.2274  lr=0.014093\n"
          ],
          "name": "stderr"
        },
        {
          "output_type": "stream",
          "text": [
            "Iter [38670/50000]  Loss: 0.9795  Time/Image: 0.2274  lr=0.014093\n"
          ],
          "name": "stdout"
        },
        {
          "output_type": "stream",
          "text": [
            "INFO:ptsemseg:Iter [38680/50000]  Loss: 0.9867  Time/Image: 0.2229  lr=0.014092\n"
          ],
          "name": "stderr"
        },
        {
          "output_type": "stream",
          "text": [
            "Iter [38680/50000]  Loss: 0.9867  Time/Image: 0.2229  lr=0.014092\n"
          ],
          "name": "stdout"
        },
        {
          "output_type": "stream",
          "text": [
            "INFO:ptsemseg:Iter [38690/50000]  Loss: 0.9846  Time/Image: 0.2218  lr=0.014090\n"
          ],
          "name": "stderr"
        },
        {
          "output_type": "stream",
          "text": [
            "Iter [38690/50000]  Loss: 0.9846  Time/Image: 0.2218  lr=0.014090\n"
          ],
          "name": "stdout"
        },
        {
          "output_type": "stream",
          "text": [
            "INFO:ptsemseg:Iter [38700/50000]  Loss: 0.9822  Time/Image: 0.2276  lr=0.014089\n"
          ],
          "name": "stderr"
        },
        {
          "output_type": "stream",
          "text": [
            "Iter [38700/50000]  Loss: 0.9822  Time/Image: 0.2276  lr=0.014089\n"
          ],
          "name": "stdout"
        },
        {
          "output_type": "stream",
          "text": [
            "INFO:ptsemseg:Iter [38710/50000]  Loss: 0.9848  Time/Image: 0.2194  lr=0.014087\n"
          ],
          "name": "stderr"
        },
        {
          "output_type": "stream",
          "text": [
            "Iter [38710/50000]  Loss: 0.9848  Time/Image: 0.2194  lr=0.014087\n"
          ],
          "name": "stdout"
        },
        {
          "output_type": "stream",
          "text": [
            "INFO:ptsemseg:Iter [38720/50000]  Loss: 0.9838  Time/Image: 0.2236  lr=0.014085\n"
          ],
          "name": "stderr"
        },
        {
          "output_type": "stream",
          "text": [
            "Iter [38720/50000]  Loss: 0.9838  Time/Image: 0.2236  lr=0.014085\n"
          ],
          "name": "stdout"
        },
        {
          "output_type": "stream",
          "text": [
            "INFO:ptsemseg:Iter [38730/50000]  Loss: 0.9833  Time/Image: 0.2287  lr=0.014084\n"
          ],
          "name": "stderr"
        },
        {
          "output_type": "stream",
          "text": [
            "Iter [38730/50000]  Loss: 0.9833  Time/Image: 0.2287  lr=0.014084\n"
          ],
          "name": "stdout"
        },
        {
          "output_type": "stream",
          "text": [
            "INFO:ptsemseg:Iter [38740/50000]  Loss: 0.9857  Time/Image: 0.2262  lr=0.014082\n"
          ],
          "name": "stderr"
        },
        {
          "output_type": "stream",
          "text": [
            "Iter [38740/50000]  Loss: 0.9857  Time/Image: 0.2262  lr=0.014082\n"
          ],
          "name": "stdout"
        },
        {
          "output_type": "stream",
          "text": [
            "INFO:ptsemseg:Iter [38750/50000]  Loss: 0.9869  Time/Image: 0.2207  lr=0.014081\n"
          ],
          "name": "stderr"
        },
        {
          "output_type": "stream",
          "text": [
            "Iter [38750/50000]  Loss: 0.9869  Time/Image: 0.2207  lr=0.014081\n"
          ],
          "name": "stdout"
        },
        {
          "output_type": "stream",
          "text": [
            "INFO:ptsemseg:Iter [38760/50000]  Loss: 0.9822  Time/Image: 0.2212  lr=0.014079\n"
          ],
          "name": "stderr"
        },
        {
          "output_type": "stream",
          "text": [
            "Iter [38760/50000]  Loss: 0.9822  Time/Image: 0.2212  lr=0.014079\n"
          ],
          "name": "stdout"
        },
        {
          "output_type": "stream",
          "text": [
            "INFO:ptsemseg:Iter [38770/50000]  Loss: 0.9835  Time/Image: 0.2123  lr=0.014078\n"
          ],
          "name": "stderr"
        },
        {
          "output_type": "stream",
          "text": [
            "Iter [38770/50000]  Loss: 0.9835  Time/Image: 0.2123  lr=0.014078\n"
          ],
          "name": "stdout"
        },
        {
          "output_type": "stream",
          "text": [
            "INFO:ptsemseg:Iter [38780/50000]  Loss: 0.9856  Time/Image: 0.2258  lr=0.014076\n"
          ],
          "name": "stderr"
        },
        {
          "output_type": "stream",
          "text": [
            "Iter [38780/50000]  Loss: 0.9856  Time/Image: 0.2258  lr=0.014076\n"
          ],
          "name": "stdout"
        },
        {
          "output_type": "stream",
          "text": [
            "INFO:ptsemseg:Iter [38790/50000]  Loss: 0.9822  Time/Image: 0.2132  lr=0.014075\n"
          ],
          "name": "stderr"
        },
        {
          "output_type": "stream",
          "text": [
            "Iter [38790/50000]  Loss: 0.9822  Time/Image: 0.2132  lr=0.014075\n"
          ],
          "name": "stdout"
        },
        {
          "output_type": "stream",
          "text": [
            "INFO:ptsemseg:Iter [38800/50000]  Loss: 0.9820  Time/Image: 0.2172  lr=0.014073\n"
          ],
          "name": "stderr"
        },
        {
          "output_type": "stream",
          "text": [
            "Iter [38800/50000]  Loss: 0.9820  Time/Image: 0.2172  lr=0.014073\n"
          ],
          "name": "stdout"
        },
        {
          "output_type": "stream",
          "text": [
            "INFO:ptsemseg:Iter [38810/50000]  Loss: 0.9843  Time/Image: 0.2248  lr=0.014071\n"
          ],
          "name": "stderr"
        },
        {
          "output_type": "stream",
          "text": [
            "Iter [38810/50000]  Loss: 0.9843  Time/Image: 0.2248  lr=0.014071\n"
          ],
          "name": "stdout"
        },
        {
          "output_type": "stream",
          "text": [
            "INFO:ptsemseg:Iter [38820/50000]  Loss: 0.9811  Time/Image: 0.2217  lr=0.014070\n"
          ],
          "name": "stderr"
        },
        {
          "output_type": "stream",
          "text": [
            "Iter [38820/50000]  Loss: 0.9811  Time/Image: 0.2217  lr=0.014070\n"
          ],
          "name": "stdout"
        },
        {
          "output_type": "stream",
          "text": [
            "INFO:ptsemseg:Iter [38830/50000]  Loss: 0.9860  Time/Image: 0.2163  lr=0.014068\n"
          ],
          "name": "stderr"
        },
        {
          "output_type": "stream",
          "text": [
            "Iter [38830/50000]  Loss: 0.9860  Time/Image: 0.2163  lr=0.014068\n"
          ],
          "name": "stdout"
        },
        {
          "output_type": "stream",
          "text": [
            "INFO:ptsemseg:Iter [38840/50000]  Loss: 0.9845  Time/Image: 0.2166  lr=0.014067\n"
          ],
          "name": "stderr"
        },
        {
          "output_type": "stream",
          "text": [
            "Iter [38840/50000]  Loss: 0.9845  Time/Image: 0.2166  lr=0.014067\n"
          ],
          "name": "stdout"
        },
        {
          "output_type": "stream",
          "text": [
            "INFO:ptsemseg:Iter [38850/50000]  Loss: 0.9845  Time/Image: 0.2110  lr=0.014065\n"
          ],
          "name": "stderr"
        },
        {
          "output_type": "stream",
          "text": [
            "Iter [38850/50000]  Loss: 0.9845  Time/Image: 0.2110  lr=0.014065\n"
          ],
          "name": "stdout"
        },
        {
          "output_type": "stream",
          "text": [
            "INFO:ptsemseg:Iter [38860/50000]  Loss: 0.9820  Time/Image: 0.2165  lr=0.014064\n"
          ],
          "name": "stderr"
        },
        {
          "output_type": "stream",
          "text": [
            "Iter [38860/50000]  Loss: 0.9820  Time/Image: 0.2165  lr=0.014064\n"
          ],
          "name": "stdout"
        },
        {
          "output_type": "stream",
          "text": [
            "INFO:ptsemseg:Iter [38870/50000]  Loss: 0.9833  Time/Image: 0.2070  lr=0.014062\n"
          ],
          "name": "stderr"
        },
        {
          "output_type": "stream",
          "text": [
            "Iter [38870/50000]  Loss: 0.9833  Time/Image: 0.2070  lr=0.014062\n"
          ],
          "name": "stdout"
        },
        {
          "output_type": "stream",
          "text": [
            "INFO:ptsemseg:Iter [38880/50000]  Loss: 0.9834  Time/Image: 0.2102  lr=0.014061\n"
          ],
          "name": "stderr"
        },
        {
          "output_type": "stream",
          "text": [
            "Iter [38880/50000]  Loss: 0.9834  Time/Image: 0.2102  lr=0.014061\n"
          ],
          "name": "stdout"
        },
        {
          "output_type": "stream",
          "text": [
            "INFO:ptsemseg:Iter [38890/50000]  Loss: 0.9858  Time/Image: 0.2104  lr=0.014059\n"
          ],
          "name": "stderr"
        },
        {
          "output_type": "stream",
          "text": [
            "Iter [38890/50000]  Loss: 0.9858  Time/Image: 0.2104  lr=0.014059\n"
          ],
          "name": "stdout"
        },
        {
          "output_type": "stream",
          "text": [
            "INFO:ptsemseg:Iter [38900/50000]  Loss: 0.9863  Time/Image: 0.2132  lr=0.014057\n"
          ],
          "name": "stderr"
        },
        {
          "output_type": "stream",
          "text": [
            "Iter [38900/50000]  Loss: 0.9863  Time/Image: 0.2132  lr=0.014057\n"
          ],
          "name": "stdout"
        },
        {
          "output_type": "stream",
          "text": [
            "INFO:ptsemseg:Iter [38910/50000]  Loss: 0.9875  Time/Image: 0.2138  lr=0.014056\n"
          ],
          "name": "stderr"
        },
        {
          "output_type": "stream",
          "text": [
            "Iter [38910/50000]  Loss: 0.9875  Time/Image: 0.2138  lr=0.014056\n"
          ],
          "name": "stdout"
        },
        {
          "output_type": "stream",
          "text": [
            "INFO:ptsemseg:Iter [38920/50000]  Loss: 0.9862  Time/Image: 0.2106  lr=0.014054\n"
          ],
          "name": "stderr"
        },
        {
          "output_type": "stream",
          "text": [
            "Iter [38920/50000]  Loss: 0.9862  Time/Image: 0.2106  lr=0.014054\n"
          ],
          "name": "stdout"
        },
        {
          "output_type": "stream",
          "text": [
            "INFO:ptsemseg:Iter [38930/50000]  Loss: 0.9859  Time/Image: 0.2072  lr=0.014053\n"
          ],
          "name": "stderr"
        },
        {
          "output_type": "stream",
          "text": [
            "Iter [38930/50000]  Loss: 0.9859  Time/Image: 0.2072  lr=0.014053\n"
          ],
          "name": "stdout"
        },
        {
          "output_type": "stream",
          "text": [
            "INFO:ptsemseg:Iter [38940/50000]  Loss: 0.9869  Time/Image: 0.2127  lr=0.014051\n"
          ],
          "name": "stderr"
        },
        {
          "output_type": "stream",
          "text": [
            "Iter [38940/50000]  Loss: 0.9869  Time/Image: 0.2127  lr=0.014051\n"
          ],
          "name": "stdout"
        },
        {
          "output_type": "stream",
          "text": [
            "INFO:ptsemseg:Iter [38950/50000]  Loss: 0.9879  Time/Image: 0.2081  lr=0.014050\n"
          ],
          "name": "stderr"
        },
        {
          "output_type": "stream",
          "text": [
            "Iter [38950/50000]  Loss: 0.9879  Time/Image: 0.2081  lr=0.014050\n"
          ],
          "name": "stdout"
        },
        {
          "output_type": "stream",
          "text": [
            "INFO:ptsemseg:Iter [38960/50000]  Loss: 0.9885  Time/Image: 0.2175  lr=0.014048\n"
          ],
          "name": "stderr"
        },
        {
          "output_type": "stream",
          "text": [
            "Iter [38960/50000]  Loss: 0.9885  Time/Image: 0.2175  lr=0.014048\n"
          ],
          "name": "stdout"
        },
        {
          "output_type": "stream",
          "text": [
            "INFO:ptsemseg:Iter [38970/50000]  Loss: 0.9873  Time/Image: 0.2157  lr=0.014046\n"
          ],
          "name": "stderr"
        },
        {
          "output_type": "stream",
          "text": [
            "Iter [38970/50000]  Loss: 0.9873  Time/Image: 0.2157  lr=0.014046\n"
          ],
          "name": "stdout"
        },
        {
          "output_type": "stream",
          "text": [
            "INFO:ptsemseg:Iter [38980/50000]  Loss: 0.9876  Time/Image: 0.2150  lr=0.014045\n"
          ],
          "name": "stderr"
        },
        {
          "output_type": "stream",
          "text": [
            "Iter [38980/50000]  Loss: 0.9876  Time/Image: 0.2150  lr=0.014045\n"
          ],
          "name": "stdout"
        },
        {
          "output_type": "stream",
          "text": [
            "INFO:ptsemseg:Iter [38990/50000]  Loss: 0.9875  Time/Image: 0.1797  lr=0.014043\n"
          ],
          "name": "stderr"
        },
        {
          "output_type": "stream",
          "text": [
            "Iter [38990/50000]  Loss: 0.9875  Time/Image: 0.1797  lr=0.014043\n"
          ],
          "name": "stdout"
        },
        {
          "output_type": "stream",
          "text": [
            "INFO:ptsemseg:Iter [39000/50000]  Loss: 0.9873  Time/Image: 0.2122  lr=0.014042\n"
          ],
          "name": "stderr"
        },
        {
          "output_type": "stream",
          "text": [
            "Iter [39000/50000]  Loss: 0.9873  Time/Image: 0.2122  lr=0.014042\n"
          ],
          "name": "stdout"
        },
        {
          "output_type": "stream",
          "text": [
            "84it [03:38,  2.61s/it]\n",
            "INFO:ptsemseg:Iter 39000 Val Loss: 0.9899\n",
            "INFO:ptsemseg:Overall Acc: \t: 0.9296573932000622\n",
            "INFO:ptsemseg:Mean Acc : \t: 0.6239175081782968\n",
            "INFO:ptsemseg:FreqW Acc : \t: 0.8756342402664291\n",
            "INFO:ptsemseg:Mean IoU : \t: 0.541500393767347\n",
            "INFO:ptsemseg:0: 0.9679321404380989\n",
            "INFO:ptsemseg:1: 0.762869771472547\n",
            "INFO:ptsemseg:2: 0.8780576470564087\n",
            "INFO:ptsemseg:3: 0.3128739738484997\n",
            "INFO:ptsemseg:4: 0.3330893149786389\n",
            "INFO:ptsemseg:5: 0.46378846357674103\n",
            "INFO:ptsemseg:6: 0.46676999643957334\n",
            "INFO:ptsemseg:7: 0.5699972227433883\n",
            "INFO:ptsemseg:8: 0.8950217160635051\n",
            "INFO:ptsemseg:9: 0.5334463472737339\n",
            "INFO:ptsemseg:10: 0.922385208578228\n",
            "INFO:ptsemseg:11: 0.6098510865749923\n",
            "INFO:ptsemseg:12: 0.395702813532293\n",
            "INFO:ptsemseg:13: 0.8547899984088644\n",
            "INFO:ptsemseg:14: 0.1609115069589489\n",
            "INFO:ptsemseg:15: 0.24415373113208313\n",
            "INFO:ptsemseg:16: 0.07254395820747138\n",
            "INFO:ptsemseg:17: 0.23699818418164253\n",
            "INFO:ptsemseg:18: 0.607324400113936\n"
          ],
          "name": "stderr"
        },
        {
          "output_type": "stream",
          "text": [
            "Overall Acc: \t 0.9296573932000622\n",
            "Mean Acc : \t 0.6239175081782968\n",
            "FreqW Acc : \t 0.8756342402664291\n",
            "Mean IoU : \t 0.541500393767347\n"
          ],
          "name": "stdout"
        },
        {
          "output_type": "stream",
          "text": [
            "INFO:ptsemseg:Iter [39010/50000]  Loss: 0.9851  Time/Image: 0.2045  lr=0.014040\n"
          ],
          "name": "stderr"
        },
        {
          "output_type": "stream",
          "text": [
            "Iter [39010/50000]  Loss: 0.9851  Time/Image: 0.2045  lr=0.014040\n"
          ],
          "name": "stdout"
        },
        {
          "output_type": "stream",
          "text": [
            "INFO:ptsemseg:Iter [39020/50000]  Loss: 0.9919  Time/Image: 0.2319  lr=0.014039\n"
          ],
          "name": "stderr"
        },
        {
          "output_type": "stream",
          "text": [
            "Iter [39020/50000]  Loss: 0.9919  Time/Image: 0.2319  lr=0.014039\n"
          ],
          "name": "stdout"
        },
        {
          "output_type": "stream",
          "text": [
            "INFO:ptsemseg:Iter [39030/50000]  Loss: 0.9835  Time/Image: 0.2308  lr=0.014037\n"
          ],
          "name": "stderr"
        },
        {
          "output_type": "stream",
          "text": [
            "Iter [39030/50000]  Loss: 0.9835  Time/Image: 0.2308  lr=0.014037\n"
          ],
          "name": "stdout"
        },
        {
          "output_type": "stream",
          "text": [
            "INFO:ptsemseg:Iter [39040/50000]  Loss: 1.0020  Time/Image: 0.2277  lr=0.014036\n"
          ],
          "name": "stderr"
        },
        {
          "output_type": "stream",
          "text": [
            "Iter [39040/50000]  Loss: 1.0020  Time/Image: 0.2277  lr=0.014036\n"
          ],
          "name": "stdout"
        },
        {
          "output_type": "stream",
          "text": [
            "INFO:ptsemseg:Iter [39050/50000]  Loss: 0.9943  Time/Image: 0.2303  lr=0.014034\n"
          ],
          "name": "stderr"
        },
        {
          "output_type": "stream",
          "text": [
            "Iter [39050/50000]  Loss: 0.9943  Time/Image: 0.2303  lr=0.014034\n"
          ],
          "name": "stdout"
        },
        {
          "output_type": "stream",
          "text": [
            "INFO:ptsemseg:Iter [39060/50000]  Loss: 0.9872  Time/Image: 0.2301  lr=0.014032\n"
          ],
          "name": "stderr"
        },
        {
          "output_type": "stream",
          "text": [
            "Iter [39060/50000]  Loss: 0.9872  Time/Image: 0.2301  lr=0.014032\n"
          ],
          "name": "stdout"
        },
        {
          "output_type": "stream",
          "text": [
            "INFO:ptsemseg:Iter [39070/50000]  Loss: 0.9856  Time/Image: 0.2294  lr=0.014031\n"
          ],
          "name": "stderr"
        },
        {
          "output_type": "stream",
          "text": [
            "Iter [39070/50000]  Loss: 0.9856  Time/Image: 0.2294  lr=0.014031\n"
          ],
          "name": "stdout"
        },
        {
          "output_type": "stream",
          "text": [
            "INFO:ptsemseg:Iter [39080/50000]  Loss: 0.9862  Time/Image: 0.2264  lr=0.014029\n"
          ],
          "name": "stderr"
        },
        {
          "output_type": "stream",
          "text": [
            "Iter [39080/50000]  Loss: 0.9862  Time/Image: 0.2264  lr=0.014029\n"
          ],
          "name": "stdout"
        },
        {
          "output_type": "stream",
          "text": [
            "INFO:ptsemseg:Iter [39090/50000]  Loss: 0.9909  Time/Image: 0.2289  lr=0.014028\n"
          ],
          "name": "stderr"
        },
        {
          "output_type": "stream",
          "text": [
            "Iter [39090/50000]  Loss: 0.9909  Time/Image: 0.2289  lr=0.014028\n"
          ],
          "name": "stdout"
        },
        {
          "output_type": "stream",
          "text": [
            "INFO:ptsemseg:Iter [39100/50000]  Loss: 0.9887  Time/Image: 0.2243  lr=0.014026\n"
          ],
          "name": "stderr"
        },
        {
          "output_type": "stream",
          "text": [
            "Iter [39100/50000]  Loss: 0.9887  Time/Image: 0.2243  lr=0.014026\n"
          ],
          "name": "stdout"
        },
        {
          "output_type": "stream",
          "text": [
            "INFO:ptsemseg:Iter [39110/50000]  Loss: 0.9872  Time/Image: 0.2325  lr=0.014025\n"
          ],
          "name": "stderr"
        },
        {
          "output_type": "stream",
          "text": [
            "Iter [39110/50000]  Loss: 0.9872  Time/Image: 0.2325  lr=0.014025\n"
          ],
          "name": "stdout"
        },
        {
          "output_type": "stream",
          "text": [
            "INFO:ptsemseg:Iter [39120/50000]  Loss: 0.9906  Time/Image: 0.2277  lr=0.014023\n"
          ],
          "name": "stderr"
        },
        {
          "output_type": "stream",
          "text": [
            "Iter [39120/50000]  Loss: 0.9906  Time/Image: 0.2277  lr=0.014023\n"
          ],
          "name": "stdout"
        },
        {
          "output_type": "stream",
          "text": [
            "INFO:ptsemseg:Iter [39130/50000]  Loss: 0.9861  Time/Image: 0.2296  lr=0.014022\n"
          ],
          "name": "stderr"
        },
        {
          "output_type": "stream",
          "text": [
            "Iter [39130/50000]  Loss: 0.9861  Time/Image: 0.2296  lr=0.014022\n"
          ],
          "name": "stdout"
        },
        {
          "output_type": "stream",
          "text": [
            "INFO:ptsemseg:Iter [39140/50000]  Loss: 0.9887  Time/Image: 0.2245  lr=0.014020\n"
          ],
          "name": "stderr"
        },
        {
          "output_type": "stream",
          "text": [
            "Iter [39140/50000]  Loss: 0.9887  Time/Image: 0.2245  lr=0.014020\n"
          ],
          "name": "stdout"
        },
        {
          "output_type": "stream",
          "text": [
            "INFO:ptsemseg:Iter [39150/50000]  Loss: 0.9882  Time/Image: 0.2271  lr=0.014018\n"
          ],
          "name": "stderr"
        },
        {
          "output_type": "stream",
          "text": [
            "Iter [39150/50000]  Loss: 0.9882  Time/Image: 0.2271  lr=0.014018\n"
          ],
          "name": "stdout"
        },
        {
          "output_type": "stream",
          "text": [
            "INFO:ptsemseg:Iter [39160/50000]  Loss: 0.9861  Time/Image: 0.2259  lr=0.014017\n"
          ],
          "name": "stderr"
        },
        {
          "output_type": "stream",
          "text": [
            "Iter [39160/50000]  Loss: 0.9861  Time/Image: 0.2259  lr=0.014017\n"
          ],
          "name": "stdout"
        },
        {
          "output_type": "stream",
          "text": [
            "INFO:ptsemseg:Iter [39170/50000]  Loss: 0.9866  Time/Image: 0.2238  lr=0.014015\n"
          ],
          "name": "stderr"
        },
        {
          "output_type": "stream",
          "text": [
            "Iter [39170/50000]  Loss: 0.9866  Time/Image: 0.2238  lr=0.014015\n"
          ],
          "name": "stdout"
        },
        {
          "output_type": "stream",
          "text": [
            "INFO:ptsemseg:Iter [39180/50000]  Loss: 0.9888  Time/Image: 0.2259  lr=0.014014\n"
          ],
          "name": "stderr"
        },
        {
          "output_type": "stream",
          "text": [
            "Iter [39180/50000]  Loss: 0.9888  Time/Image: 0.2259  lr=0.014014\n"
          ],
          "name": "stdout"
        },
        {
          "output_type": "stream",
          "text": [
            "INFO:ptsemseg:Iter [39190/50000]  Loss: 0.9828  Time/Image: 0.2285  lr=0.014012\n"
          ],
          "name": "stderr"
        },
        {
          "output_type": "stream",
          "text": [
            "Iter [39190/50000]  Loss: 0.9828  Time/Image: 0.2285  lr=0.014012\n"
          ],
          "name": "stdout"
        },
        {
          "output_type": "stream",
          "text": [
            "INFO:ptsemseg:Iter [39200/50000]  Loss: 0.9862  Time/Image: 0.2237  lr=0.014011\n"
          ],
          "name": "stderr"
        },
        {
          "output_type": "stream",
          "text": [
            "Iter [39200/50000]  Loss: 0.9862  Time/Image: 0.2237  lr=0.014011\n"
          ],
          "name": "stdout"
        },
        {
          "output_type": "stream",
          "text": [
            "INFO:ptsemseg:Iter [39210/50000]  Loss: 0.9874  Time/Image: 0.2235  lr=0.014009\n"
          ],
          "name": "stderr"
        },
        {
          "output_type": "stream",
          "text": [
            "Iter [39210/50000]  Loss: 0.9874  Time/Image: 0.2235  lr=0.014009\n"
          ],
          "name": "stdout"
        },
        {
          "output_type": "stream",
          "text": [
            "INFO:ptsemseg:Iter [39220/50000]  Loss: 0.9894  Time/Image: 0.2207  lr=0.014007\n"
          ],
          "name": "stderr"
        },
        {
          "output_type": "stream",
          "text": [
            "Iter [39220/50000]  Loss: 0.9894  Time/Image: 0.2207  lr=0.014007\n"
          ],
          "name": "stdout"
        },
        {
          "output_type": "stream",
          "text": [
            "INFO:ptsemseg:Iter [39230/50000]  Loss: 0.9881  Time/Image: 0.2277  lr=0.014006\n"
          ],
          "name": "stderr"
        },
        {
          "output_type": "stream",
          "text": [
            "Iter [39230/50000]  Loss: 0.9881  Time/Image: 0.2277  lr=0.014006\n"
          ],
          "name": "stdout"
        },
        {
          "output_type": "stream",
          "text": [
            "INFO:ptsemseg:Iter [39240/50000]  Loss: 0.9877  Time/Image: 0.2231  lr=0.014004\n"
          ],
          "name": "stderr"
        },
        {
          "output_type": "stream",
          "text": [
            "Iter [39240/50000]  Loss: 0.9877  Time/Image: 0.2231  lr=0.014004\n"
          ],
          "name": "stdout"
        },
        {
          "output_type": "stream",
          "text": [
            "INFO:ptsemseg:Iter [39250/50000]  Loss: 0.9901  Time/Image: 0.2256  lr=0.014003\n"
          ],
          "name": "stderr"
        },
        {
          "output_type": "stream",
          "text": [
            "Iter [39250/50000]  Loss: 0.9901  Time/Image: 0.2256  lr=0.014003\n"
          ],
          "name": "stdout"
        },
        {
          "output_type": "stream",
          "text": [
            "INFO:ptsemseg:Iter [39260/50000]  Loss: 0.9915  Time/Image: 0.2348  lr=0.014001\n"
          ],
          "name": "stderr"
        },
        {
          "output_type": "stream",
          "text": [
            "Iter [39260/50000]  Loss: 0.9915  Time/Image: 0.2348  lr=0.014001\n"
          ],
          "name": "stdout"
        },
        {
          "output_type": "stream",
          "text": [
            "INFO:ptsemseg:Iter [39270/50000]  Loss: 0.9930  Time/Image: 0.2198  lr=0.014000\n"
          ],
          "name": "stderr"
        },
        {
          "output_type": "stream",
          "text": [
            "Iter [39270/50000]  Loss: 0.9930  Time/Image: 0.2198  lr=0.014000\n"
          ],
          "name": "stdout"
        },
        {
          "output_type": "stream",
          "text": [
            "INFO:ptsemseg:Iter [39280/50000]  Loss: 0.9922  Time/Image: 0.2197  lr=0.013998\n"
          ],
          "name": "stderr"
        },
        {
          "output_type": "stream",
          "text": [
            "Iter [39280/50000]  Loss: 0.9922  Time/Image: 0.2197  lr=0.013998\n"
          ],
          "name": "stdout"
        },
        {
          "output_type": "stream",
          "text": [
            "INFO:ptsemseg:Iter [39290/50000]  Loss: 0.9950  Time/Image: 0.2210  lr=0.013997\n"
          ],
          "name": "stderr"
        },
        {
          "output_type": "stream",
          "text": [
            "Iter [39290/50000]  Loss: 0.9950  Time/Image: 0.2210  lr=0.013997\n"
          ],
          "name": "stdout"
        },
        {
          "output_type": "stream",
          "text": [
            "INFO:ptsemseg:Iter [39300/50000]  Loss: 0.9939  Time/Image: 0.2199  lr=0.013995\n"
          ],
          "name": "stderr"
        },
        {
          "output_type": "stream",
          "text": [
            "Iter [39300/50000]  Loss: 0.9939  Time/Image: 0.2199  lr=0.013995\n"
          ],
          "name": "stdout"
        },
        {
          "output_type": "stream",
          "text": [
            "INFO:ptsemseg:Iter [39310/50000]  Loss: 0.9932  Time/Image: 0.2194  lr=0.013993\n"
          ],
          "name": "stderr"
        },
        {
          "output_type": "stream",
          "text": [
            "Iter [39310/50000]  Loss: 0.9932  Time/Image: 0.2194  lr=0.013993\n"
          ],
          "name": "stdout"
        },
        {
          "output_type": "stream",
          "text": [
            "INFO:ptsemseg:Iter [39320/50000]  Loss: 0.9921  Time/Image: 0.2153  lr=0.013992\n"
          ],
          "name": "stderr"
        },
        {
          "output_type": "stream",
          "text": [
            "Iter [39320/50000]  Loss: 0.9921  Time/Image: 0.2153  lr=0.013992\n"
          ],
          "name": "stdout"
        },
        {
          "output_type": "stream",
          "text": [
            "INFO:ptsemseg:Iter [39330/50000]  Loss: 0.9924  Time/Image: 0.2138  lr=0.013990\n"
          ],
          "name": "stderr"
        },
        {
          "output_type": "stream",
          "text": [
            "Iter [39330/50000]  Loss: 0.9924  Time/Image: 0.2138  lr=0.013990\n"
          ],
          "name": "stdout"
        },
        {
          "output_type": "stream",
          "text": [
            "INFO:ptsemseg:Iter [39340/50000]  Loss: 0.9906  Time/Image: 0.2229  lr=0.013989\n"
          ],
          "name": "stderr"
        },
        {
          "output_type": "stream",
          "text": [
            "Iter [39340/50000]  Loss: 0.9906  Time/Image: 0.2229  lr=0.013989\n"
          ],
          "name": "stdout"
        },
        {
          "output_type": "stream",
          "text": [
            "INFO:ptsemseg:Iter [39350/50000]  Loss: 0.9915  Time/Image: 0.2142  lr=0.013987\n"
          ],
          "name": "stderr"
        },
        {
          "output_type": "stream",
          "text": [
            "Iter [39350/50000]  Loss: 0.9915  Time/Image: 0.2142  lr=0.013987\n"
          ],
          "name": "stdout"
        },
        {
          "output_type": "stream",
          "text": [
            "INFO:ptsemseg:Iter [39360/50000]  Loss: 0.9910  Time/Image: 0.2171  lr=0.013986\n"
          ],
          "name": "stderr"
        },
        {
          "output_type": "stream",
          "text": [
            "Iter [39360/50000]  Loss: 0.9910  Time/Image: 0.2171  lr=0.013986\n"
          ],
          "name": "stdout"
        },
        {
          "output_type": "stream",
          "text": [
            "INFO:ptsemseg:Iter [39370/50000]  Loss: 0.9884  Time/Image: 0.2172  lr=0.013984\n"
          ],
          "name": "stderr"
        },
        {
          "output_type": "stream",
          "text": [
            "Iter [39370/50000]  Loss: 0.9884  Time/Image: 0.2172  lr=0.013984\n"
          ],
          "name": "stdout"
        },
        {
          "output_type": "stream",
          "text": [
            "INFO:ptsemseg:Iter [39380/50000]  Loss: 0.9915  Time/Image: 0.2192  lr=0.013982\n"
          ],
          "name": "stderr"
        },
        {
          "output_type": "stream",
          "text": [
            "Iter [39380/50000]  Loss: 0.9915  Time/Image: 0.2192  lr=0.013982\n"
          ],
          "name": "stdout"
        },
        {
          "output_type": "stream",
          "text": [
            "INFO:ptsemseg:Iter [39390/50000]  Loss: 0.9910  Time/Image: 0.2166  lr=0.013981\n"
          ],
          "name": "stderr"
        },
        {
          "output_type": "stream",
          "text": [
            "Iter [39390/50000]  Loss: 0.9910  Time/Image: 0.2166  lr=0.013981\n"
          ],
          "name": "stdout"
        },
        {
          "output_type": "stream",
          "text": [
            "INFO:ptsemseg:Iter [39400/50000]  Loss: 0.9907  Time/Image: 0.2136  lr=0.013979\n"
          ],
          "name": "stderr"
        },
        {
          "output_type": "stream",
          "text": [
            "Iter [39400/50000]  Loss: 0.9907  Time/Image: 0.2136  lr=0.013979\n"
          ],
          "name": "stdout"
        },
        {
          "output_type": "stream",
          "text": [
            "INFO:ptsemseg:Iter [39410/50000]  Loss: 0.9945  Time/Image: 0.2191  lr=0.013978\n"
          ],
          "name": "stderr"
        },
        {
          "output_type": "stream",
          "text": [
            "Iter [39410/50000]  Loss: 0.9945  Time/Image: 0.2191  lr=0.013978\n"
          ],
          "name": "stdout"
        },
        {
          "output_type": "stream",
          "text": [
            "INFO:ptsemseg:Iter [39420/50000]  Loss: 0.9919  Time/Image: 0.2192  lr=0.013976\n"
          ],
          "name": "stderr"
        },
        {
          "output_type": "stream",
          "text": [
            "Iter [39420/50000]  Loss: 0.9919  Time/Image: 0.2192  lr=0.013976\n"
          ],
          "name": "stdout"
        },
        {
          "output_type": "stream",
          "text": [
            "INFO:ptsemseg:Iter [39430/50000]  Loss: 0.9919  Time/Image: 0.2155  lr=0.013975\n"
          ],
          "name": "stderr"
        },
        {
          "output_type": "stream",
          "text": [
            "Iter [39430/50000]  Loss: 0.9919  Time/Image: 0.2155  lr=0.013975\n"
          ],
          "name": "stdout"
        },
        {
          "output_type": "stream",
          "text": [
            "INFO:ptsemseg:Iter [39440/50000]  Loss: 0.9927  Time/Image: 0.2160  lr=0.013973\n"
          ],
          "name": "stderr"
        },
        {
          "output_type": "stream",
          "text": [
            "Iter [39440/50000]  Loss: 0.9927  Time/Image: 0.2160  lr=0.013973\n"
          ],
          "name": "stdout"
        },
        {
          "output_type": "stream",
          "text": [
            "INFO:ptsemseg:Iter [39450/50000]  Loss: 0.9921  Time/Image: 0.2110  lr=0.013972\n"
          ],
          "name": "stderr"
        },
        {
          "output_type": "stream",
          "text": [
            "Iter [39450/50000]  Loss: 0.9921  Time/Image: 0.2110  lr=0.013972\n"
          ],
          "name": "stdout"
        },
        {
          "output_type": "stream",
          "text": [
            "INFO:ptsemseg:Iter [39460/50000]  Loss: 0.9925  Time/Image: 0.2157  lr=0.013970\n"
          ],
          "name": "stderr"
        },
        {
          "output_type": "stream",
          "text": [
            "Iter [39460/50000]  Loss: 0.9925  Time/Image: 0.2157  lr=0.013970\n"
          ],
          "name": "stdout"
        },
        {
          "output_type": "stream",
          "text": [
            "INFO:ptsemseg:Iter [39470/50000]  Loss: 0.9939  Time/Image: 0.2117  lr=0.013968\n"
          ],
          "name": "stderr"
        },
        {
          "output_type": "stream",
          "text": [
            "Iter [39470/50000]  Loss: 0.9939  Time/Image: 0.2117  lr=0.013968\n"
          ],
          "name": "stdout"
        },
        {
          "output_type": "stream",
          "text": [
            "INFO:ptsemseg:Iter [39480/50000]  Loss: 0.9930  Time/Image: 0.2158  lr=0.013967\n"
          ],
          "name": "stderr"
        },
        {
          "output_type": "stream",
          "text": [
            "Iter [39480/50000]  Loss: 0.9930  Time/Image: 0.2158  lr=0.013967\n"
          ],
          "name": "stdout"
        },
        {
          "output_type": "stream",
          "text": [
            "INFO:ptsemseg:Iter [39490/50000]  Loss: 0.9942  Time/Image: 0.1910  lr=0.013965\n"
          ],
          "name": "stderr"
        },
        {
          "output_type": "stream",
          "text": [
            "Iter [39490/50000]  Loss: 0.9942  Time/Image: 0.1910  lr=0.013965\n"
          ],
          "name": "stdout"
        },
        {
          "output_type": "stream",
          "text": [
            "INFO:ptsemseg:Iter [39500/50000]  Loss: 0.9958  Time/Image: 0.2345  lr=0.013964\n"
          ],
          "name": "stderr"
        },
        {
          "output_type": "stream",
          "text": [
            "Iter [39500/50000]  Loss: 0.9958  Time/Image: 0.2345  lr=0.013964\n"
          ],
          "name": "stdout"
        },
        {
          "output_type": "stream",
          "text": [
            "84it [03:43,  2.66s/it]\n",
            "INFO:ptsemseg:Iter 39500 Val Loss: 1.0552\n",
            "INFO:ptsemseg:Overall Acc: \t: 0.9191439988512599\n",
            "INFO:ptsemseg:Mean Acc : \t: 0.6289133153069846\n",
            "INFO:ptsemseg:FreqW Acc : \t: 0.8580212577747256\n",
            "INFO:ptsemseg:Mean IoU : \t: 0.5273299510195205\n",
            "INFO:ptsemseg:0: 0.9645394081836671\n",
            "INFO:ptsemseg:1: 0.7414399868880237\n",
            "INFO:ptsemseg:2: 0.8421774914432145\n",
            "INFO:ptsemseg:3: 0.20846677845856357\n",
            "INFO:ptsemseg:4: 0.348432289315924\n",
            "INFO:ptsemseg:5: 0.4459284244263882\n",
            "INFO:ptsemseg:6: 0.4548152560960749\n",
            "INFO:ptsemseg:7: 0.5653267307641253\n",
            "INFO:ptsemseg:8: 0.874005604280026\n",
            "INFO:ptsemseg:9: 0.5190913550768772\n",
            "INFO:ptsemseg:10: 0.831940328203747\n",
            "INFO:ptsemseg:11: 0.6083490298871165\n",
            "INFO:ptsemseg:12: 0.41036849976942674\n",
            "INFO:ptsemseg:13: 0.8570979828247345\n",
            "INFO:ptsemseg:14: 0.10818664317879591\n",
            "INFO:ptsemseg:15: 0.391386017587239\n",
            "INFO:ptsemseg:16: 0.0017645389252091421\n",
            "INFO:ptsemseg:17: 0.24774314808807746\n",
            "INFO:ptsemseg:18: 0.5982095559736573\n"
          ],
          "name": "stderr"
        },
        {
          "output_type": "stream",
          "text": [
            "Overall Acc: \t 0.9191439988512599\n",
            "Mean Acc : \t 0.6289133153069846\n",
            "FreqW Acc : \t 0.8580212577747256\n",
            "Mean IoU : \t 0.5273299510195205\n"
          ],
          "name": "stdout"
        },
        {
          "output_type": "stream",
          "text": [
            "INFO:ptsemseg:Iter [39510/50000]  Loss: 0.9395  Time/Image: 0.2055  lr=0.013962\n"
          ],
          "name": "stderr"
        },
        {
          "output_type": "stream",
          "text": [
            "Iter [39510/50000]  Loss: 0.9395  Time/Image: 0.2055  lr=0.013962\n"
          ],
          "name": "stdout"
        },
        {
          "output_type": "stream",
          "text": [
            "INFO:ptsemseg:Iter [39520/50000]  Loss: 1.0294  Time/Image: 0.2305  lr=0.013961\n"
          ],
          "name": "stderr"
        },
        {
          "output_type": "stream",
          "text": [
            "Iter [39520/50000]  Loss: 1.0294  Time/Image: 0.2305  lr=0.013961\n"
          ],
          "name": "stdout"
        },
        {
          "output_type": "stream",
          "text": [
            "INFO:ptsemseg:Iter [39530/50000]  Loss: 1.0069  Time/Image: 0.2301  lr=0.013959\n"
          ],
          "name": "stderr"
        },
        {
          "output_type": "stream",
          "text": [
            "Iter [39530/50000]  Loss: 1.0069  Time/Image: 0.2301  lr=0.013959\n"
          ],
          "name": "stdout"
        },
        {
          "output_type": "stream",
          "text": [
            "INFO:ptsemseg:Iter [39540/50000]  Loss: 1.0126  Time/Image: 0.2298  lr=0.013958\n"
          ],
          "name": "stderr"
        },
        {
          "output_type": "stream",
          "text": [
            "Iter [39540/50000]  Loss: 1.0126  Time/Image: 0.2298  lr=0.013958\n"
          ],
          "name": "stdout"
        },
        {
          "output_type": "stream",
          "text": [
            "INFO:ptsemseg:Iter [39550/50000]  Loss: 0.9914  Time/Image: 0.2316  lr=0.013956\n"
          ],
          "name": "stderr"
        },
        {
          "output_type": "stream",
          "text": [
            "Iter [39550/50000]  Loss: 0.9914  Time/Image: 0.2316  lr=0.013956\n"
          ],
          "name": "stdout"
        },
        {
          "output_type": "stream",
          "text": [
            "INFO:ptsemseg:Iter [39560/50000]  Loss: 1.0057  Time/Image: 0.2318  lr=0.013954\n"
          ],
          "name": "stderr"
        },
        {
          "output_type": "stream",
          "text": [
            "Iter [39560/50000]  Loss: 1.0057  Time/Image: 0.2318  lr=0.013954\n"
          ],
          "name": "stdout"
        },
        {
          "output_type": "stream",
          "text": [
            "INFO:ptsemseg:Iter [39570/50000]  Loss: 1.0062  Time/Image: 0.2293  lr=0.013953\n"
          ],
          "name": "stderr"
        },
        {
          "output_type": "stream",
          "text": [
            "Iter [39570/50000]  Loss: 1.0062  Time/Image: 0.2293  lr=0.013953\n"
          ],
          "name": "stdout"
        },
        {
          "output_type": "stream",
          "text": [
            "INFO:ptsemseg:Iter [39580/50000]  Loss: 1.0219  Time/Image: 0.2260  lr=0.013951\n"
          ],
          "name": "stderr"
        },
        {
          "output_type": "stream",
          "text": [
            "Iter [39580/50000]  Loss: 1.0219  Time/Image: 0.2260  lr=0.013951\n"
          ],
          "name": "stdout"
        },
        {
          "output_type": "stream",
          "text": [
            "INFO:ptsemseg:Iter [39590/50000]  Loss: 1.0079  Time/Image: 0.2324  lr=0.013950\n"
          ],
          "name": "stderr"
        },
        {
          "output_type": "stream",
          "text": [
            "Iter [39590/50000]  Loss: 1.0079  Time/Image: 0.2324  lr=0.013950\n"
          ],
          "name": "stdout"
        },
        {
          "output_type": "stream",
          "text": [
            "INFO:ptsemseg:Iter [39600/50000]  Loss: 1.0099  Time/Image: 0.2310  lr=0.013948\n"
          ],
          "name": "stderr"
        },
        {
          "output_type": "stream",
          "text": [
            "Iter [39600/50000]  Loss: 1.0099  Time/Image: 0.2310  lr=0.013948\n"
          ],
          "name": "stdout"
        },
        {
          "output_type": "stream",
          "text": [
            "INFO:ptsemseg:Iter [39610/50000]  Loss: 1.0161  Time/Image: 0.2245  lr=0.013947\n"
          ],
          "name": "stderr"
        },
        {
          "output_type": "stream",
          "text": [
            "Iter [39610/50000]  Loss: 1.0161  Time/Image: 0.2245  lr=0.013947\n"
          ],
          "name": "stdout"
        },
        {
          "output_type": "stream",
          "text": [
            "INFO:ptsemseg:Iter [39620/50000]  Loss: 1.0113  Time/Image: 0.2297  lr=0.013945\n"
          ],
          "name": "stderr"
        },
        {
          "output_type": "stream",
          "text": [
            "Iter [39620/50000]  Loss: 1.0113  Time/Image: 0.2297  lr=0.013945\n"
          ],
          "name": "stdout"
        },
        {
          "output_type": "stream",
          "text": [
            "INFO:ptsemseg:Iter [39630/50000]  Loss: 1.0072  Time/Image: 0.2287  lr=0.013943\n"
          ],
          "name": "stderr"
        },
        {
          "output_type": "stream",
          "text": [
            "Iter [39630/50000]  Loss: 1.0072  Time/Image: 0.2287  lr=0.013943\n"
          ],
          "name": "stdout"
        },
        {
          "output_type": "stream",
          "text": [
            "INFO:ptsemseg:Iter [39640/50000]  Loss: 1.0117  Time/Image: 0.2317  lr=0.013942\n"
          ],
          "name": "stderr"
        },
        {
          "output_type": "stream",
          "text": [
            "Iter [39640/50000]  Loss: 1.0117  Time/Image: 0.2317  lr=0.013942\n"
          ],
          "name": "stdout"
        },
        {
          "output_type": "stream",
          "text": [
            "INFO:ptsemseg:Iter [39650/50000]  Loss: 1.0166  Time/Image: 0.2272  lr=0.013940\n"
          ],
          "name": "stderr"
        },
        {
          "output_type": "stream",
          "text": [
            "Iter [39650/50000]  Loss: 1.0166  Time/Image: 0.2272  lr=0.013940\n"
          ],
          "name": "stdout"
        },
        {
          "output_type": "stream",
          "text": [
            "INFO:ptsemseg:Iter [39660/50000]  Loss: 1.0140  Time/Image: 0.2296  lr=0.013939\n"
          ],
          "name": "stderr"
        },
        {
          "output_type": "stream",
          "text": [
            "Iter [39660/50000]  Loss: 1.0140  Time/Image: 0.2296  lr=0.013939\n"
          ],
          "name": "stdout"
        },
        {
          "output_type": "stream",
          "text": [
            "INFO:ptsemseg:Iter [39670/50000]  Loss: 1.0115  Time/Image: 0.2268  lr=0.013937\n"
          ],
          "name": "stderr"
        },
        {
          "output_type": "stream",
          "text": [
            "Iter [39670/50000]  Loss: 1.0115  Time/Image: 0.2268  lr=0.013937\n"
          ],
          "name": "stdout"
        },
        {
          "output_type": "stream",
          "text": [
            "INFO:ptsemseg:Iter [39680/50000]  Loss: 1.0108  Time/Image: 0.2309  lr=0.013936\n"
          ],
          "name": "stderr"
        },
        {
          "output_type": "stream",
          "text": [
            "Iter [39680/50000]  Loss: 1.0108  Time/Image: 0.2309  lr=0.013936\n"
          ],
          "name": "stdout"
        },
        {
          "output_type": "stream",
          "text": [
            "INFO:ptsemseg:Iter [39690/50000]  Loss: 1.0113  Time/Image: 0.2238  lr=0.013934\n"
          ],
          "name": "stderr"
        },
        {
          "output_type": "stream",
          "text": [
            "Iter [39690/50000]  Loss: 1.0113  Time/Image: 0.2238  lr=0.013934\n"
          ],
          "name": "stdout"
        },
        {
          "output_type": "stream",
          "text": [
            "INFO:ptsemseg:Iter [39700/50000]  Loss: 1.0057  Time/Image: 0.2243  lr=0.013933\n"
          ],
          "name": "stderr"
        },
        {
          "output_type": "stream",
          "text": [
            "Iter [39700/50000]  Loss: 1.0057  Time/Image: 0.2243  lr=0.013933\n"
          ],
          "name": "stdout"
        },
        {
          "output_type": "stream",
          "text": [
            "INFO:ptsemseg:Iter [39710/50000]  Loss: 1.0120  Time/Image: 0.2231  lr=0.013931\n"
          ],
          "name": "stderr"
        },
        {
          "output_type": "stream",
          "text": [
            "Iter [39710/50000]  Loss: 1.0120  Time/Image: 0.2231  lr=0.013931\n"
          ],
          "name": "stdout"
        },
        {
          "output_type": "stream",
          "text": [
            "INFO:ptsemseg:Iter [39720/50000]  Loss: 1.0109  Time/Image: 0.2187  lr=0.013929\n"
          ],
          "name": "stderr"
        },
        {
          "output_type": "stream",
          "text": [
            "Iter [39720/50000]  Loss: 1.0109  Time/Image: 0.2187  lr=0.013929\n"
          ],
          "name": "stdout"
        },
        {
          "output_type": "stream",
          "text": [
            "INFO:ptsemseg:Iter [39730/50000]  Loss: 1.0113  Time/Image: 0.2226  lr=0.013928\n"
          ],
          "name": "stderr"
        },
        {
          "output_type": "stream",
          "text": [
            "Iter [39730/50000]  Loss: 1.0113  Time/Image: 0.2226  lr=0.013928\n"
          ],
          "name": "stdout"
        },
        {
          "output_type": "stream",
          "text": [
            "INFO:ptsemseg:Iter [39740/50000]  Loss: 1.0124  Time/Image: 0.2250  lr=0.013926\n"
          ],
          "name": "stderr"
        },
        {
          "output_type": "stream",
          "text": [
            "Iter [39740/50000]  Loss: 1.0124  Time/Image: 0.2250  lr=0.013926\n"
          ],
          "name": "stdout"
        },
        {
          "output_type": "stream",
          "text": [
            "INFO:ptsemseg:Iter [39750/50000]  Loss: 1.0111  Time/Image: 0.2246  lr=0.013925\n"
          ],
          "name": "stderr"
        },
        {
          "output_type": "stream",
          "text": [
            "Iter [39750/50000]  Loss: 1.0111  Time/Image: 0.2246  lr=0.013925\n"
          ],
          "name": "stdout"
        },
        {
          "output_type": "stream",
          "text": [
            "INFO:ptsemseg:Iter [39760/50000]  Loss: 1.0097  Time/Image: 0.2241  lr=0.013923\n"
          ],
          "name": "stderr"
        },
        {
          "output_type": "stream",
          "text": [
            "Iter [39760/50000]  Loss: 1.0097  Time/Image: 0.2241  lr=0.013923\n"
          ],
          "name": "stdout"
        },
        {
          "output_type": "stream",
          "text": [
            "INFO:ptsemseg:Iter [39770/50000]  Loss: 1.0096  Time/Image: 0.2301  lr=0.013922\n"
          ],
          "name": "stderr"
        },
        {
          "output_type": "stream",
          "text": [
            "Iter [39770/50000]  Loss: 1.0096  Time/Image: 0.2301  lr=0.013922\n"
          ],
          "name": "stdout"
        },
        {
          "output_type": "stream",
          "text": [
            "INFO:ptsemseg:Iter [39780/50000]  Loss: 1.0093  Time/Image: 0.2254  lr=0.013920\n"
          ],
          "name": "stderr"
        },
        {
          "output_type": "stream",
          "text": [
            "Iter [39780/50000]  Loss: 1.0093  Time/Image: 0.2254  lr=0.013920\n"
          ],
          "name": "stdout"
        },
        {
          "output_type": "stream",
          "text": [
            "INFO:ptsemseg:Iter [39790/50000]  Loss: 1.0103  Time/Image: 0.2198  lr=0.013918\n"
          ],
          "name": "stderr"
        },
        {
          "output_type": "stream",
          "text": [
            "Iter [39790/50000]  Loss: 1.0103  Time/Image: 0.2198  lr=0.013918\n"
          ],
          "name": "stdout"
        },
        {
          "output_type": "stream",
          "text": [
            "INFO:ptsemseg:Iter [39800/50000]  Loss: 1.0106  Time/Image: 0.2240  lr=0.013917\n"
          ],
          "name": "stderr"
        },
        {
          "output_type": "stream",
          "text": [
            "Iter [39800/50000]  Loss: 1.0106  Time/Image: 0.2240  lr=0.013917\n"
          ],
          "name": "stdout"
        },
        {
          "output_type": "stream",
          "text": [
            "INFO:ptsemseg:Iter [39810/50000]  Loss: 1.0094  Time/Image: 0.2235  lr=0.013915\n"
          ],
          "name": "stderr"
        },
        {
          "output_type": "stream",
          "text": [
            "Iter [39810/50000]  Loss: 1.0094  Time/Image: 0.2235  lr=0.013915\n"
          ],
          "name": "stdout"
        },
        {
          "output_type": "stream",
          "text": [
            "INFO:ptsemseg:Iter [39820/50000]  Loss: 1.0078  Time/Image: 0.2234  lr=0.013914\n"
          ],
          "name": "stderr"
        },
        {
          "output_type": "stream",
          "text": [
            "Iter [39820/50000]  Loss: 1.0078  Time/Image: 0.2234  lr=0.013914\n"
          ],
          "name": "stdout"
        },
        {
          "output_type": "stream",
          "text": [
            "INFO:ptsemseg:Iter [39830/50000]  Loss: 1.0102  Time/Image: 0.2136  lr=0.013912\n"
          ],
          "name": "stderr"
        },
        {
          "output_type": "stream",
          "text": [
            "Iter [39830/50000]  Loss: 1.0102  Time/Image: 0.2136  lr=0.013912\n"
          ],
          "name": "stdout"
        },
        {
          "output_type": "stream",
          "text": [
            "INFO:ptsemseg:Iter [39840/50000]  Loss: 1.0083  Time/Image: 0.2171  lr=0.013911\n"
          ],
          "name": "stderr"
        },
        {
          "output_type": "stream",
          "text": [
            "Iter [39840/50000]  Loss: 1.0083  Time/Image: 0.2171  lr=0.013911\n"
          ],
          "name": "stdout"
        },
        {
          "output_type": "stream",
          "text": [
            "INFO:ptsemseg:Iter [39850/50000]  Loss: 1.0072  Time/Image: 0.2142  lr=0.013909\n"
          ],
          "name": "stderr"
        },
        {
          "output_type": "stream",
          "text": [
            "Iter [39850/50000]  Loss: 1.0072  Time/Image: 0.2142  lr=0.013909\n"
          ],
          "name": "stdout"
        },
        {
          "output_type": "stream",
          "text": [
            "INFO:ptsemseg:Iter [39860/50000]  Loss: 1.0078  Time/Image: 0.2147  lr=0.013908\n"
          ],
          "name": "stderr"
        },
        {
          "output_type": "stream",
          "text": [
            "Iter [39860/50000]  Loss: 1.0078  Time/Image: 0.2147  lr=0.013908\n"
          ],
          "name": "stdout"
        },
        {
          "output_type": "stream",
          "text": [
            "INFO:ptsemseg:Iter [39870/50000]  Loss: 1.0063  Time/Image: 0.2147  lr=0.013906\n"
          ],
          "name": "stderr"
        },
        {
          "output_type": "stream",
          "text": [
            "Iter [39870/50000]  Loss: 1.0063  Time/Image: 0.2147  lr=0.013906\n"
          ],
          "name": "stdout"
        },
        {
          "output_type": "stream",
          "text": [
            "INFO:ptsemseg:Iter [39880/50000]  Loss: 1.0059  Time/Image: 0.2158  lr=0.013904\n"
          ],
          "name": "stderr"
        },
        {
          "output_type": "stream",
          "text": [
            "Iter [39880/50000]  Loss: 1.0059  Time/Image: 0.2158  lr=0.013904\n"
          ],
          "name": "stdout"
        },
        {
          "output_type": "stream",
          "text": [
            "INFO:ptsemseg:Iter [39890/50000]  Loss: 1.0032  Time/Image: 0.2160  lr=0.013903\n"
          ],
          "name": "stderr"
        },
        {
          "output_type": "stream",
          "text": [
            "Iter [39890/50000]  Loss: 1.0032  Time/Image: 0.2160  lr=0.013903\n"
          ],
          "name": "stdout"
        },
        {
          "output_type": "stream",
          "text": [
            "INFO:ptsemseg:Iter [39900/50000]  Loss: 1.0019  Time/Image: 0.2190  lr=0.013901\n"
          ],
          "name": "stderr"
        },
        {
          "output_type": "stream",
          "text": [
            "Iter [39900/50000]  Loss: 1.0019  Time/Image: 0.2190  lr=0.013901\n"
          ],
          "name": "stdout"
        },
        {
          "output_type": "stream",
          "text": [
            "INFO:ptsemseg:Iter [39910/50000]  Loss: 1.0044  Time/Image: 0.2111  lr=0.013900\n"
          ],
          "name": "stderr"
        },
        {
          "output_type": "stream",
          "text": [
            "Iter [39910/50000]  Loss: 1.0044  Time/Image: 0.2111  lr=0.013900\n"
          ],
          "name": "stdout"
        },
        {
          "output_type": "stream",
          "text": [
            "INFO:ptsemseg:Iter [39920/50000]  Loss: 1.0047  Time/Image: 0.2173  lr=0.013898\n"
          ],
          "name": "stderr"
        },
        {
          "output_type": "stream",
          "text": [
            "Iter [39920/50000]  Loss: 1.0047  Time/Image: 0.2173  lr=0.013898\n"
          ],
          "name": "stdout"
        },
        {
          "output_type": "stream",
          "text": [
            "INFO:ptsemseg:Iter [39930/50000]  Loss: 1.0023  Time/Image: 0.2185  lr=0.013897\n"
          ],
          "name": "stderr"
        },
        {
          "output_type": "stream",
          "text": [
            "Iter [39930/50000]  Loss: 1.0023  Time/Image: 0.2185  lr=0.013897\n"
          ],
          "name": "stdout"
        },
        {
          "output_type": "stream",
          "text": [
            "INFO:ptsemseg:Iter [39940/50000]  Loss: 1.0026  Time/Image: 0.2201  lr=0.013895\n"
          ],
          "name": "stderr"
        },
        {
          "output_type": "stream",
          "text": [
            "Iter [39940/50000]  Loss: 1.0026  Time/Image: 0.2201  lr=0.013895\n"
          ],
          "name": "stdout"
        },
        {
          "output_type": "stream",
          "text": [
            "INFO:ptsemseg:Iter [39950/50000]  Loss: 1.0008  Time/Image: 0.2218  lr=0.013893\n"
          ],
          "name": "stderr"
        },
        {
          "output_type": "stream",
          "text": [
            "Iter [39950/50000]  Loss: 1.0008  Time/Image: 0.2218  lr=0.013893\n"
          ],
          "name": "stdout"
        },
        {
          "output_type": "stream",
          "text": [
            "INFO:ptsemseg:Iter [39960/50000]  Loss: 1.0029  Time/Image: 0.2194  lr=0.013892\n"
          ],
          "name": "stderr"
        },
        {
          "output_type": "stream",
          "text": [
            "Iter [39960/50000]  Loss: 1.0029  Time/Image: 0.2194  lr=0.013892\n"
          ],
          "name": "stdout"
        },
        {
          "output_type": "stream",
          "text": [
            "INFO:ptsemseg:Iter [39970/50000]  Loss: 1.0026  Time/Image: 0.2160  lr=0.013890\n"
          ],
          "name": "stderr"
        },
        {
          "output_type": "stream",
          "text": [
            "Iter [39970/50000]  Loss: 1.0026  Time/Image: 0.2160  lr=0.013890\n"
          ],
          "name": "stdout"
        },
        {
          "output_type": "stream",
          "text": [
            "INFO:ptsemseg:Iter [39980/50000]  Loss: 1.0020  Time/Image: 0.1872  lr=0.013889\n"
          ],
          "name": "stderr"
        },
        {
          "output_type": "stream",
          "text": [
            "Iter [39980/50000]  Loss: 1.0020  Time/Image: 0.1872  lr=0.013889\n"
          ],
          "name": "stdout"
        },
        {
          "output_type": "stream",
          "text": [
            "INFO:ptsemseg:Iter [39990/50000]  Loss: 1.0018  Time/Image: 0.2038  lr=0.013887\n"
          ],
          "name": "stderr"
        },
        {
          "output_type": "stream",
          "text": [
            "Iter [39990/50000]  Loss: 1.0018  Time/Image: 0.2038  lr=0.013887\n"
          ],
          "name": "stdout"
        },
        {
          "output_type": "stream",
          "text": [
            "INFO:ptsemseg:Iter [40000/50000]  Loss: 1.0032  Time/Image: 0.2348  lr=0.013886\n"
          ],
          "name": "stderr"
        },
        {
          "output_type": "stream",
          "text": [
            "Iter [40000/50000]  Loss: 1.0032  Time/Image: 0.2348  lr=0.013886\n"
          ],
          "name": "stdout"
        },
        {
          "output_type": "stream",
          "text": [
            "84it [03:41,  2.63s/it]\n",
            "INFO:ptsemseg:Iter 40000 Val Loss: 1.0564\n",
            "INFO:ptsemseg:Overall Acc: \t: 0.9296226447185625\n",
            "INFO:ptsemseg:Mean Acc : \t: 0.6571390331198814\n",
            "INFO:ptsemseg:FreqW Acc : \t: 0.876129015893445\n",
            "INFO:ptsemseg:Mean IoU : \t: 0.5689821106804123\n",
            "INFO:ptsemseg:0: 0.9613760977318244\n",
            "INFO:ptsemseg:1: 0.7019902029700226\n",
            "INFO:ptsemseg:2: 0.8777679949528159\n",
            "INFO:ptsemseg:3: 0.23866465982319798\n",
            "INFO:ptsemseg:4: 0.37876136557542744\n",
            "INFO:ptsemseg:5: 0.5010801754533626\n",
            "INFO:ptsemseg:6: 0.44974755047807896\n",
            "INFO:ptsemseg:7: 0.6328138326570323\n",
            "INFO:ptsemseg:8: 0.8974020950559367\n",
            "INFO:ptsemseg:9: 0.4755844686220746\n",
            "INFO:ptsemseg:10: 0.9102259201997415\n",
            "INFO:ptsemseg:11: 0.7008835630735264\n",
            "INFO:ptsemseg:12: 0.43669648642926345\n",
            "INFO:ptsemseg:13: 0.9033833924073063\n",
            "INFO:ptsemseg:14: 0.36698510493079495\n",
            "INFO:ptsemseg:15: 0.41474310635725403\n",
            "INFO:ptsemseg:16: 0.25312409223291304\n",
            "INFO:ptsemseg:17: 0.06840691578120121\n",
            "INFO:ptsemseg:18: 0.6410230781960594\n"
          ],
          "name": "stderr"
        },
        {
          "output_type": "stream",
          "text": [
            "Overall Acc: \t 0.9296226447185625\n",
            "Mean Acc : \t 0.6571390331198814\n",
            "FreqW Acc : \t 0.876129015893445\n",
            "Mean IoU : \t 0.5689821106804123\n"
          ],
          "name": "stdout"
        },
        {
          "output_type": "stream",
          "text": [
            "INFO:ptsemseg:Iter [40010/50000]  Loss: 0.9732  Time/Image: 0.2044  lr=0.013884\n"
          ],
          "name": "stderr"
        },
        {
          "output_type": "stream",
          "text": [
            "Iter [40010/50000]  Loss: 0.9732  Time/Image: 0.2044  lr=0.013884\n"
          ],
          "name": "stdout"
        },
        {
          "output_type": "stream",
          "text": [
            "INFO:ptsemseg:Iter [40020/50000]  Loss: 0.9418  Time/Image: 0.2315  lr=0.013883\n"
          ],
          "name": "stderr"
        },
        {
          "output_type": "stream",
          "text": [
            "Iter [40020/50000]  Loss: 0.9418  Time/Image: 0.2315  lr=0.013883\n"
          ],
          "name": "stdout"
        },
        {
          "output_type": "stream",
          "text": [
            "INFO:ptsemseg:Iter [40030/50000]  Loss: 0.9499  Time/Image: 0.2322  lr=0.013881\n"
          ],
          "name": "stderr"
        },
        {
          "output_type": "stream",
          "text": [
            "Iter [40030/50000]  Loss: 0.9499  Time/Image: 0.2322  lr=0.013881\n"
          ],
          "name": "stdout"
        },
        {
          "output_type": "stream",
          "text": [
            "INFO:ptsemseg:Iter [40040/50000]  Loss: 0.9804  Time/Image: 0.2331  lr=0.013879\n"
          ],
          "name": "stderr"
        },
        {
          "output_type": "stream",
          "text": [
            "Iter [40040/50000]  Loss: 0.9804  Time/Image: 0.2331  lr=0.013879\n"
          ],
          "name": "stdout"
        },
        {
          "output_type": "stream",
          "text": [
            "INFO:ptsemseg:Iter [40050/50000]  Loss: 0.9848  Time/Image: 0.2312  lr=0.013878\n"
          ],
          "name": "stderr"
        },
        {
          "output_type": "stream",
          "text": [
            "Iter [40050/50000]  Loss: 0.9848  Time/Image: 0.2312  lr=0.013878\n"
          ],
          "name": "stdout"
        },
        {
          "output_type": "stream",
          "text": [
            "INFO:ptsemseg:Iter [40060/50000]  Loss: 0.9955  Time/Image: 0.2331  lr=0.013876\n"
          ],
          "name": "stderr"
        },
        {
          "output_type": "stream",
          "text": [
            "Iter [40060/50000]  Loss: 0.9955  Time/Image: 0.2331  lr=0.013876\n"
          ],
          "name": "stdout"
        },
        {
          "output_type": "stream",
          "text": [
            "INFO:ptsemseg:Iter [40070/50000]  Loss: 1.0091  Time/Image: 0.2287  lr=0.013875\n"
          ],
          "name": "stderr"
        },
        {
          "output_type": "stream",
          "text": [
            "Iter [40070/50000]  Loss: 1.0091  Time/Image: 0.2287  lr=0.013875\n"
          ],
          "name": "stdout"
        },
        {
          "output_type": "stream",
          "text": [
            "INFO:ptsemseg:Iter [40080/50000]  Loss: 1.0226  Time/Image: 0.2303  lr=0.013873\n"
          ],
          "name": "stderr"
        },
        {
          "output_type": "stream",
          "text": [
            "Iter [40080/50000]  Loss: 1.0226  Time/Image: 0.2303  lr=0.013873\n"
          ],
          "name": "stdout"
        },
        {
          "output_type": "stream",
          "text": [
            "INFO:ptsemseg:Iter [40090/50000]  Loss: 1.0087  Time/Image: 0.2320  lr=0.013872\n"
          ],
          "name": "stderr"
        },
        {
          "output_type": "stream",
          "text": [
            "Iter [40090/50000]  Loss: 1.0087  Time/Image: 0.2320  lr=0.013872\n"
          ],
          "name": "stdout"
        },
        {
          "output_type": "stream",
          "text": [
            "INFO:ptsemseg:Iter [40100/50000]  Loss: 1.0110  Time/Image: 0.2246  lr=0.013870\n"
          ],
          "name": "stderr"
        },
        {
          "output_type": "stream",
          "text": [
            "Iter [40100/50000]  Loss: 1.0110  Time/Image: 0.2246  lr=0.013870\n"
          ],
          "name": "stdout"
        },
        {
          "output_type": "stream",
          "text": [
            "INFO:ptsemseg:Iter [40110/50000]  Loss: 1.0094  Time/Image: 0.2301  lr=0.013869\n"
          ],
          "name": "stderr"
        },
        {
          "output_type": "stream",
          "text": [
            "Iter [40110/50000]  Loss: 1.0094  Time/Image: 0.2301  lr=0.013869\n"
          ],
          "name": "stdout"
        },
        {
          "output_type": "stream",
          "text": [
            "INFO:ptsemseg:Iter [40120/50000]  Loss: 1.0121  Time/Image: 0.2322  lr=0.013867\n"
          ],
          "name": "stderr"
        },
        {
          "output_type": "stream",
          "text": [
            "Iter [40120/50000]  Loss: 1.0121  Time/Image: 0.2322  lr=0.013867\n"
          ],
          "name": "stdout"
        },
        {
          "output_type": "stream",
          "text": [
            "INFO:ptsemseg:Iter [40130/50000]  Loss: 1.0043  Time/Image: 0.2288  lr=0.013865\n"
          ],
          "name": "stderr"
        },
        {
          "output_type": "stream",
          "text": [
            "Iter [40130/50000]  Loss: 1.0043  Time/Image: 0.2288  lr=0.013865\n"
          ],
          "name": "stdout"
        },
        {
          "output_type": "stream",
          "text": [
            "INFO:ptsemseg:Iter [40140/50000]  Loss: 1.0157  Time/Image: 0.2322  lr=0.013864\n"
          ],
          "name": "stderr"
        },
        {
          "output_type": "stream",
          "text": [
            "Iter [40140/50000]  Loss: 1.0157  Time/Image: 0.2322  lr=0.013864\n"
          ],
          "name": "stdout"
        },
        {
          "output_type": "stream",
          "text": [
            "INFO:ptsemseg:Iter [40150/50000]  Loss: 1.0128  Time/Image: 0.2197  lr=0.013862\n"
          ],
          "name": "stderr"
        },
        {
          "output_type": "stream",
          "text": [
            "Iter [40150/50000]  Loss: 1.0128  Time/Image: 0.2197  lr=0.013862\n"
          ],
          "name": "stdout"
        },
        {
          "output_type": "stream",
          "text": [
            "INFO:ptsemseg:Iter [40160/50000]  Loss: 1.0114  Time/Image: 0.2272  lr=0.013861\n"
          ],
          "name": "stderr"
        },
        {
          "output_type": "stream",
          "text": [
            "Iter [40160/50000]  Loss: 1.0114  Time/Image: 0.2272  lr=0.013861\n"
          ],
          "name": "stdout"
        },
        {
          "output_type": "stream",
          "text": [
            "INFO:ptsemseg:Iter [40170/50000]  Loss: 1.0114  Time/Image: 0.2280  lr=0.013859\n"
          ],
          "name": "stderr"
        },
        {
          "output_type": "stream",
          "text": [
            "Iter [40170/50000]  Loss: 1.0114  Time/Image: 0.2280  lr=0.013859\n"
          ],
          "name": "stdout"
        },
        {
          "output_type": "stream",
          "text": [
            "INFO:ptsemseg:Iter [40180/50000]  Loss: 1.0116  Time/Image: 0.2261  lr=0.013858\n"
          ],
          "name": "stderr"
        },
        {
          "output_type": "stream",
          "text": [
            "Iter [40180/50000]  Loss: 1.0116  Time/Image: 0.2261  lr=0.013858\n"
          ],
          "name": "stdout"
        },
        {
          "output_type": "stream",
          "text": [
            "INFO:ptsemseg:Iter [40190/50000]  Loss: 1.0087  Time/Image: 0.2150  lr=0.013856\n"
          ],
          "name": "stderr"
        },
        {
          "output_type": "stream",
          "text": [
            "Iter [40190/50000]  Loss: 1.0087  Time/Image: 0.2150  lr=0.013856\n"
          ],
          "name": "stdout"
        },
        {
          "output_type": "stream",
          "text": [
            "INFO:ptsemseg:Iter [40200/50000]  Loss: 1.0061  Time/Image: 0.2223  lr=0.013854\n"
          ],
          "name": "stderr"
        },
        {
          "output_type": "stream",
          "text": [
            "Iter [40200/50000]  Loss: 1.0061  Time/Image: 0.2223  lr=0.013854\n"
          ],
          "name": "stdout"
        },
        {
          "output_type": "stream",
          "text": [
            "INFO:ptsemseg:Iter [40210/50000]  Loss: 1.0056  Time/Image: 0.2268  lr=0.013853\n"
          ],
          "name": "stderr"
        },
        {
          "output_type": "stream",
          "text": [
            "Iter [40210/50000]  Loss: 1.0056  Time/Image: 0.2268  lr=0.013853\n"
          ],
          "name": "stdout"
        },
        {
          "output_type": "stream",
          "text": [
            "INFO:ptsemseg:Iter [40220/50000]  Loss: 1.0066  Time/Image: 0.2292  lr=0.013851\n"
          ],
          "name": "stderr"
        },
        {
          "output_type": "stream",
          "text": [
            "Iter [40220/50000]  Loss: 1.0066  Time/Image: 0.2292  lr=0.013851\n"
          ],
          "name": "stdout"
        },
        {
          "output_type": "stream",
          "text": [
            "INFO:ptsemseg:Iter [40230/50000]  Loss: 1.0089  Time/Image: 0.2148  lr=0.013850\n"
          ],
          "name": "stderr"
        },
        {
          "output_type": "stream",
          "text": [
            "Iter [40230/50000]  Loss: 1.0089  Time/Image: 0.2148  lr=0.013850\n"
          ],
          "name": "stdout"
        },
        {
          "output_type": "stream",
          "text": [
            "INFO:ptsemseg:Iter [40240/50000]  Loss: 1.0055  Time/Image: 0.2251  lr=0.013848\n"
          ],
          "name": "stderr"
        },
        {
          "output_type": "stream",
          "text": [
            "Iter [40240/50000]  Loss: 1.0055  Time/Image: 0.2251  lr=0.013848\n"
          ],
          "name": "stdout"
        },
        {
          "output_type": "stream",
          "text": [
            "INFO:ptsemseg:Iter [40250/50000]  Loss: 1.0081  Time/Image: 0.2235  lr=0.013847\n"
          ],
          "name": "stderr"
        },
        {
          "output_type": "stream",
          "text": [
            "Iter [40250/50000]  Loss: 1.0081  Time/Image: 0.2235  lr=0.013847\n"
          ],
          "name": "stdout"
        },
        {
          "output_type": "stream",
          "text": [
            "INFO:ptsemseg:Iter [40260/50000]  Loss: 1.0050  Time/Image: 0.2258  lr=0.013845\n"
          ],
          "name": "stderr"
        },
        {
          "output_type": "stream",
          "text": [
            "Iter [40260/50000]  Loss: 1.0050  Time/Image: 0.2258  lr=0.013845\n"
          ],
          "name": "stdout"
        },
        {
          "output_type": "stream",
          "text": [
            "INFO:ptsemseg:Iter [40270/50000]  Loss: 1.0049  Time/Image: 0.2266  lr=0.013844\n"
          ],
          "name": "stderr"
        },
        {
          "output_type": "stream",
          "text": [
            "Iter [40270/50000]  Loss: 1.0049  Time/Image: 0.2266  lr=0.013844\n"
          ],
          "name": "stdout"
        },
        {
          "output_type": "stream",
          "text": [
            "INFO:ptsemseg:Iter [40280/50000]  Loss: 1.0052  Time/Image: 0.2201  lr=0.013842\n"
          ],
          "name": "stderr"
        },
        {
          "output_type": "stream",
          "text": [
            "Iter [40280/50000]  Loss: 1.0052  Time/Image: 0.2201  lr=0.013842\n"
          ],
          "name": "stdout"
        },
        {
          "output_type": "stream",
          "text": [
            "INFO:ptsemseg:Iter [40290/50000]  Loss: 1.0004  Time/Image: 0.2211  lr=0.013840\n"
          ],
          "name": "stderr"
        },
        {
          "output_type": "stream",
          "text": [
            "Iter [40290/50000]  Loss: 1.0004  Time/Image: 0.2211  lr=0.013840\n"
          ],
          "name": "stdout"
        },
        {
          "output_type": "stream",
          "text": [
            "INFO:ptsemseg:Iter [40300/50000]  Loss: 1.0009  Time/Image: 0.2167  lr=0.013839\n"
          ],
          "name": "stderr"
        },
        {
          "output_type": "stream",
          "text": [
            "Iter [40300/50000]  Loss: 1.0009  Time/Image: 0.2167  lr=0.013839\n"
          ],
          "name": "stdout"
        },
        {
          "output_type": "stream",
          "text": [
            "INFO:ptsemseg:Iter [40310/50000]  Loss: 1.0019  Time/Image: 0.2181  lr=0.013837\n"
          ],
          "name": "stderr"
        },
        {
          "output_type": "stream",
          "text": [
            "Iter [40310/50000]  Loss: 1.0019  Time/Image: 0.2181  lr=0.013837\n"
          ],
          "name": "stdout"
        },
        {
          "output_type": "stream",
          "text": [
            "INFO:ptsemseg:Iter [40320/50000]  Loss: 0.9996  Time/Image: 0.2202  lr=0.013836\n"
          ],
          "name": "stderr"
        },
        {
          "output_type": "stream",
          "text": [
            "Iter [40320/50000]  Loss: 0.9996  Time/Image: 0.2202  lr=0.013836\n"
          ],
          "name": "stdout"
        },
        {
          "output_type": "stream",
          "text": [
            "INFO:ptsemseg:Iter [40330/50000]  Loss: 0.9967  Time/Image: 0.2172  lr=0.013834\n"
          ],
          "name": "stderr"
        },
        {
          "output_type": "stream",
          "text": [
            "Iter [40330/50000]  Loss: 0.9967  Time/Image: 0.2172  lr=0.013834\n"
          ],
          "name": "stdout"
        },
        {
          "output_type": "stream",
          "text": [
            "INFO:ptsemseg:Iter [40340/50000]  Loss: 0.9970  Time/Image: 0.2220  lr=0.013833\n"
          ],
          "name": "stderr"
        },
        {
          "output_type": "stream",
          "text": [
            "Iter [40340/50000]  Loss: 0.9970  Time/Image: 0.2220  lr=0.013833\n"
          ],
          "name": "stdout"
        },
        {
          "output_type": "stream",
          "text": [
            "INFO:ptsemseg:Iter [40350/50000]  Loss: 0.9946  Time/Image: 0.2181  lr=0.013831\n"
          ],
          "name": "stderr"
        },
        {
          "output_type": "stream",
          "text": [
            "Iter [40350/50000]  Loss: 0.9946  Time/Image: 0.2181  lr=0.013831\n"
          ],
          "name": "stdout"
        },
        {
          "output_type": "stream",
          "text": [
            "INFO:ptsemseg:Iter [40360/50000]  Loss: 0.9964  Time/Image: 0.2189  lr=0.013829\n"
          ],
          "name": "stderr"
        },
        {
          "output_type": "stream",
          "text": [
            "Iter [40360/50000]  Loss: 0.9964  Time/Image: 0.2189  lr=0.013829\n"
          ],
          "name": "stdout"
        },
        {
          "output_type": "stream",
          "text": [
            "INFO:ptsemseg:Iter [40370/50000]  Loss: 0.9971  Time/Image: 0.2181  lr=0.013828\n"
          ],
          "name": "stderr"
        },
        {
          "output_type": "stream",
          "text": [
            "Iter [40370/50000]  Loss: 0.9971  Time/Image: 0.2181  lr=0.013828\n"
          ],
          "name": "stdout"
        },
        {
          "output_type": "stream",
          "text": [
            "INFO:ptsemseg:Iter [40380/50000]  Loss: 0.9968  Time/Image: 0.2132  lr=0.013826\n"
          ],
          "name": "stderr"
        },
        {
          "output_type": "stream",
          "text": [
            "Iter [40380/50000]  Loss: 0.9968  Time/Image: 0.2132  lr=0.013826\n"
          ],
          "name": "stdout"
        },
        {
          "output_type": "stream",
          "text": [
            "INFO:ptsemseg:Iter [40390/50000]  Loss: 0.9947  Time/Image: 0.2155  lr=0.013825\n"
          ],
          "name": "stderr"
        },
        {
          "output_type": "stream",
          "text": [
            "Iter [40390/50000]  Loss: 0.9947  Time/Image: 0.2155  lr=0.013825\n"
          ],
          "name": "stdout"
        },
        {
          "output_type": "stream",
          "text": [
            "INFO:ptsemseg:Iter [40400/50000]  Loss: 0.9965  Time/Image: 0.2153  lr=0.013823\n"
          ],
          "name": "stderr"
        },
        {
          "output_type": "stream",
          "text": [
            "Iter [40400/50000]  Loss: 0.9965  Time/Image: 0.2153  lr=0.013823\n"
          ],
          "name": "stdout"
        },
        {
          "output_type": "stream",
          "text": [
            "INFO:ptsemseg:Iter [40410/50000]  Loss: 0.9960  Time/Image: 0.2156  lr=0.013822\n"
          ],
          "name": "stderr"
        },
        {
          "output_type": "stream",
          "text": [
            "Iter [40410/50000]  Loss: 0.9960  Time/Image: 0.2156  lr=0.013822\n"
          ],
          "name": "stdout"
        },
        {
          "output_type": "stream",
          "text": [
            "INFO:ptsemseg:Iter [40420/50000]  Loss: 0.9956  Time/Image: 0.2134  lr=0.013820\n"
          ],
          "name": "stderr"
        },
        {
          "output_type": "stream",
          "text": [
            "Iter [40420/50000]  Loss: 0.9956  Time/Image: 0.2134  lr=0.013820\n"
          ],
          "name": "stdout"
        },
        {
          "output_type": "stream",
          "text": [
            "INFO:ptsemseg:Iter [40430/50000]  Loss: 0.9964  Time/Image: 0.2156  lr=0.013819\n"
          ],
          "name": "stderr"
        },
        {
          "output_type": "stream",
          "text": [
            "Iter [40430/50000]  Loss: 0.9964  Time/Image: 0.2156  lr=0.013819\n"
          ],
          "name": "stdout"
        },
        {
          "output_type": "stream",
          "text": [
            "INFO:ptsemseg:Iter [40440/50000]  Loss: 0.9955  Time/Image: 0.2133  lr=0.013817\n"
          ],
          "name": "stderr"
        },
        {
          "output_type": "stream",
          "text": [
            "Iter [40440/50000]  Loss: 0.9955  Time/Image: 0.2133  lr=0.013817\n"
          ],
          "name": "stdout"
        },
        {
          "output_type": "stream",
          "text": [
            "INFO:ptsemseg:Iter [40450/50000]  Loss: 0.9964  Time/Image: 0.2190  lr=0.013815\n"
          ],
          "name": "stderr"
        },
        {
          "output_type": "stream",
          "text": [
            "Iter [40450/50000]  Loss: 0.9964  Time/Image: 0.2190  lr=0.013815\n"
          ],
          "name": "stdout"
        },
        {
          "output_type": "stream",
          "text": [
            "INFO:ptsemseg:Iter [40460/50000]  Loss: 0.9977  Time/Image: 0.2157  lr=0.013814\n"
          ],
          "name": "stderr"
        },
        {
          "output_type": "stream",
          "text": [
            "Iter [40460/50000]  Loss: 0.9977  Time/Image: 0.2157  lr=0.013814\n"
          ],
          "name": "stdout"
        },
        {
          "output_type": "stream",
          "text": [
            "INFO:ptsemseg:Iter [40470/50000]  Loss: 0.9963  Time/Image: 0.2107  lr=0.013812\n"
          ],
          "name": "stderr"
        },
        {
          "output_type": "stream",
          "text": [
            "Iter [40470/50000]  Loss: 0.9963  Time/Image: 0.2107  lr=0.013812\n"
          ],
          "name": "stdout"
        },
        {
          "output_type": "stream",
          "text": [
            "INFO:ptsemseg:Iter [40480/50000]  Loss: 0.9974  Time/Image: 0.1787  lr=0.013811\n"
          ],
          "name": "stderr"
        },
        {
          "output_type": "stream",
          "text": [
            "Iter [40480/50000]  Loss: 0.9974  Time/Image: 0.1787  lr=0.013811\n"
          ],
          "name": "stdout"
        },
        {
          "output_type": "stream",
          "text": [
            "INFO:ptsemseg:Iter [40490/50000]  Loss: 0.9969  Time/Image: 0.2282  lr=0.013809\n"
          ],
          "name": "stderr"
        },
        {
          "output_type": "stream",
          "text": [
            "Iter [40490/50000]  Loss: 0.9969  Time/Image: 0.2282  lr=0.013809\n"
          ],
          "name": "stdout"
        },
        {
          "output_type": "stream",
          "text": [
            "INFO:ptsemseg:Iter [40500/50000]  Loss: 0.9968  Time/Image: 0.2345  lr=0.013808\n"
          ],
          "name": "stderr"
        },
        {
          "output_type": "stream",
          "text": [
            "Iter [40500/50000]  Loss: 0.9968  Time/Image: 0.2345  lr=0.013808\n"
          ],
          "name": "stdout"
        },
        {
          "output_type": "stream",
          "text": [
            "84it [03:43,  2.66s/it]\n",
            "INFO:ptsemseg:Iter 40500 Val Loss: 1.0553\n",
            "INFO:ptsemseg:Overall Acc: \t: 0.9295779771349845\n",
            "INFO:ptsemseg:Mean Acc : \t: 0.643693224691341\n",
            "INFO:ptsemseg:FreqW Acc : \t: 0.8743117998579049\n",
            "INFO:ptsemseg:Mean IoU : \t: 0.5604284849917925\n",
            "INFO:ptsemseg:0: 0.9642306848201899\n",
            "INFO:ptsemseg:1: 0.7448540515484595\n",
            "INFO:ptsemseg:2: 0.870728938473395\n",
            "INFO:ptsemseg:3: 0.21753974164529957\n",
            "INFO:ptsemseg:4: 0.33068560154987925\n",
            "INFO:ptsemseg:5: 0.4948286208312332\n",
            "INFO:ptsemseg:6: 0.35431093681484604\n",
            "INFO:ptsemseg:7: 0.5801960796574352\n",
            "INFO:ptsemseg:8: 0.8905414017835079\n",
            "INFO:ptsemseg:9: 0.5311211833546639\n",
            "INFO:ptsemseg:10: 0.8932123603626932\n",
            "INFO:ptsemseg:11: 0.6790520431697828\n",
            "INFO:ptsemseg:12: 0.4386907569574045\n",
            "INFO:ptsemseg:13: 0.8949511422947158\n",
            "INFO:ptsemseg:14: 0.3129050270939626\n",
            "INFO:ptsemseg:15: 0.47695792390784636\n",
            "INFO:ptsemseg:16: 0.22459411402228777\n",
            "INFO:ptsemseg:17: 0.1773161145423919\n",
            "INFO:ptsemseg:18: 0.5714244920140624\n"
          ],
          "name": "stderr"
        },
        {
          "output_type": "stream",
          "text": [
            "Overall Acc: \t 0.9295779771349845\n",
            "Mean Acc : \t 0.643693224691341\n",
            "FreqW Acc : \t 0.8743117998579049\n",
            "Mean IoU : \t 0.5604284849917925\n"
          ],
          "name": "stdout"
        },
        {
          "output_type": "stream",
          "text": [
            "INFO:ptsemseg:Iter [40510/50000]  Loss: 1.0251  Time/Image: 0.2023  lr=0.013806\n"
          ],
          "name": "stderr"
        },
        {
          "output_type": "stream",
          "text": [
            "Iter [40510/50000]  Loss: 1.0251  Time/Image: 0.2023  lr=0.013806\n"
          ],
          "name": "stdout"
        },
        {
          "output_type": "stream",
          "text": [
            "INFO:ptsemseg:Iter [40520/50000]  Loss: 1.0069  Time/Image: 0.2343  lr=0.013804\n"
          ],
          "name": "stderr"
        },
        {
          "output_type": "stream",
          "text": [
            "Iter [40520/50000]  Loss: 1.0069  Time/Image: 0.2343  lr=0.013804\n"
          ],
          "name": "stdout"
        },
        {
          "output_type": "stream",
          "text": [
            "INFO:ptsemseg:Iter [40530/50000]  Loss: 0.9934  Time/Image: 0.2314  lr=0.013803\n"
          ],
          "name": "stderr"
        },
        {
          "output_type": "stream",
          "text": [
            "Iter [40530/50000]  Loss: 0.9934  Time/Image: 0.2314  lr=0.013803\n"
          ],
          "name": "stdout"
        },
        {
          "output_type": "stream",
          "text": [
            "INFO:ptsemseg:Iter [40540/50000]  Loss: 0.9787  Time/Image: 0.2270  lr=0.013801\n"
          ],
          "name": "stderr"
        },
        {
          "output_type": "stream",
          "text": [
            "Iter [40540/50000]  Loss: 0.9787  Time/Image: 0.2270  lr=0.013801\n"
          ],
          "name": "stdout"
        },
        {
          "output_type": "stream",
          "text": [
            "INFO:ptsemseg:Iter [40550/50000]  Loss: 0.9804  Time/Image: 0.2303  lr=0.013800\n"
          ],
          "name": "stderr"
        },
        {
          "output_type": "stream",
          "text": [
            "Iter [40550/50000]  Loss: 0.9804  Time/Image: 0.2303  lr=0.013800\n"
          ],
          "name": "stdout"
        },
        {
          "output_type": "stream",
          "text": [
            "INFO:ptsemseg:Iter [40560/50000]  Loss: 0.9904  Time/Image: 0.2316  lr=0.013798\n"
          ],
          "name": "stderr"
        },
        {
          "output_type": "stream",
          "text": [
            "Iter [40560/50000]  Loss: 0.9904  Time/Image: 0.2316  lr=0.013798\n"
          ],
          "name": "stdout"
        },
        {
          "output_type": "stream",
          "text": [
            "INFO:ptsemseg:Iter [40570/50000]  Loss: 0.9916  Time/Image: 0.2300  lr=0.013797\n"
          ],
          "name": "stderr"
        },
        {
          "output_type": "stream",
          "text": [
            "Iter [40570/50000]  Loss: 0.9916  Time/Image: 0.2300  lr=0.013797\n"
          ],
          "name": "stdout"
        },
        {
          "output_type": "stream",
          "text": [
            "INFO:ptsemseg:Iter [40580/50000]  Loss: 0.9882  Time/Image: 0.2309  lr=0.013795\n"
          ],
          "name": "stderr"
        },
        {
          "output_type": "stream",
          "text": [
            "Iter [40580/50000]  Loss: 0.9882  Time/Image: 0.2309  lr=0.013795\n"
          ],
          "name": "stdout"
        },
        {
          "output_type": "stream",
          "text": [
            "INFO:ptsemseg:Iter [40590/50000]  Loss: 0.9917  Time/Image: 0.2297  lr=0.013793\n"
          ],
          "name": "stderr"
        },
        {
          "output_type": "stream",
          "text": [
            "Iter [40590/50000]  Loss: 0.9917  Time/Image: 0.2297  lr=0.013793\n"
          ],
          "name": "stdout"
        },
        {
          "output_type": "stream",
          "text": [
            "INFO:ptsemseg:Iter [40600/50000]  Loss: 0.9848  Time/Image: 0.2246  lr=0.013792\n"
          ],
          "name": "stderr"
        },
        {
          "output_type": "stream",
          "text": [
            "Iter [40600/50000]  Loss: 0.9848  Time/Image: 0.2246  lr=0.013792\n"
          ],
          "name": "stdout"
        },
        {
          "output_type": "stream",
          "text": [
            "INFO:ptsemseg:Iter [40610/50000]  Loss: 0.9857  Time/Image: 0.2305  lr=0.013790\n"
          ],
          "name": "stderr"
        },
        {
          "output_type": "stream",
          "text": [
            "Iter [40610/50000]  Loss: 0.9857  Time/Image: 0.2305  lr=0.013790\n"
          ],
          "name": "stdout"
        },
        {
          "output_type": "stream",
          "text": [
            "INFO:ptsemseg:Iter [40620/50000]  Loss: 0.9914  Time/Image: 0.2289  lr=0.013789\n"
          ],
          "name": "stderr"
        },
        {
          "output_type": "stream",
          "text": [
            "Iter [40620/50000]  Loss: 0.9914  Time/Image: 0.2289  lr=0.013789\n"
          ],
          "name": "stdout"
        },
        {
          "output_type": "stream",
          "text": [
            "INFO:ptsemseg:Iter [40630/50000]  Loss: 0.9932  Time/Image: 0.2262  lr=0.013787\n"
          ],
          "name": "stderr"
        },
        {
          "output_type": "stream",
          "text": [
            "Iter [40630/50000]  Loss: 0.9932  Time/Image: 0.2262  lr=0.013787\n"
          ],
          "name": "stdout"
        },
        {
          "output_type": "stream",
          "text": [
            "INFO:ptsemseg:Iter [40640/50000]  Loss: 0.9887  Time/Image: 0.2250  lr=0.013786\n"
          ],
          "name": "stderr"
        },
        {
          "output_type": "stream",
          "text": [
            "Iter [40640/50000]  Loss: 0.9887  Time/Image: 0.2250  lr=0.013786\n"
          ],
          "name": "stdout"
        },
        {
          "output_type": "stream",
          "text": [
            "INFO:ptsemseg:Iter [40650/50000]  Loss: 0.9890  Time/Image: 0.2298  lr=0.013784\n"
          ],
          "name": "stderr"
        },
        {
          "output_type": "stream",
          "text": [
            "Iter [40650/50000]  Loss: 0.9890  Time/Image: 0.2298  lr=0.013784\n"
          ],
          "name": "stdout"
        },
        {
          "output_type": "stream",
          "text": [
            "INFO:ptsemseg:Iter [40660/50000]  Loss: 0.9877  Time/Image: 0.2252  lr=0.013783\n"
          ],
          "name": "stderr"
        },
        {
          "output_type": "stream",
          "text": [
            "Iter [40660/50000]  Loss: 0.9877  Time/Image: 0.2252  lr=0.013783\n"
          ],
          "name": "stdout"
        },
        {
          "output_type": "stream",
          "text": [
            "INFO:ptsemseg:Iter [40670/50000]  Loss: 0.9908  Time/Image: 0.2293  lr=0.013781\n"
          ],
          "name": "stderr"
        },
        {
          "output_type": "stream",
          "text": [
            "Iter [40670/50000]  Loss: 0.9908  Time/Image: 0.2293  lr=0.013781\n"
          ],
          "name": "stdout"
        },
        {
          "output_type": "stream",
          "text": [
            "INFO:ptsemseg:Iter [40680/50000]  Loss: 0.9884  Time/Image: 0.2287  lr=0.013779\n"
          ],
          "name": "stderr"
        },
        {
          "output_type": "stream",
          "text": [
            "Iter [40680/50000]  Loss: 0.9884  Time/Image: 0.2287  lr=0.013779\n"
          ],
          "name": "stdout"
        },
        {
          "output_type": "stream",
          "text": [
            "INFO:ptsemseg:Iter [40690/50000]  Loss: 0.9893  Time/Image: 0.2281  lr=0.013778\n"
          ],
          "name": "stderr"
        },
        {
          "output_type": "stream",
          "text": [
            "Iter [40690/50000]  Loss: 0.9893  Time/Image: 0.2281  lr=0.013778\n"
          ],
          "name": "stdout"
        },
        {
          "output_type": "stream",
          "text": [
            "INFO:ptsemseg:Iter [40700/50000]  Loss: 0.9911  Time/Image: 0.2220  lr=0.013776\n"
          ],
          "name": "stderr"
        },
        {
          "output_type": "stream",
          "text": [
            "Iter [40700/50000]  Loss: 0.9911  Time/Image: 0.2220  lr=0.013776\n"
          ],
          "name": "stdout"
        },
        {
          "output_type": "stream",
          "text": [
            "INFO:ptsemseg:Iter [40710/50000]  Loss: 0.9911  Time/Image: 0.2271  lr=0.013775\n"
          ],
          "name": "stderr"
        },
        {
          "output_type": "stream",
          "text": [
            "Iter [40710/50000]  Loss: 0.9911  Time/Image: 0.2271  lr=0.013775\n"
          ],
          "name": "stdout"
        },
        {
          "output_type": "stream",
          "text": [
            "INFO:ptsemseg:Iter [40720/50000]  Loss: 0.9884  Time/Image: 0.2309  lr=0.013773\n"
          ],
          "name": "stderr"
        },
        {
          "output_type": "stream",
          "text": [
            "Iter [40720/50000]  Loss: 0.9884  Time/Image: 0.2309  lr=0.013773\n"
          ],
          "name": "stdout"
        },
        {
          "output_type": "stream",
          "text": [
            "INFO:ptsemseg:Iter [40730/50000]  Loss: 0.9877  Time/Image: 0.2248  lr=0.013772\n"
          ],
          "name": "stderr"
        },
        {
          "output_type": "stream",
          "text": [
            "Iter [40730/50000]  Loss: 0.9877  Time/Image: 0.2248  lr=0.013772\n"
          ],
          "name": "stdout"
        },
        {
          "output_type": "stream",
          "text": [
            "INFO:ptsemseg:Iter [40740/50000]  Loss: 0.9895  Time/Image: 0.2235  lr=0.013770\n"
          ],
          "name": "stderr"
        },
        {
          "output_type": "stream",
          "text": [
            "Iter [40740/50000]  Loss: 0.9895  Time/Image: 0.2235  lr=0.013770\n"
          ],
          "name": "stdout"
        },
        {
          "output_type": "stream",
          "text": [
            "INFO:ptsemseg:Iter [40750/50000]  Loss: 0.9905  Time/Image: 0.2217  lr=0.013768\n"
          ],
          "name": "stderr"
        },
        {
          "output_type": "stream",
          "text": [
            "Iter [40750/50000]  Loss: 0.9905  Time/Image: 0.2217  lr=0.013768\n"
          ],
          "name": "stdout"
        },
        {
          "output_type": "stream",
          "text": [
            "INFO:ptsemseg:Iter [40760/50000]  Loss: 0.9906  Time/Image: 0.2285  lr=0.013767\n"
          ],
          "name": "stderr"
        },
        {
          "output_type": "stream",
          "text": [
            "Iter [40760/50000]  Loss: 0.9906  Time/Image: 0.2285  lr=0.013767\n"
          ],
          "name": "stdout"
        },
        {
          "output_type": "stream",
          "text": [
            "INFO:ptsemseg:Iter [40770/50000]  Loss: 0.9906  Time/Image: 0.2225  lr=0.013765\n"
          ],
          "name": "stderr"
        },
        {
          "output_type": "stream",
          "text": [
            "Iter [40770/50000]  Loss: 0.9906  Time/Image: 0.2225  lr=0.013765\n"
          ],
          "name": "stdout"
        },
        {
          "output_type": "stream",
          "text": [
            "INFO:ptsemseg:Iter [40780/50000]  Loss: 0.9902  Time/Image: 0.2289  lr=0.013764\n"
          ],
          "name": "stderr"
        },
        {
          "output_type": "stream",
          "text": [
            "Iter [40780/50000]  Loss: 0.9902  Time/Image: 0.2289  lr=0.013764\n"
          ],
          "name": "stdout"
        },
        {
          "output_type": "stream",
          "text": [
            "INFO:ptsemseg:Iter [40790/50000]  Loss: 0.9892  Time/Image: 0.2156  lr=0.013762\n"
          ],
          "name": "stderr"
        },
        {
          "output_type": "stream",
          "text": [
            "Iter [40790/50000]  Loss: 0.9892  Time/Image: 0.2156  lr=0.013762\n"
          ],
          "name": "stdout"
        },
        {
          "output_type": "stream",
          "text": [
            "INFO:ptsemseg:Iter [40800/50000]  Loss: 0.9895  Time/Image: 0.2202  lr=0.013761\n"
          ],
          "name": "stderr"
        },
        {
          "output_type": "stream",
          "text": [
            "Iter [40800/50000]  Loss: 0.9895  Time/Image: 0.2202  lr=0.013761\n"
          ],
          "name": "stdout"
        },
        {
          "output_type": "stream",
          "text": [
            "INFO:ptsemseg:Iter [40810/50000]  Loss: 0.9904  Time/Image: 0.2163  lr=0.013759\n"
          ],
          "name": "stderr"
        },
        {
          "output_type": "stream",
          "text": [
            "Iter [40810/50000]  Loss: 0.9904  Time/Image: 0.2163  lr=0.013759\n"
          ],
          "name": "stdout"
        },
        {
          "output_type": "stream",
          "text": [
            "INFO:ptsemseg:Iter [40820/50000]  Loss: 0.9900  Time/Image: 0.2193  lr=0.013758\n"
          ],
          "name": "stderr"
        },
        {
          "output_type": "stream",
          "text": [
            "Iter [40820/50000]  Loss: 0.9900  Time/Image: 0.2193  lr=0.013758\n"
          ],
          "name": "stdout"
        },
        {
          "output_type": "stream",
          "text": [
            "INFO:ptsemseg:Iter [40830/50000]  Loss: 0.9899  Time/Image: 0.2154  lr=0.013756\n"
          ],
          "name": "stderr"
        },
        {
          "output_type": "stream",
          "text": [
            "Iter [40830/50000]  Loss: 0.9899  Time/Image: 0.2154  lr=0.013756\n"
          ],
          "name": "stdout"
        },
        {
          "output_type": "stream",
          "text": [
            "INFO:ptsemseg:Iter [40840/50000]  Loss: 0.9904  Time/Image: 0.2235  lr=0.013754\n"
          ],
          "name": "stderr"
        },
        {
          "output_type": "stream",
          "text": [
            "Iter [40840/50000]  Loss: 0.9904  Time/Image: 0.2235  lr=0.013754\n"
          ],
          "name": "stdout"
        },
        {
          "output_type": "stream",
          "text": [
            "INFO:ptsemseg:Iter [40850/50000]  Loss: 0.9910  Time/Image: 0.2157  lr=0.013753\n"
          ],
          "name": "stderr"
        },
        {
          "output_type": "stream",
          "text": [
            "Iter [40850/50000]  Loss: 0.9910  Time/Image: 0.2157  lr=0.013753\n"
          ],
          "name": "stdout"
        },
        {
          "output_type": "stream",
          "text": [
            "INFO:ptsemseg:Iter [40860/50000]  Loss: 0.9908  Time/Image: 0.2136  lr=0.013751\n"
          ],
          "name": "stderr"
        },
        {
          "output_type": "stream",
          "text": [
            "Iter [40860/50000]  Loss: 0.9908  Time/Image: 0.2136  lr=0.013751\n"
          ],
          "name": "stdout"
        },
        {
          "output_type": "stream",
          "text": [
            "INFO:ptsemseg:Iter [40870/50000]  Loss: 0.9885  Time/Image: 0.2166  lr=0.013750\n"
          ],
          "name": "stderr"
        },
        {
          "output_type": "stream",
          "text": [
            "Iter [40870/50000]  Loss: 0.9885  Time/Image: 0.2166  lr=0.013750\n"
          ],
          "name": "stdout"
        },
        {
          "output_type": "stream",
          "text": [
            "INFO:ptsemseg:Iter [40880/50000]  Loss: 0.9890  Time/Image: 0.2179  lr=0.013748\n"
          ],
          "name": "stderr"
        },
        {
          "output_type": "stream",
          "text": [
            "Iter [40880/50000]  Loss: 0.9890  Time/Image: 0.2179  lr=0.013748\n"
          ],
          "name": "stdout"
        },
        {
          "output_type": "stream",
          "text": [
            "INFO:ptsemseg:Iter [40890/50000]  Loss: 0.9894  Time/Image: 0.2170  lr=0.013747\n"
          ],
          "name": "stderr"
        },
        {
          "output_type": "stream",
          "text": [
            "Iter [40890/50000]  Loss: 0.9894  Time/Image: 0.2170  lr=0.013747\n"
          ],
          "name": "stdout"
        },
        {
          "output_type": "stream",
          "text": [
            "INFO:ptsemseg:Iter [40900/50000]  Loss: 0.9894  Time/Image: 0.2165  lr=0.013745\n"
          ],
          "name": "stderr"
        },
        {
          "output_type": "stream",
          "text": [
            "Iter [40900/50000]  Loss: 0.9894  Time/Image: 0.2165  lr=0.013745\n"
          ],
          "name": "stdout"
        },
        {
          "output_type": "stream",
          "text": [
            "INFO:ptsemseg:Iter [40910/50000]  Loss: 0.9891  Time/Image: 0.2138  lr=0.013743\n"
          ],
          "name": "stderr"
        },
        {
          "output_type": "stream",
          "text": [
            "Iter [40910/50000]  Loss: 0.9891  Time/Image: 0.2138  lr=0.013743\n"
          ],
          "name": "stdout"
        },
        {
          "output_type": "stream",
          "text": [
            "INFO:ptsemseg:Iter [40920/50000]  Loss: 0.9881  Time/Image: 0.2148  lr=0.013742\n"
          ],
          "name": "stderr"
        },
        {
          "output_type": "stream",
          "text": [
            "Iter [40920/50000]  Loss: 0.9881  Time/Image: 0.2148  lr=0.013742\n"
          ],
          "name": "stdout"
        },
        {
          "output_type": "stream",
          "text": [
            "INFO:ptsemseg:Iter [40930/50000]  Loss: 0.9906  Time/Image: 0.2161  lr=0.013740\n"
          ],
          "name": "stderr"
        },
        {
          "output_type": "stream",
          "text": [
            "Iter [40930/50000]  Loss: 0.9906  Time/Image: 0.2161  lr=0.013740\n"
          ],
          "name": "stdout"
        },
        {
          "output_type": "stream",
          "text": [
            "INFO:ptsemseg:Iter [40940/50000]  Loss: 0.9891  Time/Image: 0.2175  lr=0.013739\n"
          ],
          "name": "stderr"
        },
        {
          "output_type": "stream",
          "text": [
            "Iter [40940/50000]  Loss: 0.9891  Time/Image: 0.2175  lr=0.013739\n"
          ],
          "name": "stdout"
        },
        {
          "output_type": "stream",
          "text": [
            "INFO:ptsemseg:Iter [40950/50000]  Loss: 0.9889  Time/Image: 0.2164  lr=0.013737\n"
          ],
          "name": "stderr"
        },
        {
          "output_type": "stream",
          "text": [
            "Iter [40950/50000]  Loss: 0.9889  Time/Image: 0.2164  lr=0.013737\n"
          ],
          "name": "stdout"
        },
        {
          "output_type": "stream",
          "text": [
            "INFO:ptsemseg:Iter [40960/50000]  Loss: 0.9892  Time/Image: 0.2148  lr=0.013736\n"
          ],
          "name": "stderr"
        },
        {
          "output_type": "stream",
          "text": [
            "Iter [40960/50000]  Loss: 0.9892  Time/Image: 0.2148  lr=0.013736\n"
          ],
          "name": "stdout"
        },
        {
          "output_type": "stream",
          "text": [
            "INFO:ptsemseg:Iter [40970/50000]  Loss: 0.9892  Time/Image: 0.2008  lr=0.013734\n"
          ],
          "name": "stderr"
        },
        {
          "output_type": "stream",
          "text": [
            "Iter [40970/50000]  Loss: 0.9892  Time/Image: 0.2008  lr=0.013734\n"
          ],
          "name": "stdout"
        },
        {
          "output_type": "stream",
          "text": [
            "INFO:ptsemseg:Iter [40980/50000]  Loss: 0.9881  Time/Image: 0.1911  lr=0.013733\n"
          ],
          "name": "stderr"
        },
        {
          "output_type": "stream",
          "text": [
            "Iter [40980/50000]  Loss: 0.9881  Time/Image: 0.1911  lr=0.013733\n"
          ],
          "name": "stdout"
        },
        {
          "output_type": "stream",
          "text": [
            "INFO:ptsemseg:Iter [40990/50000]  Loss: 0.9890  Time/Image: 0.2356  lr=0.013731\n"
          ],
          "name": "stderr"
        },
        {
          "output_type": "stream",
          "text": [
            "Iter [40990/50000]  Loss: 0.9890  Time/Image: 0.2356  lr=0.013731\n"
          ],
          "name": "stdout"
        },
        {
          "output_type": "stream",
          "text": [
            "INFO:ptsemseg:Iter [41000/50000]  Loss: 0.9874  Time/Image: 0.2325  lr=0.013729\n"
          ],
          "name": "stderr"
        },
        {
          "output_type": "stream",
          "text": [
            "Iter [41000/50000]  Loss: 0.9874  Time/Image: 0.2325  lr=0.013729\n"
          ],
          "name": "stdout"
        },
        {
          "output_type": "stream",
          "text": [
            "84it [03:46,  2.70s/it]\n",
            "INFO:ptsemseg:Iter 41000 Val Loss: 1.0453\n",
            "INFO:ptsemseg:Overall Acc: \t: 0.8942850802215395\n",
            "INFO:ptsemseg:Mean Acc : \t: 0.5667843031773323\n",
            "INFO:ptsemseg:FreqW Acc : \t: 0.8182756314991663\n",
            "INFO:ptsemseg:Mean IoU : \t: 0.4730396154540896\n",
            "INFO:ptsemseg:0: 0.9242740569639725\n",
            "INFO:ptsemseg:1: 0.5897191973210528\n",
            "INFO:ptsemseg:2: 0.8197875570839173\n",
            "INFO:ptsemseg:3: 0.13278051314549613\n",
            "INFO:ptsemseg:4: 0.3281281221540158\n",
            "INFO:ptsemseg:5: 0.4047602361335496\n",
            "INFO:ptsemseg:6: 0.3092065941217696\n",
            "INFO:ptsemseg:7: 0.5143522510099686\n",
            "INFO:ptsemseg:8: 0.8706171142063545\n",
            "INFO:ptsemseg:9: 0.46546398556059754\n",
            "INFO:ptsemseg:10: 0.6063744787223092\n",
            "INFO:ptsemseg:11: 0.6127620342564937\n",
            "INFO:ptsemseg:12: 0.22615289944423017\n",
            "INFO:ptsemseg:13: 0.850189927168653\n",
            "INFO:ptsemseg:14: 0.06685164385591537\n",
            "INFO:ptsemseg:15: 0.5243926437092539\n",
            "INFO:ptsemseg:16: 0.022520589925301666\n",
            "INFO:ptsemseg:17: 0.1919336150369484\n",
            "INFO:ptsemseg:18: 0.5274852338079026\n"
          ],
          "name": "stderr"
        },
        {
          "output_type": "stream",
          "text": [
            "Overall Acc: \t 0.8942850802215395\n",
            "Mean Acc : \t 0.5667843031773323\n",
            "FreqW Acc : \t 0.8182756314991663\n",
            "Mean IoU : \t 0.4730396154540896\n"
          ],
          "name": "stdout"
        },
        {
          "output_type": "stream",
          "text": [
            "INFO:ptsemseg:Iter [41010/50000]  Loss: 0.9877  Time/Image: 0.2087  lr=0.013728\n"
          ],
          "name": "stderr"
        },
        {
          "output_type": "stream",
          "text": [
            "Iter [41010/50000]  Loss: 0.9877  Time/Image: 0.2087  lr=0.013728\n"
          ],
          "name": "stdout"
        },
        {
          "output_type": "stream",
          "text": [
            "INFO:ptsemseg:Iter [41020/50000]  Loss: 1.0089  Time/Image: 0.2303  lr=0.013726\n"
          ],
          "name": "stderr"
        },
        {
          "output_type": "stream",
          "text": [
            "Iter [41020/50000]  Loss: 1.0089  Time/Image: 0.2303  lr=0.013726\n"
          ],
          "name": "stdout"
        },
        {
          "output_type": "stream",
          "text": [
            "INFO:ptsemseg:Iter [41030/50000]  Loss: 1.0122  Time/Image: 0.2351  lr=0.013725\n"
          ],
          "name": "stderr"
        },
        {
          "output_type": "stream",
          "text": [
            "Iter [41030/50000]  Loss: 1.0122  Time/Image: 0.2351  lr=0.013725\n"
          ],
          "name": "stdout"
        },
        {
          "output_type": "stream",
          "text": [
            "INFO:ptsemseg:Iter [41040/50000]  Loss: 0.9921  Time/Image: 0.2347  lr=0.013723\n"
          ],
          "name": "stderr"
        },
        {
          "output_type": "stream",
          "text": [
            "Iter [41040/50000]  Loss: 0.9921  Time/Image: 0.2347  lr=0.013723\n"
          ],
          "name": "stdout"
        },
        {
          "output_type": "stream",
          "text": [
            "INFO:ptsemseg:Iter [41050/50000]  Loss: 0.9935  Time/Image: 0.2314  lr=0.013722\n"
          ],
          "name": "stderr"
        },
        {
          "output_type": "stream",
          "text": [
            "Iter [41050/50000]  Loss: 0.9935  Time/Image: 0.2314  lr=0.013722\n"
          ],
          "name": "stdout"
        },
        {
          "output_type": "stream",
          "text": [
            "INFO:ptsemseg:Iter [41060/50000]  Loss: 0.9864  Time/Image: 0.2314  lr=0.013720\n"
          ],
          "name": "stderr"
        },
        {
          "output_type": "stream",
          "text": [
            "Iter [41060/50000]  Loss: 0.9864  Time/Image: 0.2314  lr=0.013720\n"
          ],
          "name": "stdout"
        },
        {
          "output_type": "stream",
          "text": [
            "INFO:ptsemseg:Iter [41070/50000]  Loss: 1.0019  Time/Image: 0.2341  lr=0.013718\n"
          ],
          "name": "stderr"
        },
        {
          "output_type": "stream",
          "text": [
            "Iter [41070/50000]  Loss: 1.0019  Time/Image: 0.2341  lr=0.013718\n"
          ],
          "name": "stdout"
        },
        {
          "output_type": "stream",
          "text": [
            "INFO:ptsemseg:Iter [41080/50000]  Loss: 0.9961  Time/Image: 0.2308  lr=0.013717\n"
          ],
          "name": "stderr"
        },
        {
          "output_type": "stream",
          "text": [
            "Iter [41080/50000]  Loss: 0.9961  Time/Image: 0.2308  lr=0.013717\n"
          ],
          "name": "stdout"
        },
        {
          "output_type": "stream",
          "text": [
            "INFO:ptsemseg:Iter [41090/50000]  Loss: 0.9900  Time/Image: 0.2292  lr=0.013715\n"
          ],
          "name": "stderr"
        },
        {
          "output_type": "stream",
          "text": [
            "Iter [41090/50000]  Loss: 0.9900  Time/Image: 0.2292  lr=0.013715\n"
          ],
          "name": "stdout"
        },
        {
          "output_type": "stream",
          "text": [
            "INFO:ptsemseg:Iter [41100/50000]  Loss: 0.9882  Time/Image: 0.2262  lr=0.013714\n"
          ],
          "name": "stderr"
        },
        {
          "output_type": "stream",
          "text": [
            "Iter [41100/50000]  Loss: 0.9882  Time/Image: 0.2262  lr=0.013714\n"
          ],
          "name": "stdout"
        },
        {
          "output_type": "stream",
          "text": [
            "INFO:ptsemseg:Iter [41110/50000]  Loss: 0.9939  Time/Image: 0.2294  lr=0.013712\n"
          ],
          "name": "stderr"
        },
        {
          "output_type": "stream",
          "text": [
            "Iter [41110/50000]  Loss: 0.9939  Time/Image: 0.2294  lr=0.013712\n"
          ],
          "name": "stdout"
        },
        {
          "output_type": "stream",
          "text": [
            "INFO:ptsemseg:Iter [41120/50000]  Loss: 0.9887  Time/Image: 0.2270  lr=0.013711\n"
          ],
          "name": "stderr"
        },
        {
          "output_type": "stream",
          "text": [
            "Iter [41120/50000]  Loss: 0.9887  Time/Image: 0.2270  lr=0.013711\n"
          ],
          "name": "stdout"
        },
        {
          "output_type": "stream",
          "text": [
            "INFO:ptsemseg:Iter [41130/50000]  Loss: 0.9932  Time/Image: 0.2245  lr=0.013709\n"
          ],
          "name": "stderr"
        },
        {
          "output_type": "stream",
          "text": [
            "Iter [41130/50000]  Loss: 0.9932  Time/Image: 0.2245  lr=0.013709\n"
          ],
          "name": "stdout"
        },
        {
          "output_type": "stream",
          "text": [
            "INFO:ptsemseg:Iter [41140/50000]  Loss: 0.9892  Time/Image: 0.2261  lr=0.013707\n"
          ],
          "name": "stderr"
        },
        {
          "output_type": "stream",
          "text": [
            "Iter [41140/50000]  Loss: 0.9892  Time/Image: 0.2261  lr=0.013707\n"
          ],
          "name": "stdout"
        },
        {
          "output_type": "stream",
          "text": [
            "INFO:ptsemseg:Iter [41150/50000]  Loss: 0.9907  Time/Image: 0.2275  lr=0.013706\n"
          ],
          "name": "stderr"
        },
        {
          "output_type": "stream",
          "text": [
            "Iter [41150/50000]  Loss: 0.9907  Time/Image: 0.2275  lr=0.013706\n"
          ],
          "name": "stdout"
        },
        {
          "output_type": "stream",
          "text": [
            "INFO:ptsemseg:Iter [41160/50000]  Loss: 0.9883  Time/Image: 0.2289  lr=0.013704\n"
          ],
          "name": "stderr"
        },
        {
          "output_type": "stream",
          "text": [
            "Iter [41160/50000]  Loss: 0.9883  Time/Image: 0.2289  lr=0.013704\n"
          ],
          "name": "stdout"
        },
        {
          "output_type": "stream",
          "text": [
            "INFO:ptsemseg:Iter [41170/50000]  Loss: 0.9894  Time/Image: 0.2288  lr=0.013703\n"
          ],
          "name": "stderr"
        },
        {
          "output_type": "stream",
          "text": [
            "Iter [41170/50000]  Loss: 0.9894  Time/Image: 0.2288  lr=0.013703\n"
          ],
          "name": "stdout"
        },
        {
          "output_type": "stream",
          "text": [
            "INFO:ptsemseg:Iter [41180/50000]  Loss: 0.9873  Time/Image: 0.2247  lr=0.013701\n"
          ],
          "name": "stderr"
        },
        {
          "output_type": "stream",
          "text": [
            "Iter [41180/50000]  Loss: 0.9873  Time/Image: 0.2247  lr=0.013701\n"
          ],
          "name": "stdout"
        },
        {
          "output_type": "stream",
          "text": [
            "INFO:ptsemseg:Iter [41190/50000]  Loss: 0.9887  Time/Image: 0.2298  lr=0.013700\n"
          ],
          "name": "stderr"
        },
        {
          "output_type": "stream",
          "text": [
            "Iter [41190/50000]  Loss: 0.9887  Time/Image: 0.2298  lr=0.013700\n"
          ],
          "name": "stdout"
        },
        {
          "output_type": "stream",
          "text": [
            "INFO:ptsemseg:Iter [41200/50000]  Loss: 0.9882  Time/Image: 0.2285  lr=0.013698\n"
          ],
          "name": "stderr"
        },
        {
          "output_type": "stream",
          "text": [
            "Iter [41200/50000]  Loss: 0.9882  Time/Image: 0.2285  lr=0.013698\n"
          ],
          "name": "stdout"
        },
        {
          "output_type": "stream",
          "text": [
            "INFO:ptsemseg:Iter [41210/50000]  Loss: 0.9898  Time/Image: 0.2252  lr=0.013697\n"
          ],
          "name": "stderr"
        },
        {
          "output_type": "stream",
          "text": [
            "Iter [41210/50000]  Loss: 0.9898  Time/Image: 0.2252  lr=0.013697\n"
          ],
          "name": "stdout"
        },
        {
          "output_type": "stream",
          "text": [
            "INFO:ptsemseg:Iter [41220/50000]  Loss: 0.9903  Time/Image: 0.2308  lr=0.013695\n"
          ],
          "name": "stderr"
        },
        {
          "output_type": "stream",
          "text": [
            "Iter [41220/50000]  Loss: 0.9903  Time/Image: 0.2308  lr=0.013695\n"
          ],
          "name": "stdout"
        },
        {
          "output_type": "stream",
          "text": [
            "INFO:ptsemseg:Iter [41230/50000]  Loss: 0.9924  Time/Image: 0.2282  lr=0.013693\n"
          ],
          "name": "stderr"
        },
        {
          "output_type": "stream",
          "text": [
            "Iter [41230/50000]  Loss: 0.9924  Time/Image: 0.2282  lr=0.013693\n"
          ],
          "name": "stdout"
        },
        {
          "output_type": "stream",
          "text": [
            "INFO:ptsemseg:Iter [41240/50000]  Loss: 0.9919  Time/Image: 0.2240  lr=0.013692\n"
          ],
          "name": "stderr"
        },
        {
          "output_type": "stream",
          "text": [
            "Iter [41240/50000]  Loss: 0.9919  Time/Image: 0.2240  lr=0.013692\n"
          ],
          "name": "stdout"
        },
        {
          "output_type": "stream",
          "text": [
            "INFO:ptsemseg:Iter [41250/50000]  Loss: 0.9900  Time/Image: 0.2239  lr=0.013690\n"
          ],
          "name": "stderr"
        },
        {
          "output_type": "stream",
          "text": [
            "Iter [41250/50000]  Loss: 0.9900  Time/Image: 0.2239  lr=0.013690\n"
          ],
          "name": "stdout"
        },
        {
          "output_type": "stream",
          "text": [
            "INFO:ptsemseg:Iter [41260/50000]  Loss: 0.9888  Time/Image: 0.2242  lr=0.013689\n"
          ],
          "name": "stderr"
        },
        {
          "output_type": "stream",
          "text": [
            "Iter [41260/50000]  Loss: 0.9888  Time/Image: 0.2242  lr=0.013689\n"
          ],
          "name": "stdout"
        },
        {
          "output_type": "stream",
          "text": [
            "INFO:ptsemseg:Iter [41270/50000]  Loss: 0.9893  Time/Image: 0.2192  lr=0.013687\n"
          ],
          "name": "stderr"
        },
        {
          "output_type": "stream",
          "text": [
            "Iter [41270/50000]  Loss: 0.9893  Time/Image: 0.2192  lr=0.013687\n"
          ],
          "name": "stdout"
        },
        {
          "output_type": "stream",
          "text": [
            "INFO:ptsemseg:Iter [41280/50000]  Loss: 0.9907  Time/Image: 0.2252  lr=0.013686\n"
          ],
          "name": "stderr"
        },
        {
          "output_type": "stream",
          "text": [
            "Iter [41280/50000]  Loss: 0.9907  Time/Image: 0.2252  lr=0.013686\n"
          ],
          "name": "stdout"
        },
        {
          "output_type": "stream",
          "text": [
            "INFO:ptsemseg:Iter [41290/50000]  Loss: 0.9917  Time/Image: 0.2170  lr=0.013684\n"
          ],
          "name": "stderr"
        },
        {
          "output_type": "stream",
          "text": [
            "Iter [41290/50000]  Loss: 0.9917  Time/Image: 0.2170  lr=0.013684\n"
          ],
          "name": "stdout"
        },
        {
          "output_type": "stream",
          "text": [
            "INFO:ptsemseg:Iter [41300/50000]  Loss: 0.9908  Time/Image: 0.2174  lr=0.013682\n"
          ],
          "name": "stderr"
        },
        {
          "output_type": "stream",
          "text": [
            "Iter [41300/50000]  Loss: 0.9908  Time/Image: 0.2174  lr=0.013682\n"
          ],
          "name": "stdout"
        },
        {
          "output_type": "stream",
          "text": [
            "INFO:ptsemseg:Iter [41310/50000]  Loss: 0.9909  Time/Image: 0.2203  lr=0.013681\n"
          ],
          "name": "stderr"
        },
        {
          "output_type": "stream",
          "text": [
            "Iter [41310/50000]  Loss: 0.9909  Time/Image: 0.2203  lr=0.013681\n"
          ],
          "name": "stdout"
        },
        {
          "output_type": "stream",
          "text": [
            "INFO:ptsemseg:Iter [41320/50000]  Loss: 0.9922  Time/Image: 0.2194  lr=0.013679\n"
          ],
          "name": "stderr"
        },
        {
          "output_type": "stream",
          "text": [
            "Iter [41320/50000]  Loss: 0.9922  Time/Image: 0.2194  lr=0.013679\n"
          ],
          "name": "stdout"
        },
        {
          "output_type": "stream",
          "text": [
            "INFO:ptsemseg:Iter [41330/50000]  Loss: 0.9908  Time/Image: 0.2185  lr=0.013678\n"
          ],
          "name": "stderr"
        },
        {
          "output_type": "stream",
          "text": [
            "Iter [41330/50000]  Loss: 0.9908  Time/Image: 0.2185  lr=0.013678\n"
          ],
          "name": "stdout"
        },
        {
          "output_type": "stream",
          "text": [
            "INFO:ptsemseg:Iter [41340/50000]  Loss: 0.9901  Time/Image: 0.2188  lr=0.013676\n"
          ],
          "name": "stderr"
        },
        {
          "output_type": "stream",
          "text": [
            "Iter [41340/50000]  Loss: 0.9901  Time/Image: 0.2188  lr=0.013676\n"
          ],
          "name": "stdout"
        },
        {
          "output_type": "stream",
          "text": [
            "INFO:ptsemseg:Iter [41350/50000]  Loss: 0.9925  Time/Image: 0.2134  lr=0.013675\n"
          ],
          "name": "stderr"
        },
        {
          "output_type": "stream",
          "text": [
            "Iter [41350/50000]  Loss: 0.9925  Time/Image: 0.2134  lr=0.013675\n"
          ],
          "name": "stdout"
        },
        {
          "output_type": "stream",
          "text": [
            "INFO:ptsemseg:Iter [41360/50000]  Loss: 0.9922  Time/Image: 0.2086  lr=0.013673\n"
          ],
          "name": "stderr"
        },
        {
          "output_type": "stream",
          "text": [
            "Iter [41360/50000]  Loss: 0.9922  Time/Image: 0.2086  lr=0.013673\n"
          ],
          "name": "stdout"
        },
        {
          "output_type": "stream",
          "text": [
            "INFO:ptsemseg:Iter [41370/50000]  Loss: 0.9904  Time/Image: 0.2099  lr=0.013672\n"
          ],
          "name": "stderr"
        },
        {
          "output_type": "stream",
          "text": [
            "Iter [41370/50000]  Loss: 0.9904  Time/Image: 0.2099  lr=0.013672\n"
          ],
          "name": "stdout"
        },
        {
          "output_type": "stream",
          "text": [
            "INFO:ptsemseg:Iter [41380/50000]  Loss: 0.9894  Time/Image: 0.2173  lr=0.013670\n"
          ],
          "name": "stderr"
        },
        {
          "output_type": "stream",
          "text": [
            "Iter [41380/50000]  Loss: 0.9894  Time/Image: 0.2173  lr=0.013670\n"
          ],
          "name": "stdout"
        },
        {
          "output_type": "stream",
          "text": [
            "INFO:ptsemseg:Iter [41390/50000]  Loss: 0.9888  Time/Image: 0.2120  lr=0.013668\n"
          ],
          "name": "stderr"
        },
        {
          "output_type": "stream",
          "text": [
            "Iter [41390/50000]  Loss: 0.9888  Time/Image: 0.2120  lr=0.013668\n"
          ],
          "name": "stdout"
        },
        {
          "output_type": "stream",
          "text": [
            "INFO:ptsemseg:Iter [41400/50000]  Loss: 0.9905  Time/Image: 0.2200  lr=0.013667\n"
          ],
          "name": "stderr"
        },
        {
          "output_type": "stream",
          "text": [
            "Iter [41400/50000]  Loss: 0.9905  Time/Image: 0.2200  lr=0.013667\n"
          ],
          "name": "stdout"
        },
        {
          "output_type": "stream",
          "text": [
            "INFO:ptsemseg:Iter [41410/50000]  Loss: 0.9893  Time/Image: 0.2165  lr=0.013665\n"
          ],
          "name": "stderr"
        },
        {
          "output_type": "stream",
          "text": [
            "Iter [41410/50000]  Loss: 0.9893  Time/Image: 0.2165  lr=0.013665\n"
          ],
          "name": "stdout"
        },
        {
          "output_type": "stream",
          "text": [
            "INFO:ptsemseg:Iter [41420/50000]  Loss: 0.9922  Time/Image: 0.2203  lr=0.013664\n"
          ],
          "name": "stderr"
        },
        {
          "output_type": "stream",
          "text": [
            "Iter [41420/50000]  Loss: 0.9922  Time/Image: 0.2203  lr=0.013664\n"
          ],
          "name": "stdout"
        },
        {
          "output_type": "stream",
          "text": [
            "INFO:ptsemseg:Iter [41430/50000]  Loss: 0.9906  Time/Image: 0.2182  lr=0.013662\n"
          ],
          "name": "stderr"
        },
        {
          "output_type": "stream",
          "text": [
            "Iter [41430/50000]  Loss: 0.9906  Time/Image: 0.2182  lr=0.013662\n"
          ],
          "name": "stdout"
        },
        {
          "output_type": "stream",
          "text": [
            "INFO:ptsemseg:Iter [41440/50000]  Loss: 0.9906  Time/Image: 0.2160  lr=0.013661\n"
          ],
          "name": "stderr"
        },
        {
          "output_type": "stream",
          "text": [
            "Iter [41440/50000]  Loss: 0.9906  Time/Image: 0.2160  lr=0.013661\n"
          ],
          "name": "stdout"
        },
        {
          "output_type": "stream",
          "text": [
            "INFO:ptsemseg:Iter [41450/50000]  Loss: 0.9895  Time/Image: 0.2135  lr=0.013659\n"
          ],
          "name": "stderr"
        },
        {
          "output_type": "stream",
          "text": [
            "Iter [41450/50000]  Loss: 0.9895  Time/Image: 0.2135  lr=0.013659\n"
          ],
          "name": "stdout"
        },
        {
          "output_type": "stream",
          "text": [
            "INFO:ptsemseg:Iter [41460/50000]  Loss: 0.9899  Time/Image: 0.2155  lr=0.013657\n"
          ],
          "name": "stderr"
        },
        {
          "output_type": "stream",
          "text": [
            "Iter [41460/50000]  Loss: 0.9899  Time/Image: 0.2155  lr=0.013657\n"
          ],
          "name": "stdout"
        },
        {
          "output_type": "stream",
          "text": [
            "INFO:ptsemseg:Iter [41470/50000]  Loss: 0.9883  Time/Image: 0.1862  lr=0.013656\n"
          ],
          "name": "stderr"
        },
        {
          "output_type": "stream",
          "text": [
            "Iter [41470/50000]  Loss: 0.9883  Time/Image: 0.1862  lr=0.013656\n"
          ],
          "name": "stdout"
        },
        {
          "output_type": "stream",
          "text": [
            "INFO:ptsemseg:Iter [41480/50000]  Loss: 0.9880  Time/Image: 0.2143  lr=0.013654\n"
          ],
          "name": "stderr"
        },
        {
          "output_type": "stream",
          "text": [
            "Iter [41480/50000]  Loss: 0.9880  Time/Image: 0.2143  lr=0.013654\n"
          ],
          "name": "stdout"
        },
        {
          "output_type": "stream",
          "text": [
            "INFO:ptsemseg:Iter [41490/50000]  Loss: 0.9891  Time/Image: 0.2299  lr=0.013653\n"
          ],
          "name": "stderr"
        },
        {
          "output_type": "stream",
          "text": [
            "Iter [41490/50000]  Loss: 0.9891  Time/Image: 0.2299  lr=0.013653\n"
          ],
          "name": "stdout"
        },
        {
          "output_type": "stream",
          "text": [
            "INFO:ptsemseg:Iter [41500/50000]  Loss: 0.9891  Time/Image: 0.2325  lr=0.013651\n"
          ],
          "name": "stderr"
        },
        {
          "output_type": "stream",
          "text": [
            "Iter [41500/50000]  Loss: 0.9891  Time/Image: 0.2325  lr=0.013651\n"
          ],
          "name": "stdout"
        },
        {
          "output_type": "stream",
          "text": [
            "84it [03:40,  2.62s/it]\n",
            "INFO:ptsemseg:Iter 41500 Val Loss: 0.9827\n",
            "INFO:ptsemseg:Overall Acc: \t: 0.9284654117808087\n",
            "INFO:ptsemseg:Mean Acc : \t: 0.6736905331126841\n",
            "INFO:ptsemseg:FreqW Acc : \t: 0.8747326561999609\n",
            "INFO:ptsemseg:Mean IoU : \t: 0.5524191019691976\n",
            "INFO:ptsemseg:0: 0.962865641526211\n",
            "INFO:ptsemseg:1: 0.7511513244153689\n",
            "INFO:ptsemseg:2: 0.8737598266844665\n",
            "INFO:ptsemseg:3: 0.31014434472334923\n",
            "INFO:ptsemseg:4: 0.42352133193645974\n",
            "INFO:ptsemseg:5: 0.5132711422587692\n",
            "INFO:ptsemseg:6: 0.5027754089302655\n",
            "INFO:ptsemseg:7: 0.6325183069671915\n",
            "INFO:ptsemseg:8: 0.8940774756054507\n",
            "INFO:ptsemseg:9: 0.4889026733252879\n",
            "INFO:ptsemseg:10: 0.8983374378226552\n",
            "INFO:ptsemseg:11: 0.6433609527983056\n",
            "INFO:ptsemseg:12: 0.4415676125919488\n",
            "INFO:ptsemseg:13: 0.8808046637982173\n",
            "INFO:ptsemseg:14: 0.13311143350963747\n",
            "INFO:ptsemseg:15: 0.14304506118549473\n",
            "INFO:ptsemseg:16: 0.1817844403752861\n",
            "INFO:ptsemseg:17: 0.19375051243401425\n",
            "INFO:ptsemseg:18: 0.6272133465263728\n"
          ],
          "name": "stderr"
        },
        {
          "output_type": "stream",
          "text": [
            "Overall Acc: \t 0.9284654117808087\n",
            "Mean Acc : \t 0.6736905331126841\n",
            "FreqW Acc : \t 0.8747326561999609\n",
            "Mean IoU : \t 0.5524191019691976\n"
          ],
          "name": "stdout"
        },
        {
          "output_type": "stream",
          "text": [
            "INFO:ptsemseg:Iter [41510/50000]  Loss: 0.9339  Time/Image: 0.2013  lr=0.013650\n"
          ],
          "name": "stderr"
        },
        {
          "output_type": "stream",
          "text": [
            "Iter [41510/50000]  Loss: 0.9339  Time/Image: 0.2013  lr=0.013650\n"
          ],
          "name": "stdout"
        },
        {
          "output_type": "stream",
          "text": [
            "INFO:ptsemseg:Iter [41520/50000]  Loss: 0.9737  Time/Image: 0.2264  lr=0.013648\n"
          ],
          "name": "stderr"
        },
        {
          "output_type": "stream",
          "text": [
            "Iter [41520/50000]  Loss: 0.9737  Time/Image: 0.2264  lr=0.013648\n"
          ],
          "name": "stdout"
        },
        {
          "output_type": "stream",
          "text": [
            "INFO:ptsemseg:Iter [41530/50000]  Loss: 0.9965  Time/Image: 0.2261  lr=0.013646\n"
          ],
          "name": "stderr"
        },
        {
          "output_type": "stream",
          "text": [
            "Iter [41530/50000]  Loss: 0.9965  Time/Image: 0.2261  lr=0.013646\n"
          ],
          "name": "stdout"
        },
        {
          "output_type": "stream",
          "text": [
            "INFO:ptsemseg:Iter [41540/50000]  Loss: 1.0173  Time/Image: 0.2283  lr=0.013645\n"
          ],
          "name": "stderr"
        },
        {
          "output_type": "stream",
          "text": [
            "Iter [41540/50000]  Loss: 1.0173  Time/Image: 0.2283  lr=0.013645\n"
          ],
          "name": "stdout"
        },
        {
          "output_type": "stream",
          "text": [
            "INFO:ptsemseg:Iter [41550/50000]  Loss: 0.9952  Time/Image: 0.2282  lr=0.013643\n"
          ],
          "name": "stderr"
        },
        {
          "output_type": "stream",
          "text": [
            "Iter [41550/50000]  Loss: 0.9952  Time/Image: 0.2282  lr=0.013643\n"
          ],
          "name": "stdout"
        },
        {
          "output_type": "stream",
          "text": [
            "INFO:ptsemseg:Iter [41560/50000]  Loss: 1.0129  Time/Image: 0.2268  lr=0.013642\n"
          ],
          "name": "stderr"
        },
        {
          "output_type": "stream",
          "text": [
            "Iter [41560/50000]  Loss: 1.0129  Time/Image: 0.2268  lr=0.013642\n"
          ],
          "name": "stdout"
        },
        {
          "output_type": "stream",
          "text": [
            "INFO:ptsemseg:Iter [41570/50000]  Loss: 0.9909  Time/Image: 0.2407  lr=0.013640\n"
          ],
          "name": "stderr"
        },
        {
          "output_type": "stream",
          "text": [
            "Iter [41570/50000]  Loss: 0.9909  Time/Image: 0.2407  lr=0.013640\n"
          ],
          "name": "stdout"
        },
        {
          "output_type": "stream",
          "text": [
            "INFO:ptsemseg:Iter [41580/50000]  Loss: 0.9943  Time/Image: 0.2236  lr=0.013639\n"
          ],
          "name": "stderr"
        },
        {
          "output_type": "stream",
          "text": [
            "Iter [41580/50000]  Loss: 0.9943  Time/Image: 0.2236  lr=0.013639\n"
          ],
          "name": "stdout"
        },
        {
          "output_type": "stream",
          "text": [
            "INFO:ptsemseg:Iter [41590/50000]  Loss: 0.9904  Time/Image: 0.2288  lr=0.013637\n"
          ],
          "name": "stderr"
        },
        {
          "output_type": "stream",
          "text": [
            "Iter [41590/50000]  Loss: 0.9904  Time/Image: 0.2288  lr=0.013637\n"
          ],
          "name": "stdout"
        },
        {
          "output_type": "stream",
          "text": [
            "INFO:ptsemseg:Iter [41600/50000]  Loss: 0.9870  Time/Image: 0.2233  lr=0.013636\n"
          ],
          "name": "stderr"
        },
        {
          "output_type": "stream",
          "text": [
            "Iter [41600/50000]  Loss: 0.9870  Time/Image: 0.2233  lr=0.013636\n"
          ],
          "name": "stdout"
        },
        {
          "output_type": "stream",
          "text": [
            "INFO:ptsemseg:Iter [41610/50000]  Loss: 0.9899  Time/Image: 0.2258  lr=0.013634\n"
          ],
          "name": "stderr"
        },
        {
          "output_type": "stream",
          "text": [
            "Iter [41610/50000]  Loss: 0.9899  Time/Image: 0.2258  lr=0.013634\n"
          ],
          "name": "stdout"
        },
        {
          "output_type": "stream",
          "text": [
            "INFO:ptsemseg:Iter [41620/50000]  Loss: 0.9924  Time/Image: 0.2239  lr=0.013632\n"
          ],
          "name": "stderr"
        },
        {
          "output_type": "stream",
          "text": [
            "Iter [41620/50000]  Loss: 0.9924  Time/Image: 0.2239  lr=0.013632\n"
          ],
          "name": "stdout"
        },
        {
          "output_type": "stream",
          "text": [
            "INFO:ptsemseg:Iter [41630/50000]  Loss: 0.9931  Time/Image: 0.2300  lr=0.013631\n"
          ],
          "name": "stderr"
        },
        {
          "output_type": "stream",
          "text": [
            "Iter [41630/50000]  Loss: 0.9931  Time/Image: 0.2300  lr=0.013631\n"
          ],
          "name": "stdout"
        },
        {
          "output_type": "stream",
          "text": [
            "INFO:ptsemseg:Iter [41640/50000]  Loss: 0.9895  Time/Image: 0.2273  lr=0.013629\n"
          ],
          "name": "stderr"
        },
        {
          "output_type": "stream",
          "text": [
            "Iter [41640/50000]  Loss: 0.9895  Time/Image: 0.2273  lr=0.013629\n"
          ],
          "name": "stdout"
        },
        {
          "output_type": "stream",
          "text": [
            "INFO:ptsemseg:Iter [41650/50000]  Loss: 0.9952  Time/Image: 0.2222  lr=0.013628\n"
          ],
          "name": "stderr"
        },
        {
          "output_type": "stream",
          "text": [
            "Iter [41650/50000]  Loss: 0.9952  Time/Image: 0.2222  lr=0.013628\n"
          ],
          "name": "stdout"
        },
        {
          "output_type": "stream",
          "text": [
            "INFO:ptsemseg:Iter [41660/50000]  Loss: 0.9888  Time/Image: 0.2257  lr=0.013626\n"
          ],
          "name": "stderr"
        },
        {
          "output_type": "stream",
          "text": [
            "Iter [41660/50000]  Loss: 0.9888  Time/Image: 0.2257  lr=0.013626\n"
          ],
          "name": "stdout"
        },
        {
          "output_type": "stream",
          "text": [
            "INFO:ptsemseg:Iter [41670/50000]  Loss: 0.9908  Time/Image: 0.2235  lr=0.013625\n"
          ],
          "name": "stderr"
        },
        {
          "output_type": "stream",
          "text": [
            "Iter [41670/50000]  Loss: 0.9908  Time/Image: 0.2235  lr=0.013625\n"
          ],
          "name": "stdout"
        },
        {
          "output_type": "stream",
          "text": [
            "INFO:ptsemseg:Iter [41680/50000]  Loss: 1.0010  Time/Image: 0.2278  lr=0.013623\n"
          ],
          "name": "stderr"
        },
        {
          "output_type": "stream",
          "text": [
            "Iter [41680/50000]  Loss: 1.0010  Time/Image: 0.2278  lr=0.013623\n"
          ],
          "name": "stdout"
        },
        {
          "output_type": "stream",
          "text": [
            "INFO:ptsemseg:Iter [41690/50000]  Loss: 0.9947  Time/Image: 0.2235  lr=0.013621\n"
          ],
          "name": "stderr"
        },
        {
          "output_type": "stream",
          "text": [
            "Iter [41690/50000]  Loss: 0.9947  Time/Image: 0.2235  lr=0.013621\n"
          ],
          "name": "stdout"
        },
        {
          "output_type": "stream",
          "text": [
            "INFO:ptsemseg:Iter [41700/50000]  Loss: 0.9973  Time/Image: 0.2291  lr=0.013620\n"
          ],
          "name": "stderr"
        },
        {
          "output_type": "stream",
          "text": [
            "Iter [41700/50000]  Loss: 0.9973  Time/Image: 0.2291  lr=0.013620\n"
          ],
          "name": "stdout"
        },
        {
          "output_type": "stream",
          "text": [
            "INFO:ptsemseg:Iter [41710/50000]  Loss: 0.9977  Time/Image: 0.2219  lr=0.013618\n"
          ],
          "name": "stderr"
        },
        {
          "output_type": "stream",
          "text": [
            "Iter [41710/50000]  Loss: 0.9977  Time/Image: 0.2219  lr=0.013618\n"
          ],
          "name": "stdout"
        },
        {
          "output_type": "stream",
          "text": [
            "INFO:ptsemseg:Iter [41720/50000]  Loss: 0.9990  Time/Image: 0.2245  lr=0.013617\n"
          ],
          "name": "stderr"
        },
        {
          "output_type": "stream",
          "text": [
            "Iter [41720/50000]  Loss: 0.9990  Time/Image: 0.2245  lr=0.013617\n"
          ],
          "name": "stdout"
        },
        {
          "output_type": "stream",
          "text": [
            "INFO:ptsemseg:Iter [41730/50000]  Loss: 0.9983  Time/Image: 0.2256  lr=0.013615\n"
          ],
          "name": "stderr"
        },
        {
          "output_type": "stream",
          "text": [
            "Iter [41730/50000]  Loss: 0.9983  Time/Image: 0.2256  lr=0.013615\n"
          ],
          "name": "stdout"
        },
        {
          "output_type": "stream",
          "text": [
            "INFO:ptsemseg:Iter [41740/50000]  Loss: 0.9979  Time/Image: 0.2239  lr=0.013614\n"
          ],
          "name": "stderr"
        },
        {
          "output_type": "stream",
          "text": [
            "Iter [41740/50000]  Loss: 0.9979  Time/Image: 0.2239  lr=0.013614\n"
          ],
          "name": "stdout"
        },
        {
          "output_type": "stream",
          "text": [
            "INFO:ptsemseg:Iter [41750/50000]  Loss: 0.9974  Time/Image: 0.2163  lr=0.013612\n"
          ],
          "name": "stderr"
        },
        {
          "output_type": "stream",
          "text": [
            "Iter [41750/50000]  Loss: 0.9974  Time/Image: 0.2163  lr=0.013612\n"
          ],
          "name": "stdout"
        },
        {
          "output_type": "stream",
          "text": [
            "INFO:ptsemseg:Iter [41760/50000]  Loss: 0.9962  Time/Image: 0.2243  lr=0.013610\n"
          ],
          "name": "stderr"
        },
        {
          "output_type": "stream",
          "text": [
            "Iter [41760/50000]  Loss: 0.9962  Time/Image: 0.2243  lr=0.013610\n"
          ],
          "name": "stdout"
        },
        {
          "output_type": "stream",
          "text": [
            "INFO:ptsemseg:Iter [41770/50000]  Loss: 0.9976  Time/Image: 0.2187  lr=0.013609\n"
          ],
          "name": "stderr"
        },
        {
          "output_type": "stream",
          "text": [
            "Iter [41770/50000]  Loss: 0.9976  Time/Image: 0.2187  lr=0.013609\n"
          ],
          "name": "stdout"
        },
        {
          "output_type": "stream",
          "text": [
            "INFO:ptsemseg:Iter [41780/50000]  Loss: 0.9978  Time/Image: 0.2251  lr=0.013607\n"
          ],
          "name": "stderr"
        },
        {
          "output_type": "stream",
          "text": [
            "Iter [41780/50000]  Loss: 0.9978  Time/Image: 0.2251  lr=0.013607\n"
          ],
          "name": "stdout"
        },
        {
          "output_type": "stream",
          "text": [
            "INFO:ptsemseg:Iter [41790/50000]  Loss: 0.9982  Time/Image: 0.2206  lr=0.013606\n"
          ],
          "name": "stderr"
        },
        {
          "output_type": "stream",
          "text": [
            "Iter [41790/50000]  Loss: 0.9982  Time/Image: 0.2206  lr=0.013606\n"
          ],
          "name": "stdout"
        },
        {
          "output_type": "stream",
          "text": [
            "INFO:ptsemseg:Iter [41800/50000]  Loss: 0.9956  Time/Image: 0.2183  lr=0.013604\n"
          ],
          "name": "stderr"
        },
        {
          "output_type": "stream",
          "text": [
            "Iter [41800/50000]  Loss: 0.9956  Time/Image: 0.2183  lr=0.013604\n"
          ],
          "name": "stdout"
        },
        {
          "output_type": "stream",
          "text": [
            "INFO:ptsemseg:Iter [41810/50000]  Loss: 0.9962  Time/Image: 0.2206  lr=0.013603\n"
          ],
          "name": "stderr"
        },
        {
          "output_type": "stream",
          "text": [
            "Iter [41810/50000]  Loss: 0.9962  Time/Image: 0.2206  lr=0.013603\n"
          ],
          "name": "stdout"
        },
        {
          "output_type": "stream",
          "text": [
            "INFO:ptsemseg:Iter [41820/50000]  Loss: 0.9931  Time/Image: 0.2288  lr=0.013601\n"
          ],
          "name": "stderr"
        },
        {
          "output_type": "stream",
          "text": [
            "Iter [41820/50000]  Loss: 0.9931  Time/Image: 0.2288  lr=0.013601\n"
          ],
          "name": "stdout"
        },
        {
          "output_type": "stream",
          "text": [
            "INFO:ptsemseg:Iter [41830/50000]  Loss: 0.9967  Time/Image: 0.2148  lr=0.013600\n"
          ],
          "name": "stderr"
        },
        {
          "output_type": "stream",
          "text": [
            "Iter [41830/50000]  Loss: 0.9967  Time/Image: 0.2148  lr=0.013600\n"
          ],
          "name": "stdout"
        },
        {
          "output_type": "stream",
          "text": [
            "INFO:ptsemseg:Iter [41840/50000]  Loss: 0.9971  Time/Image: 0.2063  lr=0.013598\n"
          ],
          "name": "stderr"
        },
        {
          "output_type": "stream",
          "text": [
            "Iter [41840/50000]  Loss: 0.9971  Time/Image: 0.2063  lr=0.013598\n"
          ],
          "name": "stdout"
        },
        {
          "output_type": "stream",
          "text": [
            "INFO:ptsemseg:Iter [41850/50000]  Loss: 0.9948  Time/Image: 0.2150  lr=0.013596\n"
          ],
          "name": "stderr"
        },
        {
          "output_type": "stream",
          "text": [
            "Iter [41850/50000]  Loss: 0.9948  Time/Image: 0.2150  lr=0.013596\n"
          ],
          "name": "stdout"
        },
        {
          "output_type": "stream",
          "text": [
            "INFO:ptsemseg:Iter [41860/50000]  Loss: 0.9940  Time/Image: 0.2102  lr=0.013595\n"
          ],
          "name": "stderr"
        },
        {
          "output_type": "stream",
          "text": [
            "Iter [41860/50000]  Loss: 0.9940  Time/Image: 0.2102  lr=0.013595\n"
          ],
          "name": "stdout"
        },
        {
          "output_type": "stream",
          "text": [
            "INFO:ptsemseg:Iter [41870/50000]  Loss: 0.9930  Time/Image: 0.2076  lr=0.013593\n"
          ],
          "name": "stderr"
        },
        {
          "output_type": "stream",
          "text": [
            "Iter [41870/50000]  Loss: 0.9930  Time/Image: 0.2076  lr=0.013593\n"
          ],
          "name": "stdout"
        },
        {
          "output_type": "stream",
          "text": [
            "INFO:ptsemseg:Iter [41880/50000]  Loss: 0.9933  Time/Image: 0.2163  lr=0.013592\n"
          ],
          "name": "stderr"
        },
        {
          "output_type": "stream",
          "text": [
            "Iter [41880/50000]  Loss: 0.9933  Time/Image: 0.2163  lr=0.013592\n"
          ],
          "name": "stdout"
        },
        {
          "output_type": "stream",
          "text": [
            "INFO:ptsemseg:Iter [41890/50000]  Loss: 0.9906  Time/Image: 0.2134  lr=0.013590\n"
          ],
          "name": "stderr"
        },
        {
          "output_type": "stream",
          "text": [
            "Iter [41890/50000]  Loss: 0.9906  Time/Image: 0.2134  lr=0.013590\n"
          ],
          "name": "stdout"
        },
        {
          "output_type": "stream",
          "text": [
            "INFO:ptsemseg:Iter [41900/50000]  Loss: 0.9913  Time/Image: 0.2159  lr=0.013589\n"
          ],
          "name": "stderr"
        },
        {
          "output_type": "stream",
          "text": [
            "Iter [41900/50000]  Loss: 0.9913  Time/Image: 0.2159  lr=0.013589\n"
          ],
          "name": "stdout"
        },
        {
          "output_type": "stream",
          "text": [
            "INFO:ptsemseg:Iter [41910/50000]  Loss: 0.9910  Time/Image: 0.2072  lr=0.013587\n"
          ],
          "name": "stderr"
        },
        {
          "output_type": "stream",
          "text": [
            "Iter [41910/50000]  Loss: 0.9910  Time/Image: 0.2072  lr=0.013587\n"
          ],
          "name": "stdout"
        },
        {
          "output_type": "stream",
          "text": [
            "INFO:ptsemseg:Iter [41920/50000]  Loss: 0.9920  Time/Image: 0.2134  lr=0.013585\n"
          ],
          "name": "stderr"
        },
        {
          "output_type": "stream",
          "text": [
            "Iter [41920/50000]  Loss: 0.9920  Time/Image: 0.2134  lr=0.013585\n"
          ],
          "name": "stdout"
        },
        {
          "output_type": "stream",
          "text": [
            "INFO:ptsemseg:Iter [41930/50000]  Loss: 0.9912  Time/Image: 0.2150  lr=0.013584\n"
          ],
          "name": "stderr"
        },
        {
          "output_type": "stream",
          "text": [
            "Iter [41930/50000]  Loss: 0.9912  Time/Image: 0.2150  lr=0.013584\n"
          ],
          "name": "stdout"
        },
        {
          "output_type": "stream",
          "text": [
            "INFO:ptsemseg:Iter [41940/50000]  Loss: 0.9920  Time/Image: 0.2153  lr=0.013582\n"
          ],
          "name": "stderr"
        },
        {
          "output_type": "stream",
          "text": [
            "Iter [41940/50000]  Loss: 0.9920  Time/Image: 0.2153  lr=0.013582\n"
          ],
          "name": "stdout"
        },
        {
          "output_type": "stream",
          "text": [
            "INFO:ptsemseg:Iter [41950/50000]  Loss: 0.9934  Time/Image: 0.2127  lr=0.013581\n"
          ],
          "name": "stderr"
        },
        {
          "output_type": "stream",
          "text": [
            "Iter [41950/50000]  Loss: 0.9934  Time/Image: 0.2127  lr=0.013581\n"
          ],
          "name": "stdout"
        },
        {
          "output_type": "stream",
          "text": [
            "INFO:ptsemseg:Iter [41960/50000]  Loss: 0.9928  Time/Image: 0.2055  lr=0.013579\n"
          ],
          "name": "stderr"
        },
        {
          "output_type": "stream",
          "text": [
            "Iter [41960/50000]  Loss: 0.9928  Time/Image: 0.2055  lr=0.013579\n"
          ],
          "name": "stdout"
        },
        {
          "output_type": "stream",
          "text": [
            "INFO:ptsemseg:Iter [41970/50000]  Loss: 0.9933  Time/Image: 0.1794  lr=0.013578\n"
          ],
          "name": "stderr"
        },
        {
          "output_type": "stream",
          "text": [
            "Iter [41970/50000]  Loss: 0.9933  Time/Image: 0.1794  lr=0.013578\n"
          ],
          "name": "stdout"
        },
        {
          "output_type": "stream",
          "text": [
            "INFO:ptsemseg:Iter [41980/50000]  Loss: 0.9922  Time/Image: 0.2307  lr=0.013576\n"
          ],
          "name": "stderr"
        },
        {
          "output_type": "stream",
          "text": [
            "Iter [41980/50000]  Loss: 0.9922  Time/Image: 0.2307  lr=0.013576\n"
          ],
          "name": "stdout"
        },
        {
          "output_type": "stream",
          "text": [
            "INFO:ptsemseg:Iter [41990/50000]  Loss: 0.9918  Time/Image: 0.2336  lr=0.013574\n"
          ],
          "name": "stderr"
        },
        {
          "output_type": "stream",
          "text": [
            "Iter [41990/50000]  Loss: 0.9918  Time/Image: 0.2336  lr=0.013574\n"
          ],
          "name": "stdout"
        },
        {
          "output_type": "stream",
          "text": [
            "INFO:ptsemseg:Iter [42000/50000]  Loss: 0.9932  Time/Image: 0.2335  lr=0.013573\n"
          ],
          "name": "stderr"
        },
        {
          "output_type": "stream",
          "text": [
            "Iter [42000/50000]  Loss: 0.9932  Time/Image: 0.2335  lr=0.013573\n"
          ],
          "name": "stdout"
        },
        {
          "output_type": "stream",
          "text": [
            "84it [03:40,  2.63s/it]\n",
            "INFO:ptsemseg:Iter 42000 Val Loss: 1.1058\n",
            "INFO:ptsemseg:Overall Acc: \t: 0.9182777753132085\n",
            "INFO:ptsemseg:Mean Acc : \t: 0.6189866121529379\n",
            "INFO:ptsemseg:FreqW Acc : \t: 0.8561456356144946\n",
            "INFO:ptsemseg:Mean IoU : \t: 0.5313157550527995\n",
            "INFO:ptsemseg:0: 0.9597427902058294\n",
            "INFO:ptsemseg:1: 0.7159905337997554\n",
            "INFO:ptsemseg:2: 0.8406915986849819\n",
            "INFO:ptsemseg:3: 0.26570747513584253\n",
            "INFO:ptsemseg:4: 0.3646028487776903\n",
            "INFO:ptsemseg:5: 0.3595484113534257\n",
            "INFO:ptsemseg:6: 0.23911587228288997\n",
            "INFO:ptsemseg:7: 0.57267184294759\n",
            "INFO:ptsemseg:8: 0.8717990958786599\n",
            "INFO:ptsemseg:9: 0.4493524756030254\n",
            "INFO:ptsemseg:10: 0.9033495182358477\n",
            "INFO:ptsemseg:11: 0.5977399117310802\n",
            "INFO:ptsemseg:12: 0.4293058781435663\n",
            "INFO:ptsemseg:13: 0.859890269122478\n",
            "INFO:ptsemseg:14: 0.25988654141605916\n",
            "INFO:ptsemseg:15: 0.5029484879236088\n",
            "INFO:ptsemseg:16: 0.2270034006848667\n",
            "INFO:ptsemseg:17: 0.044480295619572945\n",
            "INFO:ptsemseg:18: 0.6311720984564194\n"
          ],
          "name": "stderr"
        },
        {
          "output_type": "stream",
          "text": [
            "Overall Acc: \t 0.9182777753132085\n",
            "Mean Acc : \t 0.6189866121529379\n",
            "FreqW Acc : \t 0.8561456356144946\n",
            "Mean IoU : \t 0.5313157550527995\n"
          ],
          "name": "stdout"
        },
        {
          "output_type": "stream",
          "text": [
            "INFO:ptsemseg:Iter [42010/50000]  Loss: 0.9714  Time/Image: 0.2060  lr=0.013571\n"
          ],
          "name": "stderr"
        },
        {
          "output_type": "stream",
          "text": [
            "Iter [42010/50000]  Loss: 0.9714  Time/Image: 0.2060  lr=0.013571\n"
          ],
          "name": "stdout"
        },
        {
          "output_type": "stream",
          "text": [
            "INFO:ptsemseg:Iter [42020/50000]  Loss: 0.9957  Time/Image: 0.2238  lr=0.013570\n"
          ],
          "name": "stderr"
        },
        {
          "output_type": "stream",
          "text": [
            "Iter [42020/50000]  Loss: 0.9957  Time/Image: 0.2238  lr=0.013570\n"
          ],
          "name": "stdout"
        },
        {
          "output_type": "stream",
          "text": [
            "INFO:ptsemseg:Iter [42030/50000]  Loss: 0.9608  Time/Image: 0.2322  lr=0.013568\n"
          ],
          "name": "stderr"
        },
        {
          "output_type": "stream",
          "text": [
            "Iter [42030/50000]  Loss: 0.9608  Time/Image: 0.2322  lr=0.013568\n"
          ],
          "name": "stdout"
        },
        {
          "output_type": "stream",
          "text": [
            "INFO:ptsemseg:Iter [42040/50000]  Loss: 0.9600  Time/Image: 0.2313  lr=0.013567\n"
          ],
          "name": "stderr"
        },
        {
          "output_type": "stream",
          "text": [
            "Iter [42040/50000]  Loss: 0.9600  Time/Image: 0.2313  lr=0.013567\n"
          ],
          "name": "stdout"
        },
        {
          "output_type": "stream",
          "text": [
            "INFO:ptsemseg:Iter [42050/50000]  Loss: 0.9551  Time/Image: 0.2308  lr=0.013565\n"
          ],
          "name": "stderr"
        },
        {
          "output_type": "stream",
          "text": [
            "Iter [42050/50000]  Loss: 0.9551  Time/Image: 0.2308  lr=0.013565\n"
          ],
          "name": "stdout"
        },
        {
          "output_type": "stream",
          "text": [
            "INFO:ptsemseg:Iter [42060/50000]  Loss: 0.9621  Time/Image: 0.2300  lr=0.013563\n"
          ],
          "name": "stderr"
        },
        {
          "output_type": "stream",
          "text": [
            "Iter [42060/50000]  Loss: 0.9621  Time/Image: 0.2300  lr=0.013563\n"
          ],
          "name": "stdout"
        },
        {
          "output_type": "stream",
          "text": [
            "INFO:ptsemseg:Iter [42070/50000]  Loss: 0.9653  Time/Image: 0.2256  lr=0.013562\n"
          ],
          "name": "stderr"
        },
        {
          "output_type": "stream",
          "text": [
            "Iter [42070/50000]  Loss: 0.9653  Time/Image: 0.2256  lr=0.013562\n"
          ],
          "name": "stdout"
        },
        {
          "output_type": "stream",
          "text": [
            "INFO:ptsemseg:Iter [42080/50000]  Loss: 0.9650  Time/Image: 0.2252  lr=0.013560\n"
          ],
          "name": "stderr"
        },
        {
          "output_type": "stream",
          "text": [
            "Iter [42080/50000]  Loss: 0.9650  Time/Image: 0.2252  lr=0.013560\n"
          ],
          "name": "stdout"
        },
        {
          "output_type": "stream",
          "text": [
            "INFO:ptsemseg:Iter [42090/50000]  Loss: 0.9746  Time/Image: 0.2252  lr=0.013559\n"
          ],
          "name": "stderr"
        },
        {
          "output_type": "stream",
          "text": [
            "Iter [42090/50000]  Loss: 0.9746  Time/Image: 0.2252  lr=0.013559\n"
          ],
          "name": "stdout"
        },
        {
          "output_type": "stream",
          "text": [
            "INFO:ptsemseg:Iter [42100/50000]  Loss: 0.9687  Time/Image: 0.2326  lr=0.013557\n"
          ],
          "name": "stderr"
        },
        {
          "output_type": "stream",
          "text": [
            "Iter [42100/50000]  Loss: 0.9687  Time/Image: 0.2326  lr=0.013557\n"
          ],
          "name": "stdout"
        },
        {
          "output_type": "stream",
          "text": [
            "INFO:ptsemseg:Iter [42110/50000]  Loss: 0.9684  Time/Image: 0.2235  lr=0.013556\n"
          ],
          "name": "stderr"
        },
        {
          "output_type": "stream",
          "text": [
            "Iter [42110/50000]  Loss: 0.9684  Time/Image: 0.2235  lr=0.013556\n"
          ],
          "name": "stdout"
        },
        {
          "output_type": "stream",
          "text": [
            "INFO:ptsemseg:Iter [42120/50000]  Loss: 0.9797  Time/Image: 0.2289  lr=0.013554\n"
          ],
          "name": "stderr"
        },
        {
          "output_type": "stream",
          "text": [
            "Iter [42120/50000]  Loss: 0.9797  Time/Image: 0.2289  lr=0.013554\n"
          ],
          "name": "stdout"
        },
        {
          "output_type": "stream",
          "text": [
            "INFO:ptsemseg:Iter [42130/50000]  Loss: 0.9791  Time/Image: 0.2281  lr=0.013553\n"
          ],
          "name": "stderr"
        },
        {
          "output_type": "stream",
          "text": [
            "Iter [42130/50000]  Loss: 0.9791  Time/Image: 0.2281  lr=0.013553\n"
          ],
          "name": "stdout"
        },
        {
          "output_type": "stream",
          "text": [
            "INFO:ptsemseg:Iter [42140/50000]  Loss: 0.9808  Time/Image: 0.2253  lr=0.013551\n"
          ],
          "name": "stderr"
        },
        {
          "output_type": "stream",
          "text": [
            "Iter [42140/50000]  Loss: 0.9808  Time/Image: 0.2253  lr=0.013551\n"
          ],
          "name": "stdout"
        },
        {
          "output_type": "stream",
          "text": [
            "INFO:ptsemseg:Iter [42150/50000]  Loss: 0.9755  Time/Image: 0.2272  lr=0.013549\n"
          ],
          "name": "stderr"
        },
        {
          "output_type": "stream",
          "text": [
            "Iter [42150/50000]  Loss: 0.9755  Time/Image: 0.2272  lr=0.013549\n"
          ],
          "name": "stdout"
        },
        {
          "output_type": "stream",
          "text": [
            "INFO:ptsemseg:Iter [42160/50000]  Loss: 0.9771  Time/Image: 0.2277  lr=0.013548\n"
          ],
          "name": "stderr"
        },
        {
          "output_type": "stream",
          "text": [
            "Iter [42160/50000]  Loss: 0.9771  Time/Image: 0.2277  lr=0.013548\n"
          ],
          "name": "stdout"
        },
        {
          "output_type": "stream",
          "text": [
            "INFO:ptsemseg:Iter [42170/50000]  Loss: 0.9810  Time/Image: 0.2245  lr=0.013546\n"
          ],
          "name": "stderr"
        },
        {
          "output_type": "stream",
          "text": [
            "Iter [42170/50000]  Loss: 0.9810  Time/Image: 0.2245  lr=0.013546\n"
          ],
          "name": "stdout"
        },
        {
          "output_type": "stream",
          "text": [
            "INFO:ptsemseg:Iter [42180/50000]  Loss: 0.9875  Time/Image: 0.2254  lr=0.013545\n"
          ],
          "name": "stderr"
        },
        {
          "output_type": "stream",
          "text": [
            "Iter [42180/50000]  Loss: 0.9875  Time/Image: 0.2254  lr=0.013545\n"
          ],
          "name": "stdout"
        },
        {
          "output_type": "stream",
          "text": [
            "INFO:ptsemseg:Iter [42190/50000]  Loss: 0.9879  Time/Image: 0.2221  lr=0.013543\n"
          ],
          "name": "stderr"
        },
        {
          "output_type": "stream",
          "text": [
            "Iter [42190/50000]  Loss: 0.9879  Time/Image: 0.2221  lr=0.013543\n"
          ],
          "name": "stdout"
        },
        {
          "output_type": "stream",
          "text": [
            "INFO:ptsemseg:Iter [42200/50000]  Loss: 0.9855  Time/Image: 0.2239  lr=0.013542\n"
          ],
          "name": "stderr"
        },
        {
          "output_type": "stream",
          "text": [
            "Iter [42200/50000]  Loss: 0.9855  Time/Image: 0.2239  lr=0.013542\n"
          ],
          "name": "stdout"
        },
        {
          "output_type": "stream",
          "text": [
            "INFO:ptsemseg:Iter [42210/50000]  Loss: 0.9891  Time/Image: 0.2275  lr=0.013540\n"
          ],
          "name": "stderr"
        },
        {
          "output_type": "stream",
          "text": [
            "Iter [42210/50000]  Loss: 0.9891  Time/Image: 0.2275  lr=0.013540\n"
          ],
          "name": "stdout"
        },
        {
          "output_type": "stream",
          "text": [
            "INFO:ptsemseg:Iter [42220/50000]  Loss: 0.9909  Time/Image: 0.2229  lr=0.013538\n"
          ],
          "name": "stderr"
        },
        {
          "output_type": "stream",
          "text": [
            "Iter [42220/50000]  Loss: 0.9909  Time/Image: 0.2229  lr=0.013538\n"
          ],
          "name": "stdout"
        },
        {
          "output_type": "stream",
          "text": [
            "INFO:ptsemseg:Iter [42230/50000]  Loss: 0.9877  Time/Image: 0.2244  lr=0.013537\n"
          ],
          "name": "stderr"
        },
        {
          "output_type": "stream",
          "text": [
            "Iter [42230/50000]  Loss: 0.9877  Time/Image: 0.2244  lr=0.013537\n"
          ],
          "name": "stdout"
        },
        {
          "output_type": "stream",
          "text": [
            "INFO:ptsemseg:Iter [42240/50000]  Loss: 0.9886  Time/Image: 0.2259  lr=0.013535\n"
          ],
          "name": "stderr"
        },
        {
          "output_type": "stream",
          "text": [
            "Iter [42240/50000]  Loss: 0.9886  Time/Image: 0.2259  lr=0.013535\n"
          ],
          "name": "stdout"
        },
        {
          "output_type": "stream",
          "text": [
            "INFO:ptsemseg:Iter [42250/50000]  Loss: 0.9853  Time/Image: 0.2178  lr=0.013534\n"
          ],
          "name": "stderr"
        },
        {
          "output_type": "stream",
          "text": [
            "Iter [42250/50000]  Loss: 0.9853  Time/Image: 0.2178  lr=0.013534\n"
          ],
          "name": "stdout"
        },
        {
          "output_type": "stream",
          "text": [
            "INFO:ptsemseg:Iter [42260/50000]  Loss: 0.9852  Time/Image: 0.2178  lr=0.013532\n"
          ],
          "name": "stderr"
        },
        {
          "output_type": "stream",
          "text": [
            "Iter [42260/50000]  Loss: 0.9852  Time/Image: 0.2178  lr=0.013532\n"
          ],
          "name": "stdout"
        },
        {
          "output_type": "stream",
          "text": [
            "INFO:ptsemseg:Iter [42270/50000]  Loss: 0.9858  Time/Image: 0.2214  lr=0.013531\n"
          ],
          "name": "stderr"
        },
        {
          "output_type": "stream",
          "text": [
            "Iter [42270/50000]  Loss: 0.9858  Time/Image: 0.2214  lr=0.013531\n"
          ],
          "name": "stdout"
        },
        {
          "output_type": "stream",
          "text": [
            "INFO:ptsemseg:Iter [42280/50000]  Loss: 0.9856  Time/Image: 0.2203  lr=0.013529\n"
          ],
          "name": "stderr"
        },
        {
          "output_type": "stream",
          "text": [
            "Iter [42280/50000]  Loss: 0.9856  Time/Image: 0.2203  lr=0.013529\n"
          ],
          "name": "stdout"
        },
        {
          "output_type": "stream",
          "text": [
            "INFO:ptsemseg:Iter [42290/50000]  Loss: 0.9845  Time/Image: 0.2209  lr=0.013527\n"
          ],
          "name": "stderr"
        },
        {
          "output_type": "stream",
          "text": [
            "Iter [42290/50000]  Loss: 0.9845  Time/Image: 0.2209  lr=0.013527\n"
          ],
          "name": "stdout"
        },
        {
          "output_type": "stream",
          "text": [
            "INFO:ptsemseg:Iter [42300/50000]  Loss: 0.9878  Time/Image: 0.2163  lr=0.013526\n"
          ],
          "name": "stderr"
        },
        {
          "output_type": "stream",
          "text": [
            "Iter [42300/50000]  Loss: 0.9878  Time/Image: 0.2163  lr=0.013526\n"
          ],
          "name": "stdout"
        },
        {
          "output_type": "stream",
          "text": [
            "INFO:ptsemseg:Iter [42310/50000]  Loss: 0.9887  Time/Image: 0.2218  lr=0.013524\n"
          ],
          "name": "stderr"
        },
        {
          "output_type": "stream",
          "text": [
            "Iter [42310/50000]  Loss: 0.9887  Time/Image: 0.2218  lr=0.013524\n"
          ],
          "name": "stdout"
        },
        {
          "output_type": "stream",
          "text": [
            "INFO:ptsemseg:Iter [42320/50000]  Loss: 0.9855  Time/Image: 0.2148  lr=0.013523\n"
          ],
          "name": "stderr"
        },
        {
          "output_type": "stream",
          "text": [
            "Iter [42320/50000]  Loss: 0.9855  Time/Image: 0.2148  lr=0.013523\n"
          ],
          "name": "stdout"
        },
        {
          "output_type": "stream",
          "text": [
            "INFO:ptsemseg:Iter [42330/50000]  Loss: 0.9892  Time/Image: 0.2102  lr=0.013521\n"
          ],
          "name": "stderr"
        },
        {
          "output_type": "stream",
          "text": [
            "Iter [42330/50000]  Loss: 0.9892  Time/Image: 0.2102  lr=0.013521\n"
          ],
          "name": "stdout"
        },
        {
          "output_type": "stream",
          "text": [
            "INFO:ptsemseg:Iter [42340/50000]  Loss: 0.9882  Time/Image: 0.2150  lr=0.013520\n"
          ],
          "name": "stderr"
        },
        {
          "output_type": "stream",
          "text": [
            "Iter [42340/50000]  Loss: 0.9882  Time/Image: 0.2150  lr=0.013520\n"
          ],
          "name": "stdout"
        },
        {
          "output_type": "stream",
          "text": [
            "INFO:ptsemseg:Iter [42350/50000]  Loss: 0.9878  Time/Image: 0.2149  lr=0.013518\n"
          ],
          "name": "stderr"
        },
        {
          "output_type": "stream",
          "text": [
            "Iter [42350/50000]  Loss: 0.9878  Time/Image: 0.2149  lr=0.013518\n"
          ],
          "name": "stdout"
        },
        {
          "output_type": "stream",
          "text": [
            "INFO:ptsemseg:Iter [42360/50000]  Loss: 0.9906  Time/Image: 0.2109  lr=0.013516\n"
          ],
          "name": "stderr"
        },
        {
          "output_type": "stream",
          "text": [
            "Iter [42360/50000]  Loss: 0.9906  Time/Image: 0.2109  lr=0.013516\n"
          ],
          "name": "stdout"
        },
        {
          "output_type": "stream",
          "text": [
            "INFO:ptsemseg:Iter [42370/50000]  Loss: 0.9905  Time/Image: 0.2088  lr=0.013515\n"
          ],
          "name": "stderr"
        },
        {
          "output_type": "stream",
          "text": [
            "Iter [42370/50000]  Loss: 0.9905  Time/Image: 0.2088  lr=0.013515\n"
          ],
          "name": "stdout"
        },
        {
          "output_type": "stream",
          "text": [
            "INFO:ptsemseg:Iter [42380/50000]  Loss: 0.9911  Time/Image: 0.2132  lr=0.013513\n"
          ],
          "name": "stderr"
        },
        {
          "output_type": "stream",
          "text": [
            "Iter [42380/50000]  Loss: 0.9911  Time/Image: 0.2132  lr=0.013513\n"
          ],
          "name": "stdout"
        },
        {
          "output_type": "stream",
          "text": [
            "INFO:ptsemseg:Iter [42390/50000]  Loss: 0.9922  Time/Image: 0.2142  lr=0.013512\n"
          ],
          "name": "stderr"
        },
        {
          "output_type": "stream",
          "text": [
            "Iter [42390/50000]  Loss: 0.9922  Time/Image: 0.2142  lr=0.013512\n"
          ],
          "name": "stdout"
        },
        {
          "output_type": "stream",
          "text": [
            "INFO:ptsemseg:Iter [42400/50000]  Loss: 0.9923  Time/Image: 0.2165  lr=0.013510\n"
          ],
          "name": "stderr"
        },
        {
          "output_type": "stream",
          "text": [
            "Iter [42400/50000]  Loss: 0.9923  Time/Image: 0.2165  lr=0.013510\n"
          ],
          "name": "stdout"
        },
        {
          "output_type": "stream",
          "text": [
            "INFO:ptsemseg:Iter [42410/50000]  Loss: 0.9913  Time/Image: 0.2212  lr=0.013509\n"
          ],
          "name": "stderr"
        },
        {
          "output_type": "stream",
          "text": [
            "Iter [42410/50000]  Loss: 0.9913  Time/Image: 0.2212  lr=0.013509\n"
          ],
          "name": "stdout"
        },
        {
          "output_type": "stream",
          "text": [
            "INFO:ptsemseg:Iter [42420/50000]  Loss: 0.9887  Time/Image: 0.2158  lr=0.013507\n"
          ],
          "name": "stderr"
        },
        {
          "output_type": "stream",
          "text": [
            "Iter [42420/50000]  Loss: 0.9887  Time/Image: 0.2158  lr=0.013507\n"
          ],
          "name": "stdout"
        },
        {
          "output_type": "stream",
          "text": [
            "INFO:ptsemseg:Iter [42430/50000]  Loss: 0.9894  Time/Image: 0.2136  lr=0.013506\n"
          ],
          "name": "stderr"
        },
        {
          "output_type": "stream",
          "text": [
            "Iter [42430/50000]  Loss: 0.9894  Time/Image: 0.2136  lr=0.013506\n"
          ],
          "name": "stdout"
        },
        {
          "output_type": "stream",
          "text": [
            "INFO:ptsemseg:Iter [42440/50000]  Loss: 0.9897  Time/Image: 0.2121  lr=0.013504\n"
          ],
          "name": "stderr"
        },
        {
          "output_type": "stream",
          "text": [
            "Iter [42440/50000]  Loss: 0.9897  Time/Image: 0.2121  lr=0.013504\n"
          ],
          "name": "stdout"
        },
        {
          "output_type": "stream",
          "text": [
            "INFO:ptsemseg:Iter [42450/50000]  Loss: 0.9897  Time/Image: 0.2192  lr=0.013502\n"
          ],
          "name": "stderr"
        },
        {
          "output_type": "stream",
          "text": [
            "Iter [42450/50000]  Loss: 0.9897  Time/Image: 0.2192  lr=0.013502\n"
          ],
          "name": "stdout"
        },
        {
          "output_type": "stream",
          "text": [
            "INFO:ptsemseg:Iter [42460/50000]  Loss: 0.9907  Time/Image: 0.2001  lr=0.013501\n"
          ],
          "name": "stderr"
        },
        {
          "output_type": "stream",
          "text": [
            "Iter [42460/50000]  Loss: 0.9907  Time/Image: 0.2001  lr=0.013501\n"
          ],
          "name": "stdout"
        },
        {
          "output_type": "stream",
          "text": [
            "INFO:ptsemseg:Iter [42470/50000]  Loss: 0.9885  Time/Image: 0.2023  lr=0.013499\n"
          ],
          "name": "stderr"
        },
        {
          "output_type": "stream",
          "text": [
            "Iter [42470/50000]  Loss: 0.9885  Time/Image: 0.2023  lr=0.013499\n"
          ],
          "name": "stdout"
        },
        {
          "output_type": "stream",
          "text": [
            "INFO:ptsemseg:Iter [42480/50000]  Loss: 0.9886  Time/Image: 0.2325  lr=0.013498\n"
          ],
          "name": "stderr"
        },
        {
          "output_type": "stream",
          "text": [
            "Iter [42480/50000]  Loss: 0.9886  Time/Image: 0.2325  lr=0.013498\n"
          ],
          "name": "stdout"
        },
        {
          "output_type": "stream",
          "text": [
            "INFO:ptsemseg:Iter [42490/50000]  Loss: 0.9883  Time/Image: 0.2323  lr=0.013496\n"
          ],
          "name": "stderr"
        },
        {
          "output_type": "stream",
          "text": [
            "Iter [42490/50000]  Loss: 0.9883  Time/Image: 0.2323  lr=0.013496\n"
          ],
          "name": "stdout"
        },
        {
          "output_type": "stream",
          "text": [
            "INFO:ptsemseg:Iter [42500/50000]  Loss: 0.9874  Time/Image: 0.2338  lr=0.013495\n"
          ],
          "name": "stderr"
        },
        {
          "output_type": "stream",
          "text": [
            "Iter [42500/50000]  Loss: 0.9874  Time/Image: 0.2338  lr=0.013495\n"
          ],
          "name": "stdout"
        },
        {
          "output_type": "stream",
          "text": [
            "84it [03:38,  2.60s/it]\n",
            "INFO:ptsemseg:Iter 42500 Val Loss: 1.0409\n",
            "INFO:ptsemseg:Overall Acc: \t: 0.928090366998042\n",
            "INFO:ptsemseg:Mean Acc : \t: 0.6367462791266925\n",
            "INFO:ptsemseg:FreqW Acc : \t: 0.8737527950171782\n",
            "INFO:ptsemseg:Mean IoU : \t: 0.5561347506245987\n",
            "INFO:ptsemseg:0: 0.9651224199469425\n",
            "INFO:ptsemseg:1: 0.7311385736467026\n",
            "INFO:ptsemseg:2: 0.8702163043421794\n",
            "INFO:ptsemseg:3: 0.163306425229823\n",
            "INFO:ptsemseg:4: 0.3612092333961364\n",
            "INFO:ptsemseg:5: 0.5087604804930969\n",
            "INFO:ptsemseg:6: 0.38215531870560443\n",
            "INFO:ptsemseg:7: 0.6239139018762287\n",
            "INFO:ptsemseg:8: 0.8839017697352629\n",
            "INFO:ptsemseg:9: 0.4395227550049798\n",
            "INFO:ptsemseg:10: 0.9233390850871376\n",
            "INFO:ptsemseg:11: 0.6628910373257203\n",
            "INFO:ptsemseg:12: 0.36967770983580306\n",
            "INFO:ptsemseg:13: 0.9016997516537364\n",
            "INFO:ptsemseg:14: 0.3103234978551101\n",
            "INFO:ptsemseg:15: 0.49251330262404447\n",
            "INFO:ptsemseg:16: 0.1650696812294924\n",
            "INFO:ptsemseg:17: 0.1866091304673825\n",
            "INFO:ptsemseg:18: 0.6251898834119907\n"
          ],
          "name": "stderr"
        },
        {
          "output_type": "stream",
          "text": [
            "Overall Acc: \t 0.928090366998042\n",
            "Mean Acc : \t 0.6367462791266925\n",
            "FreqW Acc : \t 0.8737527950171782\n",
            "Mean IoU : \t 0.5561347506245987\n"
          ],
          "name": "stdout"
        },
        {
          "output_type": "stream",
          "text": [
            "INFO:ptsemseg:Iter [42510/50000]  Loss: 0.9634  Time/Image: 0.2015  lr=0.013493\n"
          ],
          "name": "stderr"
        },
        {
          "output_type": "stream",
          "text": [
            "Iter [42510/50000]  Loss: 0.9634  Time/Image: 0.2015  lr=0.013493\n"
          ],
          "name": "stdout"
        },
        {
          "output_type": "stream",
          "text": [
            "INFO:ptsemseg:Iter [42520/50000]  Loss: 0.9666  Time/Image: 0.2269  lr=0.013491\n"
          ],
          "name": "stderr"
        },
        {
          "output_type": "stream",
          "text": [
            "Iter [42520/50000]  Loss: 0.9666  Time/Image: 0.2269  lr=0.013491\n"
          ],
          "name": "stdout"
        },
        {
          "output_type": "stream",
          "text": [
            "INFO:ptsemseg:Iter [42530/50000]  Loss: 0.9420  Time/Image: 0.2325  lr=0.013490\n"
          ],
          "name": "stderr"
        },
        {
          "output_type": "stream",
          "text": [
            "Iter [42530/50000]  Loss: 0.9420  Time/Image: 0.2325  lr=0.013490\n"
          ],
          "name": "stdout"
        },
        {
          "output_type": "stream",
          "text": [
            "INFO:ptsemseg:Iter [42540/50000]  Loss: 0.9684  Time/Image: 0.2283  lr=0.013488\n"
          ],
          "name": "stderr"
        },
        {
          "output_type": "stream",
          "text": [
            "Iter [42540/50000]  Loss: 0.9684  Time/Image: 0.2283  lr=0.013488\n"
          ],
          "name": "stdout"
        },
        {
          "output_type": "stream",
          "text": [
            "INFO:ptsemseg:Iter [42550/50000]  Loss: 0.9756  Time/Image: 0.2265  lr=0.013487\n"
          ],
          "name": "stderr"
        },
        {
          "output_type": "stream",
          "text": [
            "Iter [42550/50000]  Loss: 0.9756  Time/Image: 0.2265  lr=0.013487\n"
          ],
          "name": "stdout"
        },
        {
          "output_type": "stream",
          "text": [
            "INFO:ptsemseg:Iter [42560/50000]  Loss: 0.9739  Time/Image: 0.2271  lr=0.013485\n"
          ],
          "name": "stderr"
        },
        {
          "output_type": "stream",
          "text": [
            "Iter [42560/50000]  Loss: 0.9739  Time/Image: 0.2271  lr=0.013485\n"
          ],
          "name": "stdout"
        },
        {
          "output_type": "stream",
          "text": [
            "INFO:ptsemseg:Iter [42570/50000]  Loss: 0.9684  Time/Image: 0.2295  lr=0.013484\n"
          ],
          "name": "stderr"
        },
        {
          "output_type": "stream",
          "text": [
            "Iter [42570/50000]  Loss: 0.9684  Time/Image: 0.2295  lr=0.013484\n"
          ],
          "name": "stdout"
        },
        {
          "output_type": "stream",
          "text": [
            "INFO:ptsemseg:Iter [42580/50000]  Loss: 0.9601  Time/Image: 0.2118  lr=0.013482\n"
          ],
          "name": "stderr"
        },
        {
          "output_type": "stream",
          "text": [
            "Iter [42580/50000]  Loss: 0.9601  Time/Image: 0.2118  lr=0.013482\n"
          ],
          "name": "stdout"
        },
        {
          "output_type": "stream",
          "text": [
            "INFO:ptsemseg:Iter [42590/50000]  Loss: 0.9603  Time/Image: 0.2248  lr=0.013480\n"
          ],
          "name": "stderr"
        },
        {
          "output_type": "stream",
          "text": [
            "Iter [42590/50000]  Loss: 0.9603  Time/Image: 0.2248  lr=0.013480\n"
          ],
          "name": "stdout"
        },
        {
          "output_type": "stream",
          "text": [
            "INFO:ptsemseg:Iter [42600/50000]  Loss: 0.9655  Time/Image: 0.2204  lr=0.013479\n"
          ],
          "name": "stderr"
        },
        {
          "output_type": "stream",
          "text": [
            "Iter [42600/50000]  Loss: 0.9655  Time/Image: 0.2204  lr=0.013479\n"
          ],
          "name": "stdout"
        },
        {
          "output_type": "stream",
          "text": [
            "INFO:ptsemseg:Iter [42610/50000]  Loss: 0.9663  Time/Image: 0.2232  lr=0.013477\n"
          ],
          "name": "stderr"
        },
        {
          "output_type": "stream",
          "text": [
            "Iter [42610/50000]  Loss: 0.9663  Time/Image: 0.2232  lr=0.013477\n"
          ],
          "name": "stdout"
        },
        {
          "output_type": "stream",
          "text": [
            "INFO:ptsemseg:Iter [42620/50000]  Loss: 0.9602  Time/Image: 0.2200  lr=0.013476\n"
          ],
          "name": "stderr"
        },
        {
          "output_type": "stream",
          "text": [
            "Iter [42620/50000]  Loss: 0.9602  Time/Image: 0.2200  lr=0.013476\n"
          ],
          "name": "stdout"
        },
        {
          "output_type": "stream",
          "text": [
            "INFO:ptsemseg:Iter [42630/50000]  Loss: 0.9627  Time/Image: 0.2247  lr=0.013474\n"
          ],
          "name": "stderr"
        },
        {
          "output_type": "stream",
          "text": [
            "Iter [42630/50000]  Loss: 0.9627  Time/Image: 0.2247  lr=0.013474\n"
          ],
          "name": "stdout"
        },
        {
          "output_type": "stream",
          "text": [
            "INFO:ptsemseg:Iter [42640/50000]  Loss: 0.9666  Time/Image: 0.2242  lr=0.013473\n"
          ],
          "name": "stderr"
        },
        {
          "output_type": "stream",
          "text": [
            "Iter [42640/50000]  Loss: 0.9666  Time/Image: 0.2242  lr=0.013473\n"
          ],
          "name": "stdout"
        },
        {
          "output_type": "stream",
          "text": [
            "INFO:ptsemseg:Iter [42650/50000]  Loss: 0.9681  Time/Image: 0.2273  lr=0.013471\n"
          ],
          "name": "stderr"
        },
        {
          "output_type": "stream",
          "text": [
            "Iter [42650/50000]  Loss: 0.9681  Time/Image: 0.2273  lr=0.013471\n"
          ],
          "name": "stdout"
        },
        {
          "output_type": "stream",
          "text": [
            "INFO:ptsemseg:Iter [42660/50000]  Loss: 0.9668  Time/Image: 0.2301  lr=0.013469\n"
          ],
          "name": "stderr"
        },
        {
          "output_type": "stream",
          "text": [
            "Iter [42660/50000]  Loss: 0.9668  Time/Image: 0.2301  lr=0.013469\n"
          ],
          "name": "stdout"
        },
        {
          "output_type": "stream",
          "text": [
            "INFO:ptsemseg:Iter [42670/50000]  Loss: 0.9687  Time/Image: 0.2269  lr=0.013468\n"
          ],
          "name": "stderr"
        },
        {
          "output_type": "stream",
          "text": [
            "Iter [42670/50000]  Loss: 0.9687  Time/Image: 0.2269  lr=0.013468\n"
          ],
          "name": "stdout"
        },
        {
          "output_type": "stream",
          "text": [
            "INFO:ptsemseg:Iter [42680/50000]  Loss: 0.9698  Time/Image: 0.2167  lr=0.013466\n"
          ],
          "name": "stderr"
        },
        {
          "output_type": "stream",
          "text": [
            "Iter [42680/50000]  Loss: 0.9698  Time/Image: 0.2167  lr=0.013466\n"
          ],
          "name": "stdout"
        },
        {
          "output_type": "stream",
          "text": [
            "INFO:ptsemseg:Iter [42690/50000]  Loss: 0.9706  Time/Image: 0.2190  lr=0.013465\n"
          ],
          "name": "stderr"
        },
        {
          "output_type": "stream",
          "text": [
            "Iter [42690/50000]  Loss: 0.9706  Time/Image: 0.2190  lr=0.013465\n"
          ],
          "name": "stdout"
        },
        {
          "output_type": "stream",
          "text": [
            "INFO:ptsemseg:Iter [42700/50000]  Loss: 0.9745  Time/Image: 0.2185  lr=0.013463\n"
          ],
          "name": "stderr"
        },
        {
          "output_type": "stream",
          "text": [
            "Iter [42700/50000]  Loss: 0.9745  Time/Image: 0.2185  lr=0.013463\n"
          ],
          "name": "stdout"
        },
        {
          "output_type": "stream",
          "text": [
            "INFO:ptsemseg:Iter [42710/50000]  Loss: 0.9738  Time/Image: 0.2151  lr=0.013462\n"
          ],
          "name": "stderr"
        },
        {
          "output_type": "stream",
          "text": [
            "Iter [42710/50000]  Loss: 0.9738  Time/Image: 0.2151  lr=0.013462\n"
          ],
          "name": "stdout"
        },
        {
          "output_type": "stream",
          "text": [
            "INFO:ptsemseg:Iter [42720/50000]  Loss: 0.9761  Time/Image: 0.2140  lr=0.013460\n"
          ],
          "name": "stderr"
        },
        {
          "output_type": "stream",
          "text": [
            "Iter [42720/50000]  Loss: 0.9761  Time/Image: 0.2140  lr=0.013460\n"
          ],
          "name": "stdout"
        },
        {
          "output_type": "stream",
          "text": [
            "INFO:ptsemseg:Iter [42730/50000]  Loss: 0.9759  Time/Image: 0.2257  lr=0.013459\n"
          ],
          "name": "stderr"
        },
        {
          "output_type": "stream",
          "text": [
            "Iter [42730/50000]  Loss: 0.9759  Time/Image: 0.2257  lr=0.013459\n"
          ],
          "name": "stdout"
        },
        {
          "output_type": "stream",
          "text": [
            "INFO:ptsemseg:Iter [42740/50000]  Loss: 0.9777  Time/Image: 0.2206  lr=0.013457\n"
          ],
          "name": "stderr"
        },
        {
          "output_type": "stream",
          "text": [
            "Iter [42740/50000]  Loss: 0.9777  Time/Image: 0.2206  lr=0.013457\n"
          ],
          "name": "stdout"
        },
        {
          "output_type": "stream",
          "text": [
            "INFO:ptsemseg:Iter [42750/50000]  Loss: 0.9784  Time/Image: 0.2233  lr=0.013455\n"
          ],
          "name": "stderr"
        },
        {
          "output_type": "stream",
          "text": [
            "Iter [42750/50000]  Loss: 0.9784  Time/Image: 0.2233  lr=0.013455\n"
          ],
          "name": "stdout"
        },
        {
          "output_type": "stream",
          "text": [
            "INFO:ptsemseg:Iter [42760/50000]  Loss: 0.9797  Time/Image: 0.2142  lr=0.013454\n"
          ],
          "name": "stderr"
        },
        {
          "output_type": "stream",
          "text": [
            "Iter [42760/50000]  Loss: 0.9797  Time/Image: 0.2142  lr=0.013454\n"
          ],
          "name": "stdout"
        },
        {
          "output_type": "stream",
          "text": [
            "INFO:ptsemseg:Iter [42770/50000]  Loss: 0.9777  Time/Image: 0.2155  lr=0.013452\n"
          ],
          "name": "stderr"
        },
        {
          "output_type": "stream",
          "text": [
            "Iter [42770/50000]  Loss: 0.9777  Time/Image: 0.2155  lr=0.013452\n"
          ],
          "name": "stdout"
        },
        {
          "output_type": "stream",
          "text": [
            "INFO:ptsemseg:Iter [42780/50000]  Loss: 0.9800  Time/Image: 0.2197  lr=0.013451\n"
          ],
          "name": "stderr"
        },
        {
          "output_type": "stream",
          "text": [
            "Iter [42780/50000]  Loss: 0.9800  Time/Image: 0.2197  lr=0.013451\n"
          ],
          "name": "stdout"
        },
        {
          "output_type": "stream",
          "text": [
            "INFO:ptsemseg:Iter [42790/50000]  Loss: 0.9805  Time/Image: 0.2163  lr=0.013449\n"
          ],
          "name": "stderr"
        },
        {
          "output_type": "stream",
          "text": [
            "Iter [42790/50000]  Loss: 0.9805  Time/Image: 0.2163  lr=0.013449\n"
          ],
          "name": "stdout"
        },
        {
          "output_type": "stream",
          "text": [
            "INFO:ptsemseg:Iter [42800/50000]  Loss: 0.9807  Time/Image: 0.2138  lr=0.013448\n"
          ],
          "name": "stderr"
        },
        {
          "output_type": "stream",
          "text": [
            "Iter [42800/50000]  Loss: 0.9807  Time/Image: 0.2138  lr=0.013448\n"
          ],
          "name": "stdout"
        },
        {
          "output_type": "stream",
          "text": [
            "INFO:ptsemseg:Iter [42810/50000]  Loss: 0.9793  Time/Image: 0.2106  lr=0.013446\n"
          ],
          "name": "stderr"
        },
        {
          "output_type": "stream",
          "text": [
            "Iter [42810/50000]  Loss: 0.9793  Time/Image: 0.2106  lr=0.013446\n"
          ],
          "name": "stdout"
        },
        {
          "output_type": "stream",
          "text": [
            "INFO:ptsemseg:Iter [42820/50000]  Loss: 0.9798  Time/Image: 0.2192  lr=0.013444\n"
          ],
          "name": "stderr"
        },
        {
          "output_type": "stream",
          "text": [
            "Iter [42820/50000]  Loss: 0.9798  Time/Image: 0.2192  lr=0.013444\n"
          ],
          "name": "stdout"
        },
        {
          "output_type": "stream",
          "text": [
            "INFO:ptsemseg:Iter [42830/50000]  Loss: 0.9821  Time/Image: 0.2095  lr=0.013443\n"
          ],
          "name": "stderr"
        },
        {
          "output_type": "stream",
          "text": [
            "Iter [42830/50000]  Loss: 0.9821  Time/Image: 0.2095  lr=0.013443\n"
          ],
          "name": "stdout"
        },
        {
          "output_type": "stream",
          "text": [
            "INFO:ptsemseg:Iter [42840/50000]  Loss: 0.9830  Time/Image: 0.2132  lr=0.013441\n"
          ],
          "name": "stderr"
        },
        {
          "output_type": "stream",
          "text": [
            "Iter [42840/50000]  Loss: 0.9830  Time/Image: 0.2132  lr=0.013441\n"
          ],
          "name": "stdout"
        },
        {
          "output_type": "stream",
          "text": [
            "INFO:ptsemseg:Iter [42850/50000]  Loss: 0.9815  Time/Image: 0.2065  lr=0.013440\n"
          ],
          "name": "stderr"
        },
        {
          "output_type": "stream",
          "text": [
            "Iter [42850/50000]  Loss: 0.9815  Time/Image: 0.2065  lr=0.013440\n"
          ],
          "name": "stdout"
        },
        {
          "output_type": "stream",
          "text": [
            "INFO:ptsemseg:Iter [42860/50000]  Loss: 0.9809  Time/Image: 0.2134  lr=0.013438\n"
          ],
          "name": "stderr"
        },
        {
          "output_type": "stream",
          "text": [
            "Iter [42860/50000]  Loss: 0.9809  Time/Image: 0.2134  lr=0.013438\n"
          ],
          "name": "stdout"
        },
        {
          "output_type": "stream",
          "text": [
            "INFO:ptsemseg:Iter [42870/50000]  Loss: 0.9815  Time/Image: 0.2155  lr=0.013437\n"
          ],
          "name": "stderr"
        },
        {
          "output_type": "stream",
          "text": [
            "Iter [42870/50000]  Loss: 0.9815  Time/Image: 0.2155  lr=0.013437\n"
          ],
          "name": "stdout"
        },
        {
          "output_type": "stream",
          "text": [
            "INFO:ptsemseg:Iter [42880/50000]  Loss: 0.9818  Time/Image: 0.2023  lr=0.013435\n"
          ],
          "name": "stderr"
        },
        {
          "output_type": "stream",
          "text": [
            "Iter [42880/50000]  Loss: 0.9818  Time/Image: 0.2023  lr=0.013435\n"
          ],
          "name": "stdout"
        },
        {
          "output_type": "stream",
          "text": [
            "INFO:ptsemseg:Iter [42890/50000]  Loss: 0.9828  Time/Image: 0.2100  lr=0.013433\n"
          ],
          "name": "stderr"
        },
        {
          "output_type": "stream",
          "text": [
            "Iter [42890/50000]  Loss: 0.9828  Time/Image: 0.2100  lr=0.013433\n"
          ],
          "name": "stdout"
        },
        {
          "output_type": "stream",
          "text": [
            "INFO:ptsemseg:Iter [42900/50000]  Loss: 0.9818  Time/Image: 0.2139  lr=0.013432\n"
          ],
          "name": "stderr"
        },
        {
          "output_type": "stream",
          "text": [
            "Iter [42900/50000]  Loss: 0.9818  Time/Image: 0.2139  lr=0.013432\n"
          ],
          "name": "stdout"
        },
        {
          "output_type": "stream",
          "text": [
            "INFO:ptsemseg:Iter [42910/50000]  Loss: 0.9825  Time/Image: 0.2082  lr=0.013430\n"
          ],
          "name": "stderr"
        },
        {
          "output_type": "stream",
          "text": [
            "Iter [42910/50000]  Loss: 0.9825  Time/Image: 0.2082  lr=0.013430\n"
          ],
          "name": "stdout"
        },
        {
          "output_type": "stream",
          "text": [
            "INFO:ptsemseg:Iter [42920/50000]  Loss: 0.9809  Time/Image: 0.2136  lr=0.013429\n"
          ],
          "name": "stderr"
        },
        {
          "output_type": "stream",
          "text": [
            "Iter [42920/50000]  Loss: 0.9809  Time/Image: 0.2136  lr=0.013429\n"
          ],
          "name": "stdout"
        },
        {
          "output_type": "stream",
          "text": [
            "INFO:ptsemseg:Iter [42930/50000]  Loss: 0.9818  Time/Image: 0.2137  lr=0.013427\n"
          ],
          "name": "stderr"
        },
        {
          "output_type": "stream",
          "text": [
            "Iter [42930/50000]  Loss: 0.9818  Time/Image: 0.2137  lr=0.013427\n"
          ],
          "name": "stdout"
        },
        {
          "output_type": "stream",
          "text": [
            "INFO:ptsemseg:Iter [42940/50000]  Loss: 0.9844  Time/Image: 0.2100  lr=0.013426\n"
          ],
          "name": "stderr"
        },
        {
          "output_type": "stream",
          "text": [
            "Iter [42940/50000]  Loss: 0.9844  Time/Image: 0.2100  lr=0.013426\n"
          ],
          "name": "stdout"
        },
        {
          "output_type": "stream",
          "text": [
            "INFO:ptsemseg:Iter [42950/50000]  Loss: 0.9846  Time/Image: 0.2115  lr=0.013424\n"
          ],
          "name": "stderr"
        },
        {
          "output_type": "stream",
          "text": [
            "Iter [42950/50000]  Loss: 0.9846  Time/Image: 0.2115  lr=0.013424\n"
          ],
          "name": "stdout"
        },
        {
          "output_type": "stream",
          "text": [
            "INFO:ptsemseg:Iter [42960/50000]  Loss: 0.9872  Time/Image: 0.1823  lr=0.013422\n"
          ],
          "name": "stderr"
        },
        {
          "output_type": "stream",
          "text": [
            "Iter [42960/50000]  Loss: 0.9872  Time/Image: 0.1823  lr=0.013422\n"
          ],
          "name": "stdout"
        },
        {
          "output_type": "stream",
          "text": [
            "INFO:ptsemseg:Iter [42970/50000]  Loss: 0.9878  Time/Image: 0.2224  lr=0.013421\n"
          ],
          "name": "stderr"
        },
        {
          "output_type": "stream",
          "text": [
            "Iter [42970/50000]  Loss: 0.9878  Time/Image: 0.2224  lr=0.013421\n"
          ],
          "name": "stdout"
        },
        {
          "output_type": "stream",
          "text": [
            "INFO:ptsemseg:Iter [42980/50000]  Loss: 0.9893  Time/Image: 0.2285  lr=0.013419\n"
          ],
          "name": "stderr"
        },
        {
          "output_type": "stream",
          "text": [
            "Iter [42980/50000]  Loss: 0.9893  Time/Image: 0.2285  lr=0.013419\n"
          ],
          "name": "stdout"
        },
        {
          "output_type": "stream",
          "text": [
            "INFO:ptsemseg:Iter [42990/50000]  Loss: 0.9889  Time/Image: 0.2322  lr=0.013418\n"
          ],
          "name": "stderr"
        },
        {
          "output_type": "stream",
          "text": [
            "Iter [42990/50000]  Loss: 0.9889  Time/Image: 0.2322  lr=0.013418\n"
          ],
          "name": "stdout"
        },
        {
          "output_type": "stream",
          "text": [
            "INFO:ptsemseg:Iter [43000/50000]  Loss: 0.9899  Time/Image: 0.2333  lr=0.013416\n"
          ],
          "name": "stderr"
        },
        {
          "output_type": "stream",
          "text": [
            "Iter [43000/50000]  Loss: 0.9899  Time/Image: 0.2333  lr=0.013416\n"
          ],
          "name": "stdout"
        },
        {
          "output_type": "stream",
          "text": [
            "84it [03:32,  2.53s/it]\n",
            "INFO:ptsemseg:Iter 43000 Val Loss: 0.9157\n",
            "INFO:ptsemseg:Overall Acc: \t: 0.9215147885638759\n",
            "INFO:ptsemseg:Mean Acc : \t: 0.6375012591067098\n",
            "INFO:ptsemseg:FreqW Acc : \t: 0.8618410881035347\n",
            "INFO:ptsemseg:Mean IoU : \t: 0.5538707552086419\n",
            "INFO:ptsemseg:0: 0.9493537316317711\n",
            "INFO:ptsemseg:1: 0.6848425314774449\n",
            "INFO:ptsemseg:2: 0.8639162272831773\n",
            "INFO:ptsemseg:3: 0.2866549772728068\n",
            "INFO:ptsemseg:4: 0.40919245578012015\n",
            "INFO:ptsemseg:5: 0.4783954713635\n",
            "INFO:ptsemseg:6: 0.36432017435549313\n",
            "INFO:ptsemseg:7: 0.5330416687454335\n",
            "INFO:ptsemseg:8: 0.8801759155510261\n",
            "INFO:ptsemseg:9: 0.5084213307414526\n",
            "INFO:ptsemseg:10: 0.9116456467948351\n",
            "INFO:ptsemseg:11: 0.6740594087581224\n",
            "INFO:ptsemseg:12: 0.3971085707805183\n",
            "INFO:ptsemseg:13: 0.8758006117731386\n",
            "INFO:ptsemseg:14: 0.1656875036568534\n",
            "INFO:ptsemseg:15: 0.519585822373539\n",
            "INFO:ptsemseg:16: 0.2167353384918079\n",
            "INFO:ptsemseg:17: 0.19122695219808322\n",
            "INFO:ptsemseg:18: 0.6133800099350729\n"
          ],
          "name": "stderr"
        },
        {
          "output_type": "stream",
          "text": [
            "Overall Acc: \t 0.9215147885638759\n",
            "Mean Acc : \t 0.6375012591067098\n",
            "FreqW Acc : \t 0.8618410881035347\n",
            "Mean IoU : \t 0.5538707552086419\n"
          ],
          "name": "stdout"
        },
        {
          "output_type": "stream",
          "text": [
            "INFO:ptsemseg:Iter [43010/50000]  Loss: 0.9188  Time/Image: 0.1996  lr=0.013415\n"
          ],
          "name": "stderr"
        },
        {
          "output_type": "stream",
          "text": [
            "Iter [43010/50000]  Loss: 0.9188  Time/Image: 0.1996  lr=0.013415\n"
          ],
          "name": "stdout"
        },
        {
          "output_type": "stream",
          "text": [
            "INFO:ptsemseg:Iter [43020/50000]  Loss: 0.9791  Time/Image: 0.2299  lr=0.013413\n"
          ],
          "name": "stderr"
        },
        {
          "output_type": "stream",
          "text": [
            "Iter [43020/50000]  Loss: 0.9791  Time/Image: 0.2299  lr=0.013413\n"
          ],
          "name": "stdout"
        },
        {
          "output_type": "stream",
          "text": [
            "INFO:ptsemseg:Iter [43030/50000]  Loss: 0.9956  Time/Image: 0.2334  lr=0.013411\n"
          ],
          "name": "stderr"
        },
        {
          "output_type": "stream",
          "text": [
            "Iter [43030/50000]  Loss: 0.9956  Time/Image: 0.2334  lr=0.013411\n"
          ],
          "name": "stdout"
        },
        {
          "output_type": "stream",
          "text": [
            "INFO:ptsemseg:Iter [43040/50000]  Loss: 0.9736  Time/Image: 0.2255  lr=0.013410\n"
          ],
          "name": "stderr"
        },
        {
          "output_type": "stream",
          "text": [
            "Iter [43040/50000]  Loss: 0.9736  Time/Image: 0.2255  lr=0.013410\n"
          ],
          "name": "stdout"
        },
        {
          "output_type": "stream",
          "text": [
            "INFO:ptsemseg:Iter [43050/50000]  Loss: 0.9899  Time/Image: 0.2302  lr=0.013408\n"
          ],
          "name": "stderr"
        },
        {
          "output_type": "stream",
          "text": [
            "Iter [43050/50000]  Loss: 0.9899  Time/Image: 0.2302  lr=0.013408\n"
          ],
          "name": "stdout"
        },
        {
          "output_type": "stream",
          "text": [
            "INFO:ptsemseg:Iter [43060/50000]  Loss: 0.9837  Time/Image: 0.2294  lr=0.013407\n"
          ],
          "name": "stderr"
        },
        {
          "output_type": "stream",
          "text": [
            "Iter [43060/50000]  Loss: 0.9837  Time/Image: 0.2294  lr=0.013407\n"
          ],
          "name": "stdout"
        },
        {
          "output_type": "stream",
          "text": [
            "INFO:ptsemseg:Iter [43070/50000]  Loss: 0.9740  Time/Image: 0.2274  lr=0.013405\n"
          ],
          "name": "stderr"
        },
        {
          "output_type": "stream",
          "text": [
            "Iter [43070/50000]  Loss: 0.9740  Time/Image: 0.2274  lr=0.013405\n"
          ],
          "name": "stdout"
        },
        {
          "output_type": "stream",
          "text": [
            "INFO:ptsemseg:Iter [43080/50000]  Loss: 0.9860  Time/Image: 0.2259  lr=0.013404\n"
          ],
          "name": "stderr"
        },
        {
          "output_type": "stream",
          "text": [
            "Iter [43080/50000]  Loss: 0.9860  Time/Image: 0.2259  lr=0.013404\n"
          ],
          "name": "stdout"
        },
        {
          "output_type": "stream",
          "text": [
            "INFO:ptsemseg:Iter [43090/50000]  Loss: 0.9837  Time/Image: 0.2302  lr=0.013402\n"
          ],
          "name": "stderr"
        },
        {
          "output_type": "stream",
          "text": [
            "Iter [43090/50000]  Loss: 0.9837  Time/Image: 0.2302  lr=0.013402\n"
          ],
          "name": "stdout"
        },
        {
          "output_type": "stream",
          "text": [
            "INFO:ptsemseg:Iter [43100/50000]  Loss: 0.9834  Time/Image: 0.2285  lr=0.013400\n"
          ],
          "name": "stderr"
        },
        {
          "output_type": "stream",
          "text": [
            "Iter [43100/50000]  Loss: 0.9834  Time/Image: 0.2285  lr=0.013400\n"
          ],
          "name": "stdout"
        },
        {
          "output_type": "stream",
          "text": [
            "INFO:ptsemseg:Iter [43110/50000]  Loss: 0.9879  Time/Image: 0.2237  lr=0.013399\n"
          ],
          "name": "stderr"
        },
        {
          "output_type": "stream",
          "text": [
            "Iter [43110/50000]  Loss: 0.9879  Time/Image: 0.2237  lr=0.013399\n"
          ],
          "name": "stdout"
        },
        {
          "output_type": "stream",
          "text": [
            "INFO:ptsemseg:Iter [43120/50000]  Loss: 0.9835  Time/Image: 0.2250  lr=0.013397\n"
          ],
          "name": "stderr"
        },
        {
          "output_type": "stream",
          "text": [
            "Iter [43120/50000]  Loss: 0.9835  Time/Image: 0.2250  lr=0.013397\n"
          ],
          "name": "stdout"
        },
        {
          "output_type": "stream",
          "text": [
            "INFO:ptsemseg:Iter [43130/50000]  Loss: 0.9875  Time/Image: 0.2237  lr=0.013396\n"
          ],
          "name": "stderr"
        },
        {
          "output_type": "stream",
          "text": [
            "Iter [43130/50000]  Loss: 0.9875  Time/Image: 0.2237  lr=0.013396\n"
          ],
          "name": "stdout"
        },
        {
          "output_type": "stream",
          "text": [
            "INFO:ptsemseg:Iter [43140/50000]  Loss: 0.9867  Time/Image: 0.2218  lr=0.013394\n"
          ],
          "name": "stderr"
        },
        {
          "output_type": "stream",
          "text": [
            "Iter [43140/50000]  Loss: 0.9867  Time/Image: 0.2218  lr=0.013394\n"
          ],
          "name": "stdout"
        },
        {
          "output_type": "stream",
          "text": [
            "INFO:ptsemseg:Iter [43150/50000]  Loss: 0.9864  Time/Image: 0.2273  lr=0.013393\n"
          ],
          "name": "stderr"
        },
        {
          "output_type": "stream",
          "text": [
            "Iter [43150/50000]  Loss: 0.9864  Time/Image: 0.2273  lr=0.013393\n"
          ],
          "name": "stdout"
        },
        {
          "output_type": "stream",
          "text": [
            "INFO:ptsemseg:Iter [43160/50000]  Loss: 0.9875  Time/Image: 0.2178  lr=0.013391\n"
          ],
          "name": "stderr"
        },
        {
          "output_type": "stream",
          "text": [
            "Iter [43160/50000]  Loss: 0.9875  Time/Image: 0.2178  lr=0.013391\n"
          ],
          "name": "stdout"
        },
        {
          "output_type": "stream",
          "text": [
            "INFO:ptsemseg:Iter [43170/50000]  Loss: 0.9872  Time/Image: 0.2207  lr=0.013390\n"
          ],
          "name": "stderr"
        },
        {
          "output_type": "stream",
          "text": [
            "Iter [43170/50000]  Loss: 0.9872  Time/Image: 0.2207  lr=0.013390\n"
          ],
          "name": "stdout"
        },
        {
          "output_type": "stream",
          "text": [
            "INFO:ptsemseg:Iter [43180/50000]  Loss: 0.9872  Time/Image: 0.2207  lr=0.013388\n"
          ],
          "name": "stderr"
        },
        {
          "output_type": "stream",
          "text": [
            "Iter [43180/50000]  Loss: 0.9872  Time/Image: 0.2207  lr=0.013388\n"
          ],
          "name": "stdout"
        },
        {
          "output_type": "stream",
          "text": [
            "INFO:ptsemseg:Iter [43190/50000]  Loss: 0.9859  Time/Image: 0.2219  lr=0.013386\n"
          ],
          "name": "stderr"
        },
        {
          "output_type": "stream",
          "text": [
            "Iter [43190/50000]  Loss: 0.9859  Time/Image: 0.2219  lr=0.013386\n"
          ],
          "name": "stdout"
        },
        {
          "output_type": "stream",
          "text": [
            "INFO:ptsemseg:Iter [43200/50000]  Loss: 0.9863  Time/Image: 0.2153  lr=0.013385\n"
          ],
          "name": "stderr"
        },
        {
          "output_type": "stream",
          "text": [
            "Iter [43200/50000]  Loss: 0.9863  Time/Image: 0.2153  lr=0.013385\n"
          ],
          "name": "stdout"
        },
        {
          "output_type": "stream",
          "text": [
            "INFO:ptsemseg:Iter [43210/50000]  Loss: 0.9847  Time/Image: 0.2233  lr=0.013383\n"
          ],
          "name": "stderr"
        },
        {
          "output_type": "stream",
          "text": [
            "Iter [43210/50000]  Loss: 0.9847  Time/Image: 0.2233  lr=0.013383\n"
          ],
          "name": "stdout"
        },
        {
          "output_type": "stream",
          "text": [
            "INFO:ptsemseg:Iter [43220/50000]  Loss: 0.9864  Time/Image: 0.2121  lr=0.013382\n"
          ],
          "name": "stderr"
        },
        {
          "output_type": "stream",
          "text": [
            "Iter [43220/50000]  Loss: 0.9864  Time/Image: 0.2121  lr=0.013382\n"
          ],
          "name": "stdout"
        },
        {
          "output_type": "stream",
          "text": [
            "INFO:ptsemseg:Iter [43230/50000]  Loss: 0.9866  Time/Image: 0.2186  lr=0.013380\n"
          ],
          "name": "stderr"
        },
        {
          "output_type": "stream",
          "text": [
            "Iter [43230/50000]  Loss: 0.9866  Time/Image: 0.2186  lr=0.013380\n"
          ],
          "name": "stdout"
        },
        {
          "output_type": "stream",
          "text": [
            "INFO:ptsemseg:Iter [43240/50000]  Loss: 0.9866  Time/Image: 0.2159  lr=0.013379\n"
          ],
          "name": "stderr"
        },
        {
          "output_type": "stream",
          "text": [
            "Iter [43240/50000]  Loss: 0.9866  Time/Image: 0.2159  lr=0.013379\n"
          ],
          "name": "stdout"
        },
        {
          "output_type": "stream",
          "text": [
            "INFO:ptsemseg:Iter [43250/50000]  Loss: 0.9838  Time/Image: 0.2173  lr=0.013377\n"
          ],
          "name": "stderr"
        },
        {
          "output_type": "stream",
          "text": [
            "Iter [43250/50000]  Loss: 0.9838  Time/Image: 0.2173  lr=0.013377\n"
          ],
          "name": "stdout"
        },
        {
          "output_type": "stream",
          "text": [
            "INFO:ptsemseg:Iter [43260/50000]  Loss: 0.9870  Time/Image: 0.2193  lr=0.013375\n"
          ],
          "name": "stderr"
        },
        {
          "output_type": "stream",
          "text": [
            "Iter [43260/50000]  Loss: 0.9870  Time/Image: 0.2193  lr=0.013375\n"
          ],
          "name": "stdout"
        },
        {
          "output_type": "stream",
          "text": [
            "INFO:ptsemseg:Iter [43270/50000]  Loss: 0.9864  Time/Image: 0.2206  lr=0.013374\n"
          ],
          "name": "stderr"
        },
        {
          "output_type": "stream",
          "text": [
            "Iter [43270/50000]  Loss: 0.9864  Time/Image: 0.2206  lr=0.013374\n"
          ],
          "name": "stdout"
        },
        {
          "output_type": "stream",
          "text": [
            "INFO:ptsemseg:Iter [43280/50000]  Loss: 0.9877  Time/Image: 0.2104  lr=0.013372\n"
          ],
          "name": "stderr"
        },
        {
          "output_type": "stream",
          "text": [
            "Iter [43280/50000]  Loss: 0.9877  Time/Image: 0.2104  lr=0.013372\n"
          ],
          "name": "stdout"
        },
        {
          "output_type": "stream",
          "text": [
            "INFO:ptsemseg:Iter [43290/50000]  Loss: 0.9846  Time/Image: 0.2098  lr=0.013371\n"
          ],
          "name": "stderr"
        },
        {
          "output_type": "stream",
          "text": [
            "Iter [43290/50000]  Loss: 0.9846  Time/Image: 0.2098  lr=0.013371\n"
          ],
          "name": "stdout"
        },
        {
          "output_type": "stream",
          "text": [
            "INFO:ptsemseg:Iter [43300/50000]  Loss: 0.9855  Time/Image: 0.2143  lr=0.013369\n"
          ],
          "name": "stderr"
        },
        {
          "output_type": "stream",
          "text": [
            "Iter [43300/50000]  Loss: 0.9855  Time/Image: 0.2143  lr=0.013369\n"
          ],
          "name": "stdout"
        },
        {
          "output_type": "stream",
          "text": [
            "INFO:ptsemseg:Iter [43310/50000]  Loss: 0.9851  Time/Image: 0.2026  lr=0.013368\n"
          ],
          "name": "stderr"
        },
        {
          "output_type": "stream",
          "text": [
            "Iter [43310/50000]  Loss: 0.9851  Time/Image: 0.2026  lr=0.013368\n"
          ],
          "name": "stdout"
        },
        {
          "output_type": "stream",
          "text": [
            "INFO:ptsemseg:Iter [43320/50000]  Loss: 0.9845  Time/Image: 0.1942  lr=0.013366\n"
          ],
          "name": "stderr"
        },
        {
          "output_type": "stream",
          "text": [
            "Iter [43320/50000]  Loss: 0.9845  Time/Image: 0.1942  lr=0.013366\n"
          ],
          "name": "stdout"
        },
        {
          "output_type": "stream",
          "text": [
            "INFO:ptsemseg:Iter [43330/50000]  Loss: 0.9837  Time/Image: 0.2083  lr=0.013364\n"
          ],
          "name": "stderr"
        },
        {
          "output_type": "stream",
          "text": [
            "Iter [43330/50000]  Loss: 0.9837  Time/Image: 0.2083  lr=0.013364\n"
          ],
          "name": "stdout"
        },
        {
          "output_type": "stream",
          "text": [
            "INFO:ptsemseg:Iter [43340/50000]  Loss: 0.9838  Time/Image: 0.2095  lr=0.013363\n"
          ],
          "name": "stderr"
        },
        {
          "output_type": "stream",
          "text": [
            "Iter [43340/50000]  Loss: 0.9838  Time/Image: 0.2095  lr=0.013363\n"
          ],
          "name": "stdout"
        },
        {
          "output_type": "stream",
          "text": [
            "INFO:ptsemseg:Iter [43350/50000]  Loss: 0.9861  Time/Image: 0.2125  lr=0.013361\n"
          ],
          "name": "stderr"
        },
        {
          "output_type": "stream",
          "text": [
            "Iter [43350/50000]  Loss: 0.9861  Time/Image: 0.2125  lr=0.013361\n"
          ],
          "name": "stdout"
        },
        {
          "output_type": "stream",
          "text": [
            "INFO:ptsemseg:Iter [43360/50000]  Loss: 0.9817  Time/Image: 0.2156  lr=0.013360\n"
          ],
          "name": "stderr"
        },
        {
          "output_type": "stream",
          "text": [
            "Iter [43360/50000]  Loss: 0.9817  Time/Image: 0.2156  lr=0.013360\n"
          ],
          "name": "stdout"
        },
        {
          "output_type": "stream",
          "text": [
            "INFO:ptsemseg:Iter [43370/50000]  Loss: 0.9831  Time/Image: 0.2109  lr=0.013358\n"
          ],
          "name": "stderr"
        },
        {
          "output_type": "stream",
          "text": [
            "Iter [43370/50000]  Loss: 0.9831  Time/Image: 0.2109  lr=0.013358\n"
          ],
          "name": "stdout"
        },
        {
          "output_type": "stream",
          "text": [
            "INFO:ptsemseg:Iter [43380/50000]  Loss: 0.9841  Time/Image: 0.2159  lr=0.013357\n"
          ],
          "name": "stderr"
        },
        {
          "output_type": "stream",
          "text": [
            "Iter [43380/50000]  Loss: 0.9841  Time/Image: 0.2159  lr=0.013357\n"
          ],
          "name": "stdout"
        },
        {
          "output_type": "stream",
          "text": [
            "INFO:ptsemseg:Iter [43390/50000]  Loss: 0.9849  Time/Image: 0.2145  lr=0.013355\n"
          ],
          "name": "stderr"
        },
        {
          "output_type": "stream",
          "text": [
            "Iter [43390/50000]  Loss: 0.9849  Time/Image: 0.2145  lr=0.013355\n"
          ],
          "name": "stdout"
        },
        {
          "output_type": "stream",
          "text": [
            "INFO:ptsemseg:Iter [43400/50000]  Loss: 0.9839  Time/Image: 0.2018  lr=0.013353\n"
          ],
          "name": "stderr"
        },
        {
          "output_type": "stream",
          "text": [
            "Iter [43400/50000]  Loss: 0.9839  Time/Image: 0.2018  lr=0.013353\n"
          ],
          "name": "stdout"
        },
        {
          "output_type": "stream",
          "text": [
            "INFO:ptsemseg:Iter [43410/50000]  Loss: 0.9844  Time/Image: 0.2130  lr=0.013352\n"
          ],
          "name": "stderr"
        },
        {
          "output_type": "stream",
          "text": [
            "Iter [43410/50000]  Loss: 0.9844  Time/Image: 0.2130  lr=0.013352\n"
          ],
          "name": "stdout"
        },
        {
          "output_type": "stream",
          "text": [
            "INFO:ptsemseg:Iter [43420/50000]  Loss: 0.9867  Time/Image: 0.2106  lr=0.013350\n"
          ],
          "name": "stderr"
        },
        {
          "output_type": "stream",
          "text": [
            "Iter [43420/50000]  Loss: 0.9867  Time/Image: 0.2106  lr=0.013350\n"
          ],
          "name": "stdout"
        },
        {
          "output_type": "stream",
          "text": [
            "INFO:ptsemseg:Iter [43430/50000]  Loss: 0.9850  Time/Image: 0.2100  lr=0.013349\n"
          ],
          "name": "stderr"
        },
        {
          "output_type": "stream",
          "text": [
            "Iter [43430/50000]  Loss: 0.9850  Time/Image: 0.2100  lr=0.013349\n"
          ],
          "name": "stdout"
        },
        {
          "output_type": "stream",
          "text": [
            "INFO:ptsemseg:Iter [43440/50000]  Loss: 0.9838  Time/Image: 0.2108  lr=0.013347\n"
          ],
          "name": "stderr"
        },
        {
          "output_type": "stream",
          "text": [
            "Iter [43440/50000]  Loss: 0.9838  Time/Image: 0.2108  lr=0.013347\n"
          ],
          "name": "stdout"
        },
        {
          "output_type": "stream",
          "text": [
            "INFO:ptsemseg:Iter [43450/50000]  Loss: 0.9848  Time/Image: 0.1989  lr=0.013346\n"
          ],
          "name": "stderr"
        },
        {
          "output_type": "stream",
          "text": [
            "Iter [43450/50000]  Loss: 0.9848  Time/Image: 0.1989  lr=0.013346\n"
          ],
          "name": "stdout"
        },
        {
          "output_type": "stream",
          "text": [
            "INFO:ptsemseg:Iter [43460/50000]  Loss: 0.9836  Time/Image: 0.1881  lr=0.013344\n"
          ],
          "name": "stderr"
        },
        {
          "output_type": "stream",
          "text": [
            "Iter [43460/50000]  Loss: 0.9836  Time/Image: 0.1881  lr=0.013344\n"
          ],
          "name": "stdout"
        },
        {
          "output_type": "stream",
          "text": [
            "INFO:ptsemseg:Iter [43470/50000]  Loss: 0.9842  Time/Image: 0.2316  lr=0.013342\n"
          ],
          "name": "stderr"
        },
        {
          "output_type": "stream",
          "text": [
            "Iter [43470/50000]  Loss: 0.9842  Time/Image: 0.2316  lr=0.013342\n"
          ],
          "name": "stdout"
        },
        {
          "output_type": "stream",
          "text": [
            "INFO:ptsemseg:Iter [43480/50000]  Loss: 0.9846  Time/Image: 0.2269  lr=0.013341\n"
          ],
          "name": "stderr"
        },
        {
          "output_type": "stream",
          "text": [
            "Iter [43480/50000]  Loss: 0.9846  Time/Image: 0.2269  lr=0.013341\n"
          ],
          "name": "stdout"
        },
        {
          "output_type": "stream",
          "text": [
            "INFO:ptsemseg:Iter [43490/50000]  Loss: 0.9819  Time/Image: 0.2324  lr=0.013339\n"
          ],
          "name": "stderr"
        },
        {
          "output_type": "stream",
          "text": [
            "Iter [43490/50000]  Loss: 0.9819  Time/Image: 0.2324  lr=0.013339\n"
          ],
          "name": "stdout"
        },
        {
          "output_type": "stream",
          "text": [
            "INFO:ptsemseg:Iter [43500/50000]  Loss: 0.9825  Time/Image: 0.2266  lr=0.013338\n"
          ],
          "name": "stderr"
        },
        {
          "output_type": "stream",
          "text": [
            "Iter [43500/50000]  Loss: 0.9825  Time/Image: 0.2266  lr=0.013338\n"
          ],
          "name": "stdout"
        },
        {
          "output_type": "stream",
          "text": [
            "84it [03:27,  2.47s/it]\n",
            "INFO:ptsemseg:Iter 43500 Val Loss: 1.0544\n",
            "INFO:ptsemseg:Overall Acc: \t: 0.931930139087959\n",
            "INFO:ptsemseg:Mean Acc : \t: 0.698070023544941\n",
            "INFO:ptsemseg:FreqW Acc : \t: 0.8800600764640943\n",
            "INFO:ptsemseg:Mean IoU : \t: 0.5925595625760134\n",
            "INFO:ptsemseg:0: 0.9676226986603519\n",
            "INFO:ptsemseg:1: 0.759329430671195\n",
            "INFO:ptsemseg:2: 0.871036610280918\n",
            "INFO:ptsemseg:3: 0.2035592966590035\n",
            "INFO:ptsemseg:4: 0.4000201547345318\n",
            "INFO:ptsemseg:5: 0.49708327333470587\n",
            "INFO:ptsemseg:6: 0.5015304211708963\n",
            "INFO:ptsemseg:7: 0.6335412543447915\n",
            "INFO:ptsemseg:8: 0.8952621466412071\n",
            "INFO:ptsemseg:9: 0.48402169498603115\n",
            "INFO:ptsemseg:10: 0.9015539631683112\n",
            "INFO:ptsemseg:11: 0.6929879971735738\n",
            "INFO:ptsemseg:12: 0.47077230114793245\n",
            "INFO:ptsemseg:13: 0.9043591312479172\n",
            "INFO:ptsemseg:14: 0.3764098386980159\n",
            "INFO:ptsemseg:15: 0.5524191475965925\n",
            "INFO:ptsemseg:16: 0.2392345486694303\n",
            "INFO:ptsemseg:17: 0.291986194893003\n",
            "INFO:ptsemseg:18: 0.6159015848658478\n"
          ],
          "name": "stderr"
        },
        {
          "output_type": "stream",
          "text": [
            "Overall Acc: \t 0.931930139087959\n",
            "Mean Acc : \t 0.698070023544941\n",
            "FreqW Acc : \t 0.8800600764640943\n",
            "Mean IoU : \t 0.5925595625760134\n"
          ],
          "name": "stdout"
        },
        {
          "output_type": "stream",
          "text": [
            "INFO:ptsemseg:Iter [43510/50000]  Loss: 1.0070  Time/Image: 0.2018  lr=0.013336\n"
          ],
          "name": "stderr"
        },
        {
          "output_type": "stream",
          "text": [
            "Iter [43510/50000]  Loss: 1.0070  Time/Image: 0.2018  lr=0.013336\n"
          ],
          "name": "stdout"
        },
        {
          "output_type": "stream",
          "text": [
            "INFO:ptsemseg:Iter [43520/50000]  Loss: 0.9802  Time/Image: 0.2240  lr=0.013335\n"
          ],
          "name": "stderr"
        },
        {
          "output_type": "stream",
          "text": [
            "Iter [43520/50000]  Loss: 0.9802  Time/Image: 0.2240  lr=0.013335\n"
          ],
          "name": "stdout"
        },
        {
          "output_type": "stream",
          "text": [
            "INFO:ptsemseg:Iter [43530/50000]  Loss: 0.9886  Time/Image: 0.2290  lr=0.013333\n"
          ],
          "name": "stderr"
        },
        {
          "output_type": "stream",
          "text": [
            "Iter [43530/50000]  Loss: 0.9886  Time/Image: 0.2290  lr=0.013333\n"
          ],
          "name": "stdout"
        },
        {
          "output_type": "stream",
          "text": [
            "INFO:ptsemseg:Iter [43540/50000]  Loss: 0.9737  Time/Image: 0.2254  lr=0.013331\n"
          ],
          "name": "stderr"
        },
        {
          "output_type": "stream",
          "text": [
            "Iter [43540/50000]  Loss: 0.9737  Time/Image: 0.2254  lr=0.013331\n"
          ],
          "name": "stdout"
        },
        {
          "output_type": "stream",
          "text": [
            "INFO:ptsemseg:Iter [43550/50000]  Loss: 0.9902  Time/Image: 0.2277  lr=0.013330\n"
          ],
          "name": "stderr"
        },
        {
          "output_type": "stream",
          "text": [
            "Iter [43550/50000]  Loss: 0.9902  Time/Image: 0.2277  lr=0.013330\n"
          ],
          "name": "stdout"
        },
        {
          "output_type": "stream",
          "text": [
            "INFO:ptsemseg:Iter [43560/50000]  Loss: 0.9912  Time/Image: 0.2241  lr=0.013328\n"
          ],
          "name": "stderr"
        },
        {
          "output_type": "stream",
          "text": [
            "Iter [43560/50000]  Loss: 0.9912  Time/Image: 0.2241  lr=0.013328\n"
          ],
          "name": "stdout"
        },
        {
          "output_type": "stream",
          "text": [
            "INFO:ptsemseg:Iter [43570/50000]  Loss: 0.9843  Time/Image: 0.2303  lr=0.013327\n"
          ],
          "name": "stderr"
        },
        {
          "output_type": "stream",
          "text": [
            "Iter [43570/50000]  Loss: 0.9843  Time/Image: 0.2303  lr=0.013327\n"
          ],
          "name": "stdout"
        },
        {
          "output_type": "stream",
          "text": [
            "INFO:ptsemseg:Iter [43580/50000]  Loss: 0.9901  Time/Image: 0.2276  lr=0.013325\n"
          ],
          "name": "stderr"
        },
        {
          "output_type": "stream",
          "text": [
            "Iter [43580/50000]  Loss: 0.9901  Time/Image: 0.2276  lr=0.013325\n"
          ],
          "name": "stdout"
        },
        {
          "output_type": "stream",
          "text": [
            "INFO:ptsemseg:Iter [43590/50000]  Loss: 0.9864  Time/Image: 0.2252  lr=0.013324\n"
          ],
          "name": "stderr"
        },
        {
          "output_type": "stream",
          "text": [
            "Iter [43590/50000]  Loss: 0.9864  Time/Image: 0.2252  lr=0.013324\n"
          ],
          "name": "stdout"
        },
        {
          "output_type": "stream",
          "text": [
            "INFO:ptsemseg:Iter [43600/50000]  Loss: 0.9846  Time/Image: 0.2249  lr=0.013322\n"
          ],
          "name": "stderr"
        },
        {
          "output_type": "stream",
          "text": [
            "Iter [43600/50000]  Loss: 0.9846  Time/Image: 0.2249  lr=0.013322\n"
          ],
          "name": "stdout"
        },
        {
          "output_type": "stream",
          "text": [
            "INFO:ptsemseg:Iter [43610/50000]  Loss: 0.9895  Time/Image: 0.2332  lr=0.013320\n"
          ],
          "name": "stderr"
        },
        {
          "output_type": "stream",
          "text": [
            "Iter [43610/50000]  Loss: 0.9895  Time/Image: 0.2332  lr=0.013320\n"
          ],
          "name": "stdout"
        },
        {
          "output_type": "stream",
          "text": [
            "INFO:ptsemseg:Iter [43620/50000]  Loss: 0.9862  Time/Image: 0.2222  lr=0.013319\n"
          ],
          "name": "stderr"
        },
        {
          "output_type": "stream",
          "text": [
            "Iter [43620/50000]  Loss: 0.9862  Time/Image: 0.2222  lr=0.013319\n"
          ],
          "name": "stdout"
        },
        {
          "output_type": "stream",
          "text": [
            "INFO:ptsemseg:Iter [43630/50000]  Loss: 0.9881  Time/Image: 0.2253  lr=0.013317\n"
          ],
          "name": "stderr"
        },
        {
          "output_type": "stream",
          "text": [
            "Iter [43630/50000]  Loss: 0.9881  Time/Image: 0.2253  lr=0.013317\n"
          ],
          "name": "stdout"
        },
        {
          "output_type": "stream",
          "text": [
            "INFO:ptsemseg:Iter [43640/50000]  Loss: 0.9866  Time/Image: 0.2268  lr=0.013316\n"
          ],
          "name": "stderr"
        },
        {
          "output_type": "stream",
          "text": [
            "Iter [43640/50000]  Loss: 0.9866  Time/Image: 0.2268  lr=0.013316\n"
          ],
          "name": "stdout"
        },
        {
          "output_type": "stream",
          "text": [
            "INFO:ptsemseg:Iter [43650/50000]  Loss: 0.9876  Time/Image: 0.2252  lr=0.013314\n"
          ],
          "name": "stderr"
        },
        {
          "output_type": "stream",
          "text": [
            "Iter [43650/50000]  Loss: 0.9876  Time/Image: 0.2252  lr=0.013314\n"
          ],
          "name": "stdout"
        },
        {
          "output_type": "stream",
          "text": [
            "INFO:ptsemseg:Iter [43660/50000]  Loss: 0.9875  Time/Image: 0.2277  lr=0.013313\n"
          ],
          "name": "stderr"
        },
        {
          "output_type": "stream",
          "text": [
            "Iter [43660/50000]  Loss: 0.9875  Time/Image: 0.2277  lr=0.013313\n"
          ],
          "name": "stdout"
        },
        {
          "output_type": "stream",
          "text": [
            "INFO:ptsemseg:Iter [43670/50000]  Loss: 0.9901  Time/Image: 0.2257  lr=0.013311\n"
          ],
          "name": "stderr"
        },
        {
          "output_type": "stream",
          "text": [
            "Iter [43670/50000]  Loss: 0.9901  Time/Image: 0.2257  lr=0.013311\n"
          ],
          "name": "stdout"
        },
        {
          "output_type": "stream",
          "text": [
            "INFO:ptsemseg:Iter [43680/50000]  Loss: 0.9884  Time/Image: 0.2257  lr=0.013310\n"
          ],
          "name": "stderr"
        },
        {
          "output_type": "stream",
          "text": [
            "Iter [43680/50000]  Loss: 0.9884  Time/Image: 0.2257  lr=0.013310\n"
          ],
          "name": "stdout"
        },
        {
          "output_type": "stream",
          "text": [
            "INFO:ptsemseg:Iter [43690/50000]  Loss: 0.9861  Time/Image: 0.2229  lr=0.013308\n"
          ],
          "name": "stderr"
        },
        {
          "output_type": "stream",
          "text": [
            "Iter [43690/50000]  Loss: 0.9861  Time/Image: 0.2229  lr=0.013308\n"
          ],
          "name": "stdout"
        },
        {
          "output_type": "stream",
          "text": [
            "INFO:ptsemseg:Iter [43700/50000]  Loss: 0.9859  Time/Image: 0.2188  lr=0.013306\n"
          ],
          "name": "stderr"
        },
        {
          "output_type": "stream",
          "text": [
            "Iter [43700/50000]  Loss: 0.9859  Time/Image: 0.2188  lr=0.013306\n"
          ],
          "name": "stdout"
        },
        {
          "output_type": "stream",
          "text": [
            "INFO:ptsemseg:Iter [43710/50000]  Loss: 0.9853  Time/Image: 0.2209  lr=0.013305\n"
          ],
          "name": "stderr"
        },
        {
          "output_type": "stream",
          "text": [
            "Iter [43710/50000]  Loss: 0.9853  Time/Image: 0.2209  lr=0.013305\n"
          ],
          "name": "stdout"
        },
        {
          "output_type": "stream",
          "text": [
            "INFO:ptsemseg:Iter [43720/50000]  Loss: 0.9842  Time/Image: 0.2174  lr=0.013303\n"
          ],
          "name": "stderr"
        },
        {
          "output_type": "stream",
          "text": [
            "Iter [43720/50000]  Loss: 0.9842  Time/Image: 0.2174  lr=0.013303\n"
          ],
          "name": "stdout"
        },
        {
          "output_type": "stream",
          "text": [
            "INFO:ptsemseg:Iter [43730/50000]  Loss: 0.9837  Time/Image: 0.2250  lr=0.013302\n"
          ],
          "name": "stderr"
        },
        {
          "output_type": "stream",
          "text": [
            "Iter [43730/50000]  Loss: 0.9837  Time/Image: 0.2250  lr=0.013302\n"
          ],
          "name": "stdout"
        },
        {
          "output_type": "stream",
          "text": [
            "INFO:ptsemseg:Iter [43740/50000]  Loss: 0.9839  Time/Image: 0.2181  lr=0.013300\n"
          ],
          "name": "stderr"
        },
        {
          "output_type": "stream",
          "text": [
            "Iter [43740/50000]  Loss: 0.9839  Time/Image: 0.2181  lr=0.013300\n"
          ],
          "name": "stdout"
        },
        {
          "output_type": "stream",
          "text": [
            "INFO:ptsemseg:Iter [43750/50000]  Loss: 0.9862  Time/Image: 0.2132  lr=0.013299\n"
          ],
          "name": "stderr"
        },
        {
          "output_type": "stream",
          "text": [
            "Iter [43750/50000]  Loss: 0.9862  Time/Image: 0.2132  lr=0.013299\n"
          ],
          "name": "stdout"
        },
        {
          "output_type": "stream",
          "text": [
            "INFO:ptsemseg:Iter [43760/50000]  Loss: 0.9886  Time/Image: 0.2141  lr=0.013297\n"
          ],
          "name": "stderr"
        },
        {
          "output_type": "stream",
          "text": [
            "Iter [43760/50000]  Loss: 0.9886  Time/Image: 0.2141  lr=0.013297\n"
          ],
          "name": "stdout"
        },
        {
          "output_type": "stream",
          "text": [
            "INFO:ptsemseg:Iter [43770/50000]  Loss: 0.9857  Time/Image: 0.2149  lr=0.013295\n"
          ],
          "name": "stderr"
        },
        {
          "output_type": "stream",
          "text": [
            "Iter [43770/50000]  Loss: 0.9857  Time/Image: 0.2149  lr=0.013295\n"
          ],
          "name": "stdout"
        },
        {
          "output_type": "stream",
          "text": [
            "INFO:ptsemseg:Iter [43780/50000]  Loss: 0.9871  Time/Image: 0.2073  lr=0.013294\n"
          ],
          "name": "stderr"
        },
        {
          "output_type": "stream",
          "text": [
            "Iter [43780/50000]  Loss: 0.9871  Time/Image: 0.2073  lr=0.013294\n"
          ],
          "name": "stdout"
        },
        {
          "output_type": "stream",
          "text": [
            "INFO:ptsemseg:Iter [43790/50000]  Loss: 0.9897  Time/Image: 0.2147  lr=0.013292\n"
          ],
          "name": "stderr"
        },
        {
          "output_type": "stream",
          "text": [
            "Iter [43790/50000]  Loss: 0.9897  Time/Image: 0.2147  lr=0.013292\n"
          ],
          "name": "stdout"
        },
        {
          "output_type": "stream",
          "text": [
            "INFO:ptsemseg:Iter [43800/50000]  Loss: 0.9915  Time/Image: 0.2189  lr=0.013291\n"
          ],
          "name": "stderr"
        },
        {
          "output_type": "stream",
          "text": [
            "Iter [43800/50000]  Loss: 0.9915  Time/Image: 0.2189  lr=0.013291\n"
          ],
          "name": "stdout"
        },
        {
          "output_type": "stream",
          "text": [
            "INFO:ptsemseg:Iter [43810/50000]  Loss: 0.9867  Time/Image: 0.2183  lr=0.013289\n"
          ],
          "name": "stderr"
        },
        {
          "output_type": "stream",
          "text": [
            "Iter [43810/50000]  Loss: 0.9867  Time/Image: 0.2183  lr=0.013289\n"
          ],
          "name": "stdout"
        },
        {
          "output_type": "stream",
          "text": [
            "INFO:ptsemseg:Iter [43820/50000]  Loss: 0.9871  Time/Image: 0.2147  lr=0.013288\n"
          ],
          "name": "stderr"
        },
        {
          "output_type": "stream",
          "text": [
            "Iter [43820/50000]  Loss: 0.9871  Time/Image: 0.2147  lr=0.013288\n"
          ],
          "name": "stdout"
        },
        {
          "output_type": "stream",
          "text": [
            "INFO:ptsemseg:Iter [43830/50000]  Loss: 0.9862  Time/Image: 0.2147  lr=0.013286\n"
          ],
          "name": "stderr"
        },
        {
          "output_type": "stream",
          "text": [
            "Iter [43830/50000]  Loss: 0.9862  Time/Image: 0.2147  lr=0.013286\n"
          ],
          "name": "stdout"
        },
        {
          "output_type": "stream",
          "text": [
            "INFO:ptsemseg:Iter [43840/50000]  Loss: 0.9849  Time/Image: 0.2140  lr=0.013284\n"
          ],
          "name": "stderr"
        },
        {
          "output_type": "stream",
          "text": [
            "Iter [43840/50000]  Loss: 0.9849  Time/Image: 0.2140  lr=0.013284\n"
          ],
          "name": "stdout"
        },
        {
          "output_type": "stream",
          "text": [
            "INFO:ptsemseg:Iter [43850/50000]  Loss: 0.9868  Time/Image: 0.2123  lr=0.013283\n"
          ],
          "name": "stderr"
        },
        {
          "output_type": "stream",
          "text": [
            "Iter [43850/50000]  Loss: 0.9868  Time/Image: 0.2123  lr=0.013283\n"
          ],
          "name": "stdout"
        },
        {
          "output_type": "stream",
          "text": [
            "INFO:ptsemseg:Iter [43860/50000]  Loss: 0.9854  Time/Image: 0.2147  lr=0.013281\n"
          ],
          "name": "stderr"
        },
        {
          "output_type": "stream",
          "text": [
            "Iter [43860/50000]  Loss: 0.9854  Time/Image: 0.2147  lr=0.013281\n"
          ],
          "name": "stdout"
        },
        {
          "output_type": "stream",
          "text": [
            "INFO:ptsemseg:Iter [43870/50000]  Loss: 0.9865  Time/Image: 0.2106  lr=0.013280\n"
          ],
          "name": "stderr"
        },
        {
          "output_type": "stream",
          "text": [
            "Iter [43870/50000]  Loss: 0.9865  Time/Image: 0.2106  lr=0.013280\n"
          ],
          "name": "stdout"
        },
        {
          "output_type": "stream",
          "text": [
            "INFO:ptsemseg:Iter [43880/50000]  Loss: 0.9859  Time/Image: 0.2129  lr=0.013278\n"
          ],
          "name": "stderr"
        },
        {
          "output_type": "stream",
          "text": [
            "Iter [43880/50000]  Loss: 0.9859  Time/Image: 0.2129  lr=0.013278\n"
          ],
          "name": "stdout"
        },
        {
          "output_type": "stream",
          "text": [
            "INFO:ptsemseg:Iter [43890/50000]  Loss: 0.9858  Time/Image: 0.2167  lr=0.013277\n"
          ],
          "name": "stderr"
        },
        {
          "output_type": "stream",
          "text": [
            "Iter [43890/50000]  Loss: 0.9858  Time/Image: 0.2167  lr=0.013277\n"
          ],
          "name": "stdout"
        },
        {
          "output_type": "stream",
          "text": [
            "INFO:ptsemseg:Iter [43900/50000]  Loss: 0.9874  Time/Image: 0.2154  lr=0.013275\n"
          ],
          "name": "stderr"
        },
        {
          "output_type": "stream",
          "text": [
            "Iter [43900/50000]  Loss: 0.9874  Time/Image: 0.2154  lr=0.013275\n"
          ],
          "name": "stdout"
        },
        {
          "output_type": "stream",
          "text": [
            "INFO:ptsemseg:Iter [43910/50000]  Loss: 0.9880  Time/Image: 0.2143  lr=0.013273\n"
          ],
          "name": "stderr"
        },
        {
          "output_type": "stream",
          "text": [
            "Iter [43910/50000]  Loss: 0.9880  Time/Image: 0.2143  lr=0.013273\n",
            "Iter [43920/50000]  Loss: 0.9863  Time/Image: 0.2111  lr=0.013272\n"
          ],
          "name": "stdout"
        },
        {
          "output_type": "stream",
          "text": [
            "INFO:ptsemseg:Iter [43930/50000]  Loss: 0.9860  Time/Image: 0.2173  lr=0.013270\n"
          ],
          "name": "stderr"
        },
        {
          "output_type": "stream",
          "text": [
            "Iter [43930/50000]  Loss: 0.9860  Time/Image: 0.2173  lr=0.013270\n"
          ],
          "name": "stdout"
        },
        {
          "output_type": "stream",
          "text": [
            "INFO:ptsemseg:Iter [43940/50000]  Loss: 0.9849  Time/Image: 0.2136  lr=0.013269\n"
          ],
          "name": "stderr"
        },
        {
          "output_type": "stream",
          "text": [
            "Iter [43940/50000]  Loss: 0.9849  Time/Image: 0.2136  lr=0.013269\n"
          ],
          "name": "stdout"
        },
        {
          "output_type": "stream",
          "text": [
            "INFO:ptsemseg:Iter [43950/50000]  Loss: 0.9845  Time/Image: 0.1895  lr=0.013267\n"
          ],
          "name": "stderr"
        },
        {
          "output_type": "stream",
          "text": [
            "Iter [43950/50000]  Loss: 0.9845  Time/Image: 0.1895  lr=0.013267\n"
          ],
          "name": "stdout"
        },
        {
          "output_type": "stream",
          "text": [
            "INFO:ptsemseg:Iter [43960/50000]  Loss: 0.9835  Time/Image: 0.2101  lr=0.013266\n"
          ],
          "name": "stderr"
        },
        {
          "output_type": "stream",
          "text": [
            "Iter [43960/50000]  Loss: 0.9835  Time/Image: 0.2101  lr=0.013266\n"
          ],
          "name": "stdout"
        },
        {
          "output_type": "stream",
          "text": [
            "INFO:ptsemseg:Iter [43970/50000]  Loss: 0.9849  Time/Image: 0.2295  lr=0.013264\n"
          ],
          "name": "stderr"
        },
        {
          "output_type": "stream",
          "text": [
            "Iter [43970/50000]  Loss: 0.9849  Time/Image: 0.2295  lr=0.013264\n"
          ],
          "name": "stdout"
        },
        {
          "output_type": "stream",
          "text": [
            "INFO:ptsemseg:Iter [43980/50000]  Loss: 0.9836  Time/Image: 0.2276  lr=0.013262\n"
          ],
          "name": "stderr"
        },
        {
          "output_type": "stream",
          "text": [
            "Iter [43980/50000]  Loss: 0.9836  Time/Image: 0.2276  lr=0.013262\n"
          ],
          "name": "stdout"
        },
        {
          "output_type": "stream",
          "text": [
            "INFO:ptsemseg:Iter [43990/50000]  Loss: 0.9838  Time/Image: 0.2332  lr=0.013261\n"
          ],
          "name": "stderr"
        },
        {
          "output_type": "stream",
          "text": [
            "Iter [43990/50000]  Loss: 0.9838  Time/Image: 0.2332  lr=0.013261\n"
          ],
          "name": "stdout"
        },
        {
          "output_type": "stream",
          "text": [
            "INFO:ptsemseg:Iter [44000/50000]  Loss: 0.9841  Time/Image: 0.2299  lr=0.013259\n"
          ],
          "name": "stderr"
        },
        {
          "output_type": "stream",
          "text": [
            "Iter [44000/50000]  Loss: 0.9841  Time/Image: 0.2299  lr=0.013259\n"
          ],
          "name": "stdout"
        },
        {
          "output_type": "stream",
          "text": [
            "84it [03:31,  2.52s/it]\n",
            "INFO:ptsemseg:Iter 44000 Val Loss: 0.9702\n",
            "INFO:ptsemseg:Overall Acc: \t: 0.9325870549595865\n",
            "INFO:ptsemseg:Mean Acc : \t: 0.6746282148210673\n",
            "INFO:ptsemseg:FreqW Acc : \t: 0.880953236914648\n",
            "INFO:ptsemseg:Mean IoU : \t: 0.5780597269142268\n",
            "INFO:ptsemseg:0: 0.9676348630580214\n",
            "INFO:ptsemseg:1: 0.7604481809012346\n",
            "INFO:ptsemseg:2: 0.8756337294038644\n",
            "INFO:ptsemseg:3: 0.3240556987566392\n",
            "INFO:ptsemseg:4: 0.32631036940107405\n",
            "INFO:ptsemseg:5: 0.46955402532780843\n",
            "INFO:ptsemseg:6: 0.45353843873213406\n",
            "INFO:ptsemseg:7: 0.6346787731044471\n",
            "INFO:ptsemseg:8: 0.8948005217534309\n",
            "INFO:ptsemseg:9: 0.5283954095504519\n",
            "INFO:ptsemseg:10: 0.91876689800138\n",
            "INFO:ptsemseg:11: 0.6962118934074571\n",
            "INFO:ptsemseg:12: 0.4473746496317587\n",
            "INFO:ptsemseg:13: 0.8983287785315243\n",
            "INFO:ptsemseg:14: 0.3373124392695245\n",
            "INFO:ptsemseg:15: 0.5280712672732124\n",
            "INFO:ptsemseg:16: 0.2544226583646867\n",
            "INFO:ptsemseg:17: 0.05840322828363554\n",
            "INFO:ptsemseg:18: 0.6091929886180231\n"
          ],
          "name": "stderr"
        },
        {
          "output_type": "stream",
          "text": [
            "Overall Acc: \t 0.9325870549595865\n",
            "Mean Acc : \t 0.6746282148210673\n",
            "FreqW Acc : \t 0.880953236914648\n",
            "Mean IoU : \t 0.5780597269142268\n"
          ],
          "name": "stdout"
        },
        {
          "output_type": "stream",
          "text": [
            "INFO:ptsemseg:Iter [44010/50000]  Loss: 0.8954  Time/Image: 0.2043  lr=0.013258\n"
          ],
          "name": "stderr"
        },
        {
          "output_type": "stream",
          "text": [
            "Iter [44010/50000]  Loss: 0.8954  Time/Image: 0.2043  lr=0.013258\n"
          ],
          "name": "stdout"
        },
        {
          "output_type": "stream",
          "text": [
            "INFO:ptsemseg:Iter [44020/50000]  Loss: 0.9733  Time/Image: 0.2214  lr=0.013256\n"
          ],
          "name": "stderr"
        },
        {
          "output_type": "stream",
          "text": [
            "Iter [44020/50000]  Loss: 0.9733  Time/Image: 0.2214  lr=0.013256\n"
          ],
          "name": "stdout"
        },
        {
          "output_type": "stream",
          "text": [
            "INFO:ptsemseg:Iter [44030/50000]  Loss: 0.9574  Time/Image: 0.2303  lr=0.013255\n"
          ],
          "name": "stderr"
        },
        {
          "output_type": "stream",
          "text": [
            "Iter [44030/50000]  Loss: 0.9574  Time/Image: 0.2303  lr=0.013255\n"
          ],
          "name": "stdout"
        },
        {
          "output_type": "stream",
          "text": [
            "INFO:ptsemseg:Iter [44040/50000]  Loss: 0.9719  Time/Image: 0.2241  lr=0.013253\n"
          ],
          "name": "stderr"
        },
        {
          "output_type": "stream",
          "text": [
            "Iter [44040/50000]  Loss: 0.9719  Time/Image: 0.2241  lr=0.013253\n"
          ],
          "name": "stdout"
        },
        {
          "output_type": "stream",
          "text": [
            "INFO:ptsemseg:Iter [44050/50000]  Loss: 0.9825  Time/Image: 0.2298  lr=0.013251\n"
          ],
          "name": "stderr"
        },
        {
          "output_type": "stream",
          "text": [
            "Iter [44050/50000]  Loss: 0.9825  Time/Image: 0.2298  lr=0.013251\n"
          ],
          "name": "stdout"
        },
        {
          "output_type": "stream",
          "text": [
            "INFO:ptsemseg:Iter [44060/50000]  Loss: 0.9750  Time/Image: 0.2292  lr=0.013250\n"
          ],
          "name": "stderr"
        },
        {
          "output_type": "stream",
          "text": [
            "Iter [44060/50000]  Loss: 0.9750  Time/Image: 0.2292  lr=0.013250\n"
          ],
          "name": "stdout"
        },
        {
          "output_type": "stream",
          "text": [
            "INFO:ptsemseg:Iter [44070/50000]  Loss: 0.9614  Time/Image: 0.2322  lr=0.013248\n"
          ],
          "name": "stderr"
        },
        {
          "output_type": "stream",
          "text": [
            "Iter [44070/50000]  Loss: 0.9614  Time/Image: 0.2322  lr=0.013248\n"
          ],
          "name": "stdout"
        },
        {
          "output_type": "stream",
          "text": [
            "INFO:ptsemseg:Iter [44080/50000]  Loss: 0.9755  Time/Image: 0.2205  lr=0.013247\n"
          ],
          "name": "stderr"
        },
        {
          "output_type": "stream",
          "text": [
            "Iter [44080/50000]  Loss: 0.9755  Time/Image: 0.2205  lr=0.013247\n"
          ],
          "name": "stdout"
        },
        {
          "output_type": "stream",
          "text": [
            "INFO:ptsemseg:Iter [44090/50000]  Loss: 0.9878  Time/Image: 0.2227  lr=0.013245\n"
          ],
          "name": "stderr"
        },
        {
          "output_type": "stream",
          "text": [
            "Iter [44090/50000]  Loss: 0.9878  Time/Image: 0.2227  lr=0.013245\n"
          ],
          "name": "stdout"
        },
        {
          "output_type": "stream",
          "text": [
            "INFO:ptsemseg:Iter [44100/50000]  Loss: 0.9797  Time/Image: 0.2231  lr=0.013244\n"
          ],
          "name": "stderr"
        },
        {
          "output_type": "stream",
          "text": [
            "Iter [44100/50000]  Loss: 0.9797  Time/Image: 0.2231  lr=0.013244\n"
          ],
          "name": "stdout"
        },
        {
          "output_type": "stream",
          "text": [
            "INFO:ptsemseg:Iter [44110/50000]  Loss: 0.9831  Time/Image: 0.2269  lr=0.013242\n"
          ],
          "name": "stderr"
        },
        {
          "output_type": "stream",
          "text": [
            "Iter [44110/50000]  Loss: 0.9831  Time/Image: 0.2269  lr=0.013242\n"
          ],
          "name": "stdout"
        },
        {
          "output_type": "stream",
          "text": [
            "INFO:ptsemseg:Iter [44120/50000]  Loss: 0.9755  Time/Image: 0.2274  lr=0.013240\n"
          ],
          "name": "stderr"
        },
        {
          "output_type": "stream",
          "text": [
            "Iter [44120/50000]  Loss: 0.9755  Time/Image: 0.2274  lr=0.013240\n"
          ],
          "name": "stdout"
        },
        {
          "output_type": "stream",
          "text": [
            "INFO:ptsemseg:Iter [44130/50000]  Loss: 0.9824  Time/Image: 0.2253  lr=0.013239\n"
          ],
          "name": "stderr"
        },
        {
          "output_type": "stream",
          "text": [
            "Iter [44130/50000]  Loss: 0.9824  Time/Image: 0.2253  lr=0.013239\n"
          ],
          "name": "stdout"
        },
        {
          "output_type": "stream",
          "text": [
            "INFO:ptsemseg:Iter [44140/50000]  Loss: 0.9886  Time/Image: 0.2234  lr=0.013237\n"
          ],
          "name": "stderr"
        },
        {
          "output_type": "stream",
          "text": [
            "Iter [44140/50000]  Loss: 0.9886  Time/Image: 0.2234  lr=0.013237\n"
          ],
          "name": "stdout"
        },
        {
          "output_type": "stream",
          "text": [
            "INFO:ptsemseg:Iter [44150/50000]  Loss: 0.9881  Time/Image: 0.2230  lr=0.013236\n"
          ],
          "name": "stderr"
        },
        {
          "output_type": "stream",
          "text": [
            "Iter [44150/50000]  Loss: 0.9881  Time/Image: 0.2230  lr=0.013236\n"
          ],
          "name": "stdout"
        },
        {
          "output_type": "stream",
          "text": [
            "INFO:ptsemseg:Iter [44160/50000]  Loss: 0.9835  Time/Image: 0.2284  lr=0.013234\n"
          ],
          "name": "stderr"
        },
        {
          "output_type": "stream",
          "text": [
            "Iter [44160/50000]  Loss: 0.9835  Time/Image: 0.2284  lr=0.013234\n"
          ],
          "name": "stdout"
        },
        {
          "output_type": "stream",
          "text": [
            "INFO:ptsemseg:Iter [44170/50000]  Loss: 0.9860  Time/Image: 0.2192  lr=0.013233\n"
          ],
          "name": "stderr"
        },
        {
          "output_type": "stream",
          "text": [
            "Iter [44170/50000]  Loss: 0.9860  Time/Image: 0.2192  lr=0.013233\n"
          ],
          "name": "stdout"
        },
        {
          "output_type": "stream",
          "text": [
            "INFO:ptsemseg:Iter [44180/50000]  Loss: 0.9832  Time/Image: 0.2200  lr=0.013231\n"
          ],
          "name": "stderr"
        },
        {
          "output_type": "stream",
          "text": [
            "Iter [44180/50000]  Loss: 0.9832  Time/Image: 0.2200  lr=0.013231\n"
          ],
          "name": "stdout"
        },
        {
          "output_type": "stream",
          "text": [
            "INFO:ptsemseg:Iter [44190/50000]  Loss: 0.9822  Time/Image: 0.2105  lr=0.013229\n"
          ],
          "name": "stderr"
        },
        {
          "output_type": "stream",
          "text": [
            "Iter [44190/50000]  Loss: 0.9822  Time/Image: 0.2105  lr=0.013229\n"
          ],
          "name": "stdout"
        },
        {
          "output_type": "stream",
          "text": [
            "INFO:ptsemseg:Iter [44200/50000]  Loss: 0.9849  Time/Image: 0.2210  lr=0.013228\n"
          ],
          "name": "stderr"
        },
        {
          "output_type": "stream",
          "text": [
            "Iter [44200/50000]  Loss: 0.9849  Time/Image: 0.2210  lr=0.013228\n"
          ],
          "name": "stdout"
        },
        {
          "output_type": "stream",
          "text": [
            "INFO:ptsemseg:Iter [44210/50000]  Loss: 0.9838  Time/Image: 0.2231  lr=0.013226\n"
          ],
          "name": "stderr"
        },
        {
          "output_type": "stream",
          "text": [
            "Iter [44210/50000]  Loss: 0.9838  Time/Image: 0.2231  lr=0.013226\n"
          ],
          "name": "stdout"
        },
        {
          "output_type": "stream",
          "text": [
            "INFO:ptsemseg:Iter [44220/50000]  Loss: 0.9890  Time/Image: 0.2220  lr=0.013225\n"
          ],
          "name": "stderr"
        },
        {
          "output_type": "stream",
          "text": [
            "Iter [44220/50000]  Loss: 0.9890  Time/Image: 0.2220  lr=0.013225\n"
          ],
          "name": "stdout"
        },
        {
          "output_type": "stream",
          "text": [
            "INFO:ptsemseg:Iter [44230/50000]  Loss: 0.9856  Time/Image: 0.2156  lr=0.013223\n"
          ],
          "name": "stderr"
        },
        {
          "output_type": "stream",
          "text": [
            "Iter [44230/50000]  Loss: 0.9856  Time/Image: 0.2156  lr=0.013223\n"
          ],
          "name": "stdout"
        },
        {
          "output_type": "stream",
          "text": [
            "INFO:ptsemseg:Iter [44240/50000]  Loss: 0.9864  Time/Image: 0.2159  lr=0.013222\n"
          ],
          "name": "stderr"
        },
        {
          "output_type": "stream",
          "text": [
            "Iter [44240/50000]  Loss: 0.9864  Time/Image: 0.2159  lr=0.013222\n"
          ],
          "name": "stdout"
        },
        {
          "output_type": "stream",
          "text": [
            "INFO:ptsemseg:Iter [44250/50000]  Loss: 0.9873  Time/Image: 0.2168  lr=0.013220\n"
          ],
          "name": "stderr"
        },
        {
          "output_type": "stream",
          "text": [
            "Iter [44250/50000]  Loss: 0.9873  Time/Image: 0.2168  lr=0.013220\n"
          ],
          "name": "stdout"
        },
        {
          "output_type": "stream",
          "text": [
            "INFO:ptsemseg:Iter [44260/50000]  Loss: 0.9871  Time/Image: 0.2202  lr=0.013218\n"
          ],
          "name": "stderr"
        },
        {
          "output_type": "stream",
          "text": [
            "Iter [44260/50000]  Loss: 0.9871  Time/Image: 0.2202  lr=0.013218\n"
          ],
          "name": "stdout"
        },
        {
          "output_type": "stream",
          "text": [
            "INFO:ptsemseg:Iter [44270/50000]  Loss: 0.9840  Time/Image: 0.2116  lr=0.013217\n"
          ],
          "name": "stderr"
        },
        {
          "output_type": "stream",
          "text": [
            "Iter [44270/50000]  Loss: 0.9840  Time/Image: 0.2116  lr=0.013217\n"
          ],
          "name": "stdout"
        },
        {
          "output_type": "stream",
          "text": [
            "INFO:ptsemseg:Iter [44280/50000]  Loss: 0.9854  Time/Image: 0.2125  lr=0.013215\n"
          ],
          "name": "stderr"
        },
        {
          "output_type": "stream",
          "text": [
            "Iter [44280/50000]  Loss: 0.9854  Time/Image: 0.2125  lr=0.013215\n"
          ],
          "name": "stdout"
        },
        {
          "output_type": "stream",
          "text": [
            "INFO:ptsemseg:Iter [44290/50000]  Loss: 0.9838  Time/Image: 0.2101  lr=0.013214\n"
          ],
          "name": "stderr"
        },
        {
          "output_type": "stream",
          "text": [
            "Iter [44290/50000]  Loss: 0.9838  Time/Image: 0.2101  lr=0.013214\n"
          ],
          "name": "stdout"
        },
        {
          "output_type": "stream",
          "text": [
            "INFO:ptsemseg:Iter [44300/50000]  Loss: 0.9850  Time/Image: 0.2152  lr=0.013212\n"
          ],
          "name": "stderr"
        },
        {
          "output_type": "stream",
          "text": [
            "Iter [44300/50000]  Loss: 0.9850  Time/Image: 0.2152  lr=0.013212\n"
          ],
          "name": "stdout"
        },
        {
          "output_type": "stream",
          "text": [
            "INFO:ptsemseg:Iter [44310/50000]  Loss: 0.9870  Time/Image: 0.2097  lr=0.013211\n"
          ],
          "name": "stderr"
        },
        {
          "output_type": "stream",
          "text": [
            "Iter [44310/50000]  Loss: 0.9870  Time/Image: 0.2097  lr=0.013211\n"
          ],
          "name": "stdout"
        },
        {
          "output_type": "stream",
          "text": [
            "INFO:ptsemseg:Iter [44320/50000]  Loss: 0.9863  Time/Image: 0.2176  lr=0.013209\n"
          ],
          "name": "stderr"
        },
        {
          "output_type": "stream",
          "text": [
            "Iter [44320/50000]  Loss: 0.9863  Time/Image: 0.2176  lr=0.013209\n"
          ],
          "name": "stdout"
        },
        {
          "output_type": "stream",
          "text": [
            "INFO:ptsemseg:Iter [44330/50000]  Loss: 0.9862  Time/Image: 0.2145  lr=0.013207\n"
          ],
          "name": "stderr"
        },
        {
          "output_type": "stream",
          "text": [
            "Iter [44330/50000]  Loss: 0.9862  Time/Image: 0.2145  lr=0.013207\n"
          ],
          "name": "stdout"
        },
        {
          "output_type": "stream",
          "text": [
            "INFO:ptsemseg:Iter [44340/50000]  Loss: 0.9875  Time/Image: 0.2175  lr=0.013206\n"
          ],
          "name": "stderr"
        },
        {
          "output_type": "stream",
          "text": [
            "Iter [44340/50000]  Loss: 0.9875  Time/Image: 0.2175  lr=0.013206\n"
          ],
          "name": "stdout"
        },
        {
          "output_type": "stream",
          "text": [
            "INFO:ptsemseg:Iter [44350/50000]  Loss: 0.9839  Time/Image: 0.2111  lr=0.013204\n"
          ],
          "name": "stderr"
        },
        {
          "output_type": "stream",
          "text": [
            "Iter [44350/50000]  Loss: 0.9839  Time/Image: 0.2111  lr=0.013204\n"
          ],
          "name": "stdout"
        },
        {
          "output_type": "stream",
          "text": [
            "INFO:ptsemseg:Iter [44360/50000]  Loss: 0.9855  Time/Image: 0.2121  lr=0.013203\n"
          ],
          "name": "stderr"
        },
        {
          "output_type": "stream",
          "text": [
            "Iter [44360/50000]  Loss: 0.9855  Time/Image: 0.2121  lr=0.013203\n"
          ],
          "name": "stdout"
        },
        {
          "output_type": "stream",
          "text": [
            "INFO:ptsemseg:Iter [44370/50000]  Loss: 0.9857  Time/Image: 0.2107  lr=0.013201\n"
          ],
          "name": "stderr"
        },
        {
          "output_type": "stream",
          "text": [
            "Iter [44370/50000]  Loss: 0.9857  Time/Image: 0.2107  lr=0.013201\n"
          ],
          "name": "stdout"
        },
        {
          "output_type": "stream",
          "text": [
            "INFO:ptsemseg:Iter [44380/50000]  Loss: 0.9837  Time/Image: 0.2100  lr=0.013200\n"
          ],
          "name": "stderr"
        },
        {
          "output_type": "stream",
          "text": [
            "Iter [44380/50000]  Loss: 0.9837  Time/Image: 0.2100  lr=0.013200\n"
          ],
          "name": "stdout"
        },
        {
          "output_type": "stream",
          "text": [
            "INFO:ptsemseg:Iter [44390/50000]  Loss: 0.9834  Time/Image: 0.2210  lr=0.013198\n"
          ],
          "name": "stderr"
        },
        {
          "output_type": "stream",
          "text": [
            "Iter [44390/50000]  Loss: 0.9834  Time/Image: 0.2210  lr=0.013198\n"
          ],
          "name": "stdout"
        },
        {
          "output_type": "stream",
          "text": [
            "INFO:ptsemseg:Iter [44400/50000]  Loss: 0.9865  Time/Image: 0.2057  lr=0.013196\n"
          ],
          "name": "stderr"
        },
        {
          "output_type": "stream",
          "text": [
            "Iter [44400/50000]  Loss: 0.9865  Time/Image: 0.2057  lr=0.013196\n"
          ],
          "name": "stdout"
        },
        {
          "output_type": "stream",
          "text": [
            "INFO:ptsemseg:Iter [44410/50000]  Loss: 0.9859  Time/Image: 0.2140  lr=0.013195\n"
          ],
          "name": "stderr"
        },
        {
          "output_type": "stream",
          "text": [
            "Iter [44410/50000]  Loss: 0.9859  Time/Image: 0.2140  lr=0.013195\n"
          ],
          "name": "stdout"
        },
        {
          "output_type": "stream",
          "text": [
            "INFO:ptsemseg:Iter [44420/50000]  Loss: 0.9850  Time/Image: 0.2169  lr=0.013193\n"
          ],
          "name": "stderr"
        },
        {
          "output_type": "stream",
          "text": [
            "Iter [44420/50000]  Loss: 0.9850  Time/Image: 0.2169  lr=0.013193\n"
          ],
          "name": "stdout"
        },
        {
          "output_type": "stream",
          "text": [
            "INFO:ptsemseg:Iter [44430/50000]  Loss: 0.9860  Time/Image: 0.2149  lr=0.013192\n"
          ],
          "name": "stderr"
        },
        {
          "output_type": "stream",
          "text": [
            "Iter [44430/50000]  Loss: 0.9860  Time/Image: 0.2149  lr=0.013192\n"
          ],
          "name": "stdout"
        },
        {
          "output_type": "stream",
          "text": [
            "INFO:ptsemseg:Iter [44440/50000]  Loss: 0.9880  Time/Image: 0.2098  lr=0.013190\n"
          ],
          "name": "stderr"
        },
        {
          "output_type": "stream",
          "text": [
            "Iter [44440/50000]  Loss: 0.9880  Time/Image: 0.2098  lr=0.013190\n"
          ],
          "name": "stdout"
        },
        {
          "output_type": "stream",
          "text": [
            "INFO:ptsemseg:Iter [44450/50000]  Loss: 0.9876  Time/Image: 0.1791  lr=0.013189\n"
          ],
          "name": "stderr"
        },
        {
          "output_type": "stream",
          "text": [
            "Iter [44450/50000]  Loss: 0.9876  Time/Image: 0.1791  lr=0.013189\n"
          ],
          "name": "stdout"
        },
        {
          "output_type": "stream",
          "text": [
            "INFO:ptsemseg:Iter [44460/50000]  Loss: 0.9868  Time/Image: 0.2312  lr=0.013187\n"
          ],
          "name": "stderr"
        },
        {
          "output_type": "stream",
          "text": [
            "Iter [44460/50000]  Loss: 0.9868  Time/Image: 0.2312  lr=0.013187\n"
          ],
          "name": "stdout"
        },
        {
          "output_type": "stream",
          "text": [
            "INFO:ptsemseg:Iter [44470/50000]  Loss: 0.9876  Time/Image: 0.2331  lr=0.013185\n"
          ],
          "name": "stderr"
        },
        {
          "output_type": "stream",
          "text": [
            "Iter [44470/50000]  Loss: 0.9876  Time/Image: 0.2331  lr=0.013185\n"
          ],
          "name": "stdout"
        },
        {
          "output_type": "stream",
          "text": [
            "INFO:ptsemseg:Iter [44480/50000]  Loss: 0.9882  Time/Image: 0.2331  lr=0.013184\n"
          ],
          "name": "stderr"
        },
        {
          "output_type": "stream",
          "text": [
            "Iter [44480/50000]  Loss: 0.9882  Time/Image: 0.2331  lr=0.013184\n"
          ],
          "name": "stdout"
        },
        {
          "output_type": "stream",
          "text": [
            "INFO:ptsemseg:Iter [44490/50000]  Loss: 0.9870  Time/Image: 0.2297  lr=0.013182\n"
          ],
          "name": "stderr"
        },
        {
          "output_type": "stream",
          "text": [
            "Iter [44490/50000]  Loss: 0.9870  Time/Image: 0.2297  lr=0.013182\n"
          ],
          "name": "stdout"
        },
        {
          "output_type": "stream",
          "text": [
            "INFO:ptsemseg:Iter [44500/50000]  Loss: 0.9864  Time/Image: 0.2310  lr=0.013181\n"
          ],
          "name": "stderr"
        },
        {
          "output_type": "stream",
          "text": [
            "Iter [44500/50000]  Loss: 0.9864  Time/Image: 0.2310  lr=0.013181\n"
          ],
          "name": "stdout"
        },
        {
          "output_type": "stream",
          "text": [
            "84it [03:27,  2.47s/it]\n",
            "INFO:ptsemseg:Iter 44500 Val Loss: 1.0284\n",
            "INFO:ptsemseg:Overall Acc: \t: 0.9300182659675905\n",
            "INFO:ptsemseg:Mean Acc : \t: 0.639812217782091\n",
            "INFO:ptsemseg:FreqW Acc : \t: 0.8743308612655161\n",
            "INFO:ptsemseg:Mean IoU : \t: 0.5611622085581259\n",
            "INFO:ptsemseg:0: 0.9657857542798418\n",
            "INFO:ptsemseg:1: 0.7308375839257156\n",
            "INFO:ptsemseg:2: 0.8704276755598788\n",
            "INFO:ptsemseg:3: 0.313361741840508\n",
            "INFO:ptsemseg:4: 0.3867985544452415\n",
            "INFO:ptsemseg:5: 0.4607190778912839\n",
            "INFO:ptsemseg:6: 0.46006245403060164\n",
            "INFO:ptsemseg:7: 0.6280727275310567\n",
            "INFO:ptsemseg:8: 0.893587771378756\n",
            "INFO:ptsemseg:9: 0.4398940180977672\n",
            "INFO:ptsemseg:10: 0.8994524436420711\n",
            "INFO:ptsemseg:11: 0.6621375328298341\n",
            "INFO:ptsemseg:12: 0.4431727242313213\n",
            "INFO:ptsemseg:13: 0.8883752611887532\n",
            "INFO:ptsemseg:14: 0.18436625045307223\n",
            "INFO:ptsemseg:15: 0.4028198328596634\n",
            "INFO:ptsemseg:16: 0.2276331872155981\n",
            "INFO:ptsemseg:17: 0.1760494004234969\n",
            "INFO:ptsemseg:18: 0.6285279707799323\n"
          ],
          "name": "stderr"
        },
        {
          "output_type": "stream",
          "text": [
            "Overall Acc: \t 0.9300182659675905\n",
            "Mean Acc : \t 0.639812217782091\n",
            "FreqW Acc : \t 0.8743308612655161\n",
            "Mean IoU : \t 0.5611622085581259\n"
          ],
          "name": "stdout"
        },
        {
          "output_type": "stream",
          "text": [
            "INFO:ptsemseg:Iter [44510/50000]  Loss: 0.9087  Time/Image: 0.1997  lr=0.013179\n"
          ],
          "name": "stderr"
        },
        {
          "output_type": "stream",
          "text": [
            "Iter [44510/50000]  Loss: 0.9087  Time/Image: 0.1997  lr=0.013179\n"
          ],
          "name": "stdout"
        },
        {
          "output_type": "stream",
          "text": [
            "INFO:ptsemseg:Iter [44520/50000]  Loss: 0.9358  Time/Image: 0.2258  lr=0.013178\n"
          ],
          "name": "stderr"
        },
        {
          "output_type": "stream",
          "text": [
            "Iter [44520/50000]  Loss: 0.9358  Time/Image: 0.2258  lr=0.013178\n"
          ],
          "name": "stdout"
        },
        {
          "output_type": "stream",
          "text": [
            "INFO:ptsemseg:Iter [44530/50000]  Loss: 0.9702  Time/Image: 0.2297  lr=0.013176\n"
          ],
          "name": "stderr"
        },
        {
          "output_type": "stream",
          "text": [
            "Iter [44530/50000]  Loss: 0.9702  Time/Image: 0.2297  lr=0.013176\n"
          ],
          "name": "stdout"
        },
        {
          "output_type": "stream",
          "text": [
            "INFO:ptsemseg:Iter [44540/50000]  Loss: 1.0144  Time/Image: 0.2260  lr=0.013174\n"
          ],
          "name": "stderr"
        },
        {
          "output_type": "stream",
          "text": [
            "Iter [44540/50000]  Loss: 1.0144  Time/Image: 0.2260  lr=0.013174\n"
          ],
          "name": "stdout"
        },
        {
          "output_type": "stream",
          "text": [
            "INFO:ptsemseg:Iter [44550/50000]  Loss: 1.0259  Time/Image: 0.2220  lr=0.013173\n"
          ],
          "name": "stderr"
        },
        {
          "output_type": "stream",
          "text": [
            "Iter [44550/50000]  Loss: 1.0259  Time/Image: 0.2220  lr=0.013173\n"
          ],
          "name": "stdout"
        },
        {
          "output_type": "stream",
          "text": [
            "INFO:ptsemseg:Iter [44560/50000]  Loss: 1.0158  Time/Image: 0.2296  lr=0.013171\n"
          ],
          "name": "stderr"
        },
        {
          "output_type": "stream",
          "text": [
            "Iter [44560/50000]  Loss: 1.0158  Time/Image: 0.2296  lr=0.013171\n"
          ],
          "name": "stdout"
        },
        {
          "output_type": "stream",
          "text": [
            "INFO:ptsemseg:Iter [44570/50000]  Loss: 1.0131  Time/Image: 0.2256  lr=0.013170\n"
          ],
          "name": "stderr"
        },
        {
          "output_type": "stream",
          "text": [
            "Iter [44570/50000]  Loss: 1.0131  Time/Image: 0.2256  lr=0.013170\n"
          ],
          "name": "stdout"
        },
        {
          "output_type": "stream",
          "text": [
            "INFO:ptsemseg:Iter [44580/50000]  Loss: 1.0185  Time/Image: 0.2274  lr=0.013168\n"
          ],
          "name": "stderr"
        },
        {
          "output_type": "stream",
          "text": [
            "Iter [44580/50000]  Loss: 1.0185  Time/Image: 0.2274  lr=0.013168\n"
          ],
          "name": "stdout"
        },
        {
          "output_type": "stream",
          "text": [
            "INFO:ptsemseg:Iter [44590/50000]  Loss: 1.0172  Time/Image: 0.2280  lr=0.013167\n"
          ],
          "name": "stderr"
        },
        {
          "output_type": "stream",
          "text": [
            "Iter [44590/50000]  Loss: 1.0172  Time/Image: 0.2280  lr=0.013167\n"
          ],
          "name": "stdout"
        },
        {
          "output_type": "stream",
          "text": [
            "INFO:ptsemseg:Iter [44600/50000]  Loss: 1.0113  Time/Image: 0.2209  lr=0.013165\n"
          ],
          "name": "stderr"
        },
        {
          "output_type": "stream",
          "text": [
            "Iter [44600/50000]  Loss: 1.0113  Time/Image: 0.2209  lr=0.013165\n"
          ],
          "name": "stdout"
        },
        {
          "output_type": "stream",
          "text": [
            "INFO:ptsemseg:Iter [44610/50000]  Loss: 1.0082  Time/Image: 0.2314  lr=0.013163\n"
          ],
          "name": "stderr"
        },
        {
          "output_type": "stream",
          "text": [
            "Iter [44610/50000]  Loss: 1.0082  Time/Image: 0.2314  lr=0.013163\n"
          ],
          "name": "stdout"
        },
        {
          "output_type": "stream",
          "text": [
            "INFO:ptsemseg:Iter [44620/50000]  Loss: 1.0002  Time/Image: 0.2237  lr=0.013162\n"
          ],
          "name": "stderr"
        },
        {
          "output_type": "stream",
          "text": [
            "Iter [44620/50000]  Loss: 1.0002  Time/Image: 0.2237  lr=0.013162\n"
          ],
          "name": "stdout"
        },
        {
          "output_type": "stream",
          "text": [
            "INFO:ptsemseg:Iter [44630/50000]  Loss: 1.0030  Time/Image: 0.2195  lr=0.013160\n"
          ],
          "name": "stderr"
        },
        {
          "output_type": "stream",
          "text": [
            "Iter [44630/50000]  Loss: 1.0030  Time/Image: 0.2195  lr=0.013160\n"
          ],
          "name": "stdout"
        },
        {
          "output_type": "stream",
          "text": [
            "INFO:ptsemseg:Iter [44640/50000]  Loss: 0.9991  Time/Image: 0.2191  lr=0.013159\n"
          ],
          "name": "stderr"
        },
        {
          "output_type": "stream",
          "text": [
            "Iter [44640/50000]  Loss: 0.9991  Time/Image: 0.2191  lr=0.013159\n"
          ],
          "name": "stdout"
        },
        {
          "output_type": "stream",
          "text": [
            "INFO:ptsemseg:Iter [44650/50000]  Loss: 0.9995  Time/Image: 0.2302  lr=0.013157\n"
          ],
          "name": "stderr"
        },
        {
          "output_type": "stream",
          "text": [
            "Iter [44650/50000]  Loss: 0.9995  Time/Image: 0.2302  lr=0.013157\n"
          ],
          "name": "stdout"
        },
        {
          "output_type": "stream",
          "text": [
            "INFO:ptsemseg:Iter [44660/50000]  Loss: 0.9985  Time/Image: 0.2264  lr=0.013156\n"
          ],
          "name": "stderr"
        },
        {
          "output_type": "stream",
          "text": [
            "Iter [44660/50000]  Loss: 0.9985  Time/Image: 0.2264  lr=0.013156\n"
          ],
          "name": "stdout"
        },
        {
          "output_type": "stream",
          "text": [
            "INFO:ptsemseg:Iter [44670/50000]  Loss: 1.0015  Time/Image: 0.2259  lr=0.013154\n"
          ],
          "name": "stderr"
        },
        {
          "output_type": "stream",
          "text": [
            "Iter [44670/50000]  Loss: 1.0015  Time/Image: 0.2259  lr=0.013154\n"
          ],
          "name": "stdout"
        },
        {
          "output_type": "stream",
          "text": [
            "INFO:ptsemseg:Iter [44680/50000]  Loss: 0.9984  Time/Image: 0.2232  lr=0.013152\n"
          ],
          "name": "stderr"
        },
        {
          "output_type": "stream",
          "text": [
            "Iter [44680/50000]  Loss: 0.9984  Time/Image: 0.2232  lr=0.013152\n"
          ],
          "name": "stdout"
        },
        {
          "output_type": "stream",
          "text": [
            "INFO:ptsemseg:Iter [44690/50000]  Loss: 0.9944  Time/Image: 0.2258  lr=0.013151\n"
          ],
          "name": "stderr"
        },
        {
          "output_type": "stream",
          "text": [
            "Iter [44690/50000]  Loss: 0.9944  Time/Image: 0.2258  lr=0.013151\n"
          ],
          "name": "stdout"
        },
        {
          "output_type": "stream",
          "text": [
            "INFO:ptsemseg:Iter [44700/50000]  Loss: 0.9979  Time/Image: 0.2197  lr=0.013149\n"
          ],
          "name": "stderr"
        },
        {
          "output_type": "stream",
          "text": [
            "Iter [44700/50000]  Loss: 0.9979  Time/Image: 0.2197  lr=0.013149\n"
          ],
          "name": "stdout"
        },
        {
          "output_type": "stream",
          "text": [
            "INFO:ptsemseg:Iter [44710/50000]  Loss: 0.9950  Time/Image: 0.2202  lr=0.013148\n"
          ],
          "name": "stderr"
        },
        {
          "output_type": "stream",
          "text": [
            "Iter [44710/50000]  Loss: 0.9950  Time/Image: 0.2202  lr=0.013148\n"
          ],
          "name": "stdout"
        },
        {
          "output_type": "stream",
          "text": [
            "INFO:ptsemseg:Iter [44720/50000]  Loss: 0.9961  Time/Image: 0.2186  lr=0.013146\n"
          ],
          "name": "stderr"
        },
        {
          "output_type": "stream",
          "text": [
            "Iter [44720/50000]  Loss: 0.9961  Time/Image: 0.2186  lr=0.013146\n"
          ],
          "name": "stdout"
        },
        {
          "output_type": "stream",
          "text": [
            "INFO:ptsemseg:Iter [44730/50000]  Loss: 0.9977  Time/Image: 0.2166  lr=0.013145\n"
          ],
          "name": "stderr"
        },
        {
          "output_type": "stream",
          "text": [
            "Iter [44730/50000]  Loss: 0.9977  Time/Image: 0.2166  lr=0.013145\n"
          ],
          "name": "stdout"
        },
        {
          "output_type": "stream",
          "text": [
            "INFO:ptsemseg:Iter [44740/50000]  Loss: 0.9956  Time/Image: 0.2174  lr=0.013143\n"
          ],
          "name": "stderr"
        },
        {
          "output_type": "stream",
          "text": [
            "Iter [44740/50000]  Loss: 0.9956  Time/Image: 0.2174  lr=0.013143\n"
          ],
          "name": "stdout"
        },
        {
          "output_type": "stream",
          "text": [
            "INFO:ptsemseg:Iter [44750/50000]  Loss: 0.9957  Time/Image: 0.2156  lr=0.013141\n"
          ],
          "name": "stderr"
        },
        {
          "output_type": "stream",
          "text": [
            "Iter [44750/50000]  Loss: 0.9957  Time/Image: 0.2156  lr=0.013141\n"
          ],
          "name": "stdout"
        },
        {
          "output_type": "stream",
          "text": [
            "INFO:ptsemseg:Iter [44760/50000]  Loss: 0.9945  Time/Image: 0.2171  lr=0.013140\n"
          ],
          "name": "stderr"
        },
        {
          "output_type": "stream",
          "text": [
            "Iter [44760/50000]  Loss: 0.9945  Time/Image: 0.2171  lr=0.013140\n"
          ],
          "name": "stdout"
        },
        {
          "output_type": "stream",
          "text": [
            "INFO:ptsemseg:Iter [44770/50000]  Loss: 0.9953  Time/Image: 0.2171  lr=0.013138\n"
          ],
          "name": "stderr"
        },
        {
          "output_type": "stream",
          "text": [
            "Iter [44770/50000]  Loss: 0.9953  Time/Image: 0.2171  lr=0.013138\n"
          ],
          "name": "stdout"
        },
        {
          "output_type": "stream",
          "text": [
            "INFO:ptsemseg:Iter [44780/50000]  Loss: 0.9965  Time/Image: 0.2080  lr=0.013137\n"
          ],
          "name": "stderr"
        },
        {
          "output_type": "stream",
          "text": [
            "Iter [44780/50000]  Loss: 0.9965  Time/Image: 0.2080  lr=0.013137\n"
          ],
          "name": "stdout"
        },
        {
          "output_type": "stream",
          "text": [
            "INFO:ptsemseg:Iter [44790/50000]  Loss: 0.9947  Time/Image: 0.2131  lr=0.013135\n"
          ],
          "name": "stderr"
        },
        {
          "output_type": "stream",
          "text": [
            "Iter [44790/50000]  Loss: 0.9947  Time/Image: 0.2131  lr=0.013135\n"
          ],
          "name": "stdout"
        },
        {
          "output_type": "stream",
          "text": [
            "INFO:ptsemseg:Iter [44800/50000]  Loss: 0.9933  Time/Image: 0.2123  lr=0.013134\n"
          ],
          "name": "stderr"
        },
        {
          "output_type": "stream",
          "text": [
            "Iter [44800/50000]  Loss: 0.9933  Time/Image: 0.2123  lr=0.013134\n"
          ],
          "name": "stdout"
        },
        {
          "output_type": "stream",
          "text": [
            "INFO:ptsemseg:Iter [44810/50000]  Loss: 0.9922  Time/Image: 0.2053  lr=0.013132\n"
          ],
          "name": "stderr"
        },
        {
          "output_type": "stream",
          "text": [
            "Iter [44810/50000]  Loss: 0.9922  Time/Image: 0.2053  lr=0.013132\n"
          ],
          "name": "stdout"
        },
        {
          "output_type": "stream",
          "text": [
            "INFO:ptsemseg:Iter [44820/50000]  Loss: 0.9914  Time/Image: 0.2060  lr=0.013130\n"
          ],
          "name": "stderr"
        },
        {
          "output_type": "stream",
          "text": [
            "Iter [44820/50000]  Loss: 0.9914  Time/Image: 0.2060  lr=0.013130\n"
          ],
          "name": "stdout"
        },
        {
          "output_type": "stream",
          "text": [
            "INFO:ptsemseg:Iter [44830/50000]  Loss: 0.9890  Time/Image: 0.2070  lr=0.013129\n"
          ],
          "name": "stderr"
        },
        {
          "output_type": "stream",
          "text": [
            "Iter [44830/50000]  Loss: 0.9890  Time/Image: 0.2070  lr=0.013129\n"
          ],
          "name": "stdout"
        },
        {
          "output_type": "stream",
          "text": [
            "INFO:ptsemseg:Iter [44840/50000]  Loss: 0.9907  Time/Image: 0.2125  lr=0.013127\n"
          ],
          "name": "stderr"
        },
        {
          "output_type": "stream",
          "text": [
            "Iter [44840/50000]  Loss: 0.9907  Time/Image: 0.2125  lr=0.013127\n"
          ],
          "name": "stdout"
        },
        {
          "output_type": "stream",
          "text": [
            "INFO:ptsemseg:Iter [44850/50000]  Loss: 0.9889  Time/Image: 0.2094  lr=0.013126\n"
          ],
          "name": "stderr"
        },
        {
          "output_type": "stream",
          "text": [
            "Iter [44850/50000]  Loss: 0.9889  Time/Image: 0.2094  lr=0.013126\n"
          ],
          "name": "stdout"
        },
        {
          "output_type": "stream",
          "text": [
            "INFO:ptsemseg:Iter [44860/50000]  Loss: 0.9878  Time/Image: 0.2040  lr=0.013124\n"
          ],
          "name": "stderr"
        },
        {
          "output_type": "stream",
          "text": [
            "Iter [44860/50000]  Loss: 0.9878  Time/Image: 0.2040  lr=0.013124\n"
          ],
          "name": "stdout"
        },
        {
          "output_type": "stream",
          "text": [
            "INFO:ptsemseg:Iter [44870/50000]  Loss: 0.9882  Time/Image: 0.2088  lr=0.013123\n"
          ],
          "name": "stderr"
        },
        {
          "output_type": "stream",
          "text": [
            "Iter [44870/50000]  Loss: 0.9882  Time/Image: 0.2088  lr=0.013123\n"
          ],
          "name": "stdout"
        },
        {
          "output_type": "stream",
          "text": [
            "INFO:ptsemseg:Iter [44880/50000]  Loss: 0.9882  Time/Image: 0.2096  lr=0.013121\n"
          ],
          "name": "stderr"
        },
        {
          "output_type": "stream",
          "text": [
            "Iter [44880/50000]  Loss: 0.9882  Time/Image: 0.2096  lr=0.013121\n"
          ],
          "name": "stdout"
        },
        {
          "output_type": "stream",
          "text": [
            "INFO:ptsemseg:Iter [44890/50000]  Loss: 0.9886  Time/Image: 0.2109  lr=0.013119\n"
          ],
          "name": "stderr"
        },
        {
          "output_type": "stream",
          "text": [
            "Iter [44890/50000]  Loss: 0.9886  Time/Image: 0.2109  lr=0.013119\n"
          ],
          "name": "stdout"
        },
        {
          "output_type": "stream",
          "text": [
            "INFO:ptsemseg:Iter [44900/50000]  Loss: 0.9894  Time/Image: 0.2072  lr=0.013118\n"
          ],
          "name": "stderr"
        },
        {
          "output_type": "stream",
          "text": [
            "Iter [44900/50000]  Loss: 0.9894  Time/Image: 0.2072  lr=0.013118\n"
          ],
          "name": "stdout"
        },
        {
          "output_type": "stream",
          "text": [
            "INFO:ptsemseg:Iter [44910/50000]  Loss: 0.9902  Time/Image: 0.2092  lr=0.013116\n"
          ],
          "name": "stderr"
        },
        {
          "output_type": "stream",
          "text": [
            "Iter [44910/50000]  Loss: 0.9902  Time/Image: 0.2092  lr=0.013116\n"
          ],
          "name": "stdout"
        },
        {
          "output_type": "stream",
          "text": [
            "INFO:ptsemseg:Iter [44920/50000]  Loss: 0.9911  Time/Image: 0.2072  lr=0.013115\n"
          ],
          "name": "stderr"
        },
        {
          "output_type": "stream",
          "text": [
            "Iter [44920/50000]  Loss: 0.9911  Time/Image: 0.2072  lr=0.013115\n"
          ],
          "name": "stdout"
        },
        {
          "output_type": "stream",
          "text": [
            "INFO:ptsemseg:Iter [44930/50000]  Loss: 0.9890  Time/Image: 0.2131  lr=0.013113\n"
          ],
          "name": "stderr"
        },
        {
          "output_type": "stream",
          "text": [
            "Iter [44930/50000]  Loss: 0.9890  Time/Image: 0.2131  lr=0.013113\n"
          ],
          "name": "stdout"
        },
        {
          "output_type": "stream",
          "text": [
            "INFO:ptsemseg:Iter [44940/50000]  Loss: 0.9898  Time/Image: 0.1972  lr=0.013112\n"
          ],
          "name": "stderr"
        },
        {
          "output_type": "stream",
          "text": [
            "Iter [44940/50000]  Loss: 0.9898  Time/Image: 0.1972  lr=0.013112\n"
          ],
          "name": "stdout"
        },
        {
          "output_type": "stream",
          "text": [
            "INFO:ptsemseg:Iter [44950/50000]  Loss: 0.9897  Time/Image: 0.1986  lr=0.013110\n"
          ],
          "name": "stderr"
        },
        {
          "output_type": "stream",
          "text": [
            "Iter [44950/50000]  Loss: 0.9897  Time/Image: 0.1986  lr=0.013110\n"
          ],
          "name": "stdout"
        },
        {
          "output_type": "stream",
          "text": [
            "INFO:ptsemseg:Iter [44960/50000]  Loss: 0.9906  Time/Image: 0.2318  lr=0.013108\n"
          ],
          "name": "stderr"
        },
        {
          "output_type": "stream",
          "text": [
            "Iter [44960/50000]  Loss: 0.9906  Time/Image: 0.2318  lr=0.013108\n"
          ],
          "name": "stdout"
        },
        {
          "output_type": "stream",
          "text": [
            "INFO:ptsemseg:Iter [44970/50000]  Loss: 0.9892  Time/Image: 0.2353  lr=0.013107\n"
          ],
          "name": "stderr"
        },
        {
          "output_type": "stream",
          "text": [
            "Iter [44970/50000]  Loss: 0.9892  Time/Image: 0.2353  lr=0.013107\n"
          ],
          "name": "stdout"
        },
        {
          "output_type": "stream",
          "text": [
            "INFO:ptsemseg:Iter [44980/50000]  Loss: 0.9886  Time/Image: 0.2338  lr=0.013105\n"
          ],
          "name": "stderr"
        },
        {
          "output_type": "stream",
          "text": [
            "Iter [44980/50000]  Loss: 0.9886  Time/Image: 0.2338  lr=0.013105\n"
          ],
          "name": "stdout"
        },
        {
          "output_type": "stream",
          "text": [
            "INFO:ptsemseg:Iter [44990/50000]  Loss: 0.9884  Time/Image: 0.2339  lr=0.013104\n"
          ],
          "name": "stderr"
        },
        {
          "output_type": "stream",
          "text": [
            "Iter [44990/50000]  Loss: 0.9884  Time/Image: 0.2339  lr=0.013104\n"
          ],
          "name": "stdout"
        },
        {
          "output_type": "stream",
          "text": [
            "INFO:ptsemseg:Iter [45000/50000]  Loss: 0.9900  Time/Image: 0.2342  lr=0.013102\n"
          ],
          "name": "stderr"
        },
        {
          "output_type": "stream",
          "text": [
            "Iter [45000/50000]  Loss: 0.9900  Time/Image: 0.2342  lr=0.013102\n"
          ],
          "name": "stdout"
        },
        {
          "output_type": "stream",
          "text": [
            "84it [03:32,  2.52s/it]\n",
            "INFO:ptsemseg:Iter 45000 Val Loss: 1.0250\n",
            "INFO:ptsemseg:Overall Acc: \t: 0.9283947163686903\n",
            "INFO:ptsemseg:Mean Acc : \t: 0.6680564432464945\n",
            "INFO:ptsemseg:FreqW Acc : \t: 0.8723858812321059\n",
            "INFO:ptsemseg:Mean IoU : \t: 0.5675325067011345\n",
            "INFO:ptsemseg:0: 0.9595962954506424\n",
            "INFO:ptsemseg:1: 0.7133360765988991\n",
            "INFO:ptsemseg:2: 0.880563302128027\n",
            "INFO:ptsemseg:3: 0.3471556255327805\n",
            "INFO:ptsemseg:4: 0.4117801127103469\n",
            "INFO:ptsemseg:5: 0.48194876019173677\n",
            "INFO:ptsemseg:6: 0.4596782247275079\n",
            "INFO:ptsemseg:7: 0.6242719463721426\n",
            "INFO:ptsemseg:8: 0.8863125674740531\n",
            "INFO:ptsemseg:9: 0.539199146628821\n",
            "INFO:ptsemseg:10: 0.9183614965943321\n",
            "INFO:ptsemseg:11: 0.6650652975534812\n",
            "INFO:ptsemseg:12: 0.4273676804920376\n",
            "INFO:ptsemseg:13: 0.8631296151658611\n",
            "INFO:ptsemseg:14: 0.0917246704981444\n",
            "INFO:ptsemseg:15: 0.39154560062122035\n",
            "INFO:ptsemseg:16: 0.22266121113199053\n",
            "INFO:ptsemseg:17: 0.2609280982581586\n",
            "INFO:ptsemseg:18: 0.6384918991913722\n"
          ],
          "name": "stderr"
        },
        {
          "output_type": "stream",
          "text": [
            "Overall Acc: \t 0.9283947163686903\n",
            "Mean Acc : \t 0.6680564432464945\n",
            "FreqW Acc : \t 0.8723858812321059\n",
            "Mean IoU : \t 0.5675325067011345\n"
          ],
          "name": "stdout"
        },
        {
          "output_type": "stream",
          "text": [
            "INFO:ptsemseg:Iter [45010/50000]  Loss: 0.9529  Time/Image: 0.2090  lr=0.013101\n"
          ],
          "name": "stderr"
        },
        {
          "output_type": "stream",
          "text": [
            "Iter [45010/50000]  Loss: 0.9529  Time/Image: 0.2090  lr=0.013101\n"
          ],
          "name": "stdout"
        },
        {
          "output_type": "stream",
          "text": [
            "INFO:ptsemseg:Iter [45020/50000]  Loss: 0.9482  Time/Image: 0.2266  lr=0.013099\n"
          ],
          "name": "stderr"
        },
        {
          "output_type": "stream",
          "text": [
            "Iter [45020/50000]  Loss: 0.9482  Time/Image: 0.2266  lr=0.013099\n"
          ],
          "name": "stdout"
        },
        {
          "output_type": "stream",
          "text": [
            "INFO:ptsemseg:Iter [45030/50000]  Loss: 0.9786  Time/Image: 0.2235  lr=0.013097\n"
          ],
          "name": "stderr"
        },
        {
          "output_type": "stream",
          "text": [
            "Iter [45030/50000]  Loss: 0.9786  Time/Image: 0.2235  lr=0.013097\n"
          ],
          "name": "stdout"
        },
        {
          "output_type": "stream",
          "text": [
            "INFO:ptsemseg:Iter [45040/50000]  Loss: 0.9941  Time/Image: 0.2218  lr=0.013096\n"
          ],
          "name": "stderr"
        },
        {
          "output_type": "stream",
          "text": [
            "Iter [45040/50000]  Loss: 0.9941  Time/Image: 0.2218  lr=0.013096\n"
          ],
          "name": "stdout"
        },
        {
          "output_type": "stream",
          "text": [
            "INFO:ptsemseg:Iter [45050/50000]  Loss: 0.9884  Time/Image: 0.2236  lr=0.013094\n"
          ],
          "name": "stderr"
        },
        {
          "output_type": "stream",
          "text": [
            "Iter [45050/50000]  Loss: 0.9884  Time/Image: 0.2236  lr=0.013094\n"
          ],
          "name": "stdout"
        },
        {
          "output_type": "stream",
          "text": [
            "INFO:ptsemseg:Iter [45060/50000]  Loss: 0.9932  Time/Image: 0.2247  lr=0.013093\n"
          ],
          "name": "stderr"
        },
        {
          "output_type": "stream",
          "text": [
            "Iter [45060/50000]  Loss: 0.9932  Time/Image: 0.2247  lr=0.013093\n"
          ],
          "name": "stdout"
        },
        {
          "output_type": "stream",
          "text": [
            "INFO:ptsemseg:Iter [45070/50000]  Loss: 1.0019  Time/Image: 0.2270  lr=0.013091\n"
          ],
          "name": "stderr"
        },
        {
          "output_type": "stream",
          "text": [
            "Iter [45070/50000]  Loss: 1.0019  Time/Image: 0.2270  lr=0.013091\n"
          ],
          "name": "stdout"
        },
        {
          "output_type": "stream",
          "text": [
            "INFO:ptsemseg:Iter [45080/50000]  Loss: 0.9932  Time/Image: 0.2218  lr=0.013090\n"
          ],
          "name": "stderr"
        },
        {
          "output_type": "stream",
          "text": [
            "Iter [45080/50000]  Loss: 0.9932  Time/Image: 0.2218  lr=0.013090\n"
          ],
          "name": "stdout"
        },
        {
          "output_type": "stream",
          "text": [
            "INFO:ptsemseg:Iter [45090/50000]  Loss: 0.9932  Time/Image: 0.2292  lr=0.013088\n"
          ],
          "name": "stderr"
        },
        {
          "output_type": "stream",
          "text": [
            "Iter [45090/50000]  Loss: 0.9932  Time/Image: 0.2292  lr=0.013088\n"
          ],
          "name": "stdout"
        },
        {
          "output_type": "stream",
          "text": [
            "INFO:ptsemseg:Iter [45100/50000]  Loss: 0.9912  Time/Image: 0.2259  lr=0.013086\n"
          ],
          "name": "stderr"
        },
        {
          "output_type": "stream",
          "text": [
            "Iter [45100/50000]  Loss: 0.9912  Time/Image: 0.2259  lr=0.013086\n"
          ],
          "name": "stdout"
        },
        {
          "output_type": "stream",
          "text": [
            "INFO:ptsemseg:Iter [45110/50000]  Loss: 0.9895  Time/Image: 0.2261  lr=0.013085\n"
          ],
          "name": "stderr"
        },
        {
          "output_type": "stream",
          "text": [
            "Iter [45110/50000]  Loss: 0.9895  Time/Image: 0.2261  lr=0.013085\n"
          ],
          "name": "stdout"
        },
        {
          "output_type": "stream",
          "text": [
            "INFO:ptsemseg:Iter [45120/50000]  Loss: 0.9867  Time/Image: 0.2242  lr=0.013083\n"
          ],
          "name": "stderr"
        },
        {
          "output_type": "stream",
          "text": [
            "Iter [45120/50000]  Loss: 0.9867  Time/Image: 0.2242  lr=0.013083\n"
          ],
          "name": "stdout"
        },
        {
          "output_type": "stream",
          "text": [
            "INFO:ptsemseg:Iter [45130/50000]  Loss: 0.9904  Time/Image: 0.2217  lr=0.013082\n"
          ],
          "name": "stderr"
        },
        {
          "output_type": "stream",
          "text": [
            "Iter [45130/50000]  Loss: 0.9904  Time/Image: 0.2217  lr=0.013082\n"
          ],
          "name": "stdout"
        },
        {
          "output_type": "stream",
          "text": [
            "INFO:ptsemseg:Iter [45140/50000]  Loss: 0.9883  Time/Image: 0.2176  lr=0.013080\n"
          ],
          "name": "stderr"
        },
        {
          "output_type": "stream",
          "text": [
            "Iter [45140/50000]  Loss: 0.9883  Time/Image: 0.2176  lr=0.013080\n"
          ],
          "name": "stdout"
        },
        {
          "output_type": "stream",
          "text": [
            "INFO:ptsemseg:Iter [45150/50000]  Loss: 0.9857  Time/Image: 0.2246  lr=0.013079\n"
          ],
          "name": "stderr"
        },
        {
          "output_type": "stream",
          "text": [
            "Iter [45150/50000]  Loss: 0.9857  Time/Image: 0.2246  lr=0.013079\n"
          ],
          "name": "stdout"
        },
        {
          "output_type": "stream",
          "text": [
            "INFO:ptsemseg:Iter [45160/50000]  Loss: 0.9880  Time/Image: 0.2224  lr=0.013077\n"
          ],
          "name": "stderr"
        },
        {
          "output_type": "stream",
          "text": [
            "Iter [45160/50000]  Loss: 0.9880  Time/Image: 0.2224  lr=0.013077\n"
          ],
          "name": "stdout"
        },
        {
          "output_type": "stream",
          "text": [
            "INFO:ptsemseg:Iter [45170/50000]  Loss: 0.9908  Time/Image: 0.2211  lr=0.013075\n"
          ],
          "name": "stderr"
        },
        {
          "output_type": "stream",
          "text": [
            "Iter [45170/50000]  Loss: 0.9908  Time/Image: 0.2211  lr=0.013075\n"
          ],
          "name": "stdout"
        },
        {
          "output_type": "stream",
          "text": [
            "INFO:ptsemseg:Iter [45180/50000]  Loss: 0.9822  Time/Image: 0.2238  lr=0.013074\n"
          ],
          "name": "stderr"
        },
        {
          "output_type": "stream",
          "text": [
            "Iter [45180/50000]  Loss: 0.9822  Time/Image: 0.2238  lr=0.013074\n"
          ],
          "name": "stdout"
        },
        {
          "output_type": "stream",
          "text": [
            "INFO:ptsemseg:Iter [45190/50000]  Loss: 0.9831  Time/Image: 0.2171  lr=0.013072\n"
          ],
          "name": "stderr"
        },
        {
          "output_type": "stream",
          "text": [
            "Iter [45190/50000]  Loss: 0.9831  Time/Image: 0.2171  lr=0.013072\n"
          ],
          "name": "stdout"
        },
        {
          "output_type": "stream",
          "text": [
            "INFO:ptsemseg:Iter [45200/50000]  Loss: 0.9859  Time/Image: 0.2168  lr=0.013071\n"
          ],
          "name": "stderr"
        },
        {
          "output_type": "stream",
          "text": [
            "Iter [45200/50000]  Loss: 0.9859  Time/Image: 0.2168  lr=0.013071\n"
          ],
          "name": "stdout"
        },
        {
          "output_type": "stream",
          "text": [
            "INFO:ptsemseg:Iter [45210/50000]  Loss: 0.9861  Time/Image: 0.2191  lr=0.013069\n"
          ],
          "name": "stderr"
        },
        {
          "output_type": "stream",
          "text": [
            "Iter [45210/50000]  Loss: 0.9861  Time/Image: 0.2191  lr=0.013069\n"
          ],
          "name": "stdout"
        },
        {
          "output_type": "stream",
          "text": [
            "INFO:ptsemseg:Iter [45220/50000]  Loss: 0.9851  Time/Image: 0.2187  lr=0.013068\n"
          ],
          "name": "stderr"
        },
        {
          "output_type": "stream",
          "text": [
            "Iter [45220/50000]  Loss: 0.9851  Time/Image: 0.2187  lr=0.013068\n"
          ],
          "name": "stdout"
        },
        {
          "output_type": "stream",
          "text": [
            "INFO:ptsemseg:Iter [45230/50000]  Loss: 0.9826  Time/Image: 0.2248  lr=0.013066\n"
          ],
          "name": "stderr"
        },
        {
          "output_type": "stream",
          "text": [
            "Iter [45230/50000]  Loss: 0.9826  Time/Image: 0.2248  lr=0.013066\n"
          ],
          "name": "stdout"
        },
        {
          "output_type": "stream",
          "text": [
            "INFO:ptsemseg:Iter [45240/50000]  Loss: 0.9822  Time/Image: 0.2225  lr=0.013064\n"
          ],
          "name": "stderr"
        },
        {
          "output_type": "stream",
          "text": [
            "Iter [45240/50000]  Loss: 0.9822  Time/Image: 0.2225  lr=0.013064\n"
          ],
          "name": "stdout"
        },
        {
          "output_type": "stream",
          "text": [
            "INFO:ptsemseg:Iter [45250/50000]  Loss: 0.9835  Time/Image: 0.2124  lr=0.013063\n"
          ],
          "name": "stderr"
        },
        {
          "output_type": "stream",
          "text": [
            "Iter [45250/50000]  Loss: 0.9835  Time/Image: 0.2124  lr=0.013063\n"
          ],
          "name": "stdout"
        },
        {
          "output_type": "stream",
          "text": [
            "INFO:ptsemseg:Iter [45260/50000]  Loss: 0.9840  Time/Image: 0.2177  lr=0.013061\n"
          ],
          "name": "stderr"
        },
        {
          "output_type": "stream",
          "text": [
            "Iter [45260/50000]  Loss: 0.9840  Time/Image: 0.2177  lr=0.013061\n"
          ],
          "name": "stdout"
        },
        {
          "output_type": "stream",
          "text": [
            "INFO:ptsemseg:Iter [45270/50000]  Loss: 0.9850  Time/Image: 0.2189  lr=0.013060\n"
          ],
          "name": "stderr"
        },
        {
          "output_type": "stream",
          "text": [
            "Iter [45270/50000]  Loss: 0.9850  Time/Image: 0.2189  lr=0.013060\n"
          ],
          "name": "stdout"
        },
        {
          "output_type": "stream",
          "text": [
            "INFO:ptsemseg:Iter [45280/50000]  Loss: 0.9836  Time/Image: 0.2176  lr=0.013058\n"
          ],
          "name": "stderr"
        },
        {
          "output_type": "stream",
          "text": [
            "Iter [45280/50000]  Loss: 0.9836  Time/Image: 0.2176  lr=0.013058\n"
          ],
          "name": "stdout"
        },
        {
          "output_type": "stream",
          "text": [
            "INFO:ptsemseg:Iter [45290/50000]  Loss: 0.9839  Time/Image: 0.2130  lr=0.013057\n"
          ],
          "name": "stderr"
        },
        {
          "output_type": "stream",
          "text": [
            "Iter [45290/50000]  Loss: 0.9839  Time/Image: 0.2130  lr=0.013057\n"
          ],
          "name": "stdout"
        },
        {
          "output_type": "stream",
          "text": [
            "INFO:ptsemseg:Iter [45300/50000]  Loss: 0.9870  Time/Image: 0.2069  lr=0.013055\n"
          ],
          "name": "stderr"
        },
        {
          "output_type": "stream",
          "text": [
            "Iter [45300/50000]  Loss: 0.9870  Time/Image: 0.2069  lr=0.013055\n"
          ],
          "name": "stdout"
        },
        {
          "output_type": "stream",
          "text": [
            "INFO:ptsemseg:Iter [45310/50000]  Loss: 0.9850  Time/Image: 0.2109  lr=0.013053\n"
          ],
          "name": "stderr"
        },
        {
          "output_type": "stream",
          "text": [
            "Iter [45310/50000]  Loss: 0.9850  Time/Image: 0.2109  lr=0.013053\n"
          ],
          "name": "stdout"
        },
        {
          "output_type": "stream",
          "text": [
            "INFO:ptsemseg:Iter [45320/50000]  Loss: 0.9869  Time/Image: 0.2115  lr=0.013052\n"
          ],
          "name": "stderr"
        },
        {
          "output_type": "stream",
          "text": [
            "Iter [45320/50000]  Loss: 0.9869  Time/Image: 0.2115  lr=0.013052\n"
          ],
          "name": "stdout"
        },
        {
          "output_type": "stream",
          "text": [
            "INFO:ptsemseg:Iter [45330/50000]  Loss: 0.9881  Time/Image: 0.2153  lr=0.013050\n"
          ],
          "name": "stderr"
        },
        {
          "output_type": "stream",
          "text": [
            "Iter [45330/50000]  Loss: 0.9881  Time/Image: 0.2153  lr=0.013050\n"
          ],
          "name": "stdout"
        },
        {
          "output_type": "stream",
          "text": [
            "INFO:ptsemseg:Iter [45340/50000]  Loss: 0.9863  Time/Image: 0.2128  lr=0.013049\n"
          ],
          "name": "stderr"
        },
        {
          "output_type": "stream",
          "text": [
            "Iter [45340/50000]  Loss: 0.9863  Time/Image: 0.2128  lr=0.013049\n"
          ],
          "name": "stdout"
        },
        {
          "output_type": "stream",
          "text": [
            "INFO:ptsemseg:Iter [45350/50000]  Loss: 0.9874  Time/Image: 0.2149  lr=0.013047\n"
          ],
          "name": "stderr"
        },
        {
          "output_type": "stream",
          "text": [
            "Iter [45350/50000]  Loss: 0.9874  Time/Image: 0.2149  lr=0.013047\n"
          ],
          "name": "stdout"
        },
        {
          "output_type": "stream",
          "text": [
            "INFO:ptsemseg:Iter [45360/50000]  Loss: 0.9866  Time/Image: 0.2065  lr=0.013046\n"
          ],
          "name": "stderr"
        },
        {
          "output_type": "stream",
          "text": [
            "Iter [45360/50000]  Loss: 0.9866  Time/Image: 0.2065  lr=0.013046\n"
          ],
          "name": "stdout"
        },
        {
          "output_type": "stream",
          "text": [
            "INFO:ptsemseg:Iter [45370/50000]  Loss: 0.9858  Time/Image: 0.2103  lr=0.013044\n"
          ],
          "name": "stderr"
        },
        {
          "output_type": "stream",
          "text": [
            "Iter [45370/50000]  Loss: 0.9858  Time/Image: 0.2103  lr=0.013044\n"
          ],
          "name": "stdout"
        },
        {
          "output_type": "stream",
          "text": [
            "INFO:ptsemseg:Iter [45380/50000]  Loss: 0.9862  Time/Image: 0.2084  lr=0.013042\n"
          ],
          "name": "stderr"
        },
        {
          "output_type": "stream",
          "text": [
            "Iter [45380/50000]  Loss: 0.9862  Time/Image: 0.2084  lr=0.013042\n"
          ],
          "name": "stdout"
        },
        {
          "output_type": "stream",
          "text": [
            "INFO:ptsemseg:Iter [45390/50000]  Loss: 0.9850  Time/Image: 0.2149  lr=0.013041\n"
          ],
          "name": "stderr"
        },
        {
          "output_type": "stream",
          "text": [
            "Iter [45390/50000]  Loss: 0.9850  Time/Image: 0.2149  lr=0.013041\n"
          ],
          "name": "stdout"
        },
        {
          "output_type": "stream",
          "text": [
            "INFO:ptsemseg:Iter [45400/50000]  Loss: 0.9862  Time/Image: 0.2130  lr=0.013039\n"
          ],
          "name": "stderr"
        },
        {
          "output_type": "stream",
          "text": [
            "Iter [45400/50000]  Loss: 0.9862  Time/Image: 0.2130  lr=0.013039\n"
          ],
          "name": "stdout"
        },
        {
          "output_type": "stream",
          "text": [
            "INFO:ptsemseg:Iter [45410/50000]  Loss: 0.9857  Time/Image: 0.2127  lr=0.013038\n"
          ],
          "name": "stderr"
        },
        {
          "output_type": "stream",
          "text": [
            "Iter [45410/50000]  Loss: 0.9857  Time/Image: 0.2127  lr=0.013038\n"
          ],
          "name": "stdout"
        },
        {
          "output_type": "stream",
          "text": [
            "INFO:ptsemseg:Iter [45420/50000]  Loss: 0.9861  Time/Image: 0.2113  lr=0.013036\n"
          ],
          "name": "stderr"
        },
        {
          "output_type": "stream",
          "text": [
            "Iter [45420/50000]  Loss: 0.9861  Time/Image: 0.2113  lr=0.013036\n"
          ],
          "name": "stdout"
        },
        {
          "output_type": "stream",
          "text": [
            "INFO:ptsemseg:Iter [45430/50000]  Loss: 0.9862  Time/Image: 0.2061  lr=0.013035\n"
          ],
          "name": "stderr"
        },
        {
          "output_type": "stream",
          "text": [
            "Iter [45430/50000]  Loss: 0.9862  Time/Image: 0.2061  lr=0.013035\n"
          ],
          "name": "stdout"
        },
        {
          "output_type": "stream",
          "text": [
            "INFO:ptsemseg:Iter [45440/50000]  Loss: 0.9876  Time/Image: 0.1883  lr=0.013033\n"
          ],
          "name": "stderr"
        },
        {
          "output_type": "stream",
          "text": [
            "Iter [45440/50000]  Loss: 0.9876  Time/Image: 0.1883  lr=0.013033\n"
          ],
          "name": "stdout"
        },
        {
          "output_type": "stream",
          "text": [
            "INFO:ptsemseg:Iter [45450/50000]  Loss: 0.9872  Time/Image: 0.2174  lr=0.013031\n"
          ],
          "name": "stderr"
        },
        {
          "output_type": "stream",
          "text": [
            "Iter [45450/50000]  Loss: 0.9872  Time/Image: 0.2174  lr=0.013031\n"
          ],
          "name": "stdout"
        },
        {
          "output_type": "stream",
          "text": [
            "INFO:ptsemseg:Iter [45460/50000]  Loss: 0.9858  Time/Image: 0.2330  lr=0.013030\n"
          ],
          "name": "stderr"
        },
        {
          "output_type": "stream",
          "text": [
            "Iter [45460/50000]  Loss: 0.9858  Time/Image: 0.2330  lr=0.013030\n"
          ],
          "name": "stdout"
        },
        {
          "output_type": "stream",
          "text": [
            "INFO:ptsemseg:Iter [45470/50000]  Loss: 0.9845  Time/Image: 0.2238  lr=0.013028\n"
          ],
          "name": "stderr"
        },
        {
          "output_type": "stream",
          "text": [
            "Iter [45470/50000]  Loss: 0.9845  Time/Image: 0.2238  lr=0.013028\n"
          ],
          "name": "stdout"
        },
        {
          "output_type": "stream",
          "text": [
            "INFO:ptsemseg:Iter [45480/50000]  Loss: 0.9858  Time/Image: 0.2279  lr=0.013027\n"
          ],
          "name": "stderr"
        },
        {
          "output_type": "stream",
          "text": [
            "Iter [45480/50000]  Loss: 0.9858  Time/Image: 0.2279  lr=0.013027\n"
          ],
          "name": "stdout"
        },
        {
          "output_type": "stream",
          "text": [
            "INFO:ptsemseg:Iter [45490/50000]  Loss: 0.9863  Time/Image: 0.2268  lr=0.013025\n"
          ],
          "name": "stderr"
        },
        {
          "output_type": "stream",
          "text": [
            "Iter [45490/50000]  Loss: 0.9863  Time/Image: 0.2268  lr=0.013025\n"
          ],
          "name": "stdout"
        },
        {
          "output_type": "stream",
          "text": [
            "INFO:ptsemseg:Iter [45500/50000]  Loss: 0.9896  Time/Image: 0.2279  lr=0.013024\n"
          ],
          "name": "stderr"
        },
        {
          "output_type": "stream",
          "text": [
            "Iter [45500/50000]  Loss: 0.9896  Time/Image: 0.2279  lr=0.013024\n"
          ],
          "name": "stdout"
        },
        {
          "output_type": "stream",
          "text": [
            "84it [03:24,  2.44s/it]\n",
            "INFO:ptsemseg:Iter 45500 Val Loss: 1.0188\n",
            "INFO:ptsemseg:Overall Acc: \t: 0.9140657577297768\n",
            "INFO:ptsemseg:Mean Acc : \t: 0.6158096755202099\n",
            "INFO:ptsemseg:FreqW Acc : \t: 0.8522215418311838\n",
            "INFO:ptsemseg:Mean IoU : \t: 0.5093424107065602\n",
            "INFO:ptsemseg:0: 0.9512815472599008\n",
            "INFO:ptsemseg:1: 0.7072246143416838\n",
            "INFO:ptsemseg:2: 0.8442586822819884\n",
            "INFO:ptsemseg:3: 0.09976653323177509\n",
            "INFO:ptsemseg:4: 0.25340002254973504\n",
            "INFO:ptsemseg:5: 0.48022769670876675\n",
            "INFO:ptsemseg:6: 0.43788559844879255\n",
            "INFO:ptsemseg:7: 0.5608698282167459\n",
            "INFO:ptsemseg:8: 0.8854072592623144\n",
            "INFO:ptsemseg:9: 0.39181987104024796\n",
            "INFO:ptsemseg:10: 0.8901091768613821\n",
            "INFO:ptsemseg:11: 0.6026444781693461\n",
            "INFO:ptsemseg:12: 0.2363086458436824\n",
            "INFO:ptsemseg:13: 0.8407158573750464\n",
            "INFO:ptsemseg:14: 0.22971806485366156\n",
            "INFO:ptsemseg:15: 0.3980529975819228\n",
            "INFO:ptsemseg:16: 0.11426035473617922\n",
            "INFO:ptsemseg:17: 0.16810863133429826\n",
            "INFO:ptsemseg:18: 0.585445943327174\n"
          ],
          "name": "stderr"
        },
        {
          "output_type": "stream",
          "text": [
            "Overall Acc: \t 0.9140657577297768\n",
            "Mean Acc : \t 0.6158096755202099\n",
            "FreqW Acc : \t 0.8522215418311838\n",
            "Mean IoU : \t 0.5093424107065602\n"
          ],
          "name": "stdout"
        },
        {
          "output_type": "stream",
          "text": [
            "INFO:ptsemseg:Iter [45510/50000]  Loss: 1.0608  Time/Image: 0.2088  lr=0.013022\n"
          ],
          "name": "stderr"
        },
        {
          "output_type": "stream",
          "text": [
            "Iter [45510/50000]  Loss: 1.0608  Time/Image: 0.2088  lr=0.013022\n"
          ],
          "name": "stdout"
        },
        {
          "output_type": "stream",
          "text": [
            "INFO:ptsemseg:Iter [45520/50000]  Loss: 1.0193  Time/Image: 0.2299  lr=0.013020\n"
          ],
          "name": "stderr"
        },
        {
          "output_type": "stream",
          "text": [
            "Iter [45520/50000]  Loss: 1.0193  Time/Image: 0.2299  lr=0.013020\n"
          ],
          "name": "stdout"
        },
        {
          "output_type": "stream",
          "text": [
            "INFO:ptsemseg:Iter [45530/50000]  Loss: 0.9983  Time/Image: 0.2313  lr=0.013019\n"
          ],
          "name": "stderr"
        },
        {
          "output_type": "stream",
          "text": [
            "Iter [45530/50000]  Loss: 0.9983  Time/Image: 0.2313  lr=0.013019\n"
          ],
          "name": "stdout"
        },
        {
          "output_type": "stream",
          "text": [
            "INFO:ptsemseg:Iter [45540/50000]  Loss: 1.0081  Time/Image: 0.2227  lr=0.013017\n"
          ],
          "name": "stderr"
        },
        {
          "output_type": "stream",
          "text": [
            "Iter [45540/50000]  Loss: 1.0081  Time/Image: 0.2227  lr=0.013017\n"
          ],
          "name": "stdout"
        },
        {
          "output_type": "stream",
          "text": [
            "INFO:ptsemseg:Iter [45550/50000]  Loss: 1.0014  Time/Image: 0.2235  lr=0.013016\n"
          ],
          "name": "stderr"
        },
        {
          "output_type": "stream",
          "text": [
            "Iter [45550/50000]  Loss: 1.0014  Time/Image: 0.2235  lr=0.013016\n"
          ],
          "name": "stdout"
        },
        {
          "output_type": "stream",
          "text": [
            "INFO:ptsemseg:Iter [45560/50000]  Loss: 1.0069  Time/Image: 0.2277  lr=0.013014\n"
          ],
          "name": "stderr"
        },
        {
          "output_type": "stream",
          "text": [
            "Iter [45560/50000]  Loss: 1.0069  Time/Image: 0.2277  lr=0.013014\n"
          ],
          "name": "stdout"
        },
        {
          "output_type": "stream",
          "text": [
            "INFO:ptsemseg:Iter [45570/50000]  Loss: 1.0209  Time/Image: 0.2227  lr=0.013013\n"
          ],
          "name": "stderr"
        },
        {
          "output_type": "stream",
          "text": [
            "Iter [45570/50000]  Loss: 1.0209  Time/Image: 0.2227  lr=0.013013\n"
          ],
          "name": "stdout"
        },
        {
          "output_type": "stream",
          "text": [
            "INFO:ptsemseg:Iter [45580/50000]  Loss: 1.0094  Time/Image: 0.2275  lr=0.013011\n"
          ],
          "name": "stderr"
        },
        {
          "output_type": "stream",
          "text": [
            "Iter [45580/50000]  Loss: 1.0094  Time/Image: 0.2275  lr=0.013011\n"
          ],
          "name": "stdout"
        },
        {
          "output_type": "stream",
          "text": [
            "INFO:ptsemseg:Iter [45590/50000]  Loss: 1.0121  Time/Image: 0.2243  lr=0.013009\n"
          ],
          "name": "stderr"
        },
        {
          "output_type": "stream",
          "text": [
            "Iter [45590/50000]  Loss: 1.0121  Time/Image: 0.2243  lr=0.013009\n"
          ],
          "name": "stdout"
        },
        {
          "output_type": "stream",
          "text": [
            "INFO:ptsemseg:Iter [45600/50000]  Loss: 0.9963  Time/Image: 0.2251  lr=0.013008\n"
          ],
          "name": "stderr"
        },
        {
          "output_type": "stream",
          "text": [
            "Iter [45600/50000]  Loss: 0.9963  Time/Image: 0.2251  lr=0.013008\n"
          ],
          "name": "stdout"
        },
        {
          "output_type": "stream",
          "text": [
            "INFO:ptsemseg:Iter [45610/50000]  Loss: 0.9957  Time/Image: 0.2250  lr=0.013006\n"
          ],
          "name": "stderr"
        },
        {
          "output_type": "stream",
          "text": [
            "Iter [45610/50000]  Loss: 0.9957  Time/Image: 0.2250  lr=0.013006\n"
          ],
          "name": "stdout"
        },
        {
          "output_type": "stream",
          "text": [
            "INFO:ptsemseg:Iter [45620/50000]  Loss: 0.9961  Time/Image: 0.2234  lr=0.013005\n"
          ],
          "name": "stderr"
        },
        {
          "output_type": "stream",
          "text": [
            "Iter [45620/50000]  Loss: 0.9961  Time/Image: 0.2234  lr=0.013005\n"
          ],
          "name": "stdout"
        },
        {
          "output_type": "stream",
          "text": [
            "INFO:ptsemseg:Iter [45630/50000]  Loss: 0.9954  Time/Image: 0.2239  lr=0.013003\n"
          ],
          "name": "stderr"
        },
        {
          "output_type": "stream",
          "text": [
            "Iter [45630/50000]  Loss: 0.9954  Time/Image: 0.2239  lr=0.013003\n"
          ],
          "name": "stdout"
        },
        {
          "output_type": "stream",
          "text": [
            "INFO:ptsemseg:Iter [45640/50000]  Loss: 0.9956  Time/Image: 0.2219  lr=0.013001\n"
          ],
          "name": "stderr"
        },
        {
          "output_type": "stream",
          "text": [
            "Iter [45640/50000]  Loss: 0.9956  Time/Image: 0.2219  lr=0.013001\n"
          ],
          "name": "stdout"
        },
        {
          "output_type": "stream",
          "text": [
            "INFO:ptsemseg:Iter [45650/50000]  Loss: 0.9969  Time/Image: 0.2244  lr=0.013000\n"
          ],
          "name": "stderr"
        },
        {
          "output_type": "stream",
          "text": [
            "Iter [45650/50000]  Loss: 0.9969  Time/Image: 0.2244  lr=0.013000\n"
          ],
          "name": "stdout"
        },
        {
          "output_type": "stream",
          "text": [
            "INFO:ptsemseg:Iter [45660/50000]  Loss: 0.9974  Time/Image: 0.2242  lr=0.012998\n"
          ],
          "name": "stderr"
        },
        {
          "output_type": "stream",
          "text": [
            "Iter [45660/50000]  Loss: 0.9974  Time/Image: 0.2242  lr=0.012998\n"
          ],
          "name": "stdout"
        },
        {
          "output_type": "stream",
          "text": [
            "INFO:ptsemseg:Iter [45670/50000]  Loss: 0.9978  Time/Image: 0.2218  lr=0.012997\n"
          ],
          "name": "stderr"
        },
        {
          "output_type": "stream",
          "text": [
            "Iter [45670/50000]  Loss: 0.9978  Time/Image: 0.2218  lr=0.012997\n"
          ],
          "name": "stdout"
        },
        {
          "output_type": "stream",
          "text": [
            "INFO:ptsemseg:Iter [45680/50000]  Loss: 0.9944  Time/Image: 0.2202  lr=0.012995\n"
          ],
          "name": "stderr"
        },
        {
          "output_type": "stream",
          "text": [
            "Iter [45680/50000]  Loss: 0.9944  Time/Image: 0.2202  lr=0.012995\n"
          ],
          "name": "stdout"
        },
        {
          "output_type": "stream",
          "text": [
            "INFO:ptsemseg:Iter [45690/50000]  Loss: 0.9893  Time/Image: 0.2245  lr=0.012994\n"
          ],
          "name": "stderr"
        },
        {
          "output_type": "stream",
          "text": [
            "Iter [45690/50000]  Loss: 0.9893  Time/Image: 0.2245  lr=0.012994\n"
          ],
          "name": "stdout"
        },
        {
          "output_type": "stream",
          "text": [
            "INFO:ptsemseg:Iter [45700/50000]  Loss: 0.9921  Time/Image: 0.2242  lr=0.012992\n"
          ],
          "name": "stderr"
        },
        {
          "output_type": "stream",
          "text": [
            "Iter [45700/50000]  Loss: 0.9921  Time/Image: 0.2242  lr=0.012992\n"
          ],
          "name": "stdout"
        },
        {
          "output_type": "stream",
          "text": [
            "INFO:ptsemseg:Iter [45710/50000]  Loss: 0.9889  Time/Image: 0.2203  lr=0.012990\n"
          ],
          "name": "stderr"
        },
        {
          "output_type": "stream",
          "text": [
            "Iter [45710/50000]  Loss: 0.9889  Time/Image: 0.2203  lr=0.012990\n"
          ],
          "name": "stdout"
        },
        {
          "output_type": "stream",
          "text": [
            "INFO:ptsemseg:Iter [45720/50000]  Loss: 0.9901  Time/Image: 0.2225  lr=0.012989\n"
          ],
          "name": "stderr"
        },
        {
          "output_type": "stream",
          "text": [
            "Iter [45720/50000]  Loss: 0.9901  Time/Image: 0.2225  lr=0.012989\n"
          ],
          "name": "stdout"
        },
        {
          "output_type": "stream",
          "text": [
            "INFO:ptsemseg:Iter [45730/50000]  Loss: 0.9890  Time/Image: 0.2166  lr=0.012987\n"
          ],
          "name": "stderr"
        },
        {
          "output_type": "stream",
          "text": [
            "Iter [45730/50000]  Loss: 0.9890  Time/Image: 0.2166  lr=0.012987\n"
          ],
          "name": "stdout"
        },
        {
          "output_type": "stream",
          "text": [
            "INFO:ptsemseg:Iter [45740/50000]  Loss: 0.9871  Time/Image: 0.2151  lr=0.012986\n"
          ],
          "name": "stderr"
        },
        {
          "output_type": "stream",
          "text": [
            "Iter [45740/50000]  Loss: 0.9871  Time/Image: 0.2151  lr=0.012986\n"
          ],
          "name": "stdout"
        },
        {
          "output_type": "stream",
          "text": [
            "INFO:ptsemseg:Iter [45750/50000]  Loss: 0.9885  Time/Image: 0.2190  lr=0.012984\n"
          ],
          "name": "stderr"
        },
        {
          "output_type": "stream",
          "text": [
            "Iter [45750/50000]  Loss: 0.9885  Time/Image: 0.2190  lr=0.012984\n"
          ],
          "name": "stdout"
        },
        {
          "output_type": "stream",
          "text": [
            "INFO:ptsemseg:Iter [45760/50000]  Loss: 0.9862  Time/Image: 0.2211  lr=0.012983\n"
          ],
          "name": "stderr"
        },
        {
          "output_type": "stream",
          "text": [
            "Iter [45760/50000]  Loss: 0.9862  Time/Image: 0.2211  lr=0.012983\n"
          ],
          "name": "stdout"
        },
        {
          "output_type": "stream",
          "text": [
            "INFO:ptsemseg:Iter [45770/50000]  Loss: 0.9882  Time/Image: 0.2212  lr=0.012981\n"
          ],
          "name": "stderr"
        },
        {
          "output_type": "stream",
          "text": [
            "Iter [45770/50000]  Loss: 0.9882  Time/Image: 0.2212  lr=0.012981\n"
          ],
          "name": "stdout"
        },
        {
          "output_type": "stream",
          "text": [
            "INFO:ptsemseg:Iter [45780/50000]  Loss: 0.9884  Time/Image: 0.2131  lr=0.012979\n"
          ],
          "name": "stderr"
        },
        {
          "output_type": "stream",
          "text": [
            "Iter [45780/50000]  Loss: 0.9884  Time/Image: 0.2131  lr=0.012979\n"
          ],
          "name": "stdout"
        },
        {
          "output_type": "stream",
          "text": [
            "INFO:ptsemseg:Iter [45790/50000]  Loss: 0.9868  Time/Image: 0.2161  lr=0.012978\n"
          ],
          "name": "stderr"
        },
        {
          "output_type": "stream",
          "text": [
            "Iter [45790/50000]  Loss: 0.9868  Time/Image: 0.2161  lr=0.012978\n"
          ],
          "name": "stdout"
        },
        {
          "output_type": "stream",
          "text": [
            "INFO:ptsemseg:Iter [45800/50000]  Loss: 0.9875  Time/Image: 0.2126  lr=0.012976\n"
          ],
          "name": "stderr"
        },
        {
          "output_type": "stream",
          "text": [
            "Iter [45800/50000]  Loss: 0.9875  Time/Image: 0.2126  lr=0.012976\n"
          ],
          "name": "stdout"
        },
        {
          "output_type": "stream",
          "text": [
            "INFO:ptsemseg:Iter [45810/50000]  Loss: 0.9891  Time/Image: 0.2185  lr=0.012975\n"
          ],
          "name": "stderr"
        },
        {
          "output_type": "stream",
          "text": [
            "Iter [45810/50000]  Loss: 0.9891  Time/Image: 0.2185  lr=0.012975\n"
          ],
          "name": "stdout"
        },
        {
          "output_type": "stream",
          "text": [
            "INFO:ptsemseg:Iter [45820/50000]  Loss: 0.9868  Time/Image: 0.2100  lr=0.012973\n"
          ],
          "name": "stderr"
        },
        {
          "output_type": "stream",
          "text": [
            "Iter [45820/50000]  Loss: 0.9868  Time/Image: 0.2100  lr=0.012973\n"
          ],
          "name": "stdout"
        },
        {
          "output_type": "stream",
          "text": [
            "INFO:ptsemseg:Iter [45830/50000]  Loss: 0.9875  Time/Image: 0.2145  lr=0.012972\n"
          ],
          "name": "stderr"
        },
        {
          "output_type": "stream",
          "text": [
            "Iter [45830/50000]  Loss: 0.9875  Time/Image: 0.2145  lr=0.012972\n"
          ],
          "name": "stdout"
        },
        {
          "output_type": "stream",
          "text": [
            "INFO:ptsemseg:Iter [45840/50000]  Loss: 0.9871  Time/Image: 0.2119  lr=0.012970\n"
          ],
          "name": "stderr"
        },
        {
          "output_type": "stream",
          "text": [
            "Iter [45840/50000]  Loss: 0.9871  Time/Image: 0.2119  lr=0.012970\n"
          ],
          "name": "stdout"
        },
        {
          "output_type": "stream",
          "text": [
            "INFO:ptsemseg:Iter [45850/50000]  Loss: 0.9863  Time/Image: 0.2150  lr=0.012968\n"
          ],
          "name": "stderr"
        },
        {
          "output_type": "stream",
          "text": [
            "Iter [45850/50000]  Loss: 0.9863  Time/Image: 0.2150  lr=0.012968\n"
          ],
          "name": "stdout"
        },
        {
          "output_type": "stream",
          "text": [
            "INFO:ptsemseg:Iter [45860/50000]  Loss: 0.9837  Time/Image: 0.2109  lr=0.012967\n"
          ],
          "name": "stderr"
        },
        {
          "output_type": "stream",
          "text": [
            "Iter [45860/50000]  Loss: 0.9837  Time/Image: 0.2109  lr=0.012967\n"
          ],
          "name": "stdout"
        },
        {
          "output_type": "stream",
          "text": [
            "INFO:ptsemseg:Iter [45870/50000]  Loss: 0.9861  Time/Image: 0.2117  lr=0.012965\n"
          ],
          "name": "stderr"
        },
        {
          "output_type": "stream",
          "text": [
            "Iter [45870/50000]  Loss: 0.9861  Time/Image: 0.2117  lr=0.012965\n"
          ],
          "name": "stdout"
        },
        {
          "output_type": "stream",
          "text": [
            "INFO:ptsemseg:Iter [45880/50000]  Loss: 0.9845  Time/Image: 0.2106  lr=0.012964\n"
          ],
          "name": "stderr"
        },
        {
          "output_type": "stream",
          "text": [
            "Iter [45880/50000]  Loss: 0.9845  Time/Image: 0.2106  lr=0.012964\n"
          ],
          "name": "stdout"
        },
        {
          "output_type": "stream",
          "text": [
            "INFO:ptsemseg:Iter [45890/50000]  Loss: 0.9854  Time/Image: 0.2021  lr=0.012962\n"
          ],
          "name": "stderr"
        },
        {
          "output_type": "stream",
          "text": [
            "Iter [45890/50000]  Loss: 0.9854  Time/Image: 0.2021  lr=0.012962\n"
          ],
          "name": "stdout"
        },
        {
          "output_type": "stream",
          "text": [
            "INFO:ptsemseg:Iter [45900/50000]  Loss: 0.9851  Time/Image: 0.2145  lr=0.012961\n"
          ],
          "name": "stderr"
        },
        {
          "output_type": "stream",
          "text": [
            "Iter [45900/50000]  Loss: 0.9851  Time/Image: 0.2145  lr=0.012961\n"
          ],
          "name": "stdout"
        },
        {
          "output_type": "stream",
          "text": [
            "INFO:ptsemseg:Iter [45910/50000]  Loss: 0.9841  Time/Image: 0.2071  lr=0.012959\n"
          ],
          "name": "stderr"
        },
        {
          "output_type": "stream",
          "text": [
            "Iter [45910/50000]  Loss: 0.9841  Time/Image: 0.2071  lr=0.012959\n"
          ],
          "name": "stdout"
        },
        {
          "output_type": "stream",
          "text": [
            "INFO:ptsemseg:Iter [45920/50000]  Loss: 0.9851  Time/Image: 0.2156  lr=0.012957\n"
          ],
          "name": "stderr"
        },
        {
          "output_type": "stream",
          "text": [
            "Iter [45920/50000]  Loss: 0.9851  Time/Image: 0.2156  lr=0.012957\n"
          ],
          "name": "stdout"
        },
        {
          "output_type": "stream",
          "text": [
            "INFO:ptsemseg:Iter [45930/50000]  Loss: 0.9859  Time/Image: 0.2075  lr=0.012956\n"
          ],
          "name": "stderr"
        },
        {
          "output_type": "stream",
          "text": [
            "Iter [45930/50000]  Loss: 0.9859  Time/Image: 0.2075  lr=0.012956\n"
          ],
          "name": "stdout"
        },
        {
          "output_type": "stream",
          "text": [
            "INFO:ptsemseg:Iter [45940/50000]  Loss: 0.9858  Time/Image: 0.1888  lr=0.012954\n"
          ],
          "name": "stderr"
        },
        {
          "output_type": "stream",
          "text": [
            "Iter [45940/50000]  Loss: 0.9858  Time/Image: 0.1888  lr=0.012954\n"
          ],
          "name": "stdout"
        },
        {
          "output_type": "stream",
          "text": [
            "INFO:ptsemseg:Iter [45950/50000]  Loss: 0.9854  Time/Image: 0.2319  lr=0.012953\n"
          ],
          "name": "stderr"
        },
        {
          "output_type": "stream",
          "text": [
            "Iter [45950/50000]  Loss: 0.9854  Time/Image: 0.2319  lr=0.012953\n"
          ],
          "name": "stdout"
        },
        {
          "output_type": "stream",
          "text": [
            "INFO:ptsemseg:Iter [45960/50000]  Loss: 0.9859  Time/Image: 0.2285  lr=0.012951\n"
          ],
          "name": "stderr"
        },
        {
          "output_type": "stream",
          "text": [
            "Iter [45960/50000]  Loss: 0.9859  Time/Image: 0.2285  lr=0.012951\n"
          ],
          "name": "stdout"
        },
        {
          "output_type": "stream",
          "text": [
            "INFO:ptsemseg:Iter [45970/50000]  Loss: 0.9859  Time/Image: 0.2310  lr=0.012950\n"
          ],
          "name": "stderr"
        },
        {
          "output_type": "stream",
          "text": [
            "Iter [45970/50000]  Loss: 0.9859  Time/Image: 0.2310  lr=0.012950\n"
          ],
          "name": "stdout"
        },
        {
          "output_type": "stream",
          "text": [
            "INFO:ptsemseg:Iter [45980/50000]  Loss: 0.9860  Time/Image: 0.2298  lr=0.012948\n"
          ],
          "name": "stderr"
        },
        {
          "output_type": "stream",
          "text": [
            "Iter [45980/50000]  Loss: 0.9860  Time/Image: 0.2298  lr=0.012948\n"
          ],
          "name": "stdout"
        },
        {
          "output_type": "stream",
          "text": [
            "INFO:ptsemseg:Iter [45990/50000]  Loss: 0.9871  Time/Image: 0.2285  lr=0.012946\n"
          ],
          "name": "stderr"
        },
        {
          "output_type": "stream",
          "text": [
            "Iter [45990/50000]  Loss: 0.9871  Time/Image: 0.2285  lr=0.012946\n"
          ],
          "name": "stdout"
        },
        {
          "output_type": "stream",
          "text": [
            "INFO:ptsemseg:Iter [46000/50000]  Loss: 0.9852  Time/Image: 0.2318  lr=0.012945\n"
          ],
          "name": "stderr"
        },
        {
          "output_type": "stream",
          "text": [
            "Iter [46000/50000]  Loss: 0.9852  Time/Image: 0.2318  lr=0.012945\n"
          ],
          "name": "stdout"
        },
        {
          "output_type": "stream",
          "text": [
            "84it [03:33,  2.54s/it]\n",
            "INFO:ptsemseg:Iter 46000 Val Loss: 0.9382\n",
            "INFO:ptsemseg:Overall Acc: \t: 0.92548478921672\n",
            "INFO:ptsemseg:Mean Acc : \t: 0.6562060744934304\n",
            "INFO:ptsemseg:FreqW Acc : \t: 0.8693962537055279\n",
            "INFO:ptsemseg:Mean IoU : \t: 0.557792735107746\n",
            "INFO:ptsemseg:0: 0.9530953770002155\n",
            "INFO:ptsemseg:1: 0.7016031137618987\n",
            "INFO:ptsemseg:2: 0.8722143866209735\n",
            "INFO:ptsemseg:3: 0.22962344278824204\n",
            "INFO:ptsemseg:4: 0.3535805791249328\n",
            "INFO:ptsemseg:5: 0.4713063497623275\n",
            "INFO:ptsemseg:6: 0.3699510399167218\n",
            "INFO:ptsemseg:7: 0.6412160685017887\n",
            "INFO:ptsemseg:8: 0.8883147525775461\n",
            "INFO:ptsemseg:9: 0.5332855765881405\n",
            "INFO:ptsemseg:10: 0.8972336011090939\n",
            "INFO:ptsemseg:11: 0.7097150449871479\n",
            "INFO:ptsemseg:12: 0.4428597229927195\n",
            "INFO:ptsemseg:13: 0.9003268080298001\n",
            "INFO:ptsemseg:14: 0.3504224821809265\n",
            "INFO:ptsemseg:15: 0.519626297195849\n",
            "INFO:ptsemseg:16: 0.044267758228589665\n",
            "INFO:ptsemseg:17: 0.09287743468316531\n",
            "INFO:ptsemseg:18: 0.6265421309970934\n"
          ],
          "name": "stderr"
        },
        {
          "output_type": "stream",
          "text": [
            "Overall Acc: \t 0.92548478921672\n",
            "Mean Acc : \t 0.6562060744934304\n",
            "FreqW Acc : \t 0.8693962537055279\n",
            "Mean IoU : \t 0.557792735107746\n"
          ],
          "name": "stdout"
        },
        {
          "output_type": "stream",
          "text": [
            "INFO:ptsemseg:Iter [46010/50000]  Loss: 0.9890  Time/Image: 0.2004  lr=0.012943\n"
          ],
          "name": "stderr"
        },
        {
          "output_type": "stream",
          "text": [
            "Iter [46010/50000]  Loss: 0.9890  Time/Image: 0.2004  lr=0.012943\n"
          ],
          "name": "stdout"
        },
        {
          "output_type": "stream",
          "text": [
            "INFO:ptsemseg:Iter [46020/50000]  Loss: 0.9620  Time/Image: 0.2228  lr=0.012942\n"
          ],
          "name": "stderr"
        },
        {
          "output_type": "stream",
          "text": [
            "Iter [46020/50000]  Loss: 0.9620  Time/Image: 0.2228  lr=0.012942\n"
          ],
          "name": "stdout"
        },
        {
          "output_type": "stream",
          "text": [
            "INFO:ptsemseg:Iter [46030/50000]  Loss: 0.9584  Time/Image: 0.2265  lr=0.012940\n"
          ],
          "name": "stderr"
        },
        {
          "output_type": "stream",
          "text": [
            "Iter [46030/50000]  Loss: 0.9584  Time/Image: 0.2265  lr=0.012940\n"
          ],
          "name": "stdout"
        },
        {
          "output_type": "stream",
          "text": [
            "INFO:ptsemseg:Iter [46040/50000]  Loss: 0.9856  Time/Image: 0.2266  lr=0.012939\n"
          ],
          "name": "stderr"
        },
        {
          "output_type": "stream",
          "text": [
            "Iter [46040/50000]  Loss: 0.9856  Time/Image: 0.2266  lr=0.012939\n"
          ],
          "name": "stdout"
        },
        {
          "output_type": "stream",
          "text": [
            "INFO:ptsemseg:Iter [46050/50000]  Loss: 0.9854  Time/Image: 0.2285  lr=0.012937\n"
          ],
          "name": "stderr"
        },
        {
          "output_type": "stream",
          "text": [
            "Iter [46050/50000]  Loss: 0.9854  Time/Image: 0.2285  lr=0.012937\n"
          ],
          "name": "stdout"
        },
        {
          "output_type": "stream",
          "text": [
            "INFO:ptsemseg:Iter [46060/50000]  Loss: 0.9783  Time/Image: 0.2283  lr=0.012935\n"
          ],
          "name": "stderr"
        },
        {
          "output_type": "stream",
          "text": [
            "Iter [46060/50000]  Loss: 0.9783  Time/Image: 0.2283  lr=0.012935\n"
          ],
          "name": "stdout"
        },
        {
          "output_type": "stream",
          "text": [
            "INFO:ptsemseg:Iter [46070/50000]  Loss: 0.9810  Time/Image: 0.2294  lr=0.012934\n"
          ],
          "name": "stderr"
        },
        {
          "output_type": "stream",
          "text": [
            "Iter [46070/50000]  Loss: 0.9810  Time/Image: 0.2294  lr=0.012934\n"
          ],
          "name": "stdout"
        },
        {
          "output_type": "stream",
          "text": [
            "INFO:ptsemseg:Iter [46080/50000]  Loss: 0.9806  Time/Image: 0.2246  lr=0.012932\n"
          ],
          "name": "stderr"
        },
        {
          "output_type": "stream",
          "text": [
            "Iter [46080/50000]  Loss: 0.9806  Time/Image: 0.2246  lr=0.012932\n"
          ],
          "name": "stdout"
        },
        {
          "output_type": "stream",
          "text": [
            "INFO:ptsemseg:Iter [46090/50000]  Loss: 0.9782  Time/Image: 0.2209  lr=0.012931\n"
          ],
          "name": "stderr"
        },
        {
          "output_type": "stream",
          "text": [
            "Iter [46090/50000]  Loss: 0.9782  Time/Image: 0.2209  lr=0.012931\n"
          ],
          "name": "stdout"
        },
        {
          "output_type": "stream",
          "text": [
            "INFO:ptsemseg:Iter [46100/50000]  Loss: 0.9717  Time/Image: 0.2295  lr=0.012929\n"
          ],
          "name": "stderr"
        },
        {
          "output_type": "stream",
          "text": [
            "Iter [46100/50000]  Loss: 0.9717  Time/Image: 0.2295  lr=0.012929\n"
          ],
          "name": "stdout"
        },
        {
          "output_type": "stream",
          "text": [
            "INFO:ptsemseg:Iter [46110/50000]  Loss: 0.9726  Time/Image: 0.2279  lr=0.012928\n"
          ],
          "name": "stderr"
        },
        {
          "output_type": "stream",
          "text": [
            "Iter [46110/50000]  Loss: 0.9726  Time/Image: 0.2279  lr=0.012928\n"
          ],
          "name": "stdout"
        },
        {
          "output_type": "stream",
          "text": [
            "INFO:ptsemseg:Iter [46120/50000]  Loss: 0.9759  Time/Image: 0.2241  lr=0.012926\n"
          ],
          "name": "stderr"
        },
        {
          "output_type": "stream",
          "text": [
            "Iter [46120/50000]  Loss: 0.9759  Time/Image: 0.2241  lr=0.012926\n"
          ],
          "name": "stdout"
        },
        {
          "output_type": "stream",
          "text": [
            "INFO:ptsemseg:Iter [46130/50000]  Loss: 0.9796  Time/Image: 0.2249  lr=0.012924\n"
          ],
          "name": "stderr"
        },
        {
          "output_type": "stream",
          "text": [
            "Iter [46130/50000]  Loss: 0.9796  Time/Image: 0.2249  lr=0.012924\n"
          ],
          "name": "stdout"
        },
        {
          "output_type": "stream",
          "text": [
            "INFO:ptsemseg:Iter [46140/50000]  Loss: 0.9790  Time/Image: 0.2222  lr=0.012923\n"
          ],
          "name": "stderr"
        },
        {
          "output_type": "stream",
          "text": [
            "Iter [46140/50000]  Loss: 0.9790  Time/Image: 0.2222  lr=0.012923\n"
          ],
          "name": "stdout"
        },
        {
          "output_type": "stream",
          "text": [
            "INFO:ptsemseg:Iter [46150/50000]  Loss: 0.9781  Time/Image: 0.2223  lr=0.012921\n"
          ],
          "name": "stderr"
        },
        {
          "output_type": "stream",
          "text": [
            "Iter [46150/50000]  Loss: 0.9781  Time/Image: 0.2223  lr=0.012921\n"
          ],
          "name": "stdout"
        },
        {
          "output_type": "stream",
          "text": [
            "INFO:ptsemseg:Iter [46160/50000]  Loss: 0.9759  Time/Image: 0.2294  lr=0.012920\n"
          ],
          "name": "stderr"
        },
        {
          "output_type": "stream",
          "text": [
            "Iter [46160/50000]  Loss: 0.9759  Time/Image: 0.2294  lr=0.012920\n"
          ],
          "name": "stdout"
        },
        {
          "output_type": "stream",
          "text": [
            "INFO:ptsemseg:Iter [46170/50000]  Loss: 0.9737  Time/Image: 0.2262  lr=0.012918\n"
          ],
          "name": "stderr"
        },
        {
          "output_type": "stream",
          "text": [
            "Iter [46170/50000]  Loss: 0.9737  Time/Image: 0.2262  lr=0.012918\n"
          ],
          "name": "stdout"
        },
        {
          "output_type": "stream",
          "text": [
            "INFO:ptsemseg:Iter [46180/50000]  Loss: 0.9695  Time/Image: 0.2254  lr=0.012916\n"
          ],
          "name": "stderr"
        },
        {
          "output_type": "stream",
          "text": [
            "Iter [46180/50000]  Loss: 0.9695  Time/Image: 0.2254  lr=0.012916\n"
          ],
          "name": "stdout"
        },
        {
          "output_type": "stream",
          "text": [
            "INFO:ptsemseg:Iter [46190/50000]  Loss: 0.9728  Time/Image: 0.2232  lr=0.012915\n"
          ],
          "name": "stderr"
        },
        {
          "output_type": "stream",
          "text": [
            "Iter [46190/50000]  Loss: 0.9728  Time/Image: 0.2232  lr=0.012915\n"
          ],
          "name": "stdout"
        },
        {
          "output_type": "stream",
          "text": [
            "INFO:ptsemseg:Iter [46200/50000]  Loss: 0.9693  Time/Image: 0.2243  lr=0.012913\n"
          ],
          "name": "stderr"
        },
        {
          "output_type": "stream",
          "text": [
            "Iter [46200/50000]  Loss: 0.9693  Time/Image: 0.2243  lr=0.012913\n"
          ],
          "name": "stdout"
        },
        {
          "output_type": "stream",
          "text": [
            "INFO:ptsemseg:Iter [46210/50000]  Loss: 0.9722  Time/Image: 0.2228  lr=0.012912\n"
          ],
          "name": "stderr"
        },
        {
          "output_type": "stream",
          "text": [
            "Iter [46210/50000]  Loss: 0.9722  Time/Image: 0.2228  lr=0.012912\n"
          ],
          "name": "stdout"
        },
        {
          "output_type": "stream",
          "text": [
            "INFO:ptsemseg:Iter [46220/50000]  Loss: 0.9705  Time/Image: 0.2231  lr=0.012910\n"
          ],
          "name": "stderr"
        },
        {
          "output_type": "stream",
          "text": [
            "Iter [46220/50000]  Loss: 0.9705  Time/Image: 0.2231  lr=0.012910\n"
          ],
          "name": "stdout"
        },
        {
          "output_type": "stream",
          "text": [
            "INFO:ptsemseg:Iter [46230/50000]  Loss: 0.9738  Time/Image: 0.2154  lr=0.012909\n"
          ],
          "name": "stderr"
        },
        {
          "output_type": "stream",
          "text": [
            "Iter [46230/50000]  Loss: 0.9738  Time/Image: 0.2154  lr=0.012909\n"
          ],
          "name": "stdout"
        },
        {
          "output_type": "stream",
          "text": [
            "INFO:ptsemseg:Iter [46240/50000]  Loss: 0.9738  Time/Image: 0.2194  lr=0.012907\n"
          ],
          "name": "stderr"
        },
        {
          "output_type": "stream",
          "text": [
            "Iter [46240/50000]  Loss: 0.9738  Time/Image: 0.2194  lr=0.012907\n"
          ],
          "name": "stdout"
        },
        {
          "output_type": "stream",
          "text": [
            "INFO:ptsemseg:Iter [46250/50000]  Loss: 0.9726  Time/Image: 0.2146  lr=0.012905\n"
          ],
          "name": "stderr"
        },
        {
          "output_type": "stream",
          "text": [
            "Iter [46250/50000]  Loss: 0.9726  Time/Image: 0.2146  lr=0.012905\n"
          ],
          "name": "stdout"
        },
        {
          "output_type": "stream",
          "text": [
            "INFO:ptsemseg:Iter [46260/50000]  Loss: 0.9724  Time/Image: 0.2167  lr=0.012904\n"
          ],
          "name": "stderr"
        },
        {
          "output_type": "stream",
          "text": [
            "Iter [46260/50000]  Loss: 0.9724  Time/Image: 0.2167  lr=0.012904\n"
          ],
          "name": "stdout"
        },
        {
          "output_type": "stream",
          "text": [
            "INFO:ptsemseg:Iter [46270/50000]  Loss: 0.9767  Time/Image: 0.2190  lr=0.012902\n"
          ],
          "name": "stderr"
        },
        {
          "output_type": "stream",
          "text": [
            "Iter [46270/50000]  Loss: 0.9767  Time/Image: 0.2190  lr=0.012902\n"
          ],
          "name": "stdout"
        },
        {
          "output_type": "stream",
          "text": [
            "INFO:ptsemseg:Iter [46280/50000]  Loss: 0.9736  Time/Image: 0.2184  lr=0.012901\n"
          ],
          "name": "stderr"
        },
        {
          "output_type": "stream",
          "text": [
            "Iter [46280/50000]  Loss: 0.9736  Time/Image: 0.2184  lr=0.012901\n"
          ],
          "name": "stdout"
        },
        {
          "output_type": "stream",
          "text": [
            "INFO:ptsemseg:Iter [46290/50000]  Loss: 0.9757  Time/Image: 0.2157  lr=0.012899\n"
          ],
          "name": "stderr"
        },
        {
          "output_type": "stream",
          "text": [
            "Iter [46290/50000]  Loss: 0.9757  Time/Image: 0.2157  lr=0.012899\n"
          ],
          "name": "stdout"
        },
        {
          "output_type": "stream",
          "text": [
            "INFO:ptsemseg:Iter [46300/50000]  Loss: 0.9755  Time/Image: 0.2169  lr=0.012898\n"
          ],
          "name": "stderr"
        },
        {
          "output_type": "stream",
          "text": [
            "Iter [46300/50000]  Loss: 0.9755  Time/Image: 0.2169  lr=0.012898\n"
          ],
          "name": "stdout"
        },
        {
          "output_type": "stream",
          "text": [
            "INFO:ptsemseg:Iter [46310/50000]  Loss: 0.9747  Time/Image: 0.2122  lr=0.012896\n"
          ],
          "name": "stderr"
        },
        {
          "output_type": "stream",
          "text": [
            "Iter [46310/50000]  Loss: 0.9747  Time/Image: 0.2122  lr=0.012896\n"
          ],
          "name": "stdout"
        },
        {
          "output_type": "stream",
          "text": [
            "INFO:ptsemseg:Iter [46320/50000]  Loss: 0.9772  Time/Image: 0.2132  lr=0.012894\n"
          ],
          "name": "stderr"
        },
        {
          "output_type": "stream",
          "text": [
            "Iter [46320/50000]  Loss: 0.9772  Time/Image: 0.2132  lr=0.012894\n"
          ],
          "name": "stdout"
        },
        {
          "output_type": "stream",
          "text": [
            "INFO:ptsemseg:Iter [46330/50000]  Loss: 0.9773  Time/Image: 0.2123  lr=0.012893\n"
          ],
          "name": "stderr"
        },
        {
          "output_type": "stream",
          "text": [
            "Iter [46330/50000]  Loss: 0.9773  Time/Image: 0.2123  lr=0.012893\n"
          ],
          "name": "stdout"
        },
        {
          "output_type": "stream",
          "text": [
            "INFO:ptsemseg:Iter [46340/50000]  Loss: 0.9753  Time/Image: 0.2101  lr=0.012891\n"
          ],
          "name": "stderr"
        },
        {
          "output_type": "stream",
          "text": [
            "Iter [46340/50000]  Loss: 0.9753  Time/Image: 0.2101  lr=0.012891\n"
          ],
          "name": "stdout"
        },
        {
          "output_type": "stream",
          "text": [
            "INFO:ptsemseg:Iter [46350/50000]  Loss: 0.9771  Time/Image: 0.2146  lr=0.012890\n"
          ],
          "name": "stderr"
        },
        {
          "output_type": "stream",
          "text": [
            "Iter [46350/50000]  Loss: 0.9771  Time/Image: 0.2146  lr=0.012890\n"
          ],
          "name": "stdout"
        },
        {
          "output_type": "stream",
          "text": [
            "INFO:ptsemseg:Iter [46360/50000]  Loss: 0.9780  Time/Image: 0.2127  lr=0.012888\n"
          ],
          "name": "stderr"
        },
        {
          "output_type": "stream",
          "text": [
            "Iter [46360/50000]  Loss: 0.9780  Time/Image: 0.2127  lr=0.012888\n"
          ],
          "name": "stdout"
        },
        {
          "output_type": "stream",
          "text": [
            "INFO:ptsemseg:Iter [46370/50000]  Loss: 0.9791  Time/Image: 0.2076  lr=0.012887\n"
          ],
          "name": "stderr"
        },
        {
          "output_type": "stream",
          "text": [
            "Iter [46370/50000]  Loss: 0.9791  Time/Image: 0.2076  lr=0.012887\n"
          ],
          "name": "stdout"
        },
        {
          "output_type": "stream",
          "text": [
            "INFO:ptsemseg:Iter [46380/50000]  Loss: 0.9800  Time/Image: 0.2172  lr=0.012885\n"
          ],
          "name": "stderr"
        },
        {
          "output_type": "stream",
          "text": [
            "Iter [46380/50000]  Loss: 0.9800  Time/Image: 0.2172  lr=0.012885\n"
          ],
          "name": "stdout"
        },
        {
          "output_type": "stream",
          "text": [
            "INFO:ptsemseg:Iter [46390/50000]  Loss: 0.9792  Time/Image: 0.2150  lr=0.012883\n"
          ],
          "name": "stderr"
        },
        {
          "output_type": "stream",
          "text": [
            "Iter [46390/50000]  Loss: 0.9792  Time/Image: 0.2150  lr=0.012883\n"
          ],
          "name": "stdout"
        },
        {
          "output_type": "stream",
          "text": [
            "INFO:ptsemseg:Iter [46400/50000]  Loss: 0.9783  Time/Image: 0.2083  lr=0.012882\n"
          ],
          "name": "stderr"
        },
        {
          "output_type": "stream",
          "text": [
            "Iter [46400/50000]  Loss: 0.9783  Time/Image: 0.2083  lr=0.012882\n"
          ],
          "name": "stdout"
        },
        {
          "output_type": "stream",
          "text": [
            "INFO:ptsemseg:Iter [46410/50000]  Loss: 0.9776  Time/Image: 0.2148  lr=0.012880\n"
          ],
          "name": "stderr"
        },
        {
          "output_type": "stream",
          "text": [
            "Iter [46410/50000]  Loss: 0.9776  Time/Image: 0.2148  lr=0.012880\n"
          ],
          "name": "stdout"
        },
        {
          "output_type": "stream",
          "text": [
            "INFO:ptsemseg:Iter [46420/50000]  Loss: 0.9777  Time/Image: 0.2127  lr=0.012879\n"
          ],
          "name": "stderr"
        },
        {
          "output_type": "stream",
          "text": [
            "Iter [46420/50000]  Loss: 0.9777  Time/Image: 0.2127  lr=0.012879\n"
          ],
          "name": "stdout"
        },
        {
          "output_type": "stream",
          "text": [
            "INFO:ptsemseg:Iter [46430/50000]  Loss: 0.9780  Time/Image: 0.1914  lr=0.012877\n"
          ],
          "name": "stderr"
        },
        {
          "output_type": "stream",
          "text": [
            "Iter [46430/50000]  Loss: 0.9780  Time/Image: 0.1914  lr=0.012877\n"
          ],
          "name": "stdout"
        },
        {
          "output_type": "stream",
          "text": [
            "INFO:ptsemseg:Iter [46440/50000]  Loss: 0.9767  Time/Image: 0.2134  lr=0.012876\n"
          ],
          "name": "stderr"
        },
        {
          "output_type": "stream",
          "text": [
            "Iter [46440/50000]  Loss: 0.9767  Time/Image: 0.2134  lr=0.012876\n"
          ],
          "name": "stdout"
        },
        {
          "output_type": "stream",
          "text": [
            "INFO:ptsemseg:Iter [46450/50000]  Loss: 0.9771  Time/Image: 0.2314  lr=0.012874\n"
          ],
          "name": "stderr"
        },
        {
          "output_type": "stream",
          "text": [
            "Iter [46450/50000]  Loss: 0.9771  Time/Image: 0.2314  lr=0.012874\n"
          ],
          "name": "stdout"
        },
        {
          "output_type": "stream",
          "text": [
            "INFO:ptsemseg:Iter [46460/50000]  Loss: 0.9770  Time/Image: 0.2325  lr=0.012872\n"
          ],
          "name": "stderr"
        },
        {
          "output_type": "stream",
          "text": [
            "Iter [46460/50000]  Loss: 0.9770  Time/Image: 0.2325  lr=0.012872\n"
          ],
          "name": "stdout"
        },
        {
          "output_type": "stream",
          "text": [
            "INFO:ptsemseg:Iter [46470/50000]  Loss: 0.9773  Time/Image: 0.2328  lr=0.012871\n"
          ],
          "name": "stderr"
        },
        {
          "output_type": "stream",
          "text": [
            "Iter [46470/50000]  Loss: 0.9773  Time/Image: 0.2328  lr=0.012871\n"
          ],
          "name": "stdout"
        },
        {
          "output_type": "stream",
          "text": [
            "INFO:ptsemseg:Iter [46480/50000]  Loss: 0.9785  Time/Image: 0.2309  lr=0.012869\n"
          ],
          "name": "stderr"
        },
        {
          "output_type": "stream",
          "text": [
            "Iter [46480/50000]  Loss: 0.9785  Time/Image: 0.2309  lr=0.012869\n"
          ],
          "name": "stdout"
        },
        {
          "output_type": "stream",
          "text": [
            "INFO:ptsemseg:Iter [46490/50000]  Loss: 0.9778  Time/Image: 0.2303  lr=0.012868\n"
          ],
          "name": "stderr"
        },
        {
          "output_type": "stream",
          "text": [
            "Iter [46490/50000]  Loss: 0.9778  Time/Image: 0.2303  lr=0.012868\n"
          ],
          "name": "stdout"
        },
        {
          "output_type": "stream",
          "text": [
            "INFO:ptsemseg:Iter [46500/50000]  Loss: 0.9782  Time/Image: 0.2305  lr=0.012866\n"
          ],
          "name": "stderr"
        },
        {
          "output_type": "stream",
          "text": [
            "Iter [46500/50000]  Loss: 0.9782  Time/Image: 0.2305  lr=0.012866\n"
          ],
          "name": "stdout"
        },
        {
          "output_type": "stream",
          "text": [
            "84it [03:35,  2.57s/it]\n",
            "INFO:ptsemseg:Iter 46500 Val Loss: 0.9807\n",
            "INFO:ptsemseg:Overall Acc: \t: 0.9349771616218744\n",
            "INFO:ptsemseg:Mean Acc : \t: 0.7020329090340038\n",
            "INFO:ptsemseg:FreqW Acc : \t: 0.8840356435887808\n",
            "INFO:ptsemseg:Mean IoU : \t: 0.6043543498488892\n",
            "INFO:ptsemseg:0: 0.9647952894598566\n",
            "INFO:ptsemseg:1: 0.7562627922457064\n",
            "INFO:ptsemseg:2: 0.8830333051816681\n",
            "INFO:ptsemseg:3: 0.39942950488930895\n",
            "INFO:ptsemseg:4: 0.4564652458508512\n",
            "INFO:ptsemseg:5: 0.4966803526945851\n",
            "INFO:ptsemseg:6: 0.43430202671872564\n",
            "INFO:ptsemseg:7: 0.6231363758178384\n",
            "INFO:ptsemseg:8: 0.8963206048921433\n",
            "INFO:ptsemseg:9: 0.521623894036801\n",
            "INFO:ptsemseg:10: 0.9216477776533067\n",
            "INFO:ptsemseg:11: 0.7030177750062324\n",
            "INFO:ptsemseg:12: 0.4177054330779381\n",
            "INFO:ptsemseg:13: 0.9004695921284165\n",
            "INFO:ptsemseg:14: 0.3984817242487414\n",
            "INFO:ptsemseg:15: 0.5612518526111878\n",
            "INFO:ptsemseg:16: 0.3402820692024957\n",
            "INFO:ptsemseg:17: 0.22076540125181274\n",
            "INFO:ptsemseg:18: 0.5870616301612823\n"
          ],
          "name": "stderr"
        },
        {
          "output_type": "stream",
          "text": [
            "Overall Acc: \t 0.9349771616218744\n",
            "Mean Acc : \t 0.7020329090340038\n",
            "FreqW Acc : \t 0.8840356435887808\n",
            "Mean IoU : \t 0.6043543498488892\n"
          ],
          "name": "stdout"
        },
        {
          "output_type": "stream",
          "text": [
            "INFO:ptsemseg:Iter [46510/50000]  Loss: 0.9218  Time/Image: 0.2012  lr=0.012865\n"
          ],
          "name": "stderr"
        },
        {
          "output_type": "stream",
          "text": [
            "Iter [46510/50000]  Loss: 0.9218  Time/Image: 0.2012  lr=0.012865\n"
          ],
          "name": "stdout"
        },
        {
          "output_type": "stream",
          "text": [
            "INFO:ptsemseg:Iter [46520/50000]  Loss: 0.9037  Time/Image: 0.2178  lr=0.012863\n"
          ],
          "name": "stderr"
        },
        {
          "output_type": "stream",
          "text": [
            "Iter [46520/50000]  Loss: 0.9037  Time/Image: 0.2178  lr=0.012863\n"
          ],
          "name": "stdout"
        },
        {
          "output_type": "stream",
          "text": [
            "INFO:ptsemseg:Iter [46530/50000]  Loss: 0.9199  Time/Image: 0.2259  lr=0.012861\n"
          ],
          "name": "stderr"
        },
        {
          "output_type": "stream",
          "text": [
            "Iter [46530/50000]  Loss: 0.9199  Time/Image: 0.2259  lr=0.012861\n"
          ],
          "name": "stdout"
        },
        {
          "output_type": "stream",
          "text": [
            "INFO:ptsemseg:Iter [46540/50000]  Loss: 0.9400  Time/Image: 0.2250  lr=0.012860\n"
          ],
          "name": "stderr"
        },
        {
          "output_type": "stream",
          "text": [
            "Iter [46540/50000]  Loss: 0.9400  Time/Image: 0.2250  lr=0.012860\n"
          ],
          "name": "stdout"
        },
        {
          "output_type": "stream",
          "text": [
            "INFO:ptsemseg:Iter [46550/50000]  Loss: 0.9356  Time/Image: 0.2279  lr=0.012858\n"
          ],
          "name": "stderr"
        },
        {
          "output_type": "stream",
          "text": [
            "Iter [46550/50000]  Loss: 0.9356  Time/Image: 0.2279  lr=0.012858\n"
          ],
          "name": "stdout"
        },
        {
          "output_type": "stream",
          "text": [
            "INFO:ptsemseg:Iter [46560/50000]  Loss: 0.9434  Time/Image: 0.2218  lr=0.012857\n"
          ],
          "name": "stderr"
        },
        {
          "output_type": "stream",
          "text": [
            "Iter [46560/50000]  Loss: 0.9434  Time/Image: 0.2218  lr=0.012857\n"
          ],
          "name": "stdout"
        },
        {
          "output_type": "stream",
          "text": [
            "INFO:ptsemseg:Iter [46570/50000]  Loss: 0.9498  Time/Image: 0.2283  lr=0.012855\n"
          ],
          "name": "stderr"
        },
        {
          "output_type": "stream",
          "text": [
            "Iter [46570/50000]  Loss: 0.9498  Time/Image: 0.2283  lr=0.012855\n"
          ],
          "name": "stdout"
        },
        {
          "output_type": "stream",
          "text": [
            "INFO:ptsemseg:Iter [46580/50000]  Loss: 0.9546  Time/Image: 0.2281  lr=0.012853\n"
          ],
          "name": "stderr"
        },
        {
          "output_type": "stream",
          "text": [
            "Iter [46580/50000]  Loss: 0.9546  Time/Image: 0.2281  lr=0.012853\n"
          ],
          "name": "stdout"
        },
        {
          "output_type": "stream",
          "text": [
            "INFO:ptsemseg:Iter [46590/50000]  Loss: 0.9533  Time/Image: 0.2246  lr=0.012852\n"
          ],
          "name": "stderr"
        },
        {
          "output_type": "stream",
          "text": [
            "Iter [46590/50000]  Loss: 0.9533  Time/Image: 0.2246  lr=0.012852\n"
          ],
          "name": "stdout"
        },
        {
          "output_type": "stream",
          "text": [
            "INFO:ptsemseg:Iter [46600/50000]  Loss: 0.9510  Time/Image: 0.2256  lr=0.012850\n"
          ],
          "name": "stderr"
        },
        {
          "output_type": "stream",
          "text": [
            "Iter [46600/50000]  Loss: 0.9510  Time/Image: 0.2256  lr=0.012850\n"
          ],
          "name": "stdout"
        },
        {
          "output_type": "stream",
          "text": [
            "INFO:ptsemseg:Iter [46610/50000]  Loss: 0.9580  Time/Image: 0.2234  lr=0.012849\n"
          ],
          "name": "stderr"
        },
        {
          "output_type": "stream",
          "text": [
            "Iter [46610/50000]  Loss: 0.9580  Time/Image: 0.2234  lr=0.012849\n"
          ],
          "name": "stdout"
        },
        {
          "output_type": "stream",
          "text": [
            "INFO:ptsemseg:Iter [46620/50000]  Loss: 0.9596  Time/Image: 0.2254  lr=0.012847\n"
          ],
          "name": "stderr"
        },
        {
          "output_type": "stream",
          "text": [
            "Iter [46620/50000]  Loss: 0.9596  Time/Image: 0.2254  lr=0.012847\n"
          ],
          "name": "stdout"
        },
        {
          "output_type": "stream",
          "text": [
            "INFO:ptsemseg:Iter [46630/50000]  Loss: 0.9605  Time/Image: 0.2205  lr=0.012846\n"
          ],
          "name": "stderr"
        },
        {
          "output_type": "stream",
          "text": [
            "Iter [46630/50000]  Loss: 0.9605  Time/Image: 0.2205  lr=0.012846\n"
          ],
          "name": "stdout"
        },
        {
          "output_type": "stream",
          "text": [
            "INFO:ptsemseg:Iter [46640/50000]  Loss: 0.9547  Time/Image: 0.2213  lr=0.012844\n"
          ],
          "name": "stderr"
        },
        {
          "output_type": "stream",
          "text": [
            "Iter [46640/50000]  Loss: 0.9547  Time/Image: 0.2213  lr=0.012844\n"
          ],
          "name": "stdout"
        },
        {
          "output_type": "stream",
          "text": [
            "INFO:ptsemseg:Iter [46650/50000]  Loss: 0.9566  Time/Image: 0.2226  lr=0.012842\n"
          ],
          "name": "stderr"
        },
        {
          "output_type": "stream",
          "text": [
            "Iter [46650/50000]  Loss: 0.9566  Time/Image: 0.2226  lr=0.012842\n"
          ],
          "name": "stdout"
        },
        {
          "output_type": "stream",
          "text": [
            "INFO:ptsemseg:Iter [46660/50000]  Loss: 0.9550  Time/Image: 0.2299  lr=0.012841\n"
          ],
          "name": "stderr"
        },
        {
          "output_type": "stream",
          "text": [
            "Iter [46660/50000]  Loss: 0.9550  Time/Image: 0.2299  lr=0.012841\n"
          ],
          "name": "stdout"
        },
        {
          "output_type": "stream",
          "text": [
            "INFO:ptsemseg:Iter [46670/50000]  Loss: 0.9589  Time/Image: 0.2164  lr=0.012839\n"
          ],
          "name": "stderr"
        },
        {
          "output_type": "stream",
          "text": [
            "Iter [46670/50000]  Loss: 0.9589  Time/Image: 0.2164  lr=0.012839\n"
          ],
          "name": "stdout"
        },
        {
          "output_type": "stream",
          "text": [
            "INFO:ptsemseg:Iter [46680/50000]  Loss: 0.9593  Time/Image: 0.2231  lr=0.012838\n"
          ],
          "name": "stderr"
        },
        {
          "output_type": "stream",
          "text": [
            "Iter [46680/50000]  Loss: 0.9593  Time/Image: 0.2231  lr=0.012838\n"
          ],
          "name": "stdout"
        },
        {
          "output_type": "stream",
          "text": [
            "INFO:ptsemseg:Iter [46690/50000]  Loss: 0.9603  Time/Image: 0.2224  lr=0.012836\n"
          ],
          "name": "stderr"
        },
        {
          "output_type": "stream",
          "text": [
            "Iter [46690/50000]  Loss: 0.9603  Time/Image: 0.2224  lr=0.012836\n"
          ],
          "name": "stdout"
        },
        {
          "output_type": "stream",
          "text": [
            "INFO:ptsemseg:Iter [46700/50000]  Loss: 0.9578  Time/Image: 0.2153  lr=0.012835\n"
          ],
          "name": "stderr"
        },
        {
          "output_type": "stream",
          "text": [
            "Iter [46700/50000]  Loss: 0.9578  Time/Image: 0.2153  lr=0.012835\n"
          ],
          "name": "stdout"
        },
        {
          "output_type": "stream",
          "text": [
            "INFO:ptsemseg:Iter [46710/50000]  Loss: 0.9595  Time/Image: 0.2220  lr=0.012833\n"
          ],
          "name": "stderr"
        },
        {
          "output_type": "stream",
          "text": [
            "Iter [46710/50000]  Loss: 0.9595  Time/Image: 0.2220  lr=0.012833\n"
          ],
          "name": "stdout"
        },
        {
          "output_type": "stream",
          "text": [
            "INFO:ptsemseg:Iter [46720/50000]  Loss: 0.9615  Time/Image: 0.2230  lr=0.012831\n"
          ],
          "name": "stderr"
        },
        {
          "output_type": "stream",
          "text": [
            "Iter [46720/50000]  Loss: 0.9615  Time/Image: 0.2230  lr=0.012831\n"
          ],
          "name": "stdout"
        },
        {
          "output_type": "stream",
          "text": [
            "INFO:ptsemseg:Iter [46730/50000]  Loss: 0.9588  Time/Image: 0.2223  lr=0.012830\n"
          ],
          "name": "stderr"
        },
        {
          "output_type": "stream",
          "text": [
            "Iter [46730/50000]  Loss: 0.9588  Time/Image: 0.2223  lr=0.012830\n"
          ],
          "name": "stdout"
        },
        {
          "output_type": "stream",
          "text": [
            "INFO:ptsemseg:Iter [46740/50000]  Loss: 0.9621  Time/Image: 0.2192  lr=0.012828\n"
          ],
          "name": "stderr"
        },
        {
          "output_type": "stream",
          "text": [
            "Iter [46740/50000]  Loss: 0.9621  Time/Image: 0.2192  lr=0.012828\n"
          ],
          "name": "stdout"
        },
        {
          "output_type": "stream",
          "text": [
            "INFO:ptsemseg:Iter [46750/50000]  Loss: 0.9622  Time/Image: 0.2184  lr=0.012827\n"
          ],
          "name": "stderr"
        },
        {
          "output_type": "stream",
          "text": [
            "Iter [46750/50000]  Loss: 0.9622  Time/Image: 0.2184  lr=0.012827\n"
          ],
          "name": "stdout"
        },
        {
          "output_type": "stream",
          "text": [
            "INFO:ptsemseg:Iter [46760/50000]  Loss: 0.9620  Time/Image: 0.2131  lr=0.012825\n"
          ],
          "name": "stderr"
        },
        {
          "output_type": "stream",
          "text": [
            "Iter [46760/50000]  Loss: 0.9620  Time/Image: 0.2131  lr=0.012825\n"
          ],
          "name": "stdout"
        },
        {
          "output_type": "stream",
          "text": [
            "INFO:ptsemseg:Iter [46770/50000]  Loss: 0.9639  Time/Image: 0.2181  lr=0.012824\n"
          ],
          "name": "stderr"
        },
        {
          "output_type": "stream",
          "text": [
            "Iter [46770/50000]  Loss: 0.9639  Time/Image: 0.2181  lr=0.012824\n"
          ],
          "name": "stdout"
        },
        {
          "output_type": "stream",
          "text": [
            "INFO:ptsemseg:Iter [46780/50000]  Loss: 0.9685  Time/Image: 0.2174  lr=0.012822\n"
          ],
          "name": "stderr"
        },
        {
          "output_type": "stream",
          "text": [
            "Iter [46780/50000]  Loss: 0.9685  Time/Image: 0.2174  lr=0.012822\n"
          ],
          "name": "stdout"
        },
        {
          "output_type": "stream",
          "text": [
            "INFO:ptsemseg:Iter [46790/50000]  Loss: 0.9721  Time/Image: 0.2130  lr=0.012820\n"
          ],
          "name": "stderr"
        },
        {
          "output_type": "stream",
          "text": [
            "Iter [46790/50000]  Loss: 0.9721  Time/Image: 0.2130  lr=0.012820\n"
          ],
          "name": "stdout"
        },
        {
          "output_type": "stream",
          "text": [
            "INFO:ptsemseg:Iter [46800/50000]  Loss: 0.9685  Time/Image: 0.2116  lr=0.012819\n"
          ],
          "name": "stderr"
        },
        {
          "output_type": "stream",
          "text": [
            "Iter [46800/50000]  Loss: 0.9685  Time/Image: 0.2116  lr=0.012819\n"
          ],
          "name": "stdout"
        },
        {
          "output_type": "stream",
          "text": [
            "INFO:ptsemseg:Iter [46810/50000]  Loss: 0.9688  Time/Image: 0.2172  lr=0.012817\n"
          ],
          "name": "stderr"
        },
        {
          "output_type": "stream",
          "text": [
            "Iter [46810/50000]  Loss: 0.9688  Time/Image: 0.2172  lr=0.012817\n"
          ],
          "name": "stdout"
        },
        {
          "output_type": "stream",
          "text": [
            "INFO:ptsemseg:Iter [46820/50000]  Loss: 0.9707  Time/Image: 0.2114  lr=0.012816\n"
          ],
          "name": "stderr"
        },
        {
          "output_type": "stream",
          "text": [
            "Iter [46820/50000]  Loss: 0.9707  Time/Image: 0.2114  lr=0.012816\n"
          ],
          "name": "stdout"
        },
        {
          "output_type": "stream",
          "text": [
            "INFO:ptsemseg:Iter [46830/50000]  Loss: 0.9704  Time/Image: 0.2119  lr=0.012814\n"
          ],
          "name": "stderr"
        },
        {
          "output_type": "stream",
          "text": [
            "Iter [46830/50000]  Loss: 0.9704  Time/Image: 0.2119  lr=0.012814\n"
          ],
          "name": "stdout"
        },
        {
          "output_type": "stream",
          "text": [
            "INFO:ptsemseg:Iter [46840/50000]  Loss: 0.9715  Time/Image: 0.2143  lr=0.012813\n"
          ],
          "name": "stderr"
        },
        {
          "output_type": "stream",
          "text": [
            "Iter [46840/50000]  Loss: 0.9715  Time/Image: 0.2143  lr=0.012813\n"
          ],
          "name": "stdout"
        },
        {
          "output_type": "stream",
          "text": [
            "INFO:ptsemseg:Iter [46850/50000]  Loss: 0.9729  Time/Image: 0.2148  lr=0.012811\n"
          ],
          "name": "stderr"
        },
        {
          "output_type": "stream",
          "text": [
            "Iter [46850/50000]  Loss: 0.9729  Time/Image: 0.2148  lr=0.012811\n"
          ],
          "name": "stdout"
        },
        {
          "output_type": "stream",
          "text": [
            "INFO:ptsemseg:Iter [46860/50000]  Loss: 0.9728  Time/Image: 0.2132  lr=0.012809\n"
          ],
          "name": "stderr"
        },
        {
          "output_type": "stream",
          "text": [
            "Iter [46860/50000]  Loss: 0.9728  Time/Image: 0.2132  lr=0.012809\n"
          ],
          "name": "stdout"
        },
        {
          "output_type": "stream",
          "text": [
            "INFO:ptsemseg:Iter [46870/50000]  Loss: 0.9723  Time/Image: 0.2094  lr=0.012808\n"
          ],
          "name": "stderr"
        },
        {
          "output_type": "stream",
          "text": [
            "Iter [46870/50000]  Loss: 0.9723  Time/Image: 0.2094  lr=0.012808\n"
          ],
          "name": "stdout"
        },
        {
          "output_type": "stream",
          "text": [
            "INFO:ptsemseg:Iter [46880/50000]  Loss: 0.9729  Time/Image: 0.2147  lr=0.012806\n"
          ],
          "name": "stderr"
        },
        {
          "output_type": "stream",
          "text": [
            "Iter [46880/50000]  Loss: 0.9729  Time/Image: 0.2147  lr=0.012806\n"
          ],
          "name": "stdout"
        },
        {
          "output_type": "stream",
          "text": [
            "INFO:ptsemseg:Iter [46890/50000]  Loss: 0.9722  Time/Image: 0.2155  lr=0.012805\n"
          ],
          "name": "stderr"
        },
        {
          "output_type": "stream",
          "text": [
            "Iter [46890/50000]  Loss: 0.9722  Time/Image: 0.2155  lr=0.012805\n"
          ],
          "name": "stdout"
        },
        {
          "output_type": "stream",
          "text": [
            "INFO:ptsemseg:Iter [46900/50000]  Loss: 0.9718  Time/Image: 0.2116  lr=0.012803\n"
          ],
          "name": "stderr"
        },
        {
          "output_type": "stream",
          "text": [
            "Iter [46900/50000]  Loss: 0.9718  Time/Image: 0.2116  lr=0.012803\n"
          ],
          "name": "stdout"
        },
        {
          "output_type": "stream",
          "text": [
            "INFO:ptsemseg:Iter [46910/50000]  Loss: 0.9725  Time/Image: 0.2204  lr=0.012801\n"
          ],
          "name": "stderr"
        },
        {
          "output_type": "stream",
          "text": [
            "Iter [46910/50000]  Loss: 0.9725  Time/Image: 0.2204  lr=0.012801\n"
          ],
          "name": "stdout"
        },
        {
          "output_type": "stream",
          "text": [
            "INFO:ptsemseg:Iter [46920/50000]  Loss: 0.9743  Time/Image: 0.2058  lr=0.012800\n"
          ],
          "name": "stderr"
        },
        {
          "output_type": "stream",
          "text": [
            "Iter [46920/50000]  Loss: 0.9743  Time/Image: 0.2058  lr=0.012800\n"
          ],
          "name": "stdout"
        },
        {
          "output_type": "stream",
          "text": [
            "INFO:ptsemseg:Iter [46930/50000]  Loss: 0.9737  Time/Image: 0.1798  lr=0.012798\n"
          ],
          "name": "stderr"
        },
        {
          "output_type": "stream",
          "text": [
            "Iter [46930/50000]  Loss: 0.9737  Time/Image: 0.1798  lr=0.012798\n"
          ],
          "name": "stdout"
        },
        {
          "output_type": "stream",
          "text": [
            "INFO:ptsemseg:Iter [46940/50000]  Loss: 0.9717  Time/Image: 0.2277  lr=0.012797\n"
          ],
          "name": "stderr"
        },
        {
          "output_type": "stream",
          "text": [
            "Iter [46940/50000]  Loss: 0.9717  Time/Image: 0.2277  lr=0.012797\n"
          ],
          "name": "stdout"
        },
        {
          "output_type": "stream",
          "text": [
            "INFO:ptsemseg:Iter [46950/50000]  Loss: 0.9723  Time/Image: 0.2314  lr=0.012795\n"
          ],
          "name": "stderr"
        },
        {
          "output_type": "stream",
          "text": [
            "Iter [46950/50000]  Loss: 0.9723  Time/Image: 0.2314  lr=0.012795\n"
          ],
          "name": "stdout"
        },
        {
          "output_type": "stream",
          "text": [
            "INFO:ptsemseg:Iter [46960/50000]  Loss: 0.9725  Time/Image: 0.2279  lr=0.012794\n"
          ],
          "name": "stderr"
        },
        {
          "output_type": "stream",
          "text": [
            "Iter [46960/50000]  Loss: 0.9725  Time/Image: 0.2279  lr=0.012794\n"
          ],
          "name": "stdout"
        },
        {
          "output_type": "stream",
          "text": [
            "INFO:ptsemseg:Iter [46970/50000]  Loss: 0.9717  Time/Image: 0.2301  lr=0.012792\n"
          ],
          "name": "stderr"
        },
        {
          "output_type": "stream",
          "text": [
            "Iter [46970/50000]  Loss: 0.9717  Time/Image: 0.2301  lr=0.012792\n"
          ],
          "name": "stdout"
        },
        {
          "output_type": "stream",
          "text": [
            "INFO:ptsemseg:Iter [46980/50000]  Loss: 0.9712  Time/Image: 0.2316  lr=0.012790\n"
          ],
          "name": "stderr"
        },
        {
          "output_type": "stream",
          "text": [
            "Iter [46980/50000]  Loss: 0.9712  Time/Image: 0.2316  lr=0.012790\n"
          ],
          "name": "stdout"
        },
        {
          "output_type": "stream",
          "text": [
            "INFO:ptsemseg:Iter [46990/50000]  Loss: 0.9717  Time/Image: 0.2303  lr=0.012789\n"
          ],
          "name": "stderr"
        },
        {
          "output_type": "stream",
          "text": [
            "Iter [46990/50000]  Loss: 0.9717  Time/Image: 0.2303  lr=0.012789\n"
          ],
          "name": "stdout"
        },
        {
          "output_type": "stream",
          "text": [
            "INFO:ptsemseg:Iter [47000/50000]  Loss: 0.9736  Time/Image: 0.2270  lr=0.012787\n"
          ],
          "name": "stderr"
        },
        {
          "output_type": "stream",
          "text": [
            "Iter [47000/50000]  Loss: 0.9736  Time/Image: 0.2270  lr=0.012787\n"
          ],
          "name": "stdout"
        },
        {
          "output_type": "stream",
          "text": [
            "84it [03:31,  2.52s/it]\n",
            "INFO:ptsemseg:Iter 47000 Val Loss: 1.0484\n",
            "INFO:ptsemseg:Overall Acc: \t: 0.9266017252570357\n",
            "INFO:ptsemseg:Mean Acc : \t: 0.6531776272474282\n",
            "INFO:ptsemseg:FreqW Acc : \t: 0.8714624229173088\n",
            "INFO:ptsemseg:Mean IoU : \t: 0.5603552888188305\n",
            "INFO:ptsemseg:0: 0.9633050159025894\n",
            "INFO:ptsemseg:1: 0.7273572624325351\n",
            "INFO:ptsemseg:2: 0.8687684709749259\n",
            "INFO:ptsemseg:3: 0.27274312268785006\n",
            "INFO:ptsemseg:4: 0.411932312733603\n",
            "INFO:ptsemseg:5: 0.4808014384478414\n",
            "INFO:ptsemseg:6: 0.35117283752417194\n",
            "INFO:ptsemseg:7: 0.6046434177398896\n",
            "INFO:ptsemseg:8: 0.8849880031885069\n",
            "INFO:ptsemseg:9: 0.4432551977985367\n",
            "INFO:ptsemseg:10: 0.931306593873092\n",
            "INFO:ptsemseg:11: 0.6630953381058392\n",
            "INFO:ptsemseg:12: 0.41209920815502055\n",
            "INFO:ptsemseg:13: 0.8759446335429094\n",
            "INFO:ptsemseg:14: 0.2378524939175669\n",
            "INFO:ptsemseg:15: 0.39732673571933247\n",
            "INFO:ptsemseg:16: 0.27539823253314316\n",
            "INFO:ptsemseg:17: 0.2457123630681442\n",
            "INFO:ptsemseg:18: 0.5990478092122791\n"
          ],
          "name": "stderr"
        },
        {
          "output_type": "stream",
          "text": [
            "Overall Acc: \t 0.9266017252570357\n",
            "Mean Acc : \t 0.6531776272474282\n",
            "FreqW Acc : \t 0.8714624229173088\n",
            "Mean IoU : \t 0.5603552888188305\n"
          ],
          "name": "stdout"
        },
        {
          "output_type": "stream",
          "text": [
            "INFO:ptsemseg:Iter [47010/50000]  Loss: 0.9416  Time/Image: 0.2026  lr=0.012786\n"
          ],
          "name": "stderr"
        },
        {
          "output_type": "stream",
          "text": [
            "Iter [47010/50000]  Loss: 0.9416  Time/Image: 0.2026  lr=0.012786\n"
          ],
          "name": "stdout"
        },
        {
          "output_type": "stream",
          "text": [
            "INFO:ptsemseg:Iter [47020/50000]  Loss: 0.9743  Time/Image: 0.2246  lr=0.012784\n"
          ],
          "name": "stderr"
        },
        {
          "output_type": "stream",
          "text": [
            "Iter [47020/50000]  Loss: 0.9743  Time/Image: 0.2246  lr=0.012784\n"
          ],
          "name": "stdout"
        },
        {
          "output_type": "stream",
          "text": [
            "INFO:ptsemseg:Iter [47030/50000]  Loss: 0.9762  Time/Image: 0.2255  lr=0.012783\n"
          ],
          "name": "stderr"
        },
        {
          "output_type": "stream",
          "text": [
            "Iter [47030/50000]  Loss: 0.9762  Time/Image: 0.2255  lr=0.012783\n"
          ],
          "name": "stdout"
        },
        {
          "output_type": "stream",
          "text": [
            "INFO:ptsemseg:Iter [47040/50000]  Loss: 0.9807  Time/Image: 0.2261  lr=0.012781\n"
          ],
          "name": "stderr"
        },
        {
          "output_type": "stream",
          "text": [
            "Iter [47040/50000]  Loss: 0.9807  Time/Image: 0.2261  lr=0.012781\n"
          ],
          "name": "stdout"
        },
        {
          "output_type": "stream",
          "text": [
            "INFO:ptsemseg:Iter [47050/50000]  Loss: 0.9722  Time/Image: 0.2307  lr=0.012779\n"
          ],
          "name": "stderr"
        },
        {
          "output_type": "stream",
          "text": [
            "Iter [47050/50000]  Loss: 0.9722  Time/Image: 0.2307  lr=0.012779\n"
          ],
          "name": "stdout"
        },
        {
          "output_type": "stream",
          "text": [
            "INFO:ptsemseg:Iter [47060/50000]  Loss: 0.9805  Time/Image: 0.2289  lr=0.012778\n"
          ],
          "name": "stderr"
        },
        {
          "output_type": "stream",
          "text": [
            "Iter [47060/50000]  Loss: 0.9805  Time/Image: 0.2289  lr=0.012778\n"
          ],
          "name": "stdout"
        },
        {
          "output_type": "stream",
          "text": [
            "INFO:ptsemseg:Iter [47070/50000]  Loss: 0.9873  Time/Image: 0.2274  lr=0.012776\n"
          ],
          "name": "stderr"
        },
        {
          "output_type": "stream",
          "text": [
            "Iter [47070/50000]  Loss: 0.9873  Time/Image: 0.2274  lr=0.012776\n"
          ],
          "name": "stdout"
        },
        {
          "output_type": "stream",
          "text": [
            "INFO:ptsemseg:Iter [47080/50000]  Loss: 0.9910  Time/Image: 0.2257  lr=0.012775\n"
          ],
          "name": "stderr"
        },
        {
          "output_type": "stream",
          "text": [
            "Iter [47080/50000]  Loss: 0.9910  Time/Image: 0.2257  lr=0.012775\n"
          ],
          "name": "stdout"
        },
        {
          "output_type": "stream",
          "text": [
            "INFO:ptsemseg:Iter [47090/50000]  Loss: 0.9830  Time/Image: 0.2245  lr=0.012773\n"
          ],
          "name": "stderr"
        },
        {
          "output_type": "stream",
          "text": [
            "Iter [47090/50000]  Loss: 0.9830  Time/Image: 0.2245  lr=0.012773\n"
          ],
          "name": "stdout"
        },
        {
          "output_type": "stream",
          "text": [
            "INFO:ptsemseg:Iter [47100/50000]  Loss: 0.9828  Time/Image: 0.2244  lr=0.012772\n"
          ],
          "name": "stderr"
        },
        {
          "output_type": "stream",
          "text": [
            "Iter [47100/50000]  Loss: 0.9828  Time/Image: 0.2244  lr=0.012772\n"
          ],
          "name": "stdout"
        },
        {
          "output_type": "stream",
          "text": [
            "INFO:ptsemseg:Iter [47110/50000]  Loss: 0.9820  Time/Image: 0.2251  lr=0.012770\n"
          ],
          "name": "stderr"
        },
        {
          "output_type": "stream",
          "text": [
            "Iter [47110/50000]  Loss: 0.9820  Time/Image: 0.2251  lr=0.012770\n"
          ],
          "name": "stdout"
        },
        {
          "output_type": "stream",
          "text": [
            "INFO:ptsemseg:Iter [47120/50000]  Loss: 0.9825  Time/Image: 0.2211  lr=0.012768\n"
          ],
          "name": "stderr"
        },
        {
          "output_type": "stream",
          "text": [
            "Iter [47120/50000]  Loss: 0.9825  Time/Image: 0.2211  lr=0.012768\n"
          ],
          "name": "stdout"
        },
        {
          "output_type": "stream",
          "text": [
            "INFO:ptsemseg:Iter [47130/50000]  Loss: 0.9803  Time/Image: 0.2250  lr=0.012767\n"
          ],
          "name": "stderr"
        },
        {
          "output_type": "stream",
          "text": [
            "Iter [47130/50000]  Loss: 0.9803  Time/Image: 0.2250  lr=0.012767\n"
          ],
          "name": "stdout"
        },
        {
          "output_type": "stream",
          "text": [
            "INFO:ptsemseg:Iter [47140/50000]  Loss: 0.9758  Time/Image: 0.2226  lr=0.012765\n"
          ],
          "name": "stderr"
        },
        {
          "output_type": "stream",
          "text": [
            "Iter [47140/50000]  Loss: 0.9758  Time/Image: 0.2226  lr=0.012765\n"
          ],
          "name": "stdout"
        },
        {
          "output_type": "stream",
          "text": [
            "INFO:ptsemseg:Iter [47150/50000]  Loss: 0.9773  Time/Image: 0.2225  lr=0.012764\n"
          ],
          "name": "stderr"
        },
        {
          "output_type": "stream",
          "text": [
            "Iter [47150/50000]  Loss: 0.9773  Time/Image: 0.2225  lr=0.012764\n"
          ],
          "name": "stdout"
        },
        {
          "output_type": "stream",
          "text": [
            "INFO:ptsemseg:Iter [47160/50000]  Loss: 0.9770  Time/Image: 0.2273  lr=0.012762\n"
          ],
          "name": "stderr"
        },
        {
          "output_type": "stream",
          "text": [
            "Iter [47160/50000]  Loss: 0.9770  Time/Image: 0.2273  lr=0.012762\n"
          ],
          "name": "stdout"
        },
        {
          "output_type": "stream",
          "text": [
            "INFO:ptsemseg:Iter [47170/50000]  Loss: 0.9772  Time/Image: 0.2189  lr=0.012760\n"
          ],
          "name": "stderr"
        },
        {
          "output_type": "stream",
          "text": [
            "Iter [47170/50000]  Loss: 0.9772  Time/Image: 0.2189  lr=0.012760\n"
          ],
          "name": "stdout"
        },
        {
          "output_type": "stream",
          "text": [
            "INFO:ptsemseg:Iter [47180/50000]  Loss: 0.9792  Time/Image: 0.2187  lr=0.012759\n"
          ],
          "name": "stderr"
        },
        {
          "output_type": "stream",
          "text": [
            "Iter [47180/50000]  Loss: 0.9792  Time/Image: 0.2187  lr=0.012759\n"
          ],
          "name": "stdout"
        },
        {
          "output_type": "stream",
          "text": [
            "INFO:ptsemseg:Iter [47190/50000]  Loss: 0.9695  Time/Image: 0.2139  lr=0.012757\n"
          ],
          "name": "stderr"
        },
        {
          "output_type": "stream",
          "text": [
            "Iter [47190/50000]  Loss: 0.9695  Time/Image: 0.2139  lr=0.012757\n"
          ],
          "name": "stdout"
        },
        {
          "output_type": "stream",
          "text": [
            "INFO:ptsemseg:Iter [47200/50000]  Loss: 0.9671  Time/Image: 0.2174  lr=0.012756\n"
          ],
          "name": "stderr"
        },
        {
          "output_type": "stream",
          "text": [
            "Iter [47200/50000]  Loss: 0.9671  Time/Image: 0.2174  lr=0.012756\n"
          ],
          "name": "stdout"
        },
        {
          "output_type": "stream",
          "text": [
            "INFO:ptsemseg:Iter [47210/50000]  Loss: 0.9678  Time/Image: 0.2187  lr=0.012754\n"
          ],
          "name": "stderr"
        },
        {
          "output_type": "stream",
          "text": [
            "Iter [47210/50000]  Loss: 0.9678  Time/Image: 0.2187  lr=0.012754\n"
          ],
          "name": "stdout"
        },
        {
          "output_type": "stream",
          "text": [
            "INFO:ptsemseg:Iter [47220/50000]  Loss: 0.9727  Time/Image: 0.2166  lr=0.012753\n"
          ],
          "name": "stderr"
        },
        {
          "output_type": "stream",
          "text": [
            "Iter [47220/50000]  Loss: 0.9727  Time/Image: 0.2166  lr=0.012753\n"
          ],
          "name": "stdout"
        },
        {
          "output_type": "stream",
          "text": [
            "INFO:ptsemseg:Iter [47230/50000]  Loss: 0.9733  Time/Image: 0.2151  lr=0.012751\n"
          ],
          "name": "stderr"
        },
        {
          "output_type": "stream",
          "text": [
            "Iter [47230/50000]  Loss: 0.9733  Time/Image: 0.2151  lr=0.012751\n"
          ],
          "name": "stdout"
        },
        {
          "output_type": "stream",
          "text": [
            "INFO:ptsemseg:Iter [47240/50000]  Loss: 0.9716  Time/Image: 0.2164  lr=0.012749\n"
          ],
          "name": "stderr"
        },
        {
          "output_type": "stream",
          "text": [
            "Iter [47240/50000]  Loss: 0.9716  Time/Image: 0.2164  lr=0.012749\n"
          ],
          "name": "stdout"
        },
        {
          "output_type": "stream",
          "text": [
            "INFO:ptsemseg:Iter [47250/50000]  Loss: 0.9744  Time/Image: 0.2202  lr=0.012748\n"
          ],
          "name": "stderr"
        },
        {
          "output_type": "stream",
          "text": [
            "Iter [47250/50000]  Loss: 0.9744  Time/Image: 0.2202  lr=0.012748\n"
          ],
          "name": "stdout"
        },
        {
          "output_type": "stream",
          "text": [
            "INFO:ptsemseg:Iter [47260/50000]  Loss: 0.9751  Time/Image: 0.2150  lr=0.012746\n"
          ],
          "name": "stderr"
        },
        {
          "output_type": "stream",
          "text": [
            "Iter [47260/50000]  Loss: 0.9751  Time/Image: 0.2150  lr=0.012746\n"
          ],
          "name": "stdout"
        },
        {
          "output_type": "stream",
          "text": [
            "INFO:ptsemseg:Iter [47270/50000]  Loss: 0.9751  Time/Image: 0.2097  lr=0.012745\n"
          ],
          "name": "stderr"
        },
        {
          "output_type": "stream",
          "text": [
            "Iter [47270/50000]  Loss: 0.9751  Time/Image: 0.2097  lr=0.012745\n"
          ],
          "name": "stdout"
        },
        {
          "output_type": "stream",
          "text": [
            "INFO:ptsemseg:Iter [47280/50000]  Loss: 0.9762  Time/Image: 0.2151  lr=0.012743\n"
          ],
          "name": "stderr"
        },
        {
          "output_type": "stream",
          "text": [
            "Iter [47280/50000]  Loss: 0.9762  Time/Image: 0.2151  lr=0.012743\n"
          ],
          "name": "stdout"
        },
        {
          "output_type": "stream",
          "text": [
            "INFO:ptsemseg:Iter [47290/50000]  Loss: 0.9743  Time/Image: 0.2153  lr=0.012742\n"
          ],
          "name": "stderr"
        },
        {
          "output_type": "stream",
          "text": [
            "Iter [47290/50000]  Loss: 0.9743  Time/Image: 0.2153  lr=0.012742\n"
          ],
          "name": "stdout"
        },
        {
          "output_type": "stream",
          "text": [
            "INFO:ptsemseg:Iter [47300/50000]  Loss: 0.9773  Time/Image: 0.2131  lr=0.012740\n"
          ],
          "name": "stderr"
        },
        {
          "output_type": "stream",
          "text": [
            "Iter [47300/50000]  Loss: 0.9773  Time/Image: 0.2131  lr=0.012740\n"
          ],
          "name": "stdout"
        },
        {
          "output_type": "stream",
          "text": [
            "INFO:ptsemseg:Iter [47310/50000]  Loss: 0.9766  Time/Image: 0.2090  lr=0.012738\n"
          ],
          "name": "stderr"
        },
        {
          "output_type": "stream",
          "text": [
            "Iter [47310/50000]  Loss: 0.9766  Time/Image: 0.2090  lr=0.012738\n"
          ],
          "name": "stdout"
        },
        {
          "output_type": "stream",
          "text": [
            "INFO:ptsemseg:Iter [47320/50000]  Loss: 0.9782  Time/Image: 0.2132  lr=0.012737\n"
          ],
          "name": "stderr"
        },
        {
          "output_type": "stream",
          "text": [
            "Iter [47320/50000]  Loss: 0.9782  Time/Image: 0.2132  lr=0.012737\n"
          ],
          "name": "stdout"
        },
        {
          "output_type": "stream",
          "text": [
            "INFO:ptsemseg:Iter [47330/50000]  Loss: 0.9770  Time/Image: 0.2108  lr=0.012735\n"
          ],
          "name": "stderr"
        },
        {
          "output_type": "stream",
          "text": [
            "Iter [47330/50000]  Loss: 0.9770  Time/Image: 0.2108  lr=0.012735\n"
          ],
          "name": "stdout"
        },
        {
          "output_type": "stream",
          "text": [
            "INFO:ptsemseg:Iter [47340/50000]  Loss: 0.9760  Time/Image: 0.2150  lr=0.012734\n"
          ],
          "name": "stderr"
        },
        {
          "output_type": "stream",
          "text": [
            "Iter [47340/50000]  Loss: 0.9760  Time/Image: 0.2150  lr=0.012734\n"
          ],
          "name": "stdout"
        },
        {
          "output_type": "stream",
          "text": [
            "INFO:ptsemseg:Iter [47350/50000]  Loss: 0.9757  Time/Image: 0.2141  lr=0.012732\n"
          ],
          "name": "stderr"
        },
        {
          "output_type": "stream",
          "text": [
            "Iter [47350/50000]  Loss: 0.9757  Time/Image: 0.2141  lr=0.012732\n"
          ],
          "name": "stdout"
        },
        {
          "output_type": "stream",
          "text": [
            "INFO:ptsemseg:Iter [47360/50000]  Loss: 0.9789  Time/Image: 0.2152  lr=0.012731\n"
          ],
          "name": "stderr"
        },
        {
          "output_type": "stream",
          "text": [
            "Iter [47360/50000]  Loss: 0.9789  Time/Image: 0.2152  lr=0.012731\n"
          ],
          "name": "stdout"
        },
        {
          "output_type": "stream",
          "text": [
            "INFO:ptsemseg:Iter [47370/50000]  Loss: 0.9774  Time/Image: 0.2089  lr=0.012729\n"
          ],
          "name": "stderr"
        },
        {
          "output_type": "stream",
          "text": [
            "Iter [47370/50000]  Loss: 0.9774  Time/Image: 0.2089  lr=0.012729\n"
          ],
          "name": "stdout"
        },
        {
          "output_type": "stream",
          "text": [
            "INFO:ptsemseg:Iter [47380/50000]  Loss: 0.9806  Time/Image: 0.2113  lr=0.012727\n"
          ],
          "name": "stderr"
        },
        {
          "output_type": "stream",
          "text": [
            "Iter [47380/50000]  Loss: 0.9806  Time/Image: 0.2113  lr=0.012727\n"
          ],
          "name": "stdout"
        },
        {
          "output_type": "stream",
          "text": [
            "INFO:ptsemseg:Iter [47390/50000]  Loss: 0.9817  Time/Image: 0.2114  lr=0.012726\n"
          ],
          "name": "stderr"
        },
        {
          "output_type": "stream",
          "text": [
            "Iter [47390/50000]  Loss: 0.9817  Time/Image: 0.2114  lr=0.012726\n"
          ],
          "name": "stdout"
        },
        {
          "output_type": "stream",
          "text": [
            "INFO:ptsemseg:Iter [47400/50000]  Loss: 0.9819  Time/Image: 0.2065  lr=0.012724\n"
          ],
          "name": "stderr"
        },
        {
          "output_type": "stream",
          "text": [
            "Iter [47400/50000]  Loss: 0.9819  Time/Image: 0.2065  lr=0.012724\n"
          ],
          "name": "stdout"
        },
        {
          "output_type": "stream",
          "text": [
            "INFO:ptsemseg:Iter [47410/50000]  Loss: 0.9830  Time/Image: 0.2083  lr=0.012723\n"
          ],
          "name": "stderr"
        },
        {
          "output_type": "stream",
          "text": [
            "Iter [47410/50000]  Loss: 0.9830  Time/Image: 0.2083  lr=0.012723\n"
          ],
          "name": "stdout"
        },
        {
          "output_type": "stream",
          "text": [
            "INFO:ptsemseg:Iter [47420/50000]  Loss: 0.9820  Time/Image: 0.1925  lr=0.012721\n"
          ],
          "name": "stderr"
        },
        {
          "output_type": "stream",
          "text": [
            "Iter [47420/50000]  Loss: 0.9820  Time/Image: 0.1925  lr=0.012721\n"
          ],
          "name": "stdout"
        },
        {
          "output_type": "stream",
          "text": [
            "INFO:ptsemseg:Iter [47430/50000]  Loss: 0.9819  Time/Image: 0.2033  lr=0.012719\n"
          ],
          "name": "stderr"
        },
        {
          "output_type": "stream",
          "text": [
            "Iter [47430/50000]  Loss: 0.9819  Time/Image: 0.2033  lr=0.012719\n"
          ],
          "name": "stdout"
        },
        {
          "output_type": "stream",
          "text": [
            "INFO:ptsemseg:Iter [47440/50000]  Loss: 0.9840  Time/Image: 0.2313  lr=0.012718\n"
          ],
          "name": "stderr"
        },
        {
          "output_type": "stream",
          "text": [
            "Iter [47440/50000]  Loss: 0.9840  Time/Image: 0.2313  lr=0.012718\n"
          ],
          "name": "stdout"
        },
        {
          "output_type": "stream",
          "text": [
            "INFO:ptsemseg:Iter [47450/50000]  Loss: 0.9837  Time/Image: 0.2272  lr=0.012716\n"
          ],
          "name": "stderr"
        },
        {
          "output_type": "stream",
          "text": [
            "Iter [47450/50000]  Loss: 0.9837  Time/Image: 0.2272  lr=0.012716\n"
          ],
          "name": "stdout"
        },
        {
          "output_type": "stream",
          "text": [
            "INFO:ptsemseg:Iter [47460/50000]  Loss: 0.9835  Time/Image: 0.2305  lr=0.012715\n"
          ],
          "name": "stderr"
        },
        {
          "output_type": "stream",
          "text": [
            "Iter [47460/50000]  Loss: 0.9835  Time/Image: 0.2305  lr=0.012715\n"
          ],
          "name": "stdout"
        },
        {
          "output_type": "stream",
          "text": [
            "INFO:ptsemseg:Iter [47470/50000]  Loss: 0.9832  Time/Image: 0.2324  lr=0.012713\n"
          ],
          "name": "stderr"
        },
        {
          "output_type": "stream",
          "text": [
            "Iter [47470/50000]  Loss: 0.9832  Time/Image: 0.2324  lr=0.012713\n"
          ],
          "name": "stdout"
        },
        {
          "output_type": "stream",
          "text": [
            "INFO:ptsemseg:Iter [47480/50000]  Loss: 0.9840  Time/Image: 0.2327  lr=0.012712\n"
          ],
          "name": "stderr"
        },
        {
          "output_type": "stream",
          "text": [
            "Iter [47480/50000]  Loss: 0.9840  Time/Image: 0.2327  lr=0.012712\n"
          ],
          "name": "stdout"
        },
        {
          "output_type": "stream",
          "text": [
            "INFO:ptsemseg:Iter [47490/50000]  Loss: 0.9829  Time/Image: 0.2282  lr=0.012710\n"
          ],
          "name": "stderr"
        },
        {
          "output_type": "stream",
          "text": [
            "Iter [47490/50000]  Loss: 0.9829  Time/Image: 0.2282  lr=0.012710\n"
          ],
          "name": "stdout"
        },
        {
          "output_type": "stream",
          "text": [
            "INFO:ptsemseg:Iter [47500/50000]  Loss: 0.9839  Time/Image: 0.2308  lr=0.012708\n"
          ],
          "name": "stderr"
        },
        {
          "output_type": "stream",
          "text": [
            "Iter [47500/50000]  Loss: 0.9839  Time/Image: 0.2308  lr=0.012708\n"
          ],
          "name": "stdout"
        },
        {
          "output_type": "stream",
          "text": [
            "84it [03:33,  2.54s/it]\n",
            "INFO:ptsemseg:Iter 47500 Val Loss: 1.0319\n",
            "INFO:ptsemseg:Overall Acc: \t: 0.9241680785784026\n",
            "INFO:ptsemseg:Mean Acc : \t: 0.6191985016343837\n",
            "INFO:ptsemseg:FreqW Acc : \t: 0.8696449244326705\n",
            "INFO:ptsemseg:Mean IoU : \t: 0.5255768635205874\n",
            "INFO:ptsemseg:0: 0.9609239534872687\n",
            "INFO:ptsemseg:1: 0.7351593953208932\n",
            "INFO:ptsemseg:2: 0.8717087767404031\n",
            "INFO:ptsemseg:3: 0.231294986377125\n",
            "INFO:ptsemseg:4: 0.34378156811163874\n",
            "INFO:ptsemseg:5: 0.5006353586296715\n",
            "INFO:ptsemseg:6: 0.4233824366088013\n",
            "INFO:ptsemseg:7: 0.6161174601471308\n",
            "INFO:ptsemseg:8: 0.8956545533364791\n",
            "INFO:ptsemseg:9: 0.5064672617227451\n",
            "INFO:ptsemseg:10: 0.8741330134463062\n",
            "INFO:ptsemseg:11: 0.652095380613042\n",
            "INFO:ptsemseg:12: 0.08414281202261169\n",
            "INFO:ptsemseg:13: 0.8653430210034526\n",
            "INFO:ptsemseg:14: 0.21752996266853558\n",
            "INFO:ptsemseg:15: 0.3458111144785001\n",
            "INFO:ptsemseg:16: 0.03516222264984042\n",
            "INFO:ptsemseg:17: 0.22853201065896825\n",
            "INFO:ptsemseg:18: 0.5980851188677494\n"
          ],
          "name": "stderr"
        },
        {
          "output_type": "stream",
          "text": [
            "Overall Acc: \t 0.9241680785784026\n",
            "Mean Acc : \t 0.6191985016343837\n",
            "FreqW Acc : \t 0.8696449244326705\n",
            "Mean IoU : \t 0.5255768635205874\n"
          ],
          "name": "stdout"
        },
        {
          "output_type": "stream",
          "text": [
            "INFO:ptsemseg:Iter [47510/50000]  Loss: 1.0267  Time/Image: 0.1979  lr=0.012707\n"
          ],
          "name": "stderr"
        },
        {
          "output_type": "stream",
          "text": [
            "Iter [47510/50000]  Loss: 1.0267  Time/Image: 0.1979  lr=0.012707\n"
          ],
          "name": "stdout"
        },
        {
          "output_type": "stream",
          "text": [
            "INFO:ptsemseg:Iter [47520/50000]  Loss: 0.9984  Time/Image: 0.2237  lr=0.012705\n"
          ],
          "name": "stderr"
        },
        {
          "output_type": "stream",
          "text": [
            "Iter [47520/50000]  Loss: 0.9984  Time/Image: 0.2237  lr=0.012705\n"
          ],
          "name": "stdout"
        },
        {
          "output_type": "stream",
          "text": [
            "INFO:ptsemseg:Iter [47530/50000]  Loss: 1.0119  Time/Image: 0.2287  lr=0.012704\n"
          ],
          "name": "stderr"
        },
        {
          "output_type": "stream",
          "text": [
            "Iter [47530/50000]  Loss: 1.0119  Time/Image: 0.2287  lr=0.012704\n"
          ],
          "name": "stdout"
        },
        {
          "output_type": "stream",
          "text": [
            "INFO:ptsemseg:Iter [47540/50000]  Loss: 0.9911  Time/Image: 0.2273  lr=0.012702\n"
          ],
          "name": "stderr"
        },
        {
          "output_type": "stream",
          "text": [
            "Iter [47540/50000]  Loss: 0.9911  Time/Image: 0.2273  lr=0.012702\n"
          ],
          "name": "stdout"
        },
        {
          "output_type": "stream",
          "text": [
            "INFO:ptsemseg:Iter [47550/50000]  Loss: 0.9790  Time/Image: 0.2268  lr=0.012701\n"
          ],
          "name": "stderr"
        },
        {
          "output_type": "stream",
          "text": [
            "Iter [47550/50000]  Loss: 0.9790  Time/Image: 0.2268  lr=0.012701\n"
          ],
          "name": "stdout"
        },
        {
          "output_type": "stream",
          "text": [
            "INFO:ptsemseg:Iter [47560/50000]  Loss: 0.9771  Time/Image: 0.2197  lr=0.012699\n"
          ],
          "name": "stderr"
        },
        {
          "output_type": "stream",
          "text": [
            "Iter [47560/50000]  Loss: 0.9771  Time/Image: 0.2197  lr=0.012699\n"
          ],
          "name": "stdout"
        },
        {
          "output_type": "stream",
          "text": [
            "INFO:ptsemseg:Iter [47570/50000]  Loss: 0.9839  Time/Image: 0.2234  lr=0.012697\n"
          ],
          "name": "stderr"
        },
        {
          "output_type": "stream",
          "text": [
            "Iter [47570/50000]  Loss: 0.9839  Time/Image: 0.2234  lr=0.012697\n"
          ],
          "name": "stdout"
        },
        {
          "output_type": "stream",
          "text": [
            "INFO:ptsemseg:Iter [47580/50000]  Loss: 0.9841  Time/Image: 0.2216  lr=0.012696\n"
          ],
          "name": "stderr"
        },
        {
          "output_type": "stream",
          "text": [
            "Iter [47580/50000]  Loss: 0.9841  Time/Image: 0.2216  lr=0.012696\n"
          ],
          "name": "stdout"
        },
        {
          "output_type": "stream",
          "text": [
            "INFO:ptsemseg:Iter [47590/50000]  Loss: 0.9849  Time/Image: 0.2247  lr=0.012694\n"
          ],
          "name": "stderr"
        },
        {
          "output_type": "stream",
          "text": [
            "Iter [47590/50000]  Loss: 0.9849  Time/Image: 0.2247  lr=0.012694\n"
          ],
          "name": "stdout"
        },
        {
          "output_type": "stream",
          "text": [
            "INFO:ptsemseg:Iter [47600/50000]  Loss: 0.9811  Time/Image: 0.2248  lr=0.012693\n"
          ],
          "name": "stderr"
        },
        {
          "output_type": "stream",
          "text": [
            "Iter [47600/50000]  Loss: 0.9811  Time/Image: 0.2248  lr=0.012693\n"
          ],
          "name": "stdout"
        },
        {
          "output_type": "stream",
          "text": [
            "INFO:ptsemseg:Iter [47610/50000]  Loss: 0.9891  Time/Image: 0.2190  lr=0.012691\n"
          ],
          "name": "stderr"
        },
        {
          "output_type": "stream",
          "text": [
            "Iter [47610/50000]  Loss: 0.9891  Time/Image: 0.2190  lr=0.012691\n"
          ],
          "name": "stdout"
        },
        {
          "output_type": "stream",
          "text": [
            "INFO:ptsemseg:Iter [47620/50000]  Loss: 0.9850  Time/Image: 0.2273  lr=0.012690\n"
          ],
          "name": "stderr"
        },
        {
          "output_type": "stream",
          "text": [
            "Iter [47620/50000]  Loss: 0.9850  Time/Image: 0.2273  lr=0.012690\n"
          ],
          "name": "stdout"
        },
        {
          "output_type": "stream",
          "text": [
            "INFO:ptsemseg:Iter [47630/50000]  Loss: 0.9837  Time/Image: 0.2223  lr=0.012688\n"
          ],
          "name": "stderr"
        },
        {
          "output_type": "stream",
          "text": [
            "Iter [47630/50000]  Loss: 0.9837  Time/Image: 0.2223  lr=0.012688\n"
          ],
          "name": "stdout"
        },
        {
          "output_type": "stream",
          "text": [
            "INFO:ptsemseg:Iter [47640/50000]  Loss: 0.9886  Time/Image: 0.2242  lr=0.012686\n"
          ],
          "name": "stderr"
        },
        {
          "output_type": "stream",
          "text": [
            "Iter [47640/50000]  Loss: 0.9886  Time/Image: 0.2242  lr=0.012686\n"
          ],
          "name": "stdout"
        },
        {
          "output_type": "stream",
          "text": [
            "INFO:ptsemseg:Iter [47650/50000]  Loss: 0.9895  Time/Image: 0.2178  lr=0.012685\n"
          ],
          "name": "stderr"
        },
        {
          "output_type": "stream",
          "text": [
            "Iter [47650/50000]  Loss: 0.9895  Time/Image: 0.2178  lr=0.012685\n"
          ],
          "name": "stdout"
        },
        {
          "output_type": "stream",
          "text": [
            "INFO:ptsemseg:Iter [47660/50000]  Loss: 0.9836  Time/Image: 0.2220  lr=0.012683\n"
          ],
          "name": "stderr"
        },
        {
          "output_type": "stream",
          "text": [
            "Iter [47660/50000]  Loss: 0.9836  Time/Image: 0.2220  lr=0.012683\n"
          ],
          "name": "stdout"
        },
        {
          "output_type": "stream",
          "text": [
            "INFO:ptsemseg:Iter [47670/50000]  Loss: 0.9884  Time/Image: 0.2215  lr=0.012682\n"
          ],
          "name": "stderr"
        },
        {
          "output_type": "stream",
          "text": [
            "Iter [47670/50000]  Loss: 0.9884  Time/Image: 0.2215  lr=0.012682\n"
          ],
          "name": "stdout"
        },
        {
          "output_type": "stream",
          "text": [
            "INFO:ptsemseg:Iter [47680/50000]  Loss: 0.9883  Time/Image: 0.2234  lr=0.012680\n"
          ],
          "name": "stderr"
        },
        {
          "output_type": "stream",
          "text": [
            "Iter [47680/50000]  Loss: 0.9883  Time/Image: 0.2234  lr=0.012680\n"
          ],
          "name": "stdout"
        },
        {
          "output_type": "stream",
          "text": [
            "INFO:ptsemseg:Iter [47690/50000]  Loss: 0.9857  Time/Image: 0.2167  lr=0.012678\n"
          ],
          "name": "stderr"
        },
        {
          "output_type": "stream",
          "text": [
            "Iter [47690/50000]  Loss: 0.9857  Time/Image: 0.2167  lr=0.012678\n"
          ],
          "name": "stdout"
        },
        {
          "output_type": "stream",
          "text": [
            "INFO:ptsemseg:Iter [47700/50000]  Loss: 0.9840  Time/Image: 0.2143  lr=0.012677\n"
          ],
          "name": "stderr"
        },
        {
          "output_type": "stream",
          "text": [
            "Iter [47700/50000]  Loss: 0.9840  Time/Image: 0.2143  lr=0.012677\n"
          ],
          "name": "stdout"
        },
        {
          "output_type": "stream",
          "text": [
            "INFO:ptsemseg:Iter [47710/50000]  Loss: 0.9850  Time/Image: 0.2172  lr=0.012675\n"
          ],
          "name": "stderr"
        },
        {
          "output_type": "stream",
          "text": [
            "Iter [47710/50000]  Loss: 0.9850  Time/Image: 0.2172  lr=0.012675\n"
          ],
          "name": "stdout"
        },
        {
          "output_type": "stream",
          "text": [
            "INFO:ptsemseg:Iter [47720/50000]  Loss: 0.9829  Time/Image: 0.2138  lr=0.012674\n"
          ],
          "name": "stderr"
        },
        {
          "output_type": "stream",
          "text": [
            "Iter [47720/50000]  Loss: 0.9829  Time/Image: 0.2138  lr=0.012674\n"
          ],
          "name": "stdout"
        },
        {
          "output_type": "stream",
          "text": [
            "INFO:ptsemseg:Iter [47730/50000]  Loss: 0.9845  Time/Image: 0.2167  lr=0.012672\n"
          ],
          "name": "stderr"
        },
        {
          "output_type": "stream",
          "text": [
            "Iter [47730/50000]  Loss: 0.9845  Time/Image: 0.2167  lr=0.012672\n"
          ],
          "name": "stdout"
        },
        {
          "output_type": "stream",
          "text": [
            "INFO:ptsemseg:Iter [47740/50000]  Loss: 0.9834  Time/Image: 0.2122  lr=0.012671\n"
          ],
          "name": "stderr"
        },
        {
          "output_type": "stream",
          "text": [
            "Iter [47740/50000]  Loss: 0.9834  Time/Image: 0.2122  lr=0.012671\n"
          ],
          "name": "stdout"
        },
        {
          "output_type": "stream",
          "text": [
            "INFO:ptsemseg:Iter [47750/50000]  Loss: 0.9813  Time/Image: 0.2218  lr=0.012669\n"
          ],
          "name": "stderr"
        },
        {
          "output_type": "stream",
          "text": [
            "Iter [47750/50000]  Loss: 0.9813  Time/Image: 0.2218  lr=0.012669\n"
          ],
          "name": "stdout"
        },
        {
          "output_type": "stream",
          "text": [
            "INFO:ptsemseg:Iter [47760/50000]  Loss: 0.9820  Time/Image: 0.2102  lr=0.012667\n"
          ],
          "name": "stderr"
        },
        {
          "output_type": "stream",
          "text": [
            "Iter [47760/50000]  Loss: 0.9820  Time/Image: 0.2102  lr=0.012667\n"
          ],
          "name": "stdout"
        },
        {
          "output_type": "stream",
          "text": [
            "INFO:ptsemseg:Iter [47770/50000]  Loss: 0.9760  Time/Image: 0.2204  lr=0.012666\n"
          ],
          "name": "stderr"
        },
        {
          "output_type": "stream",
          "text": [
            "Iter [47770/50000]  Loss: 0.9760  Time/Image: 0.2204  lr=0.012666\n"
          ],
          "name": "stdout"
        },
        {
          "output_type": "stream",
          "text": [
            "INFO:ptsemseg:Iter [47780/50000]  Loss: 0.9770  Time/Image: 0.2091  lr=0.012664\n"
          ],
          "name": "stderr"
        },
        {
          "output_type": "stream",
          "text": [
            "Iter [47780/50000]  Loss: 0.9770  Time/Image: 0.2091  lr=0.012664\n"
          ],
          "name": "stdout"
        },
        {
          "output_type": "stream",
          "text": [
            "INFO:ptsemseg:Iter [47790/50000]  Loss: 0.9771  Time/Image: 0.2122  lr=0.012663\n"
          ],
          "name": "stderr"
        },
        {
          "output_type": "stream",
          "text": [
            "Iter [47790/50000]  Loss: 0.9771  Time/Image: 0.2122  lr=0.012663\n"
          ],
          "name": "stdout"
        },
        {
          "output_type": "stream",
          "text": [
            "INFO:ptsemseg:Iter [47800/50000]  Loss: 0.9751  Time/Image: 0.2164  lr=0.012661\n"
          ],
          "name": "stderr"
        },
        {
          "output_type": "stream",
          "text": [
            "Iter [47800/50000]  Loss: 0.9751  Time/Image: 0.2164  lr=0.012661\n"
          ],
          "name": "stdout"
        },
        {
          "output_type": "stream",
          "text": [
            "INFO:ptsemseg:Iter [47810/50000]  Loss: 0.9787  Time/Image: 0.2080  lr=0.012660\n"
          ],
          "name": "stderr"
        },
        {
          "output_type": "stream",
          "text": [
            "Iter [47810/50000]  Loss: 0.9787  Time/Image: 0.2080  lr=0.012660\n"
          ],
          "name": "stdout"
        },
        {
          "output_type": "stream",
          "text": [
            "INFO:ptsemseg:Iter [47820/50000]  Loss: 0.9772  Time/Image: 0.2104  lr=0.012658\n"
          ],
          "name": "stderr"
        },
        {
          "output_type": "stream",
          "text": [
            "Iter [47820/50000]  Loss: 0.9772  Time/Image: 0.2104  lr=0.012658\n"
          ],
          "name": "stdout"
        },
        {
          "output_type": "stream",
          "text": [
            "INFO:ptsemseg:Iter [47830/50000]  Loss: 0.9744  Time/Image: 0.2134  lr=0.012656\n"
          ],
          "name": "stderr"
        },
        {
          "output_type": "stream",
          "text": [
            "Iter [47830/50000]  Loss: 0.9744  Time/Image: 0.2134  lr=0.012656\n"
          ],
          "name": "stdout"
        },
        {
          "output_type": "stream",
          "text": [
            "INFO:ptsemseg:Iter [47840/50000]  Loss: 0.9734  Time/Image: 0.2089  lr=0.012655\n"
          ],
          "name": "stderr"
        },
        {
          "output_type": "stream",
          "text": [
            "Iter [47840/50000]  Loss: 0.9734  Time/Image: 0.2089  lr=0.012655\n"
          ],
          "name": "stdout"
        },
        {
          "output_type": "stream",
          "text": [
            "INFO:ptsemseg:Iter [47850/50000]  Loss: 0.9743  Time/Image: 0.2170  lr=0.012653\n"
          ],
          "name": "stderr"
        },
        {
          "output_type": "stream",
          "text": [
            "Iter [47850/50000]  Loss: 0.9743  Time/Image: 0.2170  lr=0.012653\n"
          ],
          "name": "stdout"
        },
        {
          "output_type": "stream",
          "text": [
            "INFO:ptsemseg:Iter [47860/50000]  Loss: 0.9748  Time/Image: 0.2152  lr=0.012652\n"
          ],
          "name": "stderr"
        },
        {
          "output_type": "stream",
          "text": [
            "Iter [47860/50000]  Loss: 0.9748  Time/Image: 0.2152  lr=0.012652\n"
          ],
          "name": "stdout"
        },
        {
          "output_type": "stream",
          "text": [
            "INFO:ptsemseg:Iter [47870/50000]  Loss: 0.9750  Time/Image: 0.2113  lr=0.012650\n"
          ],
          "name": "stderr"
        },
        {
          "output_type": "stream",
          "text": [
            "Iter [47870/50000]  Loss: 0.9750  Time/Image: 0.2113  lr=0.012650\n"
          ],
          "name": "stdout"
        },
        {
          "output_type": "stream",
          "text": [
            "INFO:ptsemseg:Iter [47880/50000]  Loss: 0.9737  Time/Image: 0.2125  lr=0.012648\n"
          ],
          "name": "stderr"
        },
        {
          "output_type": "stream",
          "text": [
            "Iter [47880/50000]  Loss: 0.9737  Time/Image: 0.2125  lr=0.012648\n"
          ],
          "name": "stdout"
        },
        {
          "output_type": "stream",
          "text": [
            "INFO:ptsemseg:Iter [47890/50000]  Loss: 0.9730  Time/Image: 0.2100  lr=0.012647\n"
          ],
          "name": "stderr"
        },
        {
          "output_type": "stream",
          "text": [
            "Iter [47890/50000]  Loss: 0.9730  Time/Image: 0.2100  lr=0.012647\n"
          ],
          "name": "stdout"
        },
        {
          "output_type": "stream",
          "text": [
            "INFO:ptsemseg:Iter [47900/50000]  Loss: 0.9731  Time/Image: 0.2137  lr=0.012645\n"
          ],
          "name": "stderr"
        },
        {
          "output_type": "stream",
          "text": [
            "Iter [47900/50000]  Loss: 0.9731  Time/Image: 0.2137  lr=0.012645\n"
          ],
          "name": "stdout"
        },
        {
          "output_type": "stream",
          "text": [
            "INFO:ptsemseg:Iter [47910/50000]  Loss: 0.9720  Time/Image: 0.2118  lr=0.012644\n"
          ],
          "name": "stderr"
        },
        {
          "output_type": "stream",
          "text": [
            "Iter [47910/50000]  Loss: 0.9720  Time/Image: 0.2118  lr=0.012644\n"
          ],
          "name": "stdout"
        },
        {
          "output_type": "stream",
          "text": [
            "INFO:ptsemseg:Iter [47920/50000]  Loss: 0.9726  Time/Image: 0.1830  lr=0.012642\n"
          ],
          "name": "stderr"
        },
        {
          "output_type": "stream",
          "text": [
            "Iter [47920/50000]  Loss: 0.9726  Time/Image: 0.1830  lr=0.012642\n"
          ],
          "name": "stdout"
        },
        {
          "output_type": "stream",
          "text": [
            "INFO:ptsemseg:Iter [47930/50000]  Loss: 0.9741  Time/Image: 0.2233  lr=0.012641\n"
          ],
          "name": "stderr"
        },
        {
          "output_type": "stream",
          "text": [
            "Iter [47930/50000]  Loss: 0.9741  Time/Image: 0.2233  lr=0.012641\n"
          ],
          "name": "stdout"
        },
        {
          "output_type": "stream",
          "text": [
            "INFO:ptsemseg:Iter [47940/50000]  Loss: 0.9731  Time/Image: 0.2290  lr=0.012639\n"
          ],
          "name": "stderr"
        },
        {
          "output_type": "stream",
          "text": [
            "Iter [47940/50000]  Loss: 0.9731  Time/Image: 0.2290  lr=0.012639\n"
          ],
          "name": "stdout"
        },
        {
          "output_type": "stream",
          "text": [
            "INFO:ptsemseg:Iter [47950/50000]  Loss: 0.9739  Time/Image: 0.2331  lr=0.012637\n"
          ],
          "name": "stderr"
        },
        {
          "output_type": "stream",
          "text": [
            "Iter [47950/50000]  Loss: 0.9739  Time/Image: 0.2331  lr=0.012637\n"
          ],
          "name": "stdout"
        },
        {
          "output_type": "stream",
          "text": [
            "INFO:ptsemseg:Iter [47960/50000]  Loss: 0.9722  Time/Image: 0.2325  lr=0.012636\n"
          ],
          "name": "stderr"
        },
        {
          "output_type": "stream",
          "text": [
            "Iter [47960/50000]  Loss: 0.9722  Time/Image: 0.2325  lr=0.012636\n"
          ],
          "name": "stdout"
        },
        {
          "output_type": "stream",
          "text": [
            "INFO:ptsemseg:Iter [47970/50000]  Loss: 0.9733  Time/Image: 0.2276  lr=0.012634\n"
          ],
          "name": "stderr"
        },
        {
          "output_type": "stream",
          "text": [
            "Iter [47970/50000]  Loss: 0.9733  Time/Image: 0.2276  lr=0.012634\n"
          ],
          "name": "stdout"
        },
        {
          "output_type": "stream",
          "text": [
            "INFO:ptsemseg:Iter [47980/50000]  Loss: 0.9727  Time/Image: 0.2326  lr=0.012633\n"
          ],
          "name": "stderr"
        },
        {
          "output_type": "stream",
          "text": [
            "Iter [47980/50000]  Loss: 0.9727  Time/Image: 0.2326  lr=0.012633\n"
          ],
          "name": "stdout"
        },
        {
          "output_type": "stream",
          "text": [
            "INFO:ptsemseg:Iter [47990/50000]  Loss: 0.9720  Time/Image: 0.2324  lr=0.012631\n"
          ],
          "name": "stderr"
        },
        {
          "output_type": "stream",
          "text": [
            "Iter [47990/50000]  Loss: 0.9720  Time/Image: 0.2324  lr=0.012631\n"
          ],
          "name": "stdout"
        },
        {
          "output_type": "stream",
          "text": [
            "INFO:ptsemseg:Iter [48000/50000]  Loss: 0.9717  Time/Image: 0.2275  lr=0.012630\n"
          ],
          "name": "stderr"
        },
        {
          "output_type": "stream",
          "text": [
            "Iter [48000/50000]  Loss: 0.9717  Time/Image: 0.2275  lr=0.012630\n"
          ],
          "name": "stdout"
        },
        {
          "output_type": "stream",
          "text": [
            "84it [03:34,  2.56s/it]\n",
            "INFO:ptsemseg:Iter 48000 Val Loss: 1.0976\n",
            "INFO:ptsemseg:Overall Acc: \t: 0.9274011191719822\n",
            "INFO:ptsemseg:Mean Acc : \t: 0.6437589554978986\n",
            "INFO:ptsemseg:FreqW Acc : \t: 0.8693692488522464\n",
            "INFO:ptsemseg:Mean IoU : \t: 0.5629798341457427\n",
            "INFO:ptsemseg:0: 0.96426014941868\n",
            "INFO:ptsemseg:1: 0.7458790883528995\n",
            "INFO:ptsemseg:2: 0.855662863240793\n",
            "INFO:ptsemseg:3: 0.31939782254544685\n",
            "INFO:ptsemseg:4: 0.289029271719861\n",
            "INFO:ptsemseg:5: 0.47016139413795777\n",
            "INFO:ptsemseg:6: 0.4936924487740819\n",
            "INFO:ptsemseg:7: 0.6446584147771345\n",
            "INFO:ptsemseg:8: 0.9001012509365318\n",
            "INFO:ptsemseg:9: 0.4723051763070152\n",
            "INFO:ptsemseg:10: 0.8394982779214213\n",
            "INFO:ptsemseg:11: 0.7200675250814973\n",
            "INFO:ptsemseg:12: 0.41970370117141936\n",
            "INFO:ptsemseg:13: 0.8638554426241422\n",
            "INFO:ptsemseg:14: 0.25162452628827503\n",
            "INFO:ptsemseg:15: 0.2555748496584604\n",
            "INFO:ptsemseg:16: 0.20810519375794728\n",
            "INFO:ptsemseg:17: 0.3170668342185889\n",
            "INFO:ptsemseg:18: 0.6659726178369575\n"
          ],
          "name": "stderr"
        },
        {
          "output_type": "stream",
          "text": [
            "Overall Acc: \t 0.9274011191719822\n",
            "Mean Acc : \t 0.6437589554978986\n",
            "FreqW Acc : \t 0.8693692488522464\n",
            "Mean IoU : \t 0.5629798341457427\n"
          ],
          "name": "stdout"
        },
        {
          "output_type": "stream",
          "text": [
            "INFO:ptsemseg:Iter [48010/50000]  Loss: 0.9844  Time/Image: 0.2013  lr=0.012628\n"
          ],
          "name": "stderr"
        },
        {
          "output_type": "stream",
          "text": [
            "Iter [48010/50000]  Loss: 0.9844  Time/Image: 0.2013  lr=0.012628\n"
          ],
          "name": "stdout"
        },
        {
          "output_type": "stream",
          "text": [
            "INFO:ptsemseg:Iter [48020/50000]  Loss: 0.9413  Time/Image: 0.2244  lr=0.012626\n"
          ],
          "name": "stderr"
        },
        {
          "output_type": "stream",
          "text": [
            "Iter [48020/50000]  Loss: 0.9413  Time/Image: 0.2244  lr=0.012626\n"
          ],
          "name": "stdout"
        },
        {
          "output_type": "stream",
          "text": [
            "INFO:ptsemseg:Iter [48030/50000]  Loss: 0.9914  Time/Image: 0.2214  lr=0.012625\n"
          ],
          "name": "stderr"
        },
        {
          "output_type": "stream",
          "text": [
            "Iter [48030/50000]  Loss: 0.9914  Time/Image: 0.2214  lr=0.012625\n"
          ],
          "name": "stdout"
        },
        {
          "output_type": "stream",
          "text": [
            "INFO:ptsemseg:Iter [48040/50000]  Loss: 1.0149  Time/Image: 0.2250  lr=0.012623\n"
          ],
          "name": "stderr"
        },
        {
          "output_type": "stream",
          "text": [
            "Iter [48040/50000]  Loss: 1.0149  Time/Image: 0.2250  lr=0.012623\n"
          ],
          "name": "stdout"
        },
        {
          "output_type": "stream",
          "text": [
            "INFO:ptsemseg:Iter [48050/50000]  Loss: 0.9951  Time/Image: 0.2254  lr=0.012622\n"
          ],
          "name": "stderr"
        },
        {
          "output_type": "stream",
          "text": [
            "Iter [48050/50000]  Loss: 0.9951  Time/Image: 0.2254  lr=0.012622\n"
          ],
          "name": "stdout"
        },
        {
          "output_type": "stream",
          "text": [
            "INFO:ptsemseg:Iter [48060/50000]  Loss: 0.9929  Time/Image: 0.2285  lr=0.012620\n"
          ],
          "name": "stderr"
        },
        {
          "output_type": "stream",
          "text": [
            "Iter [48060/50000]  Loss: 0.9929  Time/Image: 0.2285  lr=0.012620\n"
          ],
          "name": "stdout"
        },
        {
          "output_type": "stream",
          "text": [
            "INFO:ptsemseg:Iter [48070/50000]  Loss: 0.9943  Time/Image: 0.2231  lr=0.012618\n"
          ],
          "name": "stderr"
        },
        {
          "output_type": "stream",
          "text": [
            "Iter [48070/50000]  Loss: 0.9943  Time/Image: 0.2231  lr=0.012618\n"
          ],
          "name": "stdout"
        },
        {
          "output_type": "stream",
          "text": [
            "INFO:ptsemseg:Iter [48080/50000]  Loss: 1.0025  Time/Image: 0.2247  lr=0.012617\n"
          ],
          "name": "stderr"
        },
        {
          "output_type": "stream",
          "text": [
            "Iter [48080/50000]  Loss: 1.0025  Time/Image: 0.2247  lr=0.012617\n"
          ],
          "name": "stdout"
        },
        {
          "output_type": "stream",
          "text": [
            "INFO:ptsemseg:Iter [48090/50000]  Loss: 0.9933  Time/Image: 0.2179  lr=0.012615\n"
          ],
          "name": "stderr"
        },
        {
          "output_type": "stream",
          "text": [
            "Iter [48090/50000]  Loss: 0.9933  Time/Image: 0.2179  lr=0.012615\n"
          ],
          "name": "stdout"
        },
        {
          "output_type": "stream",
          "text": [
            "INFO:ptsemseg:Iter [48100/50000]  Loss: 0.9879  Time/Image: 0.2268  lr=0.012614\n"
          ],
          "name": "stderr"
        },
        {
          "output_type": "stream",
          "text": [
            "Iter [48100/50000]  Loss: 0.9879  Time/Image: 0.2268  lr=0.012614\n"
          ],
          "name": "stdout"
        },
        {
          "output_type": "stream",
          "text": [
            "INFO:ptsemseg:Iter [48110/50000]  Loss: 0.9864  Time/Image: 0.2238  lr=0.012612\n"
          ],
          "name": "stderr"
        },
        {
          "output_type": "stream",
          "text": [
            "Iter [48110/50000]  Loss: 0.9864  Time/Image: 0.2238  lr=0.012612\n"
          ],
          "name": "stdout"
        },
        {
          "output_type": "stream",
          "text": [
            "INFO:ptsemseg:Iter [48120/50000]  Loss: 0.9893  Time/Image: 0.2235  lr=0.012611\n"
          ],
          "name": "stderr"
        },
        {
          "output_type": "stream",
          "text": [
            "Iter [48120/50000]  Loss: 0.9893  Time/Image: 0.2235  lr=0.012611\n"
          ],
          "name": "stdout"
        },
        {
          "output_type": "stream",
          "text": [
            "INFO:ptsemseg:Iter [48130/50000]  Loss: 0.9885  Time/Image: 0.2242  lr=0.012609\n"
          ],
          "name": "stderr"
        },
        {
          "output_type": "stream",
          "text": [
            "Iter [48130/50000]  Loss: 0.9885  Time/Image: 0.2242  lr=0.012609\n"
          ],
          "name": "stdout"
        },
        {
          "output_type": "stream",
          "text": [
            "INFO:ptsemseg:Iter [48140/50000]  Loss: 0.9819  Time/Image: 0.2231  lr=0.012607\n"
          ],
          "name": "stderr"
        },
        {
          "output_type": "stream",
          "text": [
            "Iter [48140/50000]  Loss: 0.9819  Time/Image: 0.2231  lr=0.012607\n"
          ],
          "name": "stdout"
        },
        {
          "output_type": "stream",
          "text": [
            "INFO:ptsemseg:Iter [48150/50000]  Loss: 0.9820  Time/Image: 0.2244  lr=0.012606\n"
          ],
          "name": "stderr"
        },
        {
          "output_type": "stream",
          "text": [
            "Iter [48150/50000]  Loss: 0.9820  Time/Image: 0.2244  lr=0.012606\n"
          ],
          "name": "stdout"
        },
        {
          "output_type": "stream",
          "text": [
            "INFO:ptsemseg:Iter [48160/50000]  Loss: 0.9817  Time/Image: 0.2220  lr=0.012604\n"
          ],
          "name": "stderr"
        },
        {
          "output_type": "stream",
          "text": [
            "Iter [48160/50000]  Loss: 0.9817  Time/Image: 0.2220  lr=0.012604\n"
          ],
          "name": "stdout"
        },
        {
          "output_type": "stream",
          "text": [
            "INFO:ptsemseg:Iter [48170/50000]  Loss: 0.9832  Time/Image: 0.2237  lr=0.012603\n"
          ],
          "name": "stderr"
        },
        {
          "output_type": "stream",
          "text": [
            "Iter [48170/50000]  Loss: 0.9832  Time/Image: 0.2237  lr=0.012603\n"
          ],
          "name": "stdout"
        },
        {
          "output_type": "stream",
          "text": [
            "INFO:ptsemseg:Iter [48180/50000]  Loss: 0.9811  Time/Image: 0.2208  lr=0.012601\n"
          ],
          "name": "stderr"
        },
        {
          "output_type": "stream",
          "text": [
            "Iter [48180/50000]  Loss: 0.9811  Time/Image: 0.2208  lr=0.012601\n"
          ],
          "name": "stdout"
        },
        {
          "output_type": "stream",
          "text": [
            "INFO:ptsemseg:Iter [48190/50000]  Loss: 0.9809  Time/Image: 0.2222  lr=0.012600\n"
          ],
          "name": "stderr"
        },
        {
          "output_type": "stream",
          "text": [
            "Iter [48190/50000]  Loss: 0.9809  Time/Image: 0.2222  lr=0.012600\n"
          ],
          "name": "stdout"
        },
        {
          "output_type": "stream",
          "text": [
            "INFO:ptsemseg:Iter [48200/50000]  Loss: 0.9820  Time/Image: 0.2141  lr=0.012598\n"
          ],
          "name": "stderr"
        },
        {
          "output_type": "stream",
          "text": [
            "Iter [48200/50000]  Loss: 0.9820  Time/Image: 0.2141  lr=0.012598\n"
          ],
          "name": "stdout"
        },
        {
          "output_type": "stream",
          "text": [
            "INFO:ptsemseg:Iter [48210/50000]  Loss: 0.9809  Time/Image: 0.2171  lr=0.012596\n"
          ],
          "name": "stderr"
        },
        {
          "output_type": "stream",
          "text": [
            "Iter [48210/50000]  Loss: 0.9809  Time/Image: 0.2171  lr=0.012596\n"
          ],
          "name": "stdout"
        },
        {
          "output_type": "stream",
          "text": [
            "INFO:ptsemseg:Iter [48220/50000]  Loss: 0.9776  Time/Image: 0.2229  lr=0.012595\n"
          ],
          "name": "stderr"
        },
        {
          "output_type": "stream",
          "text": [
            "Iter [48220/50000]  Loss: 0.9776  Time/Image: 0.2229  lr=0.012595\n"
          ],
          "name": "stdout"
        },
        {
          "output_type": "stream",
          "text": [
            "INFO:ptsemseg:Iter [48230/50000]  Loss: 0.9801  Time/Image: 0.2161  lr=0.012593\n"
          ],
          "name": "stderr"
        },
        {
          "output_type": "stream",
          "text": [
            "Iter [48230/50000]  Loss: 0.9801  Time/Image: 0.2161  lr=0.012593\n"
          ],
          "name": "stdout"
        },
        {
          "output_type": "stream",
          "text": [
            "INFO:ptsemseg:Iter [48240/50000]  Loss: 0.9812  Time/Image: 0.2078  lr=0.012592\n"
          ],
          "name": "stderr"
        },
        {
          "output_type": "stream",
          "text": [
            "Iter [48240/50000]  Loss: 0.9812  Time/Image: 0.2078  lr=0.012592\n"
          ],
          "name": "stdout"
        },
        {
          "output_type": "stream",
          "text": [
            "INFO:ptsemseg:Iter [48250/50000]  Loss: 0.9851  Time/Image: 0.2133  lr=0.012590\n"
          ],
          "name": "stderr"
        },
        {
          "output_type": "stream",
          "text": [
            "Iter [48250/50000]  Loss: 0.9851  Time/Image: 0.2133  lr=0.012590\n"
          ],
          "name": "stdout"
        },
        {
          "output_type": "stream",
          "text": [
            "INFO:ptsemseg:Iter [48260/50000]  Loss: 0.9835  Time/Image: 0.2169  lr=0.012588\n"
          ],
          "name": "stderr"
        },
        {
          "output_type": "stream",
          "text": [
            "Iter [48260/50000]  Loss: 0.9835  Time/Image: 0.2169  lr=0.012588\n"
          ],
          "name": "stdout"
        },
        {
          "output_type": "stream",
          "text": [
            "INFO:ptsemseg:Iter [48270/50000]  Loss: 0.9853  Time/Image: 0.2112  lr=0.012587\n"
          ],
          "name": "stderr"
        },
        {
          "output_type": "stream",
          "text": [
            "Iter [48270/50000]  Loss: 0.9853  Time/Image: 0.2112  lr=0.012587\n"
          ],
          "name": "stdout"
        },
        {
          "output_type": "stream",
          "text": [
            "INFO:ptsemseg:Iter [48280/50000]  Loss: 0.9848  Time/Image: 0.2093  lr=0.012585\n"
          ],
          "name": "stderr"
        },
        {
          "output_type": "stream",
          "text": [
            "Iter [48280/50000]  Loss: 0.9848  Time/Image: 0.2093  lr=0.012585\n"
          ],
          "name": "stdout"
        },
        {
          "output_type": "stream",
          "text": [
            "INFO:ptsemseg:Iter [48290/50000]  Loss: 0.9823  Time/Image: 0.2146  lr=0.012584\n"
          ],
          "name": "stderr"
        },
        {
          "output_type": "stream",
          "text": [
            "Iter [48290/50000]  Loss: 0.9823  Time/Image: 0.2146  lr=0.012584\n"
          ],
          "name": "stdout"
        },
        {
          "output_type": "stream",
          "text": [
            "INFO:ptsemseg:Iter [48300/50000]  Loss: 0.9811  Time/Image: 0.2165  lr=0.012582\n"
          ],
          "name": "stderr"
        },
        {
          "output_type": "stream",
          "text": [
            "Iter [48300/50000]  Loss: 0.9811  Time/Image: 0.2165  lr=0.012582\n"
          ],
          "name": "stdout"
        },
        {
          "output_type": "stream",
          "text": [
            "INFO:ptsemseg:Iter [48310/50000]  Loss: 0.9832  Time/Image: 0.2158  lr=0.012581\n"
          ],
          "name": "stderr"
        },
        {
          "output_type": "stream",
          "text": [
            "Iter [48310/50000]  Loss: 0.9832  Time/Image: 0.2158  lr=0.012581\n"
          ],
          "name": "stdout"
        },
        {
          "output_type": "stream",
          "text": [
            "INFO:ptsemseg:Iter [48320/50000]  Loss: 0.9837  Time/Image: 0.2143  lr=0.012579\n"
          ],
          "name": "stderr"
        },
        {
          "output_type": "stream",
          "text": [
            "Iter [48320/50000]  Loss: 0.9837  Time/Image: 0.2143  lr=0.012579\n"
          ],
          "name": "stdout"
        },
        {
          "output_type": "stream",
          "text": [
            "INFO:ptsemseg:Iter [48330/50000]  Loss: 0.9843  Time/Image: 0.2079  lr=0.012577\n"
          ],
          "name": "stderr"
        },
        {
          "output_type": "stream",
          "text": [
            "Iter [48330/50000]  Loss: 0.9843  Time/Image: 0.2079  lr=0.012577\n"
          ],
          "name": "stdout"
        },
        {
          "output_type": "stream",
          "text": [
            "INFO:ptsemseg:Iter [48340/50000]  Loss: 0.9847  Time/Image: 0.2082  lr=0.012576\n"
          ],
          "name": "stderr"
        },
        {
          "output_type": "stream",
          "text": [
            "Iter [48340/50000]  Loss: 0.9847  Time/Image: 0.2082  lr=0.012576\n"
          ],
          "name": "stdout"
        },
        {
          "output_type": "stream",
          "text": [
            "INFO:ptsemseg:Iter [48350/50000]  Loss: 0.9840  Time/Image: 0.2119  lr=0.012574\n"
          ],
          "name": "stderr"
        },
        {
          "output_type": "stream",
          "text": [
            "Iter [48350/50000]  Loss: 0.9840  Time/Image: 0.2119  lr=0.012574\n"
          ],
          "name": "stdout"
        },
        {
          "output_type": "stream",
          "text": [
            "INFO:ptsemseg:Iter [48360/50000]  Loss: 0.9833  Time/Image: 0.2191  lr=0.012573\n"
          ],
          "name": "stderr"
        },
        {
          "output_type": "stream",
          "text": [
            "Iter [48360/50000]  Loss: 0.9833  Time/Image: 0.2191  lr=0.012573\n"
          ],
          "name": "stdout"
        },
        {
          "output_type": "stream",
          "text": [
            "INFO:ptsemseg:Iter [48370/50000]  Loss: 0.9825  Time/Image: 0.2102  lr=0.012571\n"
          ],
          "name": "stderr"
        },
        {
          "output_type": "stream",
          "text": [
            "Iter [48370/50000]  Loss: 0.9825  Time/Image: 0.2102  lr=0.012571\n"
          ],
          "name": "stdout"
        },
        {
          "output_type": "stream",
          "text": [
            "INFO:ptsemseg:Iter [48380/50000]  Loss: 0.9843  Time/Image: 0.2123  lr=0.012570\n"
          ],
          "name": "stderr"
        },
        {
          "output_type": "stream",
          "text": [
            "Iter [48380/50000]  Loss: 0.9843  Time/Image: 0.2123  lr=0.012570\n"
          ],
          "name": "stdout"
        },
        {
          "output_type": "stream",
          "text": [
            "INFO:ptsemseg:Iter [48390/50000]  Loss: 0.9844  Time/Image: 0.2163  lr=0.012568\n"
          ],
          "name": "stderr"
        },
        {
          "output_type": "stream",
          "text": [
            "Iter [48390/50000]  Loss: 0.9844  Time/Image: 0.2163  lr=0.012568\n"
          ],
          "name": "stdout"
        },
        {
          "output_type": "stream",
          "text": [
            "INFO:ptsemseg:Iter [48400/50000]  Loss: 0.9827  Time/Image: 0.2151  lr=0.012566\n"
          ],
          "name": "stderr"
        },
        {
          "output_type": "stream",
          "text": [
            "Iter [48400/50000]  Loss: 0.9827  Time/Image: 0.2151  lr=0.012566\n"
          ],
          "name": "stdout"
        },
        {
          "output_type": "stream",
          "text": [
            "INFO:ptsemseg:Iter [48410/50000]  Loss: 0.9844  Time/Image: 0.1905  lr=0.012565\n"
          ],
          "name": "stderr"
        },
        {
          "output_type": "stream",
          "text": [
            "Iter [48410/50000]  Loss: 0.9844  Time/Image: 0.1905  lr=0.012565\n"
          ],
          "name": "stdout"
        },
        {
          "output_type": "stream",
          "text": [
            "INFO:ptsemseg:Iter [48420/50000]  Loss: 0.9839  Time/Image: 0.1910  lr=0.012563\n"
          ],
          "name": "stderr"
        },
        {
          "output_type": "stream",
          "text": [
            "Iter [48420/50000]  Loss: 0.9839  Time/Image: 0.1910  lr=0.012563\n"
          ],
          "name": "stdout"
        },
        {
          "output_type": "stream",
          "text": [
            "INFO:ptsemseg:Iter [48430/50000]  Loss: 0.9829  Time/Image: 0.2325  lr=0.012562\n"
          ],
          "name": "stderr"
        },
        {
          "output_type": "stream",
          "text": [
            "Iter [48430/50000]  Loss: 0.9829  Time/Image: 0.2325  lr=0.012562\n"
          ],
          "name": "stdout"
        },
        {
          "output_type": "stream",
          "text": [
            "INFO:ptsemseg:Iter [48440/50000]  Loss: 0.9818  Time/Image: 0.2290  lr=0.012560\n"
          ],
          "name": "stderr"
        },
        {
          "output_type": "stream",
          "text": [
            "Iter [48440/50000]  Loss: 0.9818  Time/Image: 0.2290  lr=0.012560\n"
          ],
          "name": "stdout"
        },
        {
          "output_type": "stream",
          "text": [
            "INFO:ptsemseg:Iter [48450/50000]  Loss: 0.9824  Time/Image: 0.2305  lr=0.012558\n"
          ],
          "name": "stderr"
        },
        {
          "output_type": "stream",
          "text": [
            "Iter [48450/50000]  Loss: 0.9824  Time/Image: 0.2305  lr=0.012558\n"
          ],
          "name": "stdout"
        },
        {
          "output_type": "stream",
          "text": [
            "INFO:ptsemseg:Iter [48460/50000]  Loss: 0.9820  Time/Image: 0.2342  lr=0.012557\n"
          ],
          "name": "stderr"
        },
        {
          "output_type": "stream",
          "text": [
            "Iter [48460/50000]  Loss: 0.9820  Time/Image: 0.2342  lr=0.012557\n"
          ],
          "name": "stdout"
        },
        {
          "output_type": "stream",
          "text": [
            "INFO:ptsemseg:Iter [48470/50000]  Loss: 0.9825  Time/Image: 0.2338  lr=0.012555\n"
          ],
          "name": "stderr"
        },
        {
          "output_type": "stream",
          "text": [
            "Iter [48470/50000]  Loss: 0.9825  Time/Image: 0.2338  lr=0.012555\n"
          ],
          "name": "stdout"
        },
        {
          "output_type": "stream",
          "text": [
            "INFO:ptsemseg:Iter [48480/50000]  Loss: 0.9822  Time/Image: 0.2289  lr=0.012554\n"
          ],
          "name": "stderr"
        },
        {
          "output_type": "stream",
          "text": [
            "Iter [48480/50000]  Loss: 0.9822  Time/Image: 0.2289  lr=0.012554\n"
          ],
          "name": "stdout"
        },
        {
          "output_type": "stream",
          "text": [
            "INFO:ptsemseg:Iter [48490/50000]  Loss: 0.9819  Time/Image: 0.2297  lr=0.012552\n"
          ],
          "name": "stderr"
        },
        {
          "output_type": "stream",
          "text": [
            "Iter [48490/50000]  Loss: 0.9819  Time/Image: 0.2297  lr=0.012552\n"
          ],
          "name": "stdout"
        },
        {
          "output_type": "stream",
          "text": [
            "INFO:ptsemseg:Iter [48500/50000]  Loss: 0.9816  Time/Image: 0.2239  lr=0.012551\n"
          ],
          "name": "stderr"
        },
        {
          "output_type": "stream",
          "text": [
            "Iter [48500/50000]  Loss: 0.9816  Time/Image: 0.2239  lr=0.012551\n"
          ],
          "name": "stdout"
        },
        {
          "output_type": "stream",
          "text": [
            "84it [03:33,  2.54s/it]\n",
            "INFO:ptsemseg:Iter 48500 Val Loss: 0.9482\n",
            "INFO:ptsemseg:Overall Acc: \t: 0.923830509594011\n",
            "INFO:ptsemseg:Mean Acc : \t: 0.6836038490264245\n",
            "INFO:ptsemseg:FreqW Acc : \t: 0.8675570938426632\n",
            "INFO:ptsemseg:Mean IoU : \t: 0.5675243149203948\n",
            "INFO:ptsemseg:0: 0.9605559973286766\n",
            "INFO:ptsemseg:1: 0.6962068929763748\n",
            "INFO:ptsemseg:2: 0.873814695175479\n",
            "INFO:ptsemseg:3: 0.20842346885636956\n",
            "INFO:ptsemseg:4: 0.4076120793572321\n",
            "INFO:ptsemseg:5: 0.44309464885216526\n",
            "INFO:ptsemseg:6: 0.4369510183230572\n",
            "INFO:ptsemseg:7: 0.6380396396733904\n",
            "INFO:ptsemseg:8: 0.8718433259723496\n",
            "INFO:ptsemseg:9: 0.41890922986406764\n",
            "INFO:ptsemseg:10: 0.9080898209034886\n",
            "INFO:ptsemseg:11: 0.6820730087274672\n",
            "INFO:ptsemseg:12: 0.4437643683490318\n",
            "INFO:ptsemseg:13: 0.8829052064302957\n",
            "INFO:ptsemseg:14: 0.2947819572645816\n",
            "INFO:ptsemseg:15: 0.5694759741668582\n",
            "INFO:ptsemseg:16: 0.14990014456964665\n",
            "INFO:ptsemseg:17: 0.2767021876491086\n",
            "INFO:ptsemseg:18: 0.6198183190478602\n"
          ],
          "name": "stderr"
        },
        {
          "output_type": "stream",
          "text": [
            "Overall Acc: \t 0.923830509594011\n",
            "Mean Acc : \t 0.6836038490264245\n",
            "FreqW Acc : \t 0.8675570938426632\n",
            "Mean IoU : \t 0.5675243149203948\n"
          ],
          "name": "stdout"
        },
        {
          "output_type": "stream",
          "text": [
            "INFO:ptsemseg:Iter [48510/50000]  Loss: 1.0002  Time/Image: 0.2046  lr=0.012549\n"
          ],
          "name": "stderr"
        },
        {
          "output_type": "stream",
          "text": [
            "Iter [48510/50000]  Loss: 1.0002  Time/Image: 0.2046  lr=0.012549\n"
          ],
          "name": "stdout"
        },
        {
          "output_type": "stream",
          "text": [
            "INFO:ptsemseg:Iter [48520/50000]  Loss: 0.9806  Time/Image: 0.2206  lr=0.012547\n"
          ],
          "name": "stderr"
        },
        {
          "output_type": "stream",
          "text": [
            "Iter [48520/50000]  Loss: 0.9806  Time/Image: 0.2206  lr=0.012547\n"
          ],
          "name": "stdout"
        },
        {
          "output_type": "stream",
          "text": [
            "INFO:ptsemseg:Iter [48530/50000]  Loss: 0.9906  Time/Image: 0.2180  lr=0.012546\n"
          ],
          "name": "stderr"
        },
        {
          "output_type": "stream",
          "text": [
            "Iter [48530/50000]  Loss: 0.9906  Time/Image: 0.2180  lr=0.012546\n"
          ],
          "name": "stdout"
        },
        {
          "output_type": "stream",
          "text": [
            "INFO:ptsemseg:Iter [48540/50000]  Loss: 0.9852  Time/Image: 0.2260  lr=0.012544\n"
          ],
          "name": "stderr"
        },
        {
          "output_type": "stream",
          "text": [
            "Iter [48540/50000]  Loss: 0.9852  Time/Image: 0.2260  lr=0.012544\n"
          ],
          "name": "stdout"
        },
        {
          "output_type": "stream",
          "text": [
            "INFO:ptsemseg:Iter [48550/50000]  Loss: 0.9783  Time/Image: 0.2278  lr=0.012543\n"
          ],
          "name": "stderr"
        },
        {
          "output_type": "stream",
          "text": [
            "Iter [48550/50000]  Loss: 0.9783  Time/Image: 0.2278  lr=0.012543\n"
          ],
          "name": "stdout"
        },
        {
          "output_type": "stream",
          "text": [
            "INFO:ptsemseg:Iter [48560/50000]  Loss: 0.9797  Time/Image: 0.2284  lr=0.012541\n"
          ],
          "name": "stderr"
        },
        {
          "output_type": "stream",
          "text": [
            "Iter [48560/50000]  Loss: 0.9797  Time/Image: 0.2284  lr=0.012541\n"
          ],
          "name": "stdout"
        },
        {
          "output_type": "stream",
          "text": [
            "INFO:ptsemseg:Iter [48570/50000]  Loss: 0.9885  Time/Image: 0.2232  lr=0.012540\n"
          ],
          "name": "stderr"
        },
        {
          "output_type": "stream",
          "text": [
            "Iter [48570/50000]  Loss: 0.9885  Time/Image: 0.2232  lr=0.012540\n"
          ],
          "name": "stdout"
        },
        {
          "output_type": "stream",
          "text": [
            "INFO:ptsemseg:Iter [48580/50000]  Loss: 0.9911  Time/Image: 0.2266  lr=0.012538\n"
          ],
          "name": "stderr"
        },
        {
          "output_type": "stream",
          "text": [
            "Iter [48580/50000]  Loss: 0.9911  Time/Image: 0.2266  lr=0.012538\n"
          ],
          "name": "stdout"
        },
        {
          "output_type": "stream",
          "text": [
            "INFO:ptsemseg:Iter [48590/50000]  Loss: 0.9781  Time/Image: 0.2256  lr=0.012536\n"
          ],
          "name": "stderr"
        },
        {
          "output_type": "stream",
          "text": [
            "Iter [48590/50000]  Loss: 0.9781  Time/Image: 0.2256  lr=0.012536\n"
          ],
          "name": "stdout"
        },
        {
          "output_type": "stream",
          "text": [
            "INFO:ptsemseg:Iter [48600/50000]  Loss: 0.9741  Time/Image: 0.2286  lr=0.012535\n"
          ],
          "name": "stderr"
        },
        {
          "output_type": "stream",
          "text": [
            "Iter [48600/50000]  Loss: 0.9741  Time/Image: 0.2286  lr=0.012535\n"
          ],
          "name": "stdout"
        },
        {
          "output_type": "stream",
          "text": [
            "INFO:ptsemseg:Iter [48610/50000]  Loss: 0.9767  Time/Image: 0.2242  lr=0.012533\n"
          ],
          "name": "stderr"
        },
        {
          "output_type": "stream",
          "text": [
            "Iter [48610/50000]  Loss: 0.9767  Time/Image: 0.2242  lr=0.012533\n"
          ],
          "name": "stdout"
        },
        {
          "output_type": "stream",
          "text": [
            "INFO:ptsemseg:Iter [48620/50000]  Loss: 0.9785  Time/Image: 0.2255  lr=0.012532\n"
          ],
          "name": "stderr"
        },
        {
          "output_type": "stream",
          "text": [
            "Iter [48620/50000]  Loss: 0.9785  Time/Image: 0.2255  lr=0.012532\n"
          ],
          "name": "stdout"
        },
        {
          "output_type": "stream",
          "text": [
            "INFO:ptsemseg:Iter [48630/50000]  Loss: 0.9788  Time/Image: 0.2216  lr=0.012530\n"
          ],
          "name": "stderr"
        },
        {
          "output_type": "stream",
          "text": [
            "Iter [48630/50000]  Loss: 0.9788  Time/Image: 0.2216  lr=0.012530\n"
          ],
          "name": "stdout"
        },
        {
          "output_type": "stream",
          "text": [
            "INFO:ptsemseg:Iter [48640/50000]  Loss: 0.9780  Time/Image: 0.2244  lr=0.012528\n"
          ],
          "name": "stderr"
        },
        {
          "output_type": "stream",
          "text": [
            "Iter [48640/50000]  Loss: 0.9780  Time/Image: 0.2244  lr=0.012528\n"
          ],
          "name": "stdout"
        },
        {
          "output_type": "stream",
          "text": [
            "INFO:ptsemseg:Iter [48650/50000]  Loss: 0.9777  Time/Image: 0.2237  lr=0.012527\n"
          ],
          "name": "stderr"
        },
        {
          "output_type": "stream",
          "text": [
            "Iter [48650/50000]  Loss: 0.9777  Time/Image: 0.2237  lr=0.012527\n"
          ],
          "name": "stdout"
        },
        {
          "output_type": "stream",
          "text": [
            "INFO:ptsemseg:Iter [48660/50000]  Loss: 0.9734  Time/Image: 0.2243  lr=0.012525\n"
          ],
          "name": "stderr"
        },
        {
          "output_type": "stream",
          "text": [
            "Iter [48660/50000]  Loss: 0.9734  Time/Image: 0.2243  lr=0.012525\n"
          ],
          "name": "stdout"
        },
        {
          "output_type": "stream",
          "text": [
            "INFO:ptsemseg:Iter [48670/50000]  Loss: 0.9804  Time/Image: 0.2234  lr=0.012524\n"
          ],
          "name": "stderr"
        },
        {
          "output_type": "stream",
          "text": [
            "Iter [48670/50000]  Loss: 0.9804  Time/Image: 0.2234  lr=0.012524\n"
          ],
          "name": "stdout"
        },
        {
          "output_type": "stream",
          "text": [
            "INFO:ptsemseg:Iter [48680/50000]  Loss: 0.9810  Time/Image: 0.2200  lr=0.012522\n"
          ],
          "name": "stderr"
        },
        {
          "output_type": "stream",
          "text": [
            "Iter [48680/50000]  Loss: 0.9810  Time/Image: 0.2200  lr=0.012522\n"
          ],
          "name": "stdout"
        },
        {
          "output_type": "stream",
          "text": [
            "INFO:ptsemseg:Iter [48690/50000]  Loss: 0.9807  Time/Image: 0.2218  lr=0.012521\n"
          ],
          "name": "stderr"
        },
        {
          "output_type": "stream",
          "text": [
            "Iter [48690/50000]  Loss: 0.9807  Time/Image: 0.2218  lr=0.012521\n"
          ],
          "name": "stdout"
        },
        {
          "output_type": "stream",
          "text": [
            "INFO:ptsemseg:Iter [48700/50000]  Loss: 0.9817  Time/Image: 0.2223  lr=0.012519\n"
          ],
          "name": "stderr"
        },
        {
          "output_type": "stream",
          "text": [
            "Iter [48700/50000]  Loss: 0.9817  Time/Image: 0.2223  lr=0.012519\n"
          ],
          "name": "stdout"
        },
        {
          "output_type": "stream",
          "text": [
            "INFO:ptsemseg:Iter [48710/50000]  Loss: 0.9838  Time/Image: 0.2156  lr=0.012517\n"
          ],
          "name": "stderr"
        },
        {
          "output_type": "stream",
          "text": [
            "Iter [48710/50000]  Loss: 0.9838  Time/Image: 0.2156  lr=0.012517\n"
          ],
          "name": "stdout"
        },
        {
          "output_type": "stream",
          "text": [
            "INFO:ptsemseg:Iter [48720/50000]  Loss: 0.9816  Time/Image: 0.2158  lr=0.012516\n"
          ],
          "name": "stderr"
        },
        {
          "output_type": "stream",
          "text": [
            "Iter [48720/50000]  Loss: 0.9816  Time/Image: 0.2158  lr=0.012516\n"
          ],
          "name": "stdout"
        },
        {
          "output_type": "stream",
          "text": [
            "INFO:ptsemseg:Iter [48730/50000]  Loss: 0.9865  Time/Image: 0.2166  lr=0.012514\n"
          ],
          "name": "stderr"
        },
        {
          "output_type": "stream",
          "text": [
            "Iter [48730/50000]  Loss: 0.9865  Time/Image: 0.2166  lr=0.012514\n"
          ],
          "name": "stdout"
        },
        {
          "output_type": "stream",
          "text": [
            "INFO:ptsemseg:Iter [48740/50000]  Loss: 0.9889  Time/Image: 0.2213  lr=0.012513\n"
          ],
          "name": "stderr"
        },
        {
          "output_type": "stream",
          "text": [
            "Iter [48740/50000]  Loss: 0.9889  Time/Image: 0.2213  lr=0.012513\n"
          ],
          "name": "stdout"
        },
        {
          "output_type": "stream",
          "text": [
            "INFO:ptsemseg:Iter [48750/50000]  Loss: 0.9893  Time/Image: 0.2180  lr=0.012511\n"
          ],
          "name": "stderr"
        },
        {
          "output_type": "stream",
          "text": [
            "Iter [48750/50000]  Loss: 0.9893  Time/Image: 0.2180  lr=0.012511\n"
          ],
          "name": "stdout"
        },
        {
          "output_type": "stream",
          "text": [
            "INFO:ptsemseg:Iter [48760/50000]  Loss: 0.9892  Time/Image: 0.2170  lr=0.012510\n"
          ],
          "name": "stderr"
        },
        {
          "output_type": "stream",
          "text": [
            "Iter [48760/50000]  Loss: 0.9892  Time/Image: 0.2170  lr=0.012510\n"
          ],
          "name": "stdout"
        },
        {
          "output_type": "stream",
          "text": [
            "INFO:ptsemseg:Iter [48770/50000]  Loss: 0.9898  Time/Image: 0.2171  lr=0.012508\n"
          ],
          "name": "stderr"
        },
        {
          "output_type": "stream",
          "text": [
            "Iter [48770/50000]  Loss: 0.9898  Time/Image: 0.2171  lr=0.012508\n"
          ],
          "name": "stdout"
        },
        {
          "output_type": "stream",
          "text": [
            "INFO:ptsemseg:Iter [48780/50000]  Loss: 0.9903  Time/Image: 0.2164  lr=0.012506\n"
          ],
          "name": "stderr"
        },
        {
          "output_type": "stream",
          "text": [
            "Iter [48780/50000]  Loss: 0.9903  Time/Image: 0.2164  lr=0.012506\n"
          ],
          "name": "stdout"
        },
        {
          "output_type": "stream",
          "text": [
            "INFO:ptsemseg:Iter [48790/50000]  Loss: 0.9914  Time/Image: 0.2138  lr=0.012505\n"
          ],
          "name": "stderr"
        },
        {
          "output_type": "stream",
          "text": [
            "Iter [48790/50000]  Loss: 0.9914  Time/Image: 0.2138  lr=0.012505\n"
          ],
          "name": "stdout"
        },
        {
          "output_type": "stream",
          "text": [
            "INFO:ptsemseg:Iter [48800/50000]  Loss: 0.9907  Time/Image: 0.2093  lr=0.012503\n"
          ],
          "name": "stderr"
        },
        {
          "output_type": "stream",
          "text": [
            "Iter [48800/50000]  Loss: 0.9907  Time/Image: 0.2093  lr=0.012503\n"
          ],
          "name": "stdout"
        },
        {
          "output_type": "stream",
          "text": [
            "INFO:ptsemseg:Iter [48810/50000]  Loss: 0.9897  Time/Image: 0.2131  lr=0.012502\n"
          ],
          "name": "stderr"
        },
        {
          "output_type": "stream",
          "text": [
            "Iter [48810/50000]  Loss: 0.9897  Time/Image: 0.2131  lr=0.012502\n"
          ],
          "name": "stdout"
        },
        {
          "output_type": "stream",
          "text": [
            "INFO:ptsemseg:Iter [48820/50000]  Loss: 0.9933  Time/Image: 0.2056  lr=0.012500\n"
          ],
          "name": "stderr"
        },
        {
          "output_type": "stream",
          "text": [
            "Iter [48820/50000]  Loss: 0.9933  Time/Image: 0.2056  lr=0.012500\n"
          ],
          "name": "stdout"
        },
        {
          "output_type": "stream",
          "text": [
            "INFO:ptsemseg:Iter [48830/50000]  Loss: 0.9923  Time/Image: 0.2117  lr=0.012498\n"
          ],
          "name": "stderr"
        },
        {
          "output_type": "stream",
          "text": [
            "Iter [48830/50000]  Loss: 0.9923  Time/Image: 0.2117  lr=0.012498\n"
          ],
          "name": "stdout"
        },
        {
          "output_type": "stream",
          "text": [
            "INFO:ptsemseg:Iter [48840/50000]  Loss: 0.9932  Time/Image: 0.2064  lr=0.012497\n"
          ],
          "name": "stderr"
        },
        {
          "output_type": "stream",
          "text": [
            "Iter [48840/50000]  Loss: 0.9932  Time/Image: 0.2064  lr=0.012497\n"
          ],
          "name": "stdout"
        },
        {
          "output_type": "stream",
          "text": [
            "INFO:ptsemseg:Iter [48850/50000]  Loss: 0.9908  Time/Image: 0.2108  lr=0.012495\n"
          ],
          "name": "stderr"
        },
        {
          "output_type": "stream",
          "text": [
            "Iter [48850/50000]  Loss: 0.9908  Time/Image: 0.2108  lr=0.012495\n"
          ],
          "name": "stdout"
        },
        {
          "output_type": "stream",
          "text": [
            "INFO:ptsemseg:Iter [48860/50000]  Loss: 0.9927  Time/Image: 0.2009  lr=0.012494\n"
          ],
          "name": "stderr"
        },
        {
          "output_type": "stream",
          "text": [
            "Iter [48860/50000]  Loss: 0.9927  Time/Image: 0.2009  lr=0.012494\n"
          ],
          "name": "stdout"
        },
        {
          "output_type": "stream",
          "text": [
            "INFO:ptsemseg:Iter [48870/50000]  Loss: 0.9906  Time/Image: 0.2106  lr=0.012492\n"
          ],
          "name": "stderr"
        },
        {
          "output_type": "stream",
          "text": [
            "Iter [48870/50000]  Loss: 0.9906  Time/Image: 0.2106  lr=0.012492\n"
          ],
          "name": "stdout"
        },
        {
          "output_type": "stream",
          "text": [
            "INFO:ptsemseg:Iter [48880/50000]  Loss: 0.9911  Time/Image: 0.2112  lr=0.012491\n"
          ],
          "name": "stderr"
        },
        {
          "output_type": "stream",
          "text": [
            "Iter [48880/50000]  Loss: 0.9911  Time/Image: 0.2112  lr=0.012491\n"
          ],
          "name": "stdout"
        },
        {
          "output_type": "stream",
          "text": [
            "INFO:ptsemseg:Iter [48890/50000]  Loss: 0.9913  Time/Image: 0.2008  lr=0.012489\n"
          ],
          "name": "stderr"
        },
        {
          "output_type": "stream",
          "text": [
            "Iter [48890/50000]  Loss: 0.9913  Time/Image: 0.2008  lr=0.012489\n"
          ],
          "name": "stdout"
        },
        {
          "output_type": "stream",
          "text": [
            "INFO:ptsemseg:Iter [48900/50000]  Loss: 0.9905  Time/Image: 0.2061  lr=0.012487\n"
          ],
          "name": "stderr"
        },
        {
          "output_type": "stream",
          "text": [
            "Iter [48900/50000]  Loss: 0.9905  Time/Image: 0.2061  lr=0.012487\n"
          ],
          "name": "stdout"
        },
        {
          "output_type": "stream",
          "text": [
            "INFO:ptsemseg:Iter [48910/50000]  Loss: 0.9894  Time/Image: 0.1866  lr=0.012486\n"
          ],
          "name": "stderr"
        },
        {
          "output_type": "stream",
          "text": [
            "Iter [48910/50000]  Loss: 0.9894  Time/Image: 0.1866  lr=0.012486\n"
          ],
          "name": "stdout"
        },
        {
          "output_type": "stream",
          "text": [
            "INFO:ptsemseg:Iter [48920/50000]  Loss: 0.9893  Time/Image: 0.2113  lr=0.012484\n"
          ],
          "name": "stderr"
        },
        {
          "output_type": "stream",
          "text": [
            "Iter [48920/50000]  Loss: 0.9893  Time/Image: 0.2113  lr=0.012484\n"
          ],
          "name": "stdout"
        },
        {
          "output_type": "stream",
          "text": [
            "INFO:ptsemseg:Iter [48930/50000]  Loss: 0.9899  Time/Image: 0.2259  lr=0.012483\n"
          ],
          "name": "stderr"
        },
        {
          "output_type": "stream",
          "text": [
            "Iter [48930/50000]  Loss: 0.9899  Time/Image: 0.2259  lr=0.012483\n"
          ],
          "name": "stdout"
        },
        {
          "output_type": "stream",
          "text": [
            "INFO:ptsemseg:Iter [48940/50000]  Loss: 0.9890  Time/Image: 0.2249  lr=0.012481\n"
          ],
          "name": "stderr"
        },
        {
          "output_type": "stream",
          "text": [
            "Iter [48940/50000]  Loss: 0.9890  Time/Image: 0.2249  lr=0.012481\n"
          ],
          "name": "stdout"
        },
        {
          "output_type": "stream",
          "text": [
            "INFO:ptsemseg:Iter [48950/50000]  Loss: 0.9889  Time/Image: 0.2283  lr=0.012479\n"
          ],
          "name": "stderr"
        },
        {
          "output_type": "stream",
          "text": [
            "Iter [48950/50000]  Loss: 0.9889  Time/Image: 0.2283  lr=0.012479\n"
          ],
          "name": "stdout"
        },
        {
          "output_type": "stream",
          "text": [
            "INFO:ptsemseg:Iter [48960/50000]  Loss: 0.9875  Time/Image: 0.2308  lr=0.012478\n"
          ],
          "name": "stderr"
        },
        {
          "output_type": "stream",
          "text": [
            "Iter [48960/50000]  Loss: 0.9875  Time/Image: 0.2308  lr=0.012478\n"
          ],
          "name": "stdout"
        },
        {
          "output_type": "stream",
          "text": [
            "INFO:ptsemseg:Iter [48970/50000]  Loss: 0.9882  Time/Image: 0.2265  lr=0.012476\n"
          ],
          "name": "stderr"
        },
        {
          "output_type": "stream",
          "text": [
            "Iter [48970/50000]  Loss: 0.9882  Time/Image: 0.2265  lr=0.012476\n"
          ],
          "name": "stdout"
        },
        {
          "output_type": "stream",
          "text": [
            "INFO:ptsemseg:Iter [48980/50000]  Loss: 0.9860  Time/Image: 0.2309  lr=0.012475\n"
          ],
          "name": "stderr"
        },
        {
          "output_type": "stream",
          "text": [
            "Iter [48980/50000]  Loss: 0.9860  Time/Image: 0.2309  lr=0.012475\n"
          ],
          "name": "stdout"
        },
        {
          "output_type": "stream",
          "text": [
            "INFO:ptsemseg:Iter [48990/50000]  Loss: 0.9867  Time/Image: 0.2315  lr=0.012473\n"
          ],
          "name": "stderr"
        },
        {
          "output_type": "stream",
          "text": [
            "Iter [48990/50000]  Loss: 0.9867  Time/Image: 0.2315  lr=0.012473\n"
          ],
          "name": "stdout"
        },
        {
          "output_type": "stream",
          "text": [
            "INFO:ptsemseg:Iter [49000/50000]  Loss: 0.9874  Time/Image: 0.2279  lr=0.012472\n"
          ],
          "name": "stderr"
        },
        {
          "output_type": "stream",
          "text": [
            "Iter [49000/50000]  Loss: 0.9874  Time/Image: 0.2279  lr=0.012472\n"
          ],
          "name": "stdout"
        },
        {
          "output_type": "stream",
          "text": [
            "84it [03:30,  2.51s/it]\n",
            "INFO:ptsemseg:Iter 49000 Val Loss: 1.0111\n",
            "INFO:ptsemseg:Overall Acc: \t: 0.9341845374722865\n",
            "INFO:ptsemseg:Mean Acc : \t: 0.6590127579011952\n",
            "INFO:ptsemseg:FreqW Acc : \t: 0.8831775906522336\n",
            "INFO:ptsemseg:Mean IoU : \t: 0.5707990433123086\n",
            "INFO:ptsemseg:0: 0.9697711250082489\n",
            "INFO:ptsemseg:1: 0.7723590895922143\n",
            "INFO:ptsemseg:2: 0.8845083366455225\n",
            "INFO:ptsemseg:3: 0.3023402422773804\n",
            "INFO:ptsemseg:4: 0.40139020335786924\n",
            "INFO:ptsemseg:5: 0.4508073288737491\n",
            "INFO:ptsemseg:6: 0.45591356144066947\n",
            "INFO:ptsemseg:7: 0.6236956333518945\n",
            "INFO:ptsemseg:8: 0.8957126448352966\n",
            "INFO:ptsemseg:9: 0.539972962350027\n",
            "INFO:ptsemseg:10: 0.9294883101134139\n",
            "INFO:ptsemseg:11: 0.7164718328630599\n",
            "INFO:ptsemseg:12: 0.44813338629338956\n",
            "INFO:ptsemseg:13: 0.8808586148939543\n",
            "INFO:ptsemseg:14: 0.16994747393568677\n",
            "INFO:ptsemseg:15: 0.3063649972159662\n",
            "INFO:ptsemseg:16: 0.2235292192107892\n",
            "INFO:ptsemseg:17: 0.23060751601943938\n",
            "INFO:ptsemseg:18: 0.6433093446552924\n"
          ],
          "name": "stderr"
        },
        {
          "output_type": "stream",
          "text": [
            "Overall Acc: \t 0.9341845374722865\n",
            "Mean Acc : \t 0.6590127579011952\n",
            "FreqW Acc : \t 0.8831775906522336\n",
            "Mean IoU : \t 0.5707990433123086\n"
          ],
          "name": "stdout"
        },
        {
          "output_type": "stream",
          "text": [
            "INFO:ptsemseg:Iter [49010/50000]  Loss: 1.0178  Time/Image: 0.1967  lr=0.012470\n"
          ],
          "name": "stderr"
        },
        {
          "output_type": "stream",
          "text": [
            "Iter [49010/50000]  Loss: 1.0178  Time/Image: 0.1967  lr=0.012470\n"
          ],
          "name": "stdout"
        },
        {
          "output_type": "stream",
          "text": [
            "INFO:ptsemseg:Iter [49020/50000]  Loss: 0.9647  Time/Image: 0.2315  lr=0.012468\n"
          ],
          "name": "stderr"
        },
        {
          "output_type": "stream",
          "text": [
            "Iter [49020/50000]  Loss: 0.9647  Time/Image: 0.2315  lr=0.012468\n"
          ],
          "name": "stdout"
        },
        {
          "output_type": "stream",
          "text": [
            "INFO:ptsemseg:Iter [49030/50000]  Loss: 0.9830  Time/Image: 0.2242  lr=0.012467\n"
          ],
          "name": "stderr"
        },
        {
          "output_type": "stream",
          "text": [
            "Iter [49030/50000]  Loss: 0.9830  Time/Image: 0.2242  lr=0.012467\n"
          ],
          "name": "stdout"
        },
        {
          "output_type": "stream",
          "text": [
            "INFO:ptsemseg:Iter [49040/50000]  Loss: 0.9975  Time/Image: 0.2261  lr=0.012465\n"
          ],
          "name": "stderr"
        },
        {
          "output_type": "stream",
          "text": [
            "Iter [49040/50000]  Loss: 0.9975  Time/Image: 0.2261  lr=0.012465\n"
          ],
          "name": "stdout"
        },
        {
          "output_type": "stream",
          "text": [
            "INFO:ptsemseg:Iter [49050/50000]  Loss: 0.9927  Time/Image: 0.2255  lr=0.012464\n"
          ],
          "name": "stderr"
        },
        {
          "output_type": "stream",
          "text": [
            "Iter [49050/50000]  Loss: 0.9927  Time/Image: 0.2255  lr=0.012464\n"
          ],
          "name": "stdout"
        },
        {
          "output_type": "stream",
          "text": [
            "INFO:ptsemseg:Iter [49060/50000]  Loss: 0.9935  Time/Image: 0.2249  lr=0.012462\n"
          ],
          "name": "stderr"
        },
        {
          "output_type": "stream",
          "text": [
            "Iter [49060/50000]  Loss: 0.9935  Time/Image: 0.2249  lr=0.012462\n"
          ],
          "name": "stdout"
        },
        {
          "output_type": "stream",
          "text": [
            "INFO:ptsemseg:Iter [49070/50000]  Loss: 0.9935  Time/Image: 0.2255  lr=0.012461\n"
          ],
          "name": "stderr"
        },
        {
          "output_type": "stream",
          "text": [
            "Iter [49070/50000]  Loss: 0.9935  Time/Image: 0.2255  lr=0.012461\n"
          ],
          "name": "stdout"
        },
        {
          "output_type": "stream",
          "text": [
            "INFO:ptsemseg:Iter [49080/50000]  Loss: 0.9894  Time/Image: 0.2247  lr=0.012459\n"
          ],
          "name": "stderr"
        },
        {
          "output_type": "stream",
          "text": [
            "Iter [49080/50000]  Loss: 0.9894  Time/Image: 0.2247  lr=0.012459\n"
          ],
          "name": "stdout"
        },
        {
          "output_type": "stream",
          "text": [
            "INFO:ptsemseg:Iter [49090/50000]  Loss: 0.9755  Time/Image: 0.2186  lr=0.012457\n"
          ],
          "name": "stderr"
        },
        {
          "output_type": "stream",
          "text": [
            "Iter [49090/50000]  Loss: 0.9755  Time/Image: 0.2186  lr=0.012457\n"
          ],
          "name": "stdout"
        },
        {
          "output_type": "stream",
          "text": [
            "INFO:ptsemseg:Iter [49100/50000]  Loss: 0.9723  Time/Image: 0.2261  lr=0.012456\n"
          ],
          "name": "stderr"
        },
        {
          "output_type": "stream",
          "text": [
            "Iter [49100/50000]  Loss: 0.9723  Time/Image: 0.2261  lr=0.012456\n"
          ],
          "name": "stdout"
        },
        {
          "output_type": "stream",
          "text": [
            "INFO:ptsemseg:Iter [49110/50000]  Loss: 0.9750  Time/Image: 0.2250  lr=0.012454\n"
          ],
          "name": "stderr"
        },
        {
          "output_type": "stream",
          "text": [
            "Iter [49110/50000]  Loss: 0.9750  Time/Image: 0.2250  lr=0.012454\n"
          ],
          "name": "stdout"
        },
        {
          "output_type": "stream",
          "text": [
            "INFO:ptsemseg:Iter [49120/50000]  Loss: 0.9712  Time/Image: 0.2222  lr=0.012453\n"
          ],
          "name": "stderr"
        },
        {
          "output_type": "stream",
          "text": [
            "Iter [49120/50000]  Loss: 0.9712  Time/Image: 0.2222  lr=0.012453\n"
          ],
          "name": "stdout"
        },
        {
          "output_type": "stream",
          "text": [
            "INFO:ptsemseg:Iter [49130/50000]  Loss: 0.9652  Time/Image: 0.2229  lr=0.012451\n"
          ],
          "name": "stderr"
        },
        {
          "output_type": "stream",
          "text": [
            "Iter [49130/50000]  Loss: 0.9652  Time/Image: 0.2229  lr=0.012451\n"
          ],
          "name": "stdout"
        },
        {
          "output_type": "stream",
          "text": [
            "INFO:ptsemseg:Iter [49140/50000]  Loss: 0.9706  Time/Image: 0.2251  lr=0.012449\n"
          ],
          "name": "stderr"
        },
        {
          "output_type": "stream",
          "text": [
            "Iter [49140/50000]  Loss: 0.9706  Time/Image: 0.2251  lr=0.012449\n"
          ],
          "name": "stdout"
        },
        {
          "output_type": "stream",
          "text": [
            "INFO:ptsemseg:Iter [49150/50000]  Loss: 0.9753  Time/Image: 0.2191  lr=0.012448\n"
          ],
          "name": "stderr"
        },
        {
          "output_type": "stream",
          "text": [
            "Iter [49150/50000]  Loss: 0.9753  Time/Image: 0.2191  lr=0.012448\n"
          ],
          "name": "stdout"
        },
        {
          "output_type": "stream",
          "text": [
            "INFO:ptsemseg:Iter [49160/50000]  Loss: 0.9689  Time/Image: 0.2171  lr=0.012446\n"
          ],
          "name": "stderr"
        },
        {
          "output_type": "stream",
          "text": [
            "Iter [49160/50000]  Loss: 0.9689  Time/Image: 0.2171  lr=0.012446\n"
          ],
          "name": "stdout"
        },
        {
          "output_type": "stream",
          "text": [
            "INFO:ptsemseg:Iter [49170/50000]  Loss: 0.9702  Time/Image: 0.2221  lr=0.012445\n"
          ],
          "name": "stderr"
        },
        {
          "output_type": "stream",
          "text": [
            "Iter [49170/50000]  Loss: 0.9702  Time/Image: 0.2221  lr=0.012445\n"
          ],
          "name": "stdout"
        },
        {
          "output_type": "stream",
          "text": [
            "INFO:ptsemseg:Iter [49180/50000]  Loss: 0.9691  Time/Image: 0.2214  lr=0.012443\n"
          ],
          "name": "stderr"
        },
        {
          "output_type": "stream",
          "text": [
            "Iter [49180/50000]  Loss: 0.9691  Time/Image: 0.2214  lr=0.012443\n"
          ],
          "name": "stdout"
        },
        {
          "output_type": "stream",
          "text": [
            "INFO:ptsemseg:Iter [49190/50000]  Loss: 0.9753  Time/Image: 0.2142  lr=0.012442\n"
          ],
          "name": "stderr"
        },
        {
          "output_type": "stream",
          "text": [
            "Iter [49190/50000]  Loss: 0.9753  Time/Image: 0.2142  lr=0.012442\n"
          ],
          "name": "stdout"
        },
        {
          "output_type": "stream",
          "text": [
            "INFO:ptsemseg:Iter [49200/50000]  Loss: 0.9738  Time/Image: 0.2229  lr=0.012440\n"
          ],
          "name": "stderr"
        },
        {
          "output_type": "stream",
          "text": [
            "Iter [49200/50000]  Loss: 0.9738  Time/Image: 0.2229  lr=0.012440\n"
          ],
          "name": "stdout"
        },
        {
          "output_type": "stream",
          "text": [
            "INFO:ptsemseg:Iter [49210/50000]  Loss: 0.9782  Time/Image: 0.2191  lr=0.012438\n"
          ],
          "name": "stderr"
        },
        {
          "output_type": "stream",
          "text": [
            "Iter [49210/50000]  Loss: 0.9782  Time/Image: 0.2191  lr=0.012438\n"
          ],
          "name": "stdout"
        },
        {
          "output_type": "stream",
          "text": [
            "INFO:ptsemseg:Iter [49220/50000]  Loss: 0.9749  Time/Image: 0.2200  lr=0.012437\n"
          ],
          "name": "stderr"
        },
        {
          "output_type": "stream",
          "text": [
            "Iter [49220/50000]  Loss: 0.9749  Time/Image: 0.2200  lr=0.012437\n"
          ],
          "name": "stdout"
        },
        {
          "output_type": "stream",
          "text": [
            "INFO:ptsemseg:Iter [49230/50000]  Loss: 0.9767  Time/Image: 0.2145  lr=0.012435\n"
          ],
          "name": "stderr"
        },
        {
          "output_type": "stream",
          "text": [
            "Iter [49230/50000]  Loss: 0.9767  Time/Image: 0.2145  lr=0.012435\n"
          ],
          "name": "stdout"
        },
        {
          "output_type": "stream",
          "text": [
            "INFO:ptsemseg:Iter [49240/50000]  Loss: 0.9769  Time/Image: 0.2133  lr=0.012434\n"
          ],
          "name": "stderr"
        },
        {
          "output_type": "stream",
          "text": [
            "Iter [49240/50000]  Loss: 0.9769  Time/Image: 0.2133  lr=0.012434\n"
          ],
          "name": "stdout"
        },
        {
          "output_type": "stream",
          "text": [
            "INFO:ptsemseg:Iter [49250/50000]  Loss: 0.9752  Time/Image: 0.2188  lr=0.012432\n"
          ],
          "name": "stderr"
        },
        {
          "output_type": "stream",
          "text": [
            "Iter [49250/50000]  Loss: 0.9752  Time/Image: 0.2188  lr=0.012432\n"
          ],
          "name": "stdout"
        },
        {
          "output_type": "stream",
          "text": [
            "INFO:ptsemseg:Iter [49260/50000]  Loss: 0.9785  Time/Image: 0.2155  lr=0.012430\n"
          ],
          "name": "stderr"
        },
        {
          "output_type": "stream",
          "text": [
            "Iter [49260/50000]  Loss: 0.9785  Time/Image: 0.2155  lr=0.012430\n"
          ],
          "name": "stdout"
        },
        {
          "output_type": "stream",
          "text": [
            "INFO:ptsemseg:Iter [49270/50000]  Loss: 0.9749  Time/Image: 0.2154  lr=0.012429\n"
          ],
          "name": "stderr"
        },
        {
          "output_type": "stream",
          "text": [
            "Iter [49270/50000]  Loss: 0.9749  Time/Image: 0.2154  lr=0.012429\n"
          ],
          "name": "stdout"
        },
        {
          "output_type": "stream",
          "text": [
            "INFO:ptsemseg:Iter [49280/50000]  Loss: 0.9767  Time/Image: 0.2174  lr=0.012427\n"
          ],
          "name": "stderr"
        },
        {
          "output_type": "stream",
          "text": [
            "Iter [49280/50000]  Loss: 0.9767  Time/Image: 0.2174  lr=0.012427\n"
          ],
          "name": "stdout"
        },
        {
          "output_type": "stream",
          "text": [
            "INFO:ptsemseg:Iter [49290/50000]  Loss: 0.9787  Time/Image: 0.2124  lr=0.012426\n"
          ],
          "name": "stderr"
        },
        {
          "output_type": "stream",
          "text": [
            "Iter [49290/50000]  Loss: 0.9787  Time/Image: 0.2124  lr=0.012426\n"
          ],
          "name": "stdout"
        },
        {
          "output_type": "stream",
          "text": [
            "INFO:ptsemseg:Iter [49300/50000]  Loss: 0.9788  Time/Image: 0.2090  lr=0.012424\n"
          ],
          "name": "stderr"
        },
        {
          "output_type": "stream",
          "text": [
            "Iter [49300/50000]  Loss: 0.9788  Time/Image: 0.2090  lr=0.012424\n"
          ],
          "name": "stdout"
        },
        {
          "output_type": "stream",
          "text": [
            "INFO:ptsemseg:Iter [49310/50000]  Loss: 0.9804  Time/Image: 0.2041  lr=0.012423\n"
          ],
          "name": "stderr"
        },
        {
          "output_type": "stream",
          "text": [
            "Iter [49310/50000]  Loss: 0.9804  Time/Image: 0.2041  lr=0.012423\n"
          ],
          "name": "stdout"
        },
        {
          "output_type": "stream",
          "text": [
            "INFO:ptsemseg:Iter [49320/50000]  Loss: 0.9793  Time/Image: 0.2065  lr=0.012421\n"
          ],
          "name": "stderr"
        },
        {
          "output_type": "stream",
          "text": [
            "Iter [49320/50000]  Loss: 0.9793  Time/Image: 0.2065  lr=0.012421\n"
          ],
          "name": "stdout"
        },
        {
          "output_type": "stream",
          "text": [
            "INFO:ptsemseg:Iter [49330/50000]  Loss: 0.9772  Time/Image: 0.2127  lr=0.012419\n"
          ],
          "name": "stderr"
        },
        {
          "output_type": "stream",
          "text": [
            "Iter [49330/50000]  Loss: 0.9772  Time/Image: 0.2127  lr=0.012419\n"
          ],
          "name": "stdout"
        },
        {
          "output_type": "stream",
          "text": [
            "INFO:ptsemseg:Iter [49340/50000]  Loss: 0.9767  Time/Image: 0.2159  lr=0.012418\n"
          ],
          "name": "stderr"
        },
        {
          "output_type": "stream",
          "text": [
            "Iter [49340/50000]  Loss: 0.9767  Time/Image: 0.2159  lr=0.012418\n"
          ],
          "name": "stdout"
        },
        {
          "output_type": "stream",
          "text": [
            "INFO:ptsemseg:Iter [49350/50000]  Loss: 0.9777  Time/Image: 0.2095  lr=0.012416\n"
          ],
          "name": "stderr"
        },
        {
          "output_type": "stream",
          "text": [
            "Iter [49350/50000]  Loss: 0.9777  Time/Image: 0.2095  lr=0.012416\n"
          ],
          "name": "stdout"
        },
        {
          "output_type": "stream",
          "text": [
            "INFO:ptsemseg:Iter [49360/50000]  Loss: 0.9778  Time/Image: 0.2144  lr=0.012415\n"
          ],
          "name": "stderr"
        },
        {
          "output_type": "stream",
          "text": [
            "Iter [49360/50000]  Loss: 0.9778  Time/Image: 0.2144  lr=0.012415\n"
          ],
          "name": "stdout"
        },
        {
          "output_type": "stream",
          "text": [
            "INFO:ptsemseg:Iter [49370/50000]  Loss: 0.9777  Time/Image: 0.2110  lr=0.012413\n"
          ],
          "name": "stderr"
        },
        {
          "output_type": "stream",
          "text": [
            "Iter [49370/50000]  Loss: 0.9777  Time/Image: 0.2110  lr=0.012413\n"
          ],
          "name": "stdout"
        },
        {
          "output_type": "stream",
          "text": [
            "INFO:ptsemseg:Iter [49380/50000]  Loss: 0.9773  Time/Image: 0.2128  lr=0.012411\n"
          ],
          "name": "stderr"
        },
        {
          "output_type": "stream",
          "text": [
            "Iter [49380/50000]  Loss: 0.9773  Time/Image: 0.2128  lr=0.012411\n"
          ],
          "name": "stdout"
        },
        {
          "output_type": "stream",
          "text": [
            "INFO:ptsemseg:Iter [49390/50000]  Loss: 0.9768  Time/Image: 0.2098  lr=0.012410\n"
          ],
          "name": "stderr"
        },
        {
          "output_type": "stream",
          "text": [
            "Iter [49390/50000]  Loss: 0.9768  Time/Image: 0.2098  lr=0.012410\n"
          ],
          "name": "stdout"
        },
        {
          "output_type": "stream",
          "text": [
            "INFO:ptsemseg:Iter [49400/50000]  Loss: 0.9786  Time/Image: 0.2109  lr=0.012408\n"
          ],
          "name": "stderr"
        },
        {
          "output_type": "stream",
          "text": [
            "Iter [49400/50000]  Loss: 0.9786  Time/Image: 0.2109  lr=0.012408\n"
          ],
          "name": "stdout"
        },
        {
          "output_type": "stream",
          "text": [
            "INFO:ptsemseg:Iter [49410/50000]  Loss: 0.9788  Time/Image: 0.1768  lr=0.012407\n"
          ],
          "name": "stderr"
        },
        {
          "output_type": "stream",
          "text": [
            "Iter [49410/50000]  Loss: 0.9788  Time/Image: 0.1768  lr=0.012407\n"
          ],
          "name": "stdout"
        },
        {
          "output_type": "stream",
          "text": [
            "INFO:ptsemseg:Iter [49420/50000]  Loss: 0.9762  Time/Image: 0.2261  lr=0.012405\n"
          ],
          "name": "stderr"
        },
        {
          "output_type": "stream",
          "text": [
            "Iter [49420/50000]  Loss: 0.9762  Time/Image: 0.2261  lr=0.012405\n"
          ],
          "name": "stdout"
        },
        {
          "output_type": "stream",
          "text": [
            "INFO:ptsemseg:Iter [49430/50000]  Loss: 0.9764  Time/Image: 0.2250  lr=0.012404\n"
          ],
          "name": "stderr"
        },
        {
          "output_type": "stream",
          "text": [
            "Iter [49430/50000]  Loss: 0.9764  Time/Image: 0.2250  lr=0.012404\n"
          ],
          "name": "stdout"
        },
        {
          "output_type": "stream",
          "text": [
            "INFO:ptsemseg:Iter [49440/50000]  Loss: 0.9763  Time/Image: 0.2290  lr=0.012402\n"
          ],
          "name": "stderr"
        },
        {
          "output_type": "stream",
          "text": [
            "Iter [49440/50000]  Loss: 0.9763  Time/Image: 0.2290  lr=0.012402\n"
          ],
          "name": "stdout"
        },
        {
          "output_type": "stream",
          "text": [
            "INFO:ptsemseg:Iter [49450/50000]  Loss: 0.9754  Time/Image: 0.2262  lr=0.012400\n"
          ],
          "name": "stderr"
        },
        {
          "output_type": "stream",
          "text": [
            "Iter [49450/50000]  Loss: 0.9754  Time/Image: 0.2262  lr=0.012400\n"
          ],
          "name": "stdout"
        },
        {
          "output_type": "stream",
          "text": [
            "INFO:ptsemseg:Iter [49460/50000]  Loss: 0.9756  Time/Image: 0.2287  lr=0.012399\n"
          ],
          "name": "stderr"
        },
        {
          "output_type": "stream",
          "text": [
            "Iter [49460/50000]  Loss: 0.9756  Time/Image: 0.2287  lr=0.012399\n"
          ],
          "name": "stdout"
        },
        {
          "output_type": "stream",
          "text": [
            "INFO:ptsemseg:Iter [49470/50000]  Loss: 0.9741  Time/Image: 0.2278  lr=0.012397\n"
          ],
          "name": "stderr"
        },
        {
          "output_type": "stream",
          "text": [
            "Iter [49470/50000]  Loss: 0.9741  Time/Image: 0.2278  lr=0.012397\n"
          ],
          "name": "stdout"
        },
        {
          "output_type": "stream",
          "text": [
            "INFO:ptsemseg:Iter [49480/50000]  Loss: 0.9745  Time/Image: 0.2302  lr=0.012396\n"
          ],
          "name": "stderr"
        },
        {
          "output_type": "stream",
          "text": [
            "Iter [49480/50000]  Loss: 0.9745  Time/Image: 0.2302  lr=0.012396\n"
          ],
          "name": "stdout"
        },
        {
          "output_type": "stream",
          "text": [
            "INFO:ptsemseg:Iter [49490/50000]  Loss: 0.9745  Time/Image: 0.2318  lr=0.012394\n"
          ],
          "name": "stderr"
        },
        {
          "output_type": "stream",
          "text": [
            "Iter [49490/50000]  Loss: 0.9745  Time/Image: 0.2318  lr=0.012394\n"
          ],
          "name": "stdout"
        },
        {
          "output_type": "stream",
          "text": [
            "INFO:ptsemseg:Iter [49500/50000]  Loss: 0.9745  Time/Image: 0.2315  lr=0.012393\n"
          ],
          "name": "stderr"
        },
        {
          "output_type": "stream",
          "text": [
            "Iter [49500/50000]  Loss: 0.9745  Time/Image: 0.2315  lr=0.012393\n"
          ],
          "name": "stdout"
        },
        {
          "output_type": "stream",
          "text": [
            "84it [03:27,  2.47s/it]\n",
            "INFO:ptsemseg:Iter 49500 Val Loss: 0.9725\n",
            "INFO:ptsemseg:Overall Acc: \t: 0.927025051509076\n",
            "INFO:ptsemseg:Mean Acc : \t: 0.6507176122490933\n",
            "INFO:ptsemseg:FreqW Acc : \t: 0.8719164432167537\n",
            "INFO:ptsemseg:Mean IoU : \t: 0.5543284846064105\n",
            "INFO:ptsemseg:0: 0.9627124293369288\n",
            "INFO:ptsemseg:1: 0.7253599371874948\n",
            "INFO:ptsemseg:2: 0.8723688805063947\n",
            "INFO:ptsemseg:3: 0.2678770904110273\n",
            "INFO:ptsemseg:4: 0.408545451396389\n",
            "INFO:ptsemseg:5: 0.5074820878744564\n",
            "INFO:ptsemseg:6: 0.5016150505813493\n",
            "INFO:ptsemseg:7: 0.5649002305993064\n",
            "INFO:ptsemseg:8: 0.8997742617256537\n",
            "INFO:ptsemseg:9: 0.5548850960484301\n",
            "INFO:ptsemseg:10: 0.9165342913628184\n",
            "INFO:ptsemseg:11: 0.6661187972673627\n",
            "INFO:ptsemseg:12: 0.44833091299263345\n",
            "INFO:ptsemseg:13: 0.8295844140592601\n",
            "INFO:ptsemseg:14: 0.0629821876857915\n",
            "INFO:ptsemseg:15: 0.3568669925739614\n",
            "INFO:ptsemseg:16: 0.07850895655752713\n",
            "INFO:ptsemseg:17: 0.24596748893252618\n",
            "INFO:ptsemseg:18: 0.6618266504224866\n"
          ],
          "name": "stderr"
        },
        {
          "output_type": "stream",
          "text": [
            "Overall Acc: \t 0.927025051509076\n",
            "Mean Acc : \t 0.6507176122490933\n",
            "FreqW Acc : \t 0.8719164432167537\n",
            "Mean IoU : \t 0.5543284846064105\n"
          ],
          "name": "stdout"
        },
        {
          "output_type": "stream",
          "text": [
            "INFO:ptsemseg:Iter [49510/50000]  Loss: 1.0095  Time/Image: 0.1969  lr=0.012391\n"
          ],
          "name": "stderr"
        },
        {
          "output_type": "stream",
          "text": [
            "Iter [49510/50000]  Loss: 1.0095  Time/Image: 0.1969  lr=0.012391\n"
          ],
          "name": "stdout"
        },
        {
          "output_type": "stream",
          "text": [
            "INFO:ptsemseg:Iter [49520/50000]  Loss: 0.9364  Time/Image: 0.2268  lr=0.012389\n"
          ],
          "name": "stderr"
        },
        {
          "output_type": "stream",
          "text": [
            "Iter [49520/50000]  Loss: 0.9364  Time/Image: 0.2268  lr=0.012389\n"
          ],
          "name": "stdout"
        },
        {
          "output_type": "stream",
          "text": [
            "INFO:ptsemseg:Iter [49530/50000]  Loss: 0.9792  Time/Image: 0.2249  lr=0.012388\n"
          ],
          "name": "stderr"
        },
        {
          "output_type": "stream",
          "text": [
            "Iter [49530/50000]  Loss: 0.9792  Time/Image: 0.2249  lr=0.012388\n"
          ],
          "name": "stdout"
        },
        {
          "output_type": "stream",
          "text": [
            "INFO:ptsemseg:Iter [49540/50000]  Loss: 0.9956  Time/Image: 0.2233  lr=0.012386\n"
          ],
          "name": "stderr"
        },
        {
          "output_type": "stream",
          "text": [
            "Iter [49540/50000]  Loss: 0.9956  Time/Image: 0.2233  lr=0.012386\n"
          ],
          "name": "stdout"
        },
        {
          "output_type": "stream",
          "text": [
            "INFO:ptsemseg:Iter [49550/50000]  Loss: 0.9853  Time/Image: 0.2206  lr=0.012385\n"
          ],
          "name": "stderr"
        },
        {
          "output_type": "stream",
          "text": [
            "Iter [49550/50000]  Loss: 0.9853  Time/Image: 0.2206  lr=0.012385\n"
          ],
          "name": "stdout"
        },
        {
          "output_type": "stream",
          "text": [
            "INFO:ptsemseg:Iter [49560/50000]  Loss: 0.9821  Time/Image: 0.2209  lr=0.012383\n"
          ],
          "name": "stderr"
        },
        {
          "output_type": "stream",
          "text": [
            "Iter [49560/50000]  Loss: 0.9821  Time/Image: 0.2209  lr=0.012383\n"
          ],
          "name": "stdout"
        },
        {
          "output_type": "stream",
          "text": [
            "INFO:ptsemseg:Iter [49570/50000]  Loss: 0.9838  Time/Image: 0.2305  lr=0.012381\n"
          ],
          "name": "stderr"
        },
        {
          "output_type": "stream",
          "text": [
            "Iter [49570/50000]  Loss: 0.9838  Time/Image: 0.2305  lr=0.012381\n"
          ],
          "name": "stdout"
        },
        {
          "output_type": "stream",
          "text": [
            "INFO:ptsemseg:Iter [49580/50000]  Loss: 0.9818  Time/Image: 0.2229  lr=0.012380\n"
          ],
          "name": "stderr"
        },
        {
          "output_type": "stream",
          "text": [
            "Iter [49580/50000]  Loss: 0.9818  Time/Image: 0.2229  lr=0.012380\n"
          ],
          "name": "stdout"
        },
        {
          "output_type": "stream",
          "text": [
            "INFO:ptsemseg:Iter [49590/50000]  Loss: 0.9798  Time/Image: 0.2223  lr=0.012378\n"
          ],
          "name": "stderr"
        },
        {
          "output_type": "stream",
          "text": [
            "Iter [49590/50000]  Loss: 0.9798  Time/Image: 0.2223  lr=0.012378\n"
          ],
          "name": "stdout"
        },
        {
          "output_type": "stream",
          "text": [
            "INFO:ptsemseg:Iter [49600/50000]  Loss: 0.9718  Time/Image: 0.2242  lr=0.012377\n"
          ],
          "name": "stderr"
        },
        {
          "output_type": "stream",
          "text": [
            "Iter [49600/50000]  Loss: 0.9718  Time/Image: 0.2242  lr=0.012377\n"
          ],
          "name": "stdout"
        },
        {
          "output_type": "stream",
          "text": [
            "INFO:ptsemseg:Iter [49610/50000]  Loss: 0.9756  Time/Image: 0.2216  lr=0.012375\n"
          ],
          "name": "stderr"
        },
        {
          "output_type": "stream",
          "text": [
            "Iter [49610/50000]  Loss: 0.9756  Time/Image: 0.2216  lr=0.012375\n"
          ],
          "name": "stdout"
        },
        {
          "output_type": "stream",
          "text": [
            "INFO:ptsemseg:Iter [49620/50000]  Loss: 0.9772  Time/Image: 0.2233  lr=0.012374\n"
          ],
          "name": "stderr"
        },
        {
          "output_type": "stream",
          "text": [
            "Iter [49620/50000]  Loss: 0.9772  Time/Image: 0.2233  lr=0.012374\n"
          ],
          "name": "stdout"
        },
        {
          "output_type": "stream",
          "text": [
            "INFO:ptsemseg:Iter [49630/50000]  Loss: 0.9783  Time/Image: 0.2202  lr=0.012372\n"
          ],
          "name": "stderr"
        },
        {
          "output_type": "stream",
          "text": [
            "Iter [49630/50000]  Loss: 0.9783  Time/Image: 0.2202  lr=0.012372\n"
          ],
          "name": "stdout"
        },
        {
          "output_type": "stream",
          "text": [
            "INFO:ptsemseg:Iter [49640/50000]  Loss: 0.9749  Time/Image: 0.2170  lr=0.012370\n"
          ],
          "name": "stderr"
        },
        {
          "output_type": "stream",
          "text": [
            "Iter [49640/50000]  Loss: 0.9749  Time/Image: 0.2170  lr=0.012370\n"
          ],
          "name": "stdout"
        },
        {
          "output_type": "stream",
          "text": [
            "INFO:ptsemseg:Iter [49650/50000]  Loss: 0.9686  Time/Image: 0.2261  lr=0.012369\n"
          ],
          "name": "stderr"
        },
        {
          "output_type": "stream",
          "text": [
            "Iter [49650/50000]  Loss: 0.9686  Time/Image: 0.2261  lr=0.012369\n"
          ],
          "name": "stdout"
        },
        {
          "output_type": "stream",
          "text": [
            "INFO:ptsemseg:Iter [49660/50000]  Loss: 0.9733  Time/Image: 0.2189  lr=0.012367\n"
          ],
          "name": "stderr"
        },
        {
          "output_type": "stream",
          "text": [
            "Iter [49660/50000]  Loss: 0.9733  Time/Image: 0.2189  lr=0.012367\n"
          ],
          "name": "stdout"
        },
        {
          "output_type": "stream",
          "text": [
            "INFO:ptsemseg:Iter [49670/50000]  Loss: 0.9795  Time/Image: 0.2220  lr=0.012366\n"
          ],
          "name": "stderr"
        },
        {
          "output_type": "stream",
          "text": [
            "Iter [49670/50000]  Loss: 0.9795  Time/Image: 0.2220  lr=0.012366\n"
          ],
          "name": "stdout"
        },
        {
          "output_type": "stream",
          "text": [
            "INFO:ptsemseg:Iter [49680/50000]  Loss: 0.9806  Time/Image: 0.2251  lr=0.012364\n"
          ],
          "name": "stderr"
        },
        {
          "output_type": "stream",
          "text": [
            "Iter [49680/50000]  Loss: 0.9806  Time/Image: 0.2251  lr=0.012364\n"
          ],
          "name": "stdout"
        },
        {
          "output_type": "stream",
          "text": [
            "INFO:ptsemseg:Iter [49690/50000]  Loss: 0.9786  Time/Image: 0.2214  lr=0.012362\n"
          ],
          "name": "stderr"
        },
        {
          "output_type": "stream",
          "text": [
            "Iter [49690/50000]  Loss: 0.9786  Time/Image: 0.2214  lr=0.012362\n"
          ],
          "name": "stdout"
        },
        {
          "output_type": "stream",
          "text": [
            "INFO:ptsemseg:Iter [49700/50000]  Loss: 0.9772  Time/Image: 0.2233  lr=0.012361\n"
          ],
          "name": "stderr"
        },
        {
          "output_type": "stream",
          "text": [
            "Iter [49700/50000]  Loss: 0.9772  Time/Image: 0.2233  lr=0.012361\n"
          ],
          "name": "stdout"
        },
        {
          "output_type": "stream",
          "text": [
            "INFO:ptsemseg:Iter [49710/50000]  Loss: 0.9746  Time/Image: 0.2148  lr=0.012359\n"
          ],
          "name": "stderr"
        },
        {
          "output_type": "stream",
          "text": [
            "Iter [49710/50000]  Loss: 0.9746  Time/Image: 0.2148  lr=0.012359\n"
          ],
          "name": "stdout"
        },
        {
          "output_type": "stream",
          "text": [
            "INFO:ptsemseg:Iter [49720/50000]  Loss: 0.9750  Time/Image: 0.2197  lr=0.012358\n"
          ],
          "name": "stderr"
        },
        {
          "output_type": "stream",
          "text": [
            "Iter [49720/50000]  Loss: 0.9750  Time/Image: 0.2197  lr=0.012358\n"
          ],
          "name": "stdout"
        },
        {
          "output_type": "stream",
          "text": [
            "INFO:ptsemseg:Iter [49730/50000]  Loss: 0.9764  Time/Image: 0.2186  lr=0.012356\n"
          ],
          "name": "stderr"
        },
        {
          "output_type": "stream",
          "text": [
            "Iter [49730/50000]  Loss: 0.9764  Time/Image: 0.2186  lr=0.012356\n"
          ],
          "name": "stdout"
        },
        {
          "output_type": "stream",
          "text": [
            "INFO:ptsemseg:Iter [49740/50000]  Loss: 0.9788  Time/Image: 0.2071  lr=0.012355\n"
          ],
          "name": "stderr"
        },
        {
          "output_type": "stream",
          "text": [
            "Iter [49740/50000]  Loss: 0.9788  Time/Image: 0.2071  lr=0.012355\n"
          ],
          "name": "stdout"
        },
        {
          "output_type": "stream",
          "text": [
            "INFO:ptsemseg:Iter [49750/50000]  Loss: 0.9793  Time/Image: 0.2156  lr=0.012353\n"
          ],
          "name": "stderr"
        },
        {
          "output_type": "stream",
          "text": [
            "Iter [49750/50000]  Loss: 0.9793  Time/Image: 0.2156  lr=0.012353\n"
          ],
          "name": "stdout"
        },
        {
          "output_type": "stream",
          "text": [
            "INFO:ptsemseg:Iter [49760/50000]  Loss: 0.9796  Time/Image: 0.2135  lr=0.012351\n"
          ],
          "name": "stderr"
        },
        {
          "output_type": "stream",
          "text": [
            "Iter [49760/50000]  Loss: 0.9796  Time/Image: 0.2135  lr=0.012351\n"
          ],
          "name": "stdout"
        },
        {
          "output_type": "stream",
          "text": [
            "INFO:ptsemseg:Iter [49770/50000]  Loss: 0.9769  Time/Image: 0.2094  lr=0.012350\n"
          ],
          "name": "stderr"
        },
        {
          "output_type": "stream",
          "text": [
            "Iter [49770/50000]  Loss: 0.9769  Time/Image: 0.2094  lr=0.012350\n"
          ],
          "name": "stdout"
        },
        {
          "output_type": "stream",
          "text": [
            "INFO:ptsemseg:Iter [49780/50000]  Loss: 0.9773  Time/Image: 0.2129  lr=0.012348\n"
          ],
          "name": "stderr"
        },
        {
          "output_type": "stream",
          "text": [
            "Iter [49780/50000]  Loss: 0.9773  Time/Image: 0.2129  lr=0.012348\n"
          ],
          "name": "stdout"
        },
        {
          "output_type": "stream",
          "text": [
            "INFO:ptsemseg:Iter [49790/50000]  Loss: 0.9791  Time/Image: 0.2130  lr=0.012347\n"
          ],
          "name": "stderr"
        },
        {
          "output_type": "stream",
          "text": [
            "Iter [49790/50000]  Loss: 0.9791  Time/Image: 0.2130  lr=0.012347\n"
          ],
          "name": "stdout"
        },
        {
          "output_type": "stream",
          "text": [
            "INFO:ptsemseg:Iter [49800/50000]  Loss: 0.9796  Time/Image: 0.2092  lr=0.012345\n"
          ],
          "name": "stderr"
        },
        {
          "output_type": "stream",
          "text": [
            "Iter [49800/50000]  Loss: 0.9796  Time/Image: 0.2092  lr=0.012345\n"
          ],
          "name": "stdout"
        },
        {
          "output_type": "stream",
          "text": [
            "INFO:ptsemseg:Iter [49810/50000]  Loss: 0.9799  Time/Image: 0.2162  lr=0.012343\n"
          ],
          "name": "stderr"
        },
        {
          "output_type": "stream",
          "text": [
            "Iter [49810/50000]  Loss: 0.9799  Time/Image: 0.2162  lr=0.012343\n"
          ],
          "name": "stdout"
        },
        {
          "output_type": "stream",
          "text": [
            "INFO:ptsemseg:Iter [49820/50000]  Loss: 0.9769  Time/Image: 0.2129  lr=0.012342\n"
          ],
          "name": "stderr"
        },
        {
          "output_type": "stream",
          "text": [
            "Iter [49820/50000]  Loss: 0.9769  Time/Image: 0.2129  lr=0.012342\n"
          ],
          "name": "stdout"
        },
        {
          "output_type": "stream",
          "text": [
            "INFO:ptsemseg:Iter [49830/50000]  Loss: 0.9768  Time/Image: 0.2071  lr=0.012340\n"
          ],
          "name": "stderr"
        },
        {
          "output_type": "stream",
          "text": [
            "Iter [49830/50000]  Loss: 0.9768  Time/Image: 0.2071  lr=0.012340\n"
          ],
          "name": "stdout"
        },
        {
          "output_type": "stream",
          "text": [
            "INFO:ptsemseg:Iter [49840/50000]  Loss: 0.9769  Time/Image: 0.2068  lr=0.012339\n"
          ],
          "name": "stderr"
        },
        {
          "output_type": "stream",
          "text": [
            "Iter [49840/50000]  Loss: 0.9769  Time/Image: 0.2068  lr=0.012339\n"
          ],
          "name": "stdout"
        },
        {
          "output_type": "stream",
          "text": [
            "INFO:ptsemseg:Iter [49850/50000]  Loss: 0.9777  Time/Image: 0.2158  lr=0.012337\n"
          ],
          "name": "stderr"
        },
        {
          "output_type": "stream",
          "text": [
            "Iter [49850/50000]  Loss: 0.9777  Time/Image: 0.2158  lr=0.012337\n"
          ],
          "name": "stdout"
        },
        {
          "output_type": "stream",
          "text": [
            "INFO:ptsemseg:Iter [49860/50000]  Loss: 0.9775  Time/Image: 0.2138  lr=0.012336\n"
          ],
          "name": "stderr"
        },
        {
          "output_type": "stream",
          "text": [
            "Iter [49860/50000]  Loss: 0.9775  Time/Image: 0.2138  lr=0.012336\n"
          ],
          "name": "stdout"
        },
        {
          "output_type": "stream",
          "text": [
            "INFO:ptsemseg:Iter [49870/50000]  Loss: 0.9772  Time/Image: 0.2119  lr=0.012334\n"
          ],
          "name": "stderr"
        },
        {
          "output_type": "stream",
          "text": [
            "Iter [49870/50000]  Loss: 0.9772  Time/Image: 0.2119  lr=0.012334\n"
          ],
          "name": "stdout"
        },
        {
          "output_type": "stream",
          "text": [
            "INFO:ptsemseg:Iter [49880/50000]  Loss: 0.9781  Time/Image: 0.2118  lr=0.012332\n"
          ],
          "name": "stderr"
        },
        {
          "output_type": "stream",
          "text": [
            "Iter [49880/50000]  Loss: 0.9781  Time/Image: 0.2118  lr=0.012332\n"
          ],
          "name": "stdout"
        },
        {
          "output_type": "stream",
          "text": [
            "INFO:ptsemseg:Iter [49890/50000]  Loss: 0.9772  Time/Image: 0.2140  lr=0.012331\n"
          ],
          "name": "stderr"
        },
        {
          "output_type": "stream",
          "text": [
            "Iter [49890/50000]  Loss: 0.9772  Time/Image: 0.2140  lr=0.012331\n"
          ],
          "name": "stdout"
        },
        {
          "output_type": "stream",
          "text": [
            "INFO:ptsemseg:Iter [49900/50000]  Loss: 0.9767  Time/Image: 0.2000  lr=0.012329\n"
          ],
          "name": "stderr"
        },
        {
          "output_type": "stream",
          "text": [
            "Iter [49900/50000]  Loss: 0.9767  Time/Image: 0.2000  lr=0.012329\n"
          ],
          "name": "stdout"
        },
        {
          "output_type": "stream",
          "text": [
            "INFO:ptsemseg:Iter [49910/50000]  Loss: 0.9772  Time/Image: 0.2019  lr=0.012328\n"
          ],
          "name": "stderr"
        },
        {
          "output_type": "stream",
          "text": [
            "Iter [49910/50000]  Loss: 0.9772  Time/Image: 0.2019  lr=0.012328\n"
          ],
          "name": "stdout"
        },
        {
          "output_type": "stream",
          "text": [
            "INFO:ptsemseg:Iter [49920/50000]  Loss: 0.9761  Time/Image: 0.2314  lr=0.012326\n"
          ],
          "name": "stderr"
        },
        {
          "output_type": "stream",
          "text": [
            "Iter [49920/50000]  Loss: 0.9761  Time/Image: 0.2314  lr=0.012326\n"
          ],
          "name": "stdout"
        },
        {
          "output_type": "stream",
          "text": [
            "INFO:ptsemseg:Iter [49930/50000]  Loss: 0.9760  Time/Image: 0.2298  lr=0.012324\n"
          ],
          "name": "stderr"
        },
        {
          "output_type": "stream",
          "text": [
            "Iter [49930/50000]  Loss: 0.9760  Time/Image: 0.2298  lr=0.012324\n"
          ],
          "name": "stdout"
        },
        {
          "output_type": "stream",
          "text": [
            "INFO:ptsemseg:Iter [49940/50000]  Loss: 0.9780  Time/Image: 0.2256  lr=0.012323\n"
          ],
          "name": "stderr"
        },
        {
          "output_type": "stream",
          "text": [
            "Iter [49940/50000]  Loss: 0.9780  Time/Image: 0.2256  lr=0.012323\n"
          ],
          "name": "stdout"
        },
        {
          "output_type": "stream",
          "text": [
            "INFO:ptsemseg:Iter [49950/50000]  Loss: 0.9774  Time/Image: 0.2257  lr=0.012321\n"
          ],
          "name": "stderr"
        },
        {
          "output_type": "stream",
          "text": [
            "Iter [49950/50000]  Loss: 0.9774  Time/Image: 0.2257  lr=0.012321\n"
          ],
          "name": "stdout"
        },
        {
          "output_type": "stream",
          "text": [
            "INFO:ptsemseg:Iter [49960/50000]  Loss: 0.9770  Time/Image: 0.2302  lr=0.012320\n"
          ],
          "name": "stderr"
        },
        {
          "output_type": "stream",
          "text": [
            "Iter [49960/50000]  Loss: 0.9770  Time/Image: 0.2302  lr=0.012320\n"
          ],
          "name": "stdout"
        },
        {
          "output_type": "stream",
          "text": [
            "INFO:ptsemseg:Iter [49970/50000]  Loss: 0.9777  Time/Image: 0.2294  lr=0.012318\n"
          ],
          "name": "stderr"
        },
        {
          "output_type": "stream",
          "text": [
            "Iter [49970/50000]  Loss: 0.9777  Time/Image: 0.2294  lr=0.012318\n"
          ],
          "name": "stdout"
        },
        {
          "output_type": "stream",
          "text": [
            "INFO:ptsemseg:Iter [49980/50000]  Loss: 0.9776  Time/Image: 0.2268  lr=0.012317\n"
          ],
          "name": "stderr"
        },
        {
          "output_type": "stream",
          "text": [
            "Iter [49980/50000]  Loss: 0.9776  Time/Image: 0.2268  lr=0.012317\n"
          ],
          "name": "stdout"
        },
        {
          "output_type": "stream",
          "text": [
            "INFO:ptsemseg:Iter [49990/50000]  Loss: 0.9789  Time/Image: 0.2234  lr=0.012315\n"
          ],
          "name": "stderr"
        },
        {
          "output_type": "stream",
          "text": [
            "Iter [49990/50000]  Loss: 0.9789  Time/Image: 0.2234  lr=0.012315\n"
          ],
          "name": "stdout"
        },
        {
          "output_type": "stream",
          "text": [
            "INFO:ptsemseg:Iter [50000/50000]  Loss: 0.9776  Time/Image: 0.2273  lr=0.012313\n"
          ],
          "name": "stderr"
        },
        {
          "output_type": "stream",
          "text": [
            "Iter [50000/50000]  Loss: 0.9776  Time/Image: 0.2273  lr=0.012313\n"
          ],
          "name": "stdout"
        },
        {
          "output_type": "stream",
          "text": [
            "84it [03:34,  2.55s/it]\n",
            "INFO:ptsemseg:Iter 50000 Val Loss: 0.9269\n",
            "INFO:ptsemseg:Overall Acc: \t: 0.9259120117915093\n",
            "INFO:ptsemseg:Mean Acc : \t: 0.6409475222674634\n",
            "INFO:ptsemseg:FreqW Acc : \t: 0.8704857880090392\n",
            "INFO:ptsemseg:Mean IoU : \t: 0.5464372502679449\n",
            "INFO:ptsemseg:0: 0.9644967393252208\n",
            "INFO:ptsemseg:1: 0.7641164635516542\n",
            "INFO:ptsemseg:2: 0.8692269713985925\n",
            "INFO:ptsemseg:3: 0.257801509312918\n",
            "INFO:ptsemseg:4: 0.40860558630567956\n",
            "INFO:ptsemseg:5: 0.4851426947799486\n",
            "INFO:ptsemseg:6: 0.4169582902892562\n",
            "INFO:ptsemseg:7: 0.5444998481707132\n",
            "INFO:ptsemseg:8: 0.8664569730061022\n",
            "INFO:ptsemseg:9: 0.43610411617861267\n",
            "INFO:ptsemseg:10: 0.9143527209249851\n",
            "INFO:ptsemseg:11: 0.6858093364494255\n",
            "INFO:ptsemseg:12: 0.41573435358377947\n",
            "INFO:ptsemseg:13: 0.8789325226554229\n",
            "INFO:ptsemseg:14: 0.2923387568965575\n",
            "INFO:ptsemseg:15: 0.5381618464096526\n",
            "INFO:ptsemseg:16: 0.02254169603909238\n",
            "INFO:ptsemseg:17: 0.03432421645858835\n",
            "INFO:ptsemseg:18: 0.586703113354754\n"
          ],
          "name": "stderr"
        },
        {
          "output_type": "stream",
          "text": [
            "Overall Acc: \t 0.9259120117915093\n",
            "Mean Acc : \t 0.6409475222674634\n",
            "FreqW Acc : \t 0.8704857880090392\n",
            "Mean IoU : \t 0.5464372502679449\n"
          ],
          "name": "stdout"
        }
      ]
    }
  ]
}