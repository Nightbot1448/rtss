{
  "nbformat": 4,
  "nbformat_minor": 0,
  "metadata": {
    "colab": {
      "name": "adam_hardnet_analog.ipynb",
      "provenance": [],
      "collapsed_sections": []
    },
    "kernelspec": {
      "name": "python3",
      "display_name": "Python 3"
    },
    "accelerator": "GPU"
  },
  "cells": [
    {
      "cell_type": "code",
      "metadata": {
        "id": "R-vhRzkpnUqa",
        "colab": {
          "base_uri": "https://localhost:8080/"
        },
        "outputId": "41da4367-a5a2-4ae1-b685-def73d2133e9"
      },
      "source": [
        "import sys\n",
        "sys.path.insert(0, '.')\n",
        "import os\n",
        "import os.path as osp\n",
        "import logging\n",
        "import argparse\n",
        "import math\n",
        "import random\n",
        "import time\n",
        "import shutil\n",
        "from tabulate import tabulate\n",
        "from datetime import datetime\n",
        " \n",
        "!pip install tensorboardX\n",
        "from tensorboardX import SummaryWriter\n",
        " \n",
        "import matplotlib.pyplot as plt\n",
        " \n",
        "from tqdm import tqdm\n",
        "import numpy as np\n",
        "import cv2\n",
        "import numpy as np\n",
        "import collections\n",
        " \n",
        "import torch\n",
        "import torch.nn as nn\n",
        "import torch.nn.functional as F\n",
        "import torch.distributed as dist\n",
        " \n",
        "from torchsummary import summary\n",
        "from torchvision.datasets import Cityscapes\n",
        "from torchvision import transforms"
      ],
      "execution_count": null,
      "outputs": [
        {
          "output_type": "stream",
          "text": [
            "Collecting tensorboardX\n",
            "\u001b[?25l  Downloading https://files.pythonhosted.org/packages/af/0c/4f41bcd45db376e6fe5c619c01100e9b7531c55791b7244815bac6eac32c/tensorboardX-2.1-py2.py3-none-any.whl (308kB)\n",
            "\r\u001b[K     |█                               | 10kB 19.0MB/s eta 0:00:01\r\u001b[K     |██▏                             | 20kB 15.2MB/s eta 0:00:01\r\u001b[K     |███▏                            | 30kB 12.9MB/s eta 0:00:01\r\u001b[K     |████▎                           | 40kB 11.9MB/s eta 0:00:01\r\u001b[K     |█████▎                          | 51kB 9.3MB/s eta 0:00:01\r\u001b[K     |██████▍                         | 61kB 8.4MB/s eta 0:00:01\r\u001b[K     |███████▍                        | 71kB 9.5MB/s eta 0:00:01\r\u001b[K     |████████▌                       | 81kB 10.5MB/s eta 0:00:01\r\u001b[K     |█████████▌                      | 92kB 9.9MB/s eta 0:00:01\r\u001b[K     |██████████▋                     | 102kB 9.0MB/s eta 0:00:01\r\u001b[K     |███████████▊                    | 112kB 9.0MB/s eta 0:00:01\r\u001b[K     |████████████▊                   | 122kB 9.0MB/s eta 0:00:01\r\u001b[K     |█████████████▉                  | 133kB 9.0MB/s eta 0:00:01\r\u001b[K     |██████████████▉                 | 143kB 9.0MB/s eta 0:00:01\r\u001b[K     |████████████████                | 153kB 9.0MB/s eta 0:00:01\r\u001b[K     |█████████████████               | 163kB 9.0MB/s eta 0:00:01\r\u001b[K     |██████████████████              | 174kB 9.0MB/s eta 0:00:01\r\u001b[K     |███████████████████             | 184kB 9.0MB/s eta 0:00:01\r\u001b[K     |████████████████████▏           | 194kB 9.0MB/s eta 0:00:01\r\u001b[K     |█████████████████████▎          | 204kB 9.0MB/s eta 0:00:01\r\u001b[K     |██████████████████████▎         | 215kB 9.0MB/s eta 0:00:01\r\u001b[K     |███████████████████████▍        | 225kB 9.0MB/s eta 0:00:01\r\u001b[K     |████████████████████████▍       | 235kB 9.0MB/s eta 0:00:01\r\u001b[K     |█████████████████████████▌      | 245kB 9.0MB/s eta 0:00:01\r\u001b[K     |██████████████████████████▌     | 256kB 9.0MB/s eta 0:00:01\r\u001b[K     |███████████████████████████▋    | 266kB 9.0MB/s eta 0:00:01\r\u001b[K     |████████████████████████████▋   | 276kB 9.0MB/s eta 0:00:01\r\u001b[K     |█████████████████████████████▊  | 286kB 9.0MB/s eta 0:00:01\r\u001b[K     |██████████████████████████████▊ | 296kB 9.0MB/s eta 0:00:01\r\u001b[K     |███████████████████████████████▉| 307kB 9.0MB/s eta 0:00:01\r\u001b[K     |████████████████████████████████| 317kB 9.0MB/s \n",
            "\u001b[?25hRequirement already satisfied: six in /usr/local/lib/python3.7/dist-packages (from tensorboardX) (1.15.0)\n",
            "Requirement already satisfied: numpy in /usr/local/lib/python3.7/dist-packages (from tensorboardX) (1.19.5)\n",
            "Requirement already satisfied: protobuf>=3.8.0 in /usr/local/lib/python3.7/dist-packages (from tensorboardX) (3.12.4)\n",
            "Requirement already satisfied: setuptools in /usr/local/lib/python3.7/dist-packages (from protobuf>=3.8.0->tensorboardX) (53.0.0)\n",
            "Installing collected packages: tensorboardX\n",
            "Successfully installed tensorboardX-2.1\n"
          ],
          "name": "stdout"
        }
      ]
    },
    {
      "cell_type": "code",
      "metadata": {
        "id": "vzOZYszKeei6"
      },
      "source": [
        "class ConvLayer(nn.Sequential):\n",
        "    def __init__(self, in_channels, out_channels, kernel=3, stride=1, dropout=0.1):\n",
        "        super().__init__()\n",
        "        self.add_module('conv', nn.Conv2d(in_channels, out_channels, kernel_size=kernel,\n",
        "                                          stride=stride, padding=kernel//2, bias = False))\n",
        "        self.add_module('norm', nn.BatchNorm2d(out_channels))\n",
        "        self.add_module('relu', nn.ReLU(inplace=True))\n",
        "\n",
        "    def forward(self, x):\n",
        "        return super().forward(x)\n",
        "\n",
        "class TransitionUp(nn.Module):\n",
        "    def __init__(self, in_channels, out_channels):\n",
        "        super().__init__()\n",
        "\n",
        "    def forward(self, x, skip, concat=True):\n",
        "        out = F.interpolate(\n",
        "                x,\n",
        "                size=(skip.size(2), skip.size(3)),\n",
        "                mode=\"bilinear\",\n",
        "                align_corners=True,\n",
        "                            )\n",
        "        if concat:                            \n",
        "          out = torch.cat([out, skip], 1)\n",
        "          \n",
        "        return out"
      ],
      "execution_count": null,
      "outputs": []
    },
    {
      "cell_type": "code",
      "metadata": {
        "id": "ySuR9MkveedM"
      },
      "source": [
        "class my_HarDBlock(nn.Module):\n",
        "    def __init__(self, in_channels, growth_rate, grmul, n_layers, keepBase=False):\n",
        "        super().__init__()\n",
        "        self.in_channels = in_channels\n",
        "        self.growth_rate = growth_rate\n",
        "        self.grmul = grmul\n",
        "        self.links = []\n",
        "        self.out_channels = 0\n",
        "        self.keepBase = keepBase\n",
        "        self.layers = nn.ModuleList([])\n",
        "        for i in range(n_layers):\n",
        "            out_ch, in_ch, el_links = self.get_links(i+1)\n",
        "            self.links.append(el_links)\n",
        "            self.layers.append(ConvLayer(in_ch, out_ch))\n",
        "            if (i % 2 == 0) or (i == n_layers - 1):\n",
        "                self.out_channels += out_ch\n",
        "\n",
        "    def __out_ch(self, layer_id): \n",
        "        out_ch = self.growth_rate\n",
        "        for i in range(1, int(math.log2(layer_id))+1):\n",
        "            if layer_id % 2**i == 0:\n",
        "                out_ch = out_ch*self.grmul\n",
        "        return int(int(out_ch + 1) / 2) * 2\n",
        "\n",
        "    def get_links(self, layer_id):\n",
        "        in_ch = 0\n",
        "        links_ = []\n",
        "        for i in range(int(math.log2(layer_id))):\n",
        "            diff = 2**i\n",
        "            if (layer_id % diff == 0) and layer_id - diff > 0:\n",
        "                in_ch += self.__out_ch(layer_id - diff)\n",
        "                links_.append(layer_id - diff)\n",
        "        if math.log2(layer_id).is_integer():\n",
        "            in_ch += self.in_channels\n",
        "            links_.append(0)\n",
        "        return self.__out_ch(layer_id), in_ch, links_\n",
        "\n",
        "    def forward(self, x):\n",
        "        data = [x]\n",
        "        for layer in range(len(self.layers)):\n",
        "            layer_input = []\n",
        "            for link in self.links[layer]:\n",
        "                layer_input.append(data[link])\n",
        "            in_ = layer_input[0] if len(layer_input) == 1 \\\n",
        "                else torch.cat(layer_input, dim=1)\n",
        "            data.append(self.layers[layer](in_))\n",
        "        t = len(data)\n",
        "        out = []\n",
        "        for i in range(t):\n",
        "            if (i % 2 == 1) or (self.keepBase and i == 0) or (i == t-1):\n",
        "                out.append(data[i])\n",
        "        return torch.cat(out, dim=1)\n",
        "    \n",
        "    def get_out_ch(self):\n",
        "        return self.out_channels"
      ],
      "execution_count": null,
      "outputs": []
    },
    {
      "cell_type": "code",
      "metadata": {
        "id": "H4U3cxTVizqp"
      },
      "source": [
        "class my_hardnet(nn.Module):\n",
        "    def __init__(self, n_classes=19):\n",
        "        super(my_hardnet, self).__init__()\n",
        "        self.n_classes = n_classes\n",
        "\n",
        "        first_ch  = [16,24,32,48]\n",
        "        ch_list = [  64, 96, 160, 224, 320]\n",
        "        grmul = 1.7\n",
        "        gr       = [  10,16,18,24,32]\n",
        "        n_layers = [   4, 4, 8, 8, 8]\n",
        "\n",
        "        self.base = nn.ModuleList([\n",
        "            ConvLayer(          3, first_ch[0], stride=2),\n",
        "            ConvLayer(first_ch[0], first_ch[1], stride=1),\n",
        "            ConvLayer(first_ch[1], first_ch[2], stride=2),\n",
        "            ConvLayer(first_ch[2], first_ch[3], stride=1)\n",
        "        ])\n",
        "\n",
        "        blks_count = len(n_layers)\n",
        "        ch = first_ch[3]\n",
        "        skip_connection_channel_counts = []\n",
        "        self.shortcut_layers = []\n",
        "        for i in range(blks_count):\n",
        "            block = my_HarDBlock(ch, gr[i], grmul, n_layers[i])\n",
        "            ch = block.get_out_ch()\n",
        "            skip_connection_channel_counts.append(ch)\n",
        "            \n",
        "            self.base.append(block)\n",
        "            if i < blks_count-1:\n",
        "                self.shortcut_layers.append(len(self.base)-1)\n",
        "            \n",
        "            self.base.append(ConvLayer(ch, ch_list[i], kernel=1))\n",
        "            ch = ch_list[i]\n",
        "            if (i < blks_count - 1):\n",
        "                self.base.append(nn.AvgPool2d(kernel_size=2, stride=2))\n",
        "\n",
        "        self.conv1x1_up = nn.ModuleList()\n",
        "        self.transUp = nn.ModuleList()\n",
        "        self.denseUp = nn.ModuleList()\n",
        "\n",
        "        blks_count -= 1\n",
        "        self.blks_count = blks_count \n",
        "\n",
        "        for i in range(blks_count - 1, -1, -1):\n",
        "            self.transUp.append(TransitionUp(ch, ch))\n",
        "            ch = ch + skip_connection_channel_counts[i]\n",
        "            self.conv1x1_up.append(ConvLayer(ch, ch//2, kernel=1))\n",
        "            ch = ch//2\n",
        "            blk = my_HarDBlock(ch, gr[i], grmul, n_layers[i])\n",
        "            self.denseUp.append(blk)\n",
        "            ch = blk.get_out_ch()\n",
        "\n",
        "        self.finalConv = nn.Conv2d(ch, n_classes, kernel_size=1, \n",
        "                                   stride=1, padding=0, bias=True)\n",
        "\n",
        "    def forward(self, x):\n",
        "        size_in = x.size()\n",
        "        out = x\n",
        "        save_shortcut = []\n",
        "        for i in range(len(self.base)):\n",
        "            out = self.base[i](out)\n",
        "            if i in self.shortcut_layers:\n",
        "                save_shortcut.append(out)\n",
        "        \n",
        "        for i in range(self.blks_count):\n",
        "            skip = save_shortcut.pop()\n",
        "            out = self.transUp[i](out, skip, True)\n",
        "            out = self.conv1x1_up[i](out)\n",
        "            out = self.denseUp[i](out)\n",
        "\n",
        "        out = self.finalConv(out)\n",
        "        \n",
        "        out = F.interpolate(out,\n",
        "                            size=(size_in[2], size_in[3]),\n",
        "                            mode=\"bilinear\",\n",
        "                            align_corners=True)\n",
        "        return out"
      ],
      "execution_count": null,
      "outputs": []
    },
    {
      "cell_type": "code",
      "metadata": {
        "colab": {
          "base_uri": "https://localhost:8080/"
        },
        "id": "idgfO7APw2qI",
        "outputId": "2e2a9419-01de-4cf7-a208-755fcfcc0d82"
      },
      "source": [
        "!git clone https://github.com/PingoLH/FCHarDNet.git\n",
        "!mv FCHarDNet/ptsemseg ./"
      ],
      "execution_count": null,
      "outputs": [
        {
          "output_type": "stream",
          "text": [
            "Cloning into 'FCHarDNet'...\n",
            "remote: Enumerating objects: 3, done.\u001b[K\n",
            "remote: Counting objects: 100% (3/3), done.\u001b[K\n",
            "remote: Compressing objects: 100% (3/3), done.\u001b[K\n",
            "remote: Total 120 (delta 0), reused 2 (delta 0), pack-reused 117\u001b[K\n",
            "Receiving objects: 100% (120/120), 9.09 MiB | 13.11 MiB/s, done.\n",
            "Resolving deltas: 100% (48/48), done.\n"
          ],
          "name": "stdout"
        }
      ]
    },
    {
      "cell_type": "code",
      "metadata": {
        "id": "Tx8_AGja0sWq"
      },
      "source": [
        "import yaml\n",
        "from torch.utils import data\n",
        "\n",
        "from ptsemseg.models import get_model\n",
        "from ptsemseg.loss import get_loss_function\n",
        "from ptsemseg.loader import get_loader\n",
        "from ptsemseg.utils import get_logger\n",
        "from ptsemseg.metrics import runningScore, averageMeter\n",
        "from ptsemseg.augmentations import get_composed_augmentations\n",
        "from ptsemseg.schedulers import get_scheduler\n",
        "from ptsemseg.optimizers import get_optimizer"
      ],
      "execution_count": null,
      "outputs": []
    },
    {
      "cell_type": "code",
      "metadata": {
        "colab": {
          "base_uri": "https://localhost:8080/"
        },
        "id": "eZqqevrB06sl",
        "outputId": "1481c3d8-187a-4b40-b140-1ef3a2c91b94"
      },
      "source": [
        "from google.colab import drive\n",
        "drive.mount('/content/drive')"
      ],
      "execution_count": null,
      "outputs": [
        {
          "output_type": "stream",
          "text": [
            "Mounted at /content/drive\n"
          ],
          "name": "stdout"
        }
      ]
    },
    {
      "cell_type": "code",
      "metadata": {
        "id": "3cL5Kqz00YPH"
      },
      "source": [
        "with open('FCHarDNet/configs/hardnet.yml') as cf:\n",
        "    cfg = yaml.load(cf)\n",
        "    cfg['data'].update({\n",
        "        'path':'/content/drive/MyDrive/RnD/datasets/',\n",
        "        'sbd_path': '/content/drive/MyDrive/RnD/datasets/',\n",
        "    })\n",
        "    cfg['training'].update({\n",
        "        'train_iters': 24000,\n",
        "        'batch_size': 6,\n",
        "        'optimizer': {\n",
        "            'name': 'adam'\n",
        "        }\n",
        "    })\n",
        "    cfg['training']['lr_schedule'].update({\n",
        "        'max_iter': 120000\n",
        "    })"
      ],
      "execution_count": null,
      "outputs": []
    },
    {
      "cell_type": "code",
      "metadata": {
        "colab": {
          "base_uri": "https://localhost:8080/"
        },
        "id": "43IClLgX0afV",
        "outputId": "c3291583-44f4-4732-f982-3c9e1d53a01a"
      },
      "source": [
        "# Setup seeds\n",
        "torch.manual_seed(cfg.get(\"seed\", 1337))\n",
        "torch.cuda.manual_seed(cfg.get(\"seed\", 1337))\n",
        "np.random.seed(cfg.get(\"seed\", 1337))\n",
        "random.seed(cfg.get(\"seed\", 1337))\n",
        "\n",
        "# Setup device\n",
        "device = torch.device(\"cuda\" if torch.cuda.is_available() else \"cpu\")\n",
        "\n",
        "# Setup Augmentations\n",
        "augmentations = cfg[\"training\"].get(\"augmentations\", None)\n",
        "data_aug = get_composed_augmentations(augmentations)\n",
        "\n",
        "# Setup Dataloader\n",
        "data_loader = get_loader(cfg[\"data\"][\"dataset\"])\n",
        "data_path = cfg[\"data\"][\"path\"]\n",
        "\n",
        "t_loader = data_loader(\n",
        "    data_path,\n",
        "    is_transform=True,\n",
        "    split=cfg[\"data\"][\"train_split\"],\n",
        "    img_size=(cfg[\"data\"][\"img_rows\"], cfg[\"data\"][\"img_cols\"]),\n",
        "    augmentations=data_aug,\n",
        ")\n",
        "n_classes = t_loader.n_classes\n",
        "trainloader = data.DataLoader(\n",
        "    t_loader,\n",
        "    batch_size=cfg[\"training\"][\"batch_size\"],\n",
        "    num_workers=cfg[\"training\"][\"n_workers\"],\n",
        "    shuffle=True,\n",
        ")\n",
        "\n",
        "v_loader = data_loader(\n",
        "    data_path,\n",
        "    is_transform=True,\n",
        "    split=cfg[\"data\"][\"val_split\"],\n",
        "    img_size=(1024,2048),\n",
        ")\n",
        "valloader = data.DataLoader(\n",
        "    v_loader, batch_size=cfg[\"training\"][\"batch_size\"], num_workers=cfg[\"training\"][\"n_workers\"]\n",
        ")"
      ],
      "execution_count": null,
      "outputs": [
        {
          "output_type": "stream",
          "text": [
            "Found 2975 train images\n",
            "Found 500 val images\n"
          ],
          "name": "stdout"
        }
      ]
    },
    {
      "cell_type": "code",
      "metadata": {
        "colab": {
          "base_uri": "https://localhost:8080/"
        },
        "id": "lzVtLrD40dzK",
        "outputId": "cb5d7038-9155-4d1c-bc07-d704136fbab0"
      },
      "source": [
        "running_metrics_val = runningScore(n_classes)\n",
        "model = my_hardnet().to(device)\n",
        "total_params = sum(p.numel() for p in model.parameters())\n",
        "print( 'Parameters:',total_params )\n",
        "def weights_init(m):\n",
        "    if isinstance(m, nn.Conv2d):\n",
        "        nn.init.xavier_normal_(m.weight)\n",
        "\n",
        "model = torch.nn.DataParallel(model, device_ids=range(torch.cuda.device_count()))\n",
        "model.apply(weights_init)\n",
        "pass"
      ],
      "execution_count": null,
      "outputs": [
        {
          "output_type": "stream",
          "text": [
            "Parameters: 4119257\n"
          ],
          "name": "stdout"
        }
      ]
    },
    {
      "cell_type": "code",
      "metadata": {
        "colab": {
          "base_uri": "https://localhost:8080/"
        },
        "id": "DvWgLOlT0eEg",
        "outputId": "16599898-b8cb-4843-f47a-1858708df0ab"
      },
      "source": [
        "optimizer_cls = get_optimizer(cfg)\n",
        "optimizer_params = {k: v for k, v in cfg[\"training\"][\"optimizer\"].items() if k != \"name\"}\n",
        "optimizer = optimizer_cls(model.parameters(), **optimizer_params)\n",
        "# scheduler = get_scheduler(optimizer, cfg[\"training\"][\"lr_schedule\"])\n",
        "loss_fn = get_loss_function(cfg)\n",
        "\n",
        "print(\"Using optimizer {}\".format(optimizer))\n",
        "print(\"Using loss {}\".format(loss_fn))\n",
        "\n",
        "val_loss_meter = averageMeter()\n",
        "time_meter = averageMeter()"
      ],
      "execution_count": null,
      "outputs": [
        {
          "output_type": "stream",
          "text": [
            "Using optimizer Adam (\n",
            "Parameter Group 0\n",
            "    amsgrad: False\n",
            "    betas: (0.9, 0.999)\n",
            "    eps: 1e-08\n",
            "    initial_lr: 0.001\n",
            "    lr: 0.001\n",
            "    weight_decay: 0\n",
            ")\n",
            "Using loss functools.partial(<function bootstrapped_cross_entropy2d at 0x7fee516d8f80>, min_K=4096, loss_th=0.3, size_average=True)\n"
          ],
          "name": "stdout"
        }
      ]
    },
    {
      "cell_type": "code",
      "metadata": {
        "id": "rONTE4LT1Mlf"
      },
      "source": [
        "start_iter = 0\n",
        "best_iou = -100.0\n",
        "i = start_iter\n",
        "flag = True\n",
        "loss_all = 0\n",
        "loss_n = 0"
      ],
      "execution_count": null,
      "outputs": []
    },
    {
      "cell_type": "code",
      "metadata": {
        "colab": {
          "base_uri": "https://localhost:8080/"
        },
        "id": "GbEvJvKx1fC2",
        "outputId": "1d03bdaa-b46a-4c07-f932-f4eedd3f3950"
      },
      "source": [
        "logdir = os.path.join(\"/content/drive/MyDrive/RnD/runs/adam\", str(datetime.fromtimestamp(int(time.time()))))\n",
        "writer = SummaryWriter(log_dir=logdir)\n",
        "\n",
        "print(\"RUNDIR: {}\".format(logdir))\n",
        "# shutil.copy(args.config, logdir)\n",
        "\n",
        "logger = get_logger(logdir)\n",
        "logger.info(\"Let the games begin\")"
      ],
      "execution_count": null,
      "outputs": [
        {
          "output_type": "stream",
          "text": [
            "INFO:ptsemseg:Let the games begin\n"
          ],
          "name": "stderr"
        },
        {
          "output_type": "stream",
          "text": [
            "RUNDIR: /content/drive/MyDrive/RnD/runs/adam/2021-02-27 07:47:40\n"
          ],
          "name": "stdout"
        }
      ]
    },
    {
      "cell_type": "code",
      "metadata": {
        "colab": {
          "base_uri": "https://localhost:8080/"
        },
        "id": "TyD0RHtDwbow",
        "outputId": "b7e6502c-bd0e-4939-f2c9-d6ca98b3f467"
      },
      "source": [
        "!ls /content/drive/MyDrive/RnD/runs/adam"
      ],
      "execution_count": null,
      "outputs": [
        {
          "output_type": "stream",
          "text": [
            "'2021-02-26 19:59:12'\n"
          ],
          "name": "stdout"
        }
      ]
    },
    {
      "cell_type": "code",
      "metadata": {
        "id": "89BPSogcvoQx"
      },
      "source": [
        "loaded = torch.load('/content/drive/MyDrive/RnD/runs/adam/2021-02-26 19:59:12/hardnet_cityscapes_checkpoint.pkl')\n",
        "best_iou_arrc = torch.load('/content/drive/MyDrive/RnD/runs/adam/2021-02-26 19:59:12/hardnet_cityscapes_best_model.pkl')\n",
        "model_state = loaded.get('model_state')\n",
        "\n",
        "optimizer_state = loaded.get('optimizer_state')\n",
        "# scheduler_state = loaded.get('scheduler_state')\n",
        "start_iter = loaded.get('epoch')\n",
        "\n",
        "best_iou = best_iou_arrc.get('best_iou')\n",
        "i = start_iter\n",
        "flag = True\n",
        "loss_all = 0\n",
        "loss_n = 0\n",
        "\n",
        "model.load_state_dict(model_state)\n",
        "optimizer.load_state_dict(optimizer_state)\n",
        "# scheduler.load_state_dict(scheduler_state)"
      ],
      "execution_count": null,
      "outputs": []
    },
    {
      "cell_type": "code",
      "metadata": {
        "colab": {
          "base_uri": "https://localhost:8080/"
        },
        "id": "O8-LHx2QwFNL",
        "outputId": "72b2c830-268c-4057-b9ba-6e075310b407"
      },
      "source": [
        "i, cfg[\"training\"][\"train_iters\"], best_iou"
      ],
      "execution_count": null,
      "outputs": [
        {
          "output_type": "execute_result",
          "data": {
            "text/plain": [
              "(12000, 24000, 0.4852946193149939)"
            ]
          },
          "metadata": {
            "tags": []
          },
          "execution_count": 15
        }
      ]
    },
    {
      "cell_type": "code",
      "metadata": {
        "colab": {
          "base_uri": "https://localhost:8080/"
        },
        "id": "mSPLiPoA1M7l",
        "outputId": "6a8f1602-0903-415e-98f1-d273ef3a5e71"
      },
      "source": [
        "while i <= cfg[\"training\"][\"train_iters\"] and flag:\n",
        "    for (images, labels, _) in trainloader:\n",
        "        i += 1\n",
        "        start_ts = time.time()\n",
        "        model.train()\n",
        "        images = images.to(device)\n",
        "        labels = labels.to(device)\n",
        " \n",
        "        outputs = model(images)\n",
        " \n",
        "        loss = loss_fn(input=outputs, target=labels)\n",
        "        optimizer.zero_grad()\n",
        "        loss.backward()\n",
        "        \n",
        "        optimizer.step()\n",
        "        # scheduler.step()\n",
        "        \n",
        "        # c_lr = scheduler.get_lr()\n",
        " \n",
        "        time_meter.update(time.time() - start_ts)\n",
        "        loss_all += loss.item()\n",
        "        loss_n += 1\n",
        "        \n",
        "        if (i + 1) % cfg[\"training\"][\"print_interval\"] == 0:\n",
        "            fmt_str = \"Iter [{:d}/{:d}]  Loss: {:.4f}  Time/Image: {:.4f}\"#  lr={:.6f}\n",
        "            print_str = fmt_str.format(\n",
        "                i + 1,\n",
        "                cfg[\"training\"][\"train_iters\"],\n",
        "                loss_all / loss_n,\n",
        "                time_meter.avg / cfg[\"training\"][\"batch_size\"],\n",
        "                # c_lr[0],\n",
        "            )\n",
        "            \n",
        " \n",
        "            print(print_str)\n",
        "            logger.info(print_str)\n",
        "            writer.add_scalar(\"loss/train_loss\", loss.item(), i + 1)\n",
        "            time_meter.reset()\n",
        " \n",
        "        if (i + 1) % cfg[\"training\"][\"val_interval\"] == 0 or (i + 1) == cfg[\"training\"][\n",
        "            \"train_iters\"\n",
        "        ]:\n",
        "            torch.cuda.empty_cache()\n",
        "            model.eval()\n",
        "            loss_all = 0\n",
        "            loss_n = 0\n",
        "            with torch.no_grad():\n",
        "                for i_val, (images_val, labels_val, _) in tqdm(enumerate(valloader)):\n",
        "                    images_val = images_val.to(device)\n",
        "                    labels_val = labels_val.to(device)\n",
        " \n",
        "                    outputs = model(images_val)\n",
        "                    val_loss = loss_fn(input=outputs, target=labels_val)\n",
        " \n",
        "                    pred = outputs.data.max(1)[1].cpu().numpy()\n",
        "                    gt = labels_val.data.cpu().numpy()\n",
        " \n",
        "                    running_metrics_val.update(gt, pred)\n",
        "                    val_loss_meter.update(val_loss.item())\n",
        " \n",
        "            writer.add_scalar(\"loss/val_loss\", val_loss_meter.avg, i + 1)\n",
        "            logger.info(\"Iter %d Val Loss: %.4f\" % (i + 1, val_loss_meter.avg))\n",
        " \n",
        "            score, class_iou = running_metrics_val.get_scores()\n",
        "            for k, v in score.items():\n",
        "                print(k, v)\n",
        "                logger.info(\"{}: {}\".format(k, v))\n",
        "                writer.add_scalar(\"val_metrics/{}\".format(k), v, i + 1)\n",
        " \n",
        "            for k, v in class_iou.items():\n",
        "                logger.info(\"{}: {}\".format(k, v))\n",
        "                writer.add_scalar(\"val_metrics/cls_{}\".format(k), v, i + 1)\n",
        " \n",
        "            val_loss_meter.reset()\n",
        "            running_metrics_val.reset()\n",
        "            \n",
        "            state = {\n",
        "                    \"epoch\": i + 1,\n",
        "                    \"model_state\": model.state_dict(),\n",
        "                    \"optimizer_state\": optimizer.state_dict(),\n",
        "                    # \"scheduler_state\": scheduler.state_dict(),\n",
        "            }\n",
        "            save_path = os.path.join(\n",
        "                writer.file_writer.get_logdir(),\n",
        "                \"{}_{}_checkpoint.pkl\".format(cfg[\"model\"][\"arch\"], cfg[\"data\"][\"dataset\"]),\n",
        "            )\n",
        "            torch.save(state, save_path)\n",
        " \n",
        "            if score[\"Mean IoU : \\t\"] >= best_iou:\n",
        "                best_iou = score[\"Mean IoU : \\t\"]\n",
        "                state = {\n",
        "                    \"epoch\": i + 1,\n",
        "                    \"model_state\": model.state_dict(),\n",
        "                    \"best_iou\": best_iou,\n",
        "                }\n",
        "                save_path = os.path.join(\n",
        "                    writer.file_writer.get_logdir(),\n",
        "                    \"{}_{}_best_model.pkl\".format(cfg[\"model\"][\"arch\"], cfg[\"data\"][\"dataset\"]),\n",
        "                )\n",
        "                torch.save(state, save_path)\n",
        "            torch.cuda.empty_cache()\n",
        " \n",
        "        if (i + 1) == cfg[\"training\"][\"train_iters\"]:\n",
        "            flag = False\n",
        "            break"
      ],
      "execution_count": null,
      "outputs": [
        {
          "output_type": "stream",
          "text": [
            "/usr/local/lib/python3.7/dist-packages/torch/nn/_reduction.py:44: UserWarning: size_average and reduce args will be deprecated, please use reduction='none' instead.\n",
            "  warnings.warn(warning.format(ret))\n",
            "INFO:ptsemseg:Iter [12010/24000]  Loss: 1.0709  Time/Image: 0.1464  lr=0.000909\n"
          ],
          "name": "stderr"
        },
        {
          "output_type": "stream",
          "text": [
            "Iter [12010/24000]  Loss: 1.0709  Time/Image: 0.1464  lr=0.000909\n"
          ],
          "name": "stdout"
        },
        {
          "output_type": "stream",
          "text": [
            "INFO:ptsemseg:Iter [12020/24000]  Loss: 1.0809  Time/Image: 0.1444  lr=0.000909\n"
          ],
          "name": "stderr"
        },
        {
          "output_type": "stream",
          "text": [
            "Iter [12020/24000]  Loss: 1.0809  Time/Image: 0.1444  lr=0.000909\n"
          ],
          "name": "stdout"
        },
        {
          "output_type": "stream",
          "text": [
            "INFO:ptsemseg:Iter [12030/24000]  Loss: 1.0634  Time/Image: 0.1426  lr=0.000909\n"
          ],
          "name": "stderr"
        },
        {
          "output_type": "stream",
          "text": [
            "Iter [12030/24000]  Loss: 1.0634  Time/Image: 0.1426  lr=0.000909\n"
          ],
          "name": "stdout"
        },
        {
          "output_type": "stream",
          "text": [
            "INFO:ptsemseg:Iter [12040/24000]  Loss: 1.0424  Time/Image: 0.1474  lr=0.000909\n"
          ],
          "name": "stderr"
        },
        {
          "output_type": "stream",
          "text": [
            "Iter [12040/24000]  Loss: 1.0424  Time/Image: 0.1474  lr=0.000909\n"
          ],
          "name": "stdout"
        },
        {
          "output_type": "stream",
          "text": [
            "INFO:ptsemseg:Iter [12050/24000]  Loss: 1.0388  Time/Image: 0.1489  lr=0.000909\n"
          ],
          "name": "stderr"
        },
        {
          "output_type": "stream",
          "text": [
            "Iter [12050/24000]  Loss: 1.0388  Time/Image: 0.1489  lr=0.000909\n"
          ],
          "name": "stdout"
        },
        {
          "output_type": "stream",
          "text": [
            "INFO:ptsemseg:Iter [12060/24000]  Loss: 1.0432  Time/Image: 0.1473  lr=0.000909\n"
          ],
          "name": "stderr"
        },
        {
          "output_type": "stream",
          "text": [
            "Iter [12060/24000]  Loss: 1.0432  Time/Image: 0.1473  lr=0.000909\n"
          ],
          "name": "stdout"
        },
        {
          "output_type": "stream",
          "text": [
            "INFO:ptsemseg:Iter [12070/24000]  Loss: 1.0491  Time/Image: 0.1361  lr=0.000909\n"
          ],
          "name": "stderr"
        },
        {
          "output_type": "stream",
          "text": [
            "Iter [12070/24000]  Loss: 1.0491  Time/Image: 0.1361  lr=0.000909\n"
          ],
          "name": "stdout"
        },
        {
          "output_type": "stream",
          "text": [
            "INFO:ptsemseg:Iter [12080/24000]  Loss: 1.0349  Time/Image: 0.1458  lr=0.000909\n"
          ],
          "name": "stderr"
        },
        {
          "output_type": "stream",
          "text": [
            "Iter [12080/24000]  Loss: 1.0349  Time/Image: 0.1458  lr=0.000909\n"
          ],
          "name": "stdout"
        },
        {
          "output_type": "stream",
          "text": [
            "INFO:ptsemseg:Iter [12090/24000]  Loss: 1.0313  Time/Image: 0.1478  lr=0.000909\n"
          ],
          "name": "stderr"
        },
        {
          "output_type": "stream",
          "text": [
            "Iter [12090/24000]  Loss: 1.0313  Time/Image: 0.1478  lr=0.000909\n"
          ],
          "name": "stdout"
        },
        {
          "output_type": "stream",
          "text": [
            "INFO:ptsemseg:Iter [12100/24000]  Loss: 1.0349  Time/Image: 0.1464  lr=0.000909\n"
          ],
          "name": "stderr"
        },
        {
          "output_type": "stream",
          "text": [
            "Iter [12100/24000]  Loss: 1.0349  Time/Image: 0.1464  lr=0.000909\n"
          ],
          "name": "stdout"
        },
        {
          "output_type": "stream",
          "text": [
            "INFO:ptsemseg:Iter [12110/24000]  Loss: 1.0286  Time/Image: 0.1477  lr=0.000909\n"
          ],
          "name": "stderr"
        },
        {
          "output_type": "stream",
          "text": [
            "Iter [12110/24000]  Loss: 1.0286  Time/Image: 0.1477  lr=0.000909\n"
          ],
          "name": "stdout"
        },
        {
          "output_type": "stream",
          "text": [
            "INFO:ptsemseg:Iter [12120/24000]  Loss: 1.0320  Time/Image: 0.1425  lr=0.000909\n"
          ],
          "name": "stderr"
        },
        {
          "output_type": "stream",
          "text": [
            "Iter [12120/24000]  Loss: 1.0320  Time/Image: 0.1425  lr=0.000909\n"
          ],
          "name": "stdout"
        },
        {
          "output_type": "stream",
          "text": [
            "INFO:ptsemseg:Iter [12130/24000]  Loss: 1.0290  Time/Image: 0.1465  lr=0.000909\n"
          ],
          "name": "stderr"
        },
        {
          "output_type": "stream",
          "text": [
            "Iter [12130/24000]  Loss: 1.0290  Time/Image: 0.1465  lr=0.000909\n"
          ],
          "name": "stdout"
        },
        {
          "output_type": "stream",
          "text": [
            "INFO:ptsemseg:Iter [12140/24000]  Loss: 1.0226  Time/Image: 0.1514  lr=0.000908\n"
          ],
          "name": "stderr"
        },
        {
          "output_type": "stream",
          "text": [
            "Iter [12140/24000]  Loss: 1.0226  Time/Image: 0.1514  lr=0.000908\n"
          ],
          "name": "stdout"
        },
        {
          "output_type": "stream",
          "text": [
            "INFO:ptsemseg:Iter [12150/24000]  Loss: 1.0249  Time/Image: 0.1408  lr=0.000908\n"
          ],
          "name": "stderr"
        },
        {
          "output_type": "stream",
          "text": [
            "Iter [12150/24000]  Loss: 1.0249  Time/Image: 0.1408  lr=0.000908\n"
          ],
          "name": "stdout"
        },
        {
          "output_type": "stream",
          "text": [
            "INFO:ptsemseg:Iter [12160/24000]  Loss: 1.0260  Time/Image: 0.1405  lr=0.000908\n"
          ],
          "name": "stderr"
        },
        {
          "output_type": "stream",
          "text": [
            "Iter [12160/24000]  Loss: 1.0260  Time/Image: 0.1405  lr=0.000908\n"
          ],
          "name": "stdout"
        },
        {
          "output_type": "stream",
          "text": [
            "INFO:ptsemseg:Iter [12170/24000]  Loss: 1.0258  Time/Image: 0.1450  lr=0.000908\n"
          ],
          "name": "stderr"
        },
        {
          "output_type": "stream",
          "text": [
            "Iter [12170/24000]  Loss: 1.0258  Time/Image: 0.1450  lr=0.000908\n"
          ],
          "name": "stdout"
        },
        {
          "output_type": "stream",
          "text": [
            "INFO:ptsemseg:Iter [12180/24000]  Loss: 1.0233  Time/Image: 0.1491  lr=0.000908\n"
          ],
          "name": "stderr"
        },
        {
          "output_type": "stream",
          "text": [
            "Iter [12180/24000]  Loss: 1.0233  Time/Image: 0.1491  lr=0.000908\n"
          ],
          "name": "stdout"
        },
        {
          "output_type": "stream",
          "text": [
            "INFO:ptsemseg:Iter [12190/24000]  Loss: 1.0244  Time/Image: 0.1432  lr=0.000908\n"
          ],
          "name": "stderr"
        },
        {
          "output_type": "stream",
          "text": [
            "Iter [12190/24000]  Loss: 1.0244  Time/Image: 0.1432  lr=0.000908\n"
          ],
          "name": "stdout"
        },
        {
          "output_type": "stream",
          "text": [
            "INFO:ptsemseg:Iter [12200/24000]  Loss: 1.0248  Time/Image: 0.1435  lr=0.000908\n"
          ],
          "name": "stderr"
        },
        {
          "output_type": "stream",
          "text": [
            "Iter [12200/24000]  Loss: 1.0248  Time/Image: 0.1435  lr=0.000908\n"
          ],
          "name": "stdout"
        },
        {
          "output_type": "stream",
          "text": [
            "INFO:ptsemseg:Iter [12210/24000]  Loss: 1.0269  Time/Image: 0.1475  lr=0.000908\n"
          ],
          "name": "stderr"
        },
        {
          "output_type": "stream",
          "text": [
            "Iter [12210/24000]  Loss: 1.0269  Time/Image: 0.1475  lr=0.000908\n"
          ],
          "name": "stdout"
        },
        {
          "output_type": "stream",
          "text": [
            "INFO:ptsemseg:Iter [12220/24000]  Loss: 1.0238  Time/Image: 0.1490  lr=0.000908\n"
          ],
          "name": "stderr"
        },
        {
          "output_type": "stream",
          "text": [
            "Iter [12220/24000]  Loss: 1.0238  Time/Image: 0.1490  lr=0.000908\n"
          ],
          "name": "stdout"
        },
        {
          "output_type": "stream",
          "text": [
            "INFO:ptsemseg:Iter [12230/24000]  Loss: 1.0254  Time/Image: 0.1485  lr=0.000908\n"
          ],
          "name": "stderr"
        },
        {
          "output_type": "stream",
          "text": [
            "Iter [12230/24000]  Loss: 1.0254  Time/Image: 0.1485  lr=0.000908\n"
          ],
          "name": "stdout"
        },
        {
          "output_type": "stream",
          "text": [
            "INFO:ptsemseg:Iter [12240/24000]  Loss: 1.0268  Time/Image: 0.1457  lr=0.000908\n"
          ],
          "name": "stderr"
        },
        {
          "output_type": "stream",
          "text": [
            "Iter [12240/24000]  Loss: 1.0268  Time/Image: 0.1457  lr=0.000908\n"
          ],
          "name": "stdout"
        },
        {
          "output_type": "stream",
          "text": [
            "INFO:ptsemseg:Iter [12250/24000]  Loss: 1.0275  Time/Image: 0.1436  lr=0.000908\n"
          ],
          "name": "stderr"
        },
        {
          "output_type": "stream",
          "text": [
            "Iter [12250/24000]  Loss: 1.0275  Time/Image: 0.1436  lr=0.000908\n"
          ],
          "name": "stdout"
        },
        {
          "output_type": "stream",
          "text": [
            "INFO:ptsemseg:Iter [12260/24000]  Loss: 1.0282  Time/Image: 0.1444  lr=0.000908\n"
          ],
          "name": "stderr"
        },
        {
          "output_type": "stream",
          "text": [
            "Iter [12260/24000]  Loss: 1.0282  Time/Image: 0.1444  lr=0.000908\n"
          ],
          "name": "stdout"
        },
        {
          "output_type": "stream",
          "text": [
            "INFO:ptsemseg:Iter [12270/24000]  Loss: 1.0296  Time/Image: 0.1482  lr=0.000908\n"
          ],
          "name": "stderr"
        },
        {
          "output_type": "stream",
          "text": [
            "Iter [12270/24000]  Loss: 1.0296  Time/Image: 0.1482  lr=0.000908\n"
          ],
          "name": "stdout"
        },
        {
          "output_type": "stream",
          "text": [
            "INFO:ptsemseg:Iter [12280/24000]  Loss: 1.0290  Time/Image: 0.1399  lr=0.000907\n"
          ],
          "name": "stderr"
        },
        {
          "output_type": "stream",
          "text": [
            "Iter [12280/24000]  Loss: 1.0290  Time/Image: 0.1399  lr=0.000907\n"
          ],
          "name": "stdout"
        },
        {
          "output_type": "stream",
          "text": [
            "INFO:ptsemseg:Iter [12290/24000]  Loss: 1.0301  Time/Image: 0.1456  lr=0.000907\n"
          ],
          "name": "stderr"
        },
        {
          "output_type": "stream",
          "text": [
            "Iter [12290/24000]  Loss: 1.0301  Time/Image: 0.1456  lr=0.000907\n"
          ],
          "name": "stdout"
        },
        {
          "output_type": "stream",
          "text": [
            "INFO:ptsemseg:Iter [12300/24000]  Loss: 1.0301  Time/Image: 0.1403  lr=0.000907\n"
          ],
          "name": "stderr"
        },
        {
          "output_type": "stream",
          "text": [
            "Iter [12300/24000]  Loss: 1.0301  Time/Image: 0.1403  lr=0.000907\n"
          ],
          "name": "stdout"
        },
        {
          "output_type": "stream",
          "text": [
            "INFO:ptsemseg:Iter [12310/24000]  Loss: 1.0298  Time/Image: 0.1436  lr=0.000907\n"
          ],
          "name": "stderr"
        },
        {
          "output_type": "stream",
          "text": [
            "Iter [12310/24000]  Loss: 1.0298  Time/Image: 0.1436  lr=0.000907\n"
          ],
          "name": "stdout"
        },
        {
          "output_type": "stream",
          "text": [
            "INFO:ptsemseg:Iter [12320/24000]  Loss: 1.0290  Time/Image: 0.1389  lr=0.000907\n"
          ],
          "name": "stderr"
        },
        {
          "output_type": "stream",
          "text": [
            "Iter [12320/24000]  Loss: 1.0290  Time/Image: 0.1389  lr=0.000907\n"
          ],
          "name": "stdout"
        },
        {
          "output_type": "stream",
          "text": [
            "INFO:ptsemseg:Iter [12330/24000]  Loss: 1.0272  Time/Image: 0.1413  lr=0.000907\n"
          ],
          "name": "stderr"
        },
        {
          "output_type": "stream",
          "text": [
            "Iter [12330/24000]  Loss: 1.0272  Time/Image: 0.1413  lr=0.000907\n"
          ],
          "name": "stdout"
        },
        {
          "output_type": "stream",
          "text": [
            "INFO:ptsemseg:Iter [12340/24000]  Loss: 1.0295  Time/Image: 0.1438  lr=0.000907\n"
          ],
          "name": "stderr"
        },
        {
          "output_type": "stream",
          "text": [
            "Iter [12340/24000]  Loss: 1.0295  Time/Image: 0.1438  lr=0.000907\n"
          ],
          "name": "stdout"
        },
        {
          "output_type": "stream",
          "text": [
            "INFO:ptsemseg:Iter [12350/24000]  Loss: 1.0315  Time/Image: 0.1480  lr=0.000907\n"
          ],
          "name": "stderr"
        },
        {
          "output_type": "stream",
          "text": [
            "Iter [12350/24000]  Loss: 1.0315  Time/Image: 0.1480  lr=0.000907\n"
          ],
          "name": "stdout"
        },
        {
          "output_type": "stream",
          "text": [
            "INFO:ptsemseg:Iter [12360/24000]  Loss: 1.0291  Time/Image: 0.1482  lr=0.000907\n"
          ],
          "name": "stderr"
        },
        {
          "output_type": "stream",
          "text": [
            "Iter [12360/24000]  Loss: 1.0291  Time/Image: 0.1482  lr=0.000907\n"
          ],
          "name": "stdout"
        },
        {
          "output_type": "stream",
          "text": [
            "INFO:ptsemseg:Iter [12370/24000]  Loss: 1.0284  Time/Image: 0.1421  lr=0.000907\n"
          ],
          "name": "stderr"
        },
        {
          "output_type": "stream",
          "text": [
            "Iter [12370/24000]  Loss: 1.0284  Time/Image: 0.1421  lr=0.000907\n"
          ],
          "name": "stdout"
        },
        {
          "output_type": "stream",
          "text": [
            "INFO:ptsemseg:Iter [12380/24000]  Loss: 1.0280  Time/Image: 0.1486  lr=0.000907\n"
          ],
          "name": "stderr"
        },
        {
          "output_type": "stream",
          "text": [
            "Iter [12380/24000]  Loss: 1.0280  Time/Image: 0.1486  lr=0.000907\n"
          ],
          "name": "stdout"
        },
        {
          "output_type": "stream",
          "text": [
            "INFO:ptsemseg:Iter [12390/24000]  Loss: 1.0271  Time/Image: 0.1315  lr=0.000907\n"
          ],
          "name": "stderr"
        },
        {
          "output_type": "stream",
          "text": [
            "Iter [12390/24000]  Loss: 1.0271  Time/Image: 0.1315  lr=0.000907\n"
          ],
          "name": "stdout"
        },
        {
          "output_type": "stream",
          "text": [
            "INFO:ptsemseg:Iter [12400/24000]  Loss: 1.0274  Time/Image: 0.1362  lr=0.000907\n"
          ],
          "name": "stderr"
        },
        {
          "output_type": "stream",
          "text": [
            "Iter [12400/24000]  Loss: 1.0274  Time/Image: 0.1362  lr=0.000907\n"
          ],
          "name": "stdout"
        },
        {
          "output_type": "stream",
          "text": [
            "INFO:ptsemseg:Iter [12410/24000]  Loss: 1.0276  Time/Image: 0.1491  lr=0.000906\n"
          ],
          "name": "stderr"
        },
        {
          "output_type": "stream",
          "text": [
            "Iter [12410/24000]  Loss: 1.0276  Time/Image: 0.1491  lr=0.000906\n"
          ],
          "name": "stdout"
        },
        {
          "output_type": "stream",
          "text": [
            "INFO:ptsemseg:Iter [12420/24000]  Loss: 1.0283  Time/Image: 0.1413  lr=0.000906\n"
          ],
          "name": "stderr"
        },
        {
          "output_type": "stream",
          "text": [
            "Iter [12420/24000]  Loss: 1.0283  Time/Image: 0.1413  lr=0.000906\n"
          ],
          "name": "stdout"
        },
        {
          "output_type": "stream",
          "text": [
            "INFO:ptsemseg:Iter [12430/24000]  Loss: 1.0264  Time/Image: 0.1451  lr=0.000906\n"
          ],
          "name": "stderr"
        },
        {
          "output_type": "stream",
          "text": [
            "Iter [12430/24000]  Loss: 1.0264  Time/Image: 0.1451  lr=0.000906\n"
          ],
          "name": "stdout"
        },
        {
          "output_type": "stream",
          "text": [
            "INFO:ptsemseg:Iter [12440/24000]  Loss: 1.0258  Time/Image: 0.1476  lr=0.000906\n"
          ],
          "name": "stderr"
        },
        {
          "output_type": "stream",
          "text": [
            "Iter [12440/24000]  Loss: 1.0258  Time/Image: 0.1476  lr=0.000906\n"
          ],
          "name": "stdout"
        },
        {
          "output_type": "stream",
          "text": [
            "INFO:ptsemseg:Iter [12450/24000]  Loss: 1.0247  Time/Image: 0.1437  lr=0.000906\n"
          ],
          "name": "stderr"
        },
        {
          "output_type": "stream",
          "text": [
            "Iter [12450/24000]  Loss: 1.0247  Time/Image: 0.1437  lr=0.000906\n"
          ],
          "name": "stdout"
        },
        {
          "output_type": "stream",
          "text": [
            "INFO:ptsemseg:Iter [12460/24000]  Loss: 1.0252  Time/Image: 0.1477  lr=0.000906\n"
          ],
          "name": "stderr"
        },
        {
          "output_type": "stream",
          "text": [
            "Iter [12460/24000]  Loss: 1.0252  Time/Image: 0.1477  lr=0.000906\n"
          ],
          "name": "stdout"
        },
        {
          "output_type": "stream",
          "text": [
            "INFO:ptsemseg:Iter [12470/24000]  Loss: 1.0244  Time/Image: 0.1393  lr=0.000906\n"
          ],
          "name": "stderr"
        },
        {
          "output_type": "stream",
          "text": [
            "Iter [12470/24000]  Loss: 1.0244  Time/Image: 0.1393  lr=0.000906\n"
          ],
          "name": "stdout"
        },
        {
          "output_type": "stream",
          "text": [
            "INFO:ptsemseg:Iter [12480/24000]  Loss: 1.0245  Time/Image: 0.1442  lr=0.000906\n"
          ],
          "name": "stderr"
        },
        {
          "output_type": "stream",
          "text": [
            "Iter [12480/24000]  Loss: 1.0245  Time/Image: 0.1442  lr=0.000906\n"
          ],
          "name": "stdout"
        },
        {
          "output_type": "stream",
          "text": [
            "INFO:ptsemseg:Iter [12490/24000]  Loss: 1.0232  Time/Image: 0.1393  lr=0.000906\n"
          ],
          "name": "stderr"
        },
        {
          "output_type": "stream",
          "text": [
            "Iter [12490/24000]  Loss: 1.0232  Time/Image: 0.1393  lr=0.000906\n"
          ],
          "name": "stdout"
        },
        {
          "output_type": "stream",
          "text": [
            "INFO:ptsemseg:Iter [12500/24000]  Loss: 1.0223  Time/Image: 0.1177  lr=0.000906\n"
          ],
          "name": "stderr"
        },
        {
          "output_type": "stream",
          "text": [
            "Iter [12500/24000]  Loss: 1.0223  Time/Image: 0.1177  lr=0.000906\n"
          ],
          "name": "stdout"
        },
        {
          "output_type": "stream",
          "text": [
            "84it [03:16,  2.33s/it]\n",
            "INFO:ptsemseg:Iter 12500 Val Loss: 1.0484\n",
            "INFO:ptsemseg:Overall Acc: \t: 0.9121682049313621\n",
            "INFO:ptsemseg:Mean Acc : \t: 0.5774375789032692\n",
            "INFO:ptsemseg:FreqW Acc : \t: 0.8477237003909206\n",
            "INFO:ptsemseg:Mean IoU : \t: 0.4820839057955013\n",
            "INFO:ptsemseg:0: 0.9542428548879299\n",
            "INFO:ptsemseg:1: 0.6979122344688454\n",
            "INFO:ptsemseg:2: 0.841956531149745\n",
            "INFO:ptsemseg:3: 0.16588394687517918\n",
            "INFO:ptsemseg:4: 0.20221334771891497\n",
            "INFO:ptsemseg:5: 0.3872057885964583\n",
            "INFO:ptsemseg:6: 0.3331191242579046\n",
            "INFO:ptsemseg:7: 0.5012390537571582\n",
            "INFO:ptsemseg:8: 0.8715364135213144\n",
            "INFO:ptsemseg:9: 0.40350394083399915\n",
            "INFO:ptsemseg:10: 0.9042222924000803\n",
            "INFO:ptsemseg:11: 0.4976335334317491\n",
            "INFO:ptsemseg:12: 0.07115787011349486\n",
            "INFO:ptsemseg:13: 0.8633184939443733\n",
            "INFO:ptsemseg:14: 0.20010143216982956\n",
            "INFO:ptsemseg:15: 0.3846572350844137\n",
            "INFO:ptsemseg:16: 0.24450260226163684\n",
            "INFO:ptsemseg:17: 0.13248247642535432\n",
            "INFO:ptsemseg:18: 0.5027050382161448\n"
          ],
          "name": "stderr"
        },
        {
          "output_type": "stream",
          "text": [
            "Overall Acc: \t 0.9121682049313621\n",
            "Mean Acc : \t 0.5774375789032692\n",
            "FreqW Acc : \t 0.8477237003909206\n",
            "Mean IoU : \t 0.4820839057955013\n"
          ],
          "name": "stdout"
        },
        {
          "output_type": "stream",
          "text": [
            "INFO:ptsemseg:Iter [12510/24000]  Loss: 1.0239  Time/Image: 0.1363  lr=0.000906\n"
          ],
          "name": "stderr"
        },
        {
          "output_type": "stream",
          "text": [
            "Iter [12510/24000]  Loss: 1.0239  Time/Image: 0.1363  lr=0.000906\n"
          ],
          "name": "stdout"
        },
        {
          "output_type": "stream",
          "text": [
            "INFO:ptsemseg:Iter [12520/24000]  Loss: 1.0825  Time/Image: 0.1667  lr=0.000906\n"
          ],
          "name": "stderr"
        },
        {
          "output_type": "stream",
          "text": [
            "Iter [12520/24000]  Loss: 1.0825  Time/Image: 0.1667  lr=0.000906\n"
          ],
          "name": "stdout"
        },
        {
          "output_type": "stream",
          "text": [
            "INFO:ptsemseg:Iter [12530/24000]  Loss: 1.0435  Time/Image: 0.1627  lr=0.000906\n"
          ],
          "name": "stderr"
        },
        {
          "output_type": "stream",
          "text": [
            "Iter [12530/24000]  Loss: 1.0435  Time/Image: 0.1627  lr=0.000906\n"
          ],
          "name": "stdout"
        },
        {
          "output_type": "stream",
          "text": [
            "INFO:ptsemseg:Iter [12540/24000]  Loss: 1.0501  Time/Image: 0.1598  lr=0.000905\n"
          ],
          "name": "stderr"
        },
        {
          "output_type": "stream",
          "text": [
            "Iter [12540/24000]  Loss: 1.0501  Time/Image: 0.1598  lr=0.000905\n"
          ],
          "name": "stdout"
        },
        {
          "output_type": "stream",
          "text": [
            "INFO:ptsemseg:Iter [12550/24000]  Loss: 1.0277  Time/Image: 0.1603  lr=0.000905\n"
          ],
          "name": "stderr"
        },
        {
          "output_type": "stream",
          "text": [
            "Iter [12550/24000]  Loss: 1.0277  Time/Image: 0.1603  lr=0.000905\n"
          ],
          "name": "stdout"
        },
        {
          "output_type": "stream",
          "text": [
            "INFO:ptsemseg:Iter [12560/24000]  Loss: 1.0140  Time/Image: 0.1615  lr=0.000905\n"
          ],
          "name": "stderr"
        },
        {
          "output_type": "stream",
          "text": [
            "Iter [12560/24000]  Loss: 1.0140  Time/Image: 0.1615  lr=0.000905\n"
          ],
          "name": "stdout"
        },
        {
          "output_type": "stream",
          "text": [
            "INFO:ptsemseg:Iter [12570/24000]  Loss: 1.0111  Time/Image: 0.1613  lr=0.000905\n"
          ],
          "name": "stderr"
        },
        {
          "output_type": "stream",
          "text": [
            "Iter [12570/24000]  Loss: 1.0111  Time/Image: 0.1613  lr=0.000905\n"
          ],
          "name": "stdout"
        },
        {
          "output_type": "stream",
          "text": [
            "INFO:ptsemseg:Iter [12580/24000]  Loss: 1.0107  Time/Image: 0.1617  lr=0.000905\n"
          ],
          "name": "stderr"
        },
        {
          "output_type": "stream",
          "text": [
            "Iter [12580/24000]  Loss: 1.0107  Time/Image: 0.1617  lr=0.000905\n"
          ],
          "name": "stdout"
        },
        {
          "output_type": "stream",
          "text": [
            "INFO:ptsemseg:Iter [12590/24000]  Loss: 1.0094  Time/Image: 0.1603  lr=0.000905\n"
          ],
          "name": "stderr"
        },
        {
          "output_type": "stream",
          "text": [
            "Iter [12590/24000]  Loss: 1.0094  Time/Image: 0.1603  lr=0.000905\n"
          ],
          "name": "stdout"
        },
        {
          "output_type": "stream",
          "text": [
            "INFO:ptsemseg:Iter [12600/24000]  Loss: 1.0122  Time/Image: 0.1617  lr=0.000905\n"
          ],
          "name": "stderr"
        },
        {
          "output_type": "stream",
          "text": [
            "Iter [12600/24000]  Loss: 1.0122  Time/Image: 0.1617  lr=0.000905\n"
          ],
          "name": "stdout"
        },
        {
          "output_type": "stream",
          "text": [
            "INFO:ptsemseg:Iter [12610/24000]  Loss: 1.0138  Time/Image: 0.1630  lr=0.000905\n"
          ],
          "name": "stderr"
        },
        {
          "output_type": "stream",
          "text": [
            "Iter [12610/24000]  Loss: 1.0138  Time/Image: 0.1630  lr=0.000905\n"
          ],
          "name": "stdout"
        },
        {
          "output_type": "stream",
          "text": [
            "INFO:ptsemseg:Iter [12620/24000]  Loss: 1.0164  Time/Image: 0.1589  lr=0.000905\n"
          ],
          "name": "stderr"
        },
        {
          "output_type": "stream",
          "text": [
            "Iter [12620/24000]  Loss: 1.0164  Time/Image: 0.1589  lr=0.000905\n"
          ],
          "name": "stdout"
        },
        {
          "output_type": "stream",
          "text": [
            "INFO:ptsemseg:Iter [12630/24000]  Loss: 1.0128  Time/Image: 0.1621  lr=0.000905\n"
          ],
          "name": "stderr"
        },
        {
          "output_type": "stream",
          "text": [
            "Iter [12630/24000]  Loss: 1.0128  Time/Image: 0.1621  lr=0.000905\n"
          ],
          "name": "stdout"
        },
        {
          "output_type": "stream",
          "text": [
            "INFO:ptsemseg:Iter [12640/24000]  Loss: 1.0119  Time/Image: 0.1623  lr=0.000905\n"
          ],
          "name": "stderr"
        },
        {
          "output_type": "stream",
          "text": [
            "Iter [12640/24000]  Loss: 1.0119  Time/Image: 0.1623  lr=0.000905\n"
          ],
          "name": "stdout"
        },
        {
          "output_type": "stream",
          "text": [
            "INFO:ptsemseg:Iter [12650/24000]  Loss: 1.0099  Time/Image: 0.1646  lr=0.000905\n"
          ],
          "name": "stderr"
        },
        {
          "output_type": "stream",
          "text": [
            "Iter [12650/24000]  Loss: 1.0099  Time/Image: 0.1646  lr=0.000905\n"
          ],
          "name": "stdout"
        },
        {
          "output_type": "stream",
          "text": [
            "INFO:ptsemseg:Iter [12660/24000]  Loss: 1.0137  Time/Image: 0.1652  lr=0.000905\n"
          ],
          "name": "stderr"
        },
        {
          "output_type": "stream",
          "text": [
            "Iter [12660/24000]  Loss: 1.0137  Time/Image: 0.1652  lr=0.000905\n"
          ],
          "name": "stdout"
        },
        {
          "output_type": "stream",
          "text": [
            "INFO:ptsemseg:Iter [12670/24000]  Loss: 1.0142  Time/Image: 0.1624  lr=0.000904\n"
          ],
          "name": "stderr"
        },
        {
          "output_type": "stream",
          "text": [
            "Iter [12670/24000]  Loss: 1.0142  Time/Image: 0.1624  lr=0.000904\n"
          ],
          "name": "stdout"
        },
        {
          "output_type": "stream",
          "text": [
            "INFO:ptsemseg:Iter [12680/24000]  Loss: 1.0150  Time/Image: 0.1632  lr=0.000904\n"
          ],
          "name": "stderr"
        },
        {
          "output_type": "stream",
          "text": [
            "Iter [12680/24000]  Loss: 1.0150  Time/Image: 0.1632  lr=0.000904\n"
          ],
          "name": "stdout"
        },
        {
          "output_type": "stream",
          "text": [
            "INFO:ptsemseg:Iter [12690/24000]  Loss: 1.0112  Time/Image: 0.1632  lr=0.000904\n"
          ],
          "name": "stderr"
        },
        {
          "output_type": "stream",
          "text": [
            "Iter [12690/24000]  Loss: 1.0112  Time/Image: 0.1632  lr=0.000904\n"
          ],
          "name": "stdout"
        },
        {
          "output_type": "stream",
          "text": [
            "INFO:ptsemseg:Iter [12700/24000]  Loss: 1.0123  Time/Image: 0.1642  lr=0.000904\n"
          ],
          "name": "stderr"
        },
        {
          "output_type": "stream",
          "text": [
            "Iter [12700/24000]  Loss: 1.0123  Time/Image: 0.1642  lr=0.000904\n"
          ],
          "name": "stdout"
        },
        {
          "output_type": "stream",
          "text": [
            "INFO:ptsemseg:Iter [12710/24000]  Loss: 1.0141  Time/Image: 0.1630  lr=0.000904\n"
          ],
          "name": "stderr"
        },
        {
          "output_type": "stream",
          "text": [
            "Iter [12710/24000]  Loss: 1.0141  Time/Image: 0.1630  lr=0.000904\n"
          ],
          "name": "stdout"
        },
        {
          "output_type": "stream",
          "text": [
            "INFO:ptsemseg:Iter [12720/24000]  Loss: 1.0145  Time/Image: 0.1641  lr=0.000904\n"
          ],
          "name": "stderr"
        },
        {
          "output_type": "stream",
          "text": [
            "Iter [12720/24000]  Loss: 1.0145  Time/Image: 0.1641  lr=0.000904\n"
          ],
          "name": "stdout"
        },
        {
          "output_type": "stream",
          "text": [
            "INFO:ptsemseg:Iter [12730/24000]  Loss: 1.0088  Time/Image: 0.1617  lr=0.000904\n"
          ],
          "name": "stderr"
        },
        {
          "output_type": "stream",
          "text": [
            "Iter [12730/24000]  Loss: 1.0088  Time/Image: 0.1617  lr=0.000904\n"
          ],
          "name": "stdout"
        },
        {
          "output_type": "stream",
          "text": [
            "INFO:ptsemseg:Iter [12740/24000]  Loss: 1.0092  Time/Image: 0.1631  lr=0.000904\n"
          ],
          "name": "stderr"
        },
        {
          "output_type": "stream",
          "text": [
            "Iter [12740/24000]  Loss: 1.0092  Time/Image: 0.1631  lr=0.000904\n"
          ],
          "name": "stdout"
        },
        {
          "output_type": "stream",
          "text": [
            "INFO:ptsemseg:Iter [12750/24000]  Loss: 1.0111  Time/Image: 0.1635  lr=0.000904\n"
          ],
          "name": "stderr"
        },
        {
          "output_type": "stream",
          "text": [
            "Iter [12750/24000]  Loss: 1.0111  Time/Image: 0.1635  lr=0.000904\n"
          ],
          "name": "stdout"
        },
        {
          "output_type": "stream",
          "text": [
            "INFO:ptsemseg:Iter [12760/24000]  Loss: 1.0124  Time/Image: 0.1624  lr=0.000904\n"
          ],
          "name": "stderr"
        },
        {
          "output_type": "stream",
          "text": [
            "Iter [12760/24000]  Loss: 1.0124  Time/Image: 0.1624  lr=0.000904\n"
          ],
          "name": "stdout"
        },
        {
          "output_type": "stream",
          "text": [
            "INFO:ptsemseg:Iter [12770/24000]  Loss: 1.0118  Time/Image: 0.1646  lr=0.000904\n"
          ],
          "name": "stderr"
        },
        {
          "output_type": "stream",
          "text": [
            "Iter [12770/24000]  Loss: 1.0118  Time/Image: 0.1646  lr=0.000904\n"
          ],
          "name": "stdout"
        },
        {
          "output_type": "stream",
          "text": [
            "INFO:ptsemseg:Iter [12780/24000]  Loss: 1.0120  Time/Image: 0.1652  lr=0.000904\n"
          ],
          "name": "stderr"
        },
        {
          "output_type": "stream",
          "text": [
            "Iter [12780/24000]  Loss: 1.0120  Time/Image: 0.1652  lr=0.000904\n"
          ],
          "name": "stdout"
        },
        {
          "output_type": "stream",
          "text": [
            "INFO:ptsemseg:Iter [12790/24000]  Loss: 1.0101  Time/Image: 0.1649  lr=0.000904\n"
          ],
          "name": "stderr"
        },
        {
          "output_type": "stream",
          "text": [
            "Iter [12790/24000]  Loss: 1.0101  Time/Image: 0.1649  lr=0.000904\n"
          ],
          "name": "stdout"
        },
        {
          "output_type": "stream",
          "text": [
            "INFO:ptsemseg:Iter [12800/24000]  Loss: 1.0098  Time/Image: 0.1605  lr=0.000903\n"
          ],
          "name": "stderr"
        },
        {
          "output_type": "stream",
          "text": [
            "Iter [12800/24000]  Loss: 1.0098  Time/Image: 0.1605  lr=0.000903\n"
          ],
          "name": "stdout"
        },
        {
          "output_type": "stream",
          "text": [
            "INFO:ptsemseg:Iter [12810/24000]  Loss: 1.0091  Time/Image: 0.1622  lr=0.000903\n"
          ],
          "name": "stderr"
        },
        {
          "output_type": "stream",
          "text": [
            "Iter [12810/24000]  Loss: 1.0091  Time/Image: 0.1622  lr=0.000903\n"
          ],
          "name": "stdout"
        },
        {
          "output_type": "stream",
          "text": [
            "INFO:ptsemseg:Iter [12820/24000]  Loss: 1.0085  Time/Image: 0.1665  lr=0.000903\n"
          ],
          "name": "stderr"
        },
        {
          "output_type": "stream",
          "text": [
            "Iter [12820/24000]  Loss: 1.0085  Time/Image: 0.1665  lr=0.000903\n"
          ],
          "name": "stdout"
        },
        {
          "output_type": "stream",
          "text": [
            "INFO:ptsemseg:Iter [12830/24000]  Loss: 1.0085  Time/Image: 0.1603  lr=0.000903\n"
          ],
          "name": "stderr"
        },
        {
          "output_type": "stream",
          "text": [
            "Iter [12830/24000]  Loss: 1.0085  Time/Image: 0.1603  lr=0.000903\n"
          ],
          "name": "stdout"
        },
        {
          "output_type": "stream",
          "text": [
            "INFO:ptsemseg:Iter [12840/24000]  Loss: 1.0094  Time/Image: 0.1604  lr=0.000903\n"
          ],
          "name": "stderr"
        },
        {
          "output_type": "stream",
          "text": [
            "Iter [12840/24000]  Loss: 1.0094  Time/Image: 0.1604  lr=0.000903\n"
          ],
          "name": "stdout"
        },
        {
          "output_type": "stream",
          "text": [
            "INFO:ptsemseg:Iter [12850/24000]  Loss: 1.0080  Time/Image: 0.1647  lr=0.000903\n"
          ],
          "name": "stderr"
        },
        {
          "output_type": "stream",
          "text": [
            "Iter [12850/24000]  Loss: 1.0080  Time/Image: 0.1647  lr=0.000903\n"
          ],
          "name": "stdout"
        },
        {
          "output_type": "stream",
          "text": [
            "INFO:ptsemseg:Iter [12860/24000]  Loss: 1.0089  Time/Image: 0.1657  lr=0.000903\n"
          ],
          "name": "stderr"
        },
        {
          "output_type": "stream",
          "text": [
            "Iter [12860/24000]  Loss: 1.0089  Time/Image: 0.1657  lr=0.000903\n"
          ],
          "name": "stdout"
        },
        {
          "output_type": "stream",
          "text": [
            "INFO:ptsemseg:Iter [12870/24000]  Loss: 1.0091  Time/Image: 0.1651  lr=0.000903\n"
          ],
          "name": "stderr"
        },
        {
          "output_type": "stream",
          "text": [
            "Iter [12870/24000]  Loss: 1.0091  Time/Image: 0.1651  lr=0.000903\n"
          ],
          "name": "stdout"
        },
        {
          "output_type": "stream",
          "text": [
            "INFO:ptsemseg:Iter [12880/24000]  Loss: 1.0090  Time/Image: 0.1611  lr=0.000903\n"
          ],
          "name": "stderr"
        },
        {
          "output_type": "stream",
          "text": [
            "Iter [12880/24000]  Loss: 1.0090  Time/Image: 0.1611  lr=0.000903\n"
          ],
          "name": "stdout"
        },
        {
          "output_type": "stream",
          "text": [
            "INFO:ptsemseg:Iter [12890/24000]  Loss: 1.0083  Time/Image: 0.1634  lr=0.000903\n"
          ],
          "name": "stderr"
        },
        {
          "output_type": "stream",
          "text": [
            "Iter [12890/24000]  Loss: 1.0083  Time/Image: 0.1634  lr=0.000903\n"
          ],
          "name": "stdout"
        },
        {
          "output_type": "stream",
          "text": [
            "INFO:ptsemseg:Iter [12900/24000]  Loss: 1.0084  Time/Image: 0.1633  lr=0.000903\n"
          ],
          "name": "stderr"
        },
        {
          "output_type": "stream",
          "text": [
            "Iter [12900/24000]  Loss: 1.0084  Time/Image: 0.1633  lr=0.000903\n"
          ],
          "name": "stdout"
        },
        {
          "output_type": "stream",
          "text": [
            "INFO:ptsemseg:Iter [12910/24000]  Loss: 1.0100  Time/Image: 0.1620  lr=0.000903\n"
          ],
          "name": "stderr"
        },
        {
          "output_type": "stream",
          "text": [
            "Iter [12910/24000]  Loss: 1.0100  Time/Image: 0.1620  lr=0.000903\n"
          ],
          "name": "stdout"
        },
        {
          "output_type": "stream",
          "text": [
            "INFO:ptsemseg:Iter [12920/24000]  Loss: 1.0085  Time/Image: 0.1611  lr=0.000903\n"
          ],
          "name": "stderr"
        },
        {
          "output_type": "stream",
          "text": [
            "Iter [12920/24000]  Loss: 1.0085  Time/Image: 0.1611  lr=0.000903\n"
          ],
          "name": "stdout"
        },
        {
          "output_type": "stream",
          "text": [
            "INFO:ptsemseg:Iter [12930/24000]  Loss: 1.0098  Time/Image: 0.1637  lr=0.000902\n"
          ],
          "name": "stderr"
        },
        {
          "output_type": "stream",
          "text": [
            "Iter [12930/24000]  Loss: 1.0098  Time/Image: 0.1637  lr=0.000902\n"
          ],
          "name": "stdout"
        },
        {
          "output_type": "stream",
          "text": [
            "INFO:ptsemseg:Iter [12940/24000]  Loss: 1.0103  Time/Image: 0.1617  lr=0.000902\n"
          ],
          "name": "stderr"
        },
        {
          "output_type": "stream",
          "text": [
            "Iter [12940/24000]  Loss: 1.0103  Time/Image: 0.1617  lr=0.000902\n"
          ],
          "name": "stdout"
        },
        {
          "output_type": "stream",
          "text": [
            "INFO:ptsemseg:Iter [12950/24000]  Loss: 1.0100  Time/Image: 0.1635  lr=0.000902\n"
          ],
          "name": "stderr"
        },
        {
          "output_type": "stream",
          "text": [
            "Iter [12950/24000]  Loss: 1.0100  Time/Image: 0.1635  lr=0.000902\n"
          ],
          "name": "stdout"
        },
        {
          "output_type": "stream",
          "text": [
            "INFO:ptsemseg:Iter [12960/24000]  Loss: 1.0123  Time/Image: 0.1596  lr=0.000902\n"
          ],
          "name": "stderr"
        },
        {
          "output_type": "stream",
          "text": [
            "Iter [12960/24000]  Loss: 1.0123  Time/Image: 0.1596  lr=0.000902\n"
          ],
          "name": "stdout"
        },
        {
          "output_type": "stream",
          "text": [
            "INFO:ptsemseg:Iter [12970/24000]  Loss: 1.0121  Time/Image: 0.1604  lr=0.000902\n"
          ],
          "name": "stderr"
        },
        {
          "output_type": "stream",
          "text": [
            "Iter [12970/24000]  Loss: 1.0121  Time/Image: 0.1604  lr=0.000902\n"
          ],
          "name": "stdout"
        },
        {
          "output_type": "stream",
          "text": [
            "INFO:ptsemseg:Iter [12980/24000]  Loss: 1.0132  Time/Image: 0.1513  lr=0.000902\n"
          ],
          "name": "stderr"
        },
        {
          "output_type": "stream",
          "text": [
            "Iter [12980/24000]  Loss: 1.0132  Time/Image: 0.1513  lr=0.000902\n"
          ],
          "name": "stdout"
        },
        {
          "output_type": "stream",
          "text": [
            "INFO:ptsemseg:Iter [12990/24000]  Loss: 1.0149  Time/Image: 0.1227  lr=0.000902\n"
          ],
          "name": "stderr"
        },
        {
          "output_type": "stream",
          "text": [
            "Iter [12990/24000]  Loss: 1.0149  Time/Image: 0.1227  lr=0.000902\n"
          ],
          "name": "stdout"
        },
        {
          "output_type": "stream",
          "text": [
            "INFO:ptsemseg:Iter [13000/24000]  Loss: 1.0159  Time/Image: 0.1410  lr=0.000902\n"
          ],
          "name": "stderr"
        },
        {
          "output_type": "stream",
          "text": [
            "Iter [13000/24000]  Loss: 1.0159  Time/Image: 0.1410  lr=0.000902\n"
          ],
          "name": "stdout"
        },
        {
          "output_type": "stream",
          "text": [
            "84it [03:16,  2.33s/it]\n",
            "INFO:ptsemseg:Iter 13000 Val Loss: 0.9854\n",
            "INFO:ptsemseg:Overall Acc: \t: 0.9145162633683823\n",
            "INFO:ptsemseg:Mean Acc : \t: 0.5704669877834587\n",
            "INFO:ptsemseg:FreqW Acc : \t: 0.853252863750548\n",
            "INFO:ptsemseg:Mean IoU : \t: 0.4733006394015433\n",
            "INFO:ptsemseg:0: 0.9592051705674786\n",
            "INFO:ptsemseg:1: 0.7124549455792297\n",
            "INFO:ptsemseg:2: 0.8523869772359782\n",
            "INFO:ptsemseg:3: 0.2344571208819382\n",
            "INFO:ptsemseg:4: 0.359449227449769\n",
            "INFO:ptsemseg:5: 0.3782038048620304\n",
            "INFO:ptsemseg:6: 0.25576232539861116\n",
            "INFO:ptsemseg:7: 0.47501712504567806\n",
            "INFO:ptsemseg:8: 0.8665760042307583\n",
            "INFO:ptsemseg:9: 0.4400164044198674\n",
            "INFO:ptsemseg:10: 0.8951377423802982\n",
            "INFO:ptsemseg:11: 0.5679082503889712\n",
            "INFO:ptsemseg:12: 0.049253666339943325\n",
            "INFO:ptsemseg:13: 0.8617537947937521\n",
            "INFO:ptsemseg:14: 0.02772867677865802\n",
            "INFO:ptsemseg:15: 0.3938853545530361\n",
            "INFO:ptsemseg:16: 0.12432023511330703\n",
            "INFO:ptsemseg:17: 0.028924311484708566\n",
            "INFO:ptsemseg:18: 0.5102710111253099\n"
          ],
          "name": "stderr"
        },
        {
          "output_type": "stream",
          "text": [
            "Overall Acc: \t 0.9145162633683823\n",
            "Mean Acc : \t 0.5704669877834587\n",
            "FreqW Acc : \t 0.853252863750548\n",
            "Mean IoU : \t 0.4733006394015433\n"
          ],
          "name": "stdout"
        },
        {
          "output_type": "stream",
          "text": [
            "INFO:ptsemseg:Iter [13010/24000]  Loss: 1.0886  Time/Image: 0.1408  lr=0.000902\n"
          ],
          "name": "stderr"
        },
        {
          "output_type": "stream",
          "text": [
            "Iter [13010/24000]  Loss: 1.0886  Time/Image: 0.1408  lr=0.000902\n"
          ],
          "name": "stdout"
        },
        {
          "output_type": "stream",
          "text": [
            "INFO:ptsemseg:Iter [13020/24000]  Loss: 1.0370  Time/Image: 0.1647  lr=0.000902\n"
          ],
          "name": "stderr"
        },
        {
          "output_type": "stream",
          "text": [
            "Iter [13020/24000]  Loss: 1.0370  Time/Image: 0.1647  lr=0.000902\n"
          ],
          "name": "stdout"
        },
        {
          "output_type": "stream",
          "text": [
            "INFO:ptsemseg:Iter [13030/24000]  Loss: 1.0239  Time/Image: 0.1648  lr=0.000902\n"
          ],
          "name": "stderr"
        },
        {
          "output_type": "stream",
          "text": [
            "Iter [13030/24000]  Loss: 1.0239  Time/Image: 0.1648  lr=0.000902\n"
          ],
          "name": "stdout"
        },
        {
          "output_type": "stream",
          "text": [
            "INFO:ptsemseg:Iter [13040/24000]  Loss: 1.0390  Time/Image: 0.1588  lr=0.000902\n"
          ],
          "name": "stderr"
        },
        {
          "output_type": "stream",
          "text": [
            "Iter [13040/24000]  Loss: 1.0390  Time/Image: 0.1588  lr=0.000902\n"
          ],
          "name": "stdout"
        },
        {
          "output_type": "stream",
          "text": [
            "INFO:ptsemseg:Iter [13050/24000]  Loss: 1.0269  Time/Image: 0.1624  lr=0.000902\n"
          ],
          "name": "stderr"
        },
        {
          "output_type": "stream",
          "text": [
            "Iter [13050/24000]  Loss: 1.0269  Time/Image: 0.1624  lr=0.000902\n"
          ],
          "name": "stdout"
        },
        {
          "output_type": "stream",
          "text": [
            "INFO:ptsemseg:Iter [13060/24000]  Loss: 1.0195  Time/Image: 0.1629  lr=0.000902\n"
          ],
          "name": "stderr"
        },
        {
          "output_type": "stream",
          "text": [
            "Iter [13060/24000]  Loss: 1.0195  Time/Image: 0.1629  lr=0.000902\n"
          ],
          "name": "stdout"
        },
        {
          "output_type": "stream",
          "text": [
            "INFO:ptsemseg:Iter [13070/24000]  Loss: 1.0213  Time/Image: 0.1629  lr=0.000901\n"
          ],
          "name": "stderr"
        },
        {
          "output_type": "stream",
          "text": [
            "Iter [13070/24000]  Loss: 1.0213  Time/Image: 0.1629  lr=0.000901\n"
          ],
          "name": "stdout"
        },
        {
          "output_type": "stream",
          "text": [
            "INFO:ptsemseg:Iter [13080/24000]  Loss: 1.0120  Time/Image: 0.1577  lr=0.000901\n"
          ],
          "name": "stderr"
        },
        {
          "output_type": "stream",
          "text": [
            "Iter [13080/24000]  Loss: 1.0120  Time/Image: 0.1577  lr=0.000901\n"
          ],
          "name": "stdout"
        },
        {
          "output_type": "stream",
          "text": [
            "INFO:ptsemseg:Iter [13090/24000]  Loss: 1.0132  Time/Image: 0.1592  lr=0.000901\n"
          ],
          "name": "stderr"
        },
        {
          "output_type": "stream",
          "text": [
            "Iter [13090/24000]  Loss: 1.0132  Time/Image: 0.1592  lr=0.000901\n"
          ],
          "name": "stdout"
        },
        {
          "output_type": "stream",
          "text": [
            "INFO:ptsemseg:Iter [13100/24000]  Loss: 1.0180  Time/Image: 0.1607  lr=0.000901\n"
          ],
          "name": "stderr"
        },
        {
          "output_type": "stream",
          "text": [
            "Iter [13100/24000]  Loss: 1.0180  Time/Image: 0.1607  lr=0.000901\n"
          ],
          "name": "stdout"
        },
        {
          "output_type": "stream",
          "text": [
            "INFO:ptsemseg:Iter [13110/24000]  Loss: 1.0257  Time/Image: 0.1625  lr=0.000901\n"
          ],
          "name": "stderr"
        },
        {
          "output_type": "stream",
          "text": [
            "Iter [13110/24000]  Loss: 1.0257  Time/Image: 0.1625  lr=0.000901\n"
          ],
          "name": "stdout"
        },
        {
          "output_type": "stream",
          "text": [
            "INFO:ptsemseg:Iter [13120/24000]  Loss: 1.0186  Time/Image: 0.1590  lr=0.000901\n"
          ],
          "name": "stderr"
        },
        {
          "output_type": "stream",
          "text": [
            "Iter [13120/24000]  Loss: 1.0186  Time/Image: 0.1590  lr=0.000901\n"
          ],
          "name": "stdout"
        },
        {
          "output_type": "stream",
          "text": [
            "INFO:ptsemseg:Iter [13130/24000]  Loss: 1.0160  Time/Image: 0.1612  lr=0.000901\n"
          ],
          "name": "stderr"
        },
        {
          "output_type": "stream",
          "text": [
            "Iter [13130/24000]  Loss: 1.0160  Time/Image: 0.1612  lr=0.000901\n"
          ],
          "name": "stdout"
        },
        {
          "output_type": "stream",
          "text": [
            "INFO:ptsemseg:Iter [13140/24000]  Loss: 1.0191  Time/Image: 0.1600  lr=0.000901\n"
          ],
          "name": "stderr"
        },
        {
          "output_type": "stream",
          "text": [
            "Iter [13140/24000]  Loss: 1.0191  Time/Image: 0.1600  lr=0.000901\n"
          ],
          "name": "stdout"
        },
        {
          "output_type": "stream",
          "text": [
            "INFO:ptsemseg:Iter [13150/24000]  Loss: 1.0200  Time/Image: 0.1592  lr=0.000901\n"
          ],
          "name": "stderr"
        },
        {
          "output_type": "stream",
          "text": [
            "Iter [13150/24000]  Loss: 1.0200  Time/Image: 0.1592  lr=0.000901\n"
          ],
          "name": "stdout"
        },
        {
          "output_type": "stream",
          "text": [
            "INFO:ptsemseg:Iter [13160/24000]  Loss: 1.0156  Time/Image: 0.1625  lr=0.000901\n"
          ],
          "name": "stderr"
        },
        {
          "output_type": "stream",
          "text": [
            "Iter [13160/24000]  Loss: 1.0156  Time/Image: 0.1625  lr=0.000901\n"
          ],
          "name": "stdout"
        },
        {
          "output_type": "stream",
          "text": [
            "INFO:ptsemseg:Iter [13170/24000]  Loss: 1.0182  Time/Image: 0.1651  lr=0.000901\n"
          ],
          "name": "stderr"
        },
        {
          "output_type": "stream",
          "text": [
            "Iter [13170/24000]  Loss: 1.0182  Time/Image: 0.1651  lr=0.000901\n"
          ],
          "name": "stdout"
        },
        {
          "output_type": "stream",
          "text": [
            "INFO:ptsemseg:Iter [13180/24000]  Loss: 1.0186  Time/Image: 0.1684  lr=0.000901\n"
          ],
          "name": "stderr"
        },
        {
          "output_type": "stream",
          "text": [
            "Iter [13180/24000]  Loss: 1.0186  Time/Image: 0.1684  lr=0.000901\n"
          ],
          "name": "stdout"
        },
        {
          "output_type": "stream",
          "text": [
            "INFO:ptsemseg:Iter [13190/24000]  Loss: 1.0188  Time/Image: 0.1642  lr=0.000901\n"
          ],
          "name": "stderr"
        },
        {
          "output_type": "stream",
          "text": [
            "Iter [13190/24000]  Loss: 1.0188  Time/Image: 0.1642  lr=0.000901\n"
          ],
          "name": "stdout"
        },
        {
          "output_type": "stream",
          "text": [
            "INFO:ptsemseg:Iter [13200/24000]  Loss: 1.0134  Time/Image: 0.1614  lr=0.000900\n"
          ],
          "name": "stderr"
        },
        {
          "output_type": "stream",
          "text": [
            "Iter [13200/24000]  Loss: 1.0134  Time/Image: 0.1614  lr=0.000900\n"
          ],
          "name": "stdout"
        },
        {
          "output_type": "stream",
          "text": [
            "INFO:ptsemseg:Iter [13210/24000]  Loss: 1.0135  Time/Image: 0.1626  lr=0.000900\n"
          ],
          "name": "stderr"
        },
        {
          "output_type": "stream",
          "text": [
            "Iter [13210/24000]  Loss: 1.0135  Time/Image: 0.1626  lr=0.000900\n"
          ],
          "name": "stdout"
        },
        {
          "output_type": "stream",
          "text": [
            "INFO:ptsemseg:Iter [13220/24000]  Loss: 1.0121  Time/Image: 0.1642  lr=0.000900\n"
          ],
          "name": "stderr"
        },
        {
          "output_type": "stream",
          "text": [
            "Iter [13220/24000]  Loss: 1.0121  Time/Image: 0.1642  lr=0.000900\n"
          ],
          "name": "stdout"
        },
        {
          "output_type": "stream",
          "text": [
            "INFO:ptsemseg:Iter [13230/24000]  Loss: 1.0112  Time/Image: 0.1608  lr=0.000900\n"
          ],
          "name": "stderr"
        },
        {
          "output_type": "stream",
          "text": [
            "Iter [13230/24000]  Loss: 1.0112  Time/Image: 0.1608  lr=0.000900\n"
          ],
          "name": "stdout"
        },
        {
          "output_type": "stream",
          "text": [
            "INFO:ptsemseg:Iter [13240/24000]  Loss: 1.0109  Time/Image: 0.1623  lr=0.000900\n"
          ],
          "name": "stderr"
        },
        {
          "output_type": "stream",
          "text": [
            "Iter [13240/24000]  Loss: 1.0109  Time/Image: 0.1623  lr=0.000900\n"
          ],
          "name": "stdout"
        },
        {
          "output_type": "stream",
          "text": [
            "INFO:ptsemseg:Iter [13250/24000]  Loss: 1.0093  Time/Image: 0.1630  lr=0.000900\n"
          ],
          "name": "stderr"
        },
        {
          "output_type": "stream",
          "text": [
            "Iter [13250/24000]  Loss: 1.0093  Time/Image: 0.1630  lr=0.000900\n"
          ],
          "name": "stdout"
        },
        {
          "output_type": "stream",
          "text": [
            "INFO:ptsemseg:Iter [13260/24000]  Loss: 1.0098  Time/Image: 0.1614  lr=0.000900\n"
          ],
          "name": "stderr"
        },
        {
          "output_type": "stream",
          "text": [
            "Iter [13260/24000]  Loss: 1.0098  Time/Image: 0.1614  lr=0.000900\n"
          ],
          "name": "stdout"
        },
        {
          "output_type": "stream",
          "text": [
            "INFO:ptsemseg:Iter [13270/24000]  Loss: 1.0099  Time/Image: 0.1614  lr=0.000900\n"
          ],
          "name": "stderr"
        },
        {
          "output_type": "stream",
          "text": [
            "Iter [13270/24000]  Loss: 1.0099  Time/Image: 0.1614  lr=0.000900\n"
          ],
          "name": "stdout"
        },
        {
          "output_type": "stream",
          "text": [
            "INFO:ptsemseg:Iter [13280/24000]  Loss: 1.0108  Time/Image: 0.1653  lr=0.000900\n"
          ],
          "name": "stderr"
        },
        {
          "output_type": "stream",
          "text": [
            "Iter [13280/24000]  Loss: 1.0108  Time/Image: 0.1653  lr=0.000900\n"
          ],
          "name": "stdout"
        },
        {
          "output_type": "stream",
          "text": [
            "INFO:ptsemseg:Iter [13290/24000]  Loss: 1.0107  Time/Image: 0.1647  lr=0.000900\n"
          ],
          "name": "stderr"
        },
        {
          "output_type": "stream",
          "text": [
            "Iter [13290/24000]  Loss: 1.0107  Time/Image: 0.1647  lr=0.000900\n"
          ],
          "name": "stdout"
        },
        {
          "output_type": "stream",
          "text": [
            "INFO:ptsemseg:Iter [13300/24000]  Loss: 1.0125  Time/Image: 0.1621  lr=0.000900\n"
          ],
          "name": "stderr"
        },
        {
          "output_type": "stream",
          "text": [
            "Iter [13300/24000]  Loss: 1.0125  Time/Image: 0.1621  lr=0.000900\n"
          ],
          "name": "stdout"
        },
        {
          "output_type": "stream",
          "text": [
            "INFO:ptsemseg:Iter [13310/24000]  Loss: 1.0120  Time/Image: 0.1600  lr=0.000900\n"
          ],
          "name": "stderr"
        },
        {
          "output_type": "stream",
          "text": [
            "Iter [13310/24000]  Loss: 1.0120  Time/Image: 0.1600  lr=0.000900\n"
          ],
          "name": "stdout"
        },
        {
          "output_type": "stream",
          "text": [
            "INFO:ptsemseg:Iter [13320/24000]  Loss: 1.0118  Time/Image: 0.1619  lr=0.000900\n"
          ],
          "name": "stderr"
        },
        {
          "output_type": "stream",
          "text": [
            "Iter [13320/24000]  Loss: 1.0118  Time/Image: 0.1619  lr=0.000900\n"
          ],
          "name": "stdout"
        },
        {
          "output_type": "stream",
          "text": [
            "INFO:ptsemseg:Iter [13330/24000]  Loss: 1.0114  Time/Image: 0.1644  lr=0.000899\n"
          ],
          "name": "stderr"
        },
        {
          "output_type": "stream",
          "text": [
            "Iter [13330/24000]  Loss: 1.0114  Time/Image: 0.1644  lr=0.000899\n"
          ],
          "name": "stdout"
        },
        {
          "output_type": "stream",
          "text": [
            "INFO:ptsemseg:Iter [13340/24000]  Loss: 1.0138  Time/Image: 0.1614  lr=0.000899\n"
          ],
          "name": "stderr"
        },
        {
          "output_type": "stream",
          "text": [
            "Iter [13340/24000]  Loss: 1.0138  Time/Image: 0.1614  lr=0.000899\n"
          ],
          "name": "stdout"
        },
        {
          "output_type": "stream",
          "text": [
            "INFO:ptsemseg:Iter [13350/24000]  Loss: 1.0128  Time/Image: 0.1635  lr=0.000899\n"
          ],
          "name": "stderr"
        },
        {
          "output_type": "stream",
          "text": [
            "Iter [13350/24000]  Loss: 1.0128  Time/Image: 0.1635  lr=0.000899\n"
          ],
          "name": "stdout"
        },
        {
          "output_type": "stream",
          "text": [
            "INFO:ptsemseg:Iter [13360/24000]  Loss: 1.0143  Time/Image: 0.1630  lr=0.000899\n"
          ],
          "name": "stderr"
        },
        {
          "output_type": "stream",
          "text": [
            "Iter [13360/24000]  Loss: 1.0143  Time/Image: 0.1630  lr=0.000899\n"
          ],
          "name": "stdout"
        },
        {
          "output_type": "stream",
          "text": [
            "INFO:ptsemseg:Iter [13370/24000]  Loss: 1.0142  Time/Image: 0.1629  lr=0.000899\n"
          ],
          "name": "stderr"
        },
        {
          "output_type": "stream",
          "text": [
            "Iter [13370/24000]  Loss: 1.0142  Time/Image: 0.1629  lr=0.000899\n"
          ],
          "name": "stdout"
        },
        {
          "output_type": "stream",
          "text": [
            "INFO:ptsemseg:Iter [13380/24000]  Loss: 1.0140  Time/Image: 0.1593  lr=0.000899\n"
          ],
          "name": "stderr"
        },
        {
          "output_type": "stream",
          "text": [
            "Iter [13380/24000]  Loss: 1.0140  Time/Image: 0.1593  lr=0.000899\n"
          ],
          "name": "stdout"
        },
        {
          "output_type": "stream",
          "text": [
            "INFO:ptsemseg:Iter [13390/24000]  Loss: 1.0165  Time/Image: 0.1602  lr=0.000899\n"
          ],
          "name": "stderr"
        },
        {
          "output_type": "stream",
          "text": [
            "Iter [13390/24000]  Loss: 1.0165  Time/Image: 0.1602  lr=0.000899\n"
          ],
          "name": "stdout"
        },
        {
          "output_type": "stream",
          "text": [
            "INFO:ptsemseg:Iter [13400/24000]  Loss: 1.0143  Time/Image: 0.1652  lr=0.000899\n"
          ],
          "name": "stderr"
        },
        {
          "output_type": "stream",
          "text": [
            "Iter [13400/24000]  Loss: 1.0143  Time/Image: 0.1652  lr=0.000899\n"
          ],
          "name": "stdout"
        },
        {
          "output_type": "stream",
          "text": [
            "INFO:ptsemseg:Iter [13410/24000]  Loss: 1.0143  Time/Image: 0.1648  lr=0.000899\n"
          ],
          "name": "stderr"
        },
        {
          "output_type": "stream",
          "text": [
            "Iter [13410/24000]  Loss: 1.0143  Time/Image: 0.1648  lr=0.000899\n"
          ],
          "name": "stdout"
        },
        {
          "output_type": "stream",
          "text": [
            "INFO:ptsemseg:Iter [13420/24000]  Loss: 1.0132  Time/Image: 0.1624  lr=0.000899\n"
          ],
          "name": "stderr"
        },
        {
          "output_type": "stream",
          "text": [
            "Iter [13420/24000]  Loss: 1.0132  Time/Image: 0.1624  lr=0.000899\n"
          ],
          "name": "stdout"
        },
        {
          "output_type": "stream",
          "text": [
            "INFO:ptsemseg:Iter [13430/24000]  Loss: 1.0144  Time/Image: 0.1640  lr=0.000899\n"
          ],
          "name": "stderr"
        },
        {
          "output_type": "stream",
          "text": [
            "Iter [13430/24000]  Loss: 1.0144  Time/Image: 0.1640  lr=0.000899\n"
          ],
          "name": "stdout"
        },
        {
          "output_type": "stream",
          "text": [
            "INFO:ptsemseg:Iter [13440/24000]  Loss: 1.0144  Time/Image: 0.1624  lr=0.000899\n"
          ],
          "name": "stderr"
        },
        {
          "output_type": "stream",
          "text": [
            "Iter [13440/24000]  Loss: 1.0144  Time/Image: 0.1624  lr=0.000899\n"
          ],
          "name": "stdout"
        },
        {
          "output_type": "stream",
          "text": [
            "INFO:ptsemseg:Iter [13450/24000]  Loss: 1.0130  Time/Image: 0.1623  lr=0.000899\n"
          ],
          "name": "stderr"
        },
        {
          "output_type": "stream",
          "text": [
            "Iter [13450/24000]  Loss: 1.0130  Time/Image: 0.1623  lr=0.000899\n"
          ],
          "name": "stdout"
        },
        {
          "output_type": "stream",
          "text": [
            "INFO:ptsemseg:Iter [13460/24000]  Loss: 1.0134  Time/Image: 0.1622  lr=0.000898\n"
          ],
          "name": "stderr"
        },
        {
          "output_type": "stream",
          "text": [
            "Iter [13460/24000]  Loss: 1.0134  Time/Image: 0.1622  lr=0.000898\n"
          ],
          "name": "stdout"
        },
        {
          "output_type": "stream",
          "text": [
            "INFO:ptsemseg:Iter [13470/24000]  Loss: 1.0128  Time/Image: 0.1585  lr=0.000898\n"
          ],
          "name": "stderr"
        },
        {
          "output_type": "stream",
          "text": [
            "Iter [13470/24000]  Loss: 1.0128  Time/Image: 0.1585  lr=0.000898\n"
          ],
          "name": "stdout"
        },
        {
          "output_type": "stream",
          "text": [
            "INFO:ptsemseg:Iter [13480/24000]  Loss: 1.0140  Time/Image: 0.1551  lr=0.000898\n"
          ],
          "name": "stderr"
        },
        {
          "output_type": "stream",
          "text": [
            "Iter [13480/24000]  Loss: 1.0140  Time/Image: 0.1551  lr=0.000898\n"
          ],
          "name": "stdout"
        },
        {
          "output_type": "stream",
          "text": [
            "INFO:ptsemseg:Iter [13490/24000]  Loss: 1.0132  Time/Image: 0.1099  lr=0.000898\n"
          ],
          "name": "stderr"
        },
        {
          "output_type": "stream",
          "text": [
            "Iter [13490/24000]  Loss: 1.0132  Time/Image: 0.1099  lr=0.000898\n"
          ],
          "name": "stdout"
        },
        {
          "output_type": "stream",
          "text": [
            "INFO:ptsemseg:Iter [13500/24000]  Loss: 1.0128  Time/Image: 0.1617  lr=0.000898\n"
          ],
          "name": "stderr"
        },
        {
          "output_type": "stream",
          "text": [
            "Iter [13500/24000]  Loss: 1.0128  Time/Image: 0.1617  lr=0.000898\n"
          ],
          "name": "stdout"
        },
        {
          "output_type": "stream",
          "text": [
            "84it [03:12,  2.30s/it]\n",
            "INFO:ptsemseg:Iter 13500 Val Loss: 0.9668\n",
            "INFO:ptsemseg:Overall Acc: \t: 0.9171254299541173\n",
            "INFO:ptsemseg:Mean Acc : \t: 0.6051057286800264\n",
            "INFO:ptsemseg:FreqW Acc : \t: 0.8568099445464356\n",
            "INFO:ptsemseg:Mean IoU : \t: 0.4990668121299006\n",
            "INFO:ptsemseg:0: 0.9610994656248678\n",
            "INFO:ptsemseg:1: 0.7158852409900314\n",
            "INFO:ptsemseg:2: 0.8567462904228077\n",
            "INFO:ptsemseg:3: 0.2586006156273845\n",
            "INFO:ptsemseg:4: 0.37263303122537356\n",
            "INFO:ptsemseg:5: 0.3962454058430292\n",
            "INFO:ptsemseg:6: 0.3660490919184376\n",
            "INFO:ptsemseg:7: 0.5111238137968424\n",
            "INFO:ptsemseg:8: 0.872879223565153\n",
            "INFO:ptsemseg:9: 0.426924299827819\n",
            "INFO:ptsemseg:10: 0.9116484127339651\n",
            "INFO:ptsemseg:11: 0.4971690943539282\n",
            "INFO:ptsemseg:12: 0.1555164642044845\n",
            "INFO:ptsemseg:13: 0.8565608654164971\n",
            "INFO:ptsemseg:14: 0.12600677901192378\n",
            "INFO:ptsemseg:15: 0.37035644512360244\n",
            "INFO:ptsemseg:16: 0.18758310475287043\n",
            "INFO:ptsemseg:17: 0.15604259236721246\n",
            "INFO:ptsemseg:18: 0.4831991936618799\n"
          ],
          "name": "stderr"
        },
        {
          "output_type": "stream",
          "text": [
            "Overall Acc: \t 0.9171254299541173\n",
            "Mean Acc : \t 0.6051057286800264\n",
            "FreqW Acc : \t 0.8568099445464356\n",
            "Mean IoU : \t 0.4990668121299006\n"
          ],
          "name": "stdout"
        },
        {
          "output_type": "stream",
          "text": [
            "INFO:ptsemseg:Iter [13510/24000]  Loss: 0.9453  Time/Image: 0.1407  lr=0.000898\n"
          ],
          "name": "stderr"
        },
        {
          "output_type": "stream",
          "text": [
            "Iter [13510/24000]  Loss: 0.9453  Time/Image: 0.1407  lr=0.000898\n"
          ],
          "name": "stdout"
        },
        {
          "output_type": "stream",
          "text": [
            "INFO:ptsemseg:Iter [13520/24000]  Loss: 1.0092  Time/Image: 0.1659  lr=0.000898\n"
          ],
          "name": "stderr"
        },
        {
          "output_type": "stream",
          "text": [
            "Iter [13520/24000]  Loss: 1.0092  Time/Image: 0.1659  lr=0.000898\n"
          ],
          "name": "stdout"
        },
        {
          "output_type": "stream",
          "text": [
            "INFO:ptsemseg:Iter [13530/24000]  Loss: 1.0357  Time/Image: 0.1621  lr=0.000898\n"
          ],
          "name": "stderr"
        },
        {
          "output_type": "stream",
          "text": [
            "Iter [13530/24000]  Loss: 1.0357  Time/Image: 0.1621  lr=0.000898\n"
          ],
          "name": "stdout"
        },
        {
          "output_type": "stream",
          "text": [
            "INFO:ptsemseg:Iter [13540/24000]  Loss: 1.0256  Time/Image: 0.1649  lr=0.000898\n"
          ],
          "name": "stderr"
        },
        {
          "output_type": "stream",
          "text": [
            "Iter [13540/24000]  Loss: 1.0256  Time/Image: 0.1649  lr=0.000898\n"
          ],
          "name": "stdout"
        },
        {
          "output_type": "stream",
          "text": [
            "INFO:ptsemseg:Iter [13550/24000]  Loss: 1.0287  Time/Image: 0.1626  lr=0.000898\n"
          ],
          "name": "stderr"
        },
        {
          "output_type": "stream",
          "text": [
            "Iter [13550/24000]  Loss: 1.0287  Time/Image: 0.1626  lr=0.000898\n"
          ],
          "name": "stdout"
        },
        {
          "output_type": "stream",
          "text": [
            "INFO:ptsemseg:Iter [13560/24000]  Loss: 1.0196  Time/Image: 0.1611  lr=0.000898\n"
          ],
          "name": "stderr"
        },
        {
          "output_type": "stream",
          "text": [
            "Iter [13560/24000]  Loss: 1.0196  Time/Image: 0.1611  lr=0.000898\n"
          ],
          "name": "stdout"
        },
        {
          "output_type": "stream",
          "text": [
            "INFO:ptsemseg:Iter [13570/24000]  Loss: 1.0250  Time/Image: 0.1639  lr=0.000898\n"
          ],
          "name": "stderr"
        },
        {
          "output_type": "stream",
          "text": [
            "Iter [13570/24000]  Loss: 1.0250  Time/Image: 0.1639  lr=0.000898\n"
          ],
          "name": "stdout"
        },
        {
          "output_type": "stream",
          "text": [
            "INFO:ptsemseg:Iter [13580/24000]  Loss: 1.0222  Time/Image: 0.1608  lr=0.000898\n"
          ],
          "name": "stderr"
        },
        {
          "output_type": "stream",
          "text": [
            "Iter [13580/24000]  Loss: 1.0222  Time/Image: 0.1608  lr=0.000898\n"
          ],
          "name": "stdout"
        },
        {
          "output_type": "stream",
          "text": [
            "INFO:ptsemseg:Iter [13590/24000]  Loss: 1.0270  Time/Image: 0.1613  lr=0.000897\n"
          ],
          "name": "stderr"
        },
        {
          "output_type": "stream",
          "text": [
            "Iter [13590/24000]  Loss: 1.0270  Time/Image: 0.1613  lr=0.000897\n"
          ],
          "name": "stdout"
        },
        {
          "output_type": "stream",
          "text": [
            "INFO:ptsemseg:Iter [13600/24000]  Loss: 1.0290  Time/Image: 0.1634  lr=0.000897\n"
          ],
          "name": "stderr"
        },
        {
          "output_type": "stream",
          "text": [
            "Iter [13600/24000]  Loss: 1.0290  Time/Image: 0.1634  lr=0.000897\n"
          ],
          "name": "stdout"
        },
        {
          "output_type": "stream",
          "text": [
            "INFO:ptsemseg:Iter [13610/24000]  Loss: 1.0310  Time/Image: 0.1664  lr=0.000897\n"
          ],
          "name": "stderr"
        },
        {
          "output_type": "stream",
          "text": [
            "Iter [13610/24000]  Loss: 1.0310  Time/Image: 0.1664  lr=0.000897\n"
          ],
          "name": "stdout"
        },
        {
          "output_type": "stream",
          "text": [
            "INFO:ptsemseg:Iter [13620/24000]  Loss: 1.0266  Time/Image: 0.1638  lr=0.000897\n"
          ],
          "name": "stderr"
        },
        {
          "output_type": "stream",
          "text": [
            "Iter [13620/24000]  Loss: 1.0266  Time/Image: 0.1638  lr=0.000897\n"
          ],
          "name": "stdout"
        },
        {
          "output_type": "stream",
          "text": [
            "INFO:ptsemseg:Iter [13630/24000]  Loss: 1.0220  Time/Image: 0.1618  lr=0.000897\n"
          ],
          "name": "stderr"
        },
        {
          "output_type": "stream",
          "text": [
            "Iter [13630/24000]  Loss: 1.0220  Time/Image: 0.1618  lr=0.000897\n"
          ],
          "name": "stdout"
        },
        {
          "output_type": "stream",
          "text": [
            "INFO:ptsemseg:Iter [13640/24000]  Loss: 1.0213  Time/Image: 0.1604  lr=0.000897\n"
          ],
          "name": "stderr"
        },
        {
          "output_type": "stream",
          "text": [
            "Iter [13640/24000]  Loss: 1.0213  Time/Image: 0.1604  lr=0.000897\n"
          ],
          "name": "stdout"
        },
        {
          "output_type": "stream",
          "text": [
            "INFO:ptsemseg:Iter [13650/24000]  Loss: 1.0219  Time/Image: 0.1588  lr=0.000897\n"
          ],
          "name": "stderr"
        },
        {
          "output_type": "stream",
          "text": [
            "Iter [13650/24000]  Loss: 1.0219  Time/Image: 0.1588  lr=0.000897\n"
          ],
          "name": "stdout"
        },
        {
          "output_type": "stream",
          "text": [
            "INFO:ptsemseg:Iter [13660/24000]  Loss: 1.0216  Time/Image: 0.1617  lr=0.000897\n"
          ],
          "name": "stderr"
        },
        {
          "output_type": "stream",
          "text": [
            "Iter [13660/24000]  Loss: 1.0216  Time/Image: 0.1617  lr=0.000897\n"
          ],
          "name": "stdout"
        },
        {
          "output_type": "stream",
          "text": [
            "INFO:ptsemseg:Iter [13670/24000]  Loss: 1.0217  Time/Image: 0.1655  lr=0.000897\n"
          ],
          "name": "stderr"
        },
        {
          "output_type": "stream",
          "text": [
            "Iter [13670/24000]  Loss: 1.0217  Time/Image: 0.1655  lr=0.000897\n"
          ],
          "name": "stdout"
        },
        {
          "output_type": "stream",
          "text": [
            "INFO:ptsemseg:Iter [13680/24000]  Loss: 1.0278  Time/Image: 0.1644  lr=0.000897\n"
          ],
          "name": "stderr"
        },
        {
          "output_type": "stream",
          "text": [
            "Iter [13680/24000]  Loss: 1.0278  Time/Image: 0.1644  lr=0.000897\n"
          ],
          "name": "stdout"
        },
        {
          "output_type": "stream",
          "text": [
            "INFO:ptsemseg:Iter [13690/24000]  Loss: 1.0244  Time/Image: 0.1604  lr=0.000897\n"
          ],
          "name": "stderr"
        },
        {
          "output_type": "stream",
          "text": [
            "Iter [13690/24000]  Loss: 1.0244  Time/Image: 0.1604  lr=0.000897\n"
          ],
          "name": "stdout"
        },
        {
          "output_type": "stream",
          "text": [
            "INFO:ptsemseg:Iter [13700/24000]  Loss: 1.0215  Time/Image: 0.1600  lr=0.000897\n"
          ],
          "name": "stderr"
        },
        {
          "output_type": "stream",
          "text": [
            "Iter [13700/24000]  Loss: 1.0215  Time/Image: 0.1600  lr=0.000897\n"
          ],
          "name": "stdout"
        },
        {
          "output_type": "stream",
          "text": [
            "INFO:ptsemseg:Iter [13710/24000]  Loss: 1.0224  Time/Image: 0.1632  lr=0.000897\n"
          ],
          "name": "stderr"
        },
        {
          "output_type": "stream",
          "text": [
            "Iter [13710/24000]  Loss: 1.0224  Time/Image: 0.1632  lr=0.000897\n"
          ],
          "name": "stdout"
        },
        {
          "output_type": "stream",
          "text": [
            "INFO:ptsemseg:Iter [13720/24000]  Loss: 1.0232  Time/Image: 0.1662  lr=0.000897\n"
          ],
          "name": "stderr"
        },
        {
          "output_type": "stream",
          "text": [
            "Iter [13720/24000]  Loss: 1.0232  Time/Image: 0.1662  lr=0.000897\n"
          ],
          "name": "stdout"
        },
        {
          "output_type": "stream",
          "text": [
            "INFO:ptsemseg:Iter [13730/24000]  Loss: 1.0196  Time/Image: 0.1656  lr=0.000896\n"
          ],
          "name": "stderr"
        },
        {
          "output_type": "stream",
          "text": [
            "Iter [13730/24000]  Loss: 1.0196  Time/Image: 0.1656  lr=0.000896\n"
          ],
          "name": "stdout"
        },
        {
          "output_type": "stream",
          "text": [
            "INFO:ptsemseg:Iter [13740/24000]  Loss: 1.0183  Time/Image: 0.1614  lr=0.000896\n"
          ],
          "name": "stderr"
        },
        {
          "output_type": "stream",
          "text": [
            "Iter [13740/24000]  Loss: 1.0183  Time/Image: 0.1614  lr=0.000896\n"
          ],
          "name": "stdout"
        },
        {
          "output_type": "stream",
          "text": [
            "INFO:ptsemseg:Iter [13750/24000]  Loss: 1.0198  Time/Image: 0.1613  lr=0.000896\n"
          ],
          "name": "stderr"
        },
        {
          "output_type": "stream",
          "text": [
            "Iter [13750/24000]  Loss: 1.0198  Time/Image: 0.1613  lr=0.000896\n"
          ],
          "name": "stdout"
        },
        {
          "output_type": "stream",
          "text": [
            "INFO:ptsemseg:Iter [13760/24000]  Loss: 1.0217  Time/Image: 0.1624  lr=0.000896\n"
          ],
          "name": "stderr"
        },
        {
          "output_type": "stream",
          "text": [
            "Iter [13760/24000]  Loss: 1.0217  Time/Image: 0.1624  lr=0.000896\n"
          ],
          "name": "stdout"
        },
        {
          "output_type": "stream",
          "text": [
            "INFO:ptsemseg:Iter [13770/24000]  Loss: 1.0190  Time/Image: 0.1610  lr=0.000896\n"
          ],
          "name": "stderr"
        },
        {
          "output_type": "stream",
          "text": [
            "Iter [13770/24000]  Loss: 1.0190  Time/Image: 0.1610  lr=0.000896\n"
          ],
          "name": "stdout"
        },
        {
          "output_type": "stream",
          "text": [
            "INFO:ptsemseg:Iter [13780/24000]  Loss: 1.0190  Time/Image: 0.1643  lr=0.000896\n"
          ],
          "name": "stderr"
        },
        {
          "output_type": "stream",
          "text": [
            "Iter [13780/24000]  Loss: 1.0190  Time/Image: 0.1643  lr=0.000896\n"
          ],
          "name": "stdout"
        },
        {
          "output_type": "stream",
          "text": [
            "INFO:ptsemseg:Iter [13790/24000]  Loss: 1.0181  Time/Image: 0.1616  lr=0.000896\n"
          ],
          "name": "stderr"
        },
        {
          "output_type": "stream",
          "text": [
            "Iter [13790/24000]  Loss: 1.0181  Time/Image: 0.1616  lr=0.000896\n"
          ],
          "name": "stdout"
        },
        {
          "output_type": "stream",
          "text": [
            "INFO:ptsemseg:Iter [13800/24000]  Loss: 1.0203  Time/Image: 0.1636  lr=0.000896\n"
          ],
          "name": "stderr"
        },
        {
          "output_type": "stream",
          "text": [
            "Iter [13800/24000]  Loss: 1.0203  Time/Image: 0.1636  lr=0.000896\n"
          ],
          "name": "stdout"
        },
        {
          "output_type": "stream",
          "text": [
            "INFO:ptsemseg:Iter [13810/24000]  Loss: 1.0193  Time/Image: 0.1636  lr=0.000896\n"
          ],
          "name": "stderr"
        },
        {
          "output_type": "stream",
          "text": [
            "Iter [13810/24000]  Loss: 1.0193  Time/Image: 0.1636  lr=0.000896\n"
          ],
          "name": "stdout"
        },
        {
          "output_type": "stream",
          "text": [
            "INFO:ptsemseg:Iter [13820/24000]  Loss: 1.0199  Time/Image: 0.1602  lr=0.000896\n"
          ],
          "name": "stderr"
        },
        {
          "output_type": "stream",
          "text": [
            "Iter [13820/24000]  Loss: 1.0199  Time/Image: 0.1602  lr=0.000896\n"
          ],
          "name": "stdout"
        },
        {
          "output_type": "stream",
          "text": [
            "INFO:ptsemseg:Iter [13830/24000]  Loss: 1.0186  Time/Image: 0.1603  lr=0.000896\n"
          ],
          "name": "stderr"
        },
        {
          "output_type": "stream",
          "text": [
            "Iter [13830/24000]  Loss: 1.0186  Time/Image: 0.1603  lr=0.000896\n"
          ],
          "name": "stdout"
        },
        {
          "output_type": "stream",
          "text": [
            "INFO:ptsemseg:Iter [13840/24000]  Loss: 1.0186  Time/Image: 0.1627  lr=0.000896\n"
          ],
          "name": "stderr"
        },
        {
          "output_type": "stream",
          "text": [
            "Iter [13840/24000]  Loss: 1.0186  Time/Image: 0.1627  lr=0.000896\n"
          ],
          "name": "stdout"
        },
        {
          "output_type": "stream",
          "text": [
            "INFO:ptsemseg:Iter [13850/24000]  Loss: 1.0189  Time/Image: 0.1620  lr=0.000896\n"
          ],
          "name": "stderr"
        },
        {
          "output_type": "stream",
          "text": [
            "Iter [13850/24000]  Loss: 1.0189  Time/Image: 0.1620  lr=0.000896\n"
          ],
          "name": "stdout"
        },
        {
          "output_type": "stream",
          "text": [
            "INFO:ptsemseg:Iter [13860/24000]  Loss: 1.0189  Time/Image: 0.1651  lr=0.000895\n"
          ],
          "name": "stderr"
        },
        {
          "output_type": "stream",
          "text": [
            "Iter [13860/24000]  Loss: 1.0189  Time/Image: 0.1651  lr=0.000895\n"
          ],
          "name": "stdout"
        },
        {
          "output_type": "stream",
          "text": [
            "INFO:ptsemseg:Iter [13870/24000]  Loss: 1.0203  Time/Image: 0.1637  lr=0.000895\n"
          ],
          "name": "stderr"
        },
        {
          "output_type": "stream",
          "text": [
            "Iter [13870/24000]  Loss: 1.0203  Time/Image: 0.1637  lr=0.000895\n"
          ],
          "name": "stdout"
        },
        {
          "output_type": "stream",
          "text": [
            "INFO:ptsemseg:Iter [13880/24000]  Loss: 1.0189  Time/Image: 0.1624  lr=0.000895\n"
          ],
          "name": "stderr"
        },
        {
          "output_type": "stream",
          "text": [
            "Iter [13880/24000]  Loss: 1.0189  Time/Image: 0.1624  lr=0.000895\n"
          ],
          "name": "stdout"
        },
        {
          "output_type": "stream",
          "text": [
            "INFO:ptsemseg:Iter [13890/24000]  Loss: 1.0198  Time/Image: 0.1602  lr=0.000895\n"
          ],
          "name": "stderr"
        },
        {
          "output_type": "stream",
          "text": [
            "Iter [13890/24000]  Loss: 1.0198  Time/Image: 0.1602  lr=0.000895\n"
          ],
          "name": "stdout"
        },
        {
          "output_type": "stream",
          "text": [
            "INFO:ptsemseg:Iter [13900/24000]  Loss: 1.0196  Time/Image: 0.1632  lr=0.000895\n"
          ],
          "name": "stderr"
        },
        {
          "output_type": "stream",
          "text": [
            "Iter [13900/24000]  Loss: 1.0196  Time/Image: 0.1632  lr=0.000895\n"
          ],
          "name": "stdout"
        },
        {
          "output_type": "stream",
          "text": [
            "INFO:ptsemseg:Iter [13910/24000]  Loss: 1.0192  Time/Image: 0.1615  lr=0.000895\n"
          ],
          "name": "stderr"
        },
        {
          "output_type": "stream",
          "text": [
            "Iter [13910/24000]  Loss: 1.0192  Time/Image: 0.1615  lr=0.000895\n"
          ],
          "name": "stdout"
        },
        {
          "output_type": "stream",
          "text": [
            "INFO:ptsemseg:Iter [13920/24000]  Loss: 1.0195  Time/Image: 0.1598  lr=0.000895\n"
          ],
          "name": "stderr"
        },
        {
          "output_type": "stream",
          "text": [
            "Iter [13920/24000]  Loss: 1.0195  Time/Image: 0.1598  lr=0.000895\n"
          ],
          "name": "stdout"
        },
        {
          "output_type": "stream",
          "text": [
            "INFO:ptsemseg:Iter [13930/24000]  Loss: 1.0195  Time/Image: 0.1583  lr=0.000895\n"
          ],
          "name": "stderr"
        },
        {
          "output_type": "stream",
          "text": [
            "Iter [13930/24000]  Loss: 1.0195  Time/Image: 0.1583  lr=0.000895\n"
          ],
          "name": "stdout"
        },
        {
          "output_type": "stream",
          "text": [
            "INFO:ptsemseg:Iter [13940/24000]  Loss: 1.0176  Time/Image: 0.1592  lr=0.000895\n"
          ],
          "name": "stderr"
        },
        {
          "output_type": "stream",
          "text": [
            "Iter [13940/24000]  Loss: 1.0176  Time/Image: 0.1592  lr=0.000895\n"
          ],
          "name": "stdout"
        },
        {
          "output_type": "stream",
          "text": [
            "INFO:ptsemseg:Iter [13950/24000]  Loss: 1.0180  Time/Image: 0.1608  lr=0.000895\n"
          ],
          "name": "stderr"
        },
        {
          "output_type": "stream",
          "text": [
            "Iter [13950/24000]  Loss: 1.0180  Time/Image: 0.1608  lr=0.000895\n"
          ],
          "name": "stdout"
        },
        {
          "output_type": "stream",
          "text": [
            "INFO:ptsemseg:Iter [13960/24000]  Loss: 1.0166  Time/Image: 0.1657  lr=0.000895\n"
          ],
          "name": "stderr"
        },
        {
          "output_type": "stream",
          "text": [
            "Iter [13960/24000]  Loss: 1.0166  Time/Image: 0.1657  lr=0.000895\n"
          ],
          "name": "stdout"
        },
        {
          "output_type": "stream",
          "text": [
            "INFO:ptsemseg:Iter [13970/24000]  Loss: 1.0164  Time/Image: 0.1541  lr=0.000895\n"
          ],
          "name": "stderr"
        },
        {
          "output_type": "stream",
          "text": [
            "Iter [13970/24000]  Loss: 1.0164  Time/Image: 0.1541  lr=0.000895\n"
          ],
          "name": "stdout"
        },
        {
          "output_type": "stream",
          "text": [
            "INFO:ptsemseg:Iter [13980/24000]  Loss: 1.0171  Time/Image: 0.1224  lr=0.000895\n"
          ],
          "name": "stderr"
        },
        {
          "output_type": "stream",
          "text": [
            "Iter [13980/24000]  Loss: 1.0171  Time/Image: 0.1224  lr=0.000895\n"
          ],
          "name": "stdout"
        },
        {
          "output_type": "stream",
          "text": [
            "INFO:ptsemseg:Iter [13990/24000]  Loss: 1.0180  Time/Image: 0.1276  lr=0.000894\n"
          ],
          "name": "stderr"
        },
        {
          "output_type": "stream",
          "text": [
            "Iter [13990/24000]  Loss: 1.0180  Time/Image: 0.1276  lr=0.000894\n"
          ],
          "name": "stdout"
        },
        {
          "output_type": "stream",
          "text": [
            "INFO:ptsemseg:Iter [14000/24000]  Loss: 1.0177  Time/Image: 0.1626  lr=0.000894\n"
          ],
          "name": "stderr"
        },
        {
          "output_type": "stream",
          "text": [
            "Iter [14000/24000]  Loss: 1.0177  Time/Image: 0.1626  lr=0.000894\n"
          ],
          "name": "stdout"
        },
        {
          "output_type": "stream",
          "text": [
            "84it [03:16,  2.34s/it]\n",
            "INFO:ptsemseg:Iter 14000 Val Loss: 0.9029\n",
            "INFO:ptsemseg:Overall Acc: \t: 0.9165483946965436\n",
            "INFO:ptsemseg:Mean Acc : \t: 0.6088634093558863\n",
            "INFO:ptsemseg:FreqW Acc : \t: 0.8564999913979334\n",
            "INFO:ptsemseg:Mean IoU : \t: 0.502586127821405\n",
            "INFO:ptsemseg:0: 0.9586715691682072\n",
            "INFO:ptsemseg:1: 0.7177566199383503\n",
            "INFO:ptsemseg:2: 0.8557119813635934\n",
            "INFO:ptsemseg:3: 0.21703679243265284\n",
            "INFO:ptsemseg:4: 0.3114742520630402\n",
            "INFO:ptsemseg:5: 0.4006791243964936\n",
            "INFO:ptsemseg:6: 0.36845474708625425\n",
            "INFO:ptsemseg:7: 0.5269466800727741\n",
            "INFO:ptsemseg:8: 0.8797002908843624\n",
            "INFO:ptsemseg:9: 0.35589864545776967\n",
            "INFO:ptsemseg:10: 0.8894893396134972\n",
            "INFO:ptsemseg:11: 0.5623160747773641\n",
            "INFO:ptsemseg:12: 0.19681994590698404\n",
            "INFO:ptsemseg:13: 0.854389909765607\n",
            "INFO:ptsemseg:14: 0.17322467045263126\n",
            "INFO:ptsemseg:15: 0.4164994288730279\n",
            "INFO:ptsemseg:16: 0.24025717032285412\n",
            "INFO:ptsemseg:17: 0.08498810870257008\n",
            "INFO:ptsemseg:18: 0.5388210773286629\n"
          ],
          "name": "stderr"
        },
        {
          "output_type": "stream",
          "text": [
            "Overall Acc: \t 0.9165483946965436\n",
            "Mean Acc : \t 0.6088634093558863\n",
            "FreqW Acc : \t 0.8564999913979334\n",
            "Mean IoU : \t 0.502586127821405\n"
          ],
          "name": "stdout"
        },
        {
          "output_type": "stream",
          "text": [
            "INFO:ptsemseg:Iter [14010/24000]  Loss: 1.0180  Time/Image: 0.1419  lr=0.000894\n"
          ],
          "name": "stderr"
        },
        {
          "output_type": "stream",
          "text": [
            "Iter [14010/24000]  Loss: 1.0180  Time/Image: 0.1419  lr=0.000894\n"
          ],
          "name": "stdout"
        },
        {
          "output_type": "stream",
          "text": [
            "INFO:ptsemseg:Iter [14020/24000]  Loss: 1.0215  Time/Image: 0.1679  lr=0.000894\n"
          ],
          "name": "stderr"
        },
        {
          "output_type": "stream",
          "text": [
            "Iter [14020/24000]  Loss: 1.0215  Time/Image: 0.1679  lr=0.000894\n"
          ],
          "name": "stdout"
        },
        {
          "output_type": "stream",
          "text": [
            "INFO:ptsemseg:Iter [14030/24000]  Loss: 1.0035  Time/Image: 0.1659  lr=0.000894\n"
          ],
          "name": "stderr"
        },
        {
          "output_type": "stream",
          "text": [
            "Iter [14030/24000]  Loss: 1.0035  Time/Image: 0.1659  lr=0.000894\n"
          ],
          "name": "stdout"
        },
        {
          "output_type": "stream",
          "text": [
            "INFO:ptsemseg:Iter [14040/24000]  Loss: 1.0103  Time/Image: 0.1621  lr=0.000894\n"
          ],
          "name": "stderr"
        },
        {
          "output_type": "stream",
          "text": [
            "Iter [14040/24000]  Loss: 1.0103  Time/Image: 0.1621  lr=0.000894\n"
          ],
          "name": "stdout"
        },
        {
          "output_type": "stream",
          "text": [
            "INFO:ptsemseg:Iter [14050/24000]  Loss: 1.0022  Time/Image: 0.1628  lr=0.000894\n"
          ],
          "name": "stderr"
        },
        {
          "output_type": "stream",
          "text": [
            "Iter [14050/24000]  Loss: 1.0022  Time/Image: 0.1628  lr=0.000894\n"
          ],
          "name": "stdout"
        },
        {
          "output_type": "stream",
          "text": [
            "INFO:ptsemseg:Iter [14060/24000]  Loss: 1.0062  Time/Image: 0.1636  lr=0.000894\n"
          ],
          "name": "stderr"
        },
        {
          "output_type": "stream",
          "text": [
            "Iter [14060/24000]  Loss: 1.0062  Time/Image: 0.1636  lr=0.000894\n"
          ],
          "name": "stdout"
        },
        {
          "output_type": "stream",
          "text": [
            "INFO:ptsemseg:Iter [14070/24000]  Loss: 1.0026  Time/Image: 0.1575  lr=0.000894\n"
          ],
          "name": "stderr"
        },
        {
          "output_type": "stream",
          "text": [
            "Iter [14070/24000]  Loss: 1.0026  Time/Image: 0.1575  lr=0.000894\n"
          ],
          "name": "stdout"
        },
        {
          "output_type": "stream",
          "text": [
            "INFO:ptsemseg:Iter [14080/24000]  Loss: 1.0054  Time/Image: 0.1613  lr=0.000894\n"
          ],
          "name": "stderr"
        },
        {
          "output_type": "stream",
          "text": [
            "Iter [14080/24000]  Loss: 1.0054  Time/Image: 0.1613  lr=0.000894\n"
          ],
          "name": "stdout"
        },
        {
          "output_type": "stream",
          "text": [
            "INFO:ptsemseg:Iter [14090/24000]  Loss: 1.0029  Time/Image: 0.1666  lr=0.000894\n"
          ],
          "name": "stderr"
        },
        {
          "output_type": "stream",
          "text": [
            "Iter [14090/24000]  Loss: 1.0029  Time/Image: 0.1666  lr=0.000894\n"
          ],
          "name": "stdout"
        },
        {
          "output_type": "stream",
          "text": [
            "INFO:ptsemseg:Iter [14100/24000]  Loss: 0.9996  Time/Image: 0.1654  lr=0.000894\n"
          ],
          "name": "stderr"
        },
        {
          "output_type": "stream",
          "text": [
            "Iter [14100/24000]  Loss: 0.9996  Time/Image: 0.1654  lr=0.000894\n"
          ],
          "name": "stdout"
        },
        {
          "output_type": "stream",
          "text": [
            "INFO:ptsemseg:Iter [14110/24000]  Loss: 1.0005  Time/Image: 0.1683  lr=0.000894\n"
          ],
          "name": "stderr"
        },
        {
          "output_type": "stream",
          "text": [
            "Iter [14110/24000]  Loss: 1.0005  Time/Image: 0.1683  lr=0.000894\n"
          ],
          "name": "stdout"
        },
        {
          "output_type": "stream",
          "text": [
            "INFO:ptsemseg:Iter [14120/24000]  Loss: 1.0005  Time/Image: 0.1634  lr=0.000893\n"
          ],
          "name": "stderr"
        },
        {
          "output_type": "stream",
          "text": [
            "Iter [14120/24000]  Loss: 1.0005  Time/Image: 0.1634  lr=0.000893\n"
          ],
          "name": "stdout"
        },
        {
          "output_type": "stream",
          "text": [
            "INFO:ptsemseg:Iter [14130/24000]  Loss: 1.0017  Time/Image: 0.1644  lr=0.000893\n"
          ],
          "name": "stderr"
        },
        {
          "output_type": "stream",
          "text": [
            "Iter [14130/24000]  Loss: 1.0017  Time/Image: 0.1644  lr=0.000893\n"
          ],
          "name": "stdout"
        },
        {
          "output_type": "stream",
          "text": [
            "INFO:ptsemseg:Iter [14140/24000]  Loss: 1.0002  Time/Image: 0.1638  lr=0.000893\n"
          ],
          "name": "stderr"
        },
        {
          "output_type": "stream",
          "text": [
            "Iter [14140/24000]  Loss: 1.0002  Time/Image: 0.1638  lr=0.000893\n"
          ],
          "name": "stdout"
        },
        {
          "output_type": "stream",
          "text": [
            "INFO:ptsemseg:Iter [14150/24000]  Loss: 0.9946  Time/Image: 0.1616  lr=0.000893\n"
          ],
          "name": "stderr"
        },
        {
          "output_type": "stream",
          "text": [
            "Iter [14150/24000]  Loss: 0.9946  Time/Image: 0.1616  lr=0.000893\n"
          ],
          "name": "stdout"
        },
        {
          "output_type": "stream",
          "text": [
            "INFO:ptsemseg:Iter [14160/24000]  Loss: 1.0027  Time/Image: 0.1625  lr=0.000893\n"
          ],
          "name": "stderr"
        },
        {
          "output_type": "stream",
          "text": [
            "Iter [14160/24000]  Loss: 1.0027  Time/Image: 0.1625  lr=0.000893\n"
          ],
          "name": "stdout"
        },
        {
          "output_type": "stream",
          "text": [
            "INFO:ptsemseg:Iter [14170/24000]  Loss: 1.0019  Time/Image: 0.1634  lr=0.000893\n"
          ],
          "name": "stderr"
        },
        {
          "output_type": "stream",
          "text": [
            "Iter [14170/24000]  Loss: 1.0019  Time/Image: 0.1634  lr=0.000893\n"
          ],
          "name": "stdout"
        },
        {
          "output_type": "stream",
          "text": [
            "INFO:ptsemseg:Iter [14180/24000]  Loss: 0.9995  Time/Image: 0.1652  lr=0.000893\n"
          ],
          "name": "stderr"
        },
        {
          "output_type": "stream",
          "text": [
            "Iter [14180/24000]  Loss: 0.9995  Time/Image: 0.1652  lr=0.000893\n"
          ],
          "name": "stdout"
        },
        {
          "output_type": "stream",
          "text": [
            "INFO:ptsemseg:Iter [14190/24000]  Loss: 1.0023  Time/Image: 0.1647  lr=0.000893\n"
          ],
          "name": "stderr"
        },
        {
          "output_type": "stream",
          "text": [
            "Iter [14190/24000]  Loss: 1.0023  Time/Image: 0.1647  lr=0.000893\n"
          ],
          "name": "stdout"
        },
        {
          "output_type": "stream",
          "text": [
            "INFO:ptsemseg:Iter [14200/24000]  Loss: 1.0010  Time/Image: 0.1649  lr=0.000893\n"
          ],
          "name": "stderr"
        },
        {
          "output_type": "stream",
          "text": [
            "Iter [14200/24000]  Loss: 1.0010  Time/Image: 0.1649  lr=0.000893\n"
          ],
          "name": "stdout"
        },
        {
          "output_type": "stream",
          "text": [
            "INFO:ptsemseg:Iter [14210/24000]  Loss: 0.9978  Time/Image: 0.1639  lr=0.000893\n"
          ],
          "name": "stderr"
        },
        {
          "output_type": "stream",
          "text": [
            "Iter [14210/24000]  Loss: 0.9978  Time/Image: 0.1639  lr=0.000893\n"
          ],
          "name": "stdout"
        },
        {
          "output_type": "stream",
          "text": [
            "INFO:ptsemseg:Iter [14220/24000]  Loss: 0.9973  Time/Image: 0.1655  lr=0.000893\n"
          ],
          "name": "stderr"
        },
        {
          "output_type": "stream",
          "text": [
            "Iter [14220/24000]  Loss: 0.9973  Time/Image: 0.1655  lr=0.000893\n"
          ],
          "name": "stdout"
        },
        {
          "output_type": "stream",
          "text": [
            "INFO:ptsemseg:Iter [14230/24000]  Loss: 1.0032  Time/Image: 0.1625  lr=0.000893\n"
          ],
          "name": "stderr"
        },
        {
          "output_type": "stream",
          "text": [
            "Iter [14230/24000]  Loss: 1.0032  Time/Image: 0.1625  lr=0.000893\n"
          ],
          "name": "stdout"
        },
        {
          "output_type": "stream",
          "text": [
            "INFO:ptsemseg:Iter [14240/24000]  Loss: 0.9992  Time/Image: 0.1660  lr=0.000893\n"
          ],
          "name": "stderr"
        },
        {
          "output_type": "stream",
          "text": [
            "Iter [14240/24000]  Loss: 0.9992  Time/Image: 0.1660  lr=0.000893\n"
          ],
          "name": "stdout"
        },
        {
          "output_type": "stream",
          "text": [
            "INFO:ptsemseg:Iter [14250/24000]  Loss: 0.9991  Time/Image: 0.1668  lr=0.000892\n"
          ],
          "name": "stderr"
        },
        {
          "output_type": "stream",
          "text": [
            "Iter [14250/24000]  Loss: 0.9991  Time/Image: 0.1668  lr=0.000892\n"
          ],
          "name": "stdout"
        },
        {
          "output_type": "stream",
          "text": [
            "INFO:ptsemseg:Iter [14260/24000]  Loss: 0.9999  Time/Image: 0.1620  lr=0.000892\n"
          ],
          "name": "stderr"
        },
        {
          "output_type": "stream",
          "text": [
            "Iter [14260/24000]  Loss: 0.9999  Time/Image: 0.1620  lr=0.000892\n"
          ],
          "name": "stdout"
        },
        {
          "output_type": "stream",
          "text": [
            "INFO:ptsemseg:Iter [14270/24000]  Loss: 0.9993  Time/Image: 0.1631  lr=0.000892\n"
          ],
          "name": "stderr"
        },
        {
          "output_type": "stream",
          "text": [
            "Iter [14270/24000]  Loss: 0.9993  Time/Image: 0.1631  lr=0.000892\n"
          ],
          "name": "stdout"
        },
        {
          "output_type": "stream",
          "text": [
            "INFO:ptsemseg:Iter [14280/24000]  Loss: 0.9986  Time/Image: 0.1653  lr=0.000892\n"
          ],
          "name": "stderr"
        },
        {
          "output_type": "stream",
          "text": [
            "Iter [14280/24000]  Loss: 0.9986  Time/Image: 0.1653  lr=0.000892\n"
          ],
          "name": "stdout"
        },
        {
          "output_type": "stream",
          "text": [
            "INFO:ptsemseg:Iter [14290/24000]  Loss: 0.9991  Time/Image: 0.1642  lr=0.000892\n"
          ],
          "name": "stderr"
        },
        {
          "output_type": "stream",
          "text": [
            "Iter [14290/24000]  Loss: 0.9991  Time/Image: 0.1642  lr=0.000892\n"
          ],
          "name": "stdout"
        },
        {
          "output_type": "stream",
          "text": [
            "INFO:ptsemseg:Iter [14300/24000]  Loss: 0.9983  Time/Image: 0.1666  lr=0.000892\n"
          ],
          "name": "stderr"
        },
        {
          "output_type": "stream",
          "text": [
            "Iter [14300/24000]  Loss: 0.9983  Time/Image: 0.1666  lr=0.000892\n"
          ],
          "name": "stdout"
        },
        {
          "output_type": "stream",
          "text": [
            "INFO:ptsemseg:Iter [14310/24000]  Loss: 0.9970  Time/Image: 0.1649  lr=0.000892\n"
          ],
          "name": "stderr"
        },
        {
          "output_type": "stream",
          "text": [
            "Iter [14310/24000]  Loss: 0.9970  Time/Image: 0.1649  lr=0.000892\n"
          ],
          "name": "stdout"
        },
        {
          "output_type": "stream",
          "text": [
            "INFO:ptsemseg:Iter [14320/24000]  Loss: 0.9968  Time/Image: 0.1650  lr=0.000892\n"
          ],
          "name": "stderr"
        },
        {
          "output_type": "stream",
          "text": [
            "Iter [14320/24000]  Loss: 0.9968  Time/Image: 0.1650  lr=0.000892\n"
          ],
          "name": "stdout"
        },
        {
          "output_type": "stream",
          "text": [
            "INFO:ptsemseg:Iter [14330/24000]  Loss: 0.9967  Time/Image: 0.1651  lr=0.000892\n"
          ],
          "name": "stderr"
        },
        {
          "output_type": "stream",
          "text": [
            "Iter [14330/24000]  Loss: 0.9967  Time/Image: 0.1651  lr=0.000892\n"
          ],
          "name": "stdout"
        },
        {
          "output_type": "stream",
          "text": [
            "INFO:ptsemseg:Iter [14340/24000]  Loss: 0.9976  Time/Image: 0.1604  lr=0.000892\n"
          ],
          "name": "stderr"
        },
        {
          "output_type": "stream",
          "text": [
            "Iter [14340/24000]  Loss: 0.9976  Time/Image: 0.1604  lr=0.000892\n"
          ],
          "name": "stdout"
        },
        {
          "output_type": "stream",
          "text": [
            "INFO:ptsemseg:Iter [14350/24000]  Loss: 0.9969  Time/Image: 0.1640  lr=0.000892\n"
          ],
          "name": "stderr"
        },
        {
          "output_type": "stream",
          "text": [
            "Iter [14350/24000]  Loss: 0.9969  Time/Image: 0.1640  lr=0.000892\n"
          ],
          "name": "stdout"
        },
        {
          "output_type": "stream",
          "text": [
            "INFO:ptsemseg:Iter [14360/24000]  Loss: 0.9991  Time/Image: 0.1632  lr=0.000892\n"
          ],
          "name": "stderr"
        },
        {
          "output_type": "stream",
          "text": [
            "Iter [14360/24000]  Loss: 0.9991  Time/Image: 0.1632  lr=0.000892\n"
          ],
          "name": "stdout"
        },
        {
          "output_type": "stream",
          "text": [
            "INFO:ptsemseg:Iter [14370/24000]  Loss: 0.9998  Time/Image: 0.1657  lr=0.000892\n"
          ],
          "name": "stderr"
        },
        {
          "output_type": "stream",
          "text": [
            "Iter [14370/24000]  Loss: 0.9998  Time/Image: 0.1657  lr=0.000892\n"
          ],
          "name": "stdout"
        },
        {
          "output_type": "stream",
          "text": [
            "INFO:ptsemseg:Iter [14380/24000]  Loss: 0.9994  Time/Image: 0.1627  lr=0.000891\n"
          ],
          "name": "stderr"
        },
        {
          "output_type": "stream",
          "text": [
            "Iter [14380/24000]  Loss: 0.9994  Time/Image: 0.1627  lr=0.000891\n"
          ],
          "name": "stdout"
        },
        {
          "output_type": "stream",
          "text": [
            "INFO:ptsemseg:Iter [14390/24000]  Loss: 0.9993  Time/Image: 0.1599  lr=0.000891\n"
          ],
          "name": "stderr"
        },
        {
          "output_type": "stream",
          "text": [
            "Iter [14390/24000]  Loss: 0.9993  Time/Image: 0.1599  lr=0.000891\n"
          ],
          "name": "stdout"
        },
        {
          "output_type": "stream",
          "text": [
            "INFO:ptsemseg:Iter [14400/24000]  Loss: 0.9987  Time/Image: 0.1592  lr=0.000891\n"
          ],
          "name": "stderr"
        },
        {
          "output_type": "stream",
          "text": [
            "Iter [14400/24000]  Loss: 0.9987  Time/Image: 0.1592  lr=0.000891\n"
          ],
          "name": "stdout"
        },
        {
          "output_type": "stream",
          "text": [
            "INFO:ptsemseg:Iter [14410/24000]  Loss: 0.9986  Time/Image: 0.1645  lr=0.000891\n"
          ],
          "name": "stderr"
        },
        {
          "output_type": "stream",
          "text": [
            "Iter [14410/24000]  Loss: 0.9986  Time/Image: 0.1645  lr=0.000891\n"
          ],
          "name": "stdout"
        },
        {
          "output_type": "stream",
          "text": [
            "INFO:ptsemseg:Iter [14420/24000]  Loss: 0.9990  Time/Image: 0.1656  lr=0.000891\n"
          ],
          "name": "stderr"
        },
        {
          "output_type": "stream",
          "text": [
            "Iter [14420/24000]  Loss: 0.9990  Time/Image: 0.1656  lr=0.000891\n"
          ],
          "name": "stdout"
        },
        {
          "output_type": "stream",
          "text": [
            "INFO:ptsemseg:Iter [14430/24000]  Loss: 0.9995  Time/Image: 0.1615  lr=0.000891\n"
          ],
          "name": "stderr"
        },
        {
          "output_type": "stream",
          "text": [
            "Iter [14430/24000]  Loss: 0.9995  Time/Image: 0.1615  lr=0.000891\n"
          ],
          "name": "stdout"
        },
        {
          "output_type": "stream",
          "text": [
            "INFO:ptsemseg:Iter [14440/24000]  Loss: 0.9990  Time/Image: 0.1556  lr=0.000891\n"
          ],
          "name": "stderr"
        },
        {
          "output_type": "stream",
          "text": [
            "Iter [14440/24000]  Loss: 0.9990  Time/Image: 0.1556  lr=0.000891\n"
          ],
          "name": "stdout"
        },
        {
          "output_type": "stream",
          "text": [
            "INFO:ptsemseg:Iter [14450/24000]  Loss: 0.9993  Time/Image: 0.1607  lr=0.000891\n"
          ],
          "name": "stderr"
        },
        {
          "output_type": "stream",
          "text": [
            "Iter [14450/24000]  Loss: 0.9993  Time/Image: 0.1607  lr=0.000891\n"
          ],
          "name": "stdout"
        },
        {
          "output_type": "stream",
          "text": [
            "INFO:ptsemseg:Iter [14460/24000]  Loss: 1.0011  Time/Image: 0.1612  lr=0.000891\n"
          ],
          "name": "stderr"
        },
        {
          "output_type": "stream",
          "text": [
            "Iter [14460/24000]  Loss: 1.0011  Time/Image: 0.1612  lr=0.000891\n"
          ],
          "name": "stdout"
        },
        {
          "output_type": "stream",
          "text": [
            "INFO:ptsemseg:Iter [14470/24000]  Loss: 1.0015  Time/Image: 0.1521  lr=0.000891\n"
          ],
          "name": "stderr"
        },
        {
          "output_type": "stream",
          "text": [
            "Iter [14470/24000]  Loss: 1.0015  Time/Image: 0.1521  lr=0.000891\n"
          ],
          "name": "stdout"
        },
        {
          "output_type": "stream",
          "text": [
            "INFO:ptsemseg:Iter [14480/24000]  Loss: 1.0009  Time/Image: 0.1106  lr=0.000891\n"
          ],
          "name": "stderr"
        },
        {
          "output_type": "stream",
          "text": [
            "Iter [14480/24000]  Loss: 1.0009  Time/Image: 0.1106  lr=0.000891\n"
          ],
          "name": "stdout"
        },
        {
          "output_type": "stream",
          "text": [
            "INFO:ptsemseg:Iter [14490/24000]  Loss: 1.0009  Time/Image: 0.1573  lr=0.000891\n"
          ],
          "name": "stderr"
        },
        {
          "output_type": "stream",
          "text": [
            "Iter [14490/24000]  Loss: 1.0009  Time/Image: 0.1573  lr=0.000891\n"
          ],
          "name": "stdout"
        },
        {
          "output_type": "stream",
          "text": [
            "INFO:ptsemseg:Iter [14500/24000]  Loss: 1.0022  Time/Image: 0.1655  lr=0.000891\n"
          ],
          "name": "stderr"
        },
        {
          "output_type": "stream",
          "text": [
            "Iter [14500/24000]  Loss: 1.0022  Time/Image: 0.1655  lr=0.000891\n"
          ],
          "name": "stdout"
        },
        {
          "output_type": "stream",
          "text": [
            "84it [03:18,  2.36s/it]\n",
            "INFO:ptsemseg:Iter 14500 Val Loss: 0.9696\n",
            "INFO:ptsemseg:Overall Acc: \t: 0.9190844962341866\n",
            "INFO:ptsemseg:Mean Acc : \t: 0.5958125187010779\n",
            "INFO:ptsemseg:FreqW Acc : \t: 0.8583099848477862\n",
            "INFO:ptsemseg:Mean IoU : \t: 0.49879664181770345\n",
            "INFO:ptsemseg:0: 0.9642776884941143\n",
            "INFO:ptsemseg:1: 0.7248379294924946\n",
            "INFO:ptsemseg:2: 0.8529041293675375\n",
            "INFO:ptsemseg:3: 0.16774101798164073\n",
            "INFO:ptsemseg:4: 0.29564724620633415\n",
            "INFO:ptsemseg:5: 0.405994258240808\n",
            "INFO:ptsemseg:6: 0.35658880643918134\n",
            "INFO:ptsemseg:7: 0.5158694552220985\n",
            "INFO:ptsemseg:8: 0.8762800276914564\n",
            "INFO:ptsemseg:9: 0.42388040257321236\n",
            "INFO:ptsemseg:10: 0.8979306075788208\n",
            "INFO:ptsemseg:11: 0.5553885598562032\n",
            "INFO:ptsemseg:12: 0.20062126670676095\n",
            "INFO:ptsemseg:13: 0.8602040326416545\n",
            "INFO:ptsemseg:14: 0.14050992134786602\n",
            "INFO:ptsemseg:15: 0.4861082436370322\n",
            "INFO:ptsemseg:16: 0.08082094116883702\n",
            "INFO:ptsemseg:17: 0.15526995259932946\n",
            "INFO:ptsemseg:18: 0.5162617072909834\n"
          ],
          "name": "stderr"
        },
        {
          "output_type": "stream",
          "text": [
            "Overall Acc: \t 0.9190844962341866\n",
            "Mean Acc : \t 0.5958125187010779\n",
            "FreqW Acc : \t 0.8583099848477862\n",
            "Mean IoU : \t 0.49879664181770345\n"
          ],
          "name": "stdout"
        },
        {
          "output_type": "stream",
          "text": [
            "INFO:ptsemseg:Iter [14510/24000]  Loss: 0.9479  Time/Image: 0.1436  lr=0.000891\n"
          ],
          "name": "stderr"
        },
        {
          "output_type": "stream",
          "text": [
            "Iter [14510/24000]  Loss: 0.9479  Time/Image: 0.1436  lr=0.000891\n"
          ],
          "name": "stdout"
        },
        {
          "output_type": "stream",
          "text": [
            "INFO:ptsemseg:Iter [14520/24000]  Loss: 0.9765  Time/Image: 0.1723  lr=0.000890\n"
          ],
          "name": "stderr"
        },
        {
          "output_type": "stream",
          "text": [
            "Iter [14520/24000]  Loss: 0.9765  Time/Image: 0.1723  lr=0.000890\n"
          ],
          "name": "stdout"
        },
        {
          "output_type": "stream",
          "text": [
            "INFO:ptsemseg:Iter [14530/24000]  Loss: 0.9652  Time/Image: 0.1692  lr=0.000890\n"
          ],
          "name": "stderr"
        },
        {
          "output_type": "stream",
          "text": [
            "Iter [14530/24000]  Loss: 0.9652  Time/Image: 0.1692  lr=0.000890\n"
          ],
          "name": "stdout"
        },
        {
          "output_type": "stream",
          "text": [
            "INFO:ptsemseg:Iter [14540/24000]  Loss: 0.9642  Time/Image: 0.1672  lr=0.000890\n"
          ],
          "name": "stderr"
        },
        {
          "output_type": "stream",
          "text": [
            "Iter [14540/24000]  Loss: 0.9642  Time/Image: 0.1672  lr=0.000890\n"
          ],
          "name": "stdout"
        },
        {
          "output_type": "stream",
          "text": [
            "INFO:ptsemseg:Iter [14550/24000]  Loss: 0.9811  Time/Image: 0.1660  lr=0.000890\n"
          ],
          "name": "stderr"
        },
        {
          "output_type": "stream",
          "text": [
            "Iter [14550/24000]  Loss: 0.9811  Time/Image: 0.1660  lr=0.000890\n"
          ],
          "name": "stdout"
        },
        {
          "output_type": "stream",
          "text": [
            "INFO:ptsemseg:Iter [14560/24000]  Loss: 0.9765  Time/Image: 0.1664  lr=0.000890\n"
          ],
          "name": "stderr"
        },
        {
          "output_type": "stream",
          "text": [
            "Iter [14560/24000]  Loss: 0.9765  Time/Image: 0.1664  lr=0.000890\n"
          ],
          "name": "stdout"
        },
        {
          "output_type": "stream",
          "text": [
            "INFO:ptsemseg:Iter [14570/24000]  Loss: 0.9845  Time/Image: 0.1669  lr=0.000890\n"
          ],
          "name": "stderr"
        },
        {
          "output_type": "stream",
          "text": [
            "Iter [14570/24000]  Loss: 0.9845  Time/Image: 0.1669  lr=0.000890\n"
          ],
          "name": "stdout"
        },
        {
          "output_type": "stream",
          "text": [
            "INFO:ptsemseg:Iter [14580/24000]  Loss: 0.9834  Time/Image: 0.1653  lr=0.000890\n"
          ],
          "name": "stderr"
        },
        {
          "output_type": "stream",
          "text": [
            "Iter [14580/24000]  Loss: 0.9834  Time/Image: 0.1653  lr=0.000890\n"
          ],
          "name": "stdout"
        },
        {
          "output_type": "stream",
          "text": [
            "INFO:ptsemseg:Iter [14590/24000]  Loss: 0.9857  Time/Image: 0.1654  lr=0.000890\n"
          ],
          "name": "stderr"
        },
        {
          "output_type": "stream",
          "text": [
            "Iter [14590/24000]  Loss: 0.9857  Time/Image: 0.1654  lr=0.000890\n"
          ],
          "name": "stdout"
        },
        {
          "output_type": "stream",
          "text": [
            "INFO:ptsemseg:Iter [14600/24000]  Loss: 0.9868  Time/Image: 0.1642  lr=0.000890\n"
          ],
          "name": "stderr"
        },
        {
          "output_type": "stream",
          "text": [
            "Iter [14600/24000]  Loss: 0.9868  Time/Image: 0.1642  lr=0.000890\n"
          ],
          "name": "stdout"
        },
        {
          "output_type": "stream",
          "text": [
            "INFO:ptsemseg:Iter [14610/24000]  Loss: 0.9868  Time/Image: 0.1653  lr=0.000890\n"
          ],
          "name": "stderr"
        },
        {
          "output_type": "stream",
          "text": [
            "Iter [14610/24000]  Loss: 0.9868  Time/Image: 0.1653  lr=0.000890\n"
          ],
          "name": "stdout"
        },
        {
          "output_type": "stream",
          "text": [
            "INFO:ptsemseg:Iter [14620/24000]  Loss: 0.9892  Time/Image: 0.1628  lr=0.000890\n"
          ],
          "name": "stderr"
        },
        {
          "output_type": "stream",
          "text": [
            "Iter [14620/24000]  Loss: 0.9892  Time/Image: 0.1628  lr=0.000890\n"
          ],
          "name": "stdout"
        },
        {
          "output_type": "stream",
          "text": [
            "INFO:ptsemseg:Iter [14630/24000]  Loss: 0.9933  Time/Image: 0.1631  lr=0.000890\n"
          ],
          "name": "stderr"
        },
        {
          "output_type": "stream",
          "text": [
            "Iter [14630/24000]  Loss: 0.9933  Time/Image: 0.1631  lr=0.000890\n"
          ],
          "name": "stdout"
        },
        {
          "output_type": "stream",
          "text": [
            "INFO:ptsemseg:Iter [14640/24000]  Loss: 0.9923  Time/Image: 0.1630  lr=0.000890\n"
          ],
          "name": "stderr"
        },
        {
          "output_type": "stream",
          "text": [
            "Iter [14640/24000]  Loss: 0.9923  Time/Image: 0.1630  lr=0.000890\n"
          ],
          "name": "stdout"
        },
        {
          "output_type": "stream",
          "text": [
            "INFO:ptsemseg:Iter [14650/24000]  Loss: 0.9919  Time/Image: 0.1643  lr=0.000889\n"
          ],
          "name": "stderr"
        },
        {
          "output_type": "stream",
          "text": [
            "Iter [14650/24000]  Loss: 0.9919  Time/Image: 0.1643  lr=0.000889\n"
          ],
          "name": "stdout"
        },
        {
          "output_type": "stream",
          "text": [
            "INFO:ptsemseg:Iter [14660/24000]  Loss: 0.9951  Time/Image: 0.1654  lr=0.000889\n"
          ],
          "name": "stderr"
        },
        {
          "output_type": "stream",
          "text": [
            "Iter [14660/24000]  Loss: 0.9951  Time/Image: 0.1654  lr=0.000889\n"
          ],
          "name": "stdout"
        },
        {
          "output_type": "stream",
          "text": [
            "INFO:ptsemseg:Iter [14670/24000]  Loss: 0.9972  Time/Image: 0.1652  lr=0.000889\n"
          ],
          "name": "stderr"
        },
        {
          "output_type": "stream",
          "text": [
            "Iter [14670/24000]  Loss: 0.9972  Time/Image: 0.1652  lr=0.000889\n"
          ],
          "name": "stdout"
        },
        {
          "output_type": "stream",
          "text": [
            "INFO:ptsemseg:Iter [14680/24000]  Loss: 0.9948  Time/Image: 0.1664  lr=0.000889\n"
          ],
          "name": "stderr"
        },
        {
          "output_type": "stream",
          "text": [
            "Iter [14680/24000]  Loss: 0.9948  Time/Image: 0.1664  lr=0.000889\n"
          ],
          "name": "stdout"
        },
        {
          "output_type": "stream",
          "text": [
            "INFO:ptsemseg:Iter [14690/24000]  Loss: 0.9930  Time/Image: 0.1662  lr=0.000889\n"
          ],
          "name": "stderr"
        },
        {
          "output_type": "stream",
          "text": [
            "Iter [14690/24000]  Loss: 0.9930  Time/Image: 0.1662  lr=0.000889\n"
          ],
          "name": "stdout"
        },
        {
          "output_type": "stream",
          "text": [
            "INFO:ptsemseg:Iter [14700/24000]  Loss: 0.9967  Time/Image: 0.1651  lr=0.000889\n"
          ],
          "name": "stderr"
        },
        {
          "output_type": "stream",
          "text": [
            "Iter [14700/24000]  Loss: 0.9967  Time/Image: 0.1651  lr=0.000889\n"
          ],
          "name": "stdout"
        },
        {
          "output_type": "stream",
          "text": [
            "INFO:ptsemseg:Iter [14710/24000]  Loss: 0.9952  Time/Image: 0.1688  lr=0.000889\n"
          ],
          "name": "stderr"
        },
        {
          "output_type": "stream",
          "text": [
            "Iter [14710/24000]  Loss: 0.9952  Time/Image: 0.1688  lr=0.000889\n"
          ],
          "name": "stdout"
        },
        {
          "output_type": "stream",
          "text": [
            "INFO:ptsemseg:Iter [14720/24000]  Loss: 0.9974  Time/Image: 0.1680  lr=0.000889\n"
          ],
          "name": "stderr"
        },
        {
          "output_type": "stream",
          "text": [
            "Iter [14720/24000]  Loss: 0.9974  Time/Image: 0.1680  lr=0.000889\n"
          ],
          "name": "stdout"
        },
        {
          "output_type": "stream",
          "text": [
            "INFO:ptsemseg:Iter [14730/24000]  Loss: 0.9985  Time/Image: 0.1675  lr=0.000889\n"
          ],
          "name": "stderr"
        },
        {
          "output_type": "stream",
          "text": [
            "Iter [14730/24000]  Loss: 0.9985  Time/Image: 0.1675  lr=0.000889\n"
          ],
          "name": "stdout"
        },
        {
          "output_type": "stream",
          "text": [
            "INFO:ptsemseg:Iter [14740/24000]  Loss: 0.9976  Time/Image: 0.1685  lr=0.000889\n"
          ],
          "name": "stderr"
        },
        {
          "output_type": "stream",
          "text": [
            "Iter [14740/24000]  Loss: 0.9976  Time/Image: 0.1685  lr=0.000889\n"
          ],
          "name": "stdout"
        },
        {
          "output_type": "stream",
          "text": [
            "INFO:ptsemseg:Iter [14750/24000]  Loss: 0.9980  Time/Image: 0.1678  lr=0.000889\n"
          ],
          "name": "stderr"
        },
        {
          "output_type": "stream",
          "text": [
            "Iter [14750/24000]  Loss: 0.9980  Time/Image: 0.1678  lr=0.000889\n"
          ],
          "name": "stdout"
        },
        {
          "output_type": "stream",
          "text": [
            "INFO:ptsemseg:Iter [14760/24000]  Loss: 0.9969  Time/Image: 0.1666  lr=0.000889\n"
          ],
          "name": "stderr"
        },
        {
          "output_type": "stream",
          "text": [
            "Iter [14760/24000]  Loss: 0.9969  Time/Image: 0.1666  lr=0.000889\n"
          ],
          "name": "stdout"
        },
        {
          "output_type": "stream",
          "text": [
            "INFO:ptsemseg:Iter [14770/24000]  Loss: 0.9960  Time/Image: 0.1647  lr=0.000889\n"
          ],
          "name": "stderr"
        },
        {
          "output_type": "stream",
          "text": [
            "Iter [14770/24000]  Loss: 0.9960  Time/Image: 0.1647  lr=0.000889\n"
          ],
          "name": "stdout"
        },
        {
          "output_type": "stream",
          "text": [
            "INFO:ptsemseg:Iter [14780/24000]  Loss: 0.9965  Time/Image: 0.1667  lr=0.000888\n"
          ],
          "name": "stderr"
        },
        {
          "output_type": "stream",
          "text": [
            "Iter [14780/24000]  Loss: 0.9965  Time/Image: 0.1667  lr=0.000888\n"
          ],
          "name": "stdout"
        },
        {
          "output_type": "stream",
          "text": [
            "INFO:ptsemseg:Iter [14790/24000]  Loss: 0.9972  Time/Image: 0.1676  lr=0.000888\n"
          ],
          "name": "stderr"
        },
        {
          "output_type": "stream",
          "text": [
            "Iter [14790/24000]  Loss: 0.9972  Time/Image: 0.1676  lr=0.000888\n"
          ],
          "name": "stdout"
        },
        {
          "output_type": "stream",
          "text": [
            "INFO:ptsemseg:Iter [14800/24000]  Loss: 0.9972  Time/Image: 0.1664  lr=0.000888\n"
          ],
          "name": "stderr"
        },
        {
          "output_type": "stream",
          "text": [
            "Iter [14800/24000]  Loss: 0.9972  Time/Image: 0.1664  lr=0.000888\n"
          ],
          "name": "stdout"
        },
        {
          "output_type": "stream",
          "text": [
            "INFO:ptsemseg:Iter [14810/24000]  Loss: 0.9949  Time/Image: 0.1644  lr=0.000888\n"
          ],
          "name": "stderr"
        },
        {
          "output_type": "stream",
          "text": [
            "Iter [14810/24000]  Loss: 0.9949  Time/Image: 0.1644  lr=0.000888\n"
          ],
          "name": "stdout"
        },
        {
          "output_type": "stream",
          "text": [
            "INFO:ptsemseg:Iter [14820/24000]  Loss: 0.9976  Time/Image: 0.1646  lr=0.000888\n"
          ],
          "name": "stderr"
        },
        {
          "output_type": "stream",
          "text": [
            "Iter [14820/24000]  Loss: 0.9976  Time/Image: 0.1646  lr=0.000888\n"
          ],
          "name": "stdout"
        },
        {
          "output_type": "stream",
          "text": [
            "INFO:ptsemseg:Iter [14830/24000]  Loss: 0.9994  Time/Image: 0.1696  lr=0.000888\n"
          ],
          "name": "stderr"
        },
        {
          "output_type": "stream",
          "text": [
            "Iter [14830/24000]  Loss: 0.9994  Time/Image: 0.1696  lr=0.000888\n"
          ],
          "name": "stdout"
        },
        {
          "output_type": "stream",
          "text": [
            "INFO:ptsemseg:Iter [14840/24000]  Loss: 0.9993  Time/Image: 0.1691  lr=0.000888\n"
          ],
          "name": "stderr"
        },
        {
          "output_type": "stream",
          "text": [
            "Iter [14840/24000]  Loss: 0.9993  Time/Image: 0.1691  lr=0.000888\n"
          ],
          "name": "stdout"
        },
        {
          "output_type": "stream",
          "text": [
            "INFO:ptsemseg:Iter [14850/24000]  Loss: 1.0022  Time/Image: 0.1693  lr=0.000888\n"
          ],
          "name": "stderr"
        },
        {
          "output_type": "stream",
          "text": [
            "Iter [14850/24000]  Loss: 1.0022  Time/Image: 0.1693  lr=0.000888\n"
          ],
          "name": "stdout"
        },
        {
          "output_type": "stream",
          "text": [
            "INFO:ptsemseg:Iter [14860/24000]  Loss: 1.0018  Time/Image: 0.1674  lr=0.000888\n"
          ],
          "name": "stderr"
        },
        {
          "output_type": "stream",
          "text": [
            "Iter [14860/24000]  Loss: 1.0018  Time/Image: 0.1674  lr=0.000888\n"
          ],
          "name": "stdout"
        },
        {
          "output_type": "stream",
          "text": [
            "INFO:ptsemseg:Iter [14870/24000]  Loss: 1.0038  Time/Image: 0.1671  lr=0.000888\n"
          ],
          "name": "stderr"
        },
        {
          "output_type": "stream",
          "text": [
            "Iter [14870/24000]  Loss: 1.0038  Time/Image: 0.1671  lr=0.000888\n"
          ],
          "name": "stdout"
        },
        {
          "output_type": "stream",
          "text": [
            "INFO:ptsemseg:Iter [14880/24000]  Loss: 1.0031  Time/Image: 0.1667  lr=0.000888\n"
          ],
          "name": "stderr"
        },
        {
          "output_type": "stream",
          "text": [
            "Iter [14880/24000]  Loss: 1.0031  Time/Image: 0.1667  lr=0.000888\n"
          ],
          "name": "stdout"
        },
        {
          "output_type": "stream",
          "text": [
            "INFO:ptsemseg:Iter [14890/24000]  Loss: 1.0014  Time/Image: 0.1654  lr=0.000888\n"
          ],
          "name": "stderr"
        },
        {
          "output_type": "stream",
          "text": [
            "Iter [14890/24000]  Loss: 1.0014  Time/Image: 0.1654  lr=0.000888\n"
          ],
          "name": "stdout"
        },
        {
          "output_type": "stream",
          "text": [
            "INFO:ptsemseg:Iter [14900/24000]  Loss: 1.0022  Time/Image: 0.1660  lr=0.000888\n"
          ],
          "name": "stderr"
        },
        {
          "output_type": "stream",
          "text": [
            "Iter [14900/24000]  Loss: 1.0022  Time/Image: 0.1660  lr=0.000888\n"
          ],
          "name": "stdout"
        },
        {
          "output_type": "stream",
          "text": [
            "INFO:ptsemseg:Iter [14910/24000]  Loss: 0.9999  Time/Image: 0.1645  lr=0.000887\n"
          ],
          "name": "stderr"
        },
        {
          "output_type": "stream",
          "text": [
            "Iter [14910/24000]  Loss: 0.9999  Time/Image: 0.1645  lr=0.000887\n"
          ],
          "name": "stdout"
        },
        {
          "output_type": "stream",
          "text": [
            "INFO:ptsemseg:Iter [14920/24000]  Loss: 0.9996  Time/Image: 0.1669  lr=0.000887\n"
          ],
          "name": "stderr"
        },
        {
          "output_type": "stream",
          "text": [
            "Iter [14920/24000]  Loss: 0.9996  Time/Image: 0.1669  lr=0.000887\n"
          ],
          "name": "stdout"
        },
        {
          "output_type": "stream",
          "text": [
            "INFO:ptsemseg:Iter [14930/24000]  Loss: 0.9975  Time/Image: 0.1713  lr=0.000887\n"
          ],
          "name": "stderr"
        },
        {
          "output_type": "stream",
          "text": [
            "Iter [14930/24000]  Loss: 0.9975  Time/Image: 0.1713  lr=0.000887\n"
          ],
          "name": "stdout"
        },
        {
          "output_type": "stream",
          "text": [
            "INFO:ptsemseg:Iter [14940/24000]  Loss: 0.9988  Time/Image: 0.1710  lr=0.000887\n"
          ],
          "name": "stderr"
        },
        {
          "output_type": "stream",
          "text": [
            "Iter [14940/24000]  Loss: 0.9988  Time/Image: 0.1710  lr=0.000887\n"
          ],
          "name": "stdout"
        },
        {
          "output_type": "stream",
          "text": [
            "INFO:ptsemseg:Iter [14950/24000]  Loss: 0.9998  Time/Image: 0.1622  lr=0.000887\n"
          ],
          "name": "stderr"
        },
        {
          "output_type": "stream",
          "text": [
            "Iter [14950/24000]  Loss: 0.9998  Time/Image: 0.1622  lr=0.000887\n"
          ],
          "name": "stdout"
        },
        {
          "output_type": "stream",
          "text": [
            "INFO:ptsemseg:Iter [14960/24000]  Loss: 1.0004  Time/Image: 0.1612  lr=0.000887\n"
          ],
          "name": "stderr"
        },
        {
          "output_type": "stream",
          "text": [
            "Iter [14960/24000]  Loss: 1.0004  Time/Image: 0.1612  lr=0.000887\n"
          ],
          "name": "stdout"
        },
        {
          "output_type": "stream",
          "text": [
            "INFO:ptsemseg:Iter [14970/24000]  Loss: 0.9999  Time/Image: 0.1344  lr=0.000887\n"
          ],
          "name": "stderr"
        },
        {
          "output_type": "stream",
          "text": [
            "Iter [14970/24000]  Loss: 0.9999  Time/Image: 0.1344  lr=0.000887\n"
          ],
          "name": "stdout"
        },
        {
          "output_type": "stream",
          "text": [
            "INFO:ptsemseg:Iter [14980/24000]  Loss: 0.9996  Time/Image: 0.1170  lr=0.000887\n"
          ],
          "name": "stderr"
        },
        {
          "output_type": "stream",
          "text": [
            "Iter [14980/24000]  Loss: 0.9996  Time/Image: 0.1170  lr=0.000887\n"
          ],
          "name": "stdout"
        },
        {
          "output_type": "stream",
          "text": [
            "INFO:ptsemseg:Iter [14990/24000]  Loss: 0.9995  Time/Image: 0.1690  lr=0.000887\n"
          ],
          "name": "stderr"
        },
        {
          "output_type": "stream",
          "text": [
            "Iter [14990/24000]  Loss: 0.9995  Time/Image: 0.1690  lr=0.000887\n"
          ],
          "name": "stdout"
        },
        {
          "output_type": "stream",
          "text": [
            "INFO:ptsemseg:Iter [15000/24000]  Loss: 1.0003  Time/Image: 0.1639  lr=0.000887\n"
          ],
          "name": "stderr"
        },
        {
          "output_type": "stream",
          "text": [
            "Iter [15000/24000]  Loss: 1.0003  Time/Image: 0.1639  lr=0.000887\n"
          ],
          "name": "stdout"
        },
        {
          "output_type": "stream",
          "text": [
            "84it [03:28,  2.48s/it]\n",
            "INFO:ptsemseg:Iter 15000 Val Loss: 1.0758\n",
            "INFO:ptsemseg:Overall Acc: \t: 0.9245259241441532\n",
            "INFO:ptsemseg:Mean Acc : \t: 0.570939057915316\n",
            "INFO:ptsemseg:FreqW Acc : \t: 0.8660317768639754\n",
            "INFO:ptsemseg:Mean IoU : \t: 0.500906883306622\n",
            "INFO:ptsemseg:0: 0.9660477617156801\n",
            "INFO:ptsemseg:1: 0.7299924686842255\n",
            "INFO:ptsemseg:2: 0.8660311439354531\n",
            "INFO:ptsemseg:3: 0.2957876254957486\n",
            "INFO:ptsemseg:4: 0.338804120385055\n",
            "INFO:ptsemseg:5: 0.40279638367194764\n",
            "INFO:ptsemseg:6: 0.3575375144208627\n",
            "INFO:ptsemseg:7: 0.44902153225921776\n",
            "INFO:ptsemseg:8: 0.8892878693349116\n",
            "INFO:ptsemseg:9: 0.4808559866535741\n",
            "INFO:ptsemseg:10: 0.9099675250950042\n",
            "INFO:ptsemseg:11: 0.6192657187125823\n",
            "INFO:ptsemseg:12: 0.10851052265725344\n",
            "INFO:ptsemseg:13: 0.8506893217458572\n",
            "INFO:ptsemseg:14: 0.07165397940661625\n",
            "INFO:ptsemseg:15: 0.3900261272799846\n",
            "INFO:ptsemseg:16: 0.08683288512222516\n",
            "INFO:ptsemseg:17: 0.10808952509459975\n",
            "INFO:ptsemseg:18: 0.5960327711550182\n"
          ],
          "name": "stderr"
        },
        {
          "output_type": "stream",
          "text": [
            "Overall Acc: \t 0.9245259241441532\n",
            "Mean Acc : \t 0.570939057915316\n",
            "FreqW Acc : \t 0.8660317768639754\n",
            "Mean IoU : \t 0.500906883306622\n"
          ],
          "name": "stdout"
        },
        {
          "output_type": "stream",
          "text": [
            "INFO:ptsemseg:Iter [15010/24000]  Loss: 0.9851  Time/Image: 0.1447  lr=0.000887\n"
          ],
          "name": "stderr"
        },
        {
          "output_type": "stream",
          "text": [
            "Iter [15010/24000]  Loss: 0.9851  Time/Image: 0.1447  lr=0.000887\n"
          ],
          "name": "stdout"
        },
        {
          "output_type": "stream",
          "text": [
            "INFO:ptsemseg:Iter [15020/24000]  Loss: 0.9567  Time/Image: 0.1696  lr=0.000887\n"
          ],
          "name": "stderr"
        },
        {
          "output_type": "stream",
          "text": [
            "Iter [15020/24000]  Loss: 0.9567  Time/Image: 0.1696  lr=0.000887\n"
          ],
          "name": "stdout"
        },
        {
          "output_type": "stream",
          "text": [
            "INFO:ptsemseg:Iter [15030/24000]  Loss: 0.9817  Time/Image: 0.1632  lr=0.000887\n"
          ],
          "name": "stderr"
        },
        {
          "output_type": "stream",
          "text": [
            "Iter [15030/24000]  Loss: 0.9817  Time/Image: 0.1632  lr=0.000887\n"
          ],
          "name": "stdout"
        },
        {
          "output_type": "stream",
          "text": [
            "INFO:ptsemseg:Iter [15040/24000]  Loss: 1.0010  Time/Image: 0.1679  lr=0.000886\n"
          ],
          "name": "stderr"
        },
        {
          "output_type": "stream",
          "text": [
            "Iter [15040/24000]  Loss: 1.0010  Time/Image: 0.1679  lr=0.000886\n"
          ],
          "name": "stdout"
        },
        {
          "output_type": "stream",
          "text": [
            "INFO:ptsemseg:Iter [15050/24000]  Loss: 1.0024  Time/Image: 0.1697  lr=0.000886\n"
          ],
          "name": "stderr"
        },
        {
          "output_type": "stream",
          "text": [
            "Iter [15050/24000]  Loss: 1.0024  Time/Image: 0.1697  lr=0.000886\n"
          ],
          "name": "stdout"
        },
        {
          "output_type": "stream",
          "text": [
            "INFO:ptsemseg:Iter [15060/24000]  Loss: 1.0209  Time/Image: 0.1689  lr=0.000886\n"
          ],
          "name": "stderr"
        },
        {
          "output_type": "stream",
          "text": [
            "Iter [15060/24000]  Loss: 1.0209  Time/Image: 0.1689  lr=0.000886\n"
          ],
          "name": "stdout"
        },
        {
          "output_type": "stream",
          "text": [
            "INFO:ptsemseg:Iter [15070/24000]  Loss: 1.0045  Time/Image: 0.1652  lr=0.000886\n"
          ],
          "name": "stderr"
        },
        {
          "output_type": "stream",
          "text": [
            "Iter [15070/24000]  Loss: 1.0045  Time/Image: 0.1652  lr=0.000886\n"
          ],
          "name": "stdout"
        },
        {
          "output_type": "stream",
          "text": [
            "INFO:ptsemseg:Iter [15080/24000]  Loss: 1.0001  Time/Image: 0.1662  lr=0.000886\n"
          ],
          "name": "stderr"
        },
        {
          "output_type": "stream",
          "text": [
            "Iter [15080/24000]  Loss: 1.0001  Time/Image: 0.1662  lr=0.000886\n"
          ],
          "name": "stdout"
        },
        {
          "output_type": "stream",
          "text": [
            "INFO:ptsemseg:Iter [15090/24000]  Loss: 1.0031  Time/Image: 0.1672  lr=0.000886\n"
          ],
          "name": "stderr"
        },
        {
          "output_type": "stream",
          "text": [
            "Iter [15090/24000]  Loss: 1.0031  Time/Image: 0.1672  lr=0.000886\n"
          ],
          "name": "stdout"
        },
        {
          "output_type": "stream",
          "text": [
            "INFO:ptsemseg:Iter [15100/24000]  Loss: 1.0032  Time/Image: 0.1670  lr=0.000886\n"
          ],
          "name": "stderr"
        },
        {
          "output_type": "stream",
          "text": [
            "Iter [15100/24000]  Loss: 1.0032  Time/Image: 0.1670  lr=0.000886\n"
          ],
          "name": "stdout"
        },
        {
          "output_type": "stream",
          "text": [
            "INFO:ptsemseg:Iter [15110/24000]  Loss: 1.0048  Time/Image: 0.1691  lr=0.000886\n"
          ],
          "name": "stderr"
        },
        {
          "output_type": "stream",
          "text": [
            "Iter [15110/24000]  Loss: 1.0048  Time/Image: 0.1691  lr=0.000886\n"
          ],
          "name": "stdout"
        },
        {
          "output_type": "stream",
          "text": [
            "INFO:ptsemseg:Iter [15120/24000]  Loss: 0.9997  Time/Image: 0.1655  lr=0.000886\n"
          ],
          "name": "stderr"
        },
        {
          "output_type": "stream",
          "text": [
            "Iter [15120/24000]  Loss: 0.9997  Time/Image: 0.1655  lr=0.000886\n"
          ],
          "name": "stdout"
        },
        {
          "output_type": "stream",
          "text": [
            "INFO:ptsemseg:Iter [15130/24000]  Loss: 1.0052  Time/Image: 0.1659  lr=0.000886\n"
          ],
          "name": "stderr"
        },
        {
          "output_type": "stream",
          "text": [
            "Iter [15130/24000]  Loss: 1.0052  Time/Image: 0.1659  lr=0.000886\n"
          ],
          "name": "stdout"
        },
        {
          "output_type": "stream",
          "text": [
            "INFO:ptsemseg:Iter [15140/24000]  Loss: 1.0074  Time/Image: 0.1660  lr=0.000886\n"
          ],
          "name": "stderr"
        },
        {
          "output_type": "stream",
          "text": [
            "Iter [15140/24000]  Loss: 1.0074  Time/Image: 0.1660  lr=0.000886\n"
          ],
          "name": "stdout"
        },
        {
          "output_type": "stream",
          "text": [
            "INFO:ptsemseg:Iter [15150/24000]  Loss: 1.0045  Time/Image: 0.1626  lr=0.000886\n"
          ],
          "name": "stderr"
        },
        {
          "output_type": "stream",
          "text": [
            "Iter [15150/24000]  Loss: 1.0045  Time/Image: 0.1626  lr=0.000886\n"
          ],
          "name": "stdout"
        },
        {
          "output_type": "stream",
          "text": [
            "INFO:ptsemseg:Iter [15160/24000]  Loss: 1.0047  Time/Image: 0.1642  lr=0.000886\n"
          ],
          "name": "stderr"
        },
        {
          "output_type": "stream",
          "text": [
            "Iter [15160/24000]  Loss: 1.0047  Time/Image: 0.1642  lr=0.000886\n"
          ],
          "name": "stdout"
        },
        {
          "output_type": "stream",
          "text": [
            "INFO:ptsemseg:Iter [15170/24000]  Loss: 1.0030  Time/Image: 0.1687  lr=0.000885\n"
          ],
          "name": "stderr"
        },
        {
          "output_type": "stream",
          "text": [
            "Iter [15170/24000]  Loss: 1.0030  Time/Image: 0.1687  lr=0.000885\n"
          ],
          "name": "stdout"
        },
        {
          "output_type": "stream",
          "text": [
            "INFO:ptsemseg:Iter [15180/24000]  Loss: 1.0025  Time/Image: 0.1695  lr=0.000885\n"
          ],
          "name": "stderr"
        },
        {
          "output_type": "stream",
          "text": [
            "Iter [15180/24000]  Loss: 1.0025  Time/Image: 0.1695  lr=0.000885\n"
          ],
          "name": "stdout"
        },
        {
          "output_type": "stream",
          "text": [
            "INFO:ptsemseg:Iter [15190/24000]  Loss: 1.0044  Time/Image: 0.1690  lr=0.000885\n"
          ],
          "name": "stderr"
        },
        {
          "output_type": "stream",
          "text": [
            "Iter [15190/24000]  Loss: 1.0044  Time/Image: 0.1690  lr=0.000885\n"
          ],
          "name": "stdout"
        },
        {
          "output_type": "stream",
          "text": [
            "INFO:ptsemseg:Iter [15200/24000]  Loss: 1.0042  Time/Image: 0.1666  lr=0.000885\n"
          ],
          "name": "stderr"
        },
        {
          "output_type": "stream",
          "text": [
            "Iter [15200/24000]  Loss: 1.0042  Time/Image: 0.1666  lr=0.000885\n"
          ],
          "name": "stdout"
        },
        {
          "output_type": "stream",
          "text": [
            "INFO:ptsemseg:Iter [15210/24000]  Loss: 1.0007  Time/Image: 0.1683  lr=0.000885\n"
          ],
          "name": "stderr"
        },
        {
          "output_type": "stream",
          "text": [
            "Iter [15210/24000]  Loss: 1.0007  Time/Image: 0.1683  lr=0.000885\n"
          ],
          "name": "stdout"
        },
        {
          "output_type": "stream",
          "text": [
            "INFO:ptsemseg:Iter [15220/24000]  Loss: 1.0020  Time/Image: 0.1659  lr=0.000885\n"
          ],
          "name": "stderr"
        },
        {
          "output_type": "stream",
          "text": [
            "Iter [15220/24000]  Loss: 1.0020  Time/Image: 0.1659  lr=0.000885\n"
          ],
          "name": "stdout"
        },
        {
          "output_type": "stream",
          "text": [
            "INFO:ptsemseg:Iter [15230/24000]  Loss: 1.0040  Time/Image: 0.1691  lr=0.000885\n"
          ],
          "name": "stderr"
        },
        {
          "output_type": "stream",
          "text": [
            "Iter [15230/24000]  Loss: 1.0040  Time/Image: 0.1691  lr=0.000885\n"
          ],
          "name": "stdout"
        },
        {
          "output_type": "stream",
          "text": [
            "INFO:ptsemseg:Iter [15240/24000]  Loss: 1.0055  Time/Image: 0.1678  lr=0.000885\n"
          ],
          "name": "stderr"
        },
        {
          "output_type": "stream",
          "text": [
            "Iter [15240/24000]  Loss: 1.0055  Time/Image: 0.1678  lr=0.000885\n"
          ],
          "name": "stdout"
        },
        {
          "output_type": "stream",
          "text": [
            "INFO:ptsemseg:Iter [15250/24000]  Loss: 1.0014  Time/Image: 0.1658  lr=0.000885\n"
          ],
          "name": "stderr"
        },
        {
          "output_type": "stream",
          "text": [
            "Iter [15250/24000]  Loss: 1.0014  Time/Image: 0.1658  lr=0.000885\n"
          ],
          "name": "stdout"
        },
        {
          "output_type": "stream",
          "text": [
            "INFO:ptsemseg:Iter [15260/24000]  Loss: 1.0021  Time/Image: 0.1668  lr=0.000885\n"
          ],
          "name": "stderr"
        },
        {
          "output_type": "stream",
          "text": [
            "Iter [15260/24000]  Loss: 1.0021  Time/Image: 0.1668  lr=0.000885\n"
          ],
          "name": "stdout"
        },
        {
          "output_type": "stream",
          "text": [
            "INFO:ptsemseg:Iter [15270/24000]  Loss: 1.0036  Time/Image: 0.1637  lr=0.000885\n"
          ],
          "name": "stderr"
        },
        {
          "output_type": "stream",
          "text": [
            "Iter [15270/24000]  Loss: 1.0036  Time/Image: 0.1637  lr=0.000885\n"
          ],
          "name": "stdout"
        },
        {
          "output_type": "stream",
          "text": [
            "INFO:ptsemseg:Iter [15280/24000]  Loss: 1.0042  Time/Image: 0.1659  lr=0.000885\n"
          ],
          "name": "stderr"
        },
        {
          "output_type": "stream",
          "text": [
            "Iter [15280/24000]  Loss: 1.0042  Time/Image: 0.1659  lr=0.000885\n"
          ],
          "name": "stdout"
        },
        {
          "output_type": "stream",
          "text": [
            "INFO:ptsemseg:Iter [15290/24000]  Loss: 1.0027  Time/Image: 0.1660  lr=0.000885\n"
          ],
          "name": "stderr"
        },
        {
          "output_type": "stream",
          "text": [
            "Iter [15290/24000]  Loss: 1.0027  Time/Image: 0.1660  lr=0.000885\n"
          ],
          "name": "stdout"
        },
        {
          "output_type": "stream",
          "text": [
            "INFO:ptsemseg:Iter [15300/24000]  Loss: 1.0029  Time/Image: 0.1681  lr=0.000884\n"
          ],
          "name": "stderr"
        },
        {
          "output_type": "stream",
          "text": [
            "Iter [15300/24000]  Loss: 1.0029  Time/Image: 0.1681  lr=0.000884\n"
          ],
          "name": "stdout"
        },
        {
          "output_type": "stream",
          "text": [
            "INFO:ptsemseg:Iter [15310/24000]  Loss: 1.0036  Time/Image: 0.1642  lr=0.000884\n"
          ],
          "name": "stderr"
        },
        {
          "output_type": "stream",
          "text": [
            "Iter [15310/24000]  Loss: 1.0036  Time/Image: 0.1642  lr=0.000884\n"
          ],
          "name": "stdout"
        },
        {
          "output_type": "stream",
          "text": [
            "INFO:ptsemseg:Iter [15320/24000]  Loss: 1.0049  Time/Image: 0.1662  lr=0.000884\n"
          ],
          "name": "stderr"
        },
        {
          "output_type": "stream",
          "text": [
            "Iter [15320/24000]  Loss: 1.0049  Time/Image: 0.1662  lr=0.000884\n"
          ],
          "name": "stdout"
        },
        {
          "output_type": "stream",
          "text": [
            "INFO:ptsemseg:Iter [15330/24000]  Loss: 1.0058  Time/Image: 0.1697  lr=0.000884\n"
          ],
          "name": "stderr"
        },
        {
          "output_type": "stream",
          "text": [
            "Iter [15330/24000]  Loss: 1.0058  Time/Image: 0.1697  lr=0.000884\n"
          ],
          "name": "stdout"
        },
        {
          "output_type": "stream",
          "text": [
            "INFO:ptsemseg:Iter [15340/24000]  Loss: 1.0069  Time/Image: 0.1688  lr=0.000884\n"
          ],
          "name": "stderr"
        },
        {
          "output_type": "stream",
          "text": [
            "Iter [15340/24000]  Loss: 1.0069  Time/Image: 0.1688  lr=0.000884\n"
          ],
          "name": "stdout"
        },
        {
          "output_type": "stream",
          "text": [
            "INFO:ptsemseg:Iter [15350/24000]  Loss: 1.0062  Time/Image: 0.1641  lr=0.000884\n"
          ],
          "name": "stderr"
        },
        {
          "output_type": "stream",
          "text": [
            "Iter [15350/24000]  Loss: 1.0062  Time/Image: 0.1641  lr=0.000884\n"
          ],
          "name": "stdout"
        },
        {
          "output_type": "stream",
          "text": [
            "INFO:ptsemseg:Iter [15360/24000]  Loss: 1.0031  Time/Image: 0.1656  lr=0.000884\n"
          ],
          "name": "stderr"
        },
        {
          "output_type": "stream",
          "text": [
            "Iter [15360/24000]  Loss: 1.0031  Time/Image: 0.1656  lr=0.000884\n"
          ],
          "name": "stdout"
        },
        {
          "output_type": "stream",
          "text": [
            "INFO:ptsemseg:Iter [15370/24000]  Loss: 1.0060  Time/Image: 0.1658  lr=0.000884\n"
          ],
          "name": "stderr"
        },
        {
          "output_type": "stream",
          "text": [
            "Iter [15370/24000]  Loss: 1.0060  Time/Image: 0.1658  lr=0.000884\n"
          ],
          "name": "stdout"
        },
        {
          "output_type": "stream",
          "text": [
            "INFO:ptsemseg:Iter [15380/24000]  Loss: 1.0048  Time/Image: 0.1700  lr=0.000884\n"
          ],
          "name": "stderr"
        },
        {
          "output_type": "stream",
          "text": [
            "Iter [15380/24000]  Loss: 1.0048  Time/Image: 0.1700  lr=0.000884\n"
          ],
          "name": "stdout"
        },
        {
          "output_type": "stream",
          "text": [
            "INFO:ptsemseg:Iter [15390/24000]  Loss: 1.0033  Time/Image: 0.1648  lr=0.000884\n"
          ],
          "name": "stderr"
        },
        {
          "output_type": "stream",
          "text": [
            "Iter [15390/24000]  Loss: 1.0033  Time/Image: 0.1648  lr=0.000884\n"
          ],
          "name": "stdout"
        },
        {
          "output_type": "stream",
          "text": [
            "INFO:ptsemseg:Iter [15400/24000]  Loss: 1.0041  Time/Image: 0.1630  lr=0.000884\n"
          ],
          "name": "stderr"
        },
        {
          "output_type": "stream",
          "text": [
            "Iter [15400/24000]  Loss: 1.0041  Time/Image: 0.1630  lr=0.000884\n"
          ],
          "name": "stdout"
        },
        {
          "output_type": "stream",
          "text": [
            "INFO:ptsemseg:Iter [15410/24000]  Loss: 1.0029  Time/Image: 0.1693  lr=0.000884\n"
          ],
          "name": "stderr"
        },
        {
          "output_type": "stream",
          "text": [
            "Iter [15410/24000]  Loss: 1.0029  Time/Image: 0.1693  lr=0.000884\n"
          ],
          "name": "stdout"
        },
        {
          "output_type": "stream",
          "text": [
            "INFO:ptsemseg:Iter [15420/24000]  Loss: 1.0031  Time/Image: 0.1652  lr=0.000884\n"
          ],
          "name": "stderr"
        },
        {
          "output_type": "stream",
          "text": [
            "Iter [15420/24000]  Loss: 1.0031  Time/Image: 0.1652  lr=0.000884\n"
          ],
          "name": "stdout"
        },
        {
          "output_type": "stream",
          "text": [
            "INFO:ptsemseg:Iter [15430/24000]  Loss: 1.0033  Time/Image: 0.1681  lr=0.000884\n"
          ],
          "name": "stderr"
        },
        {
          "output_type": "stream",
          "text": [
            "Iter [15430/24000]  Loss: 1.0033  Time/Image: 0.1681  lr=0.000884\n"
          ],
          "name": "stdout"
        },
        {
          "output_type": "stream",
          "text": [
            "INFO:ptsemseg:Iter [15440/24000]  Loss: 1.0023  Time/Image: 0.1545  lr=0.000883\n"
          ],
          "name": "stderr"
        },
        {
          "output_type": "stream",
          "text": [
            "Iter [15440/24000]  Loss: 1.0023  Time/Image: 0.1545  lr=0.000883\n"
          ],
          "name": "stdout"
        },
        {
          "output_type": "stream",
          "text": [
            "INFO:ptsemseg:Iter [15450/24000]  Loss: 1.0021  Time/Image: 0.1653  lr=0.000883\n"
          ],
          "name": "stderr"
        },
        {
          "output_type": "stream",
          "text": [
            "Iter [15450/24000]  Loss: 1.0021  Time/Image: 0.1653  lr=0.000883\n"
          ],
          "name": "stdout"
        },
        {
          "output_type": "stream",
          "text": [
            "INFO:ptsemseg:Iter [15460/24000]  Loss: 1.0018  Time/Image: 0.1568  lr=0.000883\n"
          ],
          "name": "stderr"
        },
        {
          "output_type": "stream",
          "text": [
            "Iter [15460/24000]  Loss: 1.0018  Time/Image: 0.1568  lr=0.000883\n"
          ],
          "name": "stdout"
        },
        {
          "output_type": "stream",
          "text": [
            "INFO:ptsemseg:Iter [15470/24000]  Loss: 1.0009  Time/Image: 0.1115  lr=0.000883\n"
          ],
          "name": "stderr"
        },
        {
          "output_type": "stream",
          "text": [
            "Iter [15470/24000]  Loss: 1.0009  Time/Image: 0.1115  lr=0.000883\n"
          ],
          "name": "stdout"
        },
        {
          "output_type": "stream",
          "text": [
            "INFO:ptsemseg:Iter [15480/24000]  Loss: 1.0027  Time/Image: 0.1453  lr=0.000883\n"
          ],
          "name": "stderr"
        },
        {
          "output_type": "stream",
          "text": [
            "Iter [15480/24000]  Loss: 1.0027  Time/Image: 0.1453  lr=0.000883\n"
          ],
          "name": "stdout"
        },
        {
          "output_type": "stream",
          "text": [
            "INFO:ptsemseg:Iter [15490/24000]  Loss: 1.0025  Time/Image: 0.1682  lr=0.000883\n"
          ],
          "name": "stderr"
        },
        {
          "output_type": "stream",
          "text": [
            "Iter [15490/24000]  Loss: 1.0025  Time/Image: 0.1682  lr=0.000883\n"
          ],
          "name": "stdout"
        },
        {
          "output_type": "stream",
          "text": [
            "INFO:ptsemseg:Iter [15500/24000]  Loss: 1.0022  Time/Image: 0.1710  lr=0.000883\n"
          ],
          "name": "stderr"
        },
        {
          "output_type": "stream",
          "text": [
            "Iter [15500/24000]  Loss: 1.0022  Time/Image: 0.1710  lr=0.000883\n"
          ],
          "name": "stdout"
        },
        {
          "output_type": "stream",
          "text": [
            "84it [03:24,  2.44s/it]\n",
            "INFO:ptsemseg:Iter 15500 Val Loss: 0.9424\n",
            "INFO:ptsemseg:Overall Acc: \t: 0.9224825574918152\n",
            "INFO:ptsemseg:Mean Acc : \t: 0.597288919314323\n",
            "INFO:ptsemseg:FreqW Acc : \t: 0.8633699768379253\n",
            "INFO:ptsemseg:Mean IoU : \t: 0.5092648296846365\n",
            "INFO:ptsemseg:0: 0.9606939010662836\n",
            "INFO:ptsemseg:1: 0.7192884411712229\n",
            "INFO:ptsemseg:2: 0.8605172044007245\n",
            "INFO:ptsemseg:3: 0.28406532388784755\n",
            "INFO:ptsemseg:4: 0.33021815748967515\n",
            "INFO:ptsemseg:5: 0.43162797634828964\n",
            "INFO:ptsemseg:6: 0.35862510742553233\n",
            "INFO:ptsemseg:7: 0.5244605687880838\n",
            "INFO:ptsemseg:8: 0.8849154063777869\n",
            "INFO:ptsemseg:9: 0.4935916633460438\n",
            "INFO:ptsemseg:10: 0.9112078733035035\n",
            "INFO:ptsemseg:11: 0.6156933776949974\n",
            "INFO:ptsemseg:12: 0.1893498068130238\n",
            "INFO:ptsemseg:13: 0.8667666729432512\n",
            "INFO:ptsemseg:14: 0.19924874776292092\n",
            "INFO:ptsemseg:15: 0.3025090779805386\n",
            "INFO:ptsemseg:16: 0.020342732351543047\n",
            "INFO:ptsemseg:17: 0.1557715984692539\n",
            "INFO:ptsemseg:18: 0.5671381263875709\n"
          ],
          "name": "stderr"
        },
        {
          "output_type": "stream",
          "text": [
            "Overall Acc: \t 0.9224825574918152\n",
            "Mean Acc : \t 0.597288919314323\n",
            "FreqW Acc : \t 0.8633699768379253\n",
            "Mean IoU : \t 0.5092648296846365\n"
          ],
          "name": "stdout"
        },
        {
          "output_type": "stream",
          "text": [
            "INFO:ptsemseg:Iter [15510/24000]  Loss: 1.0502  Time/Image: 0.1414  lr=0.000883\n"
          ],
          "name": "stderr"
        },
        {
          "output_type": "stream",
          "text": [
            "Iter [15510/24000]  Loss: 1.0502  Time/Image: 0.1414  lr=0.000883\n"
          ],
          "name": "stdout"
        },
        {
          "output_type": "stream",
          "text": [
            "INFO:ptsemseg:Iter [15520/24000]  Loss: 0.9962  Time/Image: 0.1711  lr=0.000883\n"
          ],
          "name": "stderr"
        },
        {
          "output_type": "stream",
          "text": [
            "Iter [15520/24000]  Loss: 0.9962  Time/Image: 0.1711  lr=0.000883\n"
          ],
          "name": "stdout"
        },
        {
          "output_type": "stream",
          "text": [
            "INFO:ptsemseg:Iter [15530/24000]  Loss: 1.0256  Time/Image: 0.1671  lr=0.000883\n"
          ],
          "name": "stderr"
        },
        {
          "output_type": "stream",
          "text": [
            "Iter [15530/24000]  Loss: 1.0256  Time/Image: 0.1671  lr=0.000883\n"
          ],
          "name": "stdout"
        },
        {
          "output_type": "stream",
          "text": [
            "INFO:ptsemseg:Iter [15540/24000]  Loss: 1.0026  Time/Image: 0.1636  lr=0.000883\n"
          ],
          "name": "stderr"
        },
        {
          "output_type": "stream",
          "text": [
            "Iter [15540/24000]  Loss: 1.0026  Time/Image: 0.1636  lr=0.000883\n"
          ],
          "name": "stdout"
        },
        {
          "output_type": "stream",
          "text": [
            "INFO:ptsemseg:Iter [15550/24000]  Loss: 1.0072  Time/Image: 0.1609  lr=0.000883\n"
          ],
          "name": "stderr"
        },
        {
          "output_type": "stream",
          "text": [
            "Iter [15550/24000]  Loss: 1.0072  Time/Image: 0.1609  lr=0.000883\n"
          ],
          "name": "stdout"
        },
        {
          "output_type": "stream",
          "text": [
            "INFO:ptsemseg:Iter [15560/24000]  Loss: 1.0112  Time/Image: 0.1614  lr=0.000883\n"
          ],
          "name": "stderr"
        },
        {
          "output_type": "stream",
          "text": [
            "Iter [15560/24000]  Loss: 1.0112  Time/Image: 0.1614  lr=0.000883\n"
          ],
          "name": "stdout"
        },
        {
          "output_type": "stream",
          "text": [
            "INFO:ptsemseg:Iter [15570/24000]  Loss: 1.0058  Time/Image: 0.1633  lr=0.000882\n"
          ],
          "name": "stderr"
        },
        {
          "output_type": "stream",
          "text": [
            "Iter [15570/24000]  Loss: 1.0058  Time/Image: 0.1633  lr=0.000882\n"
          ],
          "name": "stdout"
        },
        {
          "output_type": "stream",
          "text": [
            "INFO:ptsemseg:Iter [15580/24000]  Loss: 0.9971  Time/Image: 0.1639  lr=0.000882\n"
          ],
          "name": "stderr"
        },
        {
          "output_type": "stream",
          "text": [
            "Iter [15580/24000]  Loss: 0.9971  Time/Image: 0.1639  lr=0.000882\n"
          ],
          "name": "stdout"
        },
        {
          "output_type": "stream",
          "text": [
            "INFO:ptsemseg:Iter [15590/24000]  Loss: 0.9968  Time/Image: 0.1648  lr=0.000882\n"
          ],
          "name": "stderr"
        },
        {
          "output_type": "stream",
          "text": [
            "Iter [15590/24000]  Loss: 0.9968  Time/Image: 0.1648  lr=0.000882\n"
          ],
          "name": "stdout"
        },
        {
          "output_type": "stream",
          "text": [
            "INFO:ptsemseg:Iter [15600/24000]  Loss: 1.0049  Time/Image: 0.1593  lr=0.000882\n"
          ],
          "name": "stderr"
        },
        {
          "output_type": "stream",
          "text": [
            "Iter [15600/24000]  Loss: 1.0049  Time/Image: 0.1593  lr=0.000882\n"
          ],
          "name": "stdout"
        },
        {
          "output_type": "stream",
          "text": [
            "INFO:ptsemseg:Iter [15610/24000]  Loss: 1.0026  Time/Image: 0.1654  lr=0.000882\n"
          ],
          "name": "stderr"
        },
        {
          "output_type": "stream",
          "text": [
            "Iter [15610/24000]  Loss: 1.0026  Time/Image: 0.1654  lr=0.000882\n"
          ],
          "name": "stdout"
        },
        {
          "output_type": "stream",
          "text": [
            "INFO:ptsemseg:Iter [15620/24000]  Loss: 1.0039  Time/Image: 0.1629  lr=0.000882\n"
          ],
          "name": "stderr"
        },
        {
          "output_type": "stream",
          "text": [
            "Iter [15620/24000]  Loss: 1.0039  Time/Image: 0.1629  lr=0.000882\n"
          ],
          "name": "stdout"
        },
        {
          "output_type": "stream",
          "text": [
            "INFO:ptsemseg:Iter [15630/24000]  Loss: 1.0085  Time/Image: 0.1654  lr=0.000882\n"
          ],
          "name": "stderr"
        },
        {
          "output_type": "stream",
          "text": [
            "Iter [15630/24000]  Loss: 1.0085  Time/Image: 0.1654  lr=0.000882\n"
          ],
          "name": "stdout"
        },
        {
          "output_type": "stream",
          "text": [
            "INFO:ptsemseg:Iter [15640/24000]  Loss: 1.0055  Time/Image: 0.1668  lr=0.000882\n"
          ],
          "name": "stderr"
        },
        {
          "output_type": "stream",
          "text": [
            "Iter [15640/24000]  Loss: 1.0055  Time/Image: 0.1668  lr=0.000882\n"
          ],
          "name": "stdout"
        },
        {
          "output_type": "stream",
          "text": [
            "INFO:ptsemseg:Iter [15650/24000]  Loss: 1.0020  Time/Image: 0.1624  lr=0.000882\n"
          ],
          "name": "stderr"
        },
        {
          "output_type": "stream",
          "text": [
            "Iter [15650/24000]  Loss: 1.0020  Time/Image: 0.1624  lr=0.000882\n"
          ],
          "name": "stdout"
        },
        {
          "output_type": "stream",
          "text": [
            "INFO:ptsemseg:Iter [15660/24000]  Loss: 1.0013  Time/Image: 0.1649  lr=0.000882\n"
          ],
          "name": "stderr"
        },
        {
          "output_type": "stream",
          "text": [
            "Iter [15660/24000]  Loss: 1.0013  Time/Image: 0.1649  lr=0.000882\n"
          ],
          "name": "stdout"
        },
        {
          "output_type": "stream",
          "text": [
            "INFO:ptsemseg:Iter [15670/24000]  Loss: 1.0013  Time/Image: 0.1651  lr=0.000882\n"
          ],
          "name": "stderr"
        },
        {
          "output_type": "stream",
          "text": [
            "Iter [15670/24000]  Loss: 1.0013  Time/Image: 0.1651  lr=0.000882\n"
          ],
          "name": "stdout"
        },
        {
          "output_type": "stream",
          "text": [
            "INFO:ptsemseg:Iter [15680/24000]  Loss: 1.0046  Time/Image: 0.1683  lr=0.000882\n"
          ],
          "name": "stderr"
        },
        {
          "output_type": "stream",
          "text": [
            "Iter [15680/24000]  Loss: 1.0046  Time/Image: 0.1683  lr=0.000882\n"
          ],
          "name": "stdout"
        },
        {
          "output_type": "stream",
          "text": [
            "INFO:ptsemseg:Iter [15690/24000]  Loss: 1.0076  Time/Image: 0.1630  lr=0.000882\n"
          ],
          "name": "stderr"
        },
        {
          "output_type": "stream",
          "text": [
            "Iter [15690/24000]  Loss: 1.0076  Time/Image: 0.1630  lr=0.000882\n"
          ],
          "name": "stdout"
        },
        {
          "output_type": "stream",
          "text": [
            "INFO:ptsemseg:Iter [15700/24000]  Loss: 1.0005  Time/Image: 0.1639  lr=0.000881\n"
          ],
          "name": "stderr"
        },
        {
          "output_type": "stream",
          "text": [
            "Iter [15700/24000]  Loss: 1.0005  Time/Image: 0.1639  lr=0.000881\n"
          ],
          "name": "stdout"
        },
        {
          "output_type": "stream",
          "text": [
            "INFO:ptsemseg:Iter [15710/24000]  Loss: 0.9994  Time/Image: 0.1644  lr=0.000881\n"
          ],
          "name": "stderr"
        },
        {
          "output_type": "stream",
          "text": [
            "Iter [15710/24000]  Loss: 0.9994  Time/Image: 0.1644  lr=0.000881\n"
          ],
          "name": "stdout"
        },
        {
          "output_type": "stream",
          "text": [
            "INFO:ptsemseg:Iter [15720/24000]  Loss: 1.0014  Time/Image: 0.1664  lr=0.000881\n"
          ],
          "name": "stderr"
        },
        {
          "output_type": "stream",
          "text": [
            "Iter [15720/24000]  Loss: 1.0014  Time/Image: 0.1664  lr=0.000881\n"
          ],
          "name": "stdout"
        },
        {
          "output_type": "stream",
          "text": [
            "INFO:ptsemseg:Iter [15730/24000]  Loss: 1.0038  Time/Image: 0.1652  lr=0.000881\n"
          ],
          "name": "stderr"
        },
        {
          "output_type": "stream",
          "text": [
            "Iter [15730/24000]  Loss: 1.0038  Time/Image: 0.1652  lr=0.000881\n"
          ],
          "name": "stdout"
        },
        {
          "output_type": "stream",
          "text": [
            "INFO:ptsemseg:Iter [15740/24000]  Loss: 1.0036  Time/Image: 0.1627  lr=0.000881\n"
          ],
          "name": "stderr"
        },
        {
          "output_type": "stream",
          "text": [
            "Iter [15740/24000]  Loss: 1.0036  Time/Image: 0.1627  lr=0.000881\n"
          ],
          "name": "stdout"
        },
        {
          "output_type": "stream",
          "text": [
            "INFO:ptsemseg:Iter [15750/24000]  Loss: 1.0039  Time/Image: 0.1631  lr=0.000881\n"
          ],
          "name": "stderr"
        },
        {
          "output_type": "stream",
          "text": [
            "Iter [15750/24000]  Loss: 1.0039  Time/Image: 0.1631  lr=0.000881\n"
          ],
          "name": "stdout"
        },
        {
          "output_type": "stream",
          "text": [
            "INFO:ptsemseg:Iter [15760/24000]  Loss: 1.0035  Time/Image: 0.1624  lr=0.000881\n"
          ],
          "name": "stderr"
        },
        {
          "output_type": "stream",
          "text": [
            "Iter [15760/24000]  Loss: 1.0035  Time/Image: 0.1624  lr=0.000881\n"
          ],
          "name": "stdout"
        },
        {
          "output_type": "stream",
          "text": [
            "INFO:ptsemseg:Iter [15770/24000]  Loss: 1.0042  Time/Image: 0.1705  lr=0.000881\n"
          ],
          "name": "stderr"
        },
        {
          "output_type": "stream",
          "text": [
            "Iter [15770/24000]  Loss: 1.0042  Time/Image: 0.1705  lr=0.000881\n"
          ],
          "name": "stdout"
        },
        {
          "output_type": "stream",
          "text": [
            "INFO:ptsemseg:Iter [15780/24000]  Loss: 1.0027  Time/Image: 0.1656  lr=0.000881\n"
          ],
          "name": "stderr"
        },
        {
          "output_type": "stream",
          "text": [
            "Iter [15780/24000]  Loss: 1.0027  Time/Image: 0.1656  lr=0.000881\n"
          ],
          "name": "stdout"
        },
        {
          "output_type": "stream",
          "text": [
            "INFO:ptsemseg:Iter [15790/24000]  Loss: 1.0034  Time/Image: 0.1634  lr=0.000881\n"
          ],
          "name": "stderr"
        },
        {
          "output_type": "stream",
          "text": [
            "Iter [15790/24000]  Loss: 1.0034  Time/Image: 0.1634  lr=0.000881\n"
          ],
          "name": "stdout"
        },
        {
          "output_type": "stream",
          "text": [
            "INFO:ptsemseg:Iter [15800/24000]  Loss: 1.0026  Time/Image: 0.1654  lr=0.000881\n"
          ],
          "name": "stderr"
        },
        {
          "output_type": "stream",
          "text": [
            "Iter [15800/24000]  Loss: 1.0026  Time/Image: 0.1654  lr=0.000881\n"
          ],
          "name": "stdout"
        },
        {
          "output_type": "stream",
          "text": [
            "INFO:ptsemseg:Iter [15810/24000]  Loss: 1.0017  Time/Image: 0.1628  lr=0.000881\n"
          ],
          "name": "stderr"
        },
        {
          "output_type": "stream",
          "text": [
            "Iter [15810/24000]  Loss: 1.0017  Time/Image: 0.1628  lr=0.000881\n"
          ],
          "name": "stdout"
        },
        {
          "output_type": "stream",
          "text": [
            "INFO:ptsemseg:Iter [15820/24000]  Loss: 0.9999  Time/Image: 0.1631  lr=0.000881\n"
          ],
          "name": "stderr"
        },
        {
          "output_type": "stream",
          "text": [
            "Iter [15820/24000]  Loss: 0.9999  Time/Image: 0.1631  lr=0.000881\n"
          ],
          "name": "stdout"
        },
        {
          "output_type": "stream",
          "text": [
            "INFO:ptsemseg:Iter [15830/24000]  Loss: 1.0010  Time/Image: 0.1668  lr=0.000880\n"
          ],
          "name": "stderr"
        },
        {
          "output_type": "stream",
          "text": [
            "Iter [15830/24000]  Loss: 1.0010  Time/Image: 0.1668  lr=0.000880\n"
          ],
          "name": "stdout"
        },
        {
          "output_type": "stream",
          "text": [
            "INFO:ptsemseg:Iter [15840/24000]  Loss: 1.0017  Time/Image: 0.1653  lr=0.000880\n"
          ],
          "name": "stderr"
        },
        {
          "output_type": "stream",
          "text": [
            "Iter [15840/24000]  Loss: 1.0017  Time/Image: 0.1653  lr=0.000880\n"
          ],
          "name": "stdout"
        },
        {
          "output_type": "stream",
          "text": [
            "INFO:ptsemseg:Iter [15850/24000]  Loss: 1.0014  Time/Image: 0.1655  lr=0.000880\n"
          ],
          "name": "stderr"
        },
        {
          "output_type": "stream",
          "text": [
            "Iter [15850/24000]  Loss: 1.0014  Time/Image: 0.1655  lr=0.000880\n"
          ],
          "name": "stdout"
        },
        {
          "output_type": "stream",
          "text": [
            "INFO:ptsemseg:Iter [15860/24000]  Loss: 1.0012  Time/Image: 0.1654  lr=0.000880\n"
          ],
          "name": "stderr"
        },
        {
          "output_type": "stream",
          "text": [
            "Iter [15860/24000]  Loss: 1.0012  Time/Image: 0.1654  lr=0.000880\n"
          ],
          "name": "stdout"
        },
        {
          "output_type": "stream",
          "text": [
            "INFO:ptsemseg:Iter [15870/24000]  Loss: 1.0012  Time/Image: 0.1619  lr=0.000880\n"
          ],
          "name": "stderr"
        },
        {
          "output_type": "stream",
          "text": [
            "Iter [15870/24000]  Loss: 1.0012  Time/Image: 0.1619  lr=0.000880\n"
          ],
          "name": "stdout"
        },
        {
          "output_type": "stream",
          "text": [
            "INFO:ptsemseg:Iter [15880/24000]  Loss: 1.0012  Time/Image: 0.1642  lr=0.000880\n"
          ],
          "name": "stderr"
        },
        {
          "output_type": "stream",
          "text": [
            "Iter [15880/24000]  Loss: 1.0012  Time/Image: 0.1642  lr=0.000880\n"
          ],
          "name": "stdout"
        },
        {
          "output_type": "stream",
          "text": [
            "INFO:ptsemseg:Iter [15890/24000]  Loss: 1.0002  Time/Image: 0.1682  lr=0.000880\n"
          ],
          "name": "stderr"
        },
        {
          "output_type": "stream",
          "text": [
            "Iter [15890/24000]  Loss: 1.0002  Time/Image: 0.1682  lr=0.000880\n"
          ],
          "name": "stdout"
        },
        {
          "output_type": "stream",
          "text": [
            "INFO:ptsemseg:Iter [15900/24000]  Loss: 0.9984  Time/Image: 0.1674  lr=0.000880\n"
          ],
          "name": "stderr"
        },
        {
          "output_type": "stream",
          "text": [
            "Iter [15900/24000]  Loss: 0.9984  Time/Image: 0.1674  lr=0.000880\n"
          ],
          "name": "stdout"
        },
        {
          "output_type": "stream",
          "text": [
            "INFO:ptsemseg:Iter [15910/24000]  Loss: 0.9988  Time/Image: 0.1647  lr=0.000880\n"
          ],
          "name": "stderr"
        },
        {
          "output_type": "stream",
          "text": [
            "Iter [15910/24000]  Loss: 0.9988  Time/Image: 0.1647  lr=0.000880\n"
          ],
          "name": "stdout"
        },
        {
          "output_type": "stream",
          "text": [
            "INFO:ptsemseg:Iter [15920/24000]  Loss: 1.0002  Time/Image: 0.1637  lr=0.000880\n"
          ],
          "name": "stderr"
        },
        {
          "output_type": "stream",
          "text": [
            "Iter [15920/24000]  Loss: 1.0002  Time/Image: 0.1637  lr=0.000880\n"
          ],
          "name": "stdout"
        },
        {
          "output_type": "stream",
          "text": [
            "INFO:ptsemseg:Iter [15930/24000]  Loss: 0.9993  Time/Image: 0.1625  lr=0.000880\n"
          ],
          "name": "stderr"
        },
        {
          "output_type": "stream",
          "text": [
            "Iter [15930/24000]  Loss: 0.9993  Time/Image: 0.1625  lr=0.000880\n"
          ],
          "name": "stdout"
        },
        {
          "output_type": "stream",
          "text": [
            "INFO:ptsemseg:Iter [15940/24000]  Loss: 1.0018  Time/Image: 0.1614  lr=0.000880\n"
          ],
          "name": "stderr"
        },
        {
          "output_type": "stream",
          "text": [
            "Iter [15940/24000]  Loss: 1.0018  Time/Image: 0.1614  lr=0.000880\n"
          ],
          "name": "stdout"
        },
        {
          "output_type": "stream",
          "text": [
            "INFO:ptsemseg:Iter [15950/24000]  Loss: 0.9997  Time/Image: 0.1623  lr=0.000880\n"
          ],
          "name": "stderr"
        },
        {
          "output_type": "stream",
          "text": [
            "Iter [15950/24000]  Loss: 0.9997  Time/Image: 0.1623  lr=0.000880\n"
          ],
          "name": "stdout"
        },
        {
          "output_type": "stream",
          "text": [
            "INFO:ptsemseg:Iter [15960/24000]  Loss: 0.9980  Time/Image: 0.1555  lr=0.000879\n"
          ],
          "name": "stderr"
        },
        {
          "output_type": "stream",
          "text": [
            "Iter [15960/24000]  Loss: 0.9980  Time/Image: 0.1555  lr=0.000879\n"
          ],
          "name": "stdout"
        },
        {
          "output_type": "stream",
          "text": [
            "INFO:ptsemseg:Iter [15970/24000]  Loss: 1.0030  Time/Image: 0.1027  lr=0.000879\n"
          ],
          "name": "stderr"
        },
        {
          "output_type": "stream",
          "text": [
            "Iter [15970/24000]  Loss: 1.0030  Time/Image: 0.1027  lr=0.000879\n"
          ],
          "name": "stdout"
        },
        {
          "output_type": "stream",
          "text": [
            "INFO:ptsemseg:Iter [15980/24000]  Loss: 1.0018  Time/Image: 0.1656  lr=0.000879\n"
          ],
          "name": "stderr"
        },
        {
          "output_type": "stream",
          "text": [
            "Iter [15980/24000]  Loss: 1.0018  Time/Image: 0.1656  lr=0.000879\n"
          ],
          "name": "stdout"
        },
        {
          "output_type": "stream",
          "text": [
            "INFO:ptsemseg:Iter [15990/24000]  Loss: 1.0009  Time/Image: 0.1639  lr=0.000879\n"
          ],
          "name": "stderr"
        },
        {
          "output_type": "stream",
          "text": [
            "Iter [15990/24000]  Loss: 1.0009  Time/Image: 0.1639  lr=0.000879\n"
          ],
          "name": "stdout"
        },
        {
          "output_type": "stream",
          "text": [
            "INFO:ptsemseg:Iter [16000/24000]  Loss: 1.0006  Time/Image: 0.1598  lr=0.000879\n"
          ],
          "name": "stderr"
        },
        {
          "output_type": "stream",
          "text": [
            "Iter [16000/24000]  Loss: 1.0006  Time/Image: 0.1598  lr=0.000879\n"
          ],
          "name": "stdout"
        },
        {
          "output_type": "stream",
          "text": [
            "84it [03:20,  2.39s/it]\n",
            "INFO:ptsemseg:Iter 16000 Val Loss: 1.0144\n",
            "INFO:ptsemseg:Overall Acc: \t: 0.9220639148967039\n",
            "INFO:ptsemseg:Mean Acc : \t: 0.590823178347026\n",
            "INFO:ptsemseg:FreqW Acc : \t: 0.8616428793087991\n",
            "INFO:ptsemseg:Mean IoU : \t: 0.5127871217446174\n",
            "INFO:ptsemseg:0: 0.9559212605483973\n",
            "INFO:ptsemseg:1: 0.7010726512741304\n",
            "INFO:ptsemseg:2: 0.8682584578223156\n",
            "INFO:ptsemseg:3: 0.3219711119707958\n",
            "INFO:ptsemseg:4: 0.3846027127643721\n",
            "INFO:ptsemseg:5: 0.4066494082505601\n",
            "INFO:ptsemseg:6: 0.3852396476382049\n",
            "INFO:ptsemseg:7: 0.5473927448824858\n",
            "INFO:ptsemseg:8: 0.8899359403326813\n",
            "INFO:ptsemseg:9: 0.4430073275672988\n",
            "INFO:ptsemseg:10: 0.9123061277017745\n",
            "INFO:ptsemseg:11: 0.6149812207960254\n",
            "INFO:ptsemseg:12: 0.1549065087456963\n",
            "INFO:ptsemseg:13: 0.8398507800026349\n",
            "INFO:ptsemseg:14: 0.05138716486784064\n",
            "INFO:ptsemseg:15: 0.398706903494292\n",
            "INFO:ptsemseg:16: 0.2239606548332893\n",
            "INFO:ptsemseg:17: 0.06694252023200949\n",
            "INFO:ptsemseg:18: 0.5758621694229249\n"
          ],
          "name": "stderr"
        },
        {
          "output_type": "stream",
          "text": [
            "Overall Acc: \t 0.9220639148967039\n",
            "Mean Acc : \t 0.590823178347026\n",
            "FreqW Acc : \t 0.8616428793087991\n",
            "Mean IoU : \t 0.5127871217446174\n"
          ],
          "name": "stdout"
        },
        {
          "output_type": "stream",
          "text": [
            "INFO:ptsemseg:Iter [16010/24000]  Loss: 1.0043  Time/Image: 0.1448  lr=0.000879\n"
          ],
          "name": "stderr"
        },
        {
          "output_type": "stream",
          "text": [
            "Iter [16010/24000]  Loss: 1.0043  Time/Image: 0.1448  lr=0.000879\n"
          ],
          "name": "stdout"
        },
        {
          "output_type": "stream",
          "text": [
            "INFO:ptsemseg:Iter [16020/24000]  Loss: 0.9792  Time/Image: 0.1653  lr=0.000879\n"
          ],
          "name": "stderr"
        },
        {
          "output_type": "stream",
          "text": [
            "Iter [16020/24000]  Loss: 0.9792  Time/Image: 0.1653  lr=0.000879\n"
          ],
          "name": "stdout"
        },
        {
          "output_type": "stream",
          "text": [
            "INFO:ptsemseg:Iter [16030/24000]  Loss: 1.0111  Time/Image: 0.1635  lr=0.000879\n"
          ],
          "name": "stderr"
        },
        {
          "output_type": "stream",
          "text": [
            "Iter [16030/24000]  Loss: 1.0111  Time/Image: 0.1635  lr=0.000879\n"
          ],
          "name": "stdout"
        },
        {
          "output_type": "stream",
          "text": [
            "INFO:ptsemseg:Iter [16040/24000]  Loss: 0.9844  Time/Image: 0.1618  lr=0.000879\n"
          ],
          "name": "stderr"
        },
        {
          "output_type": "stream",
          "text": [
            "Iter [16040/24000]  Loss: 0.9844  Time/Image: 0.1618  lr=0.000879\n"
          ],
          "name": "stdout"
        },
        {
          "output_type": "stream",
          "text": [
            "INFO:ptsemseg:Iter [16050/24000]  Loss: 0.9744  Time/Image: 0.1652  lr=0.000879\n"
          ],
          "name": "stderr"
        },
        {
          "output_type": "stream",
          "text": [
            "Iter [16050/24000]  Loss: 0.9744  Time/Image: 0.1652  lr=0.000879\n"
          ],
          "name": "stdout"
        },
        {
          "output_type": "stream",
          "text": [
            "INFO:ptsemseg:Iter [16060/24000]  Loss: 0.9769  Time/Image: 0.1622  lr=0.000879\n"
          ],
          "name": "stderr"
        },
        {
          "output_type": "stream",
          "text": [
            "Iter [16060/24000]  Loss: 0.9769  Time/Image: 0.1622  lr=0.000879\n"
          ],
          "name": "stdout"
        },
        {
          "output_type": "stream",
          "text": [
            "INFO:ptsemseg:Iter [16070/24000]  Loss: 0.9779  Time/Image: 0.1612  lr=0.000879\n"
          ],
          "name": "stderr"
        },
        {
          "output_type": "stream",
          "text": [
            "Iter [16070/24000]  Loss: 0.9779  Time/Image: 0.1612  lr=0.000879\n"
          ],
          "name": "stdout"
        },
        {
          "output_type": "stream",
          "text": [
            "INFO:ptsemseg:Iter [16080/24000]  Loss: 0.9735  Time/Image: 0.1624  lr=0.000879\n"
          ],
          "name": "stderr"
        },
        {
          "output_type": "stream",
          "text": [
            "Iter [16080/24000]  Loss: 0.9735  Time/Image: 0.1624  lr=0.000879\n"
          ],
          "name": "stdout"
        },
        {
          "output_type": "stream",
          "text": [
            "INFO:ptsemseg:Iter [16090/24000]  Loss: 0.9707  Time/Image: 0.1589  lr=0.000878\n"
          ],
          "name": "stderr"
        },
        {
          "output_type": "stream",
          "text": [
            "Iter [16090/24000]  Loss: 0.9707  Time/Image: 0.1589  lr=0.000878\n"
          ],
          "name": "stdout"
        },
        {
          "output_type": "stream",
          "text": [
            "INFO:ptsemseg:Iter [16100/24000]  Loss: 0.9742  Time/Image: 0.1573  lr=0.000878\n"
          ],
          "name": "stderr"
        },
        {
          "output_type": "stream",
          "text": [
            "Iter [16100/24000]  Loss: 0.9742  Time/Image: 0.1573  lr=0.000878\n"
          ],
          "name": "stdout"
        },
        {
          "output_type": "stream",
          "text": [
            "INFO:ptsemseg:Iter [16110/24000]  Loss: 0.9811  Time/Image: 0.1668  lr=0.000878\n"
          ],
          "name": "stderr"
        },
        {
          "output_type": "stream",
          "text": [
            "Iter [16110/24000]  Loss: 0.9811  Time/Image: 0.1668  lr=0.000878\n"
          ],
          "name": "stdout"
        },
        {
          "output_type": "stream",
          "text": [
            "INFO:ptsemseg:Iter [16120/24000]  Loss: 0.9834  Time/Image: 0.1636  lr=0.000878\n"
          ],
          "name": "stderr"
        },
        {
          "output_type": "stream",
          "text": [
            "Iter [16120/24000]  Loss: 0.9834  Time/Image: 0.1636  lr=0.000878\n"
          ],
          "name": "stdout"
        },
        {
          "output_type": "stream",
          "text": [
            "INFO:ptsemseg:Iter [16130/24000]  Loss: 0.9833  Time/Image: 0.1591  lr=0.000878\n"
          ],
          "name": "stderr"
        },
        {
          "output_type": "stream",
          "text": [
            "Iter [16130/24000]  Loss: 0.9833  Time/Image: 0.1591  lr=0.000878\n"
          ],
          "name": "stdout"
        },
        {
          "output_type": "stream",
          "text": [
            "INFO:ptsemseg:Iter [16140/24000]  Loss: 0.9825  Time/Image: 0.1609  lr=0.000878\n"
          ],
          "name": "stderr"
        },
        {
          "output_type": "stream",
          "text": [
            "Iter [16140/24000]  Loss: 0.9825  Time/Image: 0.1609  lr=0.000878\n"
          ],
          "name": "stdout"
        },
        {
          "output_type": "stream",
          "text": [
            "INFO:ptsemseg:Iter [16150/24000]  Loss: 0.9865  Time/Image: 0.1607  lr=0.000878\n"
          ],
          "name": "stderr"
        },
        {
          "output_type": "stream",
          "text": [
            "Iter [16150/24000]  Loss: 0.9865  Time/Image: 0.1607  lr=0.000878\n"
          ],
          "name": "stdout"
        },
        {
          "output_type": "stream",
          "text": [
            "INFO:ptsemseg:Iter [16160/24000]  Loss: 0.9864  Time/Image: 0.1617  lr=0.000878\n"
          ],
          "name": "stderr"
        },
        {
          "output_type": "stream",
          "text": [
            "Iter [16160/24000]  Loss: 0.9864  Time/Image: 0.1617  lr=0.000878\n"
          ],
          "name": "stdout"
        },
        {
          "output_type": "stream",
          "text": [
            "INFO:ptsemseg:Iter [16170/24000]  Loss: 0.9838  Time/Image: 0.1672  lr=0.000878\n"
          ],
          "name": "stderr"
        },
        {
          "output_type": "stream",
          "text": [
            "Iter [16170/24000]  Loss: 0.9838  Time/Image: 0.1672  lr=0.000878\n"
          ],
          "name": "stdout"
        },
        {
          "output_type": "stream",
          "text": [
            "INFO:ptsemseg:Iter [16180/24000]  Loss: 0.9862  Time/Image: 0.1628  lr=0.000878\n"
          ],
          "name": "stderr"
        },
        {
          "output_type": "stream",
          "text": [
            "Iter [16180/24000]  Loss: 0.9862  Time/Image: 0.1628  lr=0.000878\n"
          ],
          "name": "stdout"
        },
        {
          "output_type": "stream",
          "text": [
            "INFO:ptsemseg:Iter [16190/24000]  Loss: 0.9828  Time/Image: 0.1656  lr=0.000878\n"
          ],
          "name": "stderr"
        },
        {
          "output_type": "stream",
          "text": [
            "Iter [16190/24000]  Loss: 0.9828  Time/Image: 0.1656  lr=0.000878\n"
          ],
          "name": "stdout"
        },
        {
          "output_type": "stream",
          "text": [
            "INFO:ptsemseg:Iter [16200/24000]  Loss: 0.9869  Time/Image: 0.1652  lr=0.000878\n"
          ],
          "name": "stderr"
        },
        {
          "output_type": "stream",
          "text": [
            "Iter [16200/24000]  Loss: 0.9869  Time/Image: 0.1652  lr=0.000878\n"
          ],
          "name": "stdout"
        },
        {
          "output_type": "stream",
          "text": [
            "INFO:ptsemseg:Iter [16210/24000]  Loss: 0.9881  Time/Image: 0.1655  lr=0.000878\n"
          ],
          "name": "stderr"
        },
        {
          "output_type": "stream",
          "text": [
            "Iter [16210/24000]  Loss: 0.9881  Time/Image: 0.1655  lr=0.000878\n"
          ],
          "name": "stdout"
        },
        {
          "output_type": "stream",
          "text": [
            "INFO:ptsemseg:Iter [16220/24000]  Loss: 0.9874  Time/Image: 0.1632  lr=0.000877\n"
          ],
          "name": "stderr"
        },
        {
          "output_type": "stream",
          "text": [
            "Iter [16220/24000]  Loss: 0.9874  Time/Image: 0.1632  lr=0.000877\n"
          ],
          "name": "stdout"
        },
        {
          "output_type": "stream",
          "text": [
            "INFO:ptsemseg:Iter [16230/24000]  Loss: 0.9857  Time/Image: 0.1678  lr=0.000877\n"
          ],
          "name": "stderr"
        },
        {
          "output_type": "stream",
          "text": [
            "Iter [16230/24000]  Loss: 0.9857  Time/Image: 0.1678  lr=0.000877\n"
          ],
          "name": "stdout"
        },
        {
          "output_type": "stream",
          "text": [
            "INFO:ptsemseg:Iter [16240/24000]  Loss: 0.9889  Time/Image: 0.1635  lr=0.000877\n"
          ],
          "name": "stderr"
        },
        {
          "output_type": "stream",
          "text": [
            "Iter [16240/24000]  Loss: 0.9889  Time/Image: 0.1635  lr=0.000877\n"
          ],
          "name": "stdout"
        },
        {
          "output_type": "stream",
          "text": [
            "INFO:ptsemseg:Iter [16250/24000]  Loss: 0.9911  Time/Image: 0.1687  lr=0.000877\n"
          ],
          "name": "stderr"
        },
        {
          "output_type": "stream",
          "text": [
            "Iter [16250/24000]  Loss: 0.9911  Time/Image: 0.1687  lr=0.000877\n"
          ],
          "name": "stdout"
        },
        {
          "output_type": "stream",
          "text": [
            "INFO:ptsemseg:Iter [16260/24000]  Loss: 0.9921  Time/Image: 0.1651  lr=0.000877\n"
          ],
          "name": "stderr"
        },
        {
          "output_type": "stream",
          "text": [
            "Iter [16260/24000]  Loss: 0.9921  Time/Image: 0.1651  lr=0.000877\n"
          ],
          "name": "stdout"
        },
        {
          "output_type": "stream",
          "text": [
            "INFO:ptsemseg:Iter [16270/24000]  Loss: 0.9929  Time/Image: 0.1640  lr=0.000877\n"
          ],
          "name": "stderr"
        },
        {
          "output_type": "stream",
          "text": [
            "Iter [16270/24000]  Loss: 0.9929  Time/Image: 0.1640  lr=0.000877\n"
          ],
          "name": "stdout"
        },
        {
          "output_type": "stream",
          "text": [
            "INFO:ptsemseg:Iter [16280/24000]  Loss: 0.9939  Time/Image: 0.1680  lr=0.000877\n"
          ],
          "name": "stderr"
        },
        {
          "output_type": "stream",
          "text": [
            "Iter [16280/24000]  Loss: 0.9939  Time/Image: 0.1680  lr=0.000877\n"
          ],
          "name": "stdout"
        },
        {
          "output_type": "stream",
          "text": [
            "INFO:ptsemseg:Iter [16290/24000]  Loss: 0.9927  Time/Image: 0.1660  lr=0.000877\n"
          ],
          "name": "stderr"
        },
        {
          "output_type": "stream",
          "text": [
            "Iter [16290/24000]  Loss: 0.9927  Time/Image: 0.1660  lr=0.000877\n"
          ],
          "name": "stdout"
        },
        {
          "output_type": "stream",
          "text": [
            "INFO:ptsemseg:Iter [16300/24000]  Loss: 0.9928  Time/Image: 0.1620  lr=0.000877\n"
          ],
          "name": "stderr"
        },
        {
          "output_type": "stream",
          "text": [
            "Iter [16300/24000]  Loss: 0.9928  Time/Image: 0.1620  lr=0.000877\n"
          ],
          "name": "stdout"
        },
        {
          "output_type": "stream",
          "text": [
            "INFO:ptsemseg:Iter [16310/24000]  Loss: 0.9923  Time/Image: 0.1622  lr=0.000877\n"
          ],
          "name": "stderr"
        },
        {
          "output_type": "stream",
          "text": [
            "Iter [16310/24000]  Loss: 0.9923  Time/Image: 0.1622  lr=0.000877\n"
          ],
          "name": "stdout"
        },
        {
          "output_type": "stream",
          "text": [
            "INFO:ptsemseg:Iter [16320/24000]  Loss: 0.9938  Time/Image: 0.1663  lr=0.000877\n"
          ],
          "name": "stderr"
        },
        {
          "output_type": "stream",
          "text": [
            "Iter [16320/24000]  Loss: 0.9938  Time/Image: 0.1663  lr=0.000877\n"
          ],
          "name": "stdout"
        },
        {
          "output_type": "stream",
          "text": [
            "INFO:ptsemseg:Iter [16330/24000]  Loss: 0.9936  Time/Image: 0.1674  lr=0.000877\n"
          ],
          "name": "stderr"
        },
        {
          "output_type": "stream",
          "text": [
            "Iter [16330/24000]  Loss: 0.9936  Time/Image: 0.1674  lr=0.000877\n"
          ],
          "name": "stdout"
        },
        {
          "output_type": "stream",
          "text": [
            "INFO:ptsemseg:Iter [16340/24000]  Loss: 0.9937  Time/Image: 0.1675  lr=0.000877\n"
          ],
          "name": "stderr"
        },
        {
          "output_type": "stream",
          "text": [
            "Iter [16340/24000]  Loss: 0.9937  Time/Image: 0.1675  lr=0.000877\n"
          ],
          "name": "stdout"
        },
        {
          "output_type": "stream",
          "text": [
            "INFO:ptsemseg:Iter [16350/24000]  Loss: 0.9966  Time/Image: 0.1675  lr=0.000877\n"
          ],
          "name": "stderr"
        },
        {
          "output_type": "stream",
          "text": [
            "Iter [16350/24000]  Loss: 0.9966  Time/Image: 0.1675  lr=0.000877\n"
          ],
          "name": "stdout"
        },
        {
          "output_type": "stream",
          "text": [
            "INFO:ptsemseg:Iter [16360/24000]  Loss: 0.9963  Time/Image: 0.1647  lr=0.000876\n"
          ],
          "name": "stderr"
        },
        {
          "output_type": "stream",
          "text": [
            "Iter [16360/24000]  Loss: 0.9963  Time/Image: 0.1647  lr=0.000876\n"
          ],
          "name": "stdout"
        },
        {
          "output_type": "stream",
          "text": [
            "INFO:ptsemseg:Iter [16370/24000]  Loss: 0.9966  Time/Image: 0.1654  lr=0.000876\n"
          ],
          "name": "stderr"
        },
        {
          "output_type": "stream",
          "text": [
            "Iter [16370/24000]  Loss: 0.9966  Time/Image: 0.1654  lr=0.000876\n"
          ],
          "name": "stdout"
        },
        {
          "output_type": "stream",
          "text": [
            "INFO:ptsemseg:Iter [16380/24000]  Loss: 0.9963  Time/Image: 0.1647  lr=0.000876\n"
          ],
          "name": "stderr"
        },
        {
          "output_type": "stream",
          "text": [
            "Iter [16380/24000]  Loss: 0.9963  Time/Image: 0.1647  lr=0.000876\n"
          ],
          "name": "stdout"
        },
        {
          "output_type": "stream",
          "text": [
            "INFO:ptsemseg:Iter [16390/24000]  Loss: 0.9956  Time/Image: 0.1643  lr=0.000876\n"
          ],
          "name": "stderr"
        },
        {
          "output_type": "stream",
          "text": [
            "Iter [16390/24000]  Loss: 0.9956  Time/Image: 0.1643  lr=0.000876\n"
          ],
          "name": "stdout"
        },
        {
          "output_type": "stream",
          "text": [
            "INFO:ptsemseg:Iter [16400/24000]  Loss: 0.9973  Time/Image: 0.1632  lr=0.000876\n"
          ],
          "name": "stderr"
        },
        {
          "output_type": "stream",
          "text": [
            "Iter [16400/24000]  Loss: 0.9973  Time/Image: 0.1632  lr=0.000876\n"
          ],
          "name": "stdout"
        },
        {
          "output_type": "stream",
          "text": [
            "INFO:ptsemseg:Iter [16410/24000]  Loss: 0.9962  Time/Image: 0.1643  lr=0.000876\n"
          ],
          "name": "stderr"
        },
        {
          "output_type": "stream",
          "text": [
            "Iter [16410/24000]  Loss: 0.9962  Time/Image: 0.1643  lr=0.000876\n"
          ],
          "name": "stdout"
        },
        {
          "output_type": "stream",
          "text": [
            "INFO:ptsemseg:Iter [16420/24000]  Loss: 0.9959  Time/Image: 0.1607  lr=0.000876\n"
          ],
          "name": "stderr"
        },
        {
          "output_type": "stream",
          "text": [
            "Iter [16420/24000]  Loss: 0.9959  Time/Image: 0.1607  lr=0.000876\n"
          ],
          "name": "stdout"
        },
        {
          "output_type": "stream",
          "text": [
            "INFO:ptsemseg:Iter [16430/24000]  Loss: 0.9951  Time/Image: 0.1627  lr=0.000876\n"
          ],
          "name": "stderr"
        },
        {
          "output_type": "stream",
          "text": [
            "Iter [16430/24000]  Loss: 0.9951  Time/Image: 0.1627  lr=0.000876\n"
          ],
          "name": "stdout"
        },
        {
          "output_type": "stream",
          "text": [
            "INFO:ptsemseg:Iter [16440/24000]  Loss: 0.9942  Time/Image: 0.1572  lr=0.000876\n"
          ],
          "name": "stderr"
        },
        {
          "output_type": "stream",
          "text": [
            "Iter [16440/24000]  Loss: 0.9942  Time/Image: 0.1572  lr=0.000876\n"
          ],
          "name": "stdout"
        },
        {
          "output_type": "stream",
          "text": [
            "INFO:ptsemseg:Iter [16450/24000]  Loss: 0.9954  Time/Image: 0.1508  lr=0.000876\n"
          ],
          "name": "stderr"
        },
        {
          "output_type": "stream",
          "text": [
            "Iter [16450/24000]  Loss: 0.9954  Time/Image: 0.1508  lr=0.000876\n"
          ],
          "name": "stdout"
        },
        {
          "output_type": "stream",
          "text": [
            "INFO:ptsemseg:Iter [16460/24000]  Loss: 0.9940  Time/Image: 0.1219  lr=0.000876\n"
          ],
          "name": "stderr"
        },
        {
          "output_type": "stream",
          "text": [
            "Iter [16460/24000]  Loss: 0.9940  Time/Image: 0.1219  lr=0.000876\n"
          ],
          "name": "stdout"
        },
        {
          "output_type": "stream",
          "text": [
            "INFO:ptsemseg:Iter [16470/24000]  Loss: 0.9945  Time/Image: 0.1265  lr=0.000876\n"
          ],
          "name": "stderr"
        },
        {
          "output_type": "stream",
          "text": [
            "Iter [16470/24000]  Loss: 0.9945  Time/Image: 0.1265  lr=0.000876\n"
          ],
          "name": "stdout"
        },
        {
          "output_type": "stream",
          "text": [
            "INFO:ptsemseg:Iter [16480/24000]  Loss: 0.9928  Time/Image: 0.1642  lr=0.000876\n"
          ],
          "name": "stderr"
        },
        {
          "output_type": "stream",
          "text": [
            "Iter [16480/24000]  Loss: 0.9928  Time/Image: 0.1642  lr=0.000876\n"
          ],
          "name": "stdout"
        },
        {
          "output_type": "stream",
          "text": [
            "INFO:ptsemseg:Iter [16490/24000]  Loss: 0.9935  Time/Image: 0.1629  lr=0.000875\n"
          ],
          "name": "stderr"
        },
        {
          "output_type": "stream",
          "text": [
            "Iter [16490/24000]  Loss: 0.9935  Time/Image: 0.1629  lr=0.000875\n"
          ],
          "name": "stdout"
        },
        {
          "output_type": "stream",
          "text": [
            "INFO:ptsemseg:Iter [16500/24000]  Loss: 0.9925  Time/Image: 0.1660  lr=0.000875\n"
          ],
          "name": "stderr"
        },
        {
          "output_type": "stream",
          "text": [
            "Iter [16500/24000]  Loss: 0.9925  Time/Image: 0.1660  lr=0.000875\n"
          ],
          "name": "stdout"
        },
        {
          "output_type": "stream",
          "text": [
            "84it [03:15,  2.33s/it]\n",
            "INFO:ptsemseg:Iter 16500 Val Loss: 1.0277\n",
            "INFO:ptsemseg:Overall Acc: \t: 0.9228538193628504\n",
            "INFO:ptsemseg:Mean Acc : \t: 0.62166754439205\n",
            "INFO:ptsemseg:FreqW Acc : \t: 0.8660258356482513\n",
            "INFO:ptsemseg:Mean IoU : \t: 0.5192949465990236\n",
            "INFO:ptsemseg:0: 0.960846721332044\n",
            "INFO:ptsemseg:1: 0.7113419857691228\n",
            "INFO:ptsemseg:2: 0.8697545737567316\n",
            "INFO:ptsemseg:3: 0.29490141088991373\n",
            "INFO:ptsemseg:4: 0.3832387191174316\n",
            "INFO:ptsemseg:5: 0.3969024619817487\n",
            "INFO:ptsemseg:6: 0.40011746717386026\n",
            "INFO:ptsemseg:7: 0.5622253253832201\n",
            "INFO:ptsemseg:8: 0.8898580174420582\n",
            "INFO:ptsemseg:9: 0.401697966410237\n",
            "INFO:ptsemseg:10: 0.9202379718077882\n",
            "INFO:ptsemseg:11: 0.6193446417852301\n",
            "INFO:ptsemseg:12: 0.22889232674902849\n",
            "INFO:ptsemseg:13: 0.8706891522057573\n",
            "INFO:ptsemseg:14: 0.14790875384270757\n",
            "INFO:ptsemseg:15: 0.34930270063984087\n",
            "INFO:ptsemseg:16: 0.21160322717567975\n",
            "INFO:ptsemseg:17: 0.1276657647785124\n",
            "INFO:ptsemseg:18: 0.5200747971405355\n"
          ],
          "name": "stderr"
        },
        {
          "output_type": "stream",
          "text": [
            "Overall Acc: \t 0.9228538193628504\n",
            "Mean Acc : \t 0.62166754439205\n",
            "FreqW Acc : \t 0.8660258356482513\n",
            "Mean IoU : \t 0.5192949465990236\n"
          ],
          "name": "stdout"
        },
        {
          "output_type": "stream",
          "text": [
            "INFO:ptsemseg:Iter [16510/24000]  Loss: 1.0533  Time/Image: 0.1404  lr=0.000875\n"
          ],
          "name": "stderr"
        },
        {
          "output_type": "stream",
          "text": [
            "Iter [16510/24000]  Loss: 1.0533  Time/Image: 0.1404  lr=0.000875\n"
          ],
          "name": "stdout"
        },
        {
          "output_type": "stream",
          "text": [
            "INFO:ptsemseg:Iter [16520/24000]  Loss: 1.0012  Time/Image: 0.1643  lr=0.000875\n"
          ],
          "name": "stderr"
        },
        {
          "output_type": "stream",
          "text": [
            "Iter [16520/24000]  Loss: 1.0012  Time/Image: 0.1643  lr=0.000875\n"
          ],
          "name": "stdout"
        },
        {
          "output_type": "stream",
          "text": [
            "INFO:ptsemseg:Iter [16530/24000]  Loss: 0.9794  Time/Image: 0.1622  lr=0.000875\n"
          ],
          "name": "stderr"
        },
        {
          "output_type": "stream",
          "text": [
            "Iter [16530/24000]  Loss: 0.9794  Time/Image: 0.1622  lr=0.000875\n"
          ],
          "name": "stdout"
        },
        {
          "output_type": "stream",
          "text": [
            "INFO:ptsemseg:Iter [16540/24000]  Loss: 0.9944  Time/Image: 0.1630  lr=0.000875\n"
          ],
          "name": "stderr"
        },
        {
          "output_type": "stream",
          "text": [
            "Iter [16540/24000]  Loss: 0.9944  Time/Image: 0.1630  lr=0.000875\n"
          ],
          "name": "stdout"
        },
        {
          "output_type": "stream",
          "text": [
            "INFO:ptsemseg:Iter [16550/24000]  Loss: 0.9875  Time/Image: 0.1608  lr=0.000875\n"
          ],
          "name": "stderr"
        },
        {
          "output_type": "stream",
          "text": [
            "Iter [16550/24000]  Loss: 0.9875  Time/Image: 0.1608  lr=0.000875\n"
          ],
          "name": "stdout"
        },
        {
          "output_type": "stream",
          "text": [
            "INFO:ptsemseg:Iter [16560/24000]  Loss: 0.9818  Time/Image: 0.1631  lr=0.000875\n"
          ],
          "name": "stderr"
        },
        {
          "output_type": "stream",
          "text": [
            "Iter [16560/24000]  Loss: 0.9818  Time/Image: 0.1631  lr=0.000875\n"
          ],
          "name": "stdout"
        },
        {
          "output_type": "stream",
          "text": [
            "INFO:ptsemseg:Iter [16570/24000]  Loss: 0.9868  Time/Image: 0.1612  lr=0.000875\n"
          ],
          "name": "stderr"
        },
        {
          "output_type": "stream",
          "text": [
            "Iter [16570/24000]  Loss: 0.9868  Time/Image: 0.1612  lr=0.000875\n"
          ],
          "name": "stdout"
        },
        {
          "output_type": "stream",
          "text": [
            "INFO:ptsemseg:Iter [16580/24000]  Loss: 0.9833  Time/Image: 0.1613  lr=0.000875\n"
          ],
          "name": "stderr"
        },
        {
          "output_type": "stream",
          "text": [
            "Iter [16580/24000]  Loss: 0.9833  Time/Image: 0.1613  lr=0.000875\n"
          ],
          "name": "stdout"
        },
        {
          "output_type": "stream",
          "text": [
            "INFO:ptsemseg:Iter [16590/24000]  Loss: 0.9816  Time/Image: 0.1648  lr=0.000875\n"
          ],
          "name": "stderr"
        },
        {
          "output_type": "stream",
          "text": [
            "Iter [16590/24000]  Loss: 0.9816  Time/Image: 0.1648  lr=0.000875\n"
          ],
          "name": "stdout"
        },
        {
          "output_type": "stream",
          "text": [
            "INFO:ptsemseg:Iter [16600/24000]  Loss: 0.9861  Time/Image: 0.1608  lr=0.000875\n"
          ],
          "name": "stderr"
        },
        {
          "output_type": "stream",
          "text": [
            "Iter [16600/24000]  Loss: 0.9861  Time/Image: 0.1608  lr=0.000875\n"
          ],
          "name": "stdout"
        },
        {
          "output_type": "stream",
          "text": [
            "INFO:ptsemseg:Iter [16610/24000]  Loss: 0.9892  Time/Image: 0.1655  lr=0.000875\n"
          ],
          "name": "stderr"
        },
        {
          "output_type": "stream",
          "text": [
            "Iter [16610/24000]  Loss: 0.9892  Time/Image: 0.1655  lr=0.000875\n"
          ],
          "name": "stdout"
        },
        {
          "output_type": "stream",
          "text": [
            "INFO:ptsemseg:Iter [16620/24000]  Loss: 0.9914  Time/Image: 0.1624  lr=0.000874\n"
          ],
          "name": "stderr"
        },
        {
          "output_type": "stream",
          "text": [
            "Iter [16620/24000]  Loss: 0.9914  Time/Image: 0.1624  lr=0.000874\n"
          ],
          "name": "stdout"
        },
        {
          "output_type": "stream",
          "text": [
            "INFO:ptsemseg:Iter [16630/24000]  Loss: 0.9861  Time/Image: 0.1618  lr=0.000874\n"
          ],
          "name": "stderr"
        },
        {
          "output_type": "stream",
          "text": [
            "Iter [16630/24000]  Loss: 0.9861  Time/Image: 0.1618  lr=0.000874\n"
          ],
          "name": "stdout"
        },
        {
          "output_type": "stream",
          "text": [
            "INFO:ptsemseg:Iter [16640/24000]  Loss: 0.9874  Time/Image: 0.1611  lr=0.000874\n"
          ],
          "name": "stderr"
        },
        {
          "output_type": "stream",
          "text": [
            "Iter [16640/24000]  Loss: 0.9874  Time/Image: 0.1611  lr=0.000874\n"
          ],
          "name": "stdout"
        },
        {
          "output_type": "stream",
          "text": [
            "INFO:ptsemseg:Iter [16650/24000]  Loss: 0.9899  Time/Image: 0.1604  lr=0.000874\n"
          ],
          "name": "stderr"
        },
        {
          "output_type": "stream",
          "text": [
            "Iter [16650/24000]  Loss: 0.9899  Time/Image: 0.1604  lr=0.000874\n"
          ],
          "name": "stdout"
        },
        {
          "output_type": "stream",
          "text": [
            "INFO:ptsemseg:Iter [16660/24000]  Loss: 0.9890  Time/Image: 0.1647  lr=0.000874\n"
          ],
          "name": "stderr"
        },
        {
          "output_type": "stream",
          "text": [
            "Iter [16660/24000]  Loss: 0.9890  Time/Image: 0.1647  lr=0.000874\n"
          ],
          "name": "stdout"
        },
        {
          "output_type": "stream",
          "text": [
            "INFO:ptsemseg:Iter [16670/24000]  Loss: 0.9900  Time/Image: 0.1630  lr=0.000874\n"
          ],
          "name": "stderr"
        },
        {
          "output_type": "stream",
          "text": [
            "Iter [16670/24000]  Loss: 0.9900  Time/Image: 0.1630  lr=0.000874\n"
          ],
          "name": "stdout"
        },
        {
          "output_type": "stream",
          "text": [
            "INFO:ptsemseg:Iter [16680/24000]  Loss: 0.9960  Time/Image: 0.1651  lr=0.000874\n"
          ],
          "name": "stderr"
        },
        {
          "output_type": "stream",
          "text": [
            "Iter [16680/24000]  Loss: 0.9960  Time/Image: 0.1651  lr=0.000874\n"
          ],
          "name": "stdout"
        },
        {
          "output_type": "stream",
          "text": [
            "INFO:ptsemseg:Iter [16690/24000]  Loss: 0.9923  Time/Image: 0.1636  lr=0.000874\n"
          ],
          "name": "stderr"
        },
        {
          "output_type": "stream",
          "text": [
            "Iter [16690/24000]  Loss: 0.9923  Time/Image: 0.1636  lr=0.000874\n"
          ],
          "name": "stdout"
        },
        {
          "output_type": "stream",
          "text": [
            "INFO:ptsemseg:Iter [16700/24000]  Loss: 0.9876  Time/Image: 0.1653  lr=0.000874\n"
          ],
          "name": "stderr"
        },
        {
          "output_type": "stream",
          "text": [
            "Iter [16700/24000]  Loss: 0.9876  Time/Image: 0.1653  lr=0.000874\n"
          ],
          "name": "stdout"
        },
        {
          "output_type": "stream",
          "text": [
            "INFO:ptsemseg:Iter [16710/24000]  Loss: 0.9912  Time/Image: 0.1665  lr=0.000874\n"
          ],
          "name": "stderr"
        },
        {
          "output_type": "stream",
          "text": [
            "Iter [16710/24000]  Loss: 0.9912  Time/Image: 0.1665  lr=0.000874\n"
          ],
          "name": "stdout"
        },
        {
          "output_type": "stream",
          "text": [
            "INFO:ptsemseg:Iter [16720/24000]  Loss: 0.9909  Time/Image: 0.1617  lr=0.000874\n"
          ],
          "name": "stderr"
        },
        {
          "output_type": "stream",
          "text": [
            "Iter [16720/24000]  Loss: 0.9909  Time/Image: 0.1617  lr=0.000874\n"
          ],
          "name": "stdout"
        },
        {
          "output_type": "stream",
          "text": [
            "INFO:ptsemseg:Iter [16730/24000]  Loss: 0.9949  Time/Image: 0.1642  lr=0.000874\n"
          ],
          "name": "stderr"
        },
        {
          "output_type": "stream",
          "text": [
            "Iter [16730/24000]  Loss: 0.9949  Time/Image: 0.1642  lr=0.000874\n"
          ],
          "name": "stdout"
        },
        {
          "output_type": "stream",
          "text": [
            "INFO:ptsemseg:Iter [16740/24000]  Loss: 0.9930  Time/Image: 0.1663  lr=0.000874\n"
          ],
          "name": "stderr"
        },
        {
          "output_type": "stream",
          "text": [
            "Iter [16740/24000]  Loss: 0.9930  Time/Image: 0.1663  lr=0.000874\n"
          ],
          "name": "stdout"
        },
        {
          "output_type": "stream",
          "text": [
            "INFO:ptsemseg:Iter [16750/24000]  Loss: 0.9924  Time/Image: 0.1635  lr=0.000873\n"
          ],
          "name": "stderr"
        },
        {
          "output_type": "stream",
          "text": [
            "Iter [16750/24000]  Loss: 0.9924  Time/Image: 0.1635  lr=0.000873\n"
          ],
          "name": "stdout"
        },
        {
          "output_type": "stream",
          "text": [
            "INFO:ptsemseg:Iter [16760/24000]  Loss: 0.9921  Time/Image: 0.1598  lr=0.000873\n"
          ],
          "name": "stderr"
        },
        {
          "output_type": "stream",
          "text": [
            "Iter [16760/24000]  Loss: 0.9921  Time/Image: 0.1598  lr=0.000873\n"
          ],
          "name": "stdout"
        },
        {
          "output_type": "stream",
          "text": [
            "INFO:ptsemseg:Iter [16770/24000]  Loss: 0.9928  Time/Image: 0.1649  lr=0.000873\n"
          ],
          "name": "stderr"
        },
        {
          "output_type": "stream",
          "text": [
            "Iter [16770/24000]  Loss: 0.9928  Time/Image: 0.1649  lr=0.000873\n"
          ],
          "name": "stdout"
        },
        {
          "output_type": "stream",
          "text": [
            "INFO:ptsemseg:Iter [16780/24000]  Loss: 0.9933  Time/Image: 0.1639  lr=0.000873\n"
          ],
          "name": "stderr"
        },
        {
          "output_type": "stream",
          "text": [
            "Iter [16780/24000]  Loss: 0.9933  Time/Image: 0.1639  lr=0.000873\n"
          ],
          "name": "stdout"
        },
        {
          "output_type": "stream",
          "text": [
            "INFO:ptsemseg:Iter [16790/24000]  Loss: 0.9938  Time/Image: 0.1650  lr=0.000873\n"
          ],
          "name": "stderr"
        },
        {
          "output_type": "stream",
          "text": [
            "Iter [16790/24000]  Loss: 0.9938  Time/Image: 0.1650  lr=0.000873\n"
          ],
          "name": "stdout"
        },
        {
          "output_type": "stream",
          "text": [
            "INFO:ptsemseg:Iter [16800/24000]  Loss: 0.9936  Time/Image: 0.1648  lr=0.000873\n"
          ],
          "name": "stderr"
        },
        {
          "output_type": "stream",
          "text": [
            "Iter [16800/24000]  Loss: 0.9936  Time/Image: 0.1648  lr=0.000873\n"
          ],
          "name": "stdout"
        },
        {
          "output_type": "stream",
          "text": [
            "INFO:ptsemseg:Iter [16810/24000]  Loss: 0.9952  Time/Image: 0.1645  lr=0.000873\n"
          ],
          "name": "stderr"
        },
        {
          "output_type": "stream",
          "text": [
            "Iter [16810/24000]  Loss: 0.9952  Time/Image: 0.1645  lr=0.000873\n"
          ],
          "name": "stdout"
        },
        {
          "output_type": "stream",
          "text": [
            "INFO:ptsemseg:Iter [16820/24000]  Loss: 0.9945  Time/Image: 0.1680  lr=0.000873\n"
          ],
          "name": "stderr"
        },
        {
          "output_type": "stream",
          "text": [
            "Iter [16820/24000]  Loss: 0.9945  Time/Image: 0.1680  lr=0.000873\n"
          ],
          "name": "stdout"
        },
        {
          "output_type": "stream",
          "text": [
            "INFO:ptsemseg:Iter [16830/24000]  Loss: 0.9935  Time/Image: 0.1660  lr=0.000873\n"
          ],
          "name": "stderr"
        },
        {
          "output_type": "stream",
          "text": [
            "Iter [16830/24000]  Loss: 0.9935  Time/Image: 0.1660  lr=0.000873\n"
          ],
          "name": "stdout"
        },
        {
          "output_type": "stream",
          "text": [
            "INFO:ptsemseg:Iter [16840/24000]  Loss: 0.9935  Time/Image: 0.1645  lr=0.000873\n"
          ],
          "name": "stderr"
        },
        {
          "output_type": "stream",
          "text": [
            "Iter [16840/24000]  Loss: 0.9935  Time/Image: 0.1645  lr=0.000873\n"
          ],
          "name": "stdout"
        },
        {
          "output_type": "stream",
          "text": [
            "INFO:ptsemseg:Iter [16850/24000]  Loss: 0.9934  Time/Image: 0.1630  lr=0.000873\n"
          ],
          "name": "stderr"
        },
        {
          "output_type": "stream",
          "text": [
            "Iter [16850/24000]  Loss: 0.9934  Time/Image: 0.1630  lr=0.000873\n"
          ],
          "name": "stdout"
        },
        {
          "output_type": "stream",
          "text": [
            "INFO:ptsemseg:Iter [16860/24000]  Loss: 0.9921  Time/Image: 0.1606  lr=0.000873\n"
          ],
          "name": "stderr"
        },
        {
          "output_type": "stream",
          "text": [
            "Iter [16860/24000]  Loss: 0.9921  Time/Image: 0.1606  lr=0.000873\n"
          ],
          "name": "stdout"
        },
        {
          "output_type": "stream",
          "text": [
            "INFO:ptsemseg:Iter [16870/24000]  Loss: 0.9924  Time/Image: 0.1656  lr=0.000873\n"
          ],
          "name": "stderr"
        },
        {
          "output_type": "stream",
          "text": [
            "Iter [16870/24000]  Loss: 0.9924  Time/Image: 0.1656  lr=0.000873\n"
          ],
          "name": "stdout"
        },
        {
          "output_type": "stream",
          "text": [
            "INFO:ptsemseg:Iter [16880/24000]  Loss: 0.9917  Time/Image: 0.1625  lr=0.000872\n"
          ],
          "name": "stderr"
        },
        {
          "output_type": "stream",
          "text": [
            "Iter [16880/24000]  Loss: 0.9917  Time/Image: 0.1625  lr=0.000872\n"
          ],
          "name": "stdout"
        },
        {
          "output_type": "stream",
          "text": [
            "INFO:ptsemseg:Iter [16890/24000]  Loss: 0.9916  Time/Image: 0.1626  lr=0.000872\n"
          ],
          "name": "stderr"
        },
        {
          "output_type": "stream",
          "text": [
            "Iter [16890/24000]  Loss: 0.9916  Time/Image: 0.1626  lr=0.000872\n"
          ],
          "name": "stdout"
        },
        {
          "output_type": "stream",
          "text": [
            "INFO:ptsemseg:Iter [16900/24000]  Loss: 0.9904  Time/Image: 0.1628  lr=0.000872\n"
          ],
          "name": "stderr"
        },
        {
          "output_type": "stream",
          "text": [
            "Iter [16900/24000]  Loss: 0.9904  Time/Image: 0.1628  lr=0.000872\n"
          ],
          "name": "stdout"
        },
        {
          "output_type": "stream",
          "text": [
            "INFO:ptsemseg:Iter [16910/24000]  Loss: 0.9895  Time/Image: 0.1623  lr=0.000872\n"
          ],
          "name": "stderr"
        },
        {
          "output_type": "stream",
          "text": [
            "Iter [16910/24000]  Loss: 0.9895  Time/Image: 0.1623  lr=0.000872\n"
          ],
          "name": "stdout"
        },
        {
          "output_type": "stream",
          "text": [
            "INFO:ptsemseg:Iter [16920/24000]  Loss: 0.9901  Time/Image: 0.1635  lr=0.000872\n"
          ],
          "name": "stderr"
        },
        {
          "output_type": "stream",
          "text": [
            "Iter [16920/24000]  Loss: 0.9901  Time/Image: 0.1635  lr=0.000872\n"
          ],
          "name": "stdout"
        },
        {
          "output_type": "stream",
          "text": [
            "INFO:ptsemseg:Iter [16930/24000]  Loss: 0.9893  Time/Image: 0.1594  lr=0.000872\n"
          ],
          "name": "stderr"
        },
        {
          "output_type": "stream",
          "text": [
            "Iter [16930/24000]  Loss: 0.9893  Time/Image: 0.1594  lr=0.000872\n"
          ],
          "name": "stdout"
        },
        {
          "output_type": "stream",
          "text": [
            "INFO:ptsemseg:Iter [16940/24000]  Loss: 0.9882  Time/Image: 0.1598  lr=0.000872\n"
          ],
          "name": "stderr"
        },
        {
          "output_type": "stream",
          "text": [
            "Iter [16940/24000]  Loss: 0.9882  Time/Image: 0.1598  lr=0.000872\n"
          ],
          "name": "stdout"
        },
        {
          "output_type": "stream",
          "text": [
            "INFO:ptsemseg:Iter [16950/24000]  Loss: 0.9893  Time/Image: 0.1462  lr=0.000872\n"
          ],
          "name": "stderr"
        },
        {
          "output_type": "stream",
          "text": [
            "Iter [16950/24000]  Loss: 0.9893  Time/Image: 0.1462  lr=0.000872\n"
          ],
          "name": "stdout"
        },
        {
          "output_type": "stream",
          "text": [
            "INFO:ptsemseg:Iter [16960/24000]  Loss: 0.9897  Time/Image: 0.1026  lr=0.000872\n"
          ],
          "name": "stderr"
        },
        {
          "output_type": "stream",
          "text": [
            "Iter [16960/24000]  Loss: 0.9897  Time/Image: 0.1026  lr=0.000872\n"
          ],
          "name": "stdout"
        },
        {
          "output_type": "stream",
          "text": [
            "INFO:ptsemseg:Iter [16970/24000]  Loss: 0.9897  Time/Image: 0.1557  lr=0.000872\n"
          ],
          "name": "stderr"
        },
        {
          "output_type": "stream",
          "text": [
            "Iter [16970/24000]  Loss: 0.9897  Time/Image: 0.1557  lr=0.000872\n"
          ],
          "name": "stdout"
        },
        {
          "output_type": "stream",
          "text": [
            "INFO:ptsemseg:Iter [16980/24000]  Loss: 0.9900  Time/Image: 0.1631  lr=0.000872\n"
          ],
          "name": "stderr"
        },
        {
          "output_type": "stream",
          "text": [
            "Iter [16980/24000]  Loss: 0.9900  Time/Image: 0.1631  lr=0.000872\n"
          ],
          "name": "stdout"
        },
        {
          "output_type": "stream",
          "text": [
            "INFO:ptsemseg:Iter [16990/24000]  Loss: 0.9905  Time/Image: 0.1635  lr=0.000872\n"
          ],
          "name": "stderr"
        },
        {
          "output_type": "stream",
          "text": [
            "Iter [16990/24000]  Loss: 0.9905  Time/Image: 0.1635  lr=0.000872\n"
          ],
          "name": "stdout"
        },
        {
          "output_type": "stream",
          "text": [
            "INFO:ptsemseg:Iter [17000/24000]  Loss: 0.9890  Time/Image: 0.1587  lr=0.000872\n"
          ],
          "name": "stderr"
        },
        {
          "output_type": "stream",
          "text": [
            "Iter [17000/24000]  Loss: 0.9890  Time/Image: 0.1587  lr=0.000872\n"
          ],
          "name": "stdout"
        },
        {
          "output_type": "stream",
          "text": [
            "84it [03:18,  2.37s/it]\n",
            "INFO:ptsemseg:Iter 17000 Val Loss: 0.9450\n",
            "INFO:ptsemseg:Overall Acc: \t: 0.9228533744427044\n",
            "INFO:ptsemseg:Mean Acc : \t: 0.6237557880334432\n",
            "INFO:ptsemseg:FreqW Acc : \t: 0.8660990991263559\n",
            "INFO:ptsemseg:Mean IoU : \t: 0.5247560728706242\n",
            "INFO:ptsemseg:0: 0.9614970023795645\n",
            "INFO:ptsemseg:1: 0.7245359902068027\n",
            "INFO:ptsemseg:2: 0.8646036674401631\n",
            "INFO:ptsemseg:3: 0.23537889410356183\n",
            "INFO:ptsemseg:4: 0.4147343828397929\n",
            "INFO:ptsemseg:5: 0.4387007217443655\n",
            "INFO:ptsemseg:6: 0.40910559876707114\n",
            "INFO:ptsemseg:7: 0.5312499527418642\n",
            "INFO:ptsemseg:8: 0.887640292709528\n",
            "INFO:ptsemseg:9: 0.4284335853513279\n",
            "INFO:ptsemseg:10: 0.9101314866682249\n",
            "INFO:ptsemseg:11: 0.617709394598542\n",
            "INFO:ptsemseg:12: 0.12539664394686328\n",
            "INFO:ptsemseg:13: 0.8668490242363772\n",
            "INFO:ptsemseg:14: 0.15284758765717638\n",
            "INFO:ptsemseg:15: 0.46687218027721206\n",
            "INFO:ptsemseg:16: 0.25775016599389533\n",
            "INFO:ptsemseg:17: 0.08691482378041275\n",
            "INFO:ptsemseg:18: 0.5900139890991132\n"
          ],
          "name": "stderr"
        },
        {
          "output_type": "stream",
          "text": [
            "Overall Acc: \t 0.9228533744427044\n",
            "Mean Acc : \t 0.6237557880334432\n",
            "FreqW Acc : \t 0.8660990991263559\n",
            "Mean IoU : \t 0.5247560728706242\n"
          ],
          "name": "stdout"
        },
        {
          "output_type": "stream",
          "text": [
            "INFO:ptsemseg:Iter [17010/24000]  Loss: 0.9823  Time/Image: 0.1427  lr=0.000871\n"
          ],
          "name": "stderr"
        },
        {
          "output_type": "stream",
          "text": [
            "Iter [17010/24000]  Loss: 0.9823  Time/Image: 0.1427  lr=0.000871\n"
          ],
          "name": "stdout"
        },
        {
          "output_type": "stream",
          "text": [
            "INFO:ptsemseg:Iter [17020/24000]  Loss: 0.9741  Time/Image: 0.1652  lr=0.000871\n"
          ],
          "name": "stderr"
        },
        {
          "output_type": "stream",
          "text": [
            "Iter [17020/24000]  Loss: 0.9741  Time/Image: 0.1652  lr=0.000871\n"
          ],
          "name": "stdout"
        },
        {
          "output_type": "stream",
          "text": [
            "INFO:ptsemseg:Iter [17030/24000]  Loss: 0.9688  Time/Image: 0.1699  lr=0.000871\n"
          ],
          "name": "stderr"
        },
        {
          "output_type": "stream",
          "text": [
            "Iter [17030/24000]  Loss: 0.9688  Time/Image: 0.1699  lr=0.000871\n"
          ],
          "name": "stdout"
        },
        {
          "output_type": "stream",
          "text": [
            "INFO:ptsemseg:Iter [17040/24000]  Loss: 0.9813  Time/Image: 0.1614  lr=0.000871\n"
          ],
          "name": "stderr"
        },
        {
          "output_type": "stream",
          "text": [
            "Iter [17040/24000]  Loss: 0.9813  Time/Image: 0.1614  lr=0.000871\n"
          ],
          "name": "stdout"
        },
        {
          "output_type": "stream",
          "text": [
            "INFO:ptsemseg:Iter [17050/24000]  Loss: 0.9878  Time/Image: 0.1643  lr=0.000871\n"
          ],
          "name": "stderr"
        },
        {
          "output_type": "stream",
          "text": [
            "Iter [17050/24000]  Loss: 0.9878  Time/Image: 0.1643  lr=0.000871\n"
          ],
          "name": "stdout"
        },
        {
          "output_type": "stream",
          "text": [
            "INFO:ptsemseg:Iter [17060/24000]  Loss: 1.0011  Time/Image: 0.1633  lr=0.000871\n"
          ],
          "name": "stderr"
        },
        {
          "output_type": "stream",
          "text": [
            "Iter [17060/24000]  Loss: 1.0011  Time/Image: 0.1633  lr=0.000871\n"
          ],
          "name": "stdout"
        },
        {
          "output_type": "stream",
          "text": [
            "INFO:ptsemseg:Iter [17070/24000]  Loss: 0.9990  Time/Image: 0.1611  lr=0.000871\n"
          ],
          "name": "stderr"
        },
        {
          "output_type": "stream",
          "text": [
            "Iter [17070/24000]  Loss: 0.9990  Time/Image: 0.1611  lr=0.000871\n"
          ],
          "name": "stdout"
        },
        {
          "output_type": "stream",
          "text": [
            "INFO:ptsemseg:Iter [17080/24000]  Loss: 0.9917  Time/Image: 0.1605  lr=0.000871\n"
          ],
          "name": "stderr"
        },
        {
          "output_type": "stream",
          "text": [
            "Iter [17080/24000]  Loss: 0.9917  Time/Image: 0.1605  lr=0.000871\n"
          ],
          "name": "stdout"
        },
        {
          "output_type": "stream",
          "text": [
            "INFO:ptsemseg:Iter [17090/24000]  Loss: 0.9969  Time/Image: 0.1616  lr=0.000871\n"
          ],
          "name": "stderr"
        },
        {
          "output_type": "stream",
          "text": [
            "Iter [17090/24000]  Loss: 0.9969  Time/Image: 0.1616  lr=0.000871\n"
          ],
          "name": "stdout"
        },
        {
          "output_type": "stream",
          "text": [
            "INFO:ptsemseg:Iter [17100/24000]  Loss: 1.0022  Time/Image: 0.1611  lr=0.000871\n"
          ],
          "name": "stderr"
        },
        {
          "output_type": "stream",
          "text": [
            "Iter [17100/24000]  Loss: 1.0022  Time/Image: 0.1611  lr=0.000871\n"
          ],
          "name": "stdout"
        },
        {
          "output_type": "stream",
          "text": [
            "INFO:ptsemseg:Iter [17110/24000]  Loss: 0.9982  Time/Image: 0.1671  lr=0.000871\n"
          ],
          "name": "stderr"
        },
        {
          "output_type": "stream",
          "text": [
            "Iter [17110/24000]  Loss: 0.9982  Time/Image: 0.1671  lr=0.000871\n"
          ],
          "name": "stdout"
        },
        {
          "output_type": "stream",
          "text": [
            "INFO:ptsemseg:Iter [17120/24000]  Loss: 0.9926  Time/Image: 0.1631  lr=0.000871\n"
          ],
          "name": "stderr"
        },
        {
          "output_type": "stream",
          "text": [
            "Iter [17120/24000]  Loss: 0.9926  Time/Image: 0.1631  lr=0.000871\n"
          ],
          "name": "stdout"
        },
        {
          "output_type": "stream",
          "text": [
            "INFO:ptsemseg:Iter [17130/24000]  Loss: 0.9987  Time/Image: 0.1644  lr=0.000871\n"
          ],
          "name": "stderr"
        },
        {
          "output_type": "stream",
          "text": [
            "Iter [17130/24000]  Loss: 0.9987  Time/Image: 0.1644  lr=0.000871\n"
          ],
          "name": "stdout"
        },
        {
          "output_type": "stream",
          "text": [
            "INFO:ptsemseg:Iter [17140/24000]  Loss: 1.0046  Time/Image: 0.1626  lr=0.000870\n"
          ],
          "name": "stderr"
        },
        {
          "output_type": "stream",
          "text": [
            "Iter [17140/24000]  Loss: 1.0046  Time/Image: 0.1626  lr=0.000870\n"
          ],
          "name": "stdout"
        },
        {
          "output_type": "stream",
          "text": [
            "INFO:ptsemseg:Iter [17150/24000]  Loss: 0.9960  Time/Image: 0.1621  lr=0.000870\n"
          ],
          "name": "stderr"
        },
        {
          "output_type": "stream",
          "text": [
            "Iter [17150/24000]  Loss: 0.9960  Time/Image: 0.1621  lr=0.000870\n"
          ],
          "name": "stdout"
        },
        {
          "output_type": "stream",
          "text": [
            "INFO:ptsemseg:Iter [17160/24000]  Loss: 0.9949  Time/Image: 0.1615  lr=0.000870\n"
          ],
          "name": "stderr"
        },
        {
          "output_type": "stream",
          "text": [
            "Iter [17160/24000]  Loss: 0.9949  Time/Image: 0.1615  lr=0.000870\n"
          ],
          "name": "stdout"
        },
        {
          "output_type": "stream",
          "text": [
            "INFO:ptsemseg:Iter [17170/24000]  Loss: 0.9938  Time/Image: 0.1627  lr=0.000870\n"
          ],
          "name": "stderr"
        },
        {
          "output_type": "stream",
          "text": [
            "Iter [17170/24000]  Loss: 0.9938  Time/Image: 0.1627  lr=0.000870\n"
          ],
          "name": "stdout"
        },
        {
          "output_type": "stream",
          "text": [
            "INFO:ptsemseg:Iter [17180/24000]  Loss: 0.9937  Time/Image: 0.1679  lr=0.000870\n"
          ],
          "name": "stderr"
        },
        {
          "output_type": "stream",
          "text": [
            "Iter [17180/24000]  Loss: 0.9937  Time/Image: 0.1679  lr=0.000870\n"
          ],
          "name": "stdout"
        },
        {
          "output_type": "stream",
          "text": [
            "INFO:ptsemseg:Iter [17190/24000]  Loss: 0.9885  Time/Image: 0.1655  lr=0.000870\n"
          ],
          "name": "stderr"
        },
        {
          "output_type": "stream",
          "text": [
            "Iter [17190/24000]  Loss: 0.9885  Time/Image: 0.1655  lr=0.000870\n"
          ],
          "name": "stdout"
        },
        {
          "output_type": "stream",
          "text": [
            "INFO:ptsemseg:Iter [17200/24000]  Loss: 0.9904  Time/Image: 0.1651  lr=0.000870\n"
          ],
          "name": "stderr"
        },
        {
          "output_type": "stream",
          "text": [
            "Iter [17200/24000]  Loss: 0.9904  Time/Image: 0.1651  lr=0.000870\n"
          ],
          "name": "stdout"
        },
        {
          "output_type": "stream",
          "text": [
            "INFO:ptsemseg:Iter [17210/24000]  Loss: 0.9897  Time/Image: 0.1641  lr=0.000870\n"
          ],
          "name": "stderr"
        },
        {
          "output_type": "stream",
          "text": [
            "Iter [17210/24000]  Loss: 0.9897  Time/Image: 0.1641  lr=0.000870\n"
          ],
          "name": "stdout"
        },
        {
          "output_type": "stream",
          "text": [
            "INFO:ptsemseg:Iter [17220/24000]  Loss: 0.9904  Time/Image: 0.1637  lr=0.000870\n"
          ],
          "name": "stderr"
        },
        {
          "output_type": "stream",
          "text": [
            "Iter [17220/24000]  Loss: 0.9904  Time/Image: 0.1637  lr=0.000870\n"
          ],
          "name": "stdout"
        },
        {
          "output_type": "stream",
          "text": [
            "INFO:ptsemseg:Iter [17230/24000]  Loss: 0.9918  Time/Image: 0.1643  lr=0.000870\n"
          ],
          "name": "stderr"
        },
        {
          "output_type": "stream",
          "text": [
            "Iter [17230/24000]  Loss: 0.9918  Time/Image: 0.1643  lr=0.000870\n"
          ],
          "name": "stdout"
        },
        {
          "output_type": "stream",
          "text": [
            "INFO:ptsemseg:Iter [17240/24000]  Loss: 0.9882  Time/Image: 0.1633  lr=0.000870\n"
          ],
          "name": "stderr"
        },
        {
          "output_type": "stream",
          "text": [
            "Iter [17240/24000]  Loss: 0.9882  Time/Image: 0.1633  lr=0.000870\n"
          ],
          "name": "stdout"
        },
        {
          "output_type": "stream",
          "text": [
            "INFO:ptsemseg:Iter [17250/24000]  Loss: 0.9926  Time/Image: 0.1638  lr=0.000870\n"
          ],
          "name": "stderr"
        },
        {
          "output_type": "stream",
          "text": [
            "Iter [17250/24000]  Loss: 0.9926  Time/Image: 0.1638  lr=0.000870\n"
          ],
          "name": "stdout"
        },
        {
          "output_type": "stream",
          "text": [
            "INFO:ptsemseg:Iter [17260/24000]  Loss: 0.9917  Time/Image: 0.1682  lr=0.000870\n"
          ],
          "name": "stderr"
        },
        {
          "output_type": "stream",
          "text": [
            "Iter [17260/24000]  Loss: 0.9917  Time/Image: 0.1682  lr=0.000870\n"
          ],
          "name": "stdout"
        },
        {
          "output_type": "stream",
          "text": [
            "INFO:ptsemseg:Iter [17270/24000]  Loss: 0.9920  Time/Image: 0.1621  lr=0.000870\n"
          ],
          "name": "stderr"
        },
        {
          "output_type": "stream",
          "text": [
            "Iter [17270/24000]  Loss: 0.9920  Time/Image: 0.1621  lr=0.000870\n"
          ],
          "name": "stdout"
        },
        {
          "output_type": "stream",
          "text": [
            "INFO:ptsemseg:Iter [17280/24000]  Loss: 0.9892  Time/Image: 0.1633  lr=0.000869\n"
          ],
          "name": "stderr"
        },
        {
          "output_type": "stream",
          "text": [
            "Iter [17280/24000]  Loss: 0.9892  Time/Image: 0.1633  lr=0.000869\n"
          ],
          "name": "stdout"
        },
        {
          "output_type": "stream",
          "text": [
            "INFO:ptsemseg:Iter [17290/24000]  Loss: 0.9900  Time/Image: 0.1667  lr=0.000869\n"
          ],
          "name": "stderr"
        },
        {
          "output_type": "stream",
          "text": [
            "Iter [17290/24000]  Loss: 0.9900  Time/Image: 0.1667  lr=0.000869\n"
          ],
          "name": "stdout"
        },
        {
          "output_type": "stream",
          "text": [
            "INFO:ptsemseg:Iter [17300/24000]  Loss: 0.9881  Time/Image: 0.1609  lr=0.000869\n"
          ],
          "name": "stderr"
        },
        {
          "output_type": "stream",
          "text": [
            "Iter [17300/24000]  Loss: 0.9881  Time/Image: 0.1609  lr=0.000869\n"
          ],
          "name": "stdout"
        },
        {
          "output_type": "stream",
          "text": [
            "INFO:ptsemseg:Iter [17310/24000]  Loss: 0.9878  Time/Image: 0.1633  lr=0.000869\n"
          ],
          "name": "stderr"
        },
        {
          "output_type": "stream",
          "text": [
            "Iter [17310/24000]  Loss: 0.9878  Time/Image: 0.1633  lr=0.000869\n"
          ],
          "name": "stdout"
        },
        {
          "output_type": "stream",
          "text": [
            "INFO:ptsemseg:Iter [17320/24000]  Loss: 0.9872  Time/Image: 0.1648  lr=0.000869\n"
          ],
          "name": "stderr"
        },
        {
          "output_type": "stream",
          "text": [
            "Iter [17320/24000]  Loss: 0.9872  Time/Image: 0.1648  lr=0.000869\n"
          ],
          "name": "stdout"
        },
        {
          "output_type": "stream",
          "text": [
            "INFO:ptsemseg:Iter [17330/24000]  Loss: 0.9890  Time/Image: 0.1647  lr=0.000869\n"
          ],
          "name": "stderr"
        },
        {
          "output_type": "stream",
          "text": [
            "Iter [17330/24000]  Loss: 0.9890  Time/Image: 0.1647  lr=0.000869\n"
          ],
          "name": "stdout"
        },
        {
          "output_type": "stream",
          "text": [
            "INFO:ptsemseg:Iter [17340/24000]  Loss: 0.9894  Time/Image: 0.1611  lr=0.000869\n"
          ],
          "name": "stderr"
        },
        {
          "output_type": "stream",
          "text": [
            "Iter [17340/24000]  Loss: 0.9894  Time/Image: 0.1611  lr=0.000869\n"
          ],
          "name": "stdout"
        },
        {
          "output_type": "stream",
          "text": [
            "INFO:ptsemseg:Iter [17350/24000]  Loss: 0.9896  Time/Image: 0.1615  lr=0.000869\n"
          ],
          "name": "stderr"
        },
        {
          "output_type": "stream",
          "text": [
            "Iter [17350/24000]  Loss: 0.9896  Time/Image: 0.1615  lr=0.000869\n"
          ],
          "name": "stdout"
        },
        {
          "output_type": "stream",
          "text": [
            "INFO:ptsemseg:Iter [17360/24000]  Loss: 0.9887  Time/Image: 0.1656  lr=0.000869\n"
          ],
          "name": "stderr"
        },
        {
          "output_type": "stream",
          "text": [
            "Iter [17360/24000]  Loss: 0.9887  Time/Image: 0.1656  lr=0.000869\n"
          ],
          "name": "stdout"
        },
        {
          "output_type": "stream",
          "text": [
            "INFO:ptsemseg:Iter [17370/24000]  Loss: 0.9884  Time/Image: 0.1645  lr=0.000869\n"
          ],
          "name": "stderr"
        },
        {
          "output_type": "stream",
          "text": [
            "Iter [17370/24000]  Loss: 0.9884  Time/Image: 0.1645  lr=0.000869\n"
          ],
          "name": "stdout"
        },
        {
          "output_type": "stream",
          "text": [
            "INFO:ptsemseg:Iter [17380/24000]  Loss: 0.9880  Time/Image: 0.1628  lr=0.000869\n"
          ],
          "name": "stderr"
        },
        {
          "output_type": "stream",
          "text": [
            "Iter [17380/24000]  Loss: 0.9880  Time/Image: 0.1628  lr=0.000869\n"
          ],
          "name": "stdout"
        },
        {
          "output_type": "stream",
          "text": [
            "INFO:ptsemseg:Iter [17390/24000]  Loss: 0.9878  Time/Image: 0.1647  lr=0.000869\n"
          ],
          "name": "stderr"
        },
        {
          "output_type": "stream",
          "text": [
            "Iter [17390/24000]  Loss: 0.9878  Time/Image: 0.1647  lr=0.000869\n"
          ],
          "name": "stdout"
        },
        {
          "output_type": "stream",
          "text": [
            "INFO:ptsemseg:Iter [17400/24000]  Loss: 0.9861  Time/Image: 0.1625  lr=0.000869\n"
          ],
          "name": "stderr"
        },
        {
          "output_type": "stream",
          "text": [
            "Iter [17400/24000]  Loss: 0.9861  Time/Image: 0.1625  lr=0.000869\n"
          ],
          "name": "stdout"
        },
        {
          "output_type": "stream",
          "text": [
            "INFO:ptsemseg:Iter [17410/24000]  Loss: 0.9866  Time/Image: 0.1648  lr=0.000868\n"
          ],
          "name": "stderr"
        },
        {
          "output_type": "stream",
          "text": [
            "Iter [17410/24000]  Loss: 0.9866  Time/Image: 0.1648  lr=0.000868\n"
          ],
          "name": "stdout"
        },
        {
          "output_type": "stream",
          "text": [
            "INFO:ptsemseg:Iter [17420/24000]  Loss: 0.9884  Time/Image: 0.1577  lr=0.000868\n"
          ],
          "name": "stderr"
        },
        {
          "output_type": "stream",
          "text": [
            "Iter [17420/24000]  Loss: 0.9884  Time/Image: 0.1577  lr=0.000868\n"
          ],
          "name": "stdout"
        },
        {
          "output_type": "stream",
          "text": [
            "INFO:ptsemseg:Iter [17430/24000]  Loss: 0.9878  Time/Image: 0.1618  lr=0.000868\n"
          ],
          "name": "stderr"
        },
        {
          "output_type": "stream",
          "text": [
            "Iter [17430/24000]  Loss: 0.9878  Time/Image: 0.1618  lr=0.000868\n"
          ],
          "name": "stdout"
        },
        {
          "output_type": "stream",
          "text": [
            "INFO:ptsemseg:Iter [17440/24000]  Loss: 0.9867  Time/Image: 0.1551  lr=0.000868\n"
          ],
          "name": "stderr"
        },
        {
          "output_type": "stream",
          "text": [
            "Iter [17440/24000]  Loss: 0.9867  Time/Image: 0.1551  lr=0.000868\n"
          ],
          "name": "stdout"
        },
        {
          "output_type": "stream",
          "text": [
            "INFO:ptsemseg:Iter [17450/24000]  Loss: 0.9872  Time/Image: 0.1339  lr=0.000868\n"
          ],
          "name": "stderr"
        },
        {
          "output_type": "stream",
          "text": [
            "Iter [17450/24000]  Loss: 0.9872  Time/Image: 0.1339  lr=0.000868\n"
          ],
          "name": "stdout"
        },
        {
          "output_type": "stream",
          "text": [
            "INFO:ptsemseg:Iter [17460/24000]  Loss: 0.9878  Time/Image: 0.1115  lr=0.000868\n"
          ],
          "name": "stderr"
        },
        {
          "output_type": "stream",
          "text": [
            "Iter [17460/24000]  Loss: 0.9878  Time/Image: 0.1115  lr=0.000868\n"
          ],
          "name": "stdout"
        },
        {
          "output_type": "stream",
          "text": [
            "INFO:ptsemseg:Iter [17470/24000]  Loss: 0.9874  Time/Image: 0.1671  lr=0.000868\n"
          ],
          "name": "stderr"
        },
        {
          "output_type": "stream",
          "text": [
            "Iter [17470/24000]  Loss: 0.9874  Time/Image: 0.1671  lr=0.000868\n"
          ],
          "name": "stdout"
        },
        {
          "output_type": "stream",
          "text": [
            "INFO:ptsemseg:Iter [17480/24000]  Loss: 0.9885  Time/Image: 0.1631  lr=0.000868\n"
          ],
          "name": "stderr"
        },
        {
          "output_type": "stream",
          "text": [
            "Iter [17480/24000]  Loss: 0.9885  Time/Image: 0.1631  lr=0.000868\n"
          ],
          "name": "stdout"
        },
        {
          "output_type": "stream",
          "text": [
            "INFO:ptsemseg:Iter [17490/24000]  Loss: 0.9883  Time/Image: 0.1622  lr=0.000868\n"
          ],
          "name": "stderr"
        },
        {
          "output_type": "stream",
          "text": [
            "Iter [17490/24000]  Loss: 0.9883  Time/Image: 0.1622  lr=0.000868\n"
          ],
          "name": "stdout"
        },
        {
          "output_type": "stream",
          "text": [
            "INFO:ptsemseg:Iter [17500/24000]  Loss: 0.9888  Time/Image: 0.1613  lr=0.000868\n"
          ],
          "name": "stderr"
        },
        {
          "output_type": "stream",
          "text": [
            "Iter [17500/24000]  Loss: 0.9888  Time/Image: 0.1613  lr=0.000868\n"
          ],
          "name": "stdout"
        },
        {
          "output_type": "stream",
          "text": [
            "84it [03:16,  2.34s/it]\n",
            "INFO:ptsemseg:Iter 17500 Val Loss: 0.9979\n",
            "INFO:ptsemseg:Overall Acc: \t: 0.9213304171449481\n",
            "INFO:ptsemseg:Mean Acc : \t: 0.6055448517335084\n",
            "INFO:ptsemseg:FreqW Acc : \t: 0.8614986685748938\n",
            "INFO:ptsemseg:Mean IoU : \t: 0.5172741606487749\n",
            "INFO:ptsemseg:0: 0.9589190640955094\n",
            "INFO:ptsemseg:1: 0.7148089367088242\n",
            "INFO:ptsemseg:2: 0.8628120494606754\n",
            "INFO:ptsemseg:3: 0.23045510649097042\n",
            "INFO:ptsemseg:4: 0.4043455639920297\n",
            "INFO:ptsemseg:5: 0.43552396680969063\n",
            "INFO:ptsemseg:6: 0.36473746884015634\n",
            "INFO:ptsemseg:7: 0.5634022669216986\n",
            "INFO:ptsemseg:8: 0.882863413808797\n",
            "INFO:ptsemseg:9: 0.45586113946415596\n",
            "INFO:ptsemseg:10: 0.8744759030545091\n",
            "INFO:ptsemseg:11: 0.5946806902906892\n",
            "INFO:ptsemseg:12: 0.13427328598470537\n",
            "INFO:ptsemseg:13: 0.8633931429675304\n",
            "INFO:ptsemseg:14: 0.02418947550060666\n",
            "INFO:ptsemseg:15: 0.5286909523356079\n",
            "INFO:ptsemseg:16: 0.2615846078478568\n",
            "INFO:ptsemseg:17: 0.11855003283226448\n",
            "INFO:ptsemseg:18: 0.5546419849204436\n"
          ],
          "name": "stderr"
        },
        {
          "output_type": "stream",
          "text": [
            "Overall Acc: \t 0.9213304171449481\n",
            "Mean Acc : \t 0.6055448517335084\n",
            "FreqW Acc : \t 0.8614986685748938\n",
            "Mean IoU : \t 0.5172741606487749\n"
          ],
          "name": "stdout"
        },
        {
          "output_type": "stream",
          "text": [
            "INFO:ptsemseg:Iter [17510/24000]  Loss: 0.9685  Time/Image: 0.1421  lr=0.000868\n"
          ],
          "name": "stderr"
        },
        {
          "output_type": "stream",
          "text": [
            "Iter [17510/24000]  Loss: 0.9685  Time/Image: 0.1421  lr=0.000868\n"
          ],
          "name": "stdout"
        },
        {
          "output_type": "stream",
          "text": [
            "INFO:ptsemseg:Iter [17520/24000]  Loss: 0.9770  Time/Image: 0.1656  lr=0.000868\n"
          ],
          "name": "stderr"
        },
        {
          "output_type": "stream",
          "text": [
            "Iter [17520/24000]  Loss: 0.9770  Time/Image: 0.1656  lr=0.000868\n"
          ],
          "name": "stdout"
        },
        {
          "output_type": "stream",
          "text": [
            "INFO:ptsemseg:Iter [17530/24000]  Loss: 0.9732  Time/Image: 0.1599  lr=0.000868\n"
          ],
          "name": "stderr"
        },
        {
          "output_type": "stream",
          "text": [
            "Iter [17530/24000]  Loss: 0.9732  Time/Image: 0.1599  lr=0.000868\n"
          ],
          "name": "stdout"
        },
        {
          "output_type": "stream",
          "text": [
            "INFO:ptsemseg:Iter [17540/24000]  Loss: 0.9773  Time/Image: 0.1652  lr=0.000867\n"
          ],
          "name": "stderr"
        },
        {
          "output_type": "stream",
          "text": [
            "Iter [17540/24000]  Loss: 0.9773  Time/Image: 0.1652  lr=0.000867\n"
          ],
          "name": "stdout"
        },
        {
          "output_type": "stream",
          "text": [
            "INFO:ptsemseg:Iter [17550/24000]  Loss: 0.9798  Time/Image: 0.1646  lr=0.000867\n"
          ],
          "name": "stderr"
        },
        {
          "output_type": "stream",
          "text": [
            "Iter [17550/24000]  Loss: 0.9798  Time/Image: 0.1646  lr=0.000867\n"
          ],
          "name": "stdout"
        },
        {
          "output_type": "stream",
          "text": [
            "INFO:ptsemseg:Iter [17560/24000]  Loss: 0.9793  Time/Image: 0.1649  lr=0.000867\n"
          ],
          "name": "stderr"
        },
        {
          "output_type": "stream",
          "text": [
            "Iter [17560/24000]  Loss: 0.9793  Time/Image: 0.1649  lr=0.000867\n"
          ],
          "name": "stdout"
        },
        {
          "output_type": "stream",
          "text": [
            "INFO:ptsemseg:Iter [17570/24000]  Loss: 0.9732  Time/Image: 0.1625  lr=0.000867\n"
          ],
          "name": "stderr"
        },
        {
          "output_type": "stream",
          "text": [
            "Iter [17570/24000]  Loss: 0.9732  Time/Image: 0.1625  lr=0.000867\n"
          ],
          "name": "stdout"
        },
        {
          "output_type": "stream",
          "text": [
            "INFO:ptsemseg:Iter [17580/24000]  Loss: 0.9858  Time/Image: 0.1611  lr=0.000867\n"
          ],
          "name": "stderr"
        },
        {
          "output_type": "stream",
          "text": [
            "Iter [17580/24000]  Loss: 0.9858  Time/Image: 0.1611  lr=0.000867\n"
          ],
          "name": "stdout"
        },
        {
          "output_type": "stream",
          "text": [
            "INFO:ptsemseg:Iter [17590/24000]  Loss: 0.9832  Time/Image: 0.1605  lr=0.000867\n"
          ],
          "name": "stderr"
        },
        {
          "output_type": "stream",
          "text": [
            "Iter [17590/24000]  Loss: 0.9832  Time/Image: 0.1605  lr=0.000867\n"
          ],
          "name": "stdout"
        },
        {
          "output_type": "stream",
          "text": [
            "INFO:ptsemseg:Iter [17600/24000]  Loss: 0.9791  Time/Image: 0.1627  lr=0.000867\n"
          ],
          "name": "stderr"
        },
        {
          "output_type": "stream",
          "text": [
            "Iter [17600/24000]  Loss: 0.9791  Time/Image: 0.1627  lr=0.000867\n"
          ],
          "name": "stdout"
        },
        {
          "output_type": "stream",
          "text": [
            "INFO:ptsemseg:Iter [17610/24000]  Loss: 0.9775  Time/Image: 0.1642  lr=0.000867\n"
          ],
          "name": "stderr"
        },
        {
          "output_type": "stream",
          "text": [
            "Iter [17610/24000]  Loss: 0.9775  Time/Image: 0.1642  lr=0.000867\n"
          ],
          "name": "stdout"
        },
        {
          "output_type": "stream",
          "text": [
            "INFO:ptsemseg:Iter [17620/24000]  Loss: 0.9813  Time/Image: 0.1636  lr=0.000867\n"
          ],
          "name": "stderr"
        },
        {
          "output_type": "stream",
          "text": [
            "Iter [17620/24000]  Loss: 0.9813  Time/Image: 0.1636  lr=0.000867\n"
          ],
          "name": "stdout"
        },
        {
          "output_type": "stream",
          "text": [
            "INFO:ptsemseg:Iter [17630/24000]  Loss: 0.9823  Time/Image: 0.1620  lr=0.000867\n"
          ],
          "name": "stderr"
        },
        {
          "output_type": "stream",
          "text": [
            "Iter [17630/24000]  Loss: 0.9823  Time/Image: 0.1620  lr=0.000867\n"
          ],
          "name": "stdout"
        },
        {
          "output_type": "stream",
          "text": [
            "INFO:ptsemseg:Iter [17640/24000]  Loss: 0.9900  Time/Image: 0.1629  lr=0.000867\n"
          ],
          "name": "stderr"
        },
        {
          "output_type": "stream",
          "text": [
            "Iter [17640/24000]  Loss: 0.9900  Time/Image: 0.1629  lr=0.000867\n"
          ],
          "name": "stdout"
        },
        {
          "output_type": "stream",
          "text": [
            "INFO:ptsemseg:Iter [17650/24000]  Loss: 0.9863  Time/Image: 0.1631  lr=0.000867\n"
          ],
          "name": "stderr"
        },
        {
          "output_type": "stream",
          "text": [
            "Iter [17650/24000]  Loss: 0.9863  Time/Image: 0.1631  lr=0.000867\n"
          ],
          "name": "stdout"
        },
        {
          "output_type": "stream",
          "text": [
            "INFO:ptsemseg:Iter [17660/24000]  Loss: 0.9881  Time/Image: 0.1618  lr=0.000867\n"
          ],
          "name": "stderr"
        },
        {
          "output_type": "stream",
          "text": [
            "Iter [17660/24000]  Loss: 0.9881  Time/Image: 0.1618  lr=0.000867\n"
          ],
          "name": "stdout"
        },
        {
          "output_type": "stream",
          "text": [
            "INFO:ptsemseg:Iter [17670/24000]  Loss: 0.9876  Time/Image: 0.1684  lr=0.000866\n"
          ],
          "name": "stderr"
        },
        {
          "output_type": "stream",
          "text": [
            "Iter [17670/24000]  Loss: 0.9876  Time/Image: 0.1684  lr=0.000866\n"
          ],
          "name": "stdout"
        },
        {
          "output_type": "stream",
          "text": [
            "INFO:ptsemseg:Iter [17680/24000]  Loss: 0.9867  Time/Image: 0.1668  lr=0.000866\n"
          ],
          "name": "stderr"
        },
        {
          "output_type": "stream",
          "text": [
            "Iter [17680/24000]  Loss: 0.9867  Time/Image: 0.1668  lr=0.000866\n"
          ],
          "name": "stdout"
        },
        {
          "output_type": "stream",
          "text": [
            "INFO:ptsemseg:Iter [17690/24000]  Loss: 0.9858  Time/Image: 0.1636  lr=0.000866\n"
          ],
          "name": "stderr"
        },
        {
          "output_type": "stream",
          "text": [
            "Iter [17690/24000]  Loss: 0.9858  Time/Image: 0.1636  lr=0.000866\n"
          ],
          "name": "stdout"
        },
        {
          "output_type": "stream",
          "text": [
            "INFO:ptsemseg:Iter [17700/24000]  Loss: 0.9840  Time/Image: 0.1670  lr=0.000866\n"
          ],
          "name": "stderr"
        },
        {
          "output_type": "stream",
          "text": [
            "Iter [17700/24000]  Loss: 0.9840  Time/Image: 0.1670  lr=0.000866\n"
          ],
          "name": "stdout"
        },
        {
          "output_type": "stream",
          "text": [
            "INFO:ptsemseg:Iter [17710/24000]  Loss: 0.9853  Time/Image: 0.1663  lr=0.000866\n"
          ],
          "name": "stderr"
        },
        {
          "output_type": "stream",
          "text": [
            "Iter [17710/24000]  Loss: 0.9853  Time/Image: 0.1663  lr=0.000866\n"
          ],
          "name": "stdout"
        },
        {
          "output_type": "stream",
          "text": [
            "INFO:ptsemseg:Iter [17720/24000]  Loss: 0.9844  Time/Image: 0.1644  lr=0.000866\n"
          ],
          "name": "stderr"
        },
        {
          "output_type": "stream",
          "text": [
            "Iter [17720/24000]  Loss: 0.9844  Time/Image: 0.1644  lr=0.000866\n"
          ],
          "name": "stdout"
        },
        {
          "output_type": "stream",
          "text": [
            "INFO:ptsemseg:Iter [17730/24000]  Loss: 0.9877  Time/Image: 0.1628  lr=0.000866\n"
          ],
          "name": "stderr"
        },
        {
          "output_type": "stream",
          "text": [
            "Iter [17730/24000]  Loss: 0.9877  Time/Image: 0.1628  lr=0.000866\n"
          ],
          "name": "stdout"
        },
        {
          "output_type": "stream",
          "text": [
            "INFO:ptsemseg:Iter [17740/24000]  Loss: 0.9838  Time/Image: 0.1647  lr=0.000866\n"
          ],
          "name": "stderr"
        },
        {
          "output_type": "stream",
          "text": [
            "Iter [17740/24000]  Loss: 0.9838  Time/Image: 0.1647  lr=0.000866\n"
          ],
          "name": "stdout"
        },
        {
          "output_type": "stream",
          "text": [
            "INFO:ptsemseg:Iter [17750/24000]  Loss: 0.9846  Time/Image: 0.1622  lr=0.000866\n"
          ],
          "name": "stderr"
        },
        {
          "output_type": "stream",
          "text": [
            "Iter [17750/24000]  Loss: 0.9846  Time/Image: 0.1622  lr=0.000866\n"
          ],
          "name": "stdout"
        },
        {
          "output_type": "stream",
          "text": [
            "INFO:ptsemseg:Iter [17760/24000]  Loss: 0.9861  Time/Image: 0.1636  lr=0.000866\n"
          ],
          "name": "stderr"
        },
        {
          "output_type": "stream",
          "text": [
            "Iter [17760/24000]  Loss: 0.9861  Time/Image: 0.1636  lr=0.000866\n"
          ],
          "name": "stdout"
        },
        {
          "output_type": "stream",
          "text": [
            "INFO:ptsemseg:Iter [17770/24000]  Loss: 0.9860  Time/Image: 0.1616  lr=0.000866\n"
          ],
          "name": "stderr"
        },
        {
          "output_type": "stream",
          "text": [
            "Iter [17770/24000]  Loss: 0.9860  Time/Image: 0.1616  lr=0.000866\n"
          ],
          "name": "stdout"
        },
        {
          "output_type": "stream",
          "text": [
            "INFO:ptsemseg:Iter [17780/24000]  Loss: 0.9856  Time/Image: 0.1576  lr=0.000866\n"
          ],
          "name": "stderr"
        },
        {
          "output_type": "stream",
          "text": [
            "Iter [17780/24000]  Loss: 0.9856  Time/Image: 0.1576  lr=0.000866\n"
          ],
          "name": "stdout"
        },
        {
          "output_type": "stream",
          "text": [
            "INFO:ptsemseg:Iter [17790/24000]  Loss: 0.9868  Time/Image: 0.1622  lr=0.000866\n"
          ],
          "name": "stderr"
        },
        {
          "output_type": "stream",
          "text": [
            "Iter [17790/24000]  Loss: 0.9868  Time/Image: 0.1622  lr=0.000866\n"
          ],
          "name": "stdout"
        },
        {
          "output_type": "stream",
          "text": [
            "INFO:ptsemseg:Iter [17800/24000]  Loss: 0.9846  Time/Image: 0.1623  lr=0.000865\n"
          ],
          "name": "stderr"
        },
        {
          "output_type": "stream",
          "text": [
            "Iter [17800/24000]  Loss: 0.9846  Time/Image: 0.1623  lr=0.000865\n"
          ],
          "name": "stdout"
        },
        {
          "output_type": "stream",
          "text": [
            "INFO:ptsemseg:Iter [17810/24000]  Loss: 0.9848  Time/Image: 0.1658  lr=0.000865\n"
          ],
          "name": "stderr"
        },
        {
          "output_type": "stream",
          "text": [
            "Iter [17810/24000]  Loss: 0.9848  Time/Image: 0.1658  lr=0.000865\n"
          ],
          "name": "stdout"
        },
        {
          "output_type": "stream",
          "text": [
            "INFO:ptsemseg:Iter [17820/24000]  Loss: 0.9871  Time/Image: 0.1619  lr=0.000865\n"
          ],
          "name": "stderr"
        },
        {
          "output_type": "stream",
          "text": [
            "Iter [17820/24000]  Loss: 0.9871  Time/Image: 0.1619  lr=0.000865\n"
          ],
          "name": "stdout"
        },
        {
          "output_type": "stream",
          "text": [
            "INFO:ptsemseg:Iter [17830/24000]  Loss: 0.9857  Time/Image: 0.1633  lr=0.000865\n"
          ],
          "name": "stderr"
        },
        {
          "output_type": "stream",
          "text": [
            "Iter [17830/24000]  Loss: 0.9857  Time/Image: 0.1633  lr=0.000865\n"
          ],
          "name": "stdout"
        },
        {
          "output_type": "stream",
          "text": [
            "INFO:ptsemseg:Iter [17840/24000]  Loss: 0.9851  Time/Image: 0.1661  lr=0.000865\n"
          ],
          "name": "stderr"
        },
        {
          "output_type": "stream",
          "text": [
            "Iter [17840/24000]  Loss: 0.9851  Time/Image: 0.1661  lr=0.000865\n"
          ],
          "name": "stdout"
        },
        {
          "output_type": "stream",
          "text": [
            "INFO:ptsemseg:Iter [17850/24000]  Loss: 0.9868  Time/Image: 0.1625  lr=0.000865\n"
          ],
          "name": "stderr"
        },
        {
          "output_type": "stream",
          "text": [
            "Iter [17850/24000]  Loss: 0.9868  Time/Image: 0.1625  lr=0.000865\n"
          ],
          "name": "stdout"
        },
        {
          "output_type": "stream",
          "text": [
            "INFO:ptsemseg:Iter [17860/24000]  Loss: 0.9865  Time/Image: 0.1598  lr=0.000865\n"
          ],
          "name": "stderr"
        },
        {
          "output_type": "stream",
          "text": [
            "Iter [17860/24000]  Loss: 0.9865  Time/Image: 0.1598  lr=0.000865\n"
          ],
          "name": "stdout"
        },
        {
          "output_type": "stream",
          "text": [
            "INFO:ptsemseg:Iter [17870/24000]  Loss: 0.9870  Time/Image: 0.1625  lr=0.000865\n"
          ],
          "name": "stderr"
        },
        {
          "output_type": "stream",
          "text": [
            "Iter [17870/24000]  Loss: 0.9870  Time/Image: 0.1625  lr=0.000865\n"
          ],
          "name": "stdout"
        },
        {
          "output_type": "stream",
          "text": [
            "INFO:ptsemseg:Iter [17880/24000]  Loss: 0.9856  Time/Image: 0.1672  lr=0.000865\n"
          ],
          "name": "stderr"
        },
        {
          "output_type": "stream",
          "text": [
            "Iter [17880/24000]  Loss: 0.9856  Time/Image: 0.1672  lr=0.000865\n"
          ],
          "name": "stdout"
        },
        {
          "output_type": "stream",
          "text": [
            "INFO:ptsemseg:Iter [17890/24000]  Loss: 0.9873  Time/Image: 0.1656  lr=0.000865\n"
          ],
          "name": "stderr"
        },
        {
          "output_type": "stream",
          "text": [
            "Iter [17890/24000]  Loss: 0.9873  Time/Image: 0.1656  lr=0.000865\n"
          ],
          "name": "stdout"
        },
        {
          "output_type": "stream",
          "text": [
            "INFO:ptsemseg:Iter [17900/24000]  Loss: 0.9867  Time/Image: 0.1622  lr=0.000865\n"
          ],
          "name": "stderr"
        },
        {
          "output_type": "stream",
          "text": [
            "Iter [17900/24000]  Loss: 0.9867  Time/Image: 0.1622  lr=0.000865\n"
          ],
          "name": "stdout"
        },
        {
          "output_type": "stream",
          "text": [
            "INFO:ptsemseg:Iter [17910/24000]  Loss: 0.9858  Time/Image: 0.1623  lr=0.000865\n"
          ],
          "name": "stderr"
        },
        {
          "output_type": "stream",
          "text": [
            "Iter [17910/24000]  Loss: 0.9858  Time/Image: 0.1623  lr=0.000865\n"
          ],
          "name": "stdout"
        },
        {
          "output_type": "stream",
          "text": [
            "INFO:ptsemseg:Iter [17920/24000]  Loss: 0.9871  Time/Image: 0.1651  lr=0.000865\n"
          ],
          "name": "stderr"
        },
        {
          "output_type": "stream",
          "text": [
            "Iter [17920/24000]  Loss: 0.9871  Time/Image: 0.1651  lr=0.000865\n"
          ],
          "name": "stdout"
        },
        {
          "output_type": "stream",
          "text": [
            "INFO:ptsemseg:Iter [17930/24000]  Loss: 0.9876  Time/Image: 0.1607  lr=0.000864\n"
          ],
          "name": "stderr"
        },
        {
          "output_type": "stream",
          "text": [
            "Iter [17930/24000]  Loss: 0.9876  Time/Image: 0.1607  lr=0.000864\n"
          ],
          "name": "stdout"
        },
        {
          "output_type": "stream",
          "text": [
            "INFO:ptsemseg:Iter [17940/24000]  Loss: 0.9879  Time/Image: 0.1449  lr=0.000864\n"
          ],
          "name": "stderr"
        },
        {
          "output_type": "stream",
          "text": [
            "Iter [17940/24000]  Loss: 0.9879  Time/Image: 0.1449  lr=0.000864\n"
          ],
          "name": "stdout"
        },
        {
          "output_type": "stream",
          "text": [
            "INFO:ptsemseg:Iter [17950/24000]  Loss: 0.9878  Time/Image: 0.1092  lr=0.000864\n"
          ],
          "name": "stderr"
        },
        {
          "output_type": "stream",
          "text": [
            "Iter [17950/24000]  Loss: 0.9878  Time/Image: 0.1092  lr=0.000864\n"
          ],
          "name": "stdout"
        },
        {
          "output_type": "stream",
          "text": [
            "INFO:ptsemseg:Iter [17960/24000]  Loss: 0.9870  Time/Image: 0.1397  lr=0.000864\n"
          ],
          "name": "stderr"
        },
        {
          "output_type": "stream",
          "text": [
            "Iter [17960/24000]  Loss: 0.9870  Time/Image: 0.1397  lr=0.000864\n"
          ],
          "name": "stdout"
        },
        {
          "output_type": "stream",
          "text": [
            "INFO:ptsemseg:Iter [17970/24000]  Loss: 0.9869  Time/Image: 0.1663  lr=0.000864\n"
          ],
          "name": "stderr"
        },
        {
          "output_type": "stream",
          "text": [
            "Iter [17970/24000]  Loss: 0.9869  Time/Image: 0.1663  lr=0.000864\n"
          ],
          "name": "stdout"
        },
        {
          "output_type": "stream",
          "text": [
            "INFO:ptsemseg:Iter [17980/24000]  Loss: 0.9870  Time/Image: 0.1644  lr=0.000864\n"
          ],
          "name": "stderr"
        },
        {
          "output_type": "stream",
          "text": [
            "Iter [17980/24000]  Loss: 0.9870  Time/Image: 0.1644  lr=0.000864\n"
          ],
          "name": "stdout"
        },
        {
          "output_type": "stream",
          "text": [
            "INFO:ptsemseg:Iter [17990/24000]  Loss: 0.9867  Time/Image: 0.1638  lr=0.000864\n"
          ],
          "name": "stderr"
        },
        {
          "output_type": "stream",
          "text": [
            "Iter [17990/24000]  Loss: 0.9867  Time/Image: 0.1638  lr=0.000864\n"
          ],
          "name": "stdout"
        },
        {
          "output_type": "stream",
          "text": [
            "INFO:ptsemseg:Iter [18000/24000]  Loss: 0.9864  Time/Image: 0.1632  lr=0.000864\n"
          ],
          "name": "stderr"
        },
        {
          "output_type": "stream",
          "text": [
            "Iter [18000/24000]  Loss: 0.9864  Time/Image: 0.1632  lr=0.000864\n"
          ],
          "name": "stdout"
        },
        {
          "output_type": "stream",
          "text": [
            "84it [03:16,  2.34s/it]\n",
            "INFO:ptsemseg:Iter 18000 Val Loss: 0.9703\n",
            "INFO:ptsemseg:Overall Acc: \t: 0.9227868447045019\n",
            "INFO:ptsemseg:Mean Acc : \t: 0.6426689077667247\n",
            "INFO:ptsemseg:FreqW Acc : \t: 0.865926598072147\n",
            "INFO:ptsemseg:Mean IoU : \t: 0.5365804165257797\n",
            "INFO:ptsemseg:0: 0.9599237617839053\n",
            "INFO:ptsemseg:1: 0.7006138487562874\n",
            "INFO:ptsemseg:2: 0.8641639605504718\n",
            "INFO:ptsemseg:3: 0.2558452961665231\n",
            "INFO:ptsemseg:4: 0.3948452326589288\n",
            "INFO:ptsemseg:5: 0.4547851715821047\n",
            "INFO:ptsemseg:6: 0.392900922257953\n",
            "INFO:ptsemseg:7: 0.5564867633158019\n",
            "INFO:ptsemseg:8: 0.8846776465715291\n",
            "INFO:ptsemseg:9: 0.4768344272435538\n",
            "INFO:ptsemseg:10: 0.9184181512547015\n",
            "INFO:ptsemseg:11: 0.6327629816006861\n",
            "INFO:ptsemseg:12: 0.302340361227817\n",
            "INFO:ptsemseg:13: 0.877726509345716\n",
            "INFO:ptsemseg:14: 0.15659600059361833\n",
            "INFO:ptsemseg:15: 0.4789710186824703\n",
            "INFO:ptsemseg:16: 0.18432334873556186\n",
            "INFO:ptsemseg:17: 0.11281145563282961\n",
            "INFO:ptsemseg:18: 0.590001056029355\n"
          ],
          "name": "stderr"
        },
        {
          "output_type": "stream",
          "text": [
            "Overall Acc: \t 0.9227868447045019\n",
            "Mean Acc : \t 0.6426689077667247\n",
            "FreqW Acc : \t 0.865926598072147\n",
            "Mean IoU : \t 0.5365804165257797\n"
          ],
          "name": "stdout"
        },
        {
          "output_type": "stream",
          "text": [
            "INFO:ptsemseg:Iter [18010/24000]  Loss: 1.0106  Time/Image: 0.1439  lr=0.000864\n"
          ],
          "name": "stderr"
        },
        {
          "output_type": "stream",
          "text": [
            "Iter [18010/24000]  Loss: 1.0106  Time/Image: 0.1439  lr=0.000864\n"
          ],
          "name": "stdout"
        },
        {
          "output_type": "stream",
          "text": [
            "INFO:ptsemseg:Iter [18020/24000]  Loss: 0.9966  Time/Image: 0.1654  lr=0.000864\n"
          ],
          "name": "stderr"
        },
        {
          "output_type": "stream",
          "text": [
            "Iter [18020/24000]  Loss: 0.9966  Time/Image: 0.1654  lr=0.000864\n"
          ],
          "name": "stdout"
        },
        {
          "output_type": "stream",
          "text": [
            "INFO:ptsemseg:Iter [18030/24000]  Loss: 0.9997  Time/Image: 0.1613  lr=0.000864\n"
          ],
          "name": "stderr"
        },
        {
          "output_type": "stream",
          "text": [
            "Iter [18030/24000]  Loss: 0.9997  Time/Image: 0.1613  lr=0.000864\n"
          ],
          "name": "stdout"
        },
        {
          "output_type": "stream",
          "text": [
            "INFO:ptsemseg:Iter [18040/24000]  Loss: 0.9788  Time/Image: 0.1656  lr=0.000864\n"
          ],
          "name": "stderr"
        },
        {
          "output_type": "stream",
          "text": [
            "Iter [18040/24000]  Loss: 0.9788  Time/Image: 0.1656  lr=0.000864\n"
          ],
          "name": "stdout"
        },
        {
          "output_type": "stream",
          "text": [
            "INFO:ptsemseg:Iter [18050/24000]  Loss: 1.0018  Time/Image: 0.1633  lr=0.000864\n"
          ],
          "name": "stderr"
        },
        {
          "output_type": "stream",
          "text": [
            "Iter [18050/24000]  Loss: 1.0018  Time/Image: 0.1633  lr=0.000864\n"
          ],
          "name": "stdout"
        },
        {
          "output_type": "stream",
          "text": [
            "INFO:ptsemseg:Iter [18060/24000]  Loss: 1.0024  Time/Image: 0.1648  lr=0.000863\n"
          ],
          "name": "stderr"
        },
        {
          "output_type": "stream",
          "text": [
            "Iter [18060/24000]  Loss: 1.0024  Time/Image: 0.1648  lr=0.000863\n"
          ],
          "name": "stdout"
        },
        {
          "output_type": "stream",
          "text": [
            "INFO:ptsemseg:Iter [18070/24000]  Loss: 0.9991  Time/Image: 0.1583  lr=0.000863\n"
          ],
          "name": "stderr"
        },
        {
          "output_type": "stream",
          "text": [
            "Iter [18070/24000]  Loss: 0.9991  Time/Image: 0.1583  lr=0.000863\n"
          ],
          "name": "stdout"
        },
        {
          "output_type": "stream",
          "text": [
            "INFO:ptsemseg:Iter [18080/24000]  Loss: 0.9951  Time/Image: 0.1624  lr=0.000863\n"
          ],
          "name": "stderr"
        },
        {
          "output_type": "stream",
          "text": [
            "Iter [18080/24000]  Loss: 0.9951  Time/Image: 0.1624  lr=0.000863\n"
          ],
          "name": "stdout"
        },
        {
          "output_type": "stream",
          "text": [
            "INFO:ptsemseg:Iter [18090/24000]  Loss: 0.9904  Time/Image: 0.1600  lr=0.000863\n"
          ],
          "name": "stderr"
        },
        {
          "output_type": "stream",
          "text": [
            "Iter [18090/24000]  Loss: 0.9904  Time/Image: 0.1600  lr=0.000863\n"
          ],
          "name": "stdout"
        },
        {
          "output_type": "stream",
          "text": [
            "INFO:ptsemseg:Iter [18100/24000]  Loss: 0.9874  Time/Image: 0.1629  lr=0.000863\n"
          ],
          "name": "stderr"
        },
        {
          "output_type": "stream",
          "text": [
            "Iter [18100/24000]  Loss: 0.9874  Time/Image: 0.1629  lr=0.000863\n"
          ],
          "name": "stdout"
        },
        {
          "output_type": "stream",
          "text": [
            "INFO:ptsemseg:Iter [18110/24000]  Loss: 0.9837  Time/Image: 0.1633  lr=0.000863\n"
          ],
          "name": "stderr"
        },
        {
          "output_type": "stream",
          "text": [
            "Iter [18110/24000]  Loss: 0.9837  Time/Image: 0.1633  lr=0.000863\n"
          ],
          "name": "stdout"
        },
        {
          "output_type": "stream",
          "text": [
            "INFO:ptsemseg:Iter [18120/24000]  Loss: 0.9819  Time/Image: 0.1648  lr=0.000863\n"
          ],
          "name": "stderr"
        },
        {
          "output_type": "stream",
          "text": [
            "Iter [18120/24000]  Loss: 0.9819  Time/Image: 0.1648  lr=0.000863\n"
          ],
          "name": "stdout"
        },
        {
          "output_type": "stream",
          "text": [
            "INFO:ptsemseg:Iter [18130/24000]  Loss: 0.9819  Time/Image: 0.1616  lr=0.000863\n"
          ],
          "name": "stderr"
        },
        {
          "output_type": "stream",
          "text": [
            "Iter [18130/24000]  Loss: 0.9819  Time/Image: 0.1616  lr=0.000863\n"
          ],
          "name": "stdout"
        },
        {
          "output_type": "stream",
          "text": [
            "INFO:ptsemseg:Iter [18140/24000]  Loss: 0.9773  Time/Image: 0.1630  lr=0.000863\n"
          ],
          "name": "stderr"
        },
        {
          "output_type": "stream",
          "text": [
            "Iter [18140/24000]  Loss: 0.9773  Time/Image: 0.1630  lr=0.000863\n"
          ],
          "name": "stdout"
        },
        {
          "output_type": "stream",
          "text": [
            "INFO:ptsemseg:Iter [18150/24000]  Loss: 0.9776  Time/Image: 0.1594  lr=0.000863\n"
          ],
          "name": "stderr"
        },
        {
          "output_type": "stream",
          "text": [
            "Iter [18150/24000]  Loss: 0.9776  Time/Image: 0.1594  lr=0.000863\n"
          ],
          "name": "stdout"
        },
        {
          "output_type": "stream",
          "text": [
            "INFO:ptsemseg:Iter [18160/24000]  Loss: 0.9788  Time/Image: 0.1646  lr=0.000863\n"
          ],
          "name": "stderr"
        },
        {
          "output_type": "stream",
          "text": [
            "Iter [18160/24000]  Loss: 0.9788  Time/Image: 0.1646  lr=0.000863\n"
          ],
          "name": "stdout"
        },
        {
          "output_type": "stream",
          "text": [
            "INFO:ptsemseg:Iter [18170/24000]  Loss: 0.9774  Time/Image: 0.1645  lr=0.000863\n"
          ],
          "name": "stderr"
        },
        {
          "output_type": "stream",
          "text": [
            "Iter [18170/24000]  Loss: 0.9774  Time/Image: 0.1645  lr=0.000863\n"
          ],
          "name": "stdout"
        },
        {
          "output_type": "stream",
          "text": [
            "INFO:ptsemseg:Iter [18180/24000]  Loss: 0.9761  Time/Image: 0.1610  lr=0.000863\n"
          ],
          "name": "stderr"
        },
        {
          "output_type": "stream",
          "text": [
            "Iter [18180/24000]  Loss: 0.9761  Time/Image: 0.1610  lr=0.000863\n"
          ],
          "name": "stdout"
        },
        {
          "output_type": "stream",
          "text": [
            "INFO:ptsemseg:Iter [18190/24000]  Loss: 0.9736  Time/Image: 0.1573  lr=0.000862\n"
          ],
          "name": "stderr"
        },
        {
          "output_type": "stream",
          "text": [
            "Iter [18190/24000]  Loss: 0.9736  Time/Image: 0.1573  lr=0.000862\n"
          ],
          "name": "stdout"
        },
        {
          "output_type": "stream",
          "text": [
            "INFO:ptsemseg:Iter [18200/24000]  Loss: 0.9756  Time/Image: 0.1628  lr=0.000862\n"
          ],
          "name": "stderr"
        },
        {
          "output_type": "stream",
          "text": [
            "Iter [18200/24000]  Loss: 0.9756  Time/Image: 0.1628  lr=0.000862\n"
          ],
          "name": "stdout"
        },
        {
          "output_type": "stream",
          "text": [
            "INFO:ptsemseg:Iter [18210/24000]  Loss: 0.9719  Time/Image: 0.1634  lr=0.000862\n"
          ],
          "name": "stderr"
        },
        {
          "output_type": "stream",
          "text": [
            "Iter [18210/24000]  Loss: 0.9719  Time/Image: 0.1634  lr=0.000862\n"
          ],
          "name": "stdout"
        },
        {
          "output_type": "stream",
          "text": [
            "INFO:ptsemseg:Iter [18220/24000]  Loss: 0.9744  Time/Image: 0.1670  lr=0.000862\n"
          ],
          "name": "stderr"
        },
        {
          "output_type": "stream",
          "text": [
            "Iter [18220/24000]  Loss: 0.9744  Time/Image: 0.1670  lr=0.000862\n"
          ],
          "name": "stdout"
        },
        {
          "output_type": "stream",
          "text": [
            "INFO:ptsemseg:Iter [18230/24000]  Loss: 0.9743  Time/Image: 0.1667  lr=0.000862\n"
          ],
          "name": "stderr"
        },
        {
          "output_type": "stream",
          "text": [
            "Iter [18230/24000]  Loss: 0.9743  Time/Image: 0.1667  lr=0.000862\n"
          ],
          "name": "stdout"
        },
        {
          "output_type": "stream",
          "text": [
            "INFO:ptsemseg:Iter [18240/24000]  Loss: 0.9752  Time/Image: 0.1630  lr=0.000862\n"
          ],
          "name": "stderr"
        },
        {
          "output_type": "stream",
          "text": [
            "Iter [18240/24000]  Loss: 0.9752  Time/Image: 0.1630  lr=0.000862\n"
          ],
          "name": "stdout"
        },
        {
          "output_type": "stream",
          "text": [
            "INFO:ptsemseg:Iter [18250/24000]  Loss: 0.9751  Time/Image: 0.1630  lr=0.000862\n"
          ],
          "name": "stderr"
        },
        {
          "output_type": "stream",
          "text": [
            "Iter [18250/24000]  Loss: 0.9751  Time/Image: 0.1630  lr=0.000862\n"
          ],
          "name": "stdout"
        },
        {
          "output_type": "stream",
          "text": [
            "INFO:ptsemseg:Iter [18260/24000]  Loss: 0.9768  Time/Image: 0.1630  lr=0.000862\n"
          ],
          "name": "stderr"
        },
        {
          "output_type": "stream",
          "text": [
            "Iter [18260/24000]  Loss: 0.9768  Time/Image: 0.1630  lr=0.000862\n"
          ],
          "name": "stdout"
        },
        {
          "output_type": "stream",
          "text": [
            "INFO:ptsemseg:Iter [18270/24000]  Loss: 0.9788  Time/Image: 0.1639  lr=0.000862\n"
          ],
          "name": "stderr"
        },
        {
          "output_type": "stream",
          "text": [
            "Iter [18270/24000]  Loss: 0.9788  Time/Image: 0.1639  lr=0.000862\n"
          ],
          "name": "stdout"
        },
        {
          "output_type": "stream",
          "text": [
            "INFO:ptsemseg:Iter [18280/24000]  Loss: 0.9774  Time/Image: 0.1625  lr=0.000862\n"
          ],
          "name": "stderr"
        },
        {
          "output_type": "stream",
          "text": [
            "Iter [18280/24000]  Loss: 0.9774  Time/Image: 0.1625  lr=0.000862\n"
          ],
          "name": "stdout"
        },
        {
          "output_type": "stream",
          "text": [
            "INFO:ptsemseg:Iter [18290/24000]  Loss: 0.9773  Time/Image: 0.1645  lr=0.000862\n"
          ],
          "name": "stderr"
        },
        {
          "output_type": "stream",
          "text": [
            "Iter [18290/24000]  Loss: 0.9773  Time/Image: 0.1645  lr=0.000862\n"
          ],
          "name": "stdout"
        },
        {
          "output_type": "stream",
          "text": [
            "INFO:ptsemseg:Iter [18300/24000]  Loss: 0.9792  Time/Image: 0.1625  lr=0.000862\n"
          ],
          "name": "stderr"
        },
        {
          "output_type": "stream",
          "text": [
            "Iter [18300/24000]  Loss: 0.9792  Time/Image: 0.1625  lr=0.000862\n"
          ],
          "name": "stdout"
        },
        {
          "output_type": "stream",
          "text": [
            "INFO:ptsemseg:Iter [18310/24000]  Loss: 0.9803  Time/Image: 0.1610  lr=0.000862\n"
          ],
          "name": "stderr"
        },
        {
          "output_type": "stream",
          "text": [
            "Iter [18310/24000]  Loss: 0.9803  Time/Image: 0.1610  lr=0.000862\n"
          ],
          "name": "stdout"
        },
        {
          "output_type": "stream",
          "text": [
            "INFO:ptsemseg:Iter [18320/24000]  Loss: 0.9824  Time/Image: 0.1670  lr=0.000862\n"
          ],
          "name": "stderr"
        },
        {
          "output_type": "stream",
          "text": [
            "Iter [18320/24000]  Loss: 0.9824  Time/Image: 0.1670  lr=0.000862\n"
          ],
          "name": "stdout"
        },
        {
          "output_type": "stream",
          "text": [
            "INFO:ptsemseg:Iter [18330/24000]  Loss: 0.9837  Time/Image: 0.1644  lr=0.000861\n"
          ],
          "name": "stderr"
        },
        {
          "output_type": "stream",
          "text": [
            "Iter [18330/24000]  Loss: 0.9837  Time/Image: 0.1644  lr=0.000861\n"
          ],
          "name": "stdout"
        },
        {
          "output_type": "stream",
          "text": [
            "INFO:ptsemseg:Iter [18340/24000]  Loss: 0.9817  Time/Image: 0.1622  lr=0.000861\n"
          ],
          "name": "stderr"
        },
        {
          "output_type": "stream",
          "text": [
            "Iter [18340/24000]  Loss: 0.9817  Time/Image: 0.1622  lr=0.000861\n"
          ],
          "name": "stdout"
        },
        {
          "output_type": "stream",
          "text": [
            "INFO:ptsemseg:Iter [18350/24000]  Loss: 0.9829  Time/Image: 0.1662  lr=0.000861\n"
          ],
          "name": "stderr"
        },
        {
          "output_type": "stream",
          "text": [
            "Iter [18350/24000]  Loss: 0.9829  Time/Image: 0.1662  lr=0.000861\n"
          ],
          "name": "stdout"
        },
        {
          "output_type": "stream",
          "text": [
            "INFO:ptsemseg:Iter [18360/24000]  Loss: 0.9827  Time/Image: 0.1635  lr=0.000861\n"
          ],
          "name": "stderr"
        },
        {
          "output_type": "stream",
          "text": [
            "Iter [18360/24000]  Loss: 0.9827  Time/Image: 0.1635  lr=0.000861\n"
          ],
          "name": "stdout"
        },
        {
          "output_type": "stream",
          "text": [
            "INFO:ptsemseg:Iter [18370/24000]  Loss: 0.9821  Time/Image: 0.1665  lr=0.000861\n"
          ],
          "name": "stderr"
        },
        {
          "output_type": "stream",
          "text": [
            "Iter [18370/24000]  Loss: 0.9821  Time/Image: 0.1665  lr=0.000861\n"
          ],
          "name": "stdout"
        },
        {
          "output_type": "stream",
          "text": [
            "INFO:ptsemseg:Iter [18380/24000]  Loss: 0.9851  Time/Image: 0.1597  lr=0.000861\n"
          ],
          "name": "stderr"
        },
        {
          "output_type": "stream",
          "text": [
            "Iter [18380/24000]  Loss: 0.9851  Time/Image: 0.1597  lr=0.000861\n"
          ],
          "name": "stdout"
        },
        {
          "output_type": "stream",
          "text": [
            "INFO:ptsemseg:Iter [18390/24000]  Loss: 0.9829  Time/Image: 0.1608  lr=0.000861\n"
          ],
          "name": "stderr"
        },
        {
          "output_type": "stream",
          "text": [
            "Iter [18390/24000]  Loss: 0.9829  Time/Image: 0.1608  lr=0.000861\n"
          ],
          "name": "stdout"
        },
        {
          "output_type": "stream",
          "text": [
            "INFO:ptsemseg:Iter [18400/24000]  Loss: 0.9826  Time/Image: 0.1600  lr=0.000861\n"
          ],
          "name": "stderr"
        },
        {
          "output_type": "stream",
          "text": [
            "Iter [18400/24000]  Loss: 0.9826  Time/Image: 0.1600  lr=0.000861\n"
          ],
          "name": "stdout"
        },
        {
          "output_type": "stream",
          "text": [
            "INFO:ptsemseg:Iter [18410/24000]  Loss: 0.9816  Time/Image: 0.1633  lr=0.000861\n"
          ],
          "name": "stderr"
        },
        {
          "output_type": "stream",
          "text": [
            "Iter [18410/24000]  Loss: 0.9816  Time/Image: 0.1633  lr=0.000861\n"
          ],
          "name": "stdout"
        },
        {
          "output_type": "stream",
          "text": [
            "INFO:ptsemseg:Iter [18420/24000]  Loss: 0.9821  Time/Image: 0.1608  lr=0.000861\n"
          ],
          "name": "stderr"
        },
        {
          "output_type": "stream",
          "text": [
            "Iter [18420/24000]  Loss: 0.9821  Time/Image: 0.1608  lr=0.000861\n"
          ],
          "name": "stdout"
        },
        {
          "output_type": "stream",
          "text": [
            "INFO:ptsemseg:Iter [18430/24000]  Loss: 0.9818  Time/Image: 0.1604  lr=0.000861\n"
          ],
          "name": "stderr"
        },
        {
          "output_type": "stream",
          "text": [
            "Iter [18430/24000]  Loss: 0.9818  Time/Image: 0.1604  lr=0.000861\n"
          ],
          "name": "stdout"
        },
        {
          "output_type": "stream",
          "text": [
            "INFO:ptsemseg:Iter [18440/24000]  Loss: 0.9803  Time/Image: 0.1471  lr=0.000861\n"
          ],
          "name": "stderr"
        },
        {
          "output_type": "stream",
          "text": [
            "Iter [18440/24000]  Loss: 0.9803  Time/Image: 0.1471  lr=0.000861\n"
          ],
          "name": "stdout"
        },
        {
          "output_type": "stream",
          "text": [
            "INFO:ptsemseg:Iter [18450/24000]  Loss: 0.9810  Time/Image: 0.1063  lr=0.000861\n"
          ],
          "name": "stderr"
        },
        {
          "output_type": "stream",
          "text": [
            "Iter [18450/24000]  Loss: 0.9810  Time/Image: 0.1063  lr=0.000861\n"
          ],
          "name": "stdout"
        },
        {
          "output_type": "stream",
          "text": [
            "INFO:ptsemseg:Iter [18460/24000]  Loss: 0.9797  Time/Image: 0.1630  lr=0.000860\n"
          ],
          "name": "stderr"
        },
        {
          "output_type": "stream",
          "text": [
            "Iter [18460/24000]  Loss: 0.9797  Time/Image: 0.1630  lr=0.000860\n"
          ],
          "name": "stdout"
        },
        {
          "output_type": "stream",
          "text": [
            "INFO:ptsemseg:Iter [18470/24000]  Loss: 0.9789  Time/Image: 0.1616  lr=0.000860\n"
          ],
          "name": "stderr"
        },
        {
          "output_type": "stream",
          "text": [
            "Iter [18470/24000]  Loss: 0.9789  Time/Image: 0.1616  lr=0.000860\n"
          ],
          "name": "stdout"
        },
        {
          "output_type": "stream",
          "text": [
            "INFO:ptsemseg:Iter [18480/24000]  Loss: 0.9768  Time/Image: 0.1632  lr=0.000860\n"
          ],
          "name": "stderr"
        },
        {
          "output_type": "stream",
          "text": [
            "Iter [18480/24000]  Loss: 0.9768  Time/Image: 0.1632  lr=0.000860\n"
          ],
          "name": "stdout"
        },
        {
          "output_type": "stream",
          "text": [
            "INFO:ptsemseg:Iter [18490/24000]  Loss: 0.9785  Time/Image: 0.1652  lr=0.000860\n"
          ],
          "name": "stderr"
        },
        {
          "output_type": "stream",
          "text": [
            "Iter [18490/24000]  Loss: 0.9785  Time/Image: 0.1652  lr=0.000860\n"
          ],
          "name": "stdout"
        },
        {
          "output_type": "stream",
          "text": [
            "INFO:ptsemseg:Iter [18500/24000]  Loss: 0.9796  Time/Image: 0.1650  lr=0.000860\n"
          ],
          "name": "stderr"
        },
        {
          "output_type": "stream",
          "text": [
            "Iter [18500/24000]  Loss: 0.9796  Time/Image: 0.1650  lr=0.000860\n"
          ],
          "name": "stdout"
        },
        {
          "output_type": "stream",
          "text": [
            "84it [03:13,  2.31s/it]\n",
            "INFO:ptsemseg:Iter 18500 Val Loss: 0.9680\n",
            "INFO:ptsemseg:Overall Acc: \t: 0.9254588191841789\n",
            "INFO:ptsemseg:Mean Acc : \t: 0.6431143332683282\n",
            "INFO:ptsemseg:FreqW Acc : \t: 0.8684814826146178\n",
            "INFO:ptsemseg:Mean IoU : \t: 0.5434845699439407\n",
            "INFO:ptsemseg:0: 0.9634544985941149\n",
            "INFO:ptsemseg:1: 0.7302314522225224\n",
            "INFO:ptsemseg:2: 0.8646211854056287\n",
            "INFO:ptsemseg:3: 0.22111796946688497\n",
            "INFO:ptsemseg:4: 0.37938027439045674\n",
            "INFO:ptsemseg:5: 0.4645944086456402\n",
            "INFO:ptsemseg:6: 0.42235044361045293\n",
            "INFO:ptsemseg:7: 0.5815539973873907\n",
            "INFO:ptsemseg:8: 0.8901454024671145\n",
            "INFO:ptsemseg:9: 0.5087529468100781\n",
            "INFO:ptsemseg:10: 0.875284896359752\n",
            "INFO:ptsemseg:11: 0.6356852694474122\n",
            "INFO:ptsemseg:12: 0.3145792648465395\n",
            "INFO:ptsemseg:13: 0.8733182077474929\n",
            "INFO:ptsemseg:14: 0.14299265425692437\n",
            "INFO:ptsemseg:15: 0.4131557066880588\n",
            "INFO:ptsemseg:16: 0.29331051341159053\n",
            "INFO:ptsemseg:17: 0.14132330685907754\n",
            "INFO:ptsemseg:18: 0.6103544303177406\n"
          ],
          "name": "stderr"
        },
        {
          "output_type": "stream",
          "text": [
            "Overall Acc: \t 0.9254588191841789\n",
            "Mean Acc : \t 0.6431143332683282\n",
            "FreqW Acc : \t 0.8684814826146178\n",
            "Mean IoU : \t 0.5434845699439407\n"
          ],
          "name": "stdout"
        },
        {
          "output_type": "stream",
          "text": [
            "INFO:ptsemseg:Iter [18510/24000]  Loss: 0.9134  Time/Image: 0.1365  lr=0.000860\n"
          ],
          "name": "stderr"
        },
        {
          "output_type": "stream",
          "text": [
            "Iter [18510/24000]  Loss: 0.9134  Time/Image: 0.1365  lr=0.000860\n"
          ],
          "name": "stdout"
        },
        {
          "output_type": "stream",
          "text": [
            "INFO:ptsemseg:Iter [18520/24000]  Loss: 0.9341  Time/Image: 0.1637  lr=0.000860\n"
          ],
          "name": "stderr"
        },
        {
          "output_type": "stream",
          "text": [
            "Iter [18520/24000]  Loss: 0.9341  Time/Image: 0.1637  lr=0.000860\n"
          ],
          "name": "stdout"
        },
        {
          "output_type": "stream",
          "text": [
            "INFO:ptsemseg:Iter [18530/24000]  Loss: 0.9540  Time/Image: 0.1624  lr=0.000860\n"
          ],
          "name": "stderr"
        },
        {
          "output_type": "stream",
          "text": [
            "Iter [18530/24000]  Loss: 0.9540  Time/Image: 0.1624  lr=0.000860\n"
          ],
          "name": "stdout"
        },
        {
          "output_type": "stream",
          "text": [
            "INFO:ptsemseg:Iter [18540/24000]  Loss: 0.9796  Time/Image: 0.1653  lr=0.000860\n"
          ],
          "name": "stderr"
        },
        {
          "output_type": "stream",
          "text": [
            "Iter [18540/24000]  Loss: 0.9796  Time/Image: 0.1653  lr=0.000860\n"
          ],
          "name": "stdout"
        },
        {
          "output_type": "stream",
          "text": [
            "INFO:ptsemseg:Iter [18550/24000]  Loss: 0.9686  Time/Image: 0.1615  lr=0.000860\n"
          ],
          "name": "stderr"
        },
        {
          "output_type": "stream",
          "text": [
            "Iter [18550/24000]  Loss: 0.9686  Time/Image: 0.1615  lr=0.000860\n"
          ],
          "name": "stdout"
        },
        {
          "output_type": "stream",
          "text": [
            "INFO:ptsemseg:Iter [18560/24000]  Loss: 0.9682  Time/Image: 0.1628  lr=0.000860\n"
          ],
          "name": "stderr"
        },
        {
          "output_type": "stream",
          "text": [
            "Iter [18560/24000]  Loss: 0.9682  Time/Image: 0.1628  lr=0.000860\n"
          ],
          "name": "stdout"
        },
        {
          "output_type": "stream",
          "text": [
            "INFO:ptsemseg:Iter [18570/24000]  Loss: 0.9687  Time/Image: 0.1626  lr=0.000860\n"
          ],
          "name": "stderr"
        },
        {
          "output_type": "stream",
          "text": [
            "Iter [18570/24000]  Loss: 0.9687  Time/Image: 0.1626  lr=0.000860\n"
          ],
          "name": "stdout"
        },
        {
          "output_type": "stream",
          "text": [
            "INFO:ptsemseg:Iter [18580/24000]  Loss: 0.9732  Time/Image: 0.1620  lr=0.000860\n"
          ],
          "name": "stderr"
        },
        {
          "output_type": "stream",
          "text": [
            "Iter [18580/24000]  Loss: 0.9732  Time/Image: 0.1620  lr=0.000860\n"
          ],
          "name": "stdout"
        },
        {
          "output_type": "stream",
          "text": [
            "INFO:ptsemseg:Iter [18590/24000]  Loss: 0.9709  Time/Image: 0.1621  lr=0.000859\n"
          ],
          "name": "stderr"
        },
        {
          "output_type": "stream",
          "text": [
            "Iter [18590/24000]  Loss: 0.9709  Time/Image: 0.1621  lr=0.000859\n"
          ],
          "name": "stdout"
        },
        {
          "output_type": "stream",
          "text": [
            "INFO:ptsemseg:Iter [18600/24000]  Loss: 0.9654  Time/Image: 0.1627  lr=0.000859\n"
          ],
          "name": "stderr"
        },
        {
          "output_type": "stream",
          "text": [
            "Iter [18600/24000]  Loss: 0.9654  Time/Image: 0.1627  lr=0.000859\n"
          ],
          "name": "stdout"
        },
        {
          "output_type": "stream",
          "text": [
            "INFO:ptsemseg:Iter [18610/24000]  Loss: 0.9698  Time/Image: 0.1622  lr=0.000859\n"
          ],
          "name": "stderr"
        },
        {
          "output_type": "stream",
          "text": [
            "Iter [18610/24000]  Loss: 0.9698  Time/Image: 0.1622  lr=0.000859\n"
          ],
          "name": "stdout"
        },
        {
          "output_type": "stream",
          "text": [
            "INFO:ptsemseg:Iter [18620/24000]  Loss: 0.9718  Time/Image: 0.1640  lr=0.000859\n"
          ],
          "name": "stderr"
        },
        {
          "output_type": "stream",
          "text": [
            "Iter [18620/24000]  Loss: 0.9718  Time/Image: 0.1640  lr=0.000859\n"
          ],
          "name": "stdout"
        },
        {
          "output_type": "stream",
          "text": [
            "INFO:ptsemseg:Iter [18630/24000]  Loss: 0.9738  Time/Image: 0.1601  lr=0.000859\n"
          ],
          "name": "stderr"
        },
        {
          "output_type": "stream",
          "text": [
            "Iter [18630/24000]  Loss: 0.9738  Time/Image: 0.1601  lr=0.000859\n"
          ],
          "name": "stdout"
        },
        {
          "output_type": "stream",
          "text": [
            "INFO:ptsemseg:Iter [18640/24000]  Loss: 0.9771  Time/Image: 0.1615  lr=0.000859\n"
          ],
          "name": "stderr"
        },
        {
          "output_type": "stream",
          "text": [
            "Iter [18640/24000]  Loss: 0.9771  Time/Image: 0.1615  lr=0.000859\n"
          ],
          "name": "stdout"
        },
        {
          "output_type": "stream",
          "text": [
            "INFO:ptsemseg:Iter [18650/24000]  Loss: 0.9803  Time/Image: 0.1630  lr=0.000859\n"
          ],
          "name": "stderr"
        },
        {
          "output_type": "stream",
          "text": [
            "Iter [18650/24000]  Loss: 0.9803  Time/Image: 0.1630  lr=0.000859\n"
          ],
          "name": "stdout"
        },
        {
          "output_type": "stream",
          "text": [
            "INFO:ptsemseg:Iter [18660/24000]  Loss: 0.9773  Time/Image: 0.1611  lr=0.000859\n"
          ],
          "name": "stderr"
        },
        {
          "output_type": "stream",
          "text": [
            "Iter [18660/24000]  Loss: 0.9773  Time/Image: 0.1611  lr=0.000859\n"
          ],
          "name": "stdout"
        },
        {
          "output_type": "stream",
          "text": [
            "INFO:ptsemseg:Iter [18670/24000]  Loss: 0.9799  Time/Image: 0.1619  lr=0.000859\n"
          ],
          "name": "stderr"
        },
        {
          "output_type": "stream",
          "text": [
            "Iter [18670/24000]  Loss: 0.9799  Time/Image: 0.1619  lr=0.000859\n"
          ],
          "name": "stdout"
        },
        {
          "output_type": "stream",
          "text": [
            "INFO:ptsemseg:Iter [18680/24000]  Loss: 0.9784  Time/Image: 0.1649  lr=0.000859\n"
          ],
          "name": "stderr"
        },
        {
          "output_type": "stream",
          "text": [
            "Iter [18680/24000]  Loss: 0.9784  Time/Image: 0.1649  lr=0.000859\n"
          ],
          "name": "stdout"
        },
        {
          "output_type": "stream",
          "text": [
            "INFO:ptsemseg:Iter [18690/24000]  Loss: 0.9838  Time/Image: 0.1661  lr=0.000859\n"
          ],
          "name": "stderr"
        },
        {
          "output_type": "stream",
          "text": [
            "Iter [18690/24000]  Loss: 0.9838  Time/Image: 0.1661  lr=0.000859\n"
          ],
          "name": "stdout"
        },
        {
          "output_type": "stream",
          "text": [
            "INFO:ptsemseg:Iter [18700/24000]  Loss: 0.9832  Time/Image: 0.1646  lr=0.000859\n"
          ],
          "name": "stderr"
        },
        {
          "output_type": "stream",
          "text": [
            "Iter [18700/24000]  Loss: 0.9832  Time/Image: 0.1646  lr=0.000859\n"
          ],
          "name": "stdout"
        },
        {
          "output_type": "stream",
          "text": [
            "INFO:ptsemseg:Iter [18710/24000]  Loss: 0.9840  Time/Image: 0.1612  lr=0.000859\n"
          ],
          "name": "stderr"
        },
        {
          "output_type": "stream",
          "text": [
            "Iter [18710/24000]  Loss: 0.9840  Time/Image: 0.1612  lr=0.000859\n"
          ],
          "name": "stdout"
        },
        {
          "output_type": "stream",
          "text": [
            "INFO:ptsemseg:Iter [18720/24000]  Loss: 0.9842  Time/Image: 0.1634  lr=0.000858\n"
          ],
          "name": "stderr"
        },
        {
          "output_type": "stream",
          "text": [
            "Iter [18720/24000]  Loss: 0.9842  Time/Image: 0.1634  lr=0.000858\n"
          ],
          "name": "stdout"
        },
        {
          "output_type": "stream",
          "text": [
            "INFO:ptsemseg:Iter [18730/24000]  Loss: 0.9864  Time/Image: 0.1651  lr=0.000858\n"
          ],
          "name": "stderr"
        },
        {
          "output_type": "stream",
          "text": [
            "Iter [18730/24000]  Loss: 0.9864  Time/Image: 0.1651  lr=0.000858\n"
          ],
          "name": "stdout"
        },
        {
          "output_type": "stream",
          "text": [
            "INFO:ptsemseg:Iter [18740/24000]  Loss: 0.9862  Time/Image: 0.1619  lr=0.000858\n"
          ],
          "name": "stderr"
        },
        {
          "output_type": "stream",
          "text": [
            "Iter [18740/24000]  Loss: 0.9862  Time/Image: 0.1619  lr=0.000858\n"
          ],
          "name": "stdout"
        },
        {
          "output_type": "stream",
          "text": [
            "INFO:ptsemseg:Iter [18750/24000]  Loss: 0.9905  Time/Image: 0.1587  lr=0.000858\n"
          ],
          "name": "stderr"
        },
        {
          "output_type": "stream",
          "text": [
            "Iter [18750/24000]  Loss: 0.9905  Time/Image: 0.1587  lr=0.000858\n"
          ],
          "name": "stdout"
        },
        {
          "output_type": "stream",
          "text": [
            "INFO:ptsemseg:Iter [18760/24000]  Loss: 0.9899  Time/Image: 0.1579  lr=0.000858\n"
          ],
          "name": "stderr"
        },
        {
          "output_type": "stream",
          "text": [
            "Iter [18760/24000]  Loss: 0.9899  Time/Image: 0.1579  lr=0.000858\n"
          ],
          "name": "stdout"
        },
        {
          "output_type": "stream",
          "text": [
            "INFO:ptsemseg:Iter [18770/24000]  Loss: 0.9896  Time/Image: 0.1631  lr=0.000858\n"
          ],
          "name": "stderr"
        },
        {
          "output_type": "stream",
          "text": [
            "Iter [18770/24000]  Loss: 0.9896  Time/Image: 0.1631  lr=0.000858\n"
          ],
          "name": "stdout"
        },
        {
          "output_type": "stream",
          "text": [
            "INFO:ptsemseg:Iter [18780/24000]  Loss: 0.9879  Time/Image: 0.1637  lr=0.000858\n"
          ],
          "name": "stderr"
        },
        {
          "output_type": "stream",
          "text": [
            "Iter [18780/24000]  Loss: 0.9879  Time/Image: 0.1637  lr=0.000858\n"
          ],
          "name": "stdout"
        },
        {
          "output_type": "stream",
          "text": [
            "INFO:ptsemseg:Iter [18790/24000]  Loss: 0.9874  Time/Image: 0.1596  lr=0.000858\n"
          ],
          "name": "stderr"
        },
        {
          "output_type": "stream",
          "text": [
            "Iter [18790/24000]  Loss: 0.9874  Time/Image: 0.1596  lr=0.000858\n"
          ],
          "name": "stdout"
        },
        {
          "output_type": "stream",
          "text": [
            "INFO:ptsemseg:Iter [18800/24000]  Loss: 0.9843  Time/Image: 0.1646  lr=0.000858\n"
          ],
          "name": "stderr"
        },
        {
          "output_type": "stream",
          "text": [
            "Iter [18800/24000]  Loss: 0.9843  Time/Image: 0.1646  lr=0.000858\n"
          ],
          "name": "stdout"
        },
        {
          "output_type": "stream",
          "text": [
            "INFO:ptsemseg:Iter [18810/24000]  Loss: 0.9834  Time/Image: 0.1639  lr=0.000858\n"
          ],
          "name": "stderr"
        },
        {
          "output_type": "stream",
          "text": [
            "Iter [18810/24000]  Loss: 0.9834  Time/Image: 0.1639  lr=0.000858\n"
          ],
          "name": "stdout"
        },
        {
          "output_type": "stream",
          "text": [
            "INFO:ptsemseg:Iter [18820/24000]  Loss: 0.9834  Time/Image: 0.1633  lr=0.000858\n"
          ],
          "name": "stderr"
        },
        {
          "output_type": "stream",
          "text": [
            "Iter [18820/24000]  Loss: 0.9834  Time/Image: 0.1633  lr=0.000858\n"
          ],
          "name": "stdout"
        },
        {
          "output_type": "stream",
          "text": [
            "INFO:ptsemseg:Iter [18830/24000]  Loss: 0.9842  Time/Image: 0.1628  lr=0.000858\n"
          ],
          "name": "stderr"
        },
        {
          "output_type": "stream",
          "text": [
            "Iter [18830/24000]  Loss: 0.9842  Time/Image: 0.1628  lr=0.000858\n"
          ],
          "name": "stdout"
        },
        {
          "output_type": "stream",
          "text": [
            "INFO:ptsemseg:Iter [18840/24000]  Loss: 0.9832  Time/Image: 0.1632  lr=0.000858\n"
          ],
          "name": "stderr"
        },
        {
          "output_type": "stream",
          "text": [
            "Iter [18840/24000]  Loss: 0.9832  Time/Image: 0.1632  lr=0.000858\n"
          ],
          "name": "stdout"
        },
        {
          "output_type": "stream",
          "text": [
            "INFO:ptsemseg:Iter [18850/24000]  Loss: 0.9829  Time/Image: 0.1638  lr=0.000857\n"
          ],
          "name": "stderr"
        },
        {
          "output_type": "stream",
          "text": [
            "Iter [18850/24000]  Loss: 0.9829  Time/Image: 0.1638  lr=0.000857\n"
          ],
          "name": "stdout"
        },
        {
          "output_type": "stream",
          "text": [
            "INFO:ptsemseg:Iter [18860/24000]  Loss: 0.9827  Time/Image: 0.1597  lr=0.000857\n"
          ],
          "name": "stderr"
        },
        {
          "output_type": "stream",
          "text": [
            "Iter [18860/24000]  Loss: 0.9827  Time/Image: 0.1597  lr=0.000857\n"
          ],
          "name": "stdout"
        },
        {
          "output_type": "stream",
          "text": [
            "INFO:ptsemseg:Iter [18870/24000]  Loss: 0.9837  Time/Image: 0.1614  lr=0.000857\n"
          ],
          "name": "stderr"
        },
        {
          "output_type": "stream",
          "text": [
            "Iter [18870/24000]  Loss: 0.9837  Time/Image: 0.1614  lr=0.000857\n"
          ],
          "name": "stdout"
        },
        {
          "output_type": "stream",
          "text": [
            "INFO:ptsemseg:Iter [18880/24000]  Loss: 0.9831  Time/Image: 0.1638  lr=0.000857\n"
          ],
          "name": "stderr"
        },
        {
          "output_type": "stream",
          "text": [
            "Iter [18880/24000]  Loss: 0.9831  Time/Image: 0.1638  lr=0.000857\n"
          ],
          "name": "stdout"
        },
        {
          "output_type": "stream",
          "text": [
            "INFO:ptsemseg:Iter [18890/24000]  Loss: 0.9825  Time/Image: 0.1611  lr=0.000857\n"
          ],
          "name": "stderr"
        },
        {
          "output_type": "stream",
          "text": [
            "Iter [18890/24000]  Loss: 0.9825  Time/Image: 0.1611  lr=0.000857\n"
          ],
          "name": "stdout"
        },
        {
          "output_type": "stream",
          "text": [
            "INFO:ptsemseg:Iter [18900/24000]  Loss: 0.9827  Time/Image: 0.1618  lr=0.000857\n"
          ],
          "name": "stderr"
        },
        {
          "output_type": "stream",
          "text": [
            "Iter [18900/24000]  Loss: 0.9827  Time/Image: 0.1618  lr=0.000857\n"
          ],
          "name": "stdout"
        },
        {
          "output_type": "stream",
          "text": [
            "INFO:ptsemseg:Iter [18910/24000]  Loss: 0.9823  Time/Image: 0.1615  lr=0.000857\n"
          ],
          "name": "stderr"
        },
        {
          "output_type": "stream",
          "text": [
            "Iter [18910/24000]  Loss: 0.9823  Time/Image: 0.1615  lr=0.000857\n"
          ],
          "name": "stdout"
        },
        {
          "output_type": "stream",
          "text": [
            "INFO:ptsemseg:Iter [18920/24000]  Loss: 0.9819  Time/Image: 0.1581  lr=0.000857\n"
          ],
          "name": "stderr"
        },
        {
          "output_type": "stream",
          "text": [
            "Iter [18920/24000]  Loss: 0.9819  Time/Image: 0.1581  lr=0.000857\n"
          ],
          "name": "stdout"
        },
        {
          "output_type": "stream",
          "text": [
            "INFO:ptsemseg:Iter [18930/24000]  Loss: 0.9827  Time/Image: 0.1542  lr=0.000857\n"
          ],
          "name": "stderr"
        },
        {
          "output_type": "stream",
          "text": [
            "Iter [18930/24000]  Loss: 0.9827  Time/Image: 0.1542  lr=0.000857\n"
          ],
          "name": "stdout"
        },
        {
          "output_type": "stream",
          "text": [
            "INFO:ptsemseg:Iter [18940/24000]  Loss: 0.9824  Time/Image: 0.1161  lr=0.000857\n"
          ],
          "name": "stderr"
        },
        {
          "output_type": "stream",
          "text": [
            "Iter [18940/24000]  Loss: 0.9824  Time/Image: 0.1161  lr=0.000857\n"
          ],
          "name": "stdout"
        },
        {
          "output_type": "stream",
          "text": [
            "INFO:ptsemseg:Iter [18950/24000]  Loss: 0.9847  Time/Image: 0.1263  lr=0.000857\n"
          ],
          "name": "stderr"
        },
        {
          "output_type": "stream",
          "text": [
            "Iter [18950/24000]  Loss: 0.9847  Time/Image: 0.1263  lr=0.000857\n"
          ],
          "name": "stdout"
        },
        {
          "output_type": "stream",
          "text": [
            "INFO:ptsemseg:Iter [18960/24000]  Loss: 0.9832  Time/Image: 0.1631  lr=0.000857\n"
          ],
          "name": "stderr"
        },
        {
          "output_type": "stream",
          "text": [
            "Iter [18960/24000]  Loss: 0.9832  Time/Image: 0.1631  lr=0.000857\n"
          ],
          "name": "stdout"
        },
        {
          "output_type": "stream",
          "text": [
            "INFO:ptsemseg:Iter [18970/24000]  Loss: 0.9817  Time/Image: 0.1663  lr=0.000857\n"
          ],
          "name": "stderr"
        },
        {
          "output_type": "stream",
          "text": [
            "Iter [18970/24000]  Loss: 0.9817  Time/Image: 0.1663  lr=0.000857\n"
          ],
          "name": "stdout"
        },
        {
          "output_type": "stream",
          "text": [
            "INFO:ptsemseg:Iter [18980/24000]  Loss: 0.9816  Time/Image: 0.1635  lr=0.000856\n"
          ],
          "name": "stderr"
        },
        {
          "output_type": "stream",
          "text": [
            "Iter [18980/24000]  Loss: 0.9816  Time/Image: 0.1635  lr=0.000856\n"
          ],
          "name": "stdout"
        },
        {
          "output_type": "stream",
          "text": [
            "INFO:ptsemseg:Iter [18990/24000]  Loss: 0.9821  Time/Image: 0.1630  lr=0.000856\n"
          ],
          "name": "stderr"
        },
        {
          "output_type": "stream",
          "text": [
            "Iter [18990/24000]  Loss: 0.9821  Time/Image: 0.1630  lr=0.000856\n"
          ],
          "name": "stdout"
        },
        {
          "output_type": "stream",
          "text": [
            "INFO:ptsemseg:Iter [19000/24000]  Loss: 0.9823  Time/Image: 0.1629  lr=0.000856\n"
          ],
          "name": "stderr"
        },
        {
          "output_type": "stream",
          "text": [
            "Iter [19000/24000]  Loss: 0.9823  Time/Image: 0.1629  lr=0.000856\n"
          ],
          "name": "stdout"
        },
        {
          "output_type": "stream",
          "text": [
            "84it [03:15,  2.33s/it]\n",
            "INFO:ptsemseg:Iter 19000 Val Loss: 1.0073\n",
            "INFO:ptsemseg:Overall Acc: \t: 0.9269321133611298\n",
            "INFO:ptsemseg:Mean Acc : \t: 0.627211181805394\n",
            "INFO:ptsemseg:FreqW Acc : \t: 0.8724541624203445\n",
            "INFO:ptsemseg:Mean IoU : \t: 0.5343914646750372\n",
            "INFO:ptsemseg:0: 0.9645411126722587\n",
            "INFO:ptsemseg:1: 0.7274535203707069\n",
            "INFO:ptsemseg:2: 0.8731738992090466\n",
            "INFO:ptsemseg:3: 0.29438346827302597\n",
            "INFO:ptsemseg:4: 0.40686471060736595\n",
            "INFO:ptsemseg:5: 0.4156745057710479\n",
            "INFO:ptsemseg:6: 0.42822344602707085\n",
            "INFO:ptsemseg:7: 0.5543670110086223\n",
            "INFO:ptsemseg:8: 0.8957163956678097\n",
            "INFO:ptsemseg:9: 0.4918066216222853\n",
            "INFO:ptsemseg:10: 0.9220351778075426\n",
            "INFO:ptsemseg:11: 0.6377299679150148\n",
            "INFO:ptsemseg:12: 0.20653104879929907\n",
            "INFO:ptsemseg:13: 0.8730093989506569\n",
            "INFO:ptsemseg:14: 0.2075826445428398\n",
            "INFO:ptsemseg:15: 0.4339174244995504\n",
            "INFO:ptsemseg:16: 0.05188385413150791\n",
            "INFO:ptsemseg:17: 0.1920952868180447\n",
            "INFO:ptsemseg:18: 0.5764483341320084\n"
          ],
          "name": "stderr"
        },
        {
          "output_type": "stream",
          "text": [
            "Overall Acc: \t 0.9269321133611298\n",
            "Mean Acc : \t 0.627211181805394\n",
            "FreqW Acc : \t 0.8724541624203445\n",
            "Mean IoU : \t 0.5343914646750372\n"
          ],
          "name": "stdout"
        },
        {
          "output_type": "stream",
          "text": [
            "INFO:ptsemseg:Iter [19010/24000]  Loss: 1.0241  Time/Image: 0.1406  lr=0.000856\n"
          ],
          "name": "stderr"
        },
        {
          "output_type": "stream",
          "text": [
            "Iter [19010/24000]  Loss: 1.0241  Time/Image: 0.1406  lr=0.000856\n"
          ],
          "name": "stdout"
        },
        {
          "output_type": "stream",
          "text": [
            "INFO:ptsemseg:Iter [19020/24000]  Loss: 0.9908  Time/Image: 0.1656  lr=0.000856\n"
          ],
          "name": "stderr"
        },
        {
          "output_type": "stream",
          "text": [
            "Iter [19020/24000]  Loss: 0.9908  Time/Image: 0.1656  lr=0.000856\n"
          ],
          "name": "stdout"
        },
        {
          "output_type": "stream",
          "text": [
            "INFO:ptsemseg:Iter [19030/24000]  Loss: 0.9801  Time/Image: 0.1619  lr=0.000856\n"
          ],
          "name": "stderr"
        },
        {
          "output_type": "stream",
          "text": [
            "Iter [19030/24000]  Loss: 0.9801  Time/Image: 0.1619  lr=0.000856\n"
          ],
          "name": "stdout"
        },
        {
          "output_type": "stream",
          "text": [
            "INFO:ptsemseg:Iter [19040/24000]  Loss: 0.9946  Time/Image: 0.1596  lr=0.000856\n"
          ],
          "name": "stderr"
        },
        {
          "output_type": "stream",
          "text": [
            "Iter [19040/24000]  Loss: 0.9946  Time/Image: 0.1596  lr=0.000856\n"
          ],
          "name": "stdout"
        },
        {
          "output_type": "stream",
          "text": [
            "INFO:ptsemseg:Iter [19050/24000]  Loss: 0.9958  Time/Image: 0.1615  lr=0.000856\n"
          ],
          "name": "stderr"
        },
        {
          "output_type": "stream",
          "text": [
            "Iter [19050/24000]  Loss: 0.9958  Time/Image: 0.1615  lr=0.000856\n"
          ],
          "name": "stdout"
        },
        {
          "output_type": "stream",
          "text": [
            "INFO:ptsemseg:Iter [19060/24000]  Loss: 0.9870  Time/Image: 0.1626  lr=0.000856\n"
          ],
          "name": "stderr"
        },
        {
          "output_type": "stream",
          "text": [
            "Iter [19060/24000]  Loss: 0.9870  Time/Image: 0.1626  lr=0.000856\n"
          ],
          "name": "stdout"
        },
        {
          "output_type": "stream",
          "text": [
            "INFO:ptsemseg:Iter [19070/24000]  Loss: 0.9854  Time/Image: 0.1660  lr=0.000856\n"
          ],
          "name": "stderr"
        },
        {
          "output_type": "stream",
          "text": [
            "Iter [19070/24000]  Loss: 0.9854  Time/Image: 0.1660  lr=0.000856\n"
          ],
          "name": "stdout"
        },
        {
          "output_type": "stream",
          "text": [
            "INFO:ptsemseg:Iter [19080/24000]  Loss: 0.9790  Time/Image: 0.1600  lr=0.000856\n"
          ],
          "name": "stderr"
        },
        {
          "output_type": "stream",
          "text": [
            "Iter [19080/24000]  Loss: 0.9790  Time/Image: 0.1600  lr=0.000856\n"
          ],
          "name": "stdout"
        },
        {
          "output_type": "stream",
          "text": [
            "INFO:ptsemseg:Iter [19090/24000]  Loss: 0.9766  Time/Image: 0.1623  lr=0.000856\n"
          ],
          "name": "stderr"
        },
        {
          "output_type": "stream",
          "text": [
            "Iter [19090/24000]  Loss: 0.9766  Time/Image: 0.1623  lr=0.000856\n"
          ],
          "name": "stdout"
        },
        {
          "output_type": "stream",
          "text": [
            "INFO:ptsemseg:Iter [19100/24000]  Loss: 0.9795  Time/Image: 0.1599  lr=0.000856\n"
          ],
          "name": "stderr"
        },
        {
          "output_type": "stream",
          "text": [
            "Iter [19100/24000]  Loss: 0.9795  Time/Image: 0.1599  lr=0.000856\n"
          ],
          "name": "stdout"
        },
        {
          "output_type": "stream",
          "text": [
            "INFO:ptsemseg:Iter [19110/24000]  Loss: 0.9746  Time/Image: 0.1657  lr=0.000855\n"
          ],
          "name": "stderr"
        },
        {
          "output_type": "stream",
          "text": [
            "Iter [19110/24000]  Loss: 0.9746  Time/Image: 0.1657  lr=0.000855\n"
          ],
          "name": "stdout"
        },
        {
          "output_type": "stream",
          "text": [
            "INFO:ptsemseg:Iter [19120/24000]  Loss: 0.9723  Time/Image: 0.1633  lr=0.000855\n"
          ],
          "name": "stderr"
        },
        {
          "output_type": "stream",
          "text": [
            "Iter [19120/24000]  Loss: 0.9723  Time/Image: 0.1633  lr=0.000855\n"
          ],
          "name": "stdout"
        },
        {
          "output_type": "stream",
          "text": [
            "INFO:ptsemseg:Iter [19130/24000]  Loss: 0.9718  Time/Image: 0.1590  lr=0.000855\n"
          ],
          "name": "stderr"
        },
        {
          "output_type": "stream",
          "text": [
            "Iter [19130/24000]  Loss: 0.9718  Time/Image: 0.1590  lr=0.000855\n"
          ],
          "name": "stdout"
        },
        {
          "output_type": "stream",
          "text": [
            "INFO:ptsemseg:Iter [19140/24000]  Loss: 0.9701  Time/Image: 0.1619  lr=0.000855\n"
          ],
          "name": "stderr"
        },
        {
          "output_type": "stream",
          "text": [
            "Iter [19140/24000]  Loss: 0.9701  Time/Image: 0.1619  lr=0.000855\n"
          ],
          "name": "stdout"
        },
        {
          "output_type": "stream",
          "text": [
            "INFO:ptsemseg:Iter [19150/24000]  Loss: 0.9753  Time/Image: 0.1601  lr=0.000855\n"
          ],
          "name": "stderr"
        },
        {
          "output_type": "stream",
          "text": [
            "Iter [19150/24000]  Loss: 0.9753  Time/Image: 0.1601  lr=0.000855\n"
          ],
          "name": "stdout"
        },
        {
          "output_type": "stream",
          "text": [
            "INFO:ptsemseg:Iter [19160/24000]  Loss: 0.9772  Time/Image: 0.1605  lr=0.000855\n"
          ],
          "name": "stderr"
        },
        {
          "output_type": "stream",
          "text": [
            "Iter [19160/24000]  Loss: 0.9772  Time/Image: 0.1605  lr=0.000855\n"
          ],
          "name": "stdout"
        },
        {
          "output_type": "stream",
          "text": [
            "INFO:ptsemseg:Iter [19170/24000]  Loss: 0.9782  Time/Image: 0.1653  lr=0.000855\n"
          ],
          "name": "stderr"
        },
        {
          "output_type": "stream",
          "text": [
            "Iter [19170/24000]  Loss: 0.9782  Time/Image: 0.1653  lr=0.000855\n"
          ],
          "name": "stdout"
        },
        {
          "output_type": "stream",
          "text": [
            "INFO:ptsemseg:Iter [19180/24000]  Loss: 0.9766  Time/Image: 0.1665  lr=0.000855\n"
          ],
          "name": "stderr"
        },
        {
          "output_type": "stream",
          "text": [
            "Iter [19180/24000]  Loss: 0.9766  Time/Image: 0.1665  lr=0.000855\n"
          ],
          "name": "stdout"
        },
        {
          "output_type": "stream",
          "text": [
            "INFO:ptsemseg:Iter [19190/24000]  Loss: 0.9765  Time/Image: 0.1634  lr=0.000855\n"
          ],
          "name": "stderr"
        },
        {
          "output_type": "stream",
          "text": [
            "Iter [19190/24000]  Loss: 0.9765  Time/Image: 0.1634  lr=0.000855\n"
          ],
          "name": "stdout"
        },
        {
          "output_type": "stream",
          "text": [
            "INFO:ptsemseg:Iter [19200/24000]  Loss: 0.9772  Time/Image: 0.1639  lr=0.000855\n"
          ],
          "name": "stderr"
        },
        {
          "output_type": "stream",
          "text": [
            "Iter [19200/24000]  Loss: 0.9772  Time/Image: 0.1639  lr=0.000855\n"
          ],
          "name": "stdout"
        },
        {
          "output_type": "stream",
          "text": [
            "INFO:ptsemseg:Iter [19210/24000]  Loss: 0.9735  Time/Image: 0.1624  lr=0.000855\n"
          ],
          "name": "stderr"
        },
        {
          "output_type": "stream",
          "text": [
            "Iter [19210/24000]  Loss: 0.9735  Time/Image: 0.1624  lr=0.000855\n"
          ],
          "name": "stdout"
        },
        {
          "output_type": "stream",
          "text": [
            "INFO:ptsemseg:Iter [19220/24000]  Loss: 0.9748  Time/Image: 0.1633  lr=0.000855\n"
          ],
          "name": "stderr"
        },
        {
          "output_type": "stream",
          "text": [
            "Iter [19220/24000]  Loss: 0.9748  Time/Image: 0.1633  lr=0.000855\n"
          ],
          "name": "stdout"
        },
        {
          "output_type": "stream",
          "text": [
            "INFO:ptsemseg:Iter [19230/24000]  Loss: 0.9768  Time/Image: 0.1644  lr=0.000855\n"
          ],
          "name": "stderr"
        },
        {
          "output_type": "stream",
          "text": [
            "Iter [19230/24000]  Loss: 0.9768  Time/Image: 0.1644  lr=0.000855\n"
          ],
          "name": "stdout"
        },
        {
          "output_type": "stream",
          "text": [
            "INFO:ptsemseg:Iter [19240/24000]  Loss: 0.9799  Time/Image: 0.1624  lr=0.000854\n"
          ],
          "name": "stderr"
        },
        {
          "output_type": "stream",
          "text": [
            "Iter [19240/24000]  Loss: 0.9799  Time/Image: 0.1624  lr=0.000854\n"
          ],
          "name": "stdout"
        },
        {
          "output_type": "stream",
          "text": [
            "INFO:ptsemseg:Iter [19250/24000]  Loss: 0.9809  Time/Image: 0.1629  lr=0.000854\n"
          ],
          "name": "stderr"
        },
        {
          "output_type": "stream",
          "text": [
            "Iter [19250/24000]  Loss: 0.9809  Time/Image: 0.1629  lr=0.000854\n"
          ],
          "name": "stdout"
        },
        {
          "output_type": "stream",
          "text": [
            "INFO:ptsemseg:Iter [19260/24000]  Loss: 0.9801  Time/Image: 0.1589  lr=0.000854\n"
          ],
          "name": "stderr"
        },
        {
          "output_type": "stream",
          "text": [
            "Iter [19260/24000]  Loss: 0.9801  Time/Image: 0.1589  lr=0.000854\n"
          ],
          "name": "stdout"
        },
        {
          "output_type": "stream",
          "text": [
            "INFO:ptsemseg:Iter [19270/24000]  Loss: 0.9765  Time/Image: 0.1637  lr=0.000854\n"
          ],
          "name": "stderr"
        },
        {
          "output_type": "stream",
          "text": [
            "Iter [19270/24000]  Loss: 0.9765  Time/Image: 0.1637  lr=0.000854\n"
          ],
          "name": "stdout"
        },
        {
          "output_type": "stream",
          "text": [
            "INFO:ptsemseg:Iter [19280/24000]  Loss: 0.9784  Time/Image: 0.1639  lr=0.000854\n"
          ],
          "name": "stderr"
        },
        {
          "output_type": "stream",
          "text": [
            "Iter [19280/24000]  Loss: 0.9784  Time/Image: 0.1639  lr=0.000854\n"
          ],
          "name": "stdout"
        },
        {
          "output_type": "stream",
          "text": [
            "INFO:ptsemseg:Iter [19290/24000]  Loss: 0.9801  Time/Image: 0.1613  lr=0.000854\n"
          ],
          "name": "stderr"
        },
        {
          "output_type": "stream",
          "text": [
            "Iter [19290/24000]  Loss: 0.9801  Time/Image: 0.1613  lr=0.000854\n"
          ],
          "name": "stdout"
        },
        {
          "output_type": "stream",
          "text": [
            "INFO:ptsemseg:Iter [19300/24000]  Loss: 0.9829  Time/Image: 0.1640  lr=0.000854\n"
          ],
          "name": "stderr"
        },
        {
          "output_type": "stream",
          "text": [
            "Iter [19300/24000]  Loss: 0.9829  Time/Image: 0.1640  lr=0.000854\n"
          ],
          "name": "stdout"
        },
        {
          "output_type": "stream",
          "text": [
            "INFO:ptsemseg:Iter [19310/24000]  Loss: 0.9823  Time/Image: 0.1625  lr=0.000854\n"
          ],
          "name": "stderr"
        },
        {
          "output_type": "stream",
          "text": [
            "Iter [19310/24000]  Loss: 0.9823  Time/Image: 0.1625  lr=0.000854\n"
          ],
          "name": "stdout"
        },
        {
          "output_type": "stream",
          "text": [
            "INFO:ptsemseg:Iter [19320/24000]  Loss: 0.9854  Time/Image: 0.1648  lr=0.000854\n"
          ],
          "name": "stderr"
        },
        {
          "output_type": "stream",
          "text": [
            "Iter [19320/24000]  Loss: 0.9854  Time/Image: 0.1648  lr=0.000854\n"
          ],
          "name": "stdout"
        },
        {
          "output_type": "stream",
          "text": [
            "INFO:ptsemseg:Iter [19330/24000]  Loss: 0.9852  Time/Image: 0.1643  lr=0.000854\n"
          ],
          "name": "stderr"
        },
        {
          "output_type": "stream",
          "text": [
            "Iter [19330/24000]  Loss: 0.9852  Time/Image: 0.1643  lr=0.000854\n"
          ],
          "name": "stdout"
        },
        {
          "output_type": "stream",
          "text": [
            "INFO:ptsemseg:Iter [19340/24000]  Loss: 0.9879  Time/Image: 0.1672  lr=0.000854\n"
          ],
          "name": "stderr"
        },
        {
          "output_type": "stream",
          "text": [
            "Iter [19340/24000]  Loss: 0.9879  Time/Image: 0.1672  lr=0.000854\n"
          ],
          "name": "stdout"
        },
        {
          "output_type": "stream",
          "text": [
            "INFO:ptsemseg:Iter [19350/24000]  Loss: 0.9864  Time/Image: 0.1624  lr=0.000854\n"
          ],
          "name": "stderr"
        },
        {
          "output_type": "stream",
          "text": [
            "Iter [19350/24000]  Loss: 0.9864  Time/Image: 0.1624  lr=0.000854\n"
          ],
          "name": "stdout"
        },
        {
          "output_type": "stream",
          "text": [
            "INFO:ptsemseg:Iter [19360/24000]  Loss: 0.9855  Time/Image: 0.1630  lr=0.000854\n"
          ],
          "name": "stderr"
        },
        {
          "output_type": "stream",
          "text": [
            "Iter [19360/24000]  Loss: 0.9855  Time/Image: 0.1630  lr=0.000854\n"
          ],
          "name": "stdout"
        },
        {
          "output_type": "stream",
          "text": [
            "INFO:ptsemseg:Iter [19370/24000]  Loss: 0.9841  Time/Image: 0.1629  lr=0.000853\n"
          ],
          "name": "stderr"
        },
        {
          "output_type": "stream",
          "text": [
            "Iter [19370/24000]  Loss: 0.9841  Time/Image: 0.1629  lr=0.000853\n"
          ],
          "name": "stdout"
        },
        {
          "output_type": "stream",
          "text": [
            "INFO:ptsemseg:Iter [19380/24000]  Loss: 0.9852  Time/Image: 0.1614  lr=0.000853\n"
          ],
          "name": "stderr"
        },
        {
          "output_type": "stream",
          "text": [
            "Iter [19380/24000]  Loss: 0.9852  Time/Image: 0.1614  lr=0.000853\n"
          ],
          "name": "stdout"
        },
        {
          "output_type": "stream",
          "text": [
            "INFO:ptsemseg:Iter [19390/24000]  Loss: 0.9827  Time/Image: 0.1615  lr=0.000853\n"
          ],
          "name": "stderr"
        },
        {
          "output_type": "stream",
          "text": [
            "Iter [19390/24000]  Loss: 0.9827  Time/Image: 0.1615  lr=0.000853\n"
          ],
          "name": "stdout"
        },
        {
          "output_type": "stream",
          "text": [
            "INFO:ptsemseg:Iter [19400/24000]  Loss: 0.9810  Time/Image: 0.1570  lr=0.000853\n"
          ],
          "name": "stderr"
        },
        {
          "output_type": "stream",
          "text": [
            "Iter [19400/24000]  Loss: 0.9810  Time/Image: 0.1570  lr=0.000853\n"
          ],
          "name": "stdout"
        },
        {
          "output_type": "stream",
          "text": [
            "INFO:ptsemseg:Iter [19410/24000]  Loss: 0.9817  Time/Image: 0.1583  lr=0.000853\n"
          ],
          "name": "stderr"
        },
        {
          "output_type": "stream",
          "text": [
            "Iter [19410/24000]  Loss: 0.9817  Time/Image: 0.1583  lr=0.000853\n"
          ],
          "name": "stdout"
        },
        {
          "output_type": "stream",
          "text": [
            "INFO:ptsemseg:Iter [19420/24000]  Loss: 0.9810  Time/Image: 0.1557  lr=0.000853\n"
          ],
          "name": "stderr"
        },
        {
          "output_type": "stream",
          "text": [
            "Iter [19420/24000]  Loss: 0.9810  Time/Image: 0.1557  lr=0.000853\n"
          ],
          "name": "stdout"
        },
        {
          "output_type": "stream",
          "text": [
            "INFO:ptsemseg:Iter [19430/24000]  Loss: 0.9803  Time/Image: 0.1473  lr=0.000853\n"
          ],
          "name": "stderr"
        },
        {
          "output_type": "stream",
          "text": [
            "Iter [19430/24000]  Loss: 0.9803  Time/Image: 0.1473  lr=0.000853\n"
          ],
          "name": "stdout"
        },
        {
          "output_type": "stream",
          "text": [
            "INFO:ptsemseg:Iter [19440/24000]  Loss: 0.9808  Time/Image: 0.0994  lr=0.000853\n"
          ],
          "name": "stderr"
        },
        {
          "output_type": "stream",
          "text": [
            "Iter [19440/24000]  Loss: 0.9808  Time/Image: 0.0994  lr=0.000853\n"
          ],
          "name": "stdout"
        },
        {
          "output_type": "stream",
          "text": [
            "INFO:ptsemseg:Iter [19450/24000]  Loss: 0.9796  Time/Image: 0.1585  lr=0.000853\n"
          ],
          "name": "stderr"
        },
        {
          "output_type": "stream",
          "text": [
            "Iter [19450/24000]  Loss: 0.9796  Time/Image: 0.1585  lr=0.000853\n"
          ],
          "name": "stdout"
        },
        {
          "output_type": "stream",
          "text": [
            "INFO:ptsemseg:Iter [19460/24000]  Loss: 0.9787  Time/Image: 0.1647  lr=0.000853\n"
          ],
          "name": "stderr"
        },
        {
          "output_type": "stream",
          "text": [
            "Iter [19460/24000]  Loss: 0.9787  Time/Image: 0.1647  lr=0.000853\n"
          ],
          "name": "stdout"
        },
        {
          "output_type": "stream",
          "text": [
            "INFO:ptsemseg:Iter [19470/24000]  Loss: 0.9788  Time/Image: 0.1663  lr=0.000853\n"
          ],
          "name": "stderr"
        },
        {
          "output_type": "stream",
          "text": [
            "Iter [19470/24000]  Loss: 0.9788  Time/Image: 0.1663  lr=0.000853\n"
          ],
          "name": "stdout"
        },
        {
          "output_type": "stream",
          "text": [
            "INFO:ptsemseg:Iter [19480/24000]  Loss: 0.9782  Time/Image: 0.1601  lr=0.000853\n"
          ],
          "name": "stderr"
        },
        {
          "output_type": "stream",
          "text": [
            "Iter [19480/24000]  Loss: 0.9782  Time/Image: 0.1601  lr=0.000853\n"
          ],
          "name": "stdout"
        },
        {
          "output_type": "stream",
          "text": [
            "INFO:ptsemseg:Iter [19490/24000]  Loss: 0.9793  Time/Image: 0.1644  lr=0.000853\n"
          ],
          "name": "stderr"
        },
        {
          "output_type": "stream",
          "text": [
            "Iter [19490/24000]  Loss: 0.9793  Time/Image: 0.1644  lr=0.000853\n"
          ],
          "name": "stdout"
        },
        {
          "output_type": "stream",
          "text": [
            "INFO:ptsemseg:Iter [19500/24000]  Loss: 0.9797  Time/Image: 0.1620  lr=0.000852\n"
          ],
          "name": "stderr"
        },
        {
          "output_type": "stream",
          "text": [
            "Iter [19500/24000]  Loss: 0.9797  Time/Image: 0.1620  lr=0.000852\n"
          ],
          "name": "stdout"
        },
        {
          "output_type": "stream",
          "text": [
            "84it [03:13,  2.31s/it]\n",
            "INFO:ptsemseg:Iter 19500 Val Loss: 0.9617\n",
            "INFO:ptsemseg:Overall Acc: \t: 0.9242997694891624\n",
            "INFO:ptsemseg:Mean Acc : \t: 0.6519922459446056\n",
            "INFO:ptsemseg:FreqW Acc : \t: 0.8688374919443662\n",
            "INFO:ptsemseg:Mean IoU : \t: 0.5394740960854927\n",
            "INFO:ptsemseg:0: 0.9626681768061915\n",
            "INFO:ptsemseg:1: 0.7251957615408117\n",
            "INFO:ptsemseg:2: 0.8638676597174396\n",
            "INFO:ptsemseg:3: 0.24655826103393674\n",
            "INFO:ptsemseg:4: 0.42698509683789315\n",
            "INFO:ptsemseg:5: 0.45002737275972815\n",
            "INFO:ptsemseg:6: 0.4033007189588353\n",
            "INFO:ptsemseg:7: 0.5681773025332274\n",
            "INFO:ptsemseg:8: 0.8934439892866851\n",
            "INFO:ptsemseg:9: 0.4749801296854354\n",
            "INFO:ptsemseg:10: 0.8669537449627315\n",
            "INFO:ptsemseg:11: 0.6556016231360473\n",
            "INFO:ptsemseg:12: 0.2760372708476423\n",
            "INFO:ptsemseg:13: 0.8848102408028518\n",
            "INFO:ptsemseg:14: 0.13005072942407184\n",
            "INFO:ptsemseg:15: 0.44212101616264843\n",
            "INFO:ptsemseg:16: 0.2158210843164029\n",
            "INFO:ptsemseg:17: 0.1652071531044017\n",
            "INFO:ptsemseg:18: 0.5982004937073797\n"
          ],
          "name": "stderr"
        },
        {
          "output_type": "stream",
          "text": [
            "Overall Acc: \t 0.9242997694891624\n",
            "Mean Acc : \t 0.6519922459446056\n",
            "FreqW Acc : \t 0.8688374919443662\n",
            "Mean IoU : \t 0.5394740960854927\n"
          ],
          "name": "stdout"
        },
        {
          "output_type": "stream",
          "text": [
            "INFO:ptsemseg:Iter [19510/24000]  Loss: 0.9782  Time/Image: 0.1361  lr=0.000852\n"
          ],
          "name": "stderr"
        },
        {
          "output_type": "stream",
          "text": [
            "Iter [19510/24000]  Loss: 0.9782  Time/Image: 0.1361  lr=0.000852\n"
          ],
          "name": "stdout"
        },
        {
          "output_type": "stream",
          "text": [
            "INFO:ptsemseg:Iter [19520/24000]  Loss: 0.9935  Time/Image: 0.1645  lr=0.000852\n"
          ],
          "name": "stderr"
        },
        {
          "output_type": "stream",
          "text": [
            "Iter [19520/24000]  Loss: 0.9935  Time/Image: 0.1645  lr=0.000852\n"
          ],
          "name": "stdout"
        },
        {
          "output_type": "stream",
          "text": [
            "INFO:ptsemseg:Iter [19530/24000]  Loss: 0.9683  Time/Image: 0.1621  lr=0.000852\n"
          ],
          "name": "stderr"
        },
        {
          "output_type": "stream",
          "text": [
            "Iter [19530/24000]  Loss: 0.9683  Time/Image: 0.1621  lr=0.000852\n"
          ],
          "name": "stdout"
        },
        {
          "output_type": "stream",
          "text": [
            "INFO:ptsemseg:Iter [19540/24000]  Loss: 0.9674  Time/Image: 0.1608  lr=0.000852\n"
          ],
          "name": "stderr"
        },
        {
          "output_type": "stream",
          "text": [
            "Iter [19540/24000]  Loss: 0.9674  Time/Image: 0.1608  lr=0.000852\n"
          ],
          "name": "stdout"
        },
        {
          "output_type": "stream",
          "text": [
            "INFO:ptsemseg:Iter [19550/24000]  Loss: 0.9927  Time/Image: 0.1623  lr=0.000852\n"
          ],
          "name": "stderr"
        },
        {
          "output_type": "stream",
          "text": [
            "Iter [19550/24000]  Loss: 0.9927  Time/Image: 0.1623  lr=0.000852\n"
          ],
          "name": "stdout"
        },
        {
          "output_type": "stream",
          "text": [
            "INFO:ptsemseg:Iter [19560/24000]  Loss: 0.9865  Time/Image: 0.1570  lr=0.000852\n"
          ],
          "name": "stderr"
        },
        {
          "output_type": "stream",
          "text": [
            "Iter [19560/24000]  Loss: 0.9865  Time/Image: 0.1570  lr=0.000852\n"
          ],
          "name": "stdout"
        },
        {
          "output_type": "stream",
          "text": [
            "INFO:ptsemseg:Iter [19570/24000]  Loss: 0.9967  Time/Image: 0.1614  lr=0.000852\n"
          ],
          "name": "stderr"
        },
        {
          "output_type": "stream",
          "text": [
            "Iter [19570/24000]  Loss: 0.9967  Time/Image: 0.1614  lr=0.000852\n"
          ],
          "name": "stdout"
        },
        {
          "output_type": "stream",
          "text": [
            "INFO:ptsemseg:Iter [19580/24000]  Loss: 0.9834  Time/Image: 0.1610  lr=0.000852\n"
          ],
          "name": "stderr"
        },
        {
          "output_type": "stream",
          "text": [
            "Iter [19580/24000]  Loss: 0.9834  Time/Image: 0.1610  lr=0.000852\n"
          ],
          "name": "stdout"
        },
        {
          "output_type": "stream",
          "text": [
            "INFO:ptsemseg:Iter [19590/24000]  Loss: 0.9909  Time/Image: 0.1583  lr=0.000852\n"
          ],
          "name": "stderr"
        },
        {
          "output_type": "stream",
          "text": [
            "Iter [19590/24000]  Loss: 0.9909  Time/Image: 0.1583  lr=0.000852\n"
          ],
          "name": "stdout"
        },
        {
          "output_type": "stream",
          "text": [
            "INFO:ptsemseg:Iter [19600/24000]  Loss: 0.9893  Time/Image: 0.1608  lr=0.000852\n"
          ],
          "name": "stderr"
        },
        {
          "output_type": "stream",
          "text": [
            "Iter [19600/24000]  Loss: 0.9893  Time/Image: 0.1608  lr=0.000852\n"
          ],
          "name": "stdout"
        },
        {
          "output_type": "stream",
          "text": [
            "INFO:ptsemseg:Iter [19610/24000]  Loss: 0.9896  Time/Image: 0.1651  lr=0.000852\n"
          ],
          "name": "stderr"
        },
        {
          "output_type": "stream",
          "text": [
            "Iter [19610/24000]  Loss: 0.9896  Time/Image: 0.1651  lr=0.000852\n"
          ],
          "name": "stdout"
        },
        {
          "output_type": "stream",
          "text": [
            "INFO:ptsemseg:Iter [19620/24000]  Loss: 0.9923  Time/Image: 0.1618  lr=0.000852\n"
          ],
          "name": "stderr"
        },
        {
          "output_type": "stream",
          "text": [
            "Iter [19620/24000]  Loss: 0.9923  Time/Image: 0.1618  lr=0.000852\n"
          ],
          "name": "stdout"
        },
        {
          "output_type": "stream",
          "text": [
            "INFO:ptsemseg:Iter [19630/24000]  Loss: 0.9881  Time/Image: 0.1612  lr=0.000852\n"
          ],
          "name": "stderr"
        },
        {
          "output_type": "stream",
          "text": [
            "Iter [19630/24000]  Loss: 0.9881  Time/Image: 0.1612  lr=0.000852\n"
          ],
          "name": "stdout"
        },
        {
          "output_type": "stream",
          "text": [
            "INFO:ptsemseg:Iter [19640/24000]  Loss: 0.9820  Time/Image: 0.1614  lr=0.000851\n"
          ],
          "name": "stderr"
        },
        {
          "output_type": "stream",
          "text": [
            "Iter [19640/24000]  Loss: 0.9820  Time/Image: 0.1614  lr=0.000851\n"
          ],
          "name": "stdout"
        },
        {
          "output_type": "stream",
          "text": [
            "INFO:ptsemseg:Iter [19650/24000]  Loss: 0.9819  Time/Image: 0.1619  lr=0.000851\n"
          ],
          "name": "stderr"
        },
        {
          "output_type": "stream",
          "text": [
            "Iter [19650/24000]  Loss: 0.9819  Time/Image: 0.1619  lr=0.000851\n"
          ],
          "name": "stdout"
        },
        {
          "output_type": "stream",
          "text": [
            "INFO:ptsemseg:Iter [19660/24000]  Loss: 0.9860  Time/Image: 0.1595  lr=0.000851\n"
          ],
          "name": "stderr"
        },
        {
          "output_type": "stream",
          "text": [
            "Iter [19660/24000]  Loss: 0.9860  Time/Image: 0.1595  lr=0.000851\n"
          ],
          "name": "stdout"
        },
        {
          "output_type": "stream",
          "text": [
            "INFO:ptsemseg:Iter [19670/24000]  Loss: 0.9852  Time/Image: 0.1633  lr=0.000851\n"
          ],
          "name": "stderr"
        },
        {
          "output_type": "stream",
          "text": [
            "Iter [19670/24000]  Loss: 0.9852  Time/Image: 0.1633  lr=0.000851\n"
          ],
          "name": "stdout"
        },
        {
          "output_type": "stream",
          "text": [
            "INFO:ptsemseg:Iter [19680/24000]  Loss: 0.9863  Time/Image: 0.1642  lr=0.000851\n"
          ],
          "name": "stderr"
        },
        {
          "output_type": "stream",
          "text": [
            "Iter [19680/24000]  Loss: 0.9863  Time/Image: 0.1642  lr=0.000851\n"
          ],
          "name": "stdout"
        },
        {
          "output_type": "stream",
          "text": [
            "INFO:ptsemseg:Iter [19690/24000]  Loss: 0.9862  Time/Image: 0.1594  lr=0.000851\n"
          ],
          "name": "stderr"
        },
        {
          "output_type": "stream",
          "text": [
            "Iter [19690/24000]  Loss: 0.9862  Time/Image: 0.1594  lr=0.000851\n"
          ],
          "name": "stdout"
        },
        {
          "output_type": "stream",
          "text": [
            "INFO:ptsemseg:Iter [19700/24000]  Loss: 0.9827  Time/Image: 0.1661  lr=0.000851\n"
          ],
          "name": "stderr"
        },
        {
          "output_type": "stream",
          "text": [
            "Iter [19700/24000]  Loss: 0.9827  Time/Image: 0.1661  lr=0.000851\n"
          ],
          "name": "stdout"
        },
        {
          "output_type": "stream",
          "text": [
            "INFO:ptsemseg:Iter [19710/24000]  Loss: 0.9838  Time/Image: 0.1669  lr=0.000851\n"
          ],
          "name": "stderr"
        },
        {
          "output_type": "stream",
          "text": [
            "Iter [19710/24000]  Loss: 0.9838  Time/Image: 0.1669  lr=0.000851\n"
          ],
          "name": "stdout"
        },
        {
          "output_type": "stream",
          "text": [
            "INFO:ptsemseg:Iter [19720/24000]  Loss: 0.9822  Time/Image: 0.1680  lr=0.000851\n"
          ],
          "name": "stderr"
        },
        {
          "output_type": "stream",
          "text": [
            "Iter [19720/24000]  Loss: 0.9822  Time/Image: 0.1680  lr=0.000851\n"
          ],
          "name": "stdout"
        },
        {
          "output_type": "stream",
          "text": [
            "INFO:ptsemseg:Iter [19730/24000]  Loss: 0.9827  Time/Image: 0.1624  lr=0.000851\n"
          ],
          "name": "stderr"
        },
        {
          "output_type": "stream",
          "text": [
            "Iter [19730/24000]  Loss: 0.9827  Time/Image: 0.1624  lr=0.000851\n"
          ],
          "name": "stdout"
        },
        {
          "output_type": "stream",
          "text": [
            "INFO:ptsemseg:Iter [19740/24000]  Loss: 0.9792  Time/Image: 0.1639  lr=0.000851\n"
          ],
          "name": "stderr"
        },
        {
          "output_type": "stream",
          "text": [
            "Iter [19740/24000]  Loss: 0.9792  Time/Image: 0.1639  lr=0.000851\n"
          ],
          "name": "stdout"
        },
        {
          "output_type": "stream",
          "text": [
            "INFO:ptsemseg:Iter [19750/24000]  Loss: 0.9799  Time/Image: 0.1628  lr=0.000851\n"
          ],
          "name": "stderr"
        },
        {
          "output_type": "stream",
          "text": [
            "Iter [19750/24000]  Loss: 0.9799  Time/Image: 0.1628  lr=0.000851\n"
          ],
          "name": "stdout"
        },
        {
          "output_type": "stream",
          "text": [
            "INFO:ptsemseg:Iter [19760/24000]  Loss: 0.9808  Time/Image: 0.1631  lr=0.000851\n"
          ],
          "name": "stderr"
        },
        {
          "output_type": "stream",
          "text": [
            "Iter [19760/24000]  Loss: 0.9808  Time/Image: 0.1631  lr=0.000851\n"
          ],
          "name": "stdout"
        },
        {
          "output_type": "stream",
          "text": [
            "INFO:ptsemseg:Iter [19770/24000]  Loss: 0.9787  Time/Image: 0.1624  lr=0.000850\n"
          ],
          "name": "stderr"
        },
        {
          "output_type": "stream",
          "text": [
            "Iter [19770/24000]  Loss: 0.9787  Time/Image: 0.1624  lr=0.000850\n"
          ],
          "name": "stdout"
        },
        {
          "output_type": "stream",
          "text": [
            "INFO:ptsemseg:Iter [19780/24000]  Loss: 0.9788  Time/Image: 0.1616  lr=0.000850\n"
          ],
          "name": "stderr"
        },
        {
          "output_type": "stream",
          "text": [
            "Iter [19780/24000]  Loss: 0.9788  Time/Image: 0.1616  lr=0.000850\n"
          ],
          "name": "stdout"
        },
        {
          "output_type": "stream",
          "text": [
            "INFO:ptsemseg:Iter [19790/24000]  Loss: 0.9801  Time/Image: 0.1636  lr=0.000850\n"
          ],
          "name": "stderr"
        },
        {
          "output_type": "stream",
          "text": [
            "Iter [19790/24000]  Loss: 0.9801  Time/Image: 0.1636  lr=0.000850\n"
          ],
          "name": "stdout"
        },
        {
          "output_type": "stream",
          "text": [
            "INFO:ptsemseg:Iter [19800/24000]  Loss: 0.9817  Time/Image: 0.1613  lr=0.000850\n"
          ],
          "name": "stderr"
        },
        {
          "output_type": "stream",
          "text": [
            "Iter [19800/24000]  Loss: 0.9817  Time/Image: 0.1613  lr=0.000850\n"
          ],
          "name": "stdout"
        },
        {
          "output_type": "stream",
          "text": [
            "INFO:ptsemseg:Iter [19810/24000]  Loss: 0.9819  Time/Image: 0.1612  lr=0.000850\n"
          ],
          "name": "stderr"
        },
        {
          "output_type": "stream",
          "text": [
            "Iter [19810/24000]  Loss: 0.9819  Time/Image: 0.1612  lr=0.000850\n"
          ],
          "name": "stdout"
        },
        {
          "output_type": "stream",
          "text": [
            "INFO:ptsemseg:Iter [19820/24000]  Loss: 0.9806  Time/Image: 0.1604  lr=0.000850\n"
          ],
          "name": "stderr"
        },
        {
          "output_type": "stream",
          "text": [
            "Iter [19820/24000]  Loss: 0.9806  Time/Image: 0.1604  lr=0.000850\n"
          ],
          "name": "stdout"
        },
        {
          "output_type": "stream",
          "text": [
            "INFO:ptsemseg:Iter [19830/24000]  Loss: 0.9823  Time/Image: 0.1640  lr=0.000850\n"
          ],
          "name": "stderr"
        },
        {
          "output_type": "stream",
          "text": [
            "Iter [19830/24000]  Loss: 0.9823  Time/Image: 0.1640  lr=0.000850\n"
          ],
          "name": "stdout"
        },
        {
          "output_type": "stream",
          "text": [
            "INFO:ptsemseg:Iter [19840/24000]  Loss: 0.9824  Time/Image: 0.1632  lr=0.000850\n"
          ],
          "name": "stderr"
        },
        {
          "output_type": "stream",
          "text": [
            "Iter [19840/24000]  Loss: 0.9824  Time/Image: 0.1632  lr=0.000850\n"
          ],
          "name": "stdout"
        },
        {
          "output_type": "stream",
          "text": [
            "INFO:ptsemseg:Iter [19850/24000]  Loss: 0.9836  Time/Image: 0.1648  lr=0.000850\n"
          ],
          "name": "stderr"
        },
        {
          "output_type": "stream",
          "text": [
            "Iter [19850/24000]  Loss: 0.9836  Time/Image: 0.1648  lr=0.000850\n"
          ],
          "name": "stdout"
        },
        {
          "output_type": "stream",
          "text": [
            "INFO:ptsemseg:Iter [19860/24000]  Loss: 0.9818  Time/Image: 0.1647  lr=0.000850\n"
          ],
          "name": "stderr"
        },
        {
          "output_type": "stream",
          "text": [
            "Iter [19860/24000]  Loss: 0.9818  Time/Image: 0.1647  lr=0.000850\n"
          ],
          "name": "stdout"
        },
        {
          "output_type": "stream",
          "text": [
            "INFO:ptsemseg:Iter [19870/24000]  Loss: 0.9822  Time/Image: 0.1638  lr=0.000850\n"
          ],
          "name": "stderr"
        },
        {
          "output_type": "stream",
          "text": [
            "Iter [19870/24000]  Loss: 0.9822  Time/Image: 0.1638  lr=0.000850\n"
          ],
          "name": "stdout"
        },
        {
          "output_type": "stream",
          "text": [
            "INFO:ptsemseg:Iter [19880/24000]  Loss: 0.9815  Time/Image: 0.1616  lr=0.000850\n"
          ],
          "name": "stderr"
        },
        {
          "output_type": "stream",
          "text": [
            "Iter [19880/24000]  Loss: 0.9815  Time/Image: 0.1616  lr=0.000850\n"
          ],
          "name": "stdout"
        },
        {
          "output_type": "stream",
          "text": [
            "INFO:ptsemseg:Iter [19890/24000]  Loss: 0.9794  Time/Image: 0.1638  lr=0.000850\n"
          ],
          "name": "stderr"
        },
        {
          "output_type": "stream",
          "text": [
            "Iter [19890/24000]  Loss: 0.9794  Time/Image: 0.1638  lr=0.000850\n"
          ],
          "name": "stdout"
        },
        {
          "output_type": "stream",
          "text": [
            "INFO:ptsemseg:Iter [19900/24000]  Loss: 0.9802  Time/Image: 0.1570  lr=0.000849\n"
          ],
          "name": "stderr"
        },
        {
          "output_type": "stream",
          "text": [
            "Iter [19900/24000]  Loss: 0.9802  Time/Image: 0.1570  lr=0.000849\n"
          ],
          "name": "stdout"
        },
        {
          "output_type": "stream",
          "text": [
            "INFO:ptsemseg:Iter [19910/24000]  Loss: 0.9791  Time/Image: 0.1613  lr=0.000849\n"
          ],
          "name": "stderr"
        },
        {
          "output_type": "stream",
          "text": [
            "Iter [19910/24000]  Loss: 0.9791  Time/Image: 0.1613  lr=0.000849\n"
          ],
          "name": "stdout"
        },
        {
          "output_type": "stream",
          "text": [
            "INFO:ptsemseg:Iter [19920/24000]  Loss: 0.9797  Time/Image: 0.1563  lr=0.000849\n"
          ],
          "name": "stderr"
        },
        {
          "output_type": "stream",
          "text": [
            "Iter [19920/24000]  Loss: 0.9797  Time/Image: 0.1563  lr=0.000849\n"
          ],
          "name": "stdout"
        },
        {
          "output_type": "stream",
          "text": [
            "INFO:ptsemseg:Iter [19930/24000]  Loss: 0.9800  Time/Image: 0.1371  lr=0.000849\n"
          ],
          "name": "stderr"
        },
        {
          "output_type": "stream",
          "text": [
            "Iter [19930/24000]  Loss: 0.9800  Time/Image: 0.1371  lr=0.000849\n"
          ],
          "name": "stdout"
        },
        {
          "output_type": "stream",
          "text": [
            "INFO:ptsemseg:Iter [19940/24000]  Loss: 0.9800  Time/Image: 0.1159  lr=0.000849\n"
          ],
          "name": "stderr"
        },
        {
          "output_type": "stream",
          "text": [
            "Iter [19940/24000]  Loss: 0.9800  Time/Image: 0.1159  lr=0.000849\n"
          ],
          "name": "stdout"
        },
        {
          "output_type": "stream",
          "text": [
            "INFO:ptsemseg:Iter [19950/24000]  Loss: 0.9797  Time/Image: 0.1622  lr=0.000849\n"
          ],
          "name": "stderr"
        },
        {
          "output_type": "stream",
          "text": [
            "Iter [19950/24000]  Loss: 0.9797  Time/Image: 0.1622  lr=0.000849\n"
          ],
          "name": "stdout"
        },
        {
          "output_type": "stream",
          "text": [
            "INFO:ptsemseg:Iter [19960/24000]  Loss: 0.9794  Time/Image: 0.1633  lr=0.000849\n"
          ],
          "name": "stderr"
        },
        {
          "output_type": "stream",
          "text": [
            "Iter [19960/24000]  Loss: 0.9794  Time/Image: 0.1633  lr=0.000849\n"
          ],
          "name": "stdout"
        },
        {
          "output_type": "stream",
          "text": [
            "INFO:ptsemseg:Iter [19970/24000]  Loss: 0.9796  Time/Image: 0.1665  lr=0.000849\n"
          ],
          "name": "stderr"
        },
        {
          "output_type": "stream",
          "text": [
            "Iter [19970/24000]  Loss: 0.9796  Time/Image: 0.1665  lr=0.000849\n"
          ],
          "name": "stdout"
        },
        {
          "output_type": "stream",
          "text": [
            "INFO:ptsemseg:Iter [19980/24000]  Loss: 0.9797  Time/Image: 0.1625  lr=0.000849\n"
          ],
          "name": "stderr"
        },
        {
          "output_type": "stream",
          "text": [
            "Iter [19980/24000]  Loss: 0.9797  Time/Image: 0.1625  lr=0.000849\n"
          ],
          "name": "stdout"
        },
        {
          "output_type": "stream",
          "text": [
            "INFO:ptsemseg:Iter [19990/24000]  Loss: 0.9818  Time/Image: 0.1616  lr=0.000849\n"
          ],
          "name": "stderr"
        },
        {
          "output_type": "stream",
          "text": [
            "Iter [19990/24000]  Loss: 0.9818  Time/Image: 0.1616  lr=0.000849\n"
          ],
          "name": "stdout"
        },
        {
          "output_type": "stream",
          "text": [
            "INFO:ptsemseg:Iter [20000/24000]  Loss: 0.9816  Time/Image: 0.1642  lr=0.000849\n"
          ],
          "name": "stderr"
        },
        {
          "output_type": "stream",
          "text": [
            "Iter [20000/24000]  Loss: 0.9816  Time/Image: 0.1642  lr=0.000849\n"
          ],
          "name": "stdout"
        },
        {
          "output_type": "stream",
          "text": [
            "84it [03:18,  2.36s/it]\n",
            "INFO:ptsemseg:Iter 20000 Val Loss: 0.9682\n",
            "INFO:ptsemseg:Overall Acc: \t: 0.9307293530479733\n",
            "INFO:ptsemseg:Mean Acc : \t: 0.6408889408382507\n",
            "INFO:ptsemseg:FreqW Acc : \t: 0.8777749610383668\n",
            "INFO:ptsemseg:Mean IoU : \t: 0.5455877541831377\n",
            "INFO:ptsemseg:0: 0.968496145464889\n",
            "INFO:ptsemseg:1: 0.7566874742087051\n",
            "INFO:ptsemseg:2: 0.8736146746732417\n",
            "INFO:ptsemseg:3: 0.2620887952762331\n",
            "INFO:ptsemseg:4: 0.4314095035132109\n",
            "INFO:ptsemseg:5: 0.45212639207356026\n",
            "INFO:ptsemseg:6: 0.42600888013739335\n",
            "INFO:ptsemseg:7: 0.5624123240687263\n",
            "INFO:ptsemseg:8: 0.8958469573441559\n",
            "INFO:ptsemseg:9: 0.4880407800795812\n",
            "INFO:ptsemseg:10: 0.9163391475536513\n",
            "INFO:ptsemseg:11: 0.6610039415919778\n",
            "INFO:ptsemseg:12: 0.31385028565763007\n",
            "INFO:ptsemseg:13: 0.8974852546371815\n",
            "INFO:ptsemseg:14: 0.16470508261543462\n",
            "INFO:ptsemseg:15: 0.2465644662145153\n",
            "INFO:ptsemseg:16: 0.2179472263081853\n",
            "INFO:ptsemseg:17: 0.20843634188951832\n",
            "INFO:ptsemseg:18: 0.6231036561718245\n"
          ],
          "name": "stderr"
        },
        {
          "output_type": "stream",
          "text": [
            "Overall Acc: \t 0.9307293530479733\n",
            "Mean Acc : \t 0.6408889408382507\n",
            "FreqW Acc : \t 0.8777749610383668\n",
            "Mean IoU : \t 0.5455877541831377\n"
          ],
          "name": "stdout"
        },
        {
          "output_type": "stream",
          "text": [
            "INFO:ptsemseg:Iter [20010/24000]  Loss: 0.9747  Time/Image: 0.1420  lr=0.000849\n"
          ],
          "name": "stderr"
        },
        {
          "output_type": "stream",
          "text": [
            "Iter [20010/24000]  Loss: 0.9747  Time/Image: 0.1420  lr=0.000849\n"
          ],
          "name": "stdout"
        },
        {
          "output_type": "stream",
          "text": [
            "INFO:ptsemseg:Iter [20020/24000]  Loss: 0.9757  Time/Image: 0.1688  lr=0.000849\n"
          ],
          "name": "stderr"
        },
        {
          "output_type": "stream",
          "text": [
            "Iter [20020/24000]  Loss: 0.9757  Time/Image: 0.1688  lr=0.000849\n"
          ],
          "name": "stdout"
        },
        {
          "output_type": "stream",
          "text": [
            "INFO:ptsemseg:Iter [20030/24000]  Loss: 0.9867  Time/Image: 0.1663  lr=0.000848\n"
          ],
          "name": "stderr"
        },
        {
          "output_type": "stream",
          "text": [
            "Iter [20030/24000]  Loss: 0.9867  Time/Image: 0.1663  lr=0.000848\n"
          ],
          "name": "stdout"
        },
        {
          "output_type": "stream",
          "text": [
            "INFO:ptsemseg:Iter [20040/24000]  Loss: 0.9694  Time/Image: 0.1659  lr=0.000848\n"
          ],
          "name": "stderr"
        },
        {
          "output_type": "stream",
          "text": [
            "Iter [20040/24000]  Loss: 0.9694  Time/Image: 0.1659  lr=0.000848\n"
          ],
          "name": "stdout"
        },
        {
          "output_type": "stream",
          "text": [
            "INFO:ptsemseg:Iter [20050/24000]  Loss: 0.9755  Time/Image: 0.1654  lr=0.000848\n"
          ],
          "name": "stderr"
        },
        {
          "output_type": "stream",
          "text": [
            "Iter [20050/24000]  Loss: 0.9755  Time/Image: 0.1654  lr=0.000848\n"
          ],
          "name": "stdout"
        },
        {
          "output_type": "stream",
          "text": [
            "INFO:ptsemseg:Iter [20060/24000]  Loss: 0.9736  Time/Image: 0.1653  lr=0.000848\n"
          ],
          "name": "stderr"
        },
        {
          "output_type": "stream",
          "text": [
            "Iter [20060/24000]  Loss: 0.9736  Time/Image: 0.1653  lr=0.000848\n"
          ],
          "name": "stdout"
        },
        {
          "output_type": "stream",
          "text": [
            "INFO:ptsemseg:Iter [20070/24000]  Loss: 0.9799  Time/Image: 0.1683  lr=0.000848\n"
          ],
          "name": "stderr"
        },
        {
          "output_type": "stream",
          "text": [
            "Iter [20070/24000]  Loss: 0.9799  Time/Image: 0.1683  lr=0.000848\n"
          ],
          "name": "stdout"
        },
        {
          "output_type": "stream",
          "text": [
            "INFO:ptsemseg:Iter [20080/24000]  Loss: 0.9832  Time/Image: 0.1672  lr=0.000848\n"
          ],
          "name": "stderr"
        },
        {
          "output_type": "stream",
          "text": [
            "Iter [20080/24000]  Loss: 0.9832  Time/Image: 0.1672  lr=0.000848\n"
          ],
          "name": "stdout"
        },
        {
          "output_type": "stream",
          "text": [
            "INFO:ptsemseg:Iter [20090/24000]  Loss: 0.9811  Time/Image: 0.1624  lr=0.000848\n"
          ],
          "name": "stderr"
        },
        {
          "output_type": "stream",
          "text": [
            "Iter [20090/24000]  Loss: 0.9811  Time/Image: 0.1624  lr=0.000848\n"
          ],
          "name": "stdout"
        },
        {
          "output_type": "stream",
          "text": [
            "INFO:ptsemseg:Iter [20100/24000]  Loss: 0.9784  Time/Image: 0.1684  lr=0.000848\n"
          ],
          "name": "stderr"
        },
        {
          "output_type": "stream",
          "text": [
            "Iter [20100/24000]  Loss: 0.9784  Time/Image: 0.1684  lr=0.000848\n"
          ],
          "name": "stdout"
        },
        {
          "output_type": "stream",
          "text": [
            "INFO:ptsemseg:Iter [20110/24000]  Loss: 0.9812  Time/Image: 0.1705  lr=0.000848\n"
          ],
          "name": "stderr"
        },
        {
          "output_type": "stream",
          "text": [
            "Iter [20110/24000]  Loss: 0.9812  Time/Image: 0.1705  lr=0.000848\n"
          ],
          "name": "stdout"
        },
        {
          "output_type": "stream",
          "text": [
            "INFO:ptsemseg:Iter [20120/24000]  Loss: 0.9863  Time/Image: 0.1632  lr=0.000848\n"
          ],
          "name": "stderr"
        },
        {
          "output_type": "stream",
          "text": [
            "Iter [20120/24000]  Loss: 0.9863  Time/Image: 0.1632  lr=0.000848\n"
          ],
          "name": "stdout"
        },
        {
          "output_type": "stream",
          "text": [
            "INFO:ptsemseg:Iter [20130/24000]  Loss: 0.9830  Time/Image: 0.1686  lr=0.000848\n"
          ],
          "name": "stderr"
        },
        {
          "output_type": "stream",
          "text": [
            "Iter [20130/24000]  Loss: 0.9830  Time/Image: 0.1686  lr=0.000848\n"
          ],
          "name": "stdout"
        },
        {
          "output_type": "stream",
          "text": [
            "INFO:ptsemseg:Iter [20140/24000]  Loss: 0.9802  Time/Image: 0.1642  lr=0.000848\n"
          ],
          "name": "stderr"
        },
        {
          "output_type": "stream",
          "text": [
            "Iter [20140/24000]  Loss: 0.9802  Time/Image: 0.1642  lr=0.000848\n"
          ],
          "name": "stdout"
        },
        {
          "output_type": "stream",
          "text": [
            "INFO:ptsemseg:Iter [20150/24000]  Loss: 0.9834  Time/Image: 0.1663  lr=0.000848\n"
          ],
          "name": "stderr"
        },
        {
          "output_type": "stream",
          "text": [
            "Iter [20150/24000]  Loss: 0.9834  Time/Image: 0.1663  lr=0.000848\n"
          ],
          "name": "stdout"
        },
        {
          "output_type": "stream",
          "text": [
            "INFO:ptsemseg:Iter [20160/24000]  Loss: 0.9782  Time/Image: 0.1677  lr=0.000847\n"
          ],
          "name": "stderr"
        },
        {
          "output_type": "stream",
          "text": [
            "Iter [20160/24000]  Loss: 0.9782  Time/Image: 0.1677  lr=0.000847\n"
          ],
          "name": "stdout"
        },
        {
          "output_type": "stream",
          "text": [
            "INFO:ptsemseg:Iter [20170/24000]  Loss: 0.9799  Time/Image: 0.1678  lr=0.000847\n"
          ],
          "name": "stderr"
        },
        {
          "output_type": "stream",
          "text": [
            "Iter [20170/24000]  Loss: 0.9799  Time/Image: 0.1678  lr=0.000847\n"
          ],
          "name": "stdout"
        },
        {
          "output_type": "stream",
          "text": [
            "INFO:ptsemseg:Iter [20180/24000]  Loss: 0.9771  Time/Image: 0.1653  lr=0.000847\n"
          ],
          "name": "stderr"
        },
        {
          "output_type": "stream",
          "text": [
            "Iter [20180/24000]  Loss: 0.9771  Time/Image: 0.1653  lr=0.000847\n"
          ],
          "name": "stdout"
        },
        {
          "output_type": "stream",
          "text": [
            "INFO:ptsemseg:Iter [20190/24000]  Loss: 0.9811  Time/Image: 0.1640  lr=0.000847\n"
          ],
          "name": "stderr"
        },
        {
          "output_type": "stream",
          "text": [
            "Iter [20190/24000]  Loss: 0.9811  Time/Image: 0.1640  lr=0.000847\n"
          ],
          "name": "stdout"
        },
        {
          "output_type": "stream",
          "text": [
            "INFO:ptsemseg:Iter [20200/24000]  Loss: 0.9804  Time/Image: 0.1704  lr=0.000847\n"
          ],
          "name": "stderr"
        },
        {
          "output_type": "stream",
          "text": [
            "Iter [20200/24000]  Loss: 0.9804  Time/Image: 0.1704  lr=0.000847\n"
          ],
          "name": "stdout"
        },
        {
          "output_type": "stream",
          "text": [
            "INFO:ptsemseg:Iter [20210/24000]  Loss: 0.9783  Time/Image: 0.1734  lr=0.000847\n"
          ],
          "name": "stderr"
        },
        {
          "output_type": "stream",
          "text": [
            "Iter [20210/24000]  Loss: 0.9783  Time/Image: 0.1734  lr=0.000847\n"
          ],
          "name": "stdout"
        },
        {
          "output_type": "stream",
          "text": [
            "INFO:ptsemseg:Iter [20220/24000]  Loss: 0.9779  Time/Image: 0.1709  lr=0.000847\n"
          ],
          "name": "stderr"
        },
        {
          "output_type": "stream",
          "text": [
            "Iter [20220/24000]  Loss: 0.9779  Time/Image: 0.1709  lr=0.000847\n"
          ],
          "name": "stdout"
        },
        {
          "output_type": "stream",
          "text": [
            "INFO:ptsemseg:Iter [20230/24000]  Loss: 0.9802  Time/Image: 0.1670  lr=0.000847\n"
          ],
          "name": "stderr"
        },
        {
          "output_type": "stream",
          "text": [
            "Iter [20230/24000]  Loss: 0.9802  Time/Image: 0.1670  lr=0.000847\n"
          ],
          "name": "stdout"
        },
        {
          "output_type": "stream",
          "text": [
            "INFO:ptsemseg:Iter [20240/24000]  Loss: 0.9795  Time/Image: 0.1670  lr=0.000847\n"
          ],
          "name": "stderr"
        },
        {
          "output_type": "stream",
          "text": [
            "Iter [20240/24000]  Loss: 0.9795  Time/Image: 0.1670  lr=0.000847\n"
          ],
          "name": "stdout"
        },
        {
          "output_type": "stream",
          "text": [
            "INFO:ptsemseg:Iter [20250/24000]  Loss: 0.9781  Time/Image: 0.1666  lr=0.000847\n"
          ],
          "name": "stderr"
        },
        {
          "output_type": "stream",
          "text": [
            "Iter [20250/24000]  Loss: 0.9781  Time/Image: 0.1666  lr=0.000847\n"
          ],
          "name": "stdout"
        },
        {
          "output_type": "stream",
          "text": [
            "INFO:ptsemseg:Iter [20260/24000]  Loss: 0.9782  Time/Image: 0.1684  lr=0.000847\n"
          ],
          "name": "stderr"
        },
        {
          "output_type": "stream",
          "text": [
            "Iter [20260/24000]  Loss: 0.9782  Time/Image: 0.1684  lr=0.000847\n"
          ],
          "name": "stdout"
        },
        {
          "output_type": "stream",
          "text": [
            "INFO:ptsemseg:Iter [20270/24000]  Loss: 0.9773  Time/Image: 0.1672  lr=0.000847\n"
          ],
          "name": "stderr"
        },
        {
          "output_type": "stream",
          "text": [
            "Iter [20270/24000]  Loss: 0.9773  Time/Image: 0.1672  lr=0.000847\n"
          ],
          "name": "stdout"
        },
        {
          "output_type": "stream",
          "text": [
            "INFO:ptsemseg:Iter [20280/24000]  Loss: 0.9808  Time/Image: 0.1676  lr=0.000847\n"
          ],
          "name": "stderr"
        },
        {
          "output_type": "stream",
          "text": [
            "Iter [20280/24000]  Loss: 0.9808  Time/Image: 0.1676  lr=0.000847\n"
          ],
          "name": "stdout"
        },
        {
          "output_type": "stream",
          "text": [
            "INFO:ptsemseg:Iter [20290/24000]  Loss: 0.9803  Time/Image: 0.1669  lr=0.000846\n"
          ],
          "name": "stderr"
        },
        {
          "output_type": "stream",
          "text": [
            "Iter [20290/24000]  Loss: 0.9803  Time/Image: 0.1669  lr=0.000846\n"
          ],
          "name": "stdout"
        },
        {
          "output_type": "stream",
          "text": [
            "INFO:ptsemseg:Iter [20300/24000]  Loss: 0.9767  Time/Image: 0.1691  lr=0.000846\n"
          ],
          "name": "stderr"
        },
        {
          "output_type": "stream",
          "text": [
            "Iter [20300/24000]  Loss: 0.9767  Time/Image: 0.1691  lr=0.000846\n"
          ],
          "name": "stdout"
        },
        {
          "output_type": "stream",
          "text": [
            "INFO:ptsemseg:Iter [20310/24000]  Loss: 0.9766  Time/Image: 0.1687  lr=0.000846\n"
          ],
          "name": "stderr"
        },
        {
          "output_type": "stream",
          "text": [
            "Iter [20310/24000]  Loss: 0.9766  Time/Image: 0.1687  lr=0.000846\n"
          ],
          "name": "stdout"
        },
        {
          "output_type": "stream",
          "text": [
            "INFO:ptsemseg:Iter [20320/24000]  Loss: 0.9800  Time/Image: 0.1673  lr=0.000846\n"
          ],
          "name": "stderr"
        },
        {
          "output_type": "stream",
          "text": [
            "Iter [20320/24000]  Loss: 0.9800  Time/Image: 0.1673  lr=0.000846\n"
          ],
          "name": "stdout"
        },
        {
          "output_type": "stream",
          "text": [
            "INFO:ptsemseg:Iter [20330/24000]  Loss: 0.9799  Time/Image: 0.1661  lr=0.000846\n"
          ],
          "name": "stderr"
        },
        {
          "output_type": "stream",
          "text": [
            "Iter [20330/24000]  Loss: 0.9799  Time/Image: 0.1661  lr=0.000846\n"
          ],
          "name": "stdout"
        },
        {
          "output_type": "stream",
          "text": [
            "INFO:ptsemseg:Iter [20340/24000]  Loss: 0.9815  Time/Image: 0.1693  lr=0.000846\n"
          ],
          "name": "stderr"
        },
        {
          "output_type": "stream",
          "text": [
            "Iter [20340/24000]  Loss: 0.9815  Time/Image: 0.1693  lr=0.000846\n"
          ],
          "name": "stdout"
        },
        {
          "output_type": "stream",
          "text": [
            "INFO:ptsemseg:Iter [20350/24000]  Loss: 0.9827  Time/Image: 0.1664  lr=0.000846\n"
          ],
          "name": "stderr"
        },
        {
          "output_type": "stream",
          "text": [
            "Iter [20350/24000]  Loss: 0.9827  Time/Image: 0.1664  lr=0.000846\n"
          ],
          "name": "stdout"
        },
        {
          "output_type": "stream",
          "text": [
            "INFO:ptsemseg:Iter [20360/24000]  Loss: 0.9816  Time/Image: 0.1635  lr=0.000846\n"
          ],
          "name": "stderr"
        },
        {
          "output_type": "stream",
          "text": [
            "Iter [20360/24000]  Loss: 0.9816  Time/Image: 0.1635  lr=0.000846\n"
          ],
          "name": "stdout"
        },
        {
          "output_type": "stream",
          "text": [
            "INFO:ptsemseg:Iter [20370/24000]  Loss: 0.9829  Time/Image: 0.1694  lr=0.000846\n"
          ],
          "name": "stderr"
        },
        {
          "output_type": "stream",
          "text": [
            "Iter [20370/24000]  Loss: 0.9829  Time/Image: 0.1694  lr=0.000846\n"
          ],
          "name": "stdout"
        },
        {
          "output_type": "stream",
          "text": [
            "INFO:ptsemseg:Iter [20380/24000]  Loss: 0.9820  Time/Image: 0.1628  lr=0.000846\n"
          ],
          "name": "stderr"
        },
        {
          "output_type": "stream",
          "text": [
            "Iter [20380/24000]  Loss: 0.9820  Time/Image: 0.1628  lr=0.000846\n"
          ],
          "name": "stdout"
        },
        {
          "output_type": "stream",
          "text": [
            "INFO:ptsemseg:Iter [20390/24000]  Loss: 0.9809  Time/Image: 0.1677  lr=0.000846\n"
          ],
          "name": "stderr"
        },
        {
          "output_type": "stream",
          "text": [
            "Iter [20390/24000]  Loss: 0.9809  Time/Image: 0.1677  lr=0.000846\n"
          ],
          "name": "stdout"
        },
        {
          "output_type": "stream",
          "text": [
            "INFO:ptsemseg:Iter [20400/24000]  Loss: 0.9828  Time/Image: 0.1593  lr=0.000846\n"
          ],
          "name": "stderr"
        },
        {
          "output_type": "stream",
          "text": [
            "Iter [20400/24000]  Loss: 0.9828  Time/Image: 0.1593  lr=0.000846\n"
          ],
          "name": "stdout"
        },
        {
          "output_type": "stream",
          "text": [
            "INFO:ptsemseg:Iter [20410/24000]  Loss: 0.9809  Time/Image: 0.1617  lr=0.000846\n"
          ],
          "name": "stderr"
        },
        {
          "output_type": "stream",
          "text": [
            "Iter [20410/24000]  Loss: 0.9809  Time/Image: 0.1617  lr=0.000846\n"
          ],
          "name": "stdout"
        },
        {
          "output_type": "stream",
          "text": [
            "INFO:ptsemseg:Iter [20420/24000]  Loss: 0.9790  Time/Image: 0.1539  lr=0.000845\n"
          ],
          "name": "stderr"
        },
        {
          "output_type": "stream",
          "text": [
            "Iter [20420/24000]  Loss: 0.9790  Time/Image: 0.1539  lr=0.000845\n"
          ],
          "name": "stdout"
        },
        {
          "output_type": "stream",
          "text": [
            "INFO:ptsemseg:Iter [20430/24000]  Loss: 0.9798  Time/Image: 0.1214  lr=0.000845\n"
          ],
          "name": "stderr"
        },
        {
          "output_type": "stream",
          "text": [
            "Iter [20430/24000]  Loss: 0.9798  Time/Image: 0.1214  lr=0.000845\n"
          ],
          "name": "stdout"
        },
        {
          "output_type": "stream",
          "text": [
            "INFO:ptsemseg:Iter [20440/24000]  Loss: 0.9807  Time/Image: 0.1441  lr=0.000845\n"
          ],
          "name": "stderr"
        },
        {
          "output_type": "stream",
          "text": [
            "Iter [20440/24000]  Loss: 0.9807  Time/Image: 0.1441  lr=0.000845\n"
          ],
          "name": "stdout"
        },
        {
          "output_type": "stream",
          "text": [
            "INFO:ptsemseg:Iter [20450/24000]  Loss: 0.9793  Time/Image: 0.1675  lr=0.000845\n"
          ],
          "name": "stderr"
        },
        {
          "output_type": "stream",
          "text": [
            "Iter [20450/24000]  Loss: 0.9793  Time/Image: 0.1675  lr=0.000845\n"
          ],
          "name": "stdout"
        },
        {
          "output_type": "stream",
          "text": [
            "INFO:ptsemseg:Iter [20460/24000]  Loss: 0.9790  Time/Image: 0.1668  lr=0.000845\n"
          ],
          "name": "stderr"
        },
        {
          "output_type": "stream",
          "text": [
            "Iter [20460/24000]  Loss: 0.9790  Time/Image: 0.1668  lr=0.000845\n"
          ],
          "name": "stdout"
        },
        {
          "output_type": "stream",
          "text": [
            "INFO:ptsemseg:Iter [20470/24000]  Loss: 0.9793  Time/Image: 0.1671  lr=0.000845\n"
          ],
          "name": "stderr"
        },
        {
          "output_type": "stream",
          "text": [
            "Iter [20470/24000]  Loss: 0.9793  Time/Image: 0.1671  lr=0.000845\n"
          ],
          "name": "stdout"
        },
        {
          "output_type": "stream",
          "text": [
            "INFO:ptsemseg:Iter [20480/24000]  Loss: 0.9797  Time/Image: 0.1663  lr=0.000845\n"
          ],
          "name": "stderr"
        },
        {
          "output_type": "stream",
          "text": [
            "Iter [20480/24000]  Loss: 0.9797  Time/Image: 0.1663  lr=0.000845\n"
          ],
          "name": "stdout"
        },
        {
          "output_type": "stream",
          "text": [
            "INFO:ptsemseg:Iter [20490/24000]  Loss: 0.9787  Time/Image: 0.1691  lr=0.000845\n"
          ],
          "name": "stderr"
        },
        {
          "output_type": "stream",
          "text": [
            "Iter [20490/24000]  Loss: 0.9787  Time/Image: 0.1691  lr=0.000845\n"
          ],
          "name": "stdout"
        },
        {
          "output_type": "stream",
          "text": [
            "INFO:ptsemseg:Iter [20500/24000]  Loss: 0.9765  Time/Image: 0.1701  lr=0.000845\n"
          ],
          "name": "stderr"
        },
        {
          "output_type": "stream",
          "text": [
            "Iter [20500/24000]  Loss: 0.9765  Time/Image: 0.1701  lr=0.000845\n"
          ],
          "name": "stdout"
        },
        {
          "output_type": "stream",
          "text": [
            "84it [03:14,  2.32s/it]\n",
            "INFO:ptsemseg:Iter 20500 Val Loss: 0.9436\n",
            "INFO:ptsemseg:Overall Acc: \t: 0.9260063326814777\n",
            "INFO:ptsemseg:Mean Acc : \t: 0.6436177744278767\n",
            "INFO:ptsemseg:FreqW Acc : \t: 0.8723111107206412\n",
            "INFO:ptsemseg:Mean IoU : \t: 0.5331255706737682\n",
            "INFO:ptsemseg:0: 0.9664255467598354\n",
            "INFO:ptsemseg:1: 0.7423868946963907\n",
            "INFO:ptsemseg:2: 0.8696519451480565\n",
            "INFO:ptsemseg:3: 0.2545904470435094\n",
            "INFO:ptsemseg:4: 0.4235655319049883\n",
            "INFO:ptsemseg:5: 0.44788690849130247\n",
            "INFO:ptsemseg:6: 0.44595697619053615\n",
            "INFO:ptsemseg:7: 0.582891064054228\n",
            "INFO:ptsemseg:8: 0.8936145369515658\n",
            "INFO:ptsemseg:9: 0.4777821143196106\n",
            "INFO:ptsemseg:10: 0.9110916713122439\n",
            "INFO:ptsemseg:11: 0.5703208776024843\n",
            "INFO:ptsemseg:12: 0.33998832205185875\n",
            "INFO:ptsemseg:13: 0.8770262604884241\n",
            "INFO:ptsemseg:14: 0.20777210163939153\n",
            "INFO:ptsemseg:15: 0.3856719646658218\n",
            "INFO:ptsemseg:16: 0.0025931307942730335\n",
            "INFO:ptsemseg:17: 0.15166780005006708\n",
            "INFO:ptsemseg:18: 0.5785017486370081\n"
          ],
          "name": "stderr"
        },
        {
          "output_type": "stream",
          "text": [
            "Overall Acc: \t 0.9260063326814777\n",
            "Mean Acc : \t 0.6436177744278767\n",
            "FreqW Acc : \t 0.8723111107206412\n",
            "Mean IoU : \t 0.5331255706737682\n"
          ],
          "name": "stdout"
        },
        {
          "output_type": "stream",
          "text": [
            "INFO:ptsemseg:Iter [20510/24000]  Loss: 0.9641  Time/Image: 0.1472  lr=0.000845\n"
          ],
          "name": "stderr"
        },
        {
          "output_type": "stream",
          "text": [
            "Iter [20510/24000]  Loss: 0.9641  Time/Image: 0.1472  lr=0.000845\n"
          ],
          "name": "stdout"
        },
        {
          "output_type": "stream",
          "text": [
            "INFO:ptsemseg:Iter [20520/24000]  Loss: 0.9878  Time/Image: 0.1705  lr=0.000845\n"
          ],
          "name": "stderr"
        },
        {
          "output_type": "stream",
          "text": [
            "Iter [20520/24000]  Loss: 0.9878  Time/Image: 0.1705  lr=0.000845\n"
          ],
          "name": "stdout"
        },
        {
          "output_type": "stream",
          "text": [
            "INFO:ptsemseg:Iter [20530/24000]  Loss: 0.9830  Time/Image: 0.1674  lr=0.000845\n"
          ],
          "name": "stderr"
        },
        {
          "output_type": "stream",
          "text": [
            "Iter [20530/24000]  Loss: 0.9830  Time/Image: 0.1674  lr=0.000845\n"
          ],
          "name": "stdout"
        },
        {
          "output_type": "stream",
          "text": [
            "INFO:ptsemseg:Iter [20540/24000]  Loss: 0.9781  Time/Image: 0.1661  lr=0.000845\n"
          ],
          "name": "stderr"
        },
        {
          "output_type": "stream",
          "text": [
            "Iter [20540/24000]  Loss: 0.9781  Time/Image: 0.1661  lr=0.000845\n"
          ],
          "name": "stdout"
        },
        {
          "output_type": "stream",
          "text": [
            "INFO:ptsemseg:Iter [20550/24000]  Loss: 0.9740  Time/Image: 0.1676  lr=0.000844\n"
          ],
          "name": "stderr"
        },
        {
          "output_type": "stream",
          "text": [
            "Iter [20550/24000]  Loss: 0.9740  Time/Image: 0.1676  lr=0.000844\n"
          ],
          "name": "stdout"
        },
        {
          "output_type": "stream",
          "text": [
            "INFO:ptsemseg:Iter [20560/24000]  Loss: 0.9667  Time/Image: 0.1647  lr=0.000844\n"
          ],
          "name": "stderr"
        },
        {
          "output_type": "stream",
          "text": [
            "Iter [20560/24000]  Loss: 0.9667  Time/Image: 0.1647  lr=0.000844\n"
          ],
          "name": "stdout"
        },
        {
          "output_type": "stream",
          "text": [
            "INFO:ptsemseg:Iter [20570/24000]  Loss: 0.9615  Time/Image: 0.1633  lr=0.000844\n"
          ],
          "name": "stderr"
        },
        {
          "output_type": "stream",
          "text": [
            "Iter [20570/24000]  Loss: 0.9615  Time/Image: 0.1633  lr=0.000844\n"
          ],
          "name": "stdout"
        },
        {
          "output_type": "stream",
          "text": [
            "INFO:ptsemseg:Iter [20580/24000]  Loss: 0.9703  Time/Image: 0.1643  lr=0.000844\n"
          ],
          "name": "stderr"
        },
        {
          "output_type": "stream",
          "text": [
            "Iter [20580/24000]  Loss: 0.9703  Time/Image: 0.1643  lr=0.000844\n"
          ],
          "name": "stdout"
        },
        {
          "output_type": "stream",
          "text": [
            "INFO:ptsemseg:Iter [20590/24000]  Loss: 0.9677  Time/Image: 0.1664  lr=0.000844\n"
          ],
          "name": "stderr"
        },
        {
          "output_type": "stream",
          "text": [
            "Iter [20590/24000]  Loss: 0.9677  Time/Image: 0.1664  lr=0.000844\n"
          ],
          "name": "stdout"
        },
        {
          "output_type": "stream",
          "text": [
            "INFO:ptsemseg:Iter [20600/24000]  Loss: 0.9763  Time/Image: 0.1652  lr=0.000844\n"
          ],
          "name": "stderr"
        },
        {
          "output_type": "stream",
          "text": [
            "Iter [20600/24000]  Loss: 0.9763  Time/Image: 0.1652  lr=0.000844\n"
          ],
          "name": "stdout"
        },
        {
          "output_type": "stream",
          "text": [
            "INFO:ptsemseg:Iter [20610/24000]  Loss: 0.9737  Time/Image: 0.1664  lr=0.000844\n"
          ],
          "name": "stderr"
        },
        {
          "output_type": "stream",
          "text": [
            "Iter [20610/24000]  Loss: 0.9737  Time/Image: 0.1664  lr=0.000844\n"
          ],
          "name": "stdout"
        },
        {
          "output_type": "stream",
          "text": [
            "INFO:ptsemseg:Iter [20620/24000]  Loss: 0.9715  Time/Image: 0.1673  lr=0.000844\n"
          ],
          "name": "stderr"
        },
        {
          "output_type": "stream",
          "text": [
            "Iter [20620/24000]  Loss: 0.9715  Time/Image: 0.1673  lr=0.000844\n"
          ],
          "name": "stdout"
        },
        {
          "output_type": "stream",
          "text": [
            "INFO:ptsemseg:Iter [20630/24000]  Loss: 0.9729  Time/Image: 0.1669  lr=0.000844\n"
          ],
          "name": "stderr"
        },
        {
          "output_type": "stream",
          "text": [
            "Iter [20630/24000]  Loss: 0.9729  Time/Image: 0.1669  lr=0.000844\n"
          ],
          "name": "stdout"
        },
        {
          "output_type": "stream",
          "text": [
            "INFO:ptsemseg:Iter [20640/24000]  Loss: 0.9766  Time/Image: 0.1673  lr=0.000844\n"
          ],
          "name": "stderr"
        },
        {
          "output_type": "stream",
          "text": [
            "Iter [20640/24000]  Loss: 0.9766  Time/Image: 0.1673  lr=0.000844\n"
          ],
          "name": "stdout"
        },
        {
          "output_type": "stream",
          "text": [
            "INFO:ptsemseg:Iter [20650/24000]  Loss: 0.9746  Time/Image: 0.1620  lr=0.000844\n"
          ],
          "name": "stderr"
        },
        {
          "output_type": "stream",
          "text": [
            "Iter [20650/24000]  Loss: 0.9746  Time/Image: 0.1620  lr=0.000844\n"
          ],
          "name": "stdout"
        },
        {
          "output_type": "stream",
          "text": [
            "INFO:ptsemseg:Iter [20660/24000]  Loss: 0.9736  Time/Image: 0.1674  lr=0.000844\n"
          ],
          "name": "stderr"
        },
        {
          "output_type": "stream",
          "text": [
            "Iter [20660/24000]  Loss: 0.9736  Time/Image: 0.1674  lr=0.000844\n"
          ],
          "name": "stdout"
        },
        {
          "output_type": "stream",
          "text": [
            "INFO:ptsemseg:Iter [20670/24000]  Loss: 0.9774  Time/Image: 0.1662  lr=0.000844\n"
          ],
          "name": "stderr"
        },
        {
          "output_type": "stream",
          "text": [
            "Iter [20670/24000]  Loss: 0.9774  Time/Image: 0.1662  lr=0.000844\n"
          ],
          "name": "stdout"
        },
        {
          "output_type": "stream",
          "text": [
            "INFO:ptsemseg:Iter [20680/24000]  Loss: 0.9784  Time/Image: 0.1669  lr=0.000843\n"
          ],
          "name": "stderr"
        },
        {
          "output_type": "stream",
          "text": [
            "Iter [20680/24000]  Loss: 0.9784  Time/Image: 0.1669  lr=0.000843\n"
          ],
          "name": "stdout"
        },
        {
          "output_type": "stream",
          "text": [
            "INFO:ptsemseg:Iter [20690/24000]  Loss: 0.9761  Time/Image: 0.1682  lr=0.000843\n"
          ],
          "name": "stderr"
        },
        {
          "output_type": "stream",
          "text": [
            "Iter [20690/24000]  Loss: 0.9761  Time/Image: 0.1682  lr=0.000843\n"
          ],
          "name": "stdout"
        },
        {
          "output_type": "stream",
          "text": [
            "INFO:ptsemseg:Iter [20700/24000]  Loss: 0.9767  Time/Image: 0.1696  lr=0.000843\n"
          ],
          "name": "stderr"
        },
        {
          "output_type": "stream",
          "text": [
            "Iter [20700/24000]  Loss: 0.9767  Time/Image: 0.1696  lr=0.000843\n"
          ],
          "name": "stdout"
        },
        {
          "output_type": "stream",
          "text": [
            "INFO:ptsemseg:Iter [20710/24000]  Loss: 0.9798  Time/Image: 0.1751  lr=0.000843\n"
          ],
          "name": "stderr"
        },
        {
          "output_type": "stream",
          "text": [
            "Iter [20710/24000]  Loss: 0.9798  Time/Image: 0.1751  lr=0.000843\n"
          ],
          "name": "stdout"
        },
        {
          "output_type": "stream",
          "text": [
            "INFO:ptsemseg:Iter [20720/24000]  Loss: 0.9795  Time/Image: 0.1680  lr=0.000843\n"
          ],
          "name": "stderr"
        },
        {
          "output_type": "stream",
          "text": [
            "Iter [20720/24000]  Loss: 0.9795  Time/Image: 0.1680  lr=0.000843\n"
          ],
          "name": "stdout"
        },
        {
          "output_type": "stream",
          "text": [
            "INFO:ptsemseg:Iter [20730/24000]  Loss: 0.9798  Time/Image: 0.1667  lr=0.000843\n"
          ],
          "name": "stderr"
        },
        {
          "output_type": "stream",
          "text": [
            "Iter [20730/24000]  Loss: 0.9798  Time/Image: 0.1667  lr=0.000843\n"
          ],
          "name": "stdout"
        },
        {
          "output_type": "stream",
          "text": [
            "INFO:ptsemseg:Iter [20740/24000]  Loss: 0.9811  Time/Image: 0.1653  lr=0.000843\n"
          ],
          "name": "stderr"
        },
        {
          "output_type": "stream",
          "text": [
            "Iter [20740/24000]  Loss: 0.9811  Time/Image: 0.1653  lr=0.000843\n"
          ],
          "name": "stdout"
        },
        {
          "output_type": "stream",
          "text": [
            "INFO:ptsemseg:Iter [20750/24000]  Loss: 0.9810  Time/Image: 0.1678  lr=0.000843\n"
          ],
          "name": "stderr"
        },
        {
          "output_type": "stream",
          "text": [
            "Iter [20750/24000]  Loss: 0.9810  Time/Image: 0.1678  lr=0.000843\n"
          ],
          "name": "stdout"
        },
        {
          "output_type": "stream",
          "text": [
            "INFO:ptsemseg:Iter [20760/24000]  Loss: 0.9803  Time/Image: 0.1656  lr=0.000843\n"
          ],
          "name": "stderr"
        },
        {
          "output_type": "stream",
          "text": [
            "Iter [20760/24000]  Loss: 0.9803  Time/Image: 0.1656  lr=0.000843\n"
          ],
          "name": "stdout"
        },
        {
          "output_type": "stream",
          "text": [
            "INFO:ptsemseg:Iter [20770/24000]  Loss: 0.9786  Time/Image: 0.1686  lr=0.000843\n"
          ],
          "name": "stderr"
        },
        {
          "output_type": "stream",
          "text": [
            "Iter [20770/24000]  Loss: 0.9786  Time/Image: 0.1686  lr=0.000843\n"
          ],
          "name": "stdout"
        },
        {
          "output_type": "stream",
          "text": [
            "INFO:ptsemseg:Iter [20780/24000]  Loss: 0.9804  Time/Image: 0.1661  lr=0.000843\n"
          ],
          "name": "stderr"
        },
        {
          "output_type": "stream",
          "text": [
            "Iter [20780/24000]  Loss: 0.9804  Time/Image: 0.1661  lr=0.000843\n"
          ],
          "name": "stdout"
        },
        {
          "output_type": "stream",
          "text": [
            "INFO:ptsemseg:Iter [20790/24000]  Loss: 0.9805  Time/Image: 0.1651  lr=0.000843\n"
          ],
          "name": "stderr"
        },
        {
          "output_type": "stream",
          "text": [
            "Iter [20790/24000]  Loss: 0.9805  Time/Image: 0.1651  lr=0.000843\n"
          ],
          "name": "stdout"
        },
        {
          "output_type": "stream",
          "text": [
            "INFO:ptsemseg:Iter [20800/24000]  Loss: 0.9808  Time/Image: 0.1631  lr=0.000843\n"
          ],
          "name": "stderr"
        },
        {
          "output_type": "stream",
          "text": [
            "Iter [20800/24000]  Loss: 0.9808  Time/Image: 0.1631  lr=0.000843\n"
          ],
          "name": "stdout"
        },
        {
          "output_type": "stream",
          "text": [
            "INFO:ptsemseg:Iter [20810/24000]  Loss: 0.9807  Time/Image: 0.1681  lr=0.000842\n"
          ],
          "name": "stderr"
        },
        {
          "output_type": "stream",
          "text": [
            "Iter [20810/24000]  Loss: 0.9807  Time/Image: 0.1681  lr=0.000842\n"
          ],
          "name": "stdout"
        },
        {
          "output_type": "stream",
          "text": [
            "INFO:ptsemseg:Iter [20820/24000]  Loss: 0.9816  Time/Image: 0.1643  lr=0.000842\n"
          ],
          "name": "stderr"
        },
        {
          "output_type": "stream",
          "text": [
            "Iter [20820/24000]  Loss: 0.9816  Time/Image: 0.1643  lr=0.000842\n"
          ],
          "name": "stdout"
        },
        {
          "output_type": "stream",
          "text": [
            "INFO:ptsemseg:Iter [20830/24000]  Loss: 0.9813  Time/Image: 0.1673  lr=0.000842\n"
          ],
          "name": "stderr"
        },
        {
          "output_type": "stream",
          "text": [
            "Iter [20830/24000]  Loss: 0.9813  Time/Image: 0.1673  lr=0.000842\n"
          ],
          "name": "stdout"
        },
        {
          "output_type": "stream",
          "text": [
            "INFO:ptsemseg:Iter [20840/24000]  Loss: 0.9801  Time/Image: 0.1642  lr=0.000842\n"
          ],
          "name": "stderr"
        },
        {
          "output_type": "stream",
          "text": [
            "Iter [20840/24000]  Loss: 0.9801  Time/Image: 0.1642  lr=0.000842\n"
          ],
          "name": "stdout"
        },
        {
          "output_type": "stream",
          "text": [
            "INFO:ptsemseg:Iter [20850/24000]  Loss: 0.9807  Time/Image: 0.1632  lr=0.000842\n"
          ],
          "name": "stderr"
        },
        {
          "output_type": "stream",
          "text": [
            "Iter [20850/24000]  Loss: 0.9807  Time/Image: 0.1632  lr=0.000842\n"
          ],
          "name": "stdout"
        },
        {
          "output_type": "stream",
          "text": [
            "INFO:ptsemseg:Iter [20860/24000]  Loss: 0.9806  Time/Image: 0.1698  lr=0.000842\n"
          ],
          "name": "stderr"
        },
        {
          "output_type": "stream",
          "text": [
            "Iter [20860/24000]  Loss: 0.9806  Time/Image: 0.1698  lr=0.000842\n"
          ],
          "name": "stdout"
        },
        {
          "output_type": "stream",
          "text": [
            "INFO:ptsemseg:Iter [20870/24000]  Loss: 0.9794  Time/Image: 0.1650  lr=0.000842\n"
          ],
          "name": "stderr"
        },
        {
          "output_type": "stream",
          "text": [
            "Iter [20870/24000]  Loss: 0.9794  Time/Image: 0.1650  lr=0.000842\n"
          ],
          "name": "stdout"
        },
        {
          "output_type": "stream",
          "text": [
            "INFO:ptsemseg:Iter [20880/24000]  Loss: 0.9785  Time/Image: 0.1628  lr=0.000842\n"
          ],
          "name": "stderr"
        },
        {
          "output_type": "stream",
          "text": [
            "Iter [20880/24000]  Loss: 0.9785  Time/Image: 0.1628  lr=0.000842\n"
          ],
          "name": "stdout"
        },
        {
          "output_type": "stream",
          "text": [
            "INFO:ptsemseg:Iter [20890/24000]  Loss: 0.9768  Time/Image: 0.1662  lr=0.000842\n"
          ],
          "name": "stderr"
        },
        {
          "output_type": "stream",
          "text": [
            "Iter [20890/24000]  Loss: 0.9768  Time/Image: 0.1662  lr=0.000842\n"
          ],
          "name": "stdout"
        },
        {
          "output_type": "stream",
          "text": [
            "INFO:ptsemseg:Iter [20900/24000]  Loss: 0.9769  Time/Image: 0.1661  lr=0.000842\n"
          ],
          "name": "stderr"
        },
        {
          "output_type": "stream",
          "text": [
            "Iter [20900/24000]  Loss: 0.9769  Time/Image: 0.1661  lr=0.000842\n"
          ],
          "name": "stdout"
        },
        {
          "output_type": "stream",
          "text": [
            "INFO:ptsemseg:Iter [20910/24000]  Loss: 0.9769  Time/Image: 0.1643  lr=0.000842\n"
          ],
          "name": "stderr"
        },
        {
          "output_type": "stream",
          "text": [
            "Iter [20910/24000]  Loss: 0.9769  Time/Image: 0.1643  lr=0.000842\n"
          ],
          "name": "stdout"
        },
        {
          "output_type": "stream",
          "text": [
            "INFO:ptsemseg:Iter [20920/24000]  Loss: 0.9775  Time/Image: 0.1495  lr=0.000842\n"
          ],
          "name": "stderr"
        },
        {
          "output_type": "stream",
          "text": [
            "Iter [20920/24000]  Loss: 0.9775  Time/Image: 0.1495  lr=0.000842\n"
          ],
          "name": "stdout"
        },
        {
          "output_type": "stream",
          "text": [
            "INFO:ptsemseg:Iter [20930/24000]  Loss: 0.9771  Time/Image: 0.1113  lr=0.000842\n"
          ],
          "name": "stderr"
        },
        {
          "output_type": "stream",
          "text": [
            "Iter [20930/24000]  Loss: 0.9771  Time/Image: 0.1113  lr=0.000842\n"
          ],
          "name": "stdout"
        },
        {
          "output_type": "stream",
          "text": [
            "INFO:ptsemseg:Iter [20940/24000]  Loss: 0.9756  Time/Image: 0.1662  lr=0.000841\n"
          ],
          "name": "stderr"
        },
        {
          "output_type": "stream",
          "text": [
            "Iter [20940/24000]  Loss: 0.9756  Time/Image: 0.1662  lr=0.000841\n"
          ],
          "name": "stdout"
        },
        {
          "output_type": "stream",
          "text": [
            "INFO:ptsemseg:Iter [20950/24000]  Loss: 0.9766  Time/Image: 0.1641  lr=0.000841\n"
          ],
          "name": "stderr"
        },
        {
          "output_type": "stream",
          "text": [
            "Iter [20950/24000]  Loss: 0.9766  Time/Image: 0.1641  lr=0.000841\n"
          ],
          "name": "stdout"
        },
        {
          "output_type": "stream",
          "text": [
            "INFO:ptsemseg:Iter [20960/24000]  Loss: 0.9762  Time/Image: 0.1696  lr=0.000841\n"
          ],
          "name": "stderr"
        },
        {
          "output_type": "stream",
          "text": [
            "Iter [20960/24000]  Loss: 0.9762  Time/Image: 0.1696  lr=0.000841\n"
          ],
          "name": "stdout"
        },
        {
          "output_type": "stream",
          "text": [
            "INFO:ptsemseg:Iter [20970/24000]  Loss: 0.9754  Time/Image: 0.1665  lr=0.000841\n"
          ],
          "name": "stderr"
        },
        {
          "output_type": "stream",
          "text": [
            "Iter [20970/24000]  Loss: 0.9754  Time/Image: 0.1665  lr=0.000841\n"
          ],
          "name": "stdout"
        },
        {
          "output_type": "stream",
          "text": [
            "INFO:ptsemseg:Iter [20980/24000]  Loss: 0.9770  Time/Image: 0.1661  lr=0.000841\n"
          ],
          "name": "stderr"
        },
        {
          "output_type": "stream",
          "text": [
            "Iter [20980/24000]  Loss: 0.9770  Time/Image: 0.1661  lr=0.000841\n"
          ],
          "name": "stdout"
        },
        {
          "output_type": "stream",
          "text": [
            "INFO:ptsemseg:Iter [20990/24000]  Loss: 0.9761  Time/Image: 0.1673  lr=0.000841\n"
          ],
          "name": "stderr"
        },
        {
          "output_type": "stream",
          "text": [
            "Iter [20990/24000]  Loss: 0.9761  Time/Image: 0.1673  lr=0.000841\n"
          ],
          "name": "stdout"
        },
        {
          "output_type": "stream",
          "text": [
            "INFO:ptsemseg:Iter [21000/24000]  Loss: 0.9762  Time/Image: 0.1695  lr=0.000841\n"
          ],
          "name": "stderr"
        },
        {
          "output_type": "stream",
          "text": [
            "Iter [21000/24000]  Loss: 0.9762  Time/Image: 0.1695  lr=0.000841\n"
          ],
          "name": "stdout"
        },
        {
          "output_type": "stream",
          "text": [
            "84it [03:17,  2.35s/it]\n",
            "INFO:ptsemseg:Iter 21000 Val Loss: 0.9431\n",
            "INFO:ptsemseg:Overall Acc: \t: 0.9221325863583543\n",
            "INFO:ptsemseg:Mean Acc : \t: 0.6676098771692481\n",
            "INFO:ptsemseg:FreqW Acc : \t: 0.8653422200259068\n",
            "INFO:ptsemseg:Mean IoU : \t: 0.5513914474747563\n",
            "INFO:ptsemseg:0: 0.9537393972251088\n",
            "INFO:ptsemseg:1: 0.6897602429522691\n",
            "INFO:ptsemseg:2: 0.8710729327884663\n",
            "INFO:ptsemseg:3: 0.2922269690416739\n",
            "INFO:ptsemseg:4: 0.41447251773241806\n",
            "INFO:ptsemseg:5: 0.42561033311347746\n",
            "INFO:ptsemseg:6: 0.40648281645548334\n",
            "INFO:ptsemseg:7: 0.5640006315647549\n",
            "INFO:ptsemseg:8: 0.8904133288760977\n",
            "INFO:ptsemseg:9: 0.48662798265640334\n",
            "INFO:ptsemseg:10: 0.921171004589205\n",
            "INFO:ptsemseg:11: 0.6410899205136565\n",
            "INFO:ptsemseg:12: 0.3531522077858299\n",
            "INFO:ptsemseg:13: 0.8642794876233523\n",
            "INFO:ptsemseg:14: 0.27316811582193445\n",
            "INFO:ptsemseg:15: 0.456329342974692\n",
            "INFO:ptsemseg:16: 0.2134556935855525\n",
            "INFO:ptsemseg:17: 0.18625277328620313\n",
            "INFO:ptsemseg:18: 0.5731318034337898\n"
          ],
          "name": "stderr"
        },
        {
          "output_type": "stream",
          "text": [
            "Overall Acc: \t 0.9221325863583543\n",
            "Mean Acc : \t 0.6676098771692481\n",
            "FreqW Acc : \t 0.8653422200259068\n",
            "Mean IoU : \t 0.5513914474747563\n"
          ],
          "name": "stdout"
        },
        {
          "output_type": "stream",
          "text": [
            "INFO:ptsemseg:Iter [21010/24000]  Loss: 0.9439  Time/Image: 0.1492  lr=0.000841\n"
          ],
          "name": "stderr"
        },
        {
          "output_type": "stream",
          "text": [
            "Iter [21010/24000]  Loss: 0.9439  Time/Image: 0.1492  lr=0.000841\n"
          ],
          "name": "stdout"
        },
        {
          "output_type": "stream",
          "text": [
            "INFO:ptsemseg:Iter [21020/24000]  Loss: 0.9596  Time/Image: 0.1705  lr=0.000841\n"
          ],
          "name": "stderr"
        },
        {
          "output_type": "stream",
          "text": [
            "Iter [21020/24000]  Loss: 0.9596  Time/Image: 0.1705  lr=0.000841\n"
          ],
          "name": "stdout"
        },
        {
          "output_type": "stream",
          "text": [
            "INFO:ptsemseg:Iter [21030/24000]  Loss: 0.9488  Time/Image: 0.1673  lr=0.000841\n"
          ],
          "name": "stderr"
        },
        {
          "output_type": "stream",
          "text": [
            "Iter [21030/24000]  Loss: 0.9488  Time/Image: 0.1673  lr=0.000841\n"
          ],
          "name": "stdout"
        },
        {
          "output_type": "stream",
          "text": [
            "INFO:ptsemseg:Iter [21040/24000]  Loss: 0.9478  Time/Image: 0.1666  lr=0.000841\n"
          ],
          "name": "stderr"
        },
        {
          "output_type": "stream",
          "text": [
            "Iter [21040/24000]  Loss: 0.9478  Time/Image: 0.1666  lr=0.000841\n"
          ],
          "name": "stdout"
        },
        {
          "output_type": "stream",
          "text": [
            "INFO:ptsemseg:Iter [21050/24000]  Loss: 0.9602  Time/Image: 0.1667  lr=0.000841\n"
          ],
          "name": "stderr"
        },
        {
          "output_type": "stream",
          "text": [
            "Iter [21050/24000]  Loss: 0.9602  Time/Image: 0.1667  lr=0.000841\n"
          ],
          "name": "stdout"
        },
        {
          "output_type": "stream",
          "text": [
            "INFO:ptsemseg:Iter [21060/24000]  Loss: 0.9563  Time/Image: 0.1674  lr=0.000841\n"
          ],
          "name": "stderr"
        },
        {
          "output_type": "stream",
          "text": [
            "Iter [21060/24000]  Loss: 0.9563  Time/Image: 0.1674  lr=0.000841\n"
          ],
          "name": "stdout"
        },
        {
          "output_type": "stream",
          "text": [
            "INFO:ptsemseg:Iter [21070/24000]  Loss: 0.9664  Time/Image: 0.1651  lr=0.000841\n"
          ],
          "name": "stderr"
        },
        {
          "output_type": "stream",
          "text": [
            "Iter [21070/24000]  Loss: 0.9664  Time/Image: 0.1651  lr=0.000841\n"
          ],
          "name": "stdout"
        },
        {
          "output_type": "stream",
          "text": [
            "INFO:ptsemseg:Iter [21080/24000]  Loss: 0.9744  Time/Image: 0.1639  lr=0.000840\n"
          ],
          "name": "stderr"
        },
        {
          "output_type": "stream",
          "text": [
            "Iter [21080/24000]  Loss: 0.9744  Time/Image: 0.1639  lr=0.000840\n"
          ],
          "name": "stdout"
        },
        {
          "output_type": "stream",
          "text": [
            "INFO:ptsemseg:Iter [21090/24000]  Loss: 0.9688  Time/Image: 0.1636  lr=0.000840\n"
          ],
          "name": "stderr"
        },
        {
          "output_type": "stream",
          "text": [
            "Iter [21090/24000]  Loss: 0.9688  Time/Image: 0.1636  lr=0.000840\n"
          ],
          "name": "stdout"
        },
        {
          "output_type": "stream",
          "text": [
            "INFO:ptsemseg:Iter [21100/24000]  Loss: 0.9704  Time/Image: 0.1646  lr=0.000840\n"
          ],
          "name": "stderr"
        },
        {
          "output_type": "stream",
          "text": [
            "Iter [21100/24000]  Loss: 0.9704  Time/Image: 0.1646  lr=0.000840\n"
          ],
          "name": "stdout"
        },
        {
          "output_type": "stream",
          "text": [
            "INFO:ptsemseg:Iter [21110/24000]  Loss: 0.9672  Time/Image: 0.1688  lr=0.000840\n"
          ],
          "name": "stderr"
        },
        {
          "output_type": "stream",
          "text": [
            "Iter [21110/24000]  Loss: 0.9672  Time/Image: 0.1688  lr=0.000840\n"
          ],
          "name": "stdout"
        },
        {
          "output_type": "stream",
          "text": [
            "INFO:ptsemseg:Iter [21120/24000]  Loss: 0.9724  Time/Image: 0.1672  lr=0.000840\n"
          ],
          "name": "stderr"
        },
        {
          "output_type": "stream",
          "text": [
            "Iter [21120/24000]  Loss: 0.9724  Time/Image: 0.1672  lr=0.000840\n"
          ],
          "name": "stdout"
        },
        {
          "output_type": "stream",
          "text": [
            "INFO:ptsemseg:Iter [21130/24000]  Loss: 0.9732  Time/Image: 0.1697  lr=0.000840\n"
          ],
          "name": "stderr"
        },
        {
          "output_type": "stream",
          "text": [
            "Iter [21130/24000]  Loss: 0.9732  Time/Image: 0.1697  lr=0.000840\n"
          ],
          "name": "stdout"
        },
        {
          "output_type": "stream",
          "text": [
            "INFO:ptsemseg:Iter [21140/24000]  Loss: 0.9750  Time/Image: 0.1652  lr=0.000840\n"
          ],
          "name": "stderr"
        },
        {
          "output_type": "stream",
          "text": [
            "Iter [21140/24000]  Loss: 0.9750  Time/Image: 0.1652  lr=0.000840\n"
          ],
          "name": "stdout"
        },
        {
          "output_type": "stream",
          "text": [
            "INFO:ptsemseg:Iter [21150/24000]  Loss: 0.9768  Time/Image: 0.1641  lr=0.000840\n"
          ],
          "name": "stderr"
        },
        {
          "output_type": "stream",
          "text": [
            "Iter [21150/24000]  Loss: 0.9768  Time/Image: 0.1641  lr=0.000840\n"
          ],
          "name": "stdout"
        },
        {
          "output_type": "stream",
          "text": [
            "INFO:ptsemseg:Iter [21160/24000]  Loss: 0.9706  Time/Image: 0.1682  lr=0.000840\n"
          ],
          "name": "stderr"
        },
        {
          "output_type": "stream",
          "text": [
            "Iter [21160/24000]  Loss: 0.9706  Time/Image: 0.1682  lr=0.000840\n"
          ],
          "name": "stdout"
        },
        {
          "output_type": "stream",
          "text": [
            "INFO:ptsemseg:Iter [21170/24000]  Loss: 0.9699  Time/Image: 0.1642  lr=0.000840\n"
          ],
          "name": "stderr"
        },
        {
          "output_type": "stream",
          "text": [
            "Iter [21170/24000]  Loss: 0.9699  Time/Image: 0.1642  lr=0.000840\n"
          ],
          "name": "stdout"
        },
        {
          "output_type": "stream",
          "text": [
            "INFO:ptsemseg:Iter [21180/24000]  Loss: 0.9668  Time/Image: 0.1702  lr=0.000840\n"
          ],
          "name": "stderr"
        },
        {
          "output_type": "stream",
          "text": [
            "Iter [21180/24000]  Loss: 0.9668  Time/Image: 0.1702  lr=0.000840\n"
          ],
          "name": "stdout"
        },
        {
          "output_type": "stream",
          "text": [
            "INFO:ptsemseg:Iter [21190/24000]  Loss: 0.9729  Time/Image: 0.1668  lr=0.000840\n"
          ],
          "name": "stderr"
        },
        {
          "output_type": "stream",
          "text": [
            "Iter [21190/24000]  Loss: 0.9729  Time/Image: 0.1668  lr=0.000840\n"
          ],
          "name": "stdout"
        },
        {
          "output_type": "stream",
          "text": [
            "INFO:ptsemseg:Iter [21200/24000]  Loss: 0.9775  Time/Image: 0.1683  lr=0.000840\n"
          ],
          "name": "stderr"
        },
        {
          "output_type": "stream",
          "text": [
            "Iter [21200/24000]  Loss: 0.9775  Time/Image: 0.1683  lr=0.000840\n"
          ],
          "name": "stdout"
        },
        {
          "output_type": "stream",
          "text": [
            "INFO:ptsemseg:Iter [21210/24000]  Loss: 0.9729  Time/Image: 0.1675  lr=0.000839\n"
          ],
          "name": "stderr"
        },
        {
          "output_type": "stream",
          "text": [
            "Iter [21210/24000]  Loss: 0.9729  Time/Image: 0.1675  lr=0.000839\n"
          ],
          "name": "stdout"
        },
        {
          "output_type": "stream",
          "text": [
            "INFO:ptsemseg:Iter [21220/24000]  Loss: 0.9727  Time/Image: 0.1661  lr=0.000839\n"
          ],
          "name": "stderr"
        },
        {
          "output_type": "stream",
          "text": [
            "Iter [21220/24000]  Loss: 0.9727  Time/Image: 0.1661  lr=0.000839\n"
          ],
          "name": "stdout"
        },
        {
          "output_type": "stream",
          "text": [
            "INFO:ptsemseg:Iter [21230/24000]  Loss: 0.9707  Time/Image: 0.1687  lr=0.000839\n"
          ],
          "name": "stderr"
        },
        {
          "output_type": "stream",
          "text": [
            "Iter [21230/24000]  Loss: 0.9707  Time/Image: 0.1687  lr=0.000839\n"
          ],
          "name": "stdout"
        },
        {
          "output_type": "stream",
          "text": [
            "INFO:ptsemseg:Iter [21240/24000]  Loss: 0.9711  Time/Image: 0.1655  lr=0.000839\n"
          ],
          "name": "stderr"
        },
        {
          "output_type": "stream",
          "text": [
            "Iter [21240/24000]  Loss: 0.9711  Time/Image: 0.1655  lr=0.000839\n"
          ],
          "name": "stdout"
        },
        {
          "output_type": "stream",
          "text": [
            "INFO:ptsemseg:Iter [21250/24000]  Loss: 0.9715  Time/Image: 0.1706  lr=0.000839\n"
          ],
          "name": "stderr"
        },
        {
          "output_type": "stream",
          "text": [
            "Iter [21250/24000]  Loss: 0.9715  Time/Image: 0.1706  lr=0.000839\n"
          ],
          "name": "stdout"
        },
        {
          "output_type": "stream",
          "text": [
            "INFO:ptsemseg:Iter [21260/24000]  Loss: 0.9705  Time/Image: 0.1683  lr=0.000839\n"
          ],
          "name": "stderr"
        },
        {
          "output_type": "stream",
          "text": [
            "Iter [21260/24000]  Loss: 0.9705  Time/Image: 0.1683  lr=0.000839\n"
          ],
          "name": "stdout"
        },
        {
          "output_type": "stream",
          "text": [
            "INFO:ptsemseg:Iter [21270/24000]  Loss: 0.9712  Time/Image: 0.1659  lr=0.000839\n"
          ],
          "name": "stderr"
        },
        {
          "output_type": "stream",
          "text": [
            "Iter [21270/24000]  Loss: 0.9712  Time/Image: 0.1659  lr=0.000839\n"
          ],
          "name": "stdout"
        },
        {
          "output_type": "stream",
          "text": [
            "INFO:ptsemseg:Iter [21280/24000]  Loss: 0.9712  Time/Image: 0.1658  lr=0.000839\n"
          ],
          "name": "stderr"
        },
        {
          "output_type": "stream",
          "text": [
            "Iter [21280/24000]  Loss: 0.9712  Time/Image: 0.1658  lr=0.000839\n"
          ],
          "name": "stdout"
        },
        {
          "output_type": "stream",
          "text": [
            "INFO:ptsemseg:Iter [21290/24000]  Loss: 0.9690  Time/Image: 0.1689  lr=0.000839\n"
          ],
          "name": "stderr"
        },
        {
          "output_type": "stream",
          "text": [
            "Iter [21290/24000]  Loss: 0.9690  Time/Image: 0.1689  lr=0.000839\n"
          ],
          "name": "stdout"
        },
        {
          "output_type": "stream",
          "text": [
            "INFO:ptsemseg:Iter [21300/24000]  Loss: 0.9715  Time/Image: 0.1658  lr=0.000839\n"
          ],
          "name": "stderr"
        },
        {
          "output_type": "stream",
          "text": [
            "Iter [21300/24000]  Loss: 0.9715  Time/Image: 0.1658  lr=0.000839\n"
          ],
          "name": "stdout"
        },
        {
          "output_type": "stream",
          "text": [
            "INFO:ptsemseg:Iter [21310/24000]  Loss: 0.9704  Time/Image: 0.1633  lr=0.000839\n"
          ],
          "name": "stderr"
        },
        {
          "output_type": "stream",
          "text": [
            "Iter [21310/24000]  Loss: 0.9704  Time/Image: 0.1633  lr=0.000839\n"
          ],
          "name": "stdout"
        },
        {
          "output_type": "stream",
          "text": [
            "INFO:ptsemseg:Iter [21320/24000]  Loss: 0.9709  Time/Image: 0.1685  lr=0.000839\n"
          ],
          "name": "stderr"
        },
        {
          "output_type": "stream",
          "text": [
            "Iter [21320/24000]  Loss: 0.9709  Time/Image: 0.1685  lr=0.000839\n"
          ],
          "name": "stdout"
        },
        {
          "output_type": "stream",
          "text": [
            "INFO:ptsemseg:Iter [21330/24000]  Loss: 0.9729  Time/Image: 0.1656  lr=0.000839\n"
          ],
          "name": "stderr"
        },
        {
          "output_type": "stream",
          "text": [
            "Iter [21330/24000]  Loss: 0.9729  Time/Image: 0.1656  lr=0.000839\n"
          ],
          "name": "stdout"
        },
        {
          "output_type": "stream",
          "text": [
            "INFO:ptsemseg:Iter [21340/24000]  Loss: 0.9740  Time/Image: 0.1683  lr=0.000838\n"
          ],
          "name": "stderr"
        },
        {
          "output_type": "stream",
          "text": [
            "Iter [21340/24000]  Loss: 0.9740  Time/Image: 0.1683  lr=0.000838\n"
          ],
          "name": "stdout"
        },
        {
          "output_type": "stream",
          "text": [
            "INFO:ptsemseg:Iter [21350/24000]  Loss: 0.9734  Time/Image: 0.1640  lr=0.000838\n"
          ],
          "name": "stderr"
        },
        {
          "output_type": "stream",
          "text": [
            "Iter [21350/24000]  Loss: 0.9734  Time/Image: 0.1640  lr=0.000838\n"
          ],
          "name": "stdout"
        },
        {
          "output_type": "stream",
          "text": [
            "INFO:ptsemseg:Iter [21360/24000]  Loss: 0.9710  Time/Image: 0.1665  lr=0.000838\n"
          ],
          "name": "stderr"
        },
        {
          "output_type": "stream",
          "text": [
            "Iter [21360/24000]  Loss: 0.9710  Time/Image: 0.1665  lr=0.000838\n"
          ],
          "name": "stdout"
        },
        {
          "output_type": "stream",
          "text": [
            "INFO:ptsemseg:Iter [21370/24000]  Loss: 0.9714  Time/Image: 0.1682  lr=0.000838\n"
          ],
          "name": "stderr"
        },
        {
          "output_type": "stream",
          "text": [
            "Iter [21370/24000]  Loss: 0.9714  Time/Image: 0.1682  lr=0.000838\n"
          ],
          "name": "stdout"
        },
        {
          "output_type": "stream",
          "text": [
            "INFO:ptsemseg:Iter [21380/24000]  Loss: 0.9723  Time/Image: 0.1641  lr=0.000838\n"
          ],
          "name": "stderr"
        },
        {
          "output_type": "stream",
          "text": [
            "Iter [21380/24000]  Loss: 0.9723  Time/Image: 0.1641  lr=0.000838\n"
          ],
          "name": "stdout"
        },
        {
          "output_type": "stream",
          "text": [
            "INFO:ptsemseg:Iter [21390/24000]  Loss: 0.9743  Time/Image: 0.1668  lr=0.000838\n"
          ],
          "name": "stderr"
        },
        {
          "output_type": "stream",
          "text": [
            "Iter [21390/24000]  Loss: 0.9743  Time/Image: 0.1668  lr=0.000838\n"
          ],
          "name": "stdout"
        },
        {
          "output_type": "stream",
          "text": [
            "INFO:ptsemseg:Iter [21400/24000]  Loss: 0.9733  Time/Image: 0.1577  lr=0.000838\n"
          ],
          "name": "stderr"
        },
        {
          "output_type": "stream",
          "text": [
            "Iter [21400/24000]  Loss: 0.9733  Time/Image: 0.1577  lr=0.000838\n"
          ],
          "name": "stdout"
        },
        {
          "output_type": "stream",
          "text": [
            "INFO:ptsemseg:Iter [21410/24000]  Loss: 0.9718  Time/Image: 0.1565  lr=0.000838\n"
          ],
          "name": "stderr"
        },
        {
          "output_type": "stream",
          "text": [
            "Iter [21410/24000]  Loss: 0.9718  Time/Image: 0.1565  lr=0.000838\n"
          ],
          "name": "stdout"
        },
        {
          "output_type": "stream",
          "text": [
            "INFO:ptsemseg:Iter [21420/24000]  Loss: 0.9712  Time/Image: 0.1252  lr=0.000838\n"
          ],
          "name": "stderr"
        },
        {
          "output_type": "stream",
          "text": [
            "Iter [21420/24000]  Loss: 0.9712  Time/Image: 0.1252  lr=0.000838\n"
          ],
          "name": "stdout"
        },
        {
          "output_type": "stream",
          "text": [
            "INFO:ptsemseg:Iter [21430/24000]  Loss: 0.9716  Time/Image: 0.1318  lr=0.000838\n"
          ],
          "name": "stderr"
        },
        {
          "output_type": "stream",
          "text": [
            "Iter [21430/24000]  Loss: 0.9716  Time/Image: 0.1318  lr=0.000838\n"
          ],
          "name": "stdout"
        },
        {
          "output_type": "stream",
          "text": [
            "INFO:ptsemseg:Iter [21440/24000]  Loss: 0.9719  Time/Image: 0.1666  lr=0.000838\n"
          ],
          "name": "stderr"
        },
        {
          "output_type": "stream",
          "text": [
            "Iter [21440/24000]  Loss: 0.9719  Time/Image: 0.1666  lr=0.000838\n"
          ],
          "name": "stdout"
        },
        {
          "output_type": "stream",
          "text": [
            "INFO:ptsemseg:Iter [21450/24000]  Loss: 0.9727  Time/Image: 0.1686  lr=0.000838\n"
          ],
          "name": "stderr"
        },
        {
          "output_type": "stream",
          "text": [
            "Iter [21450/24000]  Loss: 0.9727  Time/Image: 0.1686  lr=0.000838\n"
          ],
          "name": "stdout"
        },
        {
          "output_type": "stream",
          "text": [
            "INFO:ptsemseg:Iter [21460/24000]  Loss: 0.9703  Time/Image: 0.1682  lr=0.000838\n"
          ],
          "name": "stderr"
        },
        {
          "output_type": "stream",
          "text": [
            "Iter [21460/24000]  Loss: 0.9703  Time/Image: 0.1682  lr=0.000838\n"
          ],
          "name": "stdout"
        },
        {
          "output_type": "stream",
          "text": [
            "INFO:ptsemseg:Iter [21470/24000]  Loss: 0.9708  Time/Image: 0.1693  lr=0.000837\n"
          ],
          "name": "stderr"
        },
        {
          "output_type": "stream",
          "text": [
            "Iter [21470/24000]  Loss: 0.9708  Time/Image: 0.1693  lr=0.000837\n"
          ],
          "name": "stdout"
        },
        {
          "output_type": "stream",
          "text": [
            "INFO:ptsemseg:Iter [21480/24000]  Loss: 0.9701  Time/Image: 0.1673  lr=0.000837\n"
          ],
          "name": "stderr"
        },
        {
          "output_type": "stream",
          "text": [
            "Iter [21480/24000]  Loss: 0.9701  Time/Image: 0.1673  lr=0.000837\n"
          ],
          "name": "stdout"
        },
        {
          "output_type": "stream",
          "text": [
            "INFO:ptsemseg:Iter [21490/24000]  Loss: 0.9715  Time/Image: 0.1676  lr=0.000837\n"
          ],
          "name": "stderr"
        },
        {
          "output_type": "stream",
          "text": [
            "Iter [21490/24000]  Loss: 0.9715  Time/Image: 0.1676  lr=0.000837\n"
          ],
          "name": "stdout"
        },
        {
          "output_type": "stream",
          "text": [
            "INFO:ptsemseg:Iter [21500/24000]  Loss: 0.9717  Time/Image: 0.1646  lr=0.000837\n"
          ],
          "name": "stderr"
        },
        {
          "output_type": "stream",
          "text": [
            "Iter [21500/24000]  Loss: 0.9717  Time/Image: 0.1646  lr=0.000837\n"
          ],
          "name": "stdout"
        },
        {
          "output_type": "stream",
          "text": [
            "84it [03:17,  2.35s/it]\n",
            "INFO:ptsemseg:Iter 21500 Val Loss: 0.9474\n",
            "INFO:ptsemseg:Overall Acc: \t: 0.9296172751430751\n",
            "INFO:ptsemseg:Mean Acc : \t: 0.6593810670057625\n",
            "INFO:ptsemseg:FreqW Acc : \t: 0.8765520948418493\n",
            "INFO:ptsemseg:Mean IoU : \t: 0.5485762415216546\n",
            "INFO:ptsemseg:0: 0.9653335233745401\n",
            "INFO:ptsemseg:1: 0.7542037215566499\n",
            "INFO:ptsemseg:2: 0.8766562599115253\n",
            "INFO:ptsemseg:3: 0.3165264462892757\n",
            "INFO:ptsemseg:4: 0.4207067300924051\n",
            "INFO:ptsemseg:5: 0.45885565171922377\n",
            "INFO:ptsemseg:6: 0.46814504756575265\n",
            "INFO:ptsemseg:7: 0.5384599321326025\n",
            "INFO:ptsemseg:8: 0.8960327726185566\n",
            "INFO:ptsemseg:9: 0.4475071479368781\n",
            "INFO:ptsemseg:10: 0.9259857856227253\n",
            "INFO:ptsemseg:11: 0.6309070874369864\n",
            "INFO:ptsemseg:12: 0.12384399710385635\n",
            "INFO:ptsemseg:13: 0.8867949911799599\n",
            "INFO:ptsemseg:14: 0.23294680408468282\n",
            "INFO:ptsemseg:15: 0.41975981784091476\n",
            "INFO:ptsemseg:16: 0.2771600252062897\n",
            "INFO:ptsemseg:17: 0.2120281939886275\n",
            "INFO:ptsemseg:18: 0.5710946532499853\n"
          ],
          "name": "stderr"
        },
        {
          "output_type": "stream",
          "text": [
            "Overall Acc: \t 0.9296172751430751\n",
            "Mean Acc : \t 0.6593810670057625\n",
            "FreqW Acc : \t 0.8765520948418493\n",
            "Mean IoU : \t 0.5485762415216546\n"
          ],
          "name": "stdout"
        },
        {
          "output_type": "stream",
          "text": [
            "INFO:ptsemseg:Iter [21510/24000]  Loss: 0.9756  Time/Image: 0.1472  lr=0.000837\n"
          ],
          "name": "stderr"
        },
        {
          "output_type": "stream",
          "text": [
            "Iter [21510/24000]  Loss: 0.9756  Time/Image: 0.1472  lr=0.000837\n"
          ],
          "name": "stdout"
        },
        {
          "output_type": "stream",
          "text": [
            "INFO:ptsemseg:Iter [21520/24000]  Loss: 1.0034  Time/Image: 0.1711  lr=0.000837\n"
          ],
          "name": "stderr"
        },
        {
          "output_type": "stream",
          "text": [
            "Iter [21520/24000]  Loss: 1.0034  Time/Image: 0.1711  lr=0.000837\n"
          ],
          "name": "stdout"
        },
        {
          "output_type": "stream",
          "text": [
            "INFO:ptsemseg:Iter [21530/24000]  Loss: 0.9861  Time/Image: 0.1694  lr=0.000837\n"
          ],
          "name": "stderr"
        },
        {
          "output_type": "stream",
          "text": [
            "Iter [21530/24000]  Loss: 0.9861  Time/Image: 0.1694  lr=0.000837\n"
          ],
          "name": "stdout"
        },
        {
          "output_type": "stream",
          "text": [
            "INFO:ptsemseg:Iter [21540/24000]  Loss: 0.9976  Time/Image: 0.1670  lr=0.000837\n"
          ],
          "name": "stderr"
        },
        {
          "output_type": "stream",
          "text": [
            "Iter [21540/24000]  Loss: 0.9976  Time/Image: 0.1670  lr=0.000837\n"
          ],
          "name": "stdout"
        },
        {
          "output_type": "stream",
          "text": [
            "INFO:ptsemseg:Iter [21550/24000]  Loss: 0.9909  Time/Image: 0.1685  lr=0.000837\n"
          ],
          "name": "stderr"
        },
        {
          "output_type": "stream",
          "text": [
            "Iter [21550/24000]  Loss: 0.9909  Time/Image: 0.1685  lr=0.000837\n"
          ],
          "name": "stdout"
        },
        {
          "output_type": "stream",
          "text": [
            "INFO:ptsemseg:Iter [21560/24000]  Loss: 0.9878  Time/Image: 0.1685  lr=0.000837\n"
          ],
          "name": "stderr"
        },
        {
          "output_type": "stream",
          "text": [
            "Iter [21560/24000]  Loss: 0.9878  Time/Image: 0.1685  lr=0.000837\n"
          ],
          "name": "stdout"
        },
        {
          "output_type": "stream",
          "text": [
            "INFO:ptsemseg:Iter [21570/24000]  Loss: 0.9802  Time/Image: 0.1645  lr=0.000837\n"
          ],
          "name": "stderr"
        },
        {
          "output_type": "stream",
          "text": [
            "Iter [21570/24000]  Loss: 0.9802  Time/Image: 0.1645  lr=0.000837\n"
          ],
          "name": "stdout"
        },
        {
          "output_type": "stream",
          "text": [
            "INFO:ptsemseg:Iter [21580/24000]  Loss: 0.9750  Time/Image: 0.1629  lr=0.000837\n"
          ],
          "name": "stderr"
        },
        {
          "output_type": "stream",
          "text": [
            "Iter [21580/24000]  Loss: 0.9750  Time/Image: 0.1629  lr=0.000837\n"
          ],
          "name": "stdout"
        },
        {
          "output_type": "stream",
          "text": [
            "INFO:ptsemseg:Iter [21590/24000]  Loss: 0.9807  Time/Image: 0.1676  lr=0.000837\n"
          ],
          "name": "stderr"
        },
        {
          "output_type": "stream",
          "text": [
            "Iter [21590/24000]  Loss: 0.9807  Time/Image: 0.1676  lr=0.000837\n"
          ],
          "name": "stdout"
        },
        {
          "output_type": "stream",
          "text": [
            "INFO:ptsemseg:Iter [21600/24000]  Loss: 0.9712  Time/Image: 0.1663  lr=0.000836\n"
          ],
          "name": "stderr"
        },
        {
          "output_type": "stream",
          "text": [
            "Iter [21600/24000]  Loss: 0.9712  Time/Image: 0.1663  lr=0.000836\n"
          ],
          "name": "stdout"
        },
        {
          "output_type": "stream",
          "text": [
            "INFO:ptsemseg:Iter [21610/24000]  Loss: 0.9760  Time/Image: 0.1661  lr=0.000836\n"
          ],
          "name": "stderr"
        },
        {
          "output_type": "stream",
          "text": [
            "Iter [21610/24000]  Loss: 0.9760  Time/Image: 0.1661  lr=0.000836\n"
          ],
          "name": "stdout"
        },
        {
          "output_type": "stream",
          "text": [
            "INFO:ptsemseg:Iter [21620/24000]  Loss: 0.9775  Time/Image: 0.1701  lr=0.000836\n"
          ],
          "name": "stderr"
        },
        {
          "output_type": "stream",
          "text": [
            "Iter [21620/24000]  Loss: 0.9775  Time/Image: 0.1701  lr=0.000836\n"
          ],
          "name": "stdout"
        },
        {
          "output_type": "stream",
          "text": [
            "INFO:ptsemseg:Iter [21630/24000]  Loss: 0.9765  Time/Image: 0.1652  lr=0.000836\n"
          ],
          "name": "stderr"
        },
        {
          "output_type": "stream",
          "text": [
            "Iter [21630/24000]  Loss: 0.9765  Time/Image: 0.1652  lr=0.000836\n"
          ],
          "name": "stdout"
        },
        {
          "output_type": "stream",
          "text": [
            "INFO:ptsemseg:Iter [21640/24000]  Loss: 0.9751  Time/Image: 0.1656  lr=0.000836\n"
          ],
          "name": "stderr"
        },
        {
          "output_type": "stream",
          "text": [
            "Iter [21640/24000]  Loss: 0.9751  Time/Image: 0.1656  lr=0.000836\n"
          ],
          "name": "stdout"
        },
        {
          "output_type": "stream",
          "text": [
            "INFO:ptsemseg:Iter [21650/24000]  Loss: 0.9765  Time/Image: 0.1663  lr=0.000836\n"
          ],
          "name": "stderr"
        },
        {
          "output_type": "stream",
          "text": [
            "Iter [21650/24000]  Loss: 0.9765  Time/Image: 0.1663  lr=0.000836\n"
          ],
          "name": "stdout"
        },
        {
          "output_type": "stream",
          "text": [
            "INFO:ptsemseg:Iter [21660/24000]  Loss: 0.9753  Time/Image: 0.1639  lr=0.000836\n"
          ],
          "name": "stderr"
        },
        {
          "output_type": "stream",
          "text": [
            "Iter [21660/24000]  Loss: 0.9753  Time/Image: 0.1639  lr=0.000836\n"
          ],
          "name": "stdout"
        },
        {
          "output_type": "stream",
          "text": [
            "INFO:ptsemseg:Iter [21670/24000]  Loss: 0.9727  Time/Image: 0.1687  lr=0.000836\n"
          ],
          "name": "stderr"
        },
        {
          "output_type": "stream",
          "text": [
            "Iter [21670/24000]  Loss: 0.9727  Time/Image: 0.1687  lr=0.000836\n"
          ],
          "name": "stdout"
        },
        {
          "output_type": "stream",
          "text": [
            "INFO:ptsemseg:Iter [21680/24000]  Loss: 0.9753  Time/Image: 0.1665  lr=0.000836\n"
          ],
          "name": "stderr"
        },
        {
          "output_type": "stream",
          "text": [
            "Iter [21680/24000]  Loss: 0.9753  Time/Image: 0.1665  lr=0.000836\n"
          ],
          "name": "stdout"
        },
        {
          "output_type": "stream",
          "text": [
            "INFO:ptsemseg:Iter [21690/24000]  Loss: 0.9767  Time/Image: 0.1669  lr=0.000836\n"
          ],
          "name": "stderr"
        },
        {
          "output_type": "stream",
          "text": [
            "Iter [21690/24000]  Loss: 0.9767  Time/Image: 0.1669  lr=0.000836\n"
          ],
          "name": "stdout"
        },
        {
          "output_type": "stream",
          "text": [
            "INFO:ptsemseg:Iter [21700/24000]  Loss: 0.9744  Time/Image: 0.1672  lr=0.000836\n"
          ],
          "name": "stderr"
        },
        {
          "output_type": "stream",
          "text": [
            "Iter [21700/24000]  Loss: 0.9744  Time/Image: 0.1672  lr=0.000836\n"
          ],
          "name": "stdout"
        },
        {
          "output_type": "stream",
          "text": [
            "INFO:ptsemseg:Iter [21710/24000]  Loss: 0.9716  Time/Image: 0.1721  lr=0.000836\n"
          ],
          "name": "stderr"
        },
        {
          "output_type": "stream",
          "text": [
            "Iter [21710/24000]  Loss: 0.9716  Time/Image: 0.1721  lr=0.000836\n"
          ],
          "name": "stdout"
        },
        {
          "output_type": "stream",
          "text": [
            "INFO:ptsemseg:Iter [21720/24000]  Loss: 0.9713  Time/Image: 0.1705  lr=0.000836\n"
          ],
          "name": "stderr"
        },
        {
          "output_type": "stream",
          "text": [
            "Iter [21720/24000]  Loss: 0.9713  Time/Image: 0.1705  lr=0.000836\n"
          ],
          "name": "stdout"
        },
        {
          "output_type": "stream",
          "text": [
            "INFO:ptsemseg:Iter [21730/24000]  Loss: 0.9697  Time/Image: 0.1695  lr=0.000835\n"
          ],
          "name": "stderr"
        },
        {
          "output_type": "stream",
          "text": [
            "Iter [21730/24000]  Loss: 0.9697  Time/Image: 0.1695  lr=0.000835\n"
          ],
          "name": "stdout"
        },
        {
          "output_type": "stream",
          "text": [
            "INFO:ptsemseg:Iter [21740/24000]  Loss: 0.9702  Time/Image: 0.1676  lr=0.000835\n"
          ],
          "name": "stderr"
        },
        {
          "output_type": "stream",
          "text": [
            "Iter [21740/24000]  Loss: 0.9702  Time/Image: 0.1676  lr=0.000835\n"
          ],
          "name": "stdout"
        },
        {
          "output_type": "stream",
          "text": [
            "INFO:ptsemseg:Iter [21750/24000]  Loss: 0.9698  Time/Image: 0.1643  lr=0.000835\n"
          ],
          "name": "stderr"
        },
        {
          "output_type": "stream",
          "text": [
            "Iter [21750/24000]  Loss: 0.9698  Time/Image: 0.1643  lr=0.000835\n"
          ],
          "name": "stdout"
        },
        {
          "output_type": "stream",
          "text": [
            "INFO:ptsemseg:Iter [21760/24000]  Loss: 0.9681  Time/Image: 0.1692  lr=0.000835\n"
          ],
          "name": "stderr"
        },
        {
          "output_type": "stream",
          "text": [
            "Iter [21760/24000]  Loss: 0.9681  Time/Image: 0.1692  lr=0.000835\n"
          ],
          "name": "stdout"
        },
        {
          "output_type": "stream",
          "text": [
            "INFO:ptsemseg:Iter [21770/24000]  Loss: 0.9698  Time/Image: 0.1667  lr=0.000835\n"
          ],
          "name": "stderr"
        },
        {
          "output_type": "stream",
          "text": [
            "Iter [21770/24000]  Loss: 0.9698  Time/Image: 0.1667  lr=0.000835\n"
          ],
          "name": "stdout"
        },
        {
          "output_type": "stream",
          "text": [
            "INFO:ptsemseg:Iter [21780/24000]  Loss: 0.9688  Time/Image: 0.1685  lr=0.000835\n"
          ],
          "name": "stderr"
        },
        {
          "output_type": "stream",
          "text": [
            "Iter [21780/24000]  Loss: 0.9688  Time/Image: 0.1685  lr=0.000835\n"
          ],
          "name": "stdout"
        },
        {
          "output_type": "stream",
          "text": [
            "INFO:ptsemseg:Iter [21790/24000]  Loss: 0.9691  Time/Image: 0.1664  lr=0.000835\n"
          ],
          "name": "stderr"
        },
        {
          "output_type": "stream",
          "text": [
            "Iter [21790/24000]  Loss: 0.9691  Time/Image: 0.1664  lr=0.000835\n"
          ],
          "name": "stdout"
        },
        {
          "output_type": "stream",
          "text": [
            "INFO:ptsemseg:Iter [21800/24000]  Loss: 0.9696  Time/Image: 0.1702  lr=0.000835\n"
          ],
          "name": "stderr"
        },
        {
          "output_type": "stream",
          "text": [
            "Iter [21800/24000]  Loss: 0.9696  Time/Image: 0.1702  lr=0.000835\n"
          ],
          "name": "stdout"
        },
        {
          "output_type": "stream",
          "text": [
            "INFO:ptsemseg:Iter [21810/24000]  Loss: 0.9695  Time/Image: 0.1688  lr=0.000835\n"
          ],
          "name": "stderr"
        },
        {
          "output_type": "stream",
          "text": [
            "Iter [21810/24000]  Loss: 0.9695  Time/Image: 0.1688  lr=0.000835\n"
          ],
          "name": "stdout"
        },
        {
          "output_type": "stream",
          "text": [
            "INFO:ptsemseg:Iter [21820/24000]  Loss: 0.9706  Time/Image: 0.1677  lr=0.000835\n"
          ],
          "name": "stderr"
        },
        {
          "output_type": "stream",
          "text": [
            "Iter [21820/24000]  Loss: 0.9706  Time/Image: 0.1677  lr=0.000835\n"
          ],
          "name": "stdout"
        },
        {
          "output_type": "stream",
          "text": [
            "INFO:ptsemseg:Iter [21830/24000]  Loss: 0.9716  Time/Image: 0.1667  lr=0.000835\n"
          ],
          "name": "stderr"
        },
        {
          "output_type": "stream",
          "text": [
            "Iter [21830/24000]  Loss: 0.9716  Time/Image: 0.1667  lr=0.000835\n"
          ],
          "name": "stdout"
        },
        {
          "output_type": "stream",
          "text": [
            "INFO:ptsemseg:Iter [21840/24000]  Loss: 0.9715  Time/Image: 0.1662  lr=0.000835\n"
          ],
          "name": "stderr"
        },
        {
          "output_type": "stream",
          "text": [
            "Iter [21840/24000]  Loss: 0.9715  Time/Image: 0.1662  lr=0.000835\n"
          ],
          "name": "stdout"
        },
        {
          "output_type": "stream",
          "text": [
            "INFO:ptsemseg:Iter [21850/24000]  Loss: 0.9697  Time/Image: 0.1663  lr=0.000835\n"
          ],
          "name": "stderr"
        },
        {
          "output_type": "stream",
          "text": [
            "Iter [21850/24000]  Loss: 0.9697  Time/Image: 0.1663  lr=0.000835\n"
          ],
          "name": "stdout"
        },
        {
          "output_type": "stream",
          "text": [
            "INFO:ptsemseg:Iter [21860/24000]  Loss: 0.9700  Time/Image: 0.1712  lr=0.000834\n"
          ],
          "name": "stderr"
        },
        {
          "output_type": "stream",
          "text": [
            "Iter [21860/24000]  Loss: 0.9700  Time/Image: 0.1712  lr=0.000834\n"
          ],
          "name": "stdout"
        },
        {
          "output_type": "stream",
          "text": [
            "INFO:ptsemseg:Iter [21870/24000]  Loss: 0.9694  Time/Image: 0.1685  lr=0.000834\n"
          ],
          "name": "stderr"
        },
        {
          "output_type": "stream",
          "text": [
            "Iter [21870/24000]  Loss: 0.9694  Time/Image: 0.1685  lr=0.000834\n"
          ],
          "name": "stdout"
        },
        {
          "output_type": "stream",
          "text": [
            "INFO:ptsemseg:Iter [21880/24000]  Loss: 0.9708  Time/Image: 0.1708  lr=0.000834\n"
          ],
          "name": "stderr"
        },
        {
          "output_type": "stream",
          "text": [
            "Iter [21880/24000]  Loss: 0.9708  Time/Image: 0.1708  lr=0.000834\n"
          ],
          "name": "stdout"
        },
        {
          "output_type": "stream",
          "text": [
            "INFO:ptsemseg:Iter [21890/24000]  Loss: 0.9706  Time/Image: 0.1599  lr=0.000834\n"
          ],
          "name": "stderr"
        },
        {
          "output_type": "stream",
          "text": [
            "Iter [21890/24000]  Loss: 0.9706  Time/Image: 0.1599  lr=0.000834\n"
          ],
          "name": "stdout"
        },
        {
          "output_type": "stream",
          "text": [
            "INFO:ptsemseg:Iter [21900/24000]  Loss: 0.9691  Time/Image: 0.1620  lr=0.000834\n"
          ],
          "name": "stderr"
        },
        {
          "output_type": "stream",
          "text": [
            "Iter [21900/24000]  Loss: 0.9691  Time/Image: 0.1620  lr=0.000834\n"
          ],
          "name": "stdout"
        },
        {
          "output_type": "stream",
          "text": [
            "INFO:ptsemseg:Iter [21910/24000]  Loss: 0.9683  Time/Image: 0.1460  lr=0.000834\n"
          ],
          "name": "stderr"
        },
        {
          "output_type": "stream",
          "text": [
            "Iter [21910/24000]  Loss: 0.9683  Time/Image: 0.1460  lr=0.000834\n"
          ],
          "name": "stdout"
        },
        {
          "output_type": "stream",
          "text": [
            "INFO:ptsemseg:Iter [21920/24000]  Loss: 0.9698  Time/Image: 0.1045  lr=0.000834\n"
          ],
          "name": "stderr"
        },
        {
          "output_type": "stream",
          "text": [
            "Iter [21920/24000]  Loss: 0.9698  Time/Image: 0.1045  lr=0.000834\n"
          ],
          "name": "stdout"
        },
        {
          "output_type": "stream",
          "text": [
            "INFO:ptsemseg:Iter [21930/24000]  Loss: 0.9708  Time/Image: 0.1591  lr=0.000834\n"
          ],
          "name": "stderr"
        },
        {
          "output_type": "stream",
          "text": [
            "Iter [21930/24000]  Loss: 0.9708  Time/Image: 0.1591  lr=0.000834\n"
          ],
          "name": "stdout"
        },
        {
          "output_type": "stream",
          "text": [
            "INFO:ptsemseg:Iter [21940/24000]  Loss: 0.9718  Time/Image: 0.1670  lr=0.000834\n"
          ],
          "name": "stderr"
        },
        {
          "output_type": "stream",
          "text": [
            "Iter [21940/24000]  Loss: 0.9718  Time/Image: 0.1670  lr=0.000834\n"
          ],
          "name": "stdout"
        },
        {
          "output_type": "stream",
          "text": [
            "INFO:ptsemseg:Iter [21950/24000]  Loss: 0.9701  Time/Image: 0.1660  lr=0.000834\n"
          ],
          "name": "stderr"
        },
        {
          "output_type": "stream",
          "text": [
            "Iter [21950/24000]  Loss: 0.9701  Time/Image: 0.1660  lr=0.000834\n"
          ],
          "name": "stdout"
        },
        {
          "output_type": "stream",
          "text": [
            "INFO:ptsemseg:Iter [21960/24000]  Loss: 0.9704  Time/Image: 0.1631  lr=0.000834\n"
          ],
          "name": "stderr"
        },
        {
          "output_type": "stream",
          "text": [
            "Iter [21960/24000]  Loss: 0.9704  Time/Image: 0.1631  lr=0.000834\n"
          ],
          "name": "stdout"
        },
        {
          "output_type": "stream",
          "text": [
            "INFO:ptsemseg:Iter [21970/24000]  Loss: 0.9695  Time/Image: 0.1679  lr=0.000834\n"
          ],
          "name": "stderr"
        },
        {
          "output_type": "stream",
          "text": [
            "Iter [21970/24000]  Loss: 0.9695  Time/Image: 0.1679  lr=0.000834\n"
          ],
          "name": "stdout"
        },
        {
          "output_type": "stream",
          "text": [
            "INFO:ptsemseg:Iter [21980/24000]  Loss: 0.9715  Time/Image: 0.1693  lr=0.000834\n"
          ],
          "name": "stderr"
        },
        {
          "output_type": "stream",
          "text": [
            "Iter [21980/24000]  Loss: 0.9715  Time/Image: 0.1693  lr=0.000834\n"
          ],
          "name": "stdout"
        },
        {
          "output_type": "stream",
          "text": [
            "INFO:ptsemseg:Iter [21990/24000]  Loss: 0.9717  Time/Image: 0.1702  lr=0.000833\n"
          ],
          "name": "stderr"
        },
        {
          "output_type": "stream",
          "text": [
            "Iter [21990/24000]  Loss: 0.9717  Time/Image: 0.1702  lr=0.000833\n"
          ],
          "name": "stdout"
        },
        {
          "output_type": "stream",
          "text": [
            "INFO:ptsemseg:Iter [22000/24000]  Loss: 0.9707  Time/Image: 0.1657  lr=0.000833\n"
          ],
          "name": "stderr"
        },
        {
          "output_type": "stream",
          "text": [
            "Iter [22000/24000]  Loss: 0.9707  Time/Image: 0.1657  lr=0.000833\n"
          ],
          "name": "stdout"
        },
        {
          "output_type": "stream",
          "text": [
            "84it [03:19,  2.37s/it]\n",
            "INFO:ptsemseg:Iter 22000 Val Loss: 0.9519\n",
            "INFO:ptsemseg:Overall Acc: \t: 0.9157414360486248\n",
            "INFO:ptsemseg:Mean Acc : \t: 0.6074696257062331\n",
            "INFO:ptsemseg:FreqW Acc : \t: 0.8564916645625743\n",
            "INFO:ptsemseg:Mean IoU : \t: 0.4956328442030422\n",
            "INFO:ptsemseg:0: 0.9587318585145972\n",
            "INFO:ptsemseg:1: 0.7016501164859507\n",
            "INFO:ptsemseg:2: 0.8572147067845011\n",
            "INFO:ptsemseg:3: 0.2161244506551197\n",
            "INFO:ptsemseg:4: 0.32351411270497354\n",
            "INFO:ptsemseg:5: 0.39467544667857857\n",
            "INFO:ptsemseg:6: 0.2999519132296578\n",
            "INFO:ptsemseg:7: 0.5229587318326974\n",
            "INFO:ptsemseg:8: 0.873034819390317\n",
            "INFO:ptsemseg:9: 0.4555800874705116\n",
            "INFO:ptsemseg:10: 0.9084321695238079\n",
            "INFO:ptsemseg:11: 0.5530705663717929\n",
            "INFO:ptsemseg:12: 0.2355785686425905\n",
            "INFO:ptsemseg:13: 0.869752052355113\n",
            "INFO:ptsemseg:14: 0.12294270509183071\n",
            "INFO:ptsemseg:15: 0.3400189824356299\n",
            "INFO:ptsemseg:16: 0.19427455347571246\n",
            "INFO:ptsemseg:17: 0.06301225223718324\n",
            "INFO:ptsemseg:18: 0.5265059459772367\n"
          ],
          "name": "stderr"
        },
        {
          "output_type": "stream",
          "text": [
            "Overall Acc: \t 0.9157414360486248\n",
            "Mean Acc : \t 0.6074696257062331\n",
            "FreqW Acc : \t 0.8564916645625743\n",
            "Mean IoU : \t 0.4956328442030422\n"
          ],
          "name": "stdout"
        },
        {
          "output_type": "stream",
          "text": [
            "INFO:ptsemseg:Iter [22010/24000]  Loss: 0.9095  Time/Image: 0.1443  lr=0.000833\n"
          ],
          "name": "stderr"
        },
        {
          "output_type": "stream",
          "text": [
            "Iter [22010/24000]  Loss: 0.9095  Time/Image: 0.1443  lr=0.000833\n"
          ],
          "name": "stdout"
        },
        {
          "output_type": "stream",
          "text": [
            "INFO:ptsemseg:Iter [22020/24000]  Loss: 0.9724  Time/Image: 0.1708  lr=0.000833\n"
          ],
          "name": "stderr"
        },
        {
          "output_type": "stream",
          "text": [
            "Iter [22020/24000]  Loss: 0.9724  Time/Image: 0.1708  lr=0.000833\n"
          ],
          "name": "stdout"
        },
        {
          "output_type": "stream",
          "text": [
            "INFO:ptsemseg:Iter [22030/24000]  Loss: 0.9707  Time/Image: 0.1667  lr=0.000833\n"
          ],
          "name": "stderr"
        },
        {
          "output_type": "stream",
          "text": [
            "Iter [22030/24000]  Loss: 0.9707  Time/Image: 0.1667  lr=0.000833\n"
          ],
          "name": "stdout"
        },
        {
          "output_type": "stream",
          "text": [
            "INFO:ptsemseg:Iter [22040/24000]  Loss: 0.9669  Time/Image: 0.1675  lr=0.000833\n"
          ],
          "name": "stderr"
        },
        {
          "output_type": "stream",
          "text": [
            "Iter [22040/24000]  Loss: 0.9669  Time/Image: 0.1675  lr=0.000833\n"
          ],
          "name": "stdout"
        },
        {
          "output_type": "stream",
          "text": [
            "INFO:ptsemseg:Iter [22050/24000]  Loss: 0.9561  Time/Image: 0.1676  lr=0.000833\n"
          ],
          "name": "stderr"
        },
        {
          "output_type": "stream",
          "text": [
            "Iter [22050/24000]  Loss: 0.9561  Time/Image: 0.1676  lr=0.000833\n"
          ],
          "name": "stdout"
        },
        {
          "output_type": "stream",
          "text": [
            "INFO:ptsemseg:Iter [22060/24000]  Loss: 0.9653  Time/Image: 0.1695  lr=0.000833\n"
          ],
          "name": "stderr"
        },
        {
          "output_type": "stream",
          "text": [
            "Iter [22060/24000]  Loss: 0.9653  Time/Image: 0.1695  lr=0.000833\n"
          ],
          "name": "stdout"
        },
        {
          "output_type": "stream",
          "text": [
            "INFO:ptsemseg:Iter [22070/24000]  Loss: 0.9688  Time/Image: 0.1659  lr=0.000833\n"
          ],
          "name": "stderr"
        },
        {
          "output_type": "stream",
          "text": [
            "Iter [22070/24000]  Loss: 0.9688  Time/Image: 0.1659  lr=0.000833\n"
          ],
          "name": "stdout"
        },
        {
          "output_type": "stream",
          "text": [
            "INFO:ptsemseg:Iter [22080/24000]  Loss: 0.9654  Time/Image: 0.1664  lr=0.000833\n"
          ],
          "name": "stderr"
        },
        {
          "output_type": "stream",
          "text": [
            "Iter [22080/24000]  Loss: 0.9654  Time/Image: 0.1664  lr=0.000833\n"
          ],
          "name": "stdout"
        },
        {
          "output_type": "stream",
          "text": [
            "INFO:ptsemseg:Iter [22090/24000]  Loss: 0.9711  Time/Image: 0.1678  lr=0.000833\n"
          ],
          "name": "stderr"
        },
        {
          "output_type": "stream",
          "text": [
            "Iter [22090/24000]  Loss: 0.9711  Time/Image: 0.1678  lr=0.000833\n"
          ],
          "name": "stdout"
        },
        {
          "output_type": "stream",
          "text": [
            "INFO:ptsemseg:Iter [22100/24000]  Loss: 0.9741  Time/Image: 0.1681  lr=0.000833\n"
          ],
          "name": "stderr"
        },
        {
          "output_type": "stream",
          "text": [
            "Iter [22100/24000]  Loss: 0.9741  Time/Image: 0.1681  lr=0.000833\n"
          ],
          "name": "stdout"
        },
        {
          "output_type": "stream",
          "text": [
            "INFO:ptsemseg:Iter [22110/24000]  Loss: 0.9687  Time/Image: 0.1696  lr=0.000833\n"
          ],
          "name": "stderr"
        },
        {
          "output_type": "stream",
          "text": [
            "Iter [22110/24000]  Loss: 0.9687  Time/Image: 0.1696  lr=0.000833\n"
          ],
          "name": "stdout"
        },
        {
          "output_type": "stream",
          "text": [
            "INFO:ptsemseg:Iter [22120/24000]  Loss: 0.9732  Time/Image: 0.1667  lr=0.000832\n"
          ],
          "name": "stderr"
        },
        {
          "output_type": "stream",
          "text": [
            "Iter [22120/24000]  Loss: 0.9732  Time/Image: 0.1667  lr=0.000832\n"
          ],
          "name": "stdout"
        },
        {
          "output_type": "stream",
          "text": [
            "INFO:ptsemseg:Iter [22130/24000]  Loss: 0.9710  Time/Image: 0.1687  lr=0.000832\n"
          ],
          "name": "stderr"
        },
        {
          "output_type": "stream",
          "text": [
            "Iter [22130/24000]  Loss: 0.9710  Time/Image: 0.1687  lr=0.000832\n"
          ],
          "name": "stdout"
        },
        {
          "output_type": "stream",
          "text": [
            "INFO:ptsemseg:Iter [22140/24000]  Loss: 0.9698  Time/Image: 0.1647  lr=0.000832\n"
          ],
          "name": "stderr"
        },
        {
          "output_type": "stream",
          "text": [
            "Iter [22140/24000]  Loss: 0.9698  Time/Image: 0.1647  lr=0.000832\n"
          ],
          "name": "stdout"
        },
        {
          "output_type": "stream",
          "text": [
            "INFO:ptsemseg:Iter [22150/24000]  Loss: 0.9701  Time/Image: 0.1683  lr=0.000832\n"
          ],
          "name": "stderr"
        },
        {
          "output_type": "stream",
          "text": [
            "Iter [22150/24000]  Loss: 0.9701  Time/Image: 0.1683  lr=0.000832\n"
          ],
          "name": "stdout"
        },
        {
          "output_type": "stream",
          "text": [
            "INFO:ptsemseg:Iter [22160/24000]  Loss: 0.9693  Time/Image: 0.1628  lr=0.000832\n"
          ],
          "name": "stderr"
        },
        {
          "output_type": "stream",
          "text": [
            "Iter [22160/24000]  Loss: 0.9693  Time/Image: 0.1628  lr=0.000832\n"
          ],
          "name": "stdout"
        },
        {
          "output_type": "stream",
          "text": [
            "INFO:ptsemseg:Iter [22170/24000]  Loss: 0.9632  Time/Image: 0.1664  lr=0.000832\n"
          ],
          "name": "stderr"
        },
        {
          "output_type": "stream",
          "text": [
            "Iter [22170/24000]  Loss: 0.9632  Time/Image: 0.1664  lr=0.000832\n"
          ],
          "name": "stdout"
        },
        {
          "output_type": "stream",
          "text": [
            "INFO:ptsemseg:Iter [22180/24000]  Loss: 0.9638  Time/Image: 0.1685  lr=0.000832\n"
          ],
          "name": "stderr"
        },
        {
          "output_type": "stream",
          "text": [
            "Iter [22180/24000]  Loss: 0.9638  Time/Image: 0.1685  lr=0.000832\n"
          ],
          "name": "stdout"
        },
        {
          "output_type": "stream",
          "text": [
            "INFO:ptsemseg:Iter [22190/24000]  Loss: 0.9671  Time/Image: 0.1697  lr=0.000832\n"
          ],
          "name": "stderr"
        },
        {
          "output_type": "stream",
          "text": [
            "Iter [22190/24000]  Loss: 0.9671  Time/Image: 0.1697  lr=0.000832\n"
          ],
          "name": "stdout"
        },
        {
          "output_type": "stream",
          "text": [
            "INFO:ptsemseg:Iter [22200/24000]  Loss: 0.9693  Time/Image: 0.1679  lr=0.000832\n"
          ],
          "name": "stderr"
        },
        {
          "output_type": "stream",
          "text": [
            "Iter [22200/24000]  Loss: 0.9693  Time/Image: 0.1679  lr=0.000832\n"
          ],
          "name": "stdout"
        },
        {
          "output_type": "stream",
          "text": [
            "INFO:ptsemseg:Iter [22210/24000]  Loss: 0.9716  Time/Image: 0.1718  lr=0.000832\n"
          ],
          "name": "stderr"
        },
        {
          "output_type": "stream",
          "text": [
            "Iter [22210/24000]  Loss: 0.9716  Time/Image: 0.1718  lr=0.000832\n"
          ],
          "name": "stdout"
        },
        {
          "output_type": "stream",
          "text": [
            "INFO:ptsemseg:Iter [22220/24000]  Loss: 0.9684  Time/Image: 0.1673  lr=0.000832\n"
          ],
          "name": "stderr"
        },
        {
          "output_type": "stream",
          "text": [
            "Iter [22220/24000]  Loss: 0.9684  Time/Image: 0.1673  lr=0.000832\n"
          ],
          "name": "stdout"
        },
        {
          "output_type": "stream",
          "text": [
            "INFO:ptsemseg:Iter [22230/24000]  Loss: 0.9688  Time/Image: 0.1682  lr=0.000832\n"
          ],
          "name": "stderr"
        },
        {
          "output_type": "stream",
          "text": [
            "Iter [22230/24000]  Loss: 0.9688  Time/Image: 0.1682  lr=0.000832\n"
          ],
          "name": "stdout"
        },
        {
          "output_type": "stream",
          "text": [
            "INFO:ptsemseg:Iter [22240/24000]  Loss: 0.9701  Time/Image: 0.1674  lr=0.000832\n"
          ],
          "name": "stderr"
        },
        {
          "output_type": "stream",
          "text": [
            "Iter [22240/24000]  Loss: 0.9701  Time/Image: 0.1674  lr=0.000832\n"
          ],
          "name": "stdout"
        },
        {
          "output_type": "stream",
          "text": [
            "INFO:ptsemseg:Iter [22250/24000]  Loss: 0.9681  Time/Image: 0.1673  lr=0.000831\n"
          ],
          "name": "stderr"
        },
        {
          "output_type": "stream",
          "text": [
            "Iter [22250/24000]  Loss: 0.9681  Time/Image: 0.1673  lr=0.000831\n"
          ],
          "name": "stdout"
        },
        {
          "output_type": "stream",
          "text": [
            "INFO:ptsemseg:Iter [22260/24000]  Loss: 0.9688  Time/Image: 0.1672  lr=0.000831\n"
          ],
          "name": "stderr"
        },
        {
          "output_type": "stream",
          "text": [
            "Iter [22260/24000]  Loss: 0.9688  Time/Image: 0.1672  lr=0.000831\n"
          ],
          "name": "stdout"
        },
        {
          "output_type": "stream",
          "text": [
            "INFO:ptsemseg:Iter [22270/24000]  Loss: 0.9702  Time/Image: 0.1672  lr=0.000831\n"
          ],
          "name": "stderr"
        },
        {
          "output_type": "stream",
          "text": [
            "Iter [22270/24000]  Loss: 0.9702  Time/Image: 0.1672  lr=0.000831\n"
          ],
          "name": "stdout"
        },
        {
          "output_type": "stream",
          "text": [
            "INFO:ptsemseg:Iter [22280/24000]  Loss: 0.9718  Time/Image: 0.1660  lr=0.000831\n"
          ],
          "name": "stderr"
        },
        {
          "output_type": "stream",
          "text": [
            "Iter [22280/24000]  Loss: 0.9718  Time/Image: 0.1660  lr=0.000831\n"
          ],
          "name": "stdout"
        },
        {
          "output_type": "stream",
          "text": [
            "INFO:ptsemseg:Iter [22290/24000]  Loss: 0.9727  Time/Image: 0.1678  lr=0.000831\n"
          ],
          "name": "stderr"
        },
        {
          "output_type": "stream",
          "text": [
            "Iter [22290/24000]  Loss: 0.9727  Time/Image: 0.1678  lr=0.000831\n"
          ],
          "name": "stdout"
        },
        {
          "output_type": "stream",
          "text": [
            "INFO:ptsemseg:Iter [22300/24000]  Loss: 0.9722  Time/Image: 0.1636  lr=0.000831\n"
          ],
          "name": "stderr"
        },
        {
          "output_type": "stream",
          "text": [
            "Iter [22300/24000]  Loss: 0.9722  Time/Image: 0.1636  lr=0.000831\n"
          ],
          "name": "stdout"
        },
        {
          "output_type": "stream",
          "text": [
            "INFO:ptsemseg:Iter [22310/24000]  Loss: 0.9729  Time/Image: 0.1660  lr=0.000831\n"
          ],
          "name": "stderr"
        },
        {
          "output_type": "stream",
          "text": [
            "Iter [22310/24000]  Loss: 0.9729  Time/Image: 0.1660  lr=0.000831\n"
          ],
          "name": "stdout"
        },
        {
          "output_type": "stream",
          "text": [
            "INFO:ptsemseg:Iter [22320/24000]  Loss: 0.9710  Time/Image: 0.1673  lr=0.000831\n"
          ],
          "name": "stderr"
        },
        {
          "output_type": "stream",
          "text": [
            "Iter [22320/24000]  Loss: 0.9710  Time/Image: 0.1673  lr=0.000831\n"
          ],
          "name": "stdout"
        },
        {
          "output_type": "stream",
          "text": [
            "INFO:ptsemseg:Iter [22330/24000]  Loss: 0.9687  Time/Image: 0.1658  lr=0.000831\n"
          ],
          "name": "stderr"
        },
        {
          "output_type": "stream",
          "text": [
            "Iter [22330/24000]  Loss: 0.9687  Time/Image: 0.1658  lr=0.000831\n"
          ],
          "name": "stdout"
        },
        {
          "output_type": "stream",
          "text": [
            "INFO:ptsemseg:Iter [22340/24000]  Loss: 0.9709  Time/Image: 0.1651  lr=0.000831\n"
          ],
          "name": "stderr"
        },
        {
          "output_type": "stream",
          "text": [
            "Iter [22340/24000]  Loss: 0.9709  Time/Image: 0.1651  lr=0.000831\n"
          ],
          "name": "stdout"
        },
        {
          "output_type": "stream",
          "text": [
            "INFO:ptsemseg:Iter [22350/24000]  Loss: 0.9711  Time/Image: 0.1645  lr=0.000831\n"
          ],
          "name": "stderr"
        },
        {
          "output_type": "stream",
          "text": [
            "Iter [22350/24000]  Loss: 0.9711  Time/Image: 0.1645  lr=0.000831\n"
          ],
          "name": "stdout"
        },
        {
          "output_type": "stream",
          "text": [
            "INFO:ptsemseg:Iter [22360/24000]  Loss: 0.9713  Time/Image: 0.1637  lr=0.000831\n"
          ],
          "name": "stderr"
        },
        {
          "output_type": "stream",
          "text": [
            "Iter [22360/24000]  Loss: 0.9713  Time/Image: 0.1637  lr=0.000831\n"
          ],
          "name": "stdout"
        },
        {
          "output_type": "stream",
          "text": [
            "INFO:ptsemseg:Iter [22370/24000]  Loss: 0.9722  Time/Image: 0.1641  lr=0.000831\n"
          ],
          "name": "stderr"
        },
        {
          "output_type": "stream",
          "text": [
            "Iter [22370/24000]  Loss: 0.9722  Time/Image: 0.1641  lr=0.000831\n"
          ],
          "name": "stdout"
        },
        {
          "output_type": "stream",
          "text": [
            "INFO:ptsemseg:Iter [22380/24000]  Loss: 0.9720  Time/Image: 0.1656  lr=0.000830\n"
          ],
          "name": "stderr"
        },
        {
          "output_type": "stream",
          "text": [
            "Iter [22380/24000]  Loss: 0.9720  Time/Image: 0.1656  lr=0.000830\n"
          ],
          "name": "stdout"
        },
        {
          "output_type": "stream",
          "text": [
            "INFO:ptsemseg:Iter [22390/24000]  Loss: 0.9718  Time/Image: 0.1684  lr=0.000830\n"
          ],
          "name": "stderr"
        },
        {
          "output_type": "stream",
          "text": [
            "Iter [22390/24000]  Loss: 0.9718  Time/Image: 0.1684  lr=0.000830\n"
          ],
          "name": "stdout"
        },
        {
          "output_type": "stream",
          "text": [
            "INFO:ptsemseg:Iter [22400/24000]  Loss: 0.9719  Time/Image: 0.1605  lr=0.000830\n"
          ],
          "name": "stderr"
        },
        {
          "output_type": "stream",
          "text": [
            "Iter [22400/24000]  Loss: 0.9719  Time/Image: 0.1605  lr=0.000830\n"
          ],
          "name": "stdout"
        },
        {
          "output_type": "stream",
          "text": [
            "INFO:ptsemseg:Iter [22410/24000]  Loss: 0.9710  Time/Image: 0.1375  lr=0.000830\n"
          ],
          "name": "stderr"
        },
        {
          "output_type": "stream",
          "text": [
            "Iter [22410/24000]  Loss: 0.9710  Time/Image: 0.1375  lr=0.000830\n"
          ],
          "name": "stdout"
        },
        {
          "output_type": "stream",
          "text": [
            "INFO:ptsemseg:Iter [22420/24000]  Loss: 0.9707  Time/Image: 0.1197  lr=0.000830\n"
          ],
          "name": "stderr"
        },
        {
          "output_type": "stream",
          "text": [
            "Iter [22420/24000]  Loss: 0.9707  Time/Image: 0.1197  lr=0.000830\n"
          ],
          "name": "stdout"
        },
        {
          "output_type": "stream",
          "text": [
            "INFO:ptsemseg:Iter [22430/24000]  Loss: 0.9706  Time/Image: 0.1686  lr=0.000830\n"
          ],
          "name": "stderr"
        },
        {
          "output_type": "stream",
          "text": [
            "Iter [22430/24000]  Loss: 0.9706  Time/Image: 0.1686  lr=0.000830\n"
          ],
          "name": "stdout"
        },
        {
          "output_type": "stream",
          "text": [
            "INFO:ptsemseg:Iter [22440/24000]  Loss: 0.9684  Time/Image: 0.1671  lr=0.000830\n"
          ],
          "name": "stderr"
        },
        {
          "output_type": "stream",
          "text": [
            "Iter [22440/24000]  Loss: 0.9684  Time/Image: 0.1671  lr=0.000830\n"
          ],
          "name": "stdout"
        },
        {
          "output_type": "stream",
          "text": [
            "INFO:ptsemseg:Iter [22450/24000]  Loss: 0.9696  Time/Image: 0.1707  lr=0.000830\n"
          ],
          "name": "stderr"
        },
        {
          "output_type": "stream",
          "text": [
            "Iter [22450/24000]  Loss: 0.9696  Time/Image: 0.1707  lr=0.000830\n"
          ],
          "name": "stdout"
        },
        {
          "output_type": "stream",
          "text": [
            "INFO:ptsemseg:Iter [22460/24000]  Loss: 0.9694  Time/Image: 0.1671  lr=0.000830\n"
          ],
          "name": "stderr"
        },
        {
          "output_type": "stream",
          "text": [
            "Iter [22460/24000]  Loss: 0.9694  Time/Image: 0.1671  lr=0.000830\n"
          ],
          "name": "stdout"
        },
        {
          "output_type": "stream",
          "text": [
            "INFO:ptsemseg:Iter [22470/24000]  Loss: 0.9697  Time/Image: 0.1671  lr=0.000830\n"
          ],
          "name": "stderr"
        },
        {
          "output_type": "stream",
          "text": [
            "Iter [22470/24000]  Loss: 0.9697  Time/Image: 0.1671  lr=0.000830\n"
          ],
          "name": "stdout"
        },
        {
          "output_type": "stream",
          "text": [
            "INFO:ptsemseg:Iter [22480/24000]  Loss: 0.9711  Time/Image: 0.1681  lr=0.000830\n"
          ],
          "name": "stderr"
        },
        {
          "output_type": "stream",
          "text": [
            "Iter [22480/24000]  Loss: 0.9711  Time/Image: 0.1681  lr=0.000830\n"
          ],
          "name": "stdout"
        },
        {
          "output_type": "stream",
          "text": [
            "INFO:ptsemseg:Iter [22490/24000]  Loss: 0.9715  Time/Image: 0.1692  lr=0.000830\n"
          ],
          "name": "stderr"
        },
        {
          "output_type": "stream",
          "text": [
            "Iter [22490/24000]  Loss: 0.9715  Time/Image: 0.1692  lr=0.000830\n"
          ],
          "name": "stdout"
        },
        {
          "output_type": "stream",
          "text": [
            "INFO:ptsemseg:Iter [22500/24000]  Loss: 0.9717  Time/Image: 0.1676  lr=0.000830\n"
          ],
          "name": "stderr"
        },
        {
          "output_type": "stream",
          "text": [
            "Iter [22500/24000]  Loss: 0.9717  Time/Image: 0.1676  lr=0.000830\n"
          ],
          "name": "stdout"
        },
        {
          "output_type": "stream",
          "text": [
            "84it [03:16,  2.35s/it]\n",
            "INFO:ptsemseg:Iter 22500 Val Loss: 0.9566\n",
            "INFO:ptsemseg:Overall Acc: \t: 0.928383194245498\n",
            "INFO:ptsemseg:Mean Acc : \t: 0.6532831476582176\n",
            "INFO:ptsemseg:FreqW Acc : \t: 0.8734820703349979\n",
            "INFO:ptsemseg:Mean IoU : \t: 0.562652236145503\n",
            "INFO:ptsemseg:0: 0.9687360864200236\n",
            "INFO:ptsemseg:1: 0.752302676234358\n",
            "INFO:ptsemseg:2: 0.8642689367193426\n",
            "INFO:ptsemseg:3: 0.297657054212908\n",
            "INFO:ptsemseg:4: 0.3879213036985609\n",
            "INFO:ptsemseg:5: 0.42394559011522237\n",
            "INFO:ptsemseg:6: 0.4232758894432376\n",
            "INFO:ptsemseg:7: 0.5761388956827367\n",
            "INFO:ptsemseg:8: 0.8862039199906759\n",
            "INFO:ptsemseg:9: 0.4842232503623231\n",
            "INFO:ptsemseg:10: 0.918077377375773\n",
            "INFO:ptsemseg:11: 0.6009561158750842\n",
            "INFO:ptsemseg:12: 0.317861827090552\n",
            "INFO:ptsemseg:13: 0.8869226286968077\n",
            "INFO:ptsemseg:14: 0.3214023095298126\n",
            "INFO:ptsemseg:15: 0.48247354233331724\n",
            "INFO:ptsemseg:16: 0.2910080651584095\n",
            "INFO:ptsemseg:17: 0.18677808723657657\n",
            "INFO:ptsemseg:18: 0.6202389305888336\n"
          ],
          "name": "stderr"
        },
        {
          "output_type": "stream",
          "text": [
            "Overall Acc: \t 0.928383194245498\n",
            "Mean Acc : \t 0.6532831476582176\n",
            "FreqW Acc : \t 0.8734820703349979\n",
            "Mean IoU : \t 0.562652236145503\n"
          ],
          "name": "stdout"
        },
        {
          "output_type": "stream",
          "text": [
            "INFO:ptsemseg:Iter [22510/24000]  Loss: 0.8461  Time/Image: 0.1444  lr=0.000829\n"
          ],
          "name": "stderr"
        },
        {
          "output_type": "stream",
          "text": [
            "Iter [22510/24000]  Loss: 0.8461  Time/Image: 0.1444  lr=0.000829\n"
          ],
          "name": "stdout"
        },
        {
          "output_type": "stream",
          "text": [
            "INFO:ptsemseg:Iter [22520/24000]  Loss: 0.8878  Time/Image: 0.1707  lr=0.000829\n"
          ],
          "name": "stderr"
        },
        {
          "output_type": "stream",
          "text": [
            "Iter [22520/24000]  Loss: 0.8878  Time/Image: 0.1707  lr=0.000829\n"
          ],
          "name": "stdout"
        },
        {
          "output_type": "stream",
          "text": [
            "INFO:ptsemseg:Iter [22530/24000]  Loss: 0.9062  Time/Image: 0.1674  lr=0.000829\n"
          ],
          "name": "stderr"
        },
        {
          "output_type": "stream",
          "text": [
            "Iter [22530/24000]  Loss: 0.9062  Time/Image: 0.1674  lr=0.000829\n"
          ],
          "name": "stdout"
        },
        {
          "output_type": "stream",
          "text": [
            "INFO:ptsemseg:Iter [22540/24000]  Loss: 0.9257  Time/Image: 0.1672  lr=0.000829\n"
          ],
          "name": "stderr"
        },
        {
          "output_type": "stream",
          "text": [
            "Iter [22540/24000]  Loss: 0.9257  Time/Image: 0.1672  lr=0.000829\n"
          ],
          "name": "stdout"
        },
        {
          "output_type": "stream",
          "text": [
            "INFO:ptsemseg:Iter [22550/24000]  Loss: 0.9287  Time/Image: 0.1688  lr=0.000829\n"
          ],
          "name": "stderr"
        },
        {
          "output_type": "stream",
          "text": [
            "Iter [22550/24000]  Loss: 0.9287  Time/Image: 0.1688  lr=0.000829\n"
          ],
          "name": "stdout"
        },
        {
          "output_type": "stream",
          "text": [
            "INFO:ptsemseg:Iter [22560/24000]  Loss: 0.9387  Time/Image: 0.1657  lr=0.000829\n"
          ],
          "name": "stderr"
        },
        {
          "output_type": "stream",
          "text": [
            "Iter [22560/24000]  Loss: 0.9387  Time/Image: 0.1657  lr=0.000829\n"
          ],
          "name": "stdout"
        },
        {
          "output_type": "stream",
          "text": [
            "INFO:ptsemseg:Iter [22570/24000]  Loss: 0.9510  Time/Image: 0.1689  lr=0.000829\n"
          ],
          "name": "stderr"
        },
        {
          "output_type": "stream",
          "text": [
            "Iter [22570/24000]  Loss: 0.9510  Time/Image: 0.1689  lr=0.000829\n"
          ],
          "name": "stdout"
        },
        {
          "output_type": "stream",
          "text": [
            "INFO:ptsemseg:Iter [22580/24000]  Loss: 0.9481  Time/Image: 0.1678  lr=0.000829\n"
          ],
          "name": "stderr"
        },
        {
          "output_type": "stream",
          "text": [
            "Iter [22580/24000]  Loss: 0.9481  Time/Image: 0.1678  lr=0.000829\n"
          ],
          "name": "stdout"
        },
        {
          "output_type": "stream",
          "text": [
            "INFO:ptsemseg:Iter [22590/24000]  Loss: 0.9483  Time/Image: 0.1688  lr=0.000829\n"
          ],
          "name": "stderr"
        },
        {
          "output_type": "stream",
          "text": [
            "Iter [22590/24000]  Loss: 0.9483  Time/Image: 0.1688  lr=0.000829\n"
          ],
          "name": "stdout"
        },
        {
          "output_type": "stream",
          "text": [
            "INFO:ptsemseg:Iter [22600/24000]  Loss: 0.9483  Time/Image: 0.1674  lr=0.000829\n"
          ],
          "name": "stderr"
        },
        {
          "output_type": "stream",
          "text": [
            "Iter [22600/24000]  Loss: 0.9483  Time/Image: 0.1674  lr=0.000829\n"
          ],
          "name": "stdout"
        },
        {
          "output_type": "stream",
          "text": [
            "INFO:ptsemseg:Iter [22610/24000]  Loss: 0.9518  Time/Image: 0.1702  lr=0.000829\n"
          ],
          "name": "stderr"
        },
        {
          "output_type": "stream",
          "text": [
            "Iter [22610/24000]  Loss: 0.9518  Time/Image: 0.1702  lr=0.000829\n"
          ],
          "name": "stdout"
        },
        {
          "output_type": "stream",
          "text": [
            "INFO:ptsemseg:Iter [22620/24000]  Loss: 0.9535  Time/Image: 0.1664  lr=0.000829\n"
          ],
          "name": "stderr"
        },
        {
          "output_type": "stream",
          "text": [
            "Iter [22620/24000]  Loss: 0.9535  Time/Image: 0.1664  lr=0.000829\n"
          ],
          "name": "stdout"
        },
        {
          "output_type": "stream",
          "text": [
            "INFO:ptsemseg:Iter [22630/24000]  Loss: 0.9534  Time/Image: 0.1660  lr=0.000829\n"
          ],
          "name": "stderr"
        },
        {
          "output_type": "stream",
          "text": [
            "Iter [22630/24000]  Loss: 0.9534  Time/Image: 0.1660  lr=0.000829\n"
          ],
          "name": "stdout"
        },
        {
          "output_type": "stream",
          "text": [
            "INFO:ptsemseg:Iter [22640/24000]  Loss: 0.9487  Time/Image: 0.1664  lr=0.000828\n"
          ],
          "name": "stderr"
        },
        {
          "output_type": "stream",
          "text": [
            "Iter [22640/24000]  Loss: 0.9487  Time/Image: 0.1664  lr=0.000828\n"
          ],
          "name": "stdout"
        },
        {
          "output_type": "stream",
          "text": [
            "INFO:ptsemseg:Iter [22650/24000]  Loss: 0.9542  Time/Image: 0.1653  lr=0.000828\n"
          ],
          "name": "stderr"
        },
        {
          "output_type": "stream",
          "text": [
            "Iter [22650/24000]  Loss: 0.9542  Time/Image: 0.1653  lr=0.000828\n"
          ],
          "name": "stdout"
        },
        {
          "output_type": "stream",
          "text": [
            "INFO:ptsemseg:Iter [22660/24000]  Loss: 0.9589  Time/Image: 0.1665  lr=0.000828\n"
          ],
          "name": "stderr"
        },
        {
          "output_type": "stream",
          "text": [
            "Iter [22660/24000]  Loss: 0.9589  Time/Image: 0.1665  lr=0.000828\n"
          ],
          "name": "stdout"
        },
        {
          "output_type": "stream",
          "text": [
            "INFO:ptsemseg:Iter [22670/24000]  Loss: 0.9526  Time/Image: 0.1682  lr=0.000828\n"
          ],
          "name": "stderr"
        },
        {
          "output_type": "stream",
          "text": [
            "Iter [22670/24000]  Loss: 0.9526  Time/Image: 0.1682  lr=0.000828\n"
          ],
          "name": "stdout"
        },
        {
          "output_type": "stream",
          "text": [
            "INFO:ptsemseg:Iter [22680/24000]  Loss: 0.9575  Time/Image: 0.1706  lr=0.000828\n"
          ],
          "name": "stderr"
        },
        {
          "output_type": "stream",
          "text": [
            "Iter [22680/24000]  Loss: 0.9575  Time/Image: 0.1706  lr=0.000828\n"
          ],
          "name": "stdout"
        },
        {
          "output_type": "stream",
          "text": [
            "INFO:ptsemseg:Iter [22690/24000]  Loss: 0.9575  Time/Image: 0.1722  lr=0.000828\n"
          ],
          "name": "stderr"
        },
        {
          "output_type": "stream",
          "text": [
            "Iter [22690/24000]  Loss: 0.9575  Time/Image: 0.1722  lr=0.000828\n"
          ],
          "name": "stdout"
        },
        {
          "output_type": "stream",
          "text": [
            "INFO:ptsemseg:Iter [22700/24000]  Loss: 0.9581  Time/Image: 0.1655  lr=0.000828\n"
          ],
          "name": "stderr"
        },
        {
          "output_type": "stream",
          "text": [
            "Iter [22700/24000]  Loss: 0.9581  Time/Image: 0.1655  lr=0.000828\n"
          ],
          "name": "stdout"
        },
        {
          "output_type": "stream",
          "text": [
            "INFO:ptsemseg:Iter [22710/24000]  Loss: 0.9598  Time/Image: 0.1645  lr=0.000828\n"
          ],
          "name": "stderr"
        },
        {
          "output_type": "stream",
          "text": [
            "Iter [22710/24000]  Loss: 0.9598  Time/Image: 0.1645  lr=0.000828\n"
          ],
          "name": "stdout"
        },
        {
          "output_type": "stream",
          "text": [
            "INFO:ptsemseg:Iter [22720/24000]  Loss: 0.9617  Time/Image: 0.1684  lr=0.000828\n"
          ],
          "name": "stderr"
        },
        {
          "output_type": "stream",
          "text": [
            "Iter [22720/24000]  Loss: 0.9617  Time/Image: 0.1684  lr=0.000828\n"
          ],
          "name": "stdout"
        },
        {
          "output_type": "stream",
          "text": [
            "INFO:ptsemseg:Iter [22730/24000]  Loss: 0.9607  Time/Image: 0.1664  lr=0.000828\n"
          ],
          "name": "stderr"
        },
        {
          "output_type": "stream",
          "text": [
            "Iter [22730/24000]  Loss: 0.9607  Time/Image: 0.1664  lr=0.000828\n"
          ],
          "name": "stdout"
        },
        {
          "output_type": "stream",
          "text": [
            "INFO:ptsemseg:Iter [22740/24000]  Loss: 0.9619  Time/Image: 0.1651  lr=0.000828\n"
          ],
          "name": "stderr"
        },
        {
          "output_type": "stream",
          "text": [
            "Iter [22740/24000]  Loss: 0.9619  Time/Image: 0.1651  lr=0.000828\n"
          ],
          "name": "stdout"
        },
        {
          "output_type": "stream",
          "text": [
            "INFO:ptsemseg:Iter [22750/24000]  Loss: 0.9642  Time/Image: 0.1690  lr=0.000828\n"
          ],
          "name": "stderr"
        },
        {
          "output_type": "stream",
          "text": [
            "Iter [22750/24000]  Loss: 0.9642  Time/Image: 0.1690  lr=0.000828\n"
          ],
          "name": "stdout"
        },
        {
          "output_type": "stream",
          "text": [
            "INFO:ptsemseg:Iter [22760/24000]  Loss: 0.9650  Time/Image: 0.1682  lr=0.000828\n"
          ],
          "name": "stderr"
        },
        {
          "output_type": "stream",
          "text": [
            "Iter [22760/24000]  Loss: 0.9650  Time/Image: 0.1682  lr=0.000828\n"
          ],
          "name": "stdout"
        },
        {
          "output_type": "stream",
          "text": [
            "INFO:ptsemseg:Iter [22770/24000]  Loss: 0.9636  Time/Image: 0.1700  lr=0.000827\n"
          ],
          "name": "stderr"
        },
        {
          "output_type": "stream",
          "text": [
            "Iter [22770/24000]  Loss: 0.9636  Time/Image: 0.1700  lr=0.000827\n"
          ],
          "name": "stdout"
        },
        {
          "output_type": "stream",
          "text": [
            "INFO:ptsemseg:Iter [22780/24000]  Loss: 0.9644  Time/Image: 0.1668  lr=0.000827\n"
          ],
          "name": "stderr"
        },
        {
          "output_type": "stream",
          "text": [
            "Iter [22780/24000]  Loss: 0.9644  Time/Image: 0.1668  lr=0.000827\n"
          ],
          "name": "stdout"
        },
        {
          "output_type": "stream",
          "text": [
            "INFO:ptsemseg:Iter [22790/24000]  Loss: 0.9643  Time/Image: 0.1684  lr=0.000827\n"
          ],
          "name": "stderr"
        },
        {
          "output_type": "stream",
          "text": [
            "Iter [22790/24000]  Loss: 0.9643  Time/Image: 0.1684  lr=0.000827\n"
          ],
          "name": "stdout"
        },
        {
          "output_type": "stream",
          "text": [
            "INFO:ptsemseg:Iter [22800/24000]  Loss: 0.9649  Time/Image: 0.1634  lr=0.000827\n"
          ],
          "name": "stderr"
        },
        {
          "output_type": "stream",
          "text": [
            "Iter [22800/24000]  Loss: 0.9649  Time/Image: 0.1634  lr=0.000827\n"
          ],
          "name": "stdout"
        },
        {
          "output_type": "stream",
          "text": [
            "INFO:ptsemseg:Iter [22810/24000]  Loss: 0.9623  Time/Image: 0.1680  lr=0.000827\n"
          ],
          "name": "stderr"
        },
        {
          "output_type": "stream",
          "text": [
            "Iter [22810/24000]  Loss: 0.9623  Time/Image: 0.1680  lr=0.000827\n"
          ],
          "name": "stdout"
        },
        {
          "output_type": "stream",
          "text": [
            "INFO:ptsemseg:Iter [22820/24000]  Loss: 0.9639  Time/Image: 0.1691  lr=0.000827\n"
          ],
          "name": "stderr"
        },
        {
          "output_type": "stream",
          "text": [
            "Iter [22820/24000]  Loss: 0.9639  Time/Image: 0.1691  lr=0.000827\n"
          ],
          "name": "stdout"
        },
        {
          "output_type": "stream",
          "text": [
            "INFO:ptsemseg:Iter [22830/24000]  Loss: 0.9624  Time/Image: 0.1653  lr=0.000827\n"
          ],
          "name": "stderr"
        },
        {
          "output_type": "stream",
          "text": [
            "Iter [22830/24000]  Loss: 0.9624  Time/Image: 0.1653  lr=0.000827\n"
          ],
          "name": "stdout"
        },
        {
          "output_type": "stream",
          "text": [
            "INFO:ptsemseg:Iter [22840/24000]  Loss: 0.9623  Time/Image: 0.1639  lr=0.000827\n"
          ],
          "name": "stderr"
        },
        {
          "output_type": "stream",
          "text": [
            "Iter [22840/24000]  Loss: 0.9623  Time/Image: 0.1639  lr=0.000827\n"
          ],
          "name": "stdout"
        },
        {
          "output_type": "stream",
          "text": [
            "INFO:ptsemseg:Iter [22850/24000]  Loss: 0.9628  Time/Image: 0.1677  lr=0.000827\n"
          ],
          "name": "stderr"
        },
        {
          "output_type": "stream",
          "text": [
            "Iter [22850/24000]  Loss: 0.9628  Time/Image: 0.1677  lr=0.000827\n"
          ],
          "name": "stdout"
        },
        {
          "output_type": "stream",
          "text": [
            "INFO:ptsemseg:Iter [22860/24000]  Loss: 0.9634  Time/Image: 0.1676  lr=0.000827\n"
          ],
          "name": "stderr"
        },
        {
          "output_type": "stream",
          "text": [
            "Iter [22860/24000]  Loss: 0.9634  Time/Image: 0.1676  lr=0.000827\n"
          ],
          "name": "stdout"
        },
        {
          "output_type": "stream",
          "text": [
            "INFO:ptsemseg:Iter [22870/24000]  Loss: 0.9626  Time/Image: 0.1647  lr=0.000827\n"
          ],
          "name": "stderr"
        },
        {
          "output_type": "stream",
          "text": [
            "Iter [22870/24000]  Loss: 0.9626  Time/Image: 0.1647  lr=0.000827\n"
          ],
          "name": "stdout"
        },
        {
          "output_type": "stream",
          "text": [
            "INFO:ptsemseg:Iter [22880/24000]  Loss: 0.9613  Time/Image: 0.1657  lr=0.000827\n"
          ],
          "name": "stderr"
        },
        {
          "output_type": "stream",
          "text": [
            "Iter [22880/24000]  Loss: 0.9613  Time/Image: 0.1657  lr=0.000827\n"
          ],
          "name": "stdout"
        },
        {
          "output_type": "stream",
          "text": [
            "INFO:ptsemseg:Iter [22890/24000]  Loss: 0.9624  Time/Image: 0.1626  lr=0.000827\n"
          ],
          "name": "stderr"
        },
        {
          "output_type": "stream",
          "text": [
            "Iter [22890/24000]  Loss: 0.9624  Time/Image: 0.1626  lr=0.000827\n"
          ],
          "name": "stdout"
        },
        {
          "output_type": "stream",
          "text": [
            "INFO:ptsemseg:Iter [22900/24000]  Loss: 0.9599  Time/Image: 0.1625  lr=0.000826\n"
          ],
          "name": "stderr"
        },
        {
          "output_type": "stream",
          "text": [
            "Iter [22900/24000]  Loss: 0.9599  Time/Image: 0.1625  lr=0.000826\n"
          ],
          "name": "stdout"
        },
        {
          "output_type": "stream",
          "text": [
            "INFO:ptsemseg:Iter [22910/24000]  Loss: 0.9600  Time/Image: 0.1177  lr=0.000826\n"
          ],
          "name": "stderr"
        },
        {
          "output_type": "stream",
          "text": [
            "Iter [22910/24000]  Loss: 0.9600  Time/Image: 0.1177  lr=0.000826\n"
          ],
          "name": "stdout"
        },
        {
          "output_type": "stream",
          "text": [
            "INFO:ptsemseg:Iter [22920/24000]  Loss: 0.9622  Time/Image: 0.1435  lr=0.000826\n"
          ],
          "name": "stderr"
        },
        {
          "output_type": "stream",
          "text": [
            "Iter [22920/24000]  Loss: 0.9622  Time/Image: 0.1435  lr=0.000826\n"
          ],
          "name": "stdout"
        },
        {
          "output_type": "stream",
          "text": [
            "INFO:ptsemseg:Iter [22930/24000]  Loss: 0.9614  Time/Image: 0.1670  lr=0.000826\n"
          ],
          "name": "stderr"
        },
        {
          "output_type": "stream",
          "text": [
            "Iter [22930/24000]  Loss: 0.9614  Time/Image: 0.1670  lr=0.000826\n"
          ],
          "name": "stdout"
        },
        {
          "output_type": "stream",
          "text": [
            "INFO:ptsemseg:Iter [22940/24000]  Loss: 0.9603  Time/Image: 0.1674  lr=0.000826\n"
          ],
          "name": "stderr"
        },
        {
          "output_type": "stream",
          "text": [
            "Iter [22940/24000]  Loss: 0.9603  Time/Image: 0.1674  lr=0.000826\n"
          ],
          "name": "stdout"
        },
        {
          "output_type": "stream",
          "text": [
            "INFO:ptsemseg:Iter [22950/24000]  Loss: 0.9597  Time/Image: 0.1701  lr=0.000826\n"
          ],
          "name": "stderr"
        },
        {
          "output_type": "stream",
          "text": [
            "Iter [22950/24000]  Loss: 0.9597  Time/Image: 0.1701  lr=0.000826\n"
          ],
          "name": "stdout"
        },
        {
          "output_type": "stream",
          "text": [
            "INFO:ptsemseg:Iter [22960/24000]  Loss: 0.9604  Time/Image: 0.1661  lr=0.000826\n"
          ],
          "name": "stderr"
        },
        {
          "output_type": "stream",
          "text": [
            "Iter [22960/24000]  Loss: 0.9604  Time/Image: 0.1661  lr=0.000826\n"
          ],
          "name": "stdout"
        },
        {
          "output_type": "stream",
          "text": [
            "INFO:ptsemseg:Iter [22970/24000]  Loss: 0.9612  Time/Image: 0.1680  lr=0.000826\n"
          ],
          "name": "stderr"
        },
        {
          "output_type": "stream",
          "text": [
            "Iter [22970/24000]  Loss: 0.9612  Time/Image: 0.1680  lr=0.000826\n"
          ],
          "name": "stdout"
        },
        {
          "output_type": "stream",
          "text": [
            "INFO:ptsemseg:Iter [22980/24000]  Loss: 0.9608  Time/Image: 0.1684  lr=0.000826\n"
          ],
          "name": "stderr"
        },
        {
          "output_type": "stream",
          "text": [
            "Iter [22980/24000]  Loss: 0.9608  Time/Image: 0.1684  lr=0.000826\n"
          ],
          "name": "stdout"
        },
        {
          "output_type": "stream",
          "text": [
            "INFO:ptsemseg:Iter [22990/24000]  Loss: 0.9604  Time/Image: 0.1688  lr=0.000826\n"
          ],
          "name": "stderr"
        },
        {
          "output_type": "stream",
          "text": [
            "Iter [22990/24000]  Loss: 0.9604  Time/Image: 0.1688  lr=0.000826\n"
          ],
          "name": "stdout"
        },
        {
          "output_type": "stream",
          "text": [
            "INFO:ptsemseg:Iter [23000/24000]  Loss: 0.9618  Time/Image: 0.1682  lr=0.000826\n"
          ],
          "name": "stderr"
        },
        {
          "output_type": "stream",
          "text": [
            "Iter [23000/24000]  Loss: 0.9618  Time/Image: 0.1682  lr=0.000826\n"
          ],
          "name": "stdout"
        },
        {
          "output_type": "stream",
          "text": [
            "84it [03:17,  2.35s/it]\n",
            "INFO:ptsemseg:Iter 23000 Val Loss: 0.9512\n",
            "INFO:ptsemseg:Overall Acc: \t: 0.9316087813361417\n",
            "INFO:ptsemseg:Mean Acc : \t: 0.6409742620495698\n",
            "INFO:ptsemseg:FreqW Acc : \t: 0.8794621383349978\n",
            "INFO:ptsemseg:Mean IoU : \t: 0.548556612208838\n",
            "INFO:ptsemseg:0: 0.9675991936392115\n",
            "INFO:ptsemseg:1: 0.7450552528744946\n",
            "INFO:ptsemseg:2: 0.8806113123002712\n",
            "INFO:ptsemseg:3: 0.3395303701134416\n",
            "INFO:ptsemseg:4: 0.44881871190397216\n",
            "INFO:ptsemseg:5: 0.4822732194106134\n",
            "INFO:ptsemseg:6: 0.4276395060369028\n",
            "INFO:ptsemseg:7: 0.6067068343556662\n",
            "INFO:ptsemseg:8: 0.8985407309584195\n",
            "INFO:ptsemseg:9: 0.44162007774973744\n",
            "INFO:ptsemseg:10: 0.9252794081594619\n",
            "INFO:ptsemseg:11: 0.6373967080393349\n",
            "INFO:ptsemseg:12: 0.3263503379004668\n",
            "INFO:ptsemseg:13: 0.8947387205180489\n",
            "INFO:ptsemseg:14: 0.1384834470691102\n",
            "INFO:ptsemseg:15: 0.38408832056712083\n",
            "INFO:ptsemseg:16: 0.2217857621850471\n",
            "INFO:ptsemseg:17: 0.12441817337007027\n",
            "INFO:ptsemseg:18: 0.5316395448165299\n"
          ],
          "name": "stderr"
        },
        {
          "output_type": "stream",
          "text": [
            "Overall Acc: \t 0.9316087813361417\n",
            "Mean Acc : \t 0.6409742620495698\n",
            "FreqW Acc : \t 0.8794621383349978\n",
            "Mean IoU : \t 0.548556612208838\n"
          ],
          "name": "stdout"
        },
        {
          "output_type": "stream",
          "text": [
            "INFO:ptsemseg:Iter [23010/24000]  Loss: 0.8892  Time/Image: 0.1437  lr=0.000826\n"
          ],
          "name": "stderr"
        },
        {
          "output_type": "stream",
          "text": [
            "Iter [23010/24000]  Loss: 0.8892  Time/Image: 0.1437  lr=0.000826\n"
          ],
          "name": "stdout"
        },
        {
          "output_type": "stream",
          "text": [
            "INFO:ptsemseg:Iter [23020/24000]  Loss: 0.9119  Time/Image: 0.1672  lr=0.000826\n"
          ],
          "name": "stderr"
        },
        {
          "output_type": "stream",
          "text": [
            "Iter [23020/24000]  Loss: 0.9119  Time/Image: 0.1672  lr=0.000826\n"
          ],
          "name": "stdout"
        },
        {
          "output_type": "stream",
          "text": [
            "INFO:ptsemseg:Iter [23030/24000]  Loss: 0.9255  Time/Image: 0.1661  lr=0.000826\n"
          ],
          "name": "stderr"
        },
        {
          "output_type": "stream",
          "text": [
            "Iter [23030/24000]  Loss: 0.9255  Time/Image: 0.1661  lr=0.000826\n"
          ],
          "name": "stdout"
        },
        {
          "output_type": "stream",
          "text": [
            "INFO:ptsemseg:Iter [23040/24000]  Loss: 0.9372  Time/Image: 0.1656  lr=0.000825\n"
          ],
          "name": "stderr"
        },
        {
          "output_type": "stream",
          "text": [
            "Iter [23040/24000]  Loss: 0.9372  Time/Image: 0.1656  lr=0.000825\n"
          ],
          "name": "stdout"
        },
        {
          "output_type": "stream",
          "text": [
            "INFO:ptsemseg:Iter [23050/24000]  Loss: 0.9273  Time/Image: 0.1650  lr=0.000825\n"
          ],
          "name": "stderr"
        },
        {
          "output_type": "stream",
          "text": [
            "Iter [23050/24000]  Loss: 0.9273  Time/Image: 0.1650  lr=0.000825\n"
          ],
          "name": "stdout"
        },
        {
          "output_type": "stream",
          "text": [
            "INFO:ptsemseg:Iter [23060/24000]  Loss: 0.9394  Time/Image: 0.1673  lr=0.000825\n"
          ],
          "name": "stderr"
        },
        {
          "output_type": "stream",
          "text": [
            "Iter [23060/24000]  Loss: 0.9394  Time/Image: 0.1673  lr=0.000825\n"
          ],
          "name": "stdout"
        },
        {
          "output_type": "stream",
          "text": [
            "INFO:ptsemseg:Iter [23070/24000]  Loss: 0.9462  Time/Image: 0.1645  lr=0.000825\n"
          ],
          "name": "stderr"
        },
        {
          "output_type": "stream",
          "text": [
            "Iter [23070/24000]  Loss: 0.9462  Time/Image: 0.1645  lr=0.000825\n"
          ],
          "name": "stdout"
        },
        {
          "output_type": "stream",
          "text": [
            "INFO:ptsemseg:Iter [23080/24000]  Loss: 0.9464  Time/Image: 0.1655  lr=0.000825\n"
          ],
          "name": "stderr"
        },
        {
          "output_type": "stream",
          "text": [
            "Iter [23080/24000]  Loss: 0.9464  Time/Image: 0.1655  lr=0.000825\n"
          ],
          "name": "stdout"
        },
        {
          "output_type": "stream",
          "text": [
            "INFO:ptsemseg:Iter [23090/24000]  Loss: 0.9445  Time/Image: 0.1700  lr=0.000825\n"
          ],
          "name": "stderr"
        },
        {
          "output_type": "stream",
          "text": [
            "Iter [23090/24000]  Loss: 0.9445  Time/Image: 0.1700  lr=0.000825\n"
          ],
          "name": "stdout"
        },
        {
          "output_type": "stream",
          "text": [
            "INFO:ptsemseg:Iter [23100/24000]  Loss: 0.9480  Time/Image: 0.1648  lr=0.000825\n"
          ],
          "name": "stderr"
        },
        {
          "output_type": "stream",
          "text": [
            "Iter [23100/24000]  Loss: 0.9480  Time/Image: 0.1648  lr=0.000825\n"
          ],
          "name": "stdout"
        },
        {
          "output_type": "stream",
          "text": [
            "INFO:ptsemseg:Iter [23110/24000]  Loss: 0.9498  Time/Image: 0.1701  lr=0.000825\n"
          ],
          "name": "stderr"
        },
        {
          "output_type": "stream",
          "text": [
            "Iter [23110/24000]  Loss: 0.9498  Time/Image: 0.1701  lr=0.000825\n"
          ],
          "name": "stdout"
        },
        {
          "output_type": "stream",
          "text": [
            "INFO:ptsemseg:Iter [23120/24000]  Loss: 0.9532  Time/Image: 0.1660  lr=0.000825\n"
          ],
          "name": "stderr"
        },
        {
          "output_type": "stream",
          "text": [
            "Iter [23120/24000]  Loss: 0.9532  Time/Image: 0.1660  lr=0.000825\n"
          ],
          "name": "stdout"
        },
        {
          "output_type": "stream",
          "text": [
            "INFO:ptsemseg:Iter [23130/24000]  Loss: 0.9521  Time/Image: 0.1699  lr=0.000825\n"
          ],
          "name": "stderr"
        },
        {
          "output_type": "stream",
          "text": [
            "Iter [23130/24000]  Loss: 0.9521  Time/Image: 0.1699  lr=0.000825\n"
          ],
          "name": "stdout"
        },
        {
          "output_type": "stream",
          "text": [
            "INFO:ptsemseg:Iter [23140/24000]  Loss: 0.9497  Time/Image: 0.1650  lr=0.000825\n"
          ],
          "name": "stderr"
        },
        {
          "output_type": "stream",
          "text": [
            "Iter [23140/24000]  Loss: 0.9497  Time/Image: 0.1650  lr=0.000825\n"
          ],
          "name": "stdout"
        },
        {
          "output_type": "stream",
          "text": [
            "INFO:ptsemseg:Iter [23150/24000]  Loss: 0.9503  Time/Image: 0.1661  lr=0.000825\n"
          ],
          "name": "stderr"
        },
        {
          "output_type": "stream",
          "text": [
            "Iter [23150/24000]  Loss: 0.9503  Time/Image: 0.1661  lr=0.000825\n"
          ],
          "name": "stdout"
        },
        {
          "output_type": "stream",
          "text": [
            "INFO:ptsemseg:Iter [23160/24000]  Loss: 0.9583  Time/Image: 0.1700  lr=0.000825\n"
          ],
          "name": "stderr"
        },
        {
          "output_type": "stream",
          "text": [
            "Iter [23160/24000]  Loss: 0.9583  Time/Image: 0.1700  lr=0.000825\n"
          ],
          "name": "stdout"
        },
        {
          "output_type": "stream",
          "text": [
            "INFO:ptsemseg:Iter [23170/24000]  Loss: 0.9606  Time/Image: 0.1648  lr=0.000824\n"
          ],
          "name": "stderr"
        },
        {
          "output_type": "stream",
          "text": [
            "Iter [23170/24000]  Loss: 0.9606  Time/Image: 0.1648  lr=0.000824\n"
          ],
          "name": "stdout"
        },
        {
          "output_type": "stream",
          "text": [
            "INFO:ptsemseg:Iter [23180/24000]  Loss: 0.9599  Time/Image: 0.1669  lr=0.000824\n"
          ],
          "name": "stderr"
        },
        {
          "output_type": "stream",
          "text": [
            "Iter [23180/24000]  Loss: 0.9599  Time/Image: 0.1669  lr=0.000824\n"
          ],
          "name": "stdout"
        },
        {
          "output_type": "stream",
          "text": [
            "INFO:ptsemseg:Iter [23190/24000]  Loss: 0.9589  Time/Image: 0.1735  lr=0.000824\n"
          ],
          "name": "stderr"
        },
        {
          "output_type": "stream",
          "text": [
            "Iter [23190/24000]  Loss: 0.9589  Time/Image: 0.1735  lr=0.000824\n"
          ],
          "name": "stdout"
        },
        {
          "output_type": "stream",
          "text": [
            "INFO:ptsemseg:Iter [23200/24000]  Loss: 0.9609  Time/Image: 0.1717  lr=0.000824\n"
          ],
          "name": "stderr"
        },
        {
          "output_type": "stream",
          "text": [
            "Iter [23200/24000]  Loss: 0.9609  Time/Image: 0.1717  lr=0.000824\n"
          ],
          "name": "stdout"
        },
        {
          "output_type": "stream",
          "text": [
            "INFO:ptsemseg:Iter [23210/24000]  Loss: 0.9645  Time/Image: 0.1687  lr=0.000824\n"
          ],
          "name": "stderr"
        },
        {
          "output_type": "stream",
          "text": [
            "Iter [23210/24000]  Loss: 0.9645  Time/Image: 0.1687  lr=0.000824\n"
          ],
          "name": "stdout"
        },
        {
          "output_type": "stream",
          "text": [
            "INFO:ptsemseg:Iter [23220/24000]  Loss: 0.9630  Time/Image: 0.1660  lr=0.000824\n"
          ],
          "name": "stderr"
        },
        {
          "output_type": "stream",
          "text": [
            "Iter [23220/24000]  Loss: 0.9630  Time/Image: 0.1660  lr=0.000824\n"
          ],
          "name": "stdout"
        },
        {
          "output_type": "stream",
          "text": [
            "INFO:ptsemseg:Iter [23230/24000]  Loss: 0.9585  Time/Image: 0.1657  lr=0.000824\n"
          ],
          "name": "stderr"
        },
        {
          "output_type": "stream",
          "text": [
            "Iter [23230/24000]  Loss: 0.9585  Time/Image: 0.1657  lr=0.000824\n"
          ],
          "name": "stdout"
        },
        {
          "output_type": "stream",
          "text": [
            "INFO:ptsemseg:Iter [23240/24000]  Loss: 0.9600  Time/Image: 0.1708  lr=0.000824\n"
          ],
          "name": "stderr"
        },
        {
          "output_type": "stream",
          "text": [
            "Iter [23240/24000]  Loss: 0.9600  Time/Image: 0.1708  lr=0.000824\n"
          ],
          "name": "stdout"
        },
        {
          "output_type": "stream",
          "text": [
            "INFO:ptsemseg:Iter [23250/24000]  Loss: 0.9593  Time/Image: 0.1658  lr=0.000824\n"
          ],
          "name": "stderr"
        },
        {
          "output_type": "stream",
          "text": [
            "Iter [23250/24000]  Loss: 0.9593  Time/Image: 0.1658  lr=0.000824\n"
          ],
          "name": "stdout"
        },
        {
          "output_type": "stream",
          "text": [
            "INFO:ptsemseg:Iter [23260/24000]  Loss: 0.9610  Time/Image: 0.1681  lr=0.000824\n"
          ],
          "name": "stderr"
        },
        {
          "output_type": "stream",
          "text": [
            "Iter [23260/24000]  Loss: 0.9610  Time/Image: 0.1681  lr=0.000824\n"
          ],
          "name": "stdout"
        },
        {
          "output_type": "stream",
          "text": [
            "INFO:ptsemseg:Iter [23270/24000]  Loss: 0.9610  Time/Image: 0.1692  lr=0.000824\n"
          ],
          "name": "stderr"
        },
        {
          "output_type": "stream",
          "text": [
            "Iter [23270/24000]  Loss: 0.9610  Time/Image: 0.1692  lr=0.000824\n"
          ],
          "name": "stdout"
        },
        {
          "output_type": "stream",
          "text": [
            "INFO:ptsemseg:Iter [23280/24000]  Loss: 0.9615  Time/Image: 0.1653  lr=0.000824\n"
          ],
          "name": "stderr"
        },
        {
          "output_type": "stream",
          "text": [
            "Iter [23280/24000]  Loss: 0.9615  Time/Image: 0.1653  lr=0.000824\n"
          ],
          "name": "stdout"
        },
        {
          "output_type": "stream",
          "text": [
            "INFO:ptsemseg:Iter [23290/24000]  Loss: 0.9633  Time/Image: 0.1697  lr=0.000824\n"
          ],
          "name": "stderr"
        },
        {
          "output_type": "stream",
          "text": [
            "Iter [23290/24000]  Loss: 0.9633  Time/Image: 0.1697  lr=0.000824\n"
          ],
          "name": "stdout"
        },
        {
          "output_type": "stream",
          "text": [
            "INFO:ptsemseg:Iter [23300/24000]  Loss: 0.9629  Time/Image: 0.1701  lr=0.000823\n"
          ],
          "name": "stderr"
        },
        {
          "output_type": "stream",
          "text": [
            "Iter [23300/24000]  Loss: 0.9629  Time/Image: 0.1701  lr=0.000823\n"
          ],
          "name": "stdout"
        },
        {
          "output_type": "stream",
          "text": [
            "INFO:ptsemseg:Iter [23310/24000]  Loss: 0.9621  Time/Image: 0.1691  lr=0.000823\n"
          ],
          "name": "stderr"
        },
        {
          "output_type": "stream",
          "text": [
            "Iter [23310/24000]  Loss: 0.9621  Time/Image: 0.1691  lr=0.000823\n"
          ],
          "name": "stdout"
        },
        {
          "output_type": "stream",
          "text": [
            "INFO:ptsemseg:Iter [23320/24000]  Loss: 0.9626  Time/Image: 0.1664  lr=0.000823\n"
          ],
          "name": "stderr"
        },
        {
          "output_type": "stream",
          "text": [
            "Iter [23320/24000]  Loss: 0.9626  Time/Image: 0.1664  lr=0.000823\n"
          ],
          "name": "stdout"
        },
        {
          "output_type": "stream",
          "text": [
            "INFO:ptsemseg:Iter [23330/24000]  Loss: 0.9606  Time/Image: 0.1679  lr=0.000823\n"
          ],
          "name": "stderr"
        },
        {
          "output_type": "stream",
          "text": [
            "Iter [23330/24000]  Loss: 0.9606  Time/Image: 0.1679  lr=0.000823\n"
          ],
          "name": "stdout"
        },
        {
          "output_type": "stream",
          "text": [
            "INFO:ptsemseg:Iter [23340/24000]  Loss: 0.9614  Time/Image: 0.1666  lr=0.000823\n"
          ],
          "name": "stderr"
        },
        {
          "output_type": "stream",
          "text": [
            "Iter [23340/24000]  Loss: 0.9614  Time/Image: 0.1666  lr=0.000823\n"
          ],
          "name": "stdout"
        },
        {
          "output_type": "stream",
          "text": [
            "INFO:ptsemseg:Iter [23350/24000]  Loss: 0.9588  Time/Image: 0.1690  lr=0.000823\n"
          ],
          "name": "stderr"
        },
        {
          "output_type": "stream",
          "text": [
            "Iter [23350/24000]  Loss: 0.9588  Time/Image: 0.1690  lr=0.000823\n"
          ],
          "name": "stdout"
        },
        {
          "output_type": "stream",
          "text": [
            "INFO:ptsemseg:Iter [23360/24000]  Loss: 0.9578  Time/Image: 0.1651  lr=0.000823\n"
          ],
          "name": "stderr"
        },
        {
          "output_type": "stream",
          "text": [
            "Iter [23360/24000]  Loss: 0.9578  Time/Image: 0.1651  lr=0.000823\n"
          ],
          "name": "stdout"
        },
        {
          "output_type": "stream",
          "text": [
            "INFO:ptsemseg:Iter [23370/24000]  Loss: 0.9585  Time/Image: 0.1640  lr=0.000823\n"
          ],
          "name": "stderr"
        },
        {
          "output_type": "stream",
          "text": [
            "Iter [23370/24000]  Loss: 0.9585  Time/Image: 0.1640  lr=0.000823\n"
          ],
          "name": "stdout"
        },
        {
          "output_type": "stream",
          "text": [
            "INFO:ptsemseg:Iter [23380/24000]  Loss: 0.9592  Time/Image: 0.1689  lr=0.000823\n"
          ],
          "name": "stderr"
        },
        {
          "output_type": "stream",
          "text": [
            "Iter [23380/24000]  Loss: 0.9592  Time/Image: 0.1689  lr=0.000823\n"
          ],
          "name": "stdout"
        },
        {
          "output_type": "stream",
          "text": [
            "INFO:ptsemseg:Iter [23390/24000]  Loss: 0.9580  Time/Image: 0.1648  lr=0.000823\n"
          ],
          "name": "stderr"
        },
        {
          "output_type": "stream",
          "text": [
            "Iter [23390/24000]  Loss: 0.9580  Time/Image: 0.1648  lr=0.000823\n"
          ],
          "name": "stdout"
        },
        {
          "output_type": "stream",
          "text": [
            "INFO:ptsemseg:Iter [23400/24000]  Loss: 0.9588  Time/Image: 0.1582  lr=0.000823\n"
          ],
          "name": "stderr"
        },
        {
          "output_type": "stream",
          "text": [
            "Iter [23400/24000]  Loss: 0.9588  Time/Image: 0.1582  lr=0.000823\n"
          ],
          "name": "stdout"
        },
        {
          "output_type": "stream",
          "text": [
            "INFO:ptsemseg:Iter [23410/24000]  Loss: 0.9583  Time/Image: 0.1077  lr=0.000823\n"
          ],
          "name": "stderr"
        },
        {
          "output_type": "stream",
          "text": [
            "Iter [23410/24000]  Loss: 0.9583  Time/Image: 0.1077  lr=0.000823\n"
          ],
          "name": "stdout"
        },
        {
          "output_type": "stream",
          "text": [
            "INFO:ptsemseg:Iter [23420/24000]  Loss: 0.9583  Time/Image: 0.1684  lr=0.000823\n"
          ],
          "name": "stderr"
        },
        {
          "output_type": "stream",
          "text": [
            "Iter [23420/24000]  Loss: 0.9583  Time/Image: 0.1684  lr=0.000823\n"
          ],
          "name": "stdout"
        },
        {
          "output_type": "stream",
          "text": [
            "INFO:ptsemseg:Iter [23430/24000]  Loss: 0.9574  Time/Image: 0.1644  lr=0.000822\n"
          ],
          "name": "stderr"
        },
        {
          "output_type": "stream",
          "text": [
            "Iter [23430/24000]  Loss: 0.9574  Time/Image: 0.1644  lr=0.000822\n"
          ],
          "name": "stdout"
        },
        {
          "output_type": "stream",
          "text": [
            "INFO:ptsemseg:Iter [23440/24000]  Loss: 0.9558  Time/Image: 0.1677  lr=0.000822\n"
          ],
          "name": "stderr"
        },
        {
          "output_type": "stream",
          "text": [
            "Iter [23440/24000]  Loss: 0.9558  Time/Image: 0.1677  lr=0.000822\n"
          ],
          "name": "stdout"
        },
        {
          "output_type": "stream",
          "text": [
            "INFO:ptsemseg:Iter [23450/24000]  Loss: 0.9552  Time/Image: 0.1644  lr=0.000822\n"
          ],
          "name": "stderr"
        },
        {
          "output_type": "stream",
          "text": [
            "Iter [23450/24000]  Loss: 0.9552  Time/Image: 0.1644  lr=0.000822\n"
          ],
          "name": "stdout"
        },
        {
          "output_type": "stream",
          "text": [
            "INFO:ptsemseg:Iter [23460/24000]  Loss: 0.9557  Time/Image: 0.1652  lr=0.000822\n"
          ],
          "name": "stderr"
        },
        {
          "output_type": "stream",
          "text": [
            "Iter [23460/24000]  Loss: 0.9557  Time/Image: 0.1652  lr=0.000822\n"
          ],
          "name": "stdout"
        },
        {
          "output_type": "stream",
          "text": [
            "INFO:ptsemseg:Iter [23470/24000]  Loss: 0.9553  Time/Image: 0.1670  lr=0.000822\n"
          ],
          "name": "stderr"
        },
        {
          "output_type": "stream",
          "text": [
            "Iter [23470/24000]  Loss: 0.9553  Time/Image: 0.1670  lr=0.000822\n"
          ],
          "name": "stdout"
        },
        {
          "output_type": "stream",
          "text": [
            "INFO:ptsemseg:Iter [23480/24000]  Loss: 0.9573  Time/Image: 0.1696  lr=0.000822\n"
          ],
          "name": "stderr"
        },
        {
          "output_type": "stream",
          "text": [
            "Iter [23480/24000]  Loss: 0.9573  Time/Image: 0.1696  lr=0.000822\n"
          ],
          "name": "stdout"
        },
        {
          "output_type": "stream",
          "text": [
            "INFO:ptsemseg:Iter [23490/24000]  Loss: 0.9573  Time/Image: 0.1659  lr=0.000822\n"
          ],
          "name": "stderr"
        },
        {
          "output_type": "stream",
          "text": [
            "Iter [23490/24000]  Loss: 0.9573  Time/Image: 0.1659  lr=0.000822\n"
          ],
          "name": "stdout"
        },
        {
          "output_type": "stream",
          "text": [
            "INFO:ptsemseg:Iter [23500/24000]  Loss: 0.9568  Time/Image: 0.1654  lr=0.000822\n"
          ],
          "name": "stderr"
        },
        {
          "output_type": "stream",
          "text": [
            "Iter [23500/24000]  Loss: 0.9568  Time/Image: 0.1654  lr=0.000822\n"
          ],
          "name": "stdout"
        },
        {
          "output_type": "stream",
          "text": [
            "84it [03:16,  2.34s/it]\n",
            "INFO:ptsemseg:Iter 23500 Val Loss: 1.0103\n",
            "INFO:ptsemseg:Overall Acc: \t: 0.9315845691743735\n",
            "INFO:ptsemseg:Mean Acc : \t: 0.6468088126018893\n",
            "INFO:ptsemseg:FreqW Acc : \t: 0.8788555480967479\n",
            "INFO:ptsemseg:Mean IoU : \t: 0.5562512423813969\n",
            "INFO:ptsemseg:0: 0.9681502675547409\n",
            "INFO:ptsemseg:1: 0.7620688274608471\n",
            "INFO:ptsemseg:2: 0.8775720406525273\n",
            "INFO:ptsemseg:3: 0.24039431559447014\n",
            "INFO:ptsemseg:4: 0.4424830544017967\n",
            "INFO:ptsemseg:5: 0.45840483467202\n",
            "INFO:ptsemseg:6: 0.3253394629579413\n",
            "INFO:ptsemseg:7: 0.6136452341190576\n",
            "INFO:ptsemseg:8: 0.8905052123300867\n",
            "INFO:ptsemseg:9: 0.5059354288345606\n",
            "INFO:ptsemseg:10: 0.9229022040183265\n",
            "INFO:ptsemseg:11: 0.6351166078668198\n",
            "INFO:ptsemseg:12: 0.3022925403260888\n",
            "INFO:ptsemseg:13: 0.9001436779453904\n",
            "INFO:ptsemseg:14: 0.22153246858586023\n",
            "INFO:ptsemseg:15: 0.5215172157866478\n",
            "INFO:ptsemseg:16: 0.3178175115011386\n",
            "INFO:ptsemseg:17: 0.13315505251907966\n",
            "INFO:ptsemseg:18: 0.5297976481191435\n"
          ],
          "name": "stderr"
        },
        {
          "output_type": "stream",
          "text": [
            "Overall Acc: \t 0.9315845691743735\n",
            "Mean Acc : \t 0.6468088126018893\n",
            "FreqW Acc : \t 0.8788555480967479\n",
            "Mean IoU : \t 0.5562512423813969\n"
          ],
          "name": "stdout"
        },
        {
          "output_type": "stream",
          "text": [
            "INFO:ptsemseg:Iter [23510/24000]  Loss: 0.9692  Time/Image: 0.1460  lr=0.000822\n"
          ],
          "name": "stderr"
        },
        {
          "output_type": "stream",
          "text": [
            "Iter [23510/24000]  Loss: 0.9692  Time/Image: 0.1460  lr=0.000822\n"
          ],
          "name": "stdout"
        },
        {
          "output_type": "stream",
          "text": [
            "INFO:ptsemseg:Iter [23520/24000]  Loss: 0.9598  Time/Image: 0.1705  lr=0.000822\n"
          ],
          "name": "stderr"
        },
        {
          "output_type": "stream",
          "text": [
            "Iter [23520/24000]  Loss: 0.9598  Time/Image: 0.1705  lr=0.000822\n"
          ],
          "name": "stdout"
        },
        {
          "output_type": "stream",
          "text": [
            "INFO:ptsemseg:Iter [23530/24000]  Loss: 0.9608  Time/Image: 0.1685  lr=0.000822\n"
          ],
          "name": "stderr"
        },
        {
          "output_type": "stream",
          "text": [
            "Iter [23530/24000]  Loss: 0.9608  Time/Image: 0.1685  lr=0.000822\n"
          ],
          "name": "stdout"
        },
        {
          "output_type": "stream",
          "text": [
            "INFO:ptsemseg:Iter [23540/24000]  Loss: 0.9844  Time/Image: 0.1664  lr=0.000822\n"
          ],
          "name": "stderr"
        },
        {
          "output_type": "stream",
          "text": [
            "Iter [23540/24000]  Loss: 0.9844  Time/Image: 0.1664  lr=0.000822\n"
          ],
          "name": "stdout"
        },
        {
          "output_type": "stream",
          "text": [
            "INFO:ptsemseg:Iter [23550/24000]  Loss: 0.9690  Time/Image: 0.1670  lr=0.000822\n"
          ],
          "name": "stderr"
        },
        {
          "output_type": "stream",
          "text": [
            "Iter [23550/24000]  Loss: 0.9690  Time/Image: 0.1670  lr=0.000822\n"
          ],
          "name": "stdout"
        },
        {
          "output_type": "stream",
          "text": [
            "INFO:ptsemseg:Iter [23560/24000]  Loss: 0.9611  Time/Image: 0.1660  lr=0.000821\n"
          ],
          "name": "stderr"
        },
        {
          "output_type": "stream",
          "text": [
            "Iter [23560/24000]  Loss: 0.9611  Time/Image: 0.1660  lr=0.000821\n"
          ],
          "name": "stdout"
        },
        {
          "output_type": "stream",
          "text": [
            "INFO:ptsemseg:Iter [23570/24000]  Loss: 0.9648  Time/Image: 0.1690  lr=0.000821\n"
          ],
          "name": "stderr"
        },
        {
          "output_type": "stream",
          "text": [
            "Iter [23570/24000]  Loss: 0.9648  Time/Image: 0.1690  lr=0.000821\n"
          ],
          "name": "stdout"
        },
        {
          "output_type": "stream",
          "text": [
            "INFO:ptsemseg:Iter [23580/24000]  Loss: 0.9637  Time/Image: 0.1680  lr=0.000821\n"
          ],
          "name": "stderr"
        },
        {
          "output_type": "stream",
          "text": [
            "Iter [23580/24000]  Loss: 0.9637  Time/Image: 0.1680  lr=0.000821\n"
          ],
          "name": "stdout"
        },
        {
          "output_type": "stream",
          "text": [
            "INFO:ptsemseg:Iter [23590/24000]  Loss: 0.9710  Time/Image: 0.1694  lr=0.000821\n"
          ],
          "name": "stderr"
        },
        {
          "output_type": "stream",
          "text": [
            "Iter [23590/24000]  Loss: 0.9710  Time/Image: 0.1694  lr=0.000821\n"
          ],
          "name": "stdout"
        },
        {
          "output_type": "stream",
          "text": [
            "INFO:ptsemseg:Iter [23600/24000]  Loss: 0.9751  Time/Image: 0.1679  lr=0.000821\n"
          ],
          "name": "stderr"
        },
        {
          "output_type": "stream",
          "text": [
            "Iter [23600/24000]  Loss: 0.9751  Time/Image: 0.1679  lr=0.000821\n"
          ],
          "name": "stdout"
        },
        {
          "output_type": "stream",
          "text": [
            "INFO:ptsemseg:Iter [23610/24000]  Loss: 0.9647  Time/Image: 0.1668  lr=0.000821\n"
          ],
          "name": "stderr"
        },
        {
          "output_type": "stream",
          "text": [
            "Iter [23610/24000]  Loss: 0.9647  Time/Image: 0.1668  lr=0.000821\n"
          ],
          "name": "stdout"
        },
        {
          "output_type": "stream",
          "text": [
            "INFO:ptsemseg:Iter [23620/24000]  Loss: 0.9719  Time/Image: 0.1683  lr=0.000821\n"
          ],
          "name": "stderr"
        },
        {
          "output_type": "stream",
          "text": [
            "Iter [23620/24000]  Loss: 0.9719  Time/Image: 0.1683  lr=0.000821\n"
          ],
          "name": "stdout"
        },
        {
          "output_type": "stream",
          "text": [
            "INFO:ptsemseg:Iter [23630/24000]  Loss: 0.9695  Time/Image: 0.1668  lr=0.000821\n"
          ],
          "name": "stderr"
        },
        {
          "output_type": "stream",
          "text": [
            "Iter [23630/24000]  Loss: 0.9695  Time/Image: 0.1668  lr=0.000821\n"
          ],
          "name": "stdout"
        },
        {
          "output_type": "stream",
          "text": [
            "INFO:ptsemseg:Iter [23640/24000]  Loss: 0.9714  Time/Image: 0.1656  lr=0.000821\n"
          ],
          "name": "stderr"
        },
        {
          "output_type": "stream",
          "text": [
            "Iter [23640/24000]  Loss: 0.9714  Time/Image: 0.1656  lr=0.000821\n"
          ],
          "name": "stdout"
        },
        {
          "output_type": "stream",
          "text": [
            "INFO:ptsemseg:Iter [23650/24000]  Loss: 0.9677  Time/Image: 0.1645  lr=0.000821\n"
          ],
          "name": "stderr"
        },
        {
          "output_type": "stream",
          "text": [
            "Iter [23650/24000]  Loss: 0.9677  Time/Image: 0.1645  lr=0.000821\n"
          ],
          "name": "stdout"
        },
        {
          "output_type": "stream",
          "text": [
            "INFO:ptsemseg:Iter [23660/24000]  Loss: 0.9668  Time/Image: 0.1693  lr=0.000821\n"
          ],
          "name": "stderr"
        },
        {
          "output_type": "stream",
          "text": [
            "Iter [23660/24000]  Loss: 0.9668  Time/Image: 0.1693  lr=0.000821\n"
          ],
          "name": "stdout"
        },
        {
          "output_type": "stream",
          "text": [
            "INFO:ptsemseg:Iter [23670/24000]  Loss: 0.9715  Time/Image: 0.1648  lr=0.000821\n"
          ],
          "name": "stderr"
        },
        {
          "output_type": "stream",
          "text": [
            "Iter [23670/24000]  Loss: 0.9715  Time/Image: 0.1648  lr=0.000821\n"
          ],
          "name": "stdout"
        },
        {
          "output_type": "stream",
          "text": [
            "INFO:ptsemseg:Iter [23680/24000]  Loss: 0.9700  Time/Image: 0.1703  lr=0.000821\n"
          ],
          "name": "stderr"
        },
        {
          "output_type": "stream",
          "text": [
            "Iter [23680/24000]  Loss: 0.9700  Time/Image: 0.1703  lr=0.000821\n"
          ],
          "name": "stdout"
        },
        {
          "output_type": "stream",
          "text": [
            "INFO:ptsemseg:Iter [23690/24000]  Loss: 0.9683  Time/Image: 0.1721  lr=0.000820\n"
          ],
          "name": "stderr"
        },
        {
          "output_type": "stream",
          "text": [
            "Iter [23690/24000]  Loss: 0.9683  Time/Image: 0.1721  lr=0.000820\n"
          ],
          "name": "stdout"
        },
        {
          "output_type": "stream",
          "text": [
            "INFO:ptsemseg:Iter [23700/24000]  Loss: 0.9682  Time/Image: 0.1729  lr=0.000820\n"
          ],
          "name": "stderr"
        },
        {
          "output_type": "stream",
          "text": [
            "Iter [23700/24000]  Loss: 0.9682  Time/Image: 0.1729  lr=0.000820\n"
          ],
          "name": "stdout"
        },
        {
          "output_type": "stream",
          "text": [
            "INFO:ptsemseg:Iter [23710/24000]  Loss: 0.9696  Time/Image: 0.1649  lr=0.000820\n"
          ],
          "name": "stderr"
        },
        {
          "output_type": "stream",
          "text": [
            "Iter [23710/24000]  Loss: 0.9696  Time/Image: 0.1649  lr=0.000820\n"
          ],
          "name": "stdout"
        },
        {
          "output_type": "stream",
          "text": [
            "INFO:ptsemseg:Iter [23720/24000]  Loss: 0.9690  Time/Image: 0.1686  lr=0.000820\n"
          ],
          "name": "stderr"
        },
        {
          "output_type": "stream",
          "text": [
            "Iter [23720/24000]  Loss: 0.9690  Time/Image: 0.1686  lr=0.000820\n"
          ],
          "name": "stdout"
        },
        {
          "output_type": "stream",
          "text": [
            "INFO:ptsemseg:Iter [23730/24000]  Loss: 0.9706  Time/Image: 0.1689  lr=0.000820\n"
          ],
          "name": "stderr"
        },
        {
          "output_type": "stream",
          "text": [
            "Iter [23730/24000]  Loss: 0.9706  Time/Image: 0.1689  lr=0.000820\n"
          ],
          "name": "stdout"
        },
        {
          "output_type": "stream",
          "text": [
            "INFO:ptsemseg:Iter [23740/24000]  Loss: 0.9695  Time/Image: 0.1708  lr=0.000820\n"
          ],
          "name": "stderr"
        },
        {
          "output_type": "stream",
          "text": [
            "Iter [23740/24000]  Loss: 0.9695  Time/Image: 0.1708  lr=0.000820\n"
          ],
          "name": "stdout"
        },
        {
          "output_type": "stream",
          "text": [
            "INFO:ptsemseg:Iter [23750/24000]  Loss: 0.9722  Time/Image: 0.1709  lr=0.000820\n"
          ],
          "name": "stderr"
        },
        {
          "output_type": "stream",
          "text": [
            "Iter [23750/24000]  Loss: 0.9722  Time/Image: 0.1709  lr=0.000820\n"
          ],
          "name": "stdout"
        },
        {
          "output_type": "stream",
          "text": [
            "INFO:ptsemseg:Iter [23760/24000]  Loss: 0.9705  Time/Image: 0.1708  lr=0.000820\n"
          ],
          "name": "stderr"
        },
        {
          "output_type": "stream",
          "text": [
            "Iter [23760/24000]  Loss: 0.9705  Time/Image: 0.1708  lr=0.000820\n"
          ],
          "name": "stdout"
        },
        {
          "output_type": "stream",
          "text": [
            "INFO:ptsemseg:Iter [23770/24000]  Loss: 0.9701  Time/Image: 0.1653  lr=0.000820\n"
          ],
          "name": "stderr"
        },
        {
          "output_type": "stream",
          "text": [
            "Iter [23770/24000]  Loss: 0.9701  Time/Image: 0.1653  lr=0.000820\n"
          ],
          "name": "stdout"
        },
        {
          "output_type": "stream",
          "text": [
            "INFO:ptsemseg:Iter [23780/24000]  Loss: 0.9685  Time/Image: 0.1684  lr=0.000820\n"
          ],
          "name": "stderr"
        },
        {
          "output_type": "stream",
          "text": [
            "Iter [23780/24000]  Loss: 0.9685  Time/Image: 0.1684  lr=0.000820\n"
          ],
          "name": "stdout"
        },
        {
          "output_type": "stream",
          "text": [
            "INFO:ptsemseg:Iter [23790/24000]  Loss: 0.9676  Time/Image: 0.1710  lr=0.000820\n"
          ],
          "name": "stderr"
        },
        {
          "output_type": "stream",
          "text": [
            "Iter [23790/24000]  Loss: 0.9676  Time/Image: 0.1710  lr=0.000820\n"
          ],
          "name": "stdout"
        },
        {
          "output_type": "stream",
          "text": [
            "INFO:ptsemseg:Iter [23800/24000]  Loss: 0.9688  Time/Image: 0.1691  lr=0.000820\n"
          ],
          "name": "stderr"
        },
        {
          "output_type": "stream",
          "text": [
            "Iter [23800/24000]  Loss: 0.9688  Time/Image: 0.1691  lr=0.000820\n"
          ],
          "name": "stdout"
        },
        {
          "output_type": "stream",
          "text": [
            "INFO:ptsemseg:Iter [23810/24000]  Loss: 0.9687  Time/Image: 0.1685  lr=0.000820\n"
          ],
          "name": "stderr"
        },
        {
          "output_type": "stream",
          "text": [
            "Iter [23810/24000]  Loss: 0.9687  Time/Image: 0.1685  lr=0.000820\n"
          ],
          "name": "stdout"
        },
        {
          "output_type": "stream",
          "text": [
            "INFO:ptsemseg:Iter [23820/24000]  Loss: 0.9664  Time/Image: 0.1702  lr=0.000819\n"
          ],
          "name": "stderr"
        },
        {
          "output_type": "stream",
          "text": [
            "Iter [23820/24000]  Loss: 0.9664  Time/Image: 0.1702  lr=0.000819\n"
          ],
          "name": "stdout"
        },
        {
          "output_type": "stream",
          "text": [
            "INFO:ptsemseg:Iter [23830/24000]  Loss: 0.9660  Time/Image: 0.1631  lr=0.000819\n"
          ],
          "name": "stderr"
        },
        {
          "output_type": "stream",
          "text": [
            "Iter [23830/24000]  Loss: 0.9660  Time/Image: 0.1631  lr=0.000819\n"
          ],
          "name": "stdout"
        },
        {
          "output_type": "stream",
          "text": [
            "INFO:ptsemseg:Iter [23840/24000]  Loss: 0.9645  Time/Image: 0.1647  lr=0.000819\n"
          ],
          "name": "stderr"
        },
        {
          "output_type": "stream",
          "text": [
            "Iter [23840/24000]  Loss: 0.9645  Time/Image: 0.1647  lr=0.000819\n"
          ],
          "name": "stdout"
        },
        {
          "output_type": "stream",
          "text": [
            "INFO:ptsemseg:Iter [23850/24000]  Loss: 0.9645  Time/Image: 0.1633  lr=0.000819\n"
          ],
          "name": "stderr"
        },
        {
          "output_type": "stream",
          "text": [
            "Iter [23850/24000]  Loss: 0.9645  Time/Image: 0.1633  lr=0.000819\n"
          ],
          "name": "stdout"
        },
        {
          "output_type": "stream",
          "text": [
            "INFO:ptsemseg:Iter [23860/24000]  Loss: 0.9645  Time/Image: 0.1619  lr=0.000819\n"
          ],
          "name": "stderr"
        },
        {
          "output_type": "stream",
          "text": [
            "Iter [23860/24000]  Loss: 0.9645  Time/Image: 0.1619  lr=0.000819\n"
          ],
          "name": "stdout"
        },
        {
          "output_type": "stream",
          "text": [
            "INFO:ptsemseg:Iter [23870/24000]  Loss: 0.9670  Time/Image: 0.1669  lr=0.000819\n"
          ],
          "name": "stderr"
        },
        {
          "output_type": "stream",
          "text": [
            "Iter [23870/24000]  Loss: 0.9670  Time/Image: 0.1669  lr=0.000819\n"
          ],
          "name": "stdout"
        },
        {
          "output_type": "stream",
          "text": [
            "INFO:ptsemseg:Iter [23880/24000]  Loss: 0.9645  Time/Image: 0.1632  lr=0.000819\n"
          ],
          "name": "stderr"
        },
        {
          "output_type": "stream",
          "text": [
            "Iter [23880/24000]  Loss: 0.9645  Time/Image: 0.1632  lr=0.000819\n"
          ],
          "name": "stdout"
        },
        {
          "output_type": "stream",
          "text": [
            "INFO:ptsemseg:Iter [23890/24000]  Loss: 0.9646  Time/Image: 0.1598  lr=0.000819\n"
          ],
          "name": "stderr"
        },
        {
          "output_type": "stream",
          "text": [
            "Iter [23890/24000]  Loss: 0.9646  Time/Image: 0.1598  lr=0.000819\n"
          ],
          "name": "stdout"
        },
        {
          "output_type": "stream",
          "text": [
            "INFO:ptsemseg:Iter [23900/24000]  Loss: 0.9645  Time/Image: 0.1255  lr=0.000819\n"
          ],
          "name": "stderr"
        },
        {
          "output_type": "stream",
          "text": [
            "Iter [23900/24000]  Loss: 0.9645  Time/Image: 0.1255  lr=0.000819\n"
          ],
          "name": "stdout"
        },
        {
          "output_type": "stream",
          "text": [
            "INFO:ptsemseg:Iter [23910/24000]  Loss: 0.9633  Time/Image: 0.1334  lr=0.000819\n"
          ],
          "name": "stderr"
        },
        {
          "output_type": "stream",
          "text": [
            "Iter [23910/24000]  Loss: 0.9633  Time/Image: 0.1334  lr=0.000819\n"
          ],
          "name": "stdout"
        },
        {
          "output_type": "stream",
          "text": [
            "INFO:ptsemseg:Iter [23920/24000]  Loss: 0.9621  Time/Image: 0.1687  lr=0.000819\n"
          ],
          "name": "stderr"
        },
        {
          "output_type": "stream",
          "text": [
            "Iter [23920/24000]  Loss: 0.9621  Time/Image: 0.1687  lr=0.000819\n"
          ],
          "name": "stdout"
        },
        {
          "output_type": "stream",
          "text": [
            "INFO:ptsemseg:Iter [23930/24000]  Loss: 0.9602  Time/Image: 0.1695  lr=0.000819\n"
          ],
          "name": "stderr"
        },
        {
          "output_type": "stream",
          "text": [
            "Iter [23930/24000]  Loss: 0.9602  Time/Image: 0.1695  lr=0.000819\n"
          ],
          "name": "stdout"
        },
        {
          "output_type": "stream",
          "text": [
            "INFO:ptsemseg:Iter [23940/24000]  Loss: 0.9619  Time/Image: 0.1651  lr=0.000819\n"
          ],
          "name": "stderr"
        },
        {
          "output_type": "stream",
          "text": [
            "Iter [23940/24000]  Loss: 0.9619  Time/Image: 0.1651  lr=0.000819\n"
          ],
          "name": "stdout"
        },
        {
          "output_type": "stream",
          "text": [
            "INFO:ptsemseg:Iter [23950/24000]  Loss: 0.9615  Time/Image: 0.1689  lr=0.000818\n"
          ],
          "name": "stderr"
        },
        {
          "output_type": "stream",
          "text": [
            "Iter [23950/24000]  Loss: 0.9615  Time/Image: 0.1689  lr=0.000818\n"
          ],
          "name": "stdout"
        },
        {
          "output_type": "stream",
          "text": [
            "INFO:ptsemseg:Iter [23960/24000]  Loss: 0.9624  Time/Image: 0.1686  lr=0.000818\n"
          ],
          "name": "stderr"
        },
        {
          "output_type": "stream",
          "text": [
            "Iter [23960/24000]  Loss: 0.9624  Time/Image: 0.1686  lr=0.000818\n"
          ],
          "name": "stdout"
        },
        {
          "output_type": "stream",
          "text": [
            "INFO:ptsemseg:Iter [23970/24000]  Loss: 0.9615  Time/Image: 0.1682  lr=0.000818\n"
          ],
          "name": "stderr"
        },
        {
          "output_type": "stream",
          "text": [
            "Iter [23970/24000]  Loss: 0.9615  Time/Image: 0.1682  lr=0.000818\n"
          ],
          "name": "stdout"
        },
        {
          "output_type": "stream",
          "text": [
            "INFO:ptsemseg:Iter [23980/24000]  Loss: 0.9607  Time/Image: 0.1638  lr=0.000818\n"
          ],
          "name": "stderr"
        },
        {
          "output_type": "stream",
          "text": [
            "Iter [23980/24000]  Loss: 0.9607  Time/Image: 0.1638  lr=0.000818\n"
          ],
          "name": "stdout"
        },
        {
          "output_type": "stream",
          "text": [
            "INFO:ptsemseg:Iter [23990/24000]  Loss: 0.9605  Time/Image: 0.1642  lr=0.000818\n"
          ],
          "name": "stderr"
        },
        {
          "output_type": "stream",
          "text": [
            "Iter [23990/24000]  Loss: 0.9605  Time/Image: 0.1642  lr=0.000818\n"
          ],
          "name": "stdout"
        },
        {
          "output_type": "stream",
          "text": [
            "INFO:ptsemseg:Iter [24000/24000]  Loss: 0.9600  Time/Image: 0.1654  lr=0.000818\n"
          ],
          "name": "stderr"
        },
        {
          "output_type": "stream",
          "text": [
            "Iter [24000/24000]  Loss: 0.9600  Time/Image: 0.1654  lr=0.000818\n"
          ],
          "name": "stdout"
        },
        {
          "output_type": "stream",
          "text": [
            "84it [03:20,  2.39s/it]\n",
            "INFO:ptsemseg:Iter 24000 Val Loss: 0.9968\n",
            "INFO:ptsemseg:Overall Acc: \t: 0.9290885987796044\n",
            "INFO:ptsemseg:Mean Acc : \t: 0.6613456771470932\n",
            "INFO:ptsemseg:FreqW Acc : \t: 0.8754134502975653\n",
            "INFO:ptsemseg:Mean IoU : \t: 0.5628809774448534\n",
            "INFO:ptsemseg:0: 0.96479338409809\n",
            "INFO:ptsemseg:1: 0.7391822706254285\n",
            "INFO:ptsemseg:2: 0.8746804413142809\n",
            "INFO:ptsemseg:3: 0.28554161966055486\n",
            "INFO:ptsemseg:4: 0.43992511319558636\n",
            "INFO:ptsemseg:5: 0.4477680538540516\n",
            "INFO:ptsemseg:6: 0.44531852713440156\n",
            "INFO:ptsemseg:7: 0.5868226183116098\n",
            "INFO:ptsemseg:8: 0.8858165134678683\n",
            "INFO:ptsemseg:9: 0.5012465860918411\n",
            "INFO:ptsemseg:10: 0.9175465161960255\n",
            "INFO:ptsemseg:11: 0.6618482415769881\n",
            "INFO:ptsemseg:12: 0.27884679876805274\n",
            "INFO:ptsemseg:13: 0.8956801023898054\n",
            "INFO:ptsemseg:14: 0.19563375955378173\n",
            "INFO:ptsemseg:15: 0.5085003798530466\n",
            "INFO:ptsemseg:16: 0.2907954128662374\n",
            "INFO:ptsemseg:17: 0.15337719134302696\n",
            "INFO:ptsemseg:18: 0.6214150411515355\n"
          ],
          "name": "stderr"
        },
        {
          "output_type": "stream",
          "text": [
            "Overall Acc: \t 0.9290885987796044\n",
            "Mean Acc : \t 0.6613456771470932\n",
            "FreqW Acc : \t 0.8754134502975653\n",
            "Mean IoU : \t 0.5628809774448534\n"
          ],
          "name": "stdout"
        }
      ]
    }
  ]
}