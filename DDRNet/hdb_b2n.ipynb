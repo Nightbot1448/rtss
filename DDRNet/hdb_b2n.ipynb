{
 "nbformat": 4,
 "nbformat_minor": 0,
 "metadata": {
  "colab": {
   "name": "DDRNet_with_hardnet_bottle2nek.ipynb",
   "provenance": [],
   "collapsed_sections": []
  },
  "kernelspec": {
   "name": "python3",
   "display_name": "Python 3"
  },
  "accelerator": "GPU"
 },
 "cells": [
  {
   "cell_type": "markdown",
   "metadata": {
    "id": "5TiGAhd23fYl",
    "pycharm": {
     "name": "#%% md\n"
    }
   },
   "source": [
    "# DDRNet_with_hardnet_bottle2nek\n",
    "\n",
    "\n",
    "Вместо стандартных блоков, предлагаемых в [DDRNet](https://github.com/chenjun2hao/DDRNet.pytorch/blob/1daf52a3eeb638f86fd07d2fba3a46c68bca8f15/lib/models/ddrnet_23_slim.py#L203-L342), используется [HarDBlock(4 слоя)](https://github.com/PingoLH/FCHarDNet/blob/fc4b854b5cfa01a449bcfaece6bb3c32d84d9e2b/ptsemseg/models/hardnet.py#L169-L233)\n",
    "\n",
    "Также, вместо стандартного \"бутылочного горлышка\"(Bottleneck), используется [Bottle2neck](https://github.com/Res2Net/Res2Net-ImageNet-Training/blob/d77c16ff111522c64e918900f100699acc62f706/res2net_pami/res2net.py#L20-L96) из Res2net"
   ]
  },
  {
   "cell_type": "code",
   "metadata": {
    "colab": {
     "base_uri": "https://localhost:8080/"
    },
    "id": "IrFsKEKW7429",
    "executionInfo": {
     "status": "ok",
     "timestamp": 1621951691952,
     "user_tz": -180,
     "elapsed": 7239,
     "user": {
      "displayName": "Maxim Dobrokhvalov",
      "photoUrl": "https://lh3.googleusercontent.com/a-/AOh14GivhSqWinIWPCnla4i9mS0iTldWMUfolXP7x1EL=s64",
      "userId": "05960264113093771023"
     }
    },
    "outputId": "be588d5a-8422-4b12-8db7-87571f0afc40",
    "pycharm": {
     "name": "#%%\n"
    }
   },
   "source": [
    "import sys\n",
    "sys.path.insert(0, '.')\n",
    "import os\n",
    "import logging\n",
    "import random\n",
    "import time\n",
    "import math\n",
    "import torch\n",
    "import numpy as np \n",
    "import torch.nn as nn\n",
    "import torch.nn.functional as F\n",
    "\n",
    "from torch.nn import init\n",
    "from torch.utils import data\n",
    "from datetime import datetime\n",
    "from collections import OrderedDict\n",
    "\n",
    "from torchsummary import summary\n",
    "from torch.optim.lr_scheduler import _LRScheduler\n",
    "\n",
    "import torch.distributed as dist\n",
    "\n",
    " \n",
    "!pip install tensorboardX\n",
    "from tensorboardX import SummaryWriter"
   ],
   "execution_count": null,
   "outputs": [
    {
     "output_type": "stream",
     "text": [
      "Collecting tensorboardX\n",
      "\u001B[?25l  Downloading https://files.pythonhosted.org/packages/07/84/46421bd3e0e89a92682b1a38b40efc22dafb6d8e3d947e4ceefd4a5fabc7/tensorboardX-2.2-py2.py3-none-any.whl (120kB)\n",
      "\r\u001B[K     |██▊                             | 10kB 21.0MB/s eta 0:00:01\r\u001B[K     |█████▍                          | 20kB 27.4MB/s eta 0:00:01\r\u001B[K     |████████▏                       | 30kB 22.8MB/s eta 0:00:01\r\u001B[K     |██████████▉                     | 40kB 17.7MB/s eta 0:00:01\r\u001B[K     |█████████████▋                  | 51kB 8.6MB/s eta 0:00:01\r\u001B[K     |████████████████▎               | 61kB 8.0MB/s eta 0:00:01\r\u001B[K     |███████████████████             | 71kB 8.8MB/s eta 0:00:01\r\u001B[K     |█████████████████████▊          | 81kB 9.7MB/s eta 0:00:01\r\u001B[K     |████████████████████████▌       | 92kB 10.1MB/s eta 0:00:01\r\u001B[K     |███████████████████████████▏    | 102kB 8.3MB/s eta 0:00:01\r\u001B[K     |██████████████████████████████  | 112kB 8.3MB/s eta 0:00:01\r\u001B[K     |████████████████████████████████| 122kB 8.3MB/s \n",
      "\u001B[?25hRequirement already satisfied: numpy in /usr/local/lib/python3.7/dist-packages (from tensorboardX) (1.19.5)\n",
      "Requirement already satisfied: protobuf>=3.8.0 in /usr/local/lib/python3.7/dist-packages (from tensorboardX) (3.12.4)\n",
      "Requirement already satisfied: setuptools in /usr/local/lib/python3.7/dist-packages (from protobuf>=3.8.0->tensorboardX) (56.1.0)\n",
      "Requirement already satisfied: six>=1.9 in /usr/local/lib/python3.7/dist-packages (from protobuf>=3.8.0->tensorboardX) (1.15.0)\n",
      "Installing collected packages: tensorboardX\n",
      "Successfully installed tensorboardX-2.2\n"
     ],
     "name": "stdout"
    }
   ]
  },
  {
   "cell_type": "code",
   "metadata": {
    "id": "ZvH1JPHzSxXK",
    "pycharm": {
     "name": "#%%\n"
    }
   },
   "source": [
    "os.environ['CUDA_LAUNCH_BLOCKING'] = '1'"
   ],
   "execution_count": null,
   "outputs": []
  },
  {
   "cell_type": "code",
   "metadata": {
    "id": "_yTqA_v7SK42",
    "pycharm": {
     "name": "#%%\n"
    }
   },
   "source": [
    "max_iter = 120000\n",
    "batch_size = 8 if torch.cuda.get_device_properties(0).total_memory/2**30 > 13 else 4\n",
    "n_workers = 2\n",
    "print_interval=10\n",
    "val_interval=500\n",
    "\n",
    "model_arch = 'ddrnet_slim_23'\n",
    "\n",
    "\n",
    "BatchNorm2d = nn.BatchNorm2d\n",
    "bn_mom = 0.1"
   ],
   "execution_count": null,
   "outputs": []
  },
  {
   "cell_type": "code",
   "metadata": {
    "colab": {
     "base_uri": "https://localhost:8080/"
    },
    "id": "zqqqKbfATDay",
    "executionInfo": {
     "status": "ok",
     "timestamp": 1621951692855,
     "user_tz": -180,
     "elapsed": 19,
     "user": {
      "displayName": "Maxim Dobrokhvalov",
      "photoUrl": "https://lh3.googleusercontent.com/a-/AOh14GivhSqWinIWPCnla4i9mS0iTldWMUfolXP7x1EL=s64",
      "userId": "05960264113093771023"
     }
    },
    "outputId": "1f514811-a37b-404a-ac2c-308b9dc36b7d",
    "pycharm": {
     "name": "#%%\n"
    }
   },
   "source": [
    "batch_size"
   ],
   "execution_count": null,
   "outputs": [
    {
     "output_type": "execute_result",
     "data": {
      "text/plain": [
       "8"
      ]
     },
     "metadata": {
      "tags": []
     },
     "execution_count": 4
    }
   ]
  },
  {
   "cell_type": "markdown",
   "metadata": {
    "id": "zH4jYOk27MZ-",
    "pycharm": {
     "name": "#%% md\n"
    }
   },
   "source": [
    "## Blocks"
   ]
  },
  {
   "cell_type": "code",
   "metadata": {
    "id": "IfQMxl1EysQu",
    "pycharm": {
     "name": "#%%\n"
    }
   },
   "source": [
    "def conv3x3(in_planes, out_planes, stride=1):\n",
    "    \"\"\"3x3 convolution with padding\"\"\"\n",
    "    return nn.Conv2d(in_planes, out_planes, kernel_size=3, stride=stride,\n",
    "                     padding=1, bias=False)\n"
   ],
   "execution_count": null,
   "outputs": []
  },
  {
   "cell_type": "code",
   "metadata": {
    "id": "VehqKGzJyoV9",
    "pycharm": {
     "name": "#%%\n"
    }
   },
   "source": [
    "class BasicBlock(nn.Module):\n",
    "    expansion = 1\n",
    "\n",
    "    def __init__(self, inplanes, planes, stride=1, downsample=None, no_relu=False):\n",
    "        super(BasicBlock, self).__init__()\n",
    "        self.conv1 = conv3x3(inplanes, planes, stride)\n",
    "        self.bn1 = BatchNorm2d(planes, momentum=bn_mom)\n",
    "        self.relu = nn.ReLU(inplace=True)\n",
    "        self.conv2 = conv3x3(planes, planes)\n",
    "        self.bn2 = BatchNorm2d(planes, momentum=bn_mom)\n",
    "        self.downsample = downsample\n",
    "        self.stride = stride\n",
    "        self.no_relu = no_relu\n",
    "\n",
    "    def forward(self, x):\n",
    "        residual = x\n",
    "\n",
    "        out = self.conv1(x)\n",
    "        out = self.bn1(out)\n",
    "        out = self.relu(out)\n",
    "\n",
    "        out = self.conv2(out)\n",
    "        out = self.bn2(out)\n",
    "\n",
    "        if self.downsample is not None:\n",
    "            residual = self.downsample(x)\n",
    "\n",
    "        out += residual\n",
    "\n",
    "        if self.no_relu:\n",
    "            return out\n",
    "        else:\n",
    "            return self.relu(out)"
   ],
   "execution_count": null,
   "outputs": []
  },
  {
   "cell_type": "code",
   "metadata": {
    "id": "jfcxJJfTyySQ",
    "pycharm": {
     "name": "#%%\n"
    }
   },
   "source": [
    "class Bottleneck(nn.Module):\n",
    "    expansion = 2\n",
    "\n",
    "    def __init__(self, inplanes, planes, stride=1, downsample=None, no_relu=True):\n",
    "        super(Bottleneck, self).__init__()\n",
    "        self.conv1 = nn.Conv2d(inplanes, planes, kernel_size=1, bias=False)\n",
    "        self.bn1 = BatchNorm2d(planes, momentum=bn_mom)\n",
    "        self.conv2 = nn.Conv2d(planes, planes, kernel_size=3, stride=stride,\n",
    "                               padding=1, bias=False)\n",
    "        self.bn2 = BatchNorm2d(planes, momentum=bn_mom)\n",
    "        self.conv3 = nn.Conv2d(planes, planes * self.expansion, kernel_size=1,\n",
    "                               bias=False)\n",
    "        self.bn3 = BatchNorm2d(planes * self.expansion, momentum=bn_mom)\n",
    "        self.relu = nn.ReLU(inplace=True)\n",
    "        self.downsample = downsample\n",
    "        self.stride = stride\n",
    "        self.no_relu = no_relu\n",
    "\n",
    "    def forward(self, x):\n",
    "        residual = x\n",
    "\n",
    "        out = self.conv1(x)\n",
    "        out = self.bn1(out)\n",
    "        out = self.relu(out)\n",
    "\n",
    "        out = self.conv2(out)\n",
    "        out = self.bn2(out)\n",
    "        out = self.relu(out)\n",
    "\n",
    "        out = self.conv3(out)\n",
    "        out = self.bn3(out)\n",
    "\n",
    "        if self.downsample is not None:\n",
    "            residual = self.downsample(x)\n",
    "\n",
    "        out += residual\n",
    "        if self.no_relu:\n",
    "            return out\n",
    "        else:\n",
    "            return self.relu(out)"
   ],
   "execution_count": null,
   "outputs": []
  },
  {
   "cell_type": "code",
   "metadata": {
    "id": "LKBlY4tL9Wzx",
    "pycharm": {
     "name": "#%%\n"
    }
   },
   "source": [
    "class Bottle2neck(nn.Module):\n",
    "    expansion = 2\n",
    "\n",
    "    def __init__(self, inplanes, planes, stride=1, downsample=None, baseWidth=26, scale = 4, stype='normal'):\n",
    "        \"\"\" Constructor\n",
    "        Args:\n",
    "            inplanes: input channel dimensionality\n",
    "            planes: output channel dimensionality\n",
    "            stride: conv stride. Replaces pooling layer.\n",
    "            downsample: None when stride = 1\n",
    "            baseWidth: basic width of conv3x3\n",
    "            scale: number of scale.\n",
    "            type: 'normal': normal set. 'stage': first block of a new stage.\n",
    "        \"\"\"\n",
    "        super(Bottle2neck, self).__init__()\n",
    "\n",
    "        width = int(math.floor(planes * (baseWidth/64.0)))\n",
    "        self.conv1 = nn.Conv2d(inplanes, width*scale, kernel_size=1, bias=False)\n",
    "        self.bn1 = nn.BatchNorm2d(width*scale)\n",
    "        \n",
    "        if scale == 1:\n",
    "          self.nums = 1\n",
    "        else:\n",
    "          self.nums = scale -1\n",
    "        if stype == 'stage':\n",
    "            self.pool = nn.AvgPool2d(kernel_size=3, stride = stride, padding=1)\n",
    "        convs = []\n",
    "        bns = []\n",
    "        for i in range(self.nums):\n",
    "          convs.append(nn.Conv2d(width, width, kernel_size=3, stride = stride, padding=1, bias=False))\n",
    "          bns.append(nn.BatchNorm2d(width))\n",
    "        self.convs = nn.ModuleList(convs)\n",
    "        self.bns = nn.ModuleList(bns)\n",
    "\n",
    "        self.conv3 = nn.Conv2d(width*scale, planes * self.expansion, kernel_size=1, bias=False)\n",
    "        self.bn3 = nn.BatchNorm2d(planes * self.expansion)\n",
    "\n",
    "        self.relu = nn.ReLU(inplace=True)\n",
    "        self.downsample = downsample\n",
    "        self.stype = stype\n",
    "        self.scale = scale\n",
    "        self.width  = width\n",
    "\n",
    "    def forward(self, x):\n",
    "        \n",
    "        residual = x\n",
    "\n",
    "        out = self.conv1(x)\n",
    "        out = self.bn1(out)\n",
    "        out = self.relu(out)\n",
    "\n",
    "        spx = torch.split(out, self.width, 1)\n",
    "        for i in range(self.nums):\n",
    "          if i==0 or self.stype=='stage':\n",
    "            sp = spx[i]\n",
    "          else:\n",
    "            sp = sp + spx[i]\n",
    "          sp = self.convs[i](sp)\n",
    "          sp = self.relu(self.bns[i](sp))\n",
    "          if i==0:\n",
    "            out = sp\n",
    "          else:\n",
    "            out = torch.cat((out, sp), 1)\n",
    "        if self.scale != 1 and self.stype=='normal':\n",
    "          out = torch.cat((out, spx[self.nums]),1)\n",
    "        elif self.scale != 1 and self.stype=='stage':\n",
    "          out = torch.cat((out, self.pool(spx[self.nums])),1)\n",
    "\n",
    "        out = self.conv3(out)\n",
    "        out = self.bn3(out)\n",
    "\n",
    "        if self.downsample is not None:\n",
    "            residual = self.downsample(x)\n",
    "\n",
    "        out += residual\n",
    "        out = self.relu(out)\n",
    "\n",
    "        return out"
   ],
   "execution_count": null,
   "outputs": []
  },
  {
   "cell_type": "code",
   "metadata": {
    "id": "OIqdvmi-yzg4",
    "pycharm": {
     "name": "#%%\n"
    }
   },
   "source": [
    "class DAPPM(nn.Module):\n",
    "    def __init__(self, inplanes, branch_planes, outplanes):\n",
    "        super(DAPPM, self).__init__()\n",
    "        self.scale1 = nn.Sequential(nn.AvgPool2d(kernel_size=5, stride=2, padding=2),\n",
    "                                    BatchNorm2d(inplanes, momentum=bn_mom),\n",
    "                                    nn.ReLU(inplace=True),\n",
    "                                    nn.Conv2d(inplanes, branch_planes, kernel_size=1, bias=False),\n",
    "                                    )\n",
    "        self.scale2 = nn.Sequential(nn.AvgPool2d(kernel_size=9, stride=4, padding=4),\n",
    "                                    BatchNorm2d(inplanes, momentum=bn_mom),\n",
    "                                    nn.ReLU(inplace=True),\n",
    "                                    nn.Conv2d(inplanes, branch_planes, kernel_size=1, bias=False),\n",
    "                                    )\n",
    "        self.scale3 = nn.Sequential(nn.AvgPool2d(kernel_size=17, stride=8, padding=8),\n",
    "                                    BatchNorm2d(inplanes, momentum=bn_mom),\n",
    "                                    nn.ReLU(inplace=True),\n",
    "                                    nn.Conv2d(inplanes, branch_planes, kernel_size=1, bias=False),\n",
    "                                    )\n",
    "        self.scale4 = nn.Sequential(nn.AdaptiveAvgPool2d((1, 1)),\n",
    "                                    BatchNorm2d(inplanes, momentum=bn_mom),\n",
    "                                    nn.ReLU(inplace=True),\n",
    "                                    nn.Conv2d(inplanes, branch_planes, kernel_size=1, bias=False),\n",
    "                                    )\n",
    "        self.scale0 = nn.Sequential(\n",
    "                                    BatchNorm2d(inplanes, momentum=bn_mom),\n",
    "                                    nn.ReLU(inplace=True),\n",
    "                                    nn.Conv2d(inplanes, branch_planes, kernel_size=1, bias=False),\n",
    "                                    )\n",
    "        self.process1 = nn.Sequential(\n",
    "                                    BatchNorm2d(branch_planes, momentum=bn_mom),\n",
    "                                    nn.ReLU(inplace=True),\n",
    "                                    nn.Conv2d(branch_planes, branch_planes, kernel_size=3, padding=1, bias=False),\n",
    "                                    )\n",
    "        self.process2 = nn.Sequential(\n",
    "                                    BatchNorm2d(branch_planes, momentum=bn_mom),\n",
    "                                    nn.ReLU(inplace=True),\n",
    "                                    nn.Conv2d(branch_planes, branch_planes, kernel_size=3, padding=1, bias=False),\n",
    "                                    )\n",
    "        self.process3 = nn.Sequential(\n",
    "                                    BatchNorm2d(branch_planes, momentum=bn_mom),\n",
    "                                    nn.ReLU(inplace=True),\n",
    "                                    nn.Conv2d(branch_planes, branch_planes, kernel_size=3, padding=1, bias=False),\n",
    "                                    )\n",
    "        self.process4 = nn.Sequential(\n",
    "                                    BatchNorm2d(branch_planes, momentum=bn_mom),\n",
    "                                    nn.ReLU(inplace=True),\n",
    "                                    nn.Conv2d(branch_planes, branch_planes, kernel_size=3, padding=1, bias=False),\n",
    "                                    )        \n",
    "        self.compression = nn.Sequential(\n",
    "                                    BatchNorm2d(branch_planes * 5, momentum=bn_mom),\n",
    "                                    nn.ReLU(inplace=True),\n",
    "                                    nn.Conv2d(branch_planes * 5, outplanes, kernel_size=1, bias=False),\n",
    "                                    )\n",
    "        self.shortcut = nn.Sequential(\n",
    "                                    BatchNorm2d(inplanes, momentum=bn_mom),\n",
    "                                    nn.ReLU(inplace=True),\n",
    "                                    nn.Conv2d(inplanes, outplanes, kernel_size=1, bias=False),\n",
    "                                    )\n",
    "\n",
    "    def forward(self, x):\n",
    "\n",
    "        #x = self.downsample(x)\n",
    "        width = x.shape[-1]\n",
    "        height = x.shape[-2]\n",
    "        x_list = []\n",
    "\n",
    "        x_list.append(self.scale0(x))\n",
    "        x_list.append(self.process1((F.interpolate(self.scale1(x),\n",
    "                        size=[height, width],\n",
    "                        mode='bilinear')+x_list[0])))\n",
    "        x_list.append((self.process2((F.interpolate(self.scale2(x),\n",
    "                        size=[height, width],\n",
    "                        mode='bilinear')+x_list[1]))))\n",
    "        x_list.append(self.process3((F.interpolate(self.scale3(x),\n",
    "                        size=[height, width],\n",
    "                        mode='bilinear')+x_list[2])))\n",
    "        x_list.append(self.process4((F.interpolate(self.scale4(x),\n",
    "                        size=[height, width],\n",
    "                        mode='bilinear')+x_list[3])))\n",
    "       \n",
    "        out = self.compression(torch.cat(x_list, 1)) + self.shortcut(x)\n",
    "        return out "
   ],
   "execution_count": null,
   "outputs": []
  },
  {
   "cell_type": "code",
   "metadata": {
    "id": "Vfsb_YNT38GW",
    "pycharm": {
     "name": "#%%\n"
    }
   },
   "source": [
    "class segmenthead(nn.Module):\n",
    "\n",
    "    def __init__(self, inplanes, interplanes, outplanes, scale_factor=None):\n",
    "        super(segmenthead, self).__init__()\n",
    "        self.bn1 = BatchNorm2d(inplanes, momentum=bn_mom)\n",
    "        self.conv1 = nn.Conv2d(inplanes, interplanes, kernel_size=3, padding=1, bias=False)\n",
    "        self.bn2 = BatchNorm2d(interplanes, momentum=bn_mom)\n",
    "        self.relu = nn.ReLU(inplace=True)\n",
    "        self.conv2 = nn.Conv2d(interplanes, outplanes, kernel_size=1, padding=0, bias=True)\n",
    "        self.scale_factor = scale_factor\n",
    "\n",
    "    def forward(self, x):\n",
    "        \n",
    "        x = self.conv1(self.relu(self.bn1(x)))\n",
    "        out = self.conv2(self.relu(self.bn2(x)))\n",
    "\n",
    "        if self.scale_factor is not None:\n",
    "            height = x.shape[-2] * self.scale_factor\n",
    "            width = x.shape[-1] * self.scale_factor\n",
    "            out = F.interpolate(out,\n",
    "                        size=[height, width],\n",
    "                        mode='bilinear')\n",
    "\n",
    "        return out"
   ],
   "execution_count": null,
   "outputs": []
  },
  {
   "cell_type": "code",
   "metadata": {
    "id": "EV71e9TMRzSx",
    "pycharm": {
     "name": "#%%\n"
    }
   },
   "source": [
    "class ConvLayer(nn.Sequential):\n",
    "    def __init__(self, in_channels, out_channels, kernel=3, stride=1, dropout=0.1, padding=None, dilation=1):\n",
    "        super().__init__()\n",
    "        if padding is None:\n",
    "            padding = kernel//2 + dilation - 1\n",
    "        self.add_module('conv', nn.Conv2d(in_channels, out_channels, kernel_size=kernel,\n",
    "                                          stride=stride, padding=padding, dilation=dilation, bias = False))\n",
    "        self.add_module('norm', nn.BatchNorm2d(out_channels, momentum=bn_mom))\n",
    "        self.add_module('relu', nn.ReLU(inplace=True))\n",
    "\n",
    "    def forward(self, x):\n",
    "        return super().forward(x)"
   ],
   "execution_count": null,
   "outputs": []
  },
  {
   "cell_type": "code",
   "metadata": {
    "id": "22CdY9YgEsZV",
    "pycharm": {
     "name": "#%%\n"
    }
   },
   "source": [
    "class HarDBlock(nn.Module):\n",
    "    def __init__(self, in_channels, growth_rate, grmul, n_layers, keepBase=False):\n",
    "        super().__init__()\n",
    "        self.in_channels = in_channels\n",
    "        self.growth_rate = growth_rate\n",
    "        self.grmul = grmul\n",
    "        self.links = []\n",
    "        self.out_channels = 0\n",
    "        self.keepBase = keepBase\n",
    "        self.layers = nn.ModuleList([])\n",
    "        for i in range(n_layers):\n",
    "            out_ch, in_ch, el_links = self.get_links(i+1)\n",
    "            self.links.append(el_links)\n",
    "            self.layers.append(ConvLayer(in_ch, out_ch))\n",
    "            if (i % 2 == 0) or (i == n_layers - 1):\n",
    "                self.out_channels += out_ch\n",
    "\n",
    "    def __out_ch(self, layer_id): \n",
    "        out_ch = self.growth_rate\n",
    "        for i in range(1, int(math.log2(layer_id))+1):\n",
    "            if layer_id % 2**i == 0:\n",
    "                out_ch = out_ch*self.grmul\n",
    "        return int(int(out_ch + 1) / 2) * 2\n",
    "\n",
    "    def get_links(self, layer_id):\n",
    "        in_ch = 0\n",
    "        links_ = []\n",
    "        for i in range(int(math.log2(layer_id))):\n",
    "            diff = 2**i\n",
    "            if (layer_id % diff == 0) and layer_id - diff > 0:\n",
    "                in_ch += self.__out_ch(layer_id - diff)\n",
    "                links_.append(layer_id - diff)\n",
    "        if math.log2(layer_id).is_integer():\n",
    "            in_ch += self.in_channels\n",
    "            links_.append(0)\n",
    "        return self.__out_ch(layer_id), in_ch, links_\n",
    "\n",
    "    def forward(self, x):\n",
    "        data = [x]\n",
    "        for layer in range(len(self.layers)):\n",
    "            layer_input = []\n",
    "            for link in self.links[layer]:\n",
    "                layer_input.append(data[link])\n",
    "            in_ = layer_input[0] if len(layer_input) == 1 \\\n",
    "                else torch.cat(layer_input, dim=1)\n",
    "            data.append(self.layers[layer](in_))\n",
    "        t = len(data)\n",
    "        out = []\n",
    "        for i in range(t):\n",
    "            if (i % 2 == 1) or (self.keepBase and i == 0) or (i == t-1):\n",
    "                out.append(data[i])\n",
    "        return torch.cat(out, dim=1)\n",
    "    \n",
    "    def get_out_ch(self):\n",
    "        return self.out_channels"
   ],
   "execution_count": null,
   "outputs": []
  },
  {
   "cell_type": "markdown",
   "metadata": {
    "id": "zlQ0Wj8G7RQZ",
    "pycharm": {
     "name": "#%% md\n"
    }
   },
   "source": [
    "## Model"
   ]
  },
  {
   "cell_type": "code",
   "metadata": {
    "id": "88rzHfln70PP",
    "pycharm": {
     "name": "#%%\n"
    }
   },
   "source": [
    "class DualResNet(nn.Module):\n",
    "\n",
    "    def __init__(self, num_classes=19, planes=64, spp_planes=128, head_planes=128, augment=False):\n",
    "        super(DualResNet, self).__init__()\n",
    "        growth_rate = [  10,16,18,24,32]\n",
    "        highres_planes = planes * 2\n",
    "        self.augment = augment\n",
    "\n",
    "        self.conv1 =  nn.Sequential(\n",
    "                          nn.Conv2d(3,planes,kernel_size=3, stride=2, padding=1),\n",
    "                          BatchNorm2d(planes, momentum=bn_mom),\n",
    "                          nn.ReLU(inplace=True),\n",
    "                          nn.Conv2d(planes,planes,kernel_size=3, stride=2, padding=1),\n",
    "                          BatchNorm2d(planes, momentum=bn_mom),\n",
    "                          nn.ReLU(inplace=True),\n",
    "                      )\n",
    "\n",
    "        self.relu = nn.ReLU(inplace=False)\n",
    "\n",
    "        self.layer1 = self._make_layer_hardblock(planes,     planes,     stride=1, growth_rate=growth_rate[0])\n",
    "        self.layer2 = self._make_layer_hardblock(planes,     planes * 2, stride=2, growth_rate=growth_rate[1])\n",
    "        self.layer3 = self._make_layer_hardblock(planes * 2, planes * 4, stride=2, growth_rate=growth_rate[2])\n",
    "        self.layer4 = self._make_layer_hardblock(planes * 4, planes * 8, stride=2, growth_rate=growth_rate[3])\n",
    "\n",
    "\n",
    "        self.compression3 = nn.Sequential(\n",
    "                                          nn.Conv2d(planes * 4, highres_planes, kernel_size=1, bias=False),\n",
    "                                          BatchNorm2d(highres_planes, momentum=bn_mom),\n",
    "                                          )\n",
    "\n",
    "        self.compression4 = nn.Sequential(\n",
    "                                          nn.Conv2d(planes * 8, highres_planes, kernel_size=1, bias=False),\n",
    "                                          BatchNorm2d(highres_planes, momentum=bn_mom),\n",
    "                                          )\n",
    "\n",
    "        self.down3 = nn.Sequential(\n",
    "                                   nn.Conv2d(highres_planes, planes * 4, kernel_size=3, stride=2, padding=1, bias=False),\n",
    "                                   BatchNorm2d(planes * 4, momentum=bn_mom),\n",
    "                                   )\n",
    "\n",
    "        self.down4 = nn.Sequential(\n",
    "                                   nn.Conv2d(highres_planes, planes * 4, kernel_size=3, stride=2, padding=1, bias=False),\n",
    "                                   BatchNorm2d(planes * 4, momentum=bn_mom),\n",
    "                                   nn.ReLU(inplace=True),\n",
    "                                   nn.Conv2d(planes * 4, planes * 8, kernel_size=3, stride=2, padding=1, bias=False),\n",
    "                                   BatchNorm2d(planes * 8, momentum=bn_mom),\n",
    "                                   )\n",
    "\n",
    "        self.layer3_ = self._make_layer_hardblock(planes * 2, highres_planes, stride=1, growth_rate=growth_rate[2])\n",
    "        \n",
    "        self.layer4_ = self._make_layer_hardblock(highres_planes, highres_planes, stride=1, growth_rate=growth_rate[2])\n",
    "\n",
    "        self.layer5_ = self._make_bottle2neck(highres_planes, highres_planes)\n",
    "        \n",
    "        self.layer5 =  self._make_bottle2neck(planes * 8, planes * 8, stride=2)\n",
    "        \n",
    "        self.spp = DAPPM(planes * 8 * Bottle2neck.expansion, spp_planes, planes * 4) \n",
    "        \n",
    "        if self.augment:\n",
    "            self.seghead_extra = segmenthead(highres_planes, head_planes, num_classes)            \n",
    "\n",
    "        self.final_layer = segmenthead(planes * 4, head_planes, num_classes)\n",
    "\n",
    "\n",
    "        for m in self.modules():\n",
    "            if isinstance(m, nn.Conv2d):\n",
    "                nn.init.kaiming_normal_(m.weight, mode='fan_out', nonlinearity='relu')\n",
    "            elif isinstance(m, BatchNorm2d):\n",
    "                nn.init.constant_(m.weight, 1)\n",
    "                nn.init.constant_(m.bias, 0)\n",
    "\n",
    "\n",
    "    def _make_layer_hardblock(self, inplanes, planes, stride=1, growth_rate=10, grmul=1.7, n_layers=4):\n",
    "        layers = []\n",
    "        if stride != 1:\n",
    "            layers.append(ConvLayer(inplanes, planes, kernel=1, stride=stride))\n",
    "        hardblock_inplanes = planes if stride != 1 else inplanes\n",
    "        hardblock = HarDBlock(hardblock_inplanes, growth_rate, grmul, n_layers)\n",
    "        layers.append(hardblock)\n",
    "\n",
    "        layers.append(ConvLayer(hardblock.get_out_ch(), planes, kernel=1, stride=1))\n",
    "    \n",
    "        return nn.Sequential(*layers)\n",
    "\n",
    "    def _make_layer(self, block, inplanes, planes, blocks, stride=1):\n",
    "        downsample = None\n",
    "        if stride != 1 or inplanes != planes * block.expansion:\n",
    "            downsample = nn.Sequential(\n",
    "                nn.Conv2d(inplanes, planes * block.expansion,\n",
    "                          kernel_size=1, stride=stride, bias=False),\n",
    "                nn.BatchNorm2d(planes * block.expansion, momentum=bn_mom),\n",
    "            )\n",
    "\n",
    "        layers = []\n",
    "        layers.append(block(inplanes, planes, stride, downsample))\n",
    "        inplanes = planes * block.expansion\n",
    "        for i in range(1, blocks):\n",
    "            if i == (blocks-1):\n",
    "                layers.append(block(inplanes, planes, stride=1, no_relu=True))\n",
    "            else:\n",
    "                layers.append(block(inplanes, planes, stride=1, no_relu=False))\n",
    "\n",
    "        return nn.Sequential(*layers)\n",
    "\n",
    "    def _make_bottle2neck(self, inplanes, planes, stride=1):\n",
    "        '''\n",
    "            outplanes = planes * 4\n",
    "        '''\n",
    "\n",
    "        downsample = None\n",
    "        if stride != 1 or inplanes != planes * Bottle2neck.expansion:\n",
    "            downsample = nn.Sequential(\n",
    "                nn.Conv2d(inplanes, planes * Bottle2neck.expansion,\n",
    "                          kernel_size=1, stride=stride, bias=False),\n",
    "                nn.BatchNorm2d(planes * Bottle2neck.expansion, momentum=bn_mom),\n",
    "            )\n",
    "        stype = 'stage' if stride != 1 else 'normal'\n",
    "        \n",
    "        return Bottle2neck(inplanes, planes, stride, downsample, stype=stype)\n",
    "\n",
    "\n",
    "    def forward(self, x):\n",
    "\n",
    "        width_output = x.shape[-1] // 8\n",
    "        height_output = x.shape[-2] // 8\n",
    "        layers = []\n",
    "\n",
    "        x = self.conv1(x)\n",
    "\n",
    "        x = self.layer1(x)\n",
    "        layers.append(x)\n",
    "\n",
    "        x = self.layer2(self.relu(x))\n",
    "        layers.append(x)\n",
    "  \n",
    "        x = self.layer3(self.relu(x))\n",
    "        layers.append(x)\n",
    "        x_ = self.layer3_(self.relu(layers[1]))\n",
    "\n",
    "        x = x + self.down3(self.relu(x_))\n",
    "        x_ = x_ + F.interpolate(\n",
    "                        self.compression3(self.relu(layers[2])),\n",
    "                        size=[height_output, width_output],\n",
    "                        mode='bilinear')\n",
    "        if self.augment:\n",
    "            temp = x_\n",
    "\n",
    "        x = self.layer4(self.relu(x))\n",
    "        layers.append(x)\n",
    "        x_ = self.layer4_(self.relu(x_))\n",
    "\n",
    "        x = x + self.down4(self.relu(x_))\n",
    "        x_ = x_ + F.interpolate(\n",
    "                        self.compression4(self.relu(layers[3])),\n",
    "                        size=[height_output, width_output],\n",
    "                        mode='bilinear')\n",
    "\n",
    "        x_ = self.layer5_(self.relu(x_))\n",
    "        x = self.layer5(self.relu(x))\n",
    "        \n",
    "        x = F.interpolate(\n",
    "                        self.spp(x),\n",
    "                        size=[height_output, width_output],\n",
    "                        mode='bilinear')\n",
    "\n",
    "        x_ = self.final_layer(x + x_)\n",
    "\n",
    "        if self.augment: \n",
    "            x_extra = self.seghead_extra(temp)\n",
    "            return [x_, x_extra]\n",
    "        else:\n",
    "            return x_ \n",
    "\n",
    "def DualResNet_imagenet(augument=False):\n",
    "    model = DualResNet(num_classes=19, planes=64, spp_planes=128, head_planes=128, augment=augument)\n",
    "    return model\n",
    "\n",
    "def get_seg_model(augument=False):\n",
    "    model = DualResNet_imagenet(augument=augument)\n",
    "    return model"
   ],
   "execution_count": null,
   "outputs": []
  },
  {
   "cell_type": "markdown",
   "metadata": {
    "id": "mJLH5jK37Yh4",
    "pycharm": {
     "name": "#%% md\n"
    }
   },
   "source": [
    "## Preparation steps"
   ]
  },
  {
   "cell_type": "code",
   "metadata": {
    "id": "SHL8y8KDm-4i",
    "pycharm": {
     "name": "#%%\n"
    }
   },
   "source": [
    "class OhemCrossEntropy(nn.Module):\n",
    "    def __init__(self, ignore_label=-1, thres=0.7,\n",
    "                 min_kept=100000, weight=None):\n",
    "        super(OhemCrossEntropy, self).__init__()\n",
    "        self.thresh = thres\n",
    "        self.min_kept = max(1, min_kept)\n",
    "        self.ignore_label = ignore_label\n",
    "        self.criterion = nn.CrossEntropyLoss(\n",
    "            weight=weight,\n",
    "            ignore_index=ignore_label,\n",
    "            reduction='none'\n",
    "        )\n",
    "\n",
    "    def _ce_forward(self, score, target):\n",
    "        ph, pw = score.size(2), score.size(3)\n",
    "        h, w = target.size(1), target.size(2)\n",
    "        if ph != h or pw != w:\n",
    "            score = F.interpolate(input=score, size=(\n",
    "                h, w), mode='bilinear', align_corners=false)\n",
    "\n",
    "        loss = self.criterion(score, target)\n",
    "\n",
    "        return loss\n",
    "\n",
    "    def _ohem_forward(self, score, target, **kwargs):\n",
    "        ph, pw = score.size(2), score.size(3)\n",
    "        h, w = target.size(1), target.size(2)\n",
    "        if ph != h or pw != w:\n",
    "            score = F.interpolate(input=score, size=(\n",
    "                h, w), mode='bilinear', align_corners=false)\n",
    "        pred = F.softmax(score, dim=1)\n",
    "        pixel_losses = self.criterion(score, target).contiguous().view(-1)\n",
    "        mask = target.contiguous().view(-1) != self.ignore_label\n",
    "\n",
    "        tmp_target = target.clone()\n",
    "        tmp_target[tmp_target == self.ignore_label] = 0\n",
    "        pred = pred.gather(1, tmp_target.unsqueeze(1))\n",
    "        pred, ind = pred.contiguous().view(-1,)[mask].contiguous().sort()\n",
    "        min_value = pred[min(self.min_kept, pred.numel() - 1)]\n",
    "        threshold = max(min_value, self.thresh)\n",
    "\n",
    "        pixel_losses = pixel_losses[mask][ind]\n",
    "        pixel_losses = pixel_losses[pred < threshold]\n",
    "        return pixel_losses.mean()\n",
    "\n",
    "    def forward(self, score, target):\n",
    "\n",
    "        # if config.MODEL.NUM_OUTPUTS == 1:\n",
    "        #     score = [score]\n",
    "\n",
    "        weights = [1, 0.4]\n",
    "        assert len(weights) == len(score)\n",
    "\n",
    "        functions = [self._ce_forward] * \\\n",
    "            (len(weights) - 1) + [self._ohem_forward]\n",
    "        return sum([\n",
    "            w * func(x, target)\n",
    "            for (w, x, func) in zip(weights, score, functions)\n",
    "        ])"
   ],
   "execution_count": null,
   "outputs": []
  },
  {
   "cell_type": "code",
   "metadata": {
    "id": "hw0qoVlyIGN-",
    "pycharm": {
     "name": "#%%\n"
    }
   },
   "source": [
    "class PolynomialLR(_LRScheduler):\n",
    "    def __init__(self, optimizer, max_iter, decay_iter=1, gamma=0.9, last_epoch=-1):\n",
    "        self.decay_iter = decay_iter\n",
    "        self.max_iter = max_iter\n",
    "        self.gamma = gamma\n",
    "        super(PolynomialLR, self).__init__(optimizer, last_epoch)\n",
    "\n",
    "    def get_lr(self):\n",
    "        factor = (1 - self.last_epoch / float(self.max_iter)) ** self.gamma\n",
    "        return [base_lr * factor for base_lr in self.base_lrs]"
   ],
   "execution_count": null,
   "outputs": []
  },
  {
   "cell_type": "code",
   "metadata": {
    "id": "q_MVKWyjNwFH",
    "pycharm": {
     "name": "#%%\n"
    }
   },
   "source": [
    "start_iter = 0\n",
    "best_iou = -100.0\n",
    "i = start_iter\n",
    "flag = True\n",
    "loss_all = 0\n",
    "loss_n = 0"
   ],
   "execution_count": null,
   "outputs": []
  },
  {
   "cell_type": "code",
   "metadata": {
    "id": "2GqMaMb8PBiV",
    "pycharm": {
     "name": "#%%\n"
    }
   },
   "source": [
    "def get_logger(logdir):\n",
    "    logger = logging.getLogger(\"DR_test\")\n",
    "    ts = str(datetime.now()).split(\".\")[0].replace(\" \", \"_\")\n",
    "    ts = ts.replace(\":\", \"_\").replace(\"-\", \"_\")\n",
    "    file_path = os.path.join(logdir, \"run_{}.log\".format(ts))\n",
    "    hdlr = logging.FileHandler(file_path)\n",
    "    formatter = logging.Formatter(\"%(asctime)s %(levelname)s %(message)s\")\n",
    "    hdlr.setFormatter(formatter)\n",
    "    logger.addHandler(hdlr)\n",
    "    logger.setLevel(logging.INFO)\n",
    "    return logger"
   ],
   "execution_count": null,
   "outputs": []
  },
  {
   "cell_type": "code",
   "metadata": {
    "colab": {
     "base_uri": "https://localhost:8080/"
    },
    "id": "OCjt4GHxQV-S",
    "executionInfo": {
     "status": "ok",
     "timestamp": 1621951693993,
     "user_tz": -180,
     "elapsed": 1148,
     "user": {
      "displayName": "Maxim Dobrokhvalov",
      "photoUrl": "https://lh3.googleusercontent.com/a-/AOh14GivhSqWinIWPCnla4i9mS0iTldWMUfolXP7x1EL=s64",
      "userId": "05960264113093771023"
     }
    },
    "outputId": "92c4a3e4-5091-4293-f5cc-a2c9b590648b",
    "pycharm": {
     "name": "#%%\n"
    }
   },
   "source": [
    "!git clone https://github.com/PingoLH/FCHarDNet.git\n",
    "!cp -r FCHarDNet/ptsemseg ./"
   ],
   "execution_count": null,
   "outputs": [
    {
     "output_type": "stream",
     "text": [
      "Cloning into 'FCHarDNet'...\n",
      "remote: Enumerating objects: 120, done.\u001B[K\n",
      "remote: Counting objects: 100% (3/3), done.\u001B[K\n",
      "remote: Compressing objects: 100% (3/3), done.\u001B[K\n",
      "remote: Total 120 (delta 0), reused 2 (delta 0), pack-reused 117\u001B[K\n",
      "Receiving objects: 100% (120/120), 9.09 MiB | 25.58 MiB/s, done.\n",
      "Resolving deltas: 100% (48/48), done.\n"
     ],
     "name": "stdout"
    }
   ]
  },
  {
   "cell_type": "code",
   "metadata": {
    "id": "2-4aOn4dQeLT",
    "pycharm": {
     "name": "#%%\n"
    }
   },
   "source": [
    "from ptsemseg.loader import get_loader\n",
    "from ptsemseg.metrics import runningScore, averageMeter\n",
    "from ptsemseg.augmentations import get_composed_augmentations"
   ],
   "execution_count": null,
   "outputs": []
  },
  {
   "cell_type": "code",
   "metadata": {
    "colab": {
     "base_uri": "https://localhost:8080/"
    },
    "id": "Cxw_2wZ4QfQf",
    "executionInfo": {
     "status": "ok",
     "timestamp": 1621951711999,
     "user_tz": -180,
     "elapsed": 17789,
     "user": {
      "displayName": "Maxim Dobrokhvalov",
      "photoUrl": "https://lh3.googleusercontent.com/a-/AOh14GivhSqWinIWPCnla4i9mS0iTldWMUfolXP7x1EL=s64",
      "userId": "05960264113093771023"
     }
    },
    "outputId": "3d3ee13a-f449-4973-c63a-1ea53cfc3da6",
    "pycharm": {
     "name": "#%%\n"
    }
   },
   "source": [
    "from google.colab import drive\n",
    "drive.mount('/content/drive')"
   ],
   "execution_count": null,
   "outputs": [
    {
     "output_type": "stream",
     "text": [
      "Mounted at /content/drive\n"
     ],
     "name": "stdout"
    }
   ]
  },
  {
   "cell_type": "code",
   "metadata": {
    "colab": {
     "base_uri": "https://localhost:8080/"
    },
    "id": "H8ZhtzahUoBo",
    "executionInfo": {
     "status": "ok",
     "timestamp": 1621951713793,
     "user_tz": -180,
     "elapsed": 1796,
     "user": {
      "displayName": "Maxim Dobrokhvalov",
      "photoUrl": "https://lh3.googleusercontent.com/a-/AOh14GivhSqWinIWPCnla4i9mS0iTldWMUfolXP7x1EL=s64",
      "userId": "05960264113093771023"
     }
    },
    "outputId": "1fcff9f5-d8eb-488d-9901-3df2b8cae853",
    "pycharm": {
     "name": "#%%\n"
    }
   },
   "source": [
    "base_path = \"/content/drive/MyDrive/RnD/runs/DDRNet/HarDBlock_instead_Basic_with_Bottle2neck\"\n",
    "logdir = os.path.join(base_path, str(datetime.fromtimestamp(int(time.time()))))\n",
    "writer = SummaryWriter(log_dir=logdir)\n",
    "\n",
    "print(\"RUNDIR: {}\".format(logdir))\n",
    "\n",
    "logger = get_logger(logdir)\n",
    "logger.info(\"Let the games begin\")"
   ],
   "execution_count": null,
   "outputs": [
    {
     "output_type": "stream",
     "text": [
      "RUNDIR: /content/drive/MyDrive/RnD/runs/DDRNet/HarDBlock_instead_Basic_with_Bottle2neck/2021-05-25 14:08:31\n"
     ],
     "name": "stdout"
    }
   ]
  },
  {
   "cell_type": "code",
   "metadata": {
    "colab": {
     "base_uri": "https://localhost:8080/"
    },
    "id": "nDPzLJpLP7au",
    "executionInfo": {
     "status": "ok",
     "timestamp": 1621951724190,
     "user_tz": -180,
     "elapsed": 10403,
     "user": {
      "displayName": "Maxim Dobrokhvalov",
      "photoUrl": "https://lh3.googleusercontent.com/a-/AOh14GivhSqWinIWPCnla4i9mS0iTldWMUfolXP7x1EL=s64",
      "userId": "05960264113093771023"
     }
    },
    "outputId": "e112cbd0-ba2c-42a8-f568-4b9b14d798ae",
    "pycharm": {
     "name": "#%%\n"
    }
   },
   "source": [
    "# Setup seeds\n",
    "torch.manual_seed(1337)\n",
    "torch.cuda.manual_seed(1337)\n",
    "np.random.seed(1337)\n",
    "random.seed(1337)\n",
    "\n",
    "# Setup device\n",
    "device = torch.device(\"cuda\" if torch.cuda.is_available() else \"cpu\")\n",
    "\n",
    "# Setup Augmentations\n",
    "augmentations = {'hflip': 0.5, 'rscale_crop': [1024, 1024]}\n",
    "data_aug = get_composed_augmentations(augmentations)\n",
    "\n",
    "# Setup Dataloader\n",
    "cfg_data = {\n",
    "    'dataset': 'cityscapes',\n",
    "    'train_split': 'train',\n",
    "    'val_split': 'val',\n",
    "    'img_rows': 1024,\n",
    "    'img_cols': 1024,\n",
    "    'path': '/content/drive/MyDrive/RnD/datasets/',\n",
    "    'sbd_path': '/content/drive/MyDrive/RnD/datasets/'\n",
    "}\n",
    "data_loader = get_loader(cfg_data[\"dataset\"])\n",
    "data_path = cfg_data[\"path\"]\n",
    "\n",
    "t_loader = data_loader(\n",
    "    data_path,\n",
    "    is_transform=True,\n",
    "    split=cfg_data[\"train_split\"],\n",
    "    img_size=(cfg_data[\"img_rows\"], cfg_data[\"img_cols\"]),\n",
    "    augmentations=data_aug,\n",
    ")\n",
    "n_classes = t_loader.n_classes\n",
    "trainloader = data.DataLoader(\n",
    "    t_loader,\n",
    "    batch_size=batch_size,\n",
    "    num_workers=n_workers,\n",
    "    shuffle=True,\n",
    ")\n",
    "\n",
    "v_loader = data_loader(\n",
    "    data_path,\n",
    "    is_transform=True,\n",
    "    split=cfg_data[\"val_split\"],\n",
    "    img_size=(1024,2048),\n",
    ")\n",
    "valloader = data.DataLoader(\n",
    "    v_loader, batch_size=batch_size, num_workers=n_workers\n",
    ")"
   ],
   "execution_count": null,
   "outputs": [
    {
     "output_type": "stream",
     "text": [
      "Found 2975 train images\n",
      "Found 500 val images\n"
     ],
     "name": "stdout"
    }
   ]
  },
  {
   "cell_type": "code",
   "metadata": {
    "id": "3X_MFlx5WL-9",
    "pycharm": {
     "name": "#%%\n"
    }
   },
   "source": [
    "val_loss_meter = averageMeter()\n",
    "time_meter = averageMeter()"
   ],
   "execution_count": null,
   "outputs": []
  },
  {
   "cell_type": "code",
   "metadata": {
    "id": "e1LGih-QS8QZ",
    "pycharm": {
     "name": "#%%\n"
    }
   },
   "source": [
    "device = torch.device(\"cuda\" if torch.cuda.is_available() else \"cpu\")"
   ],
   "execution_count": null,
   "outputs": []
  },
  {
   "cell_type": "code",
   "metadata": {
    "id": "Ra9Lbp8cNl51",
    "pycharm": {
     "name": "#%%\n"
    }
   },
   "source": [
    "model_augument = True"
   ],
   "execution_count": null,
   "outputs": []
  },
  {
   "cell_type": "code",
   "metadata": {
    "colab": {
     "base_uri": "https://localhost:8080/"
    },
    "id": "G95g0arBR1AY",
    "executionInfo": {
     "status": "ok",
     "timestamp": 1621951735310,
     "user_tz": -180,
     "elapsed": 11138,
     "user": {
      "displayName": "Maxim Dobrokhvalov",
      "photoUrl": "https://lh3.googleusercontent.com/a-/AOh14GivhSqWinIWPCnla4i9mS0iTldWMUfolXP7x1EL=s64",
      "userId": "05960264113093771023"
     }
    },
    "outputId": "7d166ca5-9799-4737-c829-3c2aca8be88e",
    "pycharm": {
     "name": "#%%\n"
    }
   },
   "source": [
    "running_metrics_val = runningScore(n_classes)\n",
    "model = get_seg_model(augument=model_augument).to(device)\n",
    "total_params = sum(p.numel() for p in model.parameters())\n",
    "print( 'Parameters:',total_params )\n",
    "def weights_init(m):\n",
    "    if isinstance(m, nn.Conv2d):\n",
    "        nn.init.xavier_normal_(m.weight)\n",
    "\n",
    "model = torch.nn.DataParallel(model, device_ids=range(torch.cuda.device_count()))\n",
    "model.apply(weights_init)\n",
    "pass"
   ],
   "execution_count": null,
   "outputs": [
    {
     "output_type": "stream",
     "text": [
      "Parameters: 8909486\n"
     ],
     "name": "stdout"
    }
   ]
  },
  {
   "cell_type": "code",
   "metadata": {
    "id": "p_p4GlrAtAaF",
    "pycharm": {
     "name": "#%%\n"
    }
   },
   "source": [
    "optimizer = torch.optim.SGD(model.parameters(), lr=0.01, momentum=0.9, weight_decay=0.0005)\n",
    "lr_scheduler = PolynomialLR(optimizer, max_iter=120000)"
   ],
   "execution_count": null,
   "outputs": []
  },
  {
   "cell_type": "code",
   "metadata": {
    "id": "JbyEaC_zwrXc",
    "pycharm": {
     "name": "#%%\n"
    }
   },
   "source": [
    "# need model augument\n",
    "loss_fn = None\n",
    "if model_augument:\n",
    "    class_weigth = torch.FloatTensor([  0.8373, 0.918, 0.866, 1.0345, \n",
    "                                        1.0166, 0.9969, 0.9754, 1.0489,\n",
    "                                        0.8786, 1.0023, 0.9539, 0.9843, \n",
    "                                        1.1116, 0.9037, 1.0865, 1.0955, \n",
    "                                        1.0865, 1.1529, 1.0507]).to(device)\n",
    "    loss_fn = OhemCrossEntropy(ignore_label=250, thres=0.9, min_kept=131072, weight=class_weigth)\n",
    "else:\n",
    "    loss_fn = nn.CrossEntropyLoss(ignore_index=250)"
   ],
   "execution_count": null,
   "outputs": []
  },
  {
   "cell_type": "code",
   "metadata": {
    "id": "DaTblLdrtlkW",
    "pycharm": {
     "name": "#%%\n"
    }
   },
   "source": [
    "output_upsample = nn.Upsample((cfg_data[\"img_rows\"], cfg_data[\"img_cols\"]))\n",
    "output_val_upsample = nn.Upsample((1024, 2048))"
   ],
   "execution_count": null,
   "outputs": []
  },
  {
   "cell_type": "code",
   "metadata": {
    "id": "qG9TP5lxV_z6",
    "pycharm": {
     "name": "#%%\n"
    }
   },
   "source": [
    "runs = sorted(os.listdir(base_path), reverse=True)\n",
    "best_path = None\n",
    "last_path = None\n",
    "for run in runs:\n",
    "    tmp_base = os.path.join(base_path, run)\n",
    "    checkpoint = os.path.join(tmp_base, 'ddrnet_slim_23_cityscapes_checkpoint.pkl')\n",
    "    best = os.path.join(tmp_base, 'ddrnet_slim_23_cityscapes_best_model.pkl')\n",
    "    if not last_path and os.path.exists(checkpoint):\n",
    "        last_path = checkpoint\n",
    "    if not best_path and os.path.exists(best):\n",
    "        best_path = best\n",
    "    if last_path and best_path:\n",
    "        break"
   ],
   "execution_count": null,
   "outputs": []
  },
  {
   "cell_type": "code",
   "metadata": {
    "id": "EQNtjSpIXXGY",
    "pycharm": {
     "name": "#%%\n"
    }
   },
   "source": [
    "loaded = torch.load(last_path)\n",
    "best_iou_arrc = torch.load(best_path)\n",
    "model_state = loaded.get('model_state')\n",
    "\n",
    "optimizer_state = loaded.get('optimizer_state')\n",
    "scheduler_state = loaded.get('lr_scheduler_state')\n",
    "start_iter = loaded.get('epoch')\n",
    "\n",
    "best_iou = best_iou_arrc.get('best_iou')\n",
    "i = start_iter\n",
    "train_iters = i + 3000 if i + 3000 < max_iter else max_iter\n",
    "flag = True\n",
    "loss_all = 0\n",
    "loss_n = 0\n",
    "\n",
    "model.load_state_dict(model_state)\n",
    "optimizer.load_state_dict(optimizer_state)\n",
    "lr_scheduler.load_state_dict(scheduler_state)"
   ],
   "execution_count": null,
   "outputs": []
  },
  {
   "cell_type": "code",
   "metadata": {
    "colab": {
     "base_uri": "https://localhost:8080/"
    },
    "id": "w-KbSRAXX888",
    "executionInfo": {
     "status": "ok",
     "timestamp": 1621951737470,
     "user_tz": -180,
     "elapsed": 14,
     "user": {
      "displayName": "Maxim Dobrokhvalov",
      "photoUrl": "https://lh3.googleusercontent.com/a-/AOh14GivhSqWinIWPCnla4i9mS0iTldWMUfolXP7x1EL=s64",
      "userId": "05960264113093771023"
     }
    },
    "outputId": "757bbeba-1a0b-40cb-f26e-b9c0d3d9e0b0",
    "pycharm": {
     "name": "#%%\n"
    }
   },
   "source": [
    "i, train_iters, best_iou"
   ],
   "execution_count": null,
   "outputs": [
    {
     "output_type": "execute_result",
     "data": {
      "text/plain": [
       "(101500, 104500, 0.674530616480655)"
      ]
     },
     "metadata": {
      "tags": []
     },
     "execution_count": 32
    }
   ]
  },
  {
   "cell_type": "markdown",
   "metadata": {
    "id": "1_2cDHgB7kOc",
    "pycharm": {
     "name": "#%% md\n"
    }
   },
   "source": [
    "## Training"
   ]
  },
  {
   "cell_type": "code",
   "metadata": {
    "id": "kaqe1PgRTOoS",
    "colab": {
     "base_uri": "https://localhost:8080/"
    },
    "executionInfo": {
     "status": "ok",
     "timestamp": 1621962783674,
     "user_tz": -180,
     "elapsed": 3306113,
     "user": {
      "displayName": "Maxim Dobrokhvalov",
      "photoUrl": "https://lh3.googleusercontent.com/a-/AOh14GivhSqWinIWPCnla4i9mS0iTldWMUfolXP7x1EL=s64",
      "userId": "05960264113093771023"
     }
    },
    "outputId": "63c77a34-1c23-4f90-c68e-444536e67f47",
    "pycharm": {
     "name": "#%%\n"
    }
   },
   "source": [
    "while i <= train_iters and flag:\n",
    "    for (images, labels, _) in trainloader:\n",
    "        i += 1\n",
    "        start_ts = time.time()\n",
    "        model.train()\n",
    "        images = images.to(device)\n",
    "        labels = labels.to(device)\n",
    "        optimizer.zero_grad()\n",
    "        outputs = model(images)\n",
    "        if model_augument:\n",
    "            for j in range(len(outputs)):\n",
    "                outputs[j] = output_upsample(outputs[j])\n",
    "        else:\n",
    "            outputs = output_upsample(outputs)\n",
    "                \n",
    "        loss = loss_fn(outputs, labels)\n",
    "        if model_augument:\n",
    "            loss = loss.mean()\n",
    "        loss.backward()\n",
    "        optimizer.step()\n",
    "        lr_scheduler.step()\n",
    "        c_lr = lr_scheduler.get_lr()\n",
    " \n",
    "        time_meter.update(time.time() - start_ts)\n",
    "        loss_all += loss.item()\n",
    "        loss_n += 1\n",
    "        \n",
    "        if (i + 1) % print_interval == 0:\n",
    "            fmt_str = \"Iter [{:d}/{:d}]  Loss: {:.4f}  Time/Image: {:.4f}    lr={:.6f}\"\n",
    "            print_str = fmt_str.format(\n",
    "                i + 1,\n",
    "                train_iters,\n",
    "                loss_all / loss_n,\n",
    "                time_meter.avg / batch_size,\n",
    "                c_lr[0],\n",
    "            )\n",
    "            \n",
    " \n",
    "            print(print_str)\n",
    "            logger.info(print_str)\n",
    "            writer.add_scalar(\"loss/train_loss\", loss.item(), i + 1)\n",
    "            time_meter.reset()\n",
    " \n",
    "        if (i + 1) % val_interval == 0 or (i + 1) == train_iters:\n",
    "            torch.cuda.empty_cache()\n",
    "            model.eval()\n",
    "            loss_all = 0\n",
    "            loss_n = 0\n",
    "            with torch.no_grad():\n",
    "                for (images_val, labels_val, _) in valloader:\n",
    "                    images_val = images_val.to(device)\n",
    "                    labels_val = labels_val.to(device)\n",
    " \n",
    "                    outputs = model(images_val)\n",
    "                    if model_augument:\n",
    "                        for j in range(len(outputs)):\n",
    "                            outputs[j] = output_val_upsample(outputs[j])\n",
    "                    else:\n",
    "                        outputs = output_val_upsample(outputs)\n",
    "                        # outputs = output_upsample(outputs)\n",
    "                    val_loss = loss_fn(outputs, labels_val)\n",
    "                    if model_augument:\n",
    "                        val_loss = val_loss.mean()\n",
    " \n",
    "                    pred = outputs[0].data.max(1)[1].cpu().numpy()\n",
    "                    gt = labels_val.data.cpu().numpy()\n",
    " \n",
    "                    running_metrics_val.update(gt, pred)\n",
    "                    val_loss_meter.update(val_loss.item())\n",
    " \n",
    "            writer.add_scalar(\"loss/val_loss\", val_loss_meter.avg, i + 1)\n",
    "            logger.info(\"Iter %d Val Loss: %.4f\" % (i + 1, val_loss_meter.avg))\n",
    " \n",
    "            score, class_iou = running_metrics_val.get_scores()\n",
    "            for k, v in score.items():\n",
    "                # print(k, v)\n",
    "                logger.info(\"{}: {}\".format(k, v))\n",
    "                writer.add_scalar(\"val_metrics/{}\".format(k), v, i + 1)\n",
    " \n",
    "            for k, v in class_iou.items():\n",
    "                logger.info(\"{}: {}\".format(k, v))\n",
    "                writer.add_scalar(\"val_metrics/cls_{}\".format(k), v, i + 1)\n",
    " \n",
    "            val_loss_meter.reset()\n",
    "            running_metrics_val.reset()\n",
    "            \n",
    "            state = {\n",
    "                    \"epoch\": i + 1,\n",
    "                    \"model_state\": model.state_dict(),\n",
    "                    \"optimizer_state\": optimizer.state_dict(),\n",
    "                    \"lr_scheduler_state\": lr_scheduler.state_dict(),\n",
    "            }\n",
    "            save_path = os.path.join(\n",
    "                writer.file_writer.get_logdir(),\n",
    "                \"{}_{}_checkpoint.pkl\".format(model_arch, cfg_data[\"dataset\"]),\n",
    "            )\n",
    "            torch.save(state, save_path)\n",
    " \n",
    "            if score[\"Mean IoU : \\t\"] >= best_iou:\n",
    "                best_iou = score[\"Mean IoU : \\t\"]\n",
    "                state = {\n",
    "                    \"epoch\": i + 1,\n",
    "                    \"model_state\": model.state_dict(),\n",
    "                    \"best_iou\": best_iou,\n",
    "                }\n",
    "                save_path = os.path.join(\n",
    "                    writer.file_writer.get_logdir(),\n",
    "                    \"{}_{}_best_model.pkl\".format(model_arch, cfg_data[\"dataset\"]),\n",
    "                )\n",
    "                torch.save(state, save_path)\n",
    "            torch.cuda.empty_cache()\n",
    " \n",
    "        if (i + 1) == train_iters:\n",
    "            flag = False\n",
    "            break"
   ],
   "execution_count": null,
   "outputs": [
    {
     "output_type": "stream",
     "text": [
      "/usr/local/lib/python3.7/dist-packages/torch/nn/functional.py:3458: UserWarning: Default upsampling behavior when mode=bilinear is changed to align_corners=False since 0.4.0. Please specify align_corners=True if the old behavior is desired. See the documentation of nn.Upsample for details.\n",
      "  \"See the documentation of nn.Upsample for details.\".format(mode)\n"
     ],
     "name": "stderr"
    },
    {
     "output_type": "stream",
     "text": [
      "Iter [101510/104500]  Loss: 0.3684  Time/Image: 0.1403    lr=0.001860\n",
      "Iter [101520/104500]  Loss: 0.3445  Time/Image: 0.1385    lr=0.001860\n",
      "Iter [101530/104500]  Loss: 0.3423  Time/Image: 0.1373    lr=0.001859\n",
      "Iter [101540/104500]  Loss: 0.3494  Time/Image: 0.1374    lr=0.001858\n",
      "Iter [101550/104500]  Loss: 0.3494  Time/Image: 0.1420    lr=0.001857\n",
      "Iter [101560/104500]  Loss: 0.3500  Time/Image: 0.1378    lr=0.001856\n",
      "Iter [101570/104500]  Loss: 0.3553  Time/Image: 0.1415    lr=0.001855\n",
      "Iter [101580/104500]  Loss: 0.3541  Time/Image: 0.1400    lr=0.001854\n",
      "Iter [101590/104500]  Loss: 0.3553  Time/Image: 0.1410    lr=0.001853\n",
      "Iter [101600/104500]  Loss: 0.3542  Time/Image: 0.1405    lr=0.001852\n",
      "Iter [101610/104500]  Loss: 0.3541  Time/Image: 0.1393    lr=0.001851\n",
      "Iter [101620/104500]  Loss: 0.3582  Time/Image: 0.1411    lr=0.001850\n",
      "Iter [101630/104500]  Loss: 0.3563  Time/Image: 0.1407    lr=0.001850\n",
      "Iter [101640/104500]  Loss: 0.3570  Time/Image: 0.1391    lr=0.001849\n",
      "Iter [101650/104500]  Loss: 0.3578  Time/Image: 0.1408    lr=0.001848\n",
      "Iter [101660/104500]  Loss: 0.3577  Time/Image: 0.1423    lr=0.001847\n",
      "Iter [101670/104500]  Loss: 0.3602  Time/Image: 0.1405    lr=0.001846\n",
      "Iter [101680/104500]  Loss: 0.3594  Time/Image: 0.1397    lr=0.001845\n",
      "Iter [101690/104500]  Loss: 0.3567  Time/Image: 0.1374    lr=0.001844\n",
      "Iter [101700/104500]  Loss: 0.3559  Time/Image: 0.1408    lr=0.001843\n",
      "Iter [101710/104500]  Loss: 0.3559  Time/Image: 0.1412    lr=0.001842\n",
      "Iter [101720/104500]  Loss: 0.3555  Time/Image: 0.1413    lr=0.001841\n",
      "Iter [101730/104500]  Loss: 0.3557  Time/Image: 0.1413    lr=0.001841\n",
      "Iter [101740/104500]  Loss: 0.3552  Time/Image: 0.1419    lr=0.001840\n",
      "Iter [101750/104500]  Loss: 0.3553  Time/Image: 0.1414    lr=0.001839\n",
      "Iter [101760/104500]  Loss: 0.3544  Time/Image: 0.1426    lr=0.001838\n",
      "Iter [101770/104500]  Loss: 0.3531  Time/Image: 0.1400    lr=0.001837\n",
      "Iter [101780/104500]  Loss: 0.3537  Time/Image: 0.1400    lr=0.001836\n",
      "Iter [101790/104500]  Loss: 0.3534  Time/Image: 0.1396    lr=0.001835\n",
      "Iter [101800/104500]  Loss: 0.3534  Time/Image: 0.1409    lr=0.001834\n",
      "Iter [101810/104500]  Loss: 0.3545  Time/Image: 0.1393    lr=0.001833\n",
      "Iter [101820/104500]  Loss: 0.3558  Time/Image: 0.1395    lr=0.001832\n",
      "Iter [101830/104500]  Loss: 0.3548  Time/Image: 0.1406    lr=0.001831\n",
      "Iter [101840/104500]  Loss: 0.3563  Time/Image: 0.1429    lr=0.001831\n",
      "Iter [101850/104500]  Loss: 0.3552  Time/Image: 0.1395    lr=0.001830\n",
      "Iter [101860/104500]  Loss: 0.3549  Time/Image: 0.1422    lr=0.001829\n",
      "Iter [101870/104500]  Loss: 0.3547  Time/Image: 0.1416    lr=0.001828\n",
      "Iter [101880/104500]  Loss: 0.3556  Time/Image: 0.1572    lr=0.001827\n",
      "Iter [101890/104500]  Loss: 0.3551  Time/Image: 0.1698    lr=0.001826\n",
      "Iter [101900/104500]  Loss: 0.3551  Time/Image: 0.1665    lr=0.001825\n",
      "Iter [101910/104500]  Loss: 0.3547  Time/Image: 0.1639    lr=0.001824\n",
      "Iter [101920/104500]  Loss: 0.3555  Time/Image: 0.1666    lr=0.001823\n",
      "Iter [101930/104500]  Loss: 0.3555  Time/Image: 0.1719    lr=0.001822\n",
      "Iter [101940/104500]  Loss: 0.3545  Time/Image: 0.1719    lr=0.001822\n",
      "Iter [101950/104500]  Loss: 0.3546  Time/Image: 0.1645    lr=0.001821\n",
      "Iter [101960/104500]  Loss: 0.3542  Time/Image: 0.1596    lr=0.001820\n",
      "Iter [101970/104500]  Loss: 0.3541  Time/Image: 0.1662    lr=0.001819\n",
      "Iter [101980/104500]  Loss: 0.3541  Time/Image: 0.1601    lr=0.001818\n",
      "Iter [101990/104500]  Loss: 0.3540  Time/Image: 0.1638    lr=0.001817\n",
      "Iter [102000/104500]  Loss: 0.3543  Time/Image: 0.1620    lr=0.001816\n"
     ],
     "name": "stdout"
    },
    {
     "output_type": "stream",
     "text": [
      "INFO:DR_test:Mean Acc : \t: 0.7767499182079473\n",
      "INFO:DR_test:FreqW Acc : \t: 0.8936804021198033\n",
      "INFO:DR_test:Mean IoU : \t: 0.6695965761914783\n",
      "INFO:DR_test:0: 0.9694074612241906\n",
      "INFO:DR_test:1: 0.7706282645494541\n",
      "INFO:DR_test:2: 0.8924764402232047\n",
      "INFO:DR_test:3: 0.4648900494799621\n",
      "INFO:DR_test:4: 0.5111853499129001\n",
      "INFO:DR_test:5: 0.5039168351919051\n",
      "INFO:DR_test:6: 0.5645487227485759\n",
      "INFO:DR_test:7: 0.6691871578952446\n",
      "INFO:DR_test:8: 0.8994873744220818\n",
      "INFO:DR_test:9: 0.5702188385695229\n",
      "INFO:DR_test:10: 0.9187457879402068\n",
      "INFO:DR_test:11: 0.7182319108226106\n",
      "INFO:DR_test:12: 0.4761553579313314\n",
      "INFO:DR_test:13: 0.9067999918458521\n",
      "INFO:DR_test:14: 0.5376100166898361\n",
      "INFO:DR_test:15: 0.6850845391882346\n",
      "INFO:DR_test:16: 0.5759082807439221\n",
      "INFO:DR_test:17: 0.42389238827421893\n",
      "INFO:DR_test:18: 0.6639601799848324\n",
      "INFO:DR_test:Iter [102010/104500]  Loss: 0.3389  Time/Image: 0.1551    lr=0.001815\n"
     ],
     "name": "stderr"
    },
    {
     "output_type": "stream",
     "text": [
      "Iter [102010/104500]  Loss: 0.3389  Time/Image: 0.1551    lr=0.001815\n"
     ],
     "name": "stdout"
    },
    {
     "output_type": "stream",
     "text": [
      "INFO:DR_test:Iter [102020/104500]  Loss: 0.3626  Time/Image: 0.1504    lr=0.001814\n"
     ],
     "name": "stderr"
    },
    {
     "output_type": "stream",
     "text": [
      "Iter [102020/104500]  Loss: 0.3626  Time/Image: 0.1504    lr=0.001814\n"
     ],
     "name": "stdout"
    },
    {
     "output_type": "stream",
     "text": [
      "INFO:DR_test:Iter [102030/104500]  Loss: 0.3653  Time/Image: 0.1499    lr=0.001813\n"
     ],
     "name": "stderr"
    },
    {
     "output_type": "stream",
     "text": [
      "Iter [102030/104500]  Loss: 0.3653  Time/Image: 0.1499    lr=0.001813\n"
     ],
     "name": "stdout"
    },
    {
     "output_type": "stream",
     "text": [
      "INFO:DR_test:Iter [102040/104500]  Loss: 0.3602  Time/Image: 0.1513    lr=0.001812\n"
     ],
     "name": "stderr"
    },
    {
     "output_type": "stream",
     "text": [
      "Iter [102040/104500]  Loss: 0.3602  Time/Image: 0.1513    lr=0.001812\n"
     ],
     "name": "stdout"
    },
    {
     "output_type": "stream",
     "text": [
      "INFO:DR_test:Iter [102050/104500]  Loss: 0.3589  Time/Image: 0.1498    lr=0.001812\n"
     ],
     "name": "stderr"
    },
    {
     "output_type": "stream",
     "text": [
      "Iter [102050/104500]  Loss: 0.3589  Time/Image: 0.1498    lr=0.001812\n"
     ],
     "name": "stdout"
    },
    {
     "output_type": "stream",
     "text": [
      "INFO:DR_test:Iter [102060/104500]  Loss: 0.3628  Time/Image: 0.1518    lr=0.001811\n"
     ],
     "name": "stderr"
    },
    {
     "output_type": "stream",
     "text": [
      "Iter [102060/104500]  Loss: 0.3628  Time/Image: 0.1518    lr=0.001811\n"
     ],
     "name": "stdout"
    },
    {
     "output_type": "stream",
     "text": [
      "INFO:DR_test:Iter [102070/104500]  Loss: 0.3607  Time/Image: 0.1521    lr=0.001810\n"
     ],
     "name": "stderr"
    },
    {
     "output_type": "stream",
     "text": [
      "Iter [102070/104500]  Loss: 0.3607  Time/Image: 0.1521    lr=0.001810\n"
     ],
     "name": "stdout"
    },
    {
     "output_type": "stream",
     "text": [
      "INFO:DR_test:Iter [102080/104500]  Loss: 0.3621  Time/Image: 0.1480    lr=0.001809\n"
     ],
     "name": "stderr"
    },
    {
     "output_type": "stream",
     "text": [
      "Iter [102080/104500]  Loss: 0.3621  Time/Image: 0.1480    lr=0.001809\n"
     ],
     "name": "stdout"
    },
    {
     "output_type": "stream",
     "text": [
      "INFO:DR_test:Iter [102090/104500]  Loss: 0.3603  Time/Image: 0.1468    lr=0.001808\n"
     ],
     "name": "stderr"
    },
    {
     "output_type": "stream",
     "text": [
      "Iter [102090/104500]  Loss: 0.3603  Time/Image: 0.1468    lr=0.001808\n"
     ],
     "name": "stdout"
    },
    {
     "output_type": "stream",
     "text": [
      "INFO:DR_test:Iter [102100/104500]  Loss: 0.3601  Time/Image: 0.1506    lr=0.001807\n"
     ],
     "name": "stderr"
    },
    {
     "output_type": "stream",
     "text": [
      "Iter [102100/104500]  Loss: 0.3601  Time/Image: 0.1506    lr=0.001807\n"
     ],
     "name": "stdout"
    },
    {
     "output_type": "stream",
     "text": [
      "INFO:DR_test:Iter [102110/104500]  Loss: 0.3589  Time/Image: 0.1468    lr=0.001806\n"
     ],
     "name": "stderr"
    },
    {
     "output_type": "stream",
     "text": [
      "Iter [102110/104500]  Loss: 0.3589  Time/Image: 0.1468    lr=0.001806\n"
     ],
     "name": "stdout"
    },
    {
     "output_type": "stream",
     "text": [
      "INFO:DR_test:Iter [102120/104500]  Loss: 0.3580  Time/Image: 0.1437    lr=0.001805\n"
     ],
     "name": "stderr"
    },
    {
     "output_type": "stream",
     "text": [
      "Iter [102120/104500]  Loss: 0.3580  Time/Image: 0.1437    lr=0.001805\n"
     ],
     "name": "stdout"
    },
    {
     "output_type": "stream",
     "text": [
      "INFO:DR_test:Iter [102130/104500]  Loss: 0.3563  Time/Image: 0.1465    lr=0.001804\n"
     ],
     "name": "stderr"
    },
    {
     "output_type": "stream",
     "text": [
      "Iter [102130/104500]  Loss: 0.3563  Time/Image: 0.1465    lr=0.001804\n"
     ],
     "name": "stdout"
    },
    {
     "output_type": "stream",
     "text": [
      "INFO:DR_test:Iter [102140/104500]  Loss: 0.3552  Time/Image: 0.1494    lr=0.001803\n"
     ],
     "name": "stderr"
    },
    {
     "output_type": "stream",
     "text": [
      "Iter [102140/104500]  Loss: 0.3552  Time/Image: 0.1494    lr=0.001803\n"
     ],
     "name": "stdout"
    },
    {
     "output_type": "stream",
     "text": [
      "INFO:DR_test:Iter [102150/104500]  Loss: 0.3562  Time/Image: 0.1408    lr=0.001802\n"
     ],
     "name": "stderr"
    },
    {
     "output_type": "stream",
     "text": [
      "Iter [102150/104500]  Loss: 0.3562  Time/Image: 0.1408    lr=0.001802\n"
     ],
     "name": "stdout"
    },
    {
     "output_type": "stream",
     "text": [
      "INFO:DR_test:Iter [102160/104500]  Loss: 0.3568  Time/Image: 0.1411    lr=0.001802\n"
     ],
     "name": "stderr"
    },
    {
     "output_type": "stream",
     "text": [
      "Iter [102160/104500]  Loss: 0.3568  Time/Image: 0.1411    lr=0.001802\n"
     ],
     "name": "stdout"
    },
    {
     "output_type": "stream",
     "text": [
      "INFO:DR_test:Iter [102170/104500]  Loss: 0.3553  Time/Image: 0.1454    lr=0.001801\n"
     ],
     "name": "stderr"
    },
    {
     "output_type": "stream",
     "text": [
      "Iter [102170/104500]  Loss: 0.3553  Time/Image: 0.1454    lr=0.001801\n"
     ],
     "name": "stdout"
    },
    {
     "output_type": "stream",
     "text": [
      "INFO:DR_test:Iter [102180/104500]  Loss: 0.3547  Time/Image: 0.1480    lr=0.001800\n"
     ],
     "name": "stderr"
    },
    {
     "output_type": "stream",
     "text": [
      "Iter [102180/104500]  Loss: 0.3547  Time/Image: 0.1480    lr=0.001800\n"
     ],
     "name": "stdout"
    },
    {
     "output_type": "stream",
     "text": [
      "INFO:DR_test:Iter [102190/104500]  Loss: 0.3548  Time/Image: 0.1416    lr=0.001799\n"
     ],
     "name": "stderr"
    },
    {
     "output_type": "stream",
     "text": [
      "Iter [102190/104500]  Loss: 0.3548  Time/Image: 0.1416    lr=0.001799\n"
     ],
     "name": "stdout"
    },
    {
     "output_type": "stream",
     "text": [
      "INFO:DR_test:Iter [102200/104500]  Loss: 0.3557  Time/Image: 0.1451    lr=0.001798\n"
     ],
     "name": "stderr"
    },
    {
     "output_type": "stream",
     "text": [
      "Iter [102200/104500]  Loss: 0.3557  Time/Image: 0.1451    lr=0.001798\n"
     ],
     "name": "stdout"
    },
    {
     "output_type": "stream",
     "text": [
      "INFO:DR_test:Iter [102210/104500]  Loss: 0.3557  Time/Image: 0.1441    lr=0.001797\n"
     ],
     "name": "stderr"
    },
    {
     "output_type": "stream",
     "text": [
      "Iter [102210/104500]  Loss: 0.3557  Time/Image: 0.1441    lr=0.001797\n"
     ],
     "name": "stdout"
    },
    {
     "output_type": "stream",
     "text": [
      "INFO:DR_test:Iter [102220/104500]  Loss: 0.3556  Time/Image: 0.1399    lr=0.001796\n"
     ],
     "name": "stderr"
    },
    {
     "output_type": "stream",
     "text": [
      "Iter [102220/104500]  Loss: 0.3556  Time/Image: 0.1399    lr=0.001796\n"
     ],
     "name": "stdout"
    },
    {
     "output_type": "stream",
     "text": [
      "INFO:DR_test:Iter [102230/104500]  Loss: 0.3552  Time/Image: 0.1401    lr=0.001795\n"
     ],
     "name": "stderr"
    },
    {
     "output_type": "stream",
     "text": [
      "Iter [102230/104500]  Loss: 0.3552  Time/Image: 0.1401    lr=0.001795\n"
     ],
     "name": "stdout"
    },
    {
     "output_type": "stream",
     "text": [
      "INFO:DR_test:Iter [102240/104500]  Loss: 0.3553  Time/Image: 0.1412    lr=0.001794\n"
     ],
     "name": "stderr"
    },
    {
     "output_type": "stream",
     "text": [
      "Iter [102240/104500]  Loss: 0.3553  Time/Image: 0.1412    lr=0.001794\n"
     ],
     "name": "stdout"
    },
    {
     "output_type": "stream",
     "text": [
      "INFO:DR_test:Iter [102250/104500]  Loss: 0.3552  Time/Image: 0.1541    lr=0.001793\n"
     ],
     "name": "stderr"
    },
    {
     "output_type": "stream",
     "text": [
      "Iter [102250/104500]  Loss: 0.3552  Time/Image: 0.1541    lr=0.001793\n"
     ],
     "name": "stdout"
    },
    {
     "output_type": "stream",
     "text": [
      "INFO:DR_test:Iter [102260/104500]  Loss: 0.3554  Time/Image: 0.1566    lr=0.001792\n"
     ],
     "name": "stderr"
    },
    {
     "output_type": "stream",
     "text": [
      "Iter [102260/104500]  Loss: 0.3554  Time/Image: 0.1566    lr=0.001792\n"
     ],
     "name": "stdout"
    },
    {
     "output_type": "stream",
     "text": [
      "INFO:DR_test:Iter [102270/104500]  Loss: 0.3562  Time/Image: 0.1636    lr=0.001792\n"
     ],
     "name": "stderr"
    },
    {
     "output_type": "stream",
     "text": [
      "Iter [102270/104500]  Loss: 0.3562  Time/Image: 0.1636    lr=0.001792\n"
     ],
     "name": "stdout"
    },
    {
     "output_type": "stream",
     "text": [
      "INFO:DR_test:Iter [102280/104500]  Loss: 0.3556  Time/Image: 0.1651    lr=0.001791\n"
     ],
     "name": "stderr"
    },
    {
     "output_type": "stream",
     "text": [
      "Iter [102280/104500]  Loss: 0.3556  Time/Image: 0.1651    lr=0.001791\n"
     ],
     "name": "stdout"
    },
    {
     "output_type": "stream",
     "text": [
      "INFO:DR_test:Iter [102290/104500]  Loss: 0.3549  Time/Image: 0.1645    lr=0.001790\n"
     ],
     "name": "stderr"
    },
    {
     "output_type": "stream",
     "text": [
      "Iter [102290/104500]  Loss: 0.3549  Time/Image: 0.1645    lr=0.001790\n"
     ],
     "name": "stdout"
    },
    {
     "output_type": "stream",
     "text": [
      "INFO:DR_test:Iter [102300/104500]  Loss: 0.3547  Time/Image: 0.1575    lr=0.001789\n"
     ],
     "name": "stderr"
    },
    {
     "output_type": "stream",
     "text": [
      "Iter [102300/104500]  Loss: 0.3547  Time/Image: 0.1575    lr=0.001789\n"
     ],
     "name": "stdout"
    },
    {
     "output_type": "stream",
     "text": [
      "INFO:DR_test:Iter [102310/104500]  Loss: 0.3562  Time/Image: 0.1508    lr=0.001788\n"
     ],
     "name": "stderr"
    },
    {
     "output_type": "stream",
     "text": [
      "Iter [102310/104500]  Loss: 0.3562  Time/Image: 0.1508    lr=0.001788\n"
     ],
     "name": "stdout"
    },
    {
     "output_type": "stream",
     "text": [
      "INFO:DR_test:Iter [102320/104500]  Loss: 0.3555  Time/Image: 0.1562    lr=0.001787\n"
     ],
     "name": "stderr"
    },
    {
     "output_type": "stream",
     "text": [
      "Iter [102320/104500]  Loss: 0.3555  Time/Image: 0.1562    lr=0.001787\n"
     ],
     "name": "stdout"
    },
    {
     "output_type": "stream",
     "text": [
      "INFO:DR_test:Iter [102330/104500]  Loss: 0.3558  Time/Image: 0.1529    lr=0.001786\n"
     ],
     "name": "stderr"
    },
    {
     "output_type": "stream",
     "text": [
      "Iter [102330/104500]  Loss: 0.3558  Time/Image: 0.1529    lr=0.001786\n"
     ],
     "name": "stdout"
    },
    {
     "output_type": "stream",
     "text": [
      "INFO:DR_test:Iter [102340/104500]  Loss: 0.3560  Time/Image: 0.1642    lr=0.001785\n"
     ],
     "name": "stderr"
    },
    {
     "output_type": "stream",
     "text": [
      "Iter [102340/104500]  Loss: 0.3560  Time/Image: 0.1642    lr=0.001785\n"
     ],
     "name": "stdout"
    },
    {
     "output_type": "stream",
     "text": [
      "INFO:DR_test:Iter [102350/104500]  Loss: 0.3560  Time/Image: 0.1526    lr=0.001784\n"
     ],
     "name": "stderr"
    },
    {
     "output_type": "stream",
     "text": [
      "Iter [102350/104500]  Loss: 0.3560  Time/Image: 0.1526    lr=0.001784\n"
     ],
     "name": "stdout"
    },
    {
     "output_type": "stream",
     "text": [
      "INFO:DR_test:Iter [102360/104500]  Loss: 0.3555  Time/Image: 0.1710    lr=0.001783\n"
     ],
     "name": "stderr"
    },
    {
     "output_type": "stream",
     "text": [
      "Iter [102360/104500]  Loss: 0.3555  Time/Image: 0.1710    lr=0.001783\n"
     ],
     "name": "stdout"
    },
    {
     "output_type": "stream",
     "text": [
      "INFO:DR_test:Iter [102370/104500]  Loss: 0.3558  Time/Image: 0.1576    lr=0.001782\n"
     ],
     "name": "stderr"
    },
    {
     "output_type": "stream",
     "text": [
      "Iter [102370/104500]  Loss: 0.3558  Time/Image: 0.1576    lr=0.001782\n"
     ],
     "name": "stdout"
    },
    {
     "output_type": "stream",
     "text": [
      "INFO:DR_test:Iter [102380/104500]  Loss: 0.3556  Time/Image: 0.1528    lr=0.001782\n"
     ],
     "name": "stderr"
    },
    {
     "output_type": "stream",
     "text": [
      "Iter [102380/104500]  Loss: 0.3556  Time/Image: 0.1528    lr=0.001782\n"
     ],
     "name": "stdout"
    },
    {
     "output_type": "stream",
     "text": [
      "INFO:DR_test:Iter [102390/104500]  Loss: 0.3557  Time/Image: 0.1568    lr=0.001781\n"
     ],
     "name": "stderr"
    },
    {
     "output_type": "stream",
     "text": [
      "Iter [102390/104500]  Loss: 0.3557  Time/Image: 0.1568    lr=0.001781\n"
     ],
     "name": "stdout"
    },
    {
     "output_type": "stream",
     "text": [
      "INFO:DR_test:Iter [102400/104500]  Loss: 0.3560  Time/Image: 0.1533    lr=0.001780\n"
     ],
     "name": "stderr"
    },
    {
     "output_type": "stream",
     "text": [
      "Iter [102400/104500]  Loss: 0.3560  Time/Image: 0.1533    lr=0.001780\n"
     ],
     "name": "stdout"
    },
    {
     "output_type": "stream",
     "text": [
      "INFO:DR_test:Iter [102410/104500]  Loss: 0.3553  Time/Image: 0.1551    lr=0.001779\n"
     ],
     "name": "stderr"
    },
    {
     "output_type": "stream",
     "text": [
      "Iter [102410/104500]  Loss: 0.3553  Time/Image: 0.1551    lr=0.001779\n"
     ],
     "name": "stdout"
    },
    {
     "output_type": "stream",
     "text": [
      "INFO:DR_test:Iter [102420/104500]  Loss: 0.3552  Time/Image: 0.1548    lr=0.001778\n"
     ],
     "name": "stderr"
    },
    {
     "output_type": "stream",
     "text": [
      "Iter [102420/104500]  Loss: 0.3552  Time/Image: 0.1548    lr=0.001778\n"
     ],
     "name": "stdout"
    },
    {
     "output_type": "stream",
     "text": [
      "INFO:DR_test:Iter [102430/104500]  Loss: 0.3549  Time/Image: 0.1615    lr=0.001777\n"
     ],
     "name": "stderr"
    },
    {
     "output_type": "stream",
     "text": [
      "Iter [102430/104500]  Loss: 0.3549  Time/Image: 0.1615    lr=0.001777\n"
     ],
     "name": "stdout"
    },
    {
     "output_type": "stream",
     "text": [
      "INFO:DR_test:Iter [102440/104500]  Loss: 0.3554  Time/Image: 0.1599    lr=0.001776\n"
     ],
     "name": "stderr"
    },
    {
     "output_type": "stream",
     "text": [
      "Iter [102440/104500]  Loss: 0.3554  Time/Image: 0.1599    lr=0.001776\n"
     ],
     "name": "stdout"
    },
    {
     "output_type": "stream",
     "text": [
      "INFO:DR_test:Iter [102450/104500]  Loss: 0.3544  Time/Image: 0.1567    lr=0.001775\n"
     ],
     "name": "stderr"
    },
    {
     "output_type": "stream",
     "text": [
      "Iter [102450/104500]  Loss: 0.3544  Time/Image: 0.1567    lr=0.001775\n"
     ],
     "name": "stdout"
    },
    {
     "output_type": "stream",
     "text": [
      "INFO:DR_test:Iter [102460/104500]  Loss: 0.3546  Time/Image: 0.1570    lr=0.001774\n"
     ],
     "name": "stderr"
    },
    {
     "output_type": "stream",
     "text": [
      "Iter [102460/104500]  Loss: 0.3546  Time/Image: 0.1570    lr=0.001774\n"
     ],
     "name": "stdout"
    },
    {
     "output_type": "stream",
     "text": [
      "INFO:DR_test:Iter [102470/104500]  Loss: 0.3548  Time/Image: 0.1523    lr=0.001773\n"
     ],
     "name": "stderr"
    },
    {
     "output_type": "stream",
     "text": [
      "Iter [102470/104500]  Loss: 0.3548  Time/Image: 0.1523    lr=0.001773\n"
     ],
     "name": "stdout"
    },
    {
     "output_type": "stream",
     "text": [
      "INFO:DR_test:Iter [102480/104500]  Loss: 0.3560  Time/Image: 0.1544    lr=0.001773\n"
     ],
     "name": "stderr"
    },
    {
     "output_type": "stream",
     "text": [
      "Iter [102480/104500]  Loss: 0.3560  Time/Image: 0.1544    lr=0.001773\n"
     ],
     "name": "stdout"
    },
    {
     "output_type": "stream",
     "text": [
      "INFO:DR_test:Iter [102490/104500]  Loss: 0.3554  Time/Image: 0.1560    lr=0.001772\n"
     ],
     "name": "stderr"
    },
    {
     "output_type": "stream",
     "text": [
      "Iter [102490/104500]  Loss: 0.3554  Time/Image: 0.1560    lr=0.001772\n"
     ],
     "name": "stdout"
    },
    {
     "output_type": "stream",
     "text": [
      "INFO:DR_test:Iter [102500/104500]  Loss: 0.3552  Time/Image: 0.1550    lr=0.001771\n"
     ],
     "name": "stderr"
    },
    {
     "output_type": "stream",
     "text": [
      "Iter [102500/104500]  Loss: 0.3552  Time/Image: 0.1550    lr=0.001771\n"
     ],
     "name": "stdout"
    },
    {
     "output_type": "stream",
     "text": [
      "INFO:DR_test:Iter 102500 Val Loss: 0.4683\n",
      "INFO:DR_test:Overall Acc: \t: 0.9397890929547005\n",
      "INFO:DR_test:Mean Acc : \t: 0.7549605102295093\n",
      "INFO:DR_test:FreqW Acc : \t: 0.8920256644762546\n",
      "INFO:DR_test:Mean IoU : \t: 0.6658949160961992\n",
      "INFO:DR_test:0: 0.9701969490166917\n",
      "INFO:DR_test:1: 0.7754012738032106\n",
      "INFO:DR_test:2: 0.8898318824489333\n",
      "INFO:DR_test:3: 0.3991080922065136\n",
      "INFO:DR_test:4: 0.42979371186367427\n",
      "INFO:DR_test:5: 0.4617634547005213\n",
      "INFO:DR_test:6: 0.5474266169918466\n",
      "INFO:DR_test:7: 0.6245856888229712\n",
      "INFO:DR_test:8: 0.8980054678063566\n",
      "INFO:DR_test:9: 0.5904252541624405\n",
      "INFO:DR_test:10: 0.9209186082614619\n",
      "INFO:DR_test:11: 0.719802043410929\n",
      "INFO:DR_test:12: 0.4806245355371099\n",
      "INFO:DR_test:13: 0.9103692534711122\n",
      "INFO:DR_test:14: 0.518996943326407\n",
      "INFO:DR_test:15: 0.7048677225191098\n",
      "INFO:DR_test:16: 0.6318881953703119\n",
      "INFO:DR_test:17: 0.5027690188463786\n",
      "INFO:DR_test:18: 0.6752286932618032\n",
      "INFO:DR_test:Iter [102510/104500]  Loss: 0.3438  Time/Image: 0.1431    lr=0.001770\n"
     ],
     "name": "stderr"
    },
    {
     "output_type": "stream",
     "text": [
      "Iter [102510/104500]  Loss: 0.3438  Time/Image: 0.1431    lr=0.001770\n"
     ],
     "name": "stdout"
    },
    {
     "output_type": "stream",
     "text": [
      "INFO:DR_test:Iter [102520/104500]  Loss: 0.3398  Time/Image: 0.1417    lr=0.001769\n"
     ],
     "name": "stderr"
    },
    {
     "output_type": "stream",
     "text": [
      "Iter [102520/104500]  Loss: 0.3398  Time/Image: 0.1417    lr=0.001769\n"
     ],
     "name": "stdout"
    },
    {
     "output_type": "stream",
     "text": [
      "INFO:DR_test:Iter [102530/104500]  Loss: 0.3711  Time/Image: 0.1395    lr=0.001768\n"
     ],
     "name": "stderr"
    },
    {
     "output_type": "stream",
     "text": [
      "Iter [102530/104500]  Loss: 0.3711  Time/Image: 0.1395    lr=0.001768\n"
     ],
     "name": "stdout"
    },
    {
     "output_type": "stream",
     "text": [
      "INFO:DR_test:Iter [102540/104500]  Loss: 0.3594  Time/Image: 0.1429    lr=0.001767\n"
     ],
     "name": "stderr"
    },
    {
     "output_type": "stream",
     "text": [
      "Iter [102540/104500]  Loss: 0.3594  Time/Image: 0.1429    lr=0.001767\n"
     ],
     "name": "stdout"
    },
    {
     "output_type": "stream",
     "text": [
      "INFO:DR_test:Iter [102550/104500]  Loss: 0.3538  Time/Image: 0.1454    lr=0.001766\n"
     ],
     "name": "stderr"
    },
    {
     "output_type": "stream",
     "text": [
      "Iter [102550/104500]  Loss: 0.3538  Time/Image: 0.1454    lr=0.001766\n"
     ],
     "name": "stdout"
    },
    {
     "output_type": "stream",
     "text": [
      "INFO:DR_test:Iter [102560/104500]  Loss: 0.3493  Time/Image: 0.1469    lr=0.001765\n"
     ],
     "name": "stderr"
    },
    {
     "output_type": "stream",
     "text": [
      "Iter [102560/104500]  Loss: 0.3493  Time/Image: 0.1469    lr=0.001765\n"
     ],
     "name": "stdout"
    },
    {
     "output_type": "stream",
     "text": [
      "INFO:DR_test:Iter [102570/104500]  Loss: 0.3499  Time/Image: 0.1455    lr=0.001764\n"
     ],
     "name": "stderr"
    },
    {
     "output_type": "stream",
     "text": [
      "Iter [102570/104500]  Loss: 0.3499  Time/Image: 0.1455    lr=0.001764\n"
     ],
     "name": "stdout"
    },
    {
     "output_type": "stream",
     "text": [
      "INFO:DR_test:Iter [102580/104500]  Loss: 0.3505  Time/Image: 0.1440    lr=0.001763\n"
     ],
     "name": "stderr"
    },
    {
     "output_type": "stream",
     "text": [
      "Iter [102580/104500]  Loss: 0.3505  Time/Image: 0.1440    lr=0.001763\n"
     ],
     "name": "stdout"
    },
    {
     "output_type": "stream",
     "text": [
      "INFO:DR_test:Iter [102590/104500]  Loss: 0.3522  Time/Image: 0.1434    lr=0.001762\n"
     ],
     "name": "stderr"
    },
    {
     "output_type": "stream",
     "text": [
      "Iter [102590/104500]  Loss: 0.3522  Time/Image: 0.1434    lr=0.001762\n"
     ],
     "name": "stdout"
    },
    {
     "output_type": "stream",
     "text": [
      "INFO:DR_test:Iter [102600/104500]  Loss: 0.3560  Time/Image: 0.1425    lr=0.001762\n"
     ],
     "name": "stderr"
    },
    {
     "output_type": "stream",
     "text": [
      "Iter [102600/104500]  Loss: 0.3560  Time/Image: 0.1425    lr=0.001762\n"
     ],
     "name": "stdout"
    },
    {
     "output_type": "stream",
     "text": [
      "INFO:DR_test:Iter [102610/104500]  Loss: 0.3552  Time/Image: 0.1441    lr=0.001761\n"
     ],
     "name": "stderr"
    },
    {
     "output_type": "stream",
     "text": [
      "Iter [102610/104500]  Loss: 0.3552  Time/Image: 0.1441    lr=0.001761\n"
     ],
     "name": "stdout"
    },
    {
     "output_type": "stream",
     "text": [
      "INFO:DR_test:Iter [102620/104500]  Loss: 0.3539  Time/Image: 0.1449    lr=0.001760\n"
     ],
     "name": "stderr"
    },
    {
     "output_type": "stream",
     "text": [
      "Iter [102620/104500]  Loss: 0.3539  Time/Image: 0.1449    lr=0.001760\n"
     ],
     "name": "stdout"
    },
    {
     "output_type": "stream",
     "text": [
      "INFO:DR_test:Iter [102630/104500]  Loss: 0.3518  Time/Image: 0.1597    lr=0.001759\n"
     ],
     "name": "stderr"
    },
    {
     "output_type": "stream",
     "text": [
      "Iter [102630/104500]  Loss: 0.3518  Time/Image: 0.1597    lr=0.001759\n"
     ],
     "name": "stdout"
    },
    {
     "output_type": "stream",
     "text": [
      "INFO:DR_test:Iter [102640/104500]  Loss: 0.3494  Time/Image: 0.1574    lr=0.001758\n"
     ],
     "name": "stderr"
    },
    {
     "output_type": "stream",
     "text": [
      "Iter [102640/104500]  Loss: 0.3494  Time/Image: 0.1574    lr=0.001758\n"
     ],
     "name": "stdout"
    },
    {
     "output_type": "stream",
     "text": [
      "INFO:DR_test:Iter [102650/104500]  Loss: 0.3487  Time/Image: 0.1478    lr=0.001757\n"
     ],
     "name": "stderr"
    },
    {
     "output_type": "stream",
     "text": [
      "Iter [102650/104500]  Loss: 0.3487  Time/Image: 0.1478    lr=0.001757\n"
     ],
     "name": "stdout"
    },
    {
     "output_type": "stream",
     "text": [
      "INFO:DR_test:Iter [102660/104500]  Loss: 0.3517  Time/Image: 0.1572    lr=0.001756\n"
     ],
     "name": "stderr"
    },
    {
     "output_type": "stream",
     "text": [
      "Iter [102660/104500]  Loss: 0.3517  Time/Image: 0.1572    lr=0.001756\n"
     ],
     "name": "stdout"
    },
    {
     "output_type": "stream",
     "text": [
      "INFO:DR_test:Iter [102670/104500]  Loss: 0.3522  Time/Image: 0.1530    lr=0.001755\n"
     ],
     "name": "stderr"
    },
    {
     "output_type": "stream",
     "text": [
      "Iter [102670/104500]  Loss: 0.3522  Time/Image: 0.1530    lr=0.001755\n"
     ],
     "name": "stdout"
    },
    {
     "output_type": "stream",
     "text": [
      "INFO:DR_test:Iter [102680/104500]  Loss: 0.3507  Time/Image: 0.1558    lr=0.001754\n"
     ],
     "name": "stderr"
    },
    {
     "output_type": "stream",
     "text": [
      "Iter [102680/104500]  Loss: 0.3507  Time/Image: 0.1558    lr=0.001754\n"
     ],
     "name": "stdout"
    },
    {
     "output_type": "stream",
     "text": [
      "INFO:DR_test:Iter [102690/104500]  Loss: 0.3511  Time/Image: 0.1510    lr=0.001753\n"
     ],
     "name": "stderr"
    },
    {
     "output_type": "stream",
     "text": [
      "Iter [102690/104500]  Loss: 0.3511  Time/Image: 0.1510    lr=0.001753\n"
     ],
     "name": "stdout"
    },
    {
     "output_type": "stream",
     "text": [
      "INFO:DR_test:Iter [102700/104500]  Loss: 0.3524  Time/Image: 0.1569    lr=0.001752\n"
     ],
     "name": "stderr"
    },
    {
     "output_type": "stream",
     "text": [
      "Iter [102700/104500]  Loss: 0.3524  Time/Image: 0.1569    lr=0.001752\n"
     ],
     "name": "stdout"
    },
    {
     "output_type": "stream",
     "text": [
      "INFO:DR_test:Iter [102710/104500]  Loss: 0.3522  Time/Image: 0.1576    lr=0.001752\n"
     ],
     "name": "stderr"
    },
    {
     "output_type": "stream",
     "text": [
      "Iter [102710/104500]  Loss: 0.3522  Time/Image: 0.1576    lr=0.001752\n"
     ],
     "name": "stdout"
    },
    {
     "output_type": "stream",
     "text": [
      "INFO:DR_test:Iter [102720/104500]  Loss: 0.3514  Time/Image: 0.1580    lr=0.001751\n"
     ],
     "name": "stderr"
    },
    {
     "output_type": "stream",
     "text": [
      "Iter [102720/104500]  Loss: 0.3514  Time/Image: 0.1580    lr=0.001751\n"
     ],
     "name": "stdout"
    },
    {
     "output_type": "stream",
     "text": [
      "INFO:DR_test:Iter [102730/104500]  Loss: 0.3519  Time/Image: 0.1532    lr=0.001750\n"
     ],
     "name": "stderr"
    },
    {
     "output_type": "stream",
     "text": [
      "Iter [102730/104500]  Loss: 0.3519  Time/Image: 0.1532    lr=0.001750\n"
     ],
     "name": "stdout"
    },
    {
     "output_type": "stream",
     "text": [
      "INFO:DR_test:Iter [102740/104500]  Loss: 0.3513  Time/Image: 0.1604    lr=0.001749\n"
     ],
     "name": "stderr"
    },
    {
     "output_type": "stream",
     "text": [
      "Iter [102740/104500]  Loss: 0.3513  Time/Image: 0.1604    lr=0.001749\n"
     ],
     "name": "stdout"
    },
    {
     "output_type": "stream",
     "text": [
      "INFO:DR_test:Iter [102750/104500]  Loss: 0.3514  Time/Image: 0.1567    lr=0.001748\n"
     ],
     "name": "stderr"
    },
    {
     "output_type": "stream",
     "text": [
      "Iter [102750/104500]  Loss: 0.3514  Time/Image: 0.1567    lr=0.001748\n"
     ],
     "name": "stdout"
    },
    {
     "output_type": "stream",
     "text": [
      "INFO:DR_test:Iter [102760/104500]  Loss: 0.3514  Time/Image: 0.1501    lr=0.001747\n"
     ],
     "name": "stderr"
    },
    {
     "output_type": "stream",
     "text": [
      "Iter [102760/104500]  Loss: 0.3514  Time/Image: 0.1501    lr=0.001747\n"
     ],
     "name": "stdout"
    },
    {
     "output_type": "stream",
     "text": [
      "INFO:DR_test:Iter [102770/104500]  Loss: 0.3508  Time/Image: 0.1484    lr=0.001746\n"
     ],
     "name": "stderr"
    },
    {
     "output_type": "stream",
     "text": [
      "Iter [102770/104500]  Loss: 0.3508  Time/Image: 0.1484    lr=0.001746\n"
     ],
     "name": "stdout"
    },
    {
     "output_type": "stream",
     "text": [
      "INFO:DR_test:Iter [102780/104500]  Loss: 0.3499  Time/Image: 0.1508    lr=0.001745\n"
     ],
     "name": "stderr"
    },
    {
     "output_type": "stream",
     "text": [
      "Iter [102780/104500]  Loss: 0.3499  Time/Image: 0.1508    lr=0.001745\n"
     ],
     "name": "stdout"
    },
    {
     "output_type": "stream",
     "text": [
      "INFO:DR_test:Iter [102790/104500]  Loss: 0.3511  Time/Image: 0.1509    lr=0.001744\n"
     ],
     "name": "stderr"
    },
    {
     "output_type": "stream",
     "text": [
      "Iter [102790/104500]  Loss: 0.3511  Time/Image: 0.1509    lr=0.001744\n"
     ],
     "name": "stdout"
    },
    {
     "output_type": "stream",
     "text": [
      "INFO:DR_test:Iter [102800/104500]  Loss: 0.3518  Time/Image: 0.1567    lr=0.001743\n"
     ],
     "name": "stderr"
    },
    {
     "output_type": "stream",
     "text": [
      "Iter [102800/104500]  Loss: 0.3518  Time/Image: 0.1567    lr=0.001743\n"
     ],
     "name": "stdout"
    },
    {
     "output_type": "stream",
     "text": [
      "INFO:DR_test:Iter [102810/104500]  Loss: 0.3511  Time/Image: 0.1535    lr=0.001742\n"
     ],
     "name": "stderr"
    },
    {
     "output_type": "stream",
     "text": [
      "Iter [102810/104500]  Loss: 0.3511  Time/Image: 0.1535    lr=0.001742\n"
     ],
     "name": "stdout"
    },
    {
     "output_type": "stream",
     "text": [
      "INFO:DR_test:Iter [102820/104500]  Loss: 0.3518  Time/Image: 0.1496    lr=0.001742\n"
     ],
     "name": "stderr"
    },
    {
     "output_type": "stream",
     "text": [
      "Iter [102820/104500]  Loss: 0.3518  Time/Image: 0.1496    lr=0.001742\n"
     ],
     "name": "stdout"
    },
    {
     "output_type": "stream",
     "text": [
      "INFO:DR_test:Iter [102830/104500]  Loss: 0.3525  Time/Image: 0.1498    lr=0.001741\n"
     ],
     "name": "stderr"
    },
    {
     "output_type": "stream",
     "text": [
      "Iter [102830/104500]  Loss: 0.3525  Time/Image: 0.1498    lr=0.001741\n"
     ],
     "name": "stdout"
    },
    {
     "output_type": "stream",
     "text": [
      "INFO:DR_test:Iter [102840/104500]  Loss: 0.3528  Time/Image: 0.1464    lr=0.001740\n"
     ],
     "name": "stderr"
    },
    {
     "output_type": "stream",
     "text": [
      "Iter [102840/104500]  Loss: 0.3528  Time/Image: 0.1464    lr=0.001740\n"
     ],
     "name": "stdout"
    },
    {
     "output_type": "stream",
     "text": [
      "INFO:DR_test:Iter [102850/104500]  Loss: 0.3535  Time/Image: 0.1481    lr=0.001739\n"
     ],
     "name": "stderr"
    },
    {
     "output_type": "stream",
     "text": [
      "Iter [102850/104500]  Loss: 0.3535  Time/Image: 0.1481    lr=0.001739\n"
     ],
     "name": "stdout"
    },
    {
     "output_type": "stream",
     "text": [
      "INFO:DR_test:Iter [102860/104500]  Loss: 0.3527  Time/Image: 0.1522    lr=0.001738\n"
     ],
     "name": "stderr"
    },
    {
     "output_type": "stream",
     "text": [
      "Iter [102860/104500]  Loss: 0.3527  Time/Image: 0.1522    lr=0.001738\n"
     ],
     "name": "stdout"
    },
    {
     "output_type": "stream",
     "text": [
      "INFO:DR_test:Iter [102870/104500]  Loss: 0.3527  Time/Image: 0.1504    lr=0.001737\n"
     ],
     "name": "stderr"
    },
    {
     "output_type": "stream",
     "text": [
      "Iter [102870/104500]  Loss: 0.3527  Time/Image: 0.1504    lr=0.001737\n"
     ],
     "name": "stdout"
    },
    {
     "output_type": "stream",
     "text": [
      "INFO:DR_test:Iter [102880/104500]  Loss: 0.3532  Time/Image: 0.1483    lr=0.001736\n"
     ],
     "name": "stderr"
    },
    {
     "output_type": "stream",
     "text": [
      "Iter [102880/104500]  Loss: 0.3532  Time/Image: 0.1483    lr=0.001736\n"
     ],
     "name": "stdout"
    },
    {
     "output_type": "stream",
     "text": [
      "INFO:DR_test:Iter [102890/104500]  Loss: 0.3533  Time/Image: 0.1465    lr=0.001735\n"
     ],
     "name": "stderr"
    },
    {
     "output_type": "stream",
     "text": [
      "Iter [102890/104500]  Loss: 0.3533  Time/Image: 0.1465    lr=0.001735\n"
     ],
     "name": "stdout"
    },
    {
     "output_type": "stream",
     "text": [
      "INFO:DR_test:Iter [102900/104500]  Loss: 0.3528  Time/Image: 0.1525    lr=0.001734\n"
     ],
     "name": "stderr"
    },
    {
     "output_type": "stream",
     "text": [
      "Iter [102900/104500]  Loss: 0.3528  Time/Image: 0.1525    lr=0.001734\n"
     ],
     "name": "stdout"
    },
    {
     "output_type": "stream",
     "text": [
      "INFO:DR_test:Iter [102910/104500]  Loss: 0.3536  Time/Image: 0.1446    lr=0.001733\n"
     ],
     "name": "stderr"
    },
    {
     "output_type": "stream",
     "text": [
      "Iter [102910/104500]  Loss: 0.3536  Time/Image: 0.1446    lr=0.001733\n"
     ],
     "name": "stdout"
    },
    {
     "output_type": "stream",
     "text": [
      "INFO:DR_test:Iter [102920/104500]  Loss: 0.3541  Time/Image: 0.1484    lr=0.001732\n"
     ],
     "name": "stderr"
    },
    {
     "output_type": "stream",
     "text": [
      "Iter [102920/104500]  Loss: 0.3541  Time/Image: 0.1484    lr=0.001732\n"
     ],
     "name": "stdout"
    },
    {
     "output_type": "stream",
     "text": [
      "INFO:DR_test:Iter [102930/104500]  Loss: 0.3537  Time/Image: 0.1494    lr=0.001732\n"
     ],
     "name": "stderr"
    },
    {
     "output_type": "stream",
     "text": [
      "Iter [102930/104500]  Loss: 0.3537  Time/Image: 0.1494    lr=0.001732\n"
     ],
     "name": "stdout"
    },
    {
     "output_type": "stream",
     "text": [
      "INFO:DR_test:Iter [102940/104500]  Loss: 0.3535  Time/Image: 0.1489    lr=0.001731\n"
     ],
     "name": "stderr"
    },
    {
     "output_type": "stream",
     "text": [
      "Iter [102940/104500]  Loss: 0.3535  Time/Image: 0.1489    lr=0.001731\n"
     ],
     "name": "stdout"
    },
    {
     "output_type": "stream",
     "text": [
      "INFO:DR_test:Iter [102950/104500]  Loss: 0.3537  Time/Image: 0.1489    lr=0.001730\n"
     ],
     "name": "stderr"
    },
    {
     "output_type": "stream",
     "text": [
      "Iter [102950/104500]  Loss: 0.3537  Time/Image: 0.1489    lr=0.001730\n"
     ],
     "name": "stdout"
    },
    {
     "output_type": "stream",
     "text": [
      "INFO:DR_test:Iter [102960/104500]  Loss: 0.3535  Time/Image: 0.1436    lr=0.001729\n"
     ],
     "name": "stderr"
    },
    {
     "output_type": "stream",
     "text": [
      "Iter [102960/104500]  Loss: 0.3535  Time/Image: 0.1436    lr=0.001729\n"
     ],
     "name": "stdout"
    },
    {
     "output_type": "stream",
     "text": [
      "INFO:DR_test:Iter [102970/104500]  Loss: 0.3534  Time/Image: 0.1473    lr=0.001728\n"
     ],
     "name": "stderr"
    },
    {
     "output_type": "stream",
     "text": [
      "Iter [102970/104500]  Loss: 0.3534  Time/Image: 0.1473    lr=0.001728\n"
     ],
     "name": "stdout"
    },
    {
     "output_type": "stream",
     "text": [
      "INFO:DR_test:Iter [102980/104500]  Loss: 0.3528  Time/Image: 0.1443    lr=0.001727\n"
     ],
     "name": "stderr"
    },
    {
     "output_type": "stream",
     "text": [
      "Iter [102980/104500]  Loss: 0.3528  Time/Image: 0.1443    lr=0.001727\n"
     ],
     "name": "stdout"
    },
    {
     "output_type": "stream",
     "text": [
      "INFO:DR_test:Iter [102990/104500]  Loss: 0.3537  Time/Image: 0.1442    lr=0.001726\n"
     ],
     "name": "stderr"
    },
    {
     "output_type": "stream",
     "text": [
      "Iter [102990/104500]  Loss: 0.3537  Time/Image: 0.1442    lr=0.001726\n"
     ],
     "name": "stdout"
    },
    {
     "output_type": "stream",
     "text": [
      "INFO:DR_test:Iter [103000/104500]  Loss: 0.3536  Time/Image: 0.1703    lr=0.001725\n"
     ],
     "name": "stderr"
    },
    {
     "output_type": "stream",
     "text": [
      "Iter [103000/104500]  Loss: 0.3536  Time/Image: 0.1703    lr=0.001725\n"
     ],
     "name": "stdout"
    },
    {
     "output_type": "stream",
     "text": [
      "INFO:DR_test:Iter 103000 Val Loss: 0.4480\n",
      "INFO:DR_test:Overall Acc: \t: 0.9407231744484489\n",
      "INFO:DR_test:Mean Acc : \t: 0.7568629917530467\n",
      "INFO:DR_test:FreqW Acc : \t: 0.8936006715355006\n",
      "INFO:DR_test:Mean IoU : \t: 0.6614843071887663\n",
      "INFO:DR_test:0: 0.9708966260212978\n",
      "INFO:DR_test:1: 0.7739049788987599\n",
      "INFO:DR_test:2: 0.8930404449546585\n",
      "INFO:DR_test:3: 0.43278732230035577\n",
      "INFO:DR_test:4: 0.49470780416982807\n",
      "INFO:DR_test:5: 0.49441023660447087\n",
      "INFO:DR_test:6: 0.5600537191974718\n",
      "INFO:DR_test:7: 0.6633491273026156\n",
      "INFO:DR_test:8: 0.9000395567390816\n",
      "INFO:DR_test:9: 0.5657749049616881\n",
      "INFO:DR_test:10: 0.9211272641409363\n",
      "INFO:DR_test:11: 0.7160642128098399\n",
      "INFO:DR_test:12: 0.4821739316756022\n",
      "INFO:DR_test:13: 0.9026722800748926\n",
      "INFO:DR_test:14: 0.557457580689344\n",
      "INFO:DR_test:15: 0.6624310737880689\n",
      "INFO:DR_test:16: 0.5016286054481479\n",
      "INFO:DR_test:17: 0.43006409902612336\n",
      "INFO:DR_test:18: 0.6456180677833723\n",
      "INFO:DR_test:Iter [103010/104500]  Loss: 0.3350  Time/Image: 0.1589    lr=0.001724\n"
     ],
     "name": "stderr"
    },
    {
     "output_type": "stream",
     "text": [
      "Iter [103010/104500]  Loss: 0.3350  Time/Image: 0.1589    lr=0.001724\n"
     ],
     "name": "stdout"
    },
    {
     "output_type": "stream",
     "text": [
      "INFO:DR_test:Iter [103020/104500]  Loss: 0.3293  Time/Image: 0.1581    lr=0.001723\n"
     ],
     "name": "stderr"
    },
    {
     "output_type": "stream",
     "text": [
      "Iter [103020/104500]  Loss: 0.3293  Time/Image: 0.1581    lr=0.001723\n"
     ],
     "name": "stdout"
    },
    {
     "output_type": "stream",
     "text": [
      "INFO:DR_test:Iter [103030/104500]  Loss: 0.3405  Time/Image: 0.1554    lr=0.001722\n"
     ],
     "name": "stderr"
    },
    {
     "output_type": "stream",
     "text": [
      "Iter [103030/104500]  Loss: 0.3405  Time/Image: 0.1554    lr=0.001722\n"
     ],
     "name": "stdout"
    },
    {
     "output_type": "stream",
     "text": [
      "INFO:DR_test:Iter [103040/104500]  Loss: 0.3411  Time/Image: 0.1651    lr=0.001722\n"
     ],
     "name": "stderr"
    },
    {
     "output_type": "stream",
     "text": [
      "Iter [103040/104500]  Loss: 0.3411  Time/Image: 0.1651    lr=0.001722\n"
     ],
     "name": "stdout"
    },
    {
     "output_type": "stream",
     "text": [
      "INFO:DR_test:Iter [103050/104500]  Loss: 0.3351  Time/Image: 0.1653    lr=0.001721\n"
     ],
     "name": "stderr"
    },
    {
     "output_type": "stream",
     "text": [
      "Iter [103050/104500]  Loss: 0.3351  Time/Image: 0.1653    lr=0.001721\n"
     ],
     "name": "stdout"
    },
    {
     "output_type": "stream",
     "text": [
      "INFO:DR_test:Iter [103060/104500]  Loss: 0.3377  Time/Image: 0.1547    lr=0.001720\n"
     ],
     "name": "stderr"
    },
    {
     "output_type": "stream",
     "text": [
      "Iter [103060/104500]  Loss: 0.3377  Time/Image: 0.1547    lr=0.001720\n"
     ],
     "name": "stdout"
    },
    {
     "output_type": "stream",
     "text": [
      "INFO:DR_test:Iter [103070/104500]  Loss: 0.3387  Time/Image: 0.1616    lr=0.001719\n"
     ],
     "name": "stderr"
    },
    {
     "output_type": "stream",
     "text": [
      "Iter [103070/104500]  Loss: 0.3387  Time/Image: 0.1616    lr=0.001719\n"
     ],
     "name": "stdout"
    },
    {
     "output_type": "stream",
     "text": [
      "INFO:DR_test:Iter [103080/104500]  Loss: 0.3449  Time/Image: 0.1528    lr=0.001718\n"
     ],
     "name": "stderr"
    },
    {
     "output_type": "stream",
     "text": [
      "Iter [103080/104500]  Loss: 0.3449  Time/Image: 0.1528    lr=0.001718\n"
     ],
     "name": "stdout"
    },
    {
     "output_type": "stream",
     "text": [
      "INFO:DR_test:Iter [103090/104500]  Loss: 0.3453  Time/Image: 0.1546    lr=0.001717\n"
     ],
     "name": "stderr"
    },
    {
     "output_type": "stream",
     "text": [
      "Iter [103090/104500]  Loss: 0.3453  Time/Image: 0.1546    lr=0.001717\n"
     ],
     "name": "stdout"
    },
    {
     "output_type": "stream",
     "text": [
      "INFO:DR_test:Iter [103100/104500]  Loss: 0.3447  Time/Image: 0.1603    lr=0.001716\n"
     ],
     "name": "stderr"
    },
    {
     "output_type": "stream",
     "text": [
      "Iter [103100/104500]  Loss: 0.3447  Time/Image: 0.1603    lr=0.001716\n"
     ],
     "name": "stdout"
    },
    {
     "output_type": "stream",
     "text": [
      "INFO:DR_test:Iter [103110/104500]  Loss: 0.3443  Time/Image: 0.1586    lr=0.001715\n"
     ],
     "name": "stderr"
    },
    {
     "output_type": "stream",
     "text": [
      "Iter [103110/104500]  Loss: 0.3443  Time/Image: 0.1586    lr=0.001715\n"
     ],
     "name": "stdout"
    },
    {
     "output_type": "stream",
     "text": [
      "INFO:DR_test:Iter [103120/104500]  Loss: 0.3444  Time/Image: 0.1548    lr=0.001714\n"
     ],
     "name": "stderr"
    },
    {
     "output_type": "stream",
     "text": [
      "Iter [103120/104500]  Loss: 0.3444  Time/Image: 0.1548    lr=0.001714\n"
     ],
     "name": "stdout"
    },
    {
     "output_type": "stream",
     "text": [
      "INFO:DR_test:Iter [103130/104500]  Loss: 0.3450  Time/Image: 0.1593    lr=0.001713\n"
     ],
     "name": "stderr"
    },
    {
     "output_type": "stream",
     "text": [
      "Iter [103130/104500]  Loss: 0.3450  Time/Image: 0.1593    lr=0.001713\n"
     ],
     "name": "stdout"
    },
    {
     "output_type": "stream",
     "text": [
      "INFO:DR_test:Iter [103140/104500]  Loss: 0.3472  Time/Image: 0.1512    lr=0.001712\n"
     ],
     "name": "stderr"
    },
    {
     "output_type": "stream",
     "text": [
      "Iter [103140/104500]  Loss: 0.3472  Time/Image: 0.1512    lr=0.001712\n"
     ],
     "name": "stdout"
    },
    {
     "output_type": "stream",
     "text": [
      "INFO:DR_test:Iter [103150/104500]  Loss: 0.3491  Time/Image: 0.1560    lr=0.001711\n"
     ],
     "name": "stderr"
    },
    {
     "output_type": "stream",
     "text": [
      "Iter [103150/104500]  Loss: 0.3491  Time/Image: 0.1560    lr=0.001711\n"
     ],
     "name": "stdout"
    },
    {
     "output_type": "stream",
     "text": [
      "INFO:DR_test:Iter [103160/104500]  Loss: 0.3485  Time/Image: 0.1558    lr=0.001711\n"
     ],
     "name": "stderr"
    },
    {
     "output_type": "stream",
     "text": [
      "Iter [103160/104500]  Loss: 0.3485  Time/Image: 0.1558    lr=0.001711\n"
     ],
     "name": "stdout"
    },
    {
     "output_type": "stream",
     "text": [
      "INFO:DR_test:Iter [103170/104500]  Loss: 0.3494  Time/Image: 0.1544    lr=0.001710\n"
     ],
     "name": "stderr"
    },
    {
     "output_type": "stream",
     "text": [
      "Iter [103170/104500]  Loss: 0.3494  Time/Image: 0.1544    lr=0.001710\n"
     ],
     "name": "stdout"
    },
    {
     "output_type": "stream",
     "text": [
      "INFO:DR_test:Iter [103180/104500]  Loss: 0.3501  Time/Image: 0.1525    lr=0.001709\n"
     ],
     "name": "stderr"
    },
    {
     "output_type": "stream",
     "text": [
      "Iter [103180/104500]  Loss: 0.3501  Time/Image: 0.1525    lr=0.001709\n"
     ],
     "name": "stdout"
    },
    {
     "output_type": "stream",
     "text": [
      "INFO:DR_test:Iter [103190/104500]  Loss: 0.3496  Time/Image: 0.1504    lr=0.001708\n"
     ],
     "name": "stderr"
    },
    {
     "output_type": "stream",
     "text": [
      "Iter [103190/104500]  Loss: 0.3496  Time/Image: 0.1504    lr=0.001708\n"
     ],
     "name": "stdout"
    },
    {
     "output_type": "stream",
     "text": [
      "INFO:DR_test:Iter [103200/104500]  Loss: 0.3504  Time/Image: 0.1510    lr=0.001707\n"
     ],
     "name": "stderr"
    },
    {
     "output_type": "stream",
     "text": [
      "Iter [103200/104500]  Loss: 0.3504  Time/Image: 0.1510    lr=0.001707\n"
     ],
     "name": "stdout"
    },
    {
     "output_type": "stream",
     "text": [
      "INFO:DR_test:Iter [103210/104500]  Loss: 0.3509  Time/Image: 0.1523    lr=0.001706\n"
     ],
     "name": "stderr"
    },
    {
     "output_type": "stream",
     "text": [
      "Iter [103210/104500]  Loss: 0.3509  Time/Image: 0.1523    lr=0.001706\n"
     ],
     "name": "stdout"
    },
    {
     "output_type": "stream",
     "text": [
      "INFO:DR_test:Iter [103220/104500]  Loss: 0.3512  Time/Image: 0.1494    lr=0.001705\n"
     ],
     "name": "stderr"
    },
    {
     "output_type": "stream",
     "text": [
      "Iter [103220/104500]  Loss: 0.3512  Time/Image: 0.1494    lr=0.001705\n"
     ],
     "name": "stdout"
    },
    {
     "output_type": "stream",
     "text": [
      "INFO:DR_test:Iter [103230/104500]  Loss: 0.3506  Time/Image: 0.1498    lr=0.001704\n"
     ],
     "name": "stderr"
    },
    {
     "output_type": "stream",
     "text": [
      "Iter [103230/104500]  Loss: 0.3506  Time/Image: 0.1498    lr=0.001704\n"
     ],
     "name": "stdout"
    },
    {
     "output_type": "stream",
     "text": [
      "INFO:DR_test:Iter [103240/104500]  Loss: 0.3504  Time/Image: 0.1439    lr=0.001703\n"
     ],
     "name": "stderr"
    },
    {
     "output_type": "stream",
     "text": [
      "Iter [103240/104500]  Loss: 0.3504  Time/Image: 0.1439    lr=0.001703\n"
     ],
     "name": "stdout"
    },
    {
     "output_type": "stream",
     "text": [
      "INFO:DR_test:Iter [103250/104500]  Loss: 0.3505  Time/Image: 0.1472    lr=0.001702\n"
     ],
     "name": "stderr"
    },
    {
     "output_type": "stream",
     "text": [
      "Iter [103250/104500]  Loss: 0.3505  Time/Image: 0.1472    lr=0.001702\n"
     ],
     "name": "stdout"
    },
    {
     "output_type": "stream",
     "text": [
      "INFO:DR_test:Iter [103260/104500]  Loss: 0.3526  Time/Image: 0.1469    lr=0.001701\n"
     ],
     "name": "stderr"
    },
    {
     "output_type": "stream",
     "text": [
      "Iter [103260/104500]  Loss: 0.3526  Time/Image: 0.1469    lr=0.001701\n"
     ],
     "name": "stdout"
    },
    {
     "output_type": "stream",
     "text": [
      "INFO:DR_test:Iter [103270/104500]  Loss: 0.3523  Time/Image: 0.1479    lr=0.001701\n"
     ],
     "name": "stderr"
    },
    {
     "output_type": "stream",
     "text": [
      "Iter [103270/104500]  Loss: 0.3523  Time/Image: 0.1479    lr=0.001701\n"
     ],
     "name": "stdout"
    },
    {
     "output_type": "stream",
     "text": [
      "INFO:DR_test:Iter [103280/104500]  Loss: 0.3517  Time/Image: 0.1461    lr=0.001700\n"
     ],
     "name": "stderr"
    },
    {
     "output_type": "stream",
     "text": [
      "Iter [103280/104500]  Loss: 0.3517  Time/Image: 0.1461    lr=0.001700\n"
     ],
     "name": "stdout"
    },
    {
     "output_type": "stream",
     "text": [
      "INFO:DR_test:Iter [103290/104500]  Loss: 0.3519  Time/Image: 0.1461    lr=0.001699\n"
     ],
     "name": "stderr"
    },
    {
     "output_type": "stream",
     "text": [
      "Iter [103290/104500]  Loss: 0.3519  Time/Image: 0.1461    lr=0.001699\n"
     ],
     "name": "stdout"
    },
    {
     "output_type": "stream",
     "text": [
      "INFO:DR_test:Iter [103300/104500]  Loss: 0.3505  Time/Image: 0.1449    lr=0.001698\n"
     ],
     "name": "stderr"
    },
    {
     "output_type": "stream",
     "text": [
      "Iter [103300/104500]  Loss: 0.3505  Time/Image: 0.1449    lr=0.001698\n"
     ],
     "name": "stdout"
    },
    {
     "output_type": "stream",
     "text": [
      "INFO:DR_test:Iter [103310/104500]  Loss: 0.3501  Time/Image: 0.1452    lr=0.001697\n"
     ],
     "name": "stderr"
    },
    {
     "output_type": "stream",
     "text": [
      "Iter [103310/104500]  Loss: 0.3501  Time/Image: 0.1452    lr=0.001697\n"
     ],
     "name": "stdout"
    },
    {
     "output_type": "stream",
     "text": [
      "INFO:DR_test:Iter [103320/104500]  Loss: 0.3516  Time/Image: 0.1442    lr=0.001696\n"
     ],
     "name": "stderr"
    },
    {
     "output_type": "stream",
     "text": [
      "Iter [103320/104500]  Loss: 0.3516  Time/Image: 0.1442    lr=0.001696\n"
     ],
     "name": "stdout"
    },
    {
     "output_type": "stream",
     "text": [
      "INFO:DR_test:Iter [103330/104500]  Loss: 0.3509  Time/Image: 0.1435    lr=0.001695\n"
     ],
     "name": "stderr"
    },
    {
     "output_type": "stream",
     "text": [
      "Iter [103330/104500]  Loss: 0.3509  Time/Image: 0.1435    lr=0.001695\n"
     ],
     "name": "stdout"
    },
    {
     "output_type": "stream",
     "text": [
      "INFO:DR_test:Iter [103340/104500]  Loss: 0.3502  Time/Image: 0.1437    lr=0.001694\n"
     ],
     "name": "stderr"
    },
    {
     "output_type": "stream",
     "text": [
      "Iter [103340/104500]  Loss: 0.3502  Time/Image: 0.1437    lr=0.001694\n"
     ],
     "name": "stdout"
    },
    {
     "output_type": "stream",
     "text": [
      "INFO:DR_test:Iter [103350/104500]  Loss: 0.3511  Time/Image: 0.1445    lr=0.001693\n"
     ],
     "name": "stderr"
    },
    {
     "output_type": "stream",
     "text": [
      "Iter [103350/104500]  Loss: 0.3511  Time/Image: 0.1445    lr=0.001693\n"
     ],
     "name": "stdout"
    },
    {
     "output_type": "stream",
     "text": [
      "INFO:DR_test:Iter [103360/104500]  Loss: 0.3513  Time/Image: 0.1409    lr=0.001692\n"
     ],
     "name": "stderr"
    },
    {
     "output_type": "stream",
     "text": [
      "Iter [103360/104500]  Loss: 0.3513  Time/Image: 0.1409    lr=0.001692\n"
     ],
     "name": "stdout"
    },
    {
     "output_type": "stream",
     "text": [
      "INFO:DR_test:Iter [103370/104500]  Loss: 0.3509  Time/Image: 0.1674    lr=0.001691\n"
     ],
     "name": "stderr"
    },
    {
     "output_type": "stream",
     "text": [
      "Iter [103370/104500]  Loss: 0.3509  Time/Image: 0.1674    lr=0.001691\n"
     ],
     "name": "stdout"
    },
    {
     "output_type": "stream",
     "text": [
      "INFO:DR_test:Iter [103380/104500]  Loss: 0.3519  Time/Image: 0.1735    lr=0.001690\n"
     ],
     "name": "stderr"
    },
    {
     "output_type": "stream",
     "text": [
      "Iter [103380/104500]  Loss: 0.3519  Time/Image: 0.1735    lr=0.001690\n"
     ],
     "name": "stdout"
    },
    {
     "output_type": "stream",
     "text": [
      "INFO:DR_test:Iter [103390/104500]  Loss: 0.3519  Time/Image: 0.1678    lr=0.001690\n"
     ],
     "name": "stderr"
    },
    {
     "output_type": "stream",
     "text": [
      "Iter [103390/104500]  Loss: 0.3519  Time/Image: 0.1678    lr=0.001690\n"
     ],
     "name": "stdout"
    },
    {
     "output_type": "stream",
     "text": [
      "INFO:DR_test:Iter [103400/104500]  Loss: 0.3518  Time/Image: 0.1677    lr=0.001689\n"
     ],
     "name": "stderr"
    },
    {
     "output_type": "stream",
     "text": [
      "Iter [103400/104500]  Loss: 0.3518  Time/Image: 0.1677    lr=0.001689\n"
     ],
     "name": "stdout"
    },
    {
     "output_type": "stream",
     "text": [
      "INFO:DR_test:Iter [103410/104500]  Loss: 0.3518  Time/Image: 0.1683    lr=0.001688\n"
     ],
     "name": "stderr"
    },
    {
     "output_type": "stream",
     "text": [
      "Iter [103410/104500]  Loss: 0.3518  Time/Image: 0.1683    lr=0.001688\n"
     ],
     "name": "stdout"
    },
    {
     "output_type": "stream",
     "text": [
      "INFO:DR_test:Iter [103420/104500]  Loss: 0.3521  Time/Image: 0.1667    lr=0.001687\n"
     ],
     "name": "stderr"
    },
    {
     "output_type": "stream",
     "text": [
      "Iter [103420/104500]  Loss: 0.3521  Time/Image: 0.1667    lr=0.001687\n"
     ],
     "name": "stdout"
    },
    {
     "output_type": "stream",
     "text": [
      "INFO:DR_test:Iter [103430/104500]  Loss: 0.3522  Time/Image: 0.1658    lr=0.001686\n"
     ],
     "name": "stderr"
    },
    {
     "output_type": "stream",
     "text": [
      "Iter [103430/104500]  Loss: 0.3522  Time/Image: 0.1658    lr=0.001686\n"
     ],
     "name": "stdout"
    },
    {
     "output_type": "stream",
     "text": [
      "INFO:DR_test:Iter [103440/104500]  Loss: 0.3527  Time/Image: 0.1758    lr=0.001685\n"
     ],
     "name": "stderr"
    },
    {
     "output_type": "stream",
     "text": [
      "Iter [103440/104500]  Loss: 0.3527  Time/Image: 0.1758    lr=0.001685\n"
     ],
     "name": "stdout"
    },
    {
     "output_type": "stream",
     "text": [
      "INFO:DR_test:Iter [103450/104500]  Loss: 0.3531  Time/Image: 0.1722    lr=0.001684\n"
     ],
     "name": "stderr"
    },
    {
     "output_type": "stream",
     "text": [
      "Iter [103450/104500]  Loss: 0.3531  Time/Image: 0.1722    lr=0.001684\n"
     ],
     "name": "stdout"
    },
    {
     "output_type": "stream",
     "text": [
      "INFO:DR_test:Iter [103460/104500]  Loss: 0.3529  Time/Image: 0.1733    lr=0.001683\n"
     ],
     "name": "stderr"
    },
    {
     "output_type": "stream",
     "text": [
      "Iter [103460/104500]  Loss: 0.3529  Time/Image: 0.1733    lr=0.001683\n"
     ],
     "name": "stdout"
    },
    {
     "output_type": "stream",
     "text": [
      "INFO:DR_test:Iter [103470/104500]  Loss: 0.3535  Time/Image: 0.1701    lr=0.001682\n"
     ],
     "name": "stderr"
    },
    {
     "output_type": "stream",
     "text": [
      "Iter [103470/104500]  Loss: 0.3535  Time/Image: 0.1701    lr=0.001682\n"
     ],
     "name": "stdout"
    },
    {
     "output_type": "stream",
     "text": [
      "INFO:DR_test:Iter [103480/104500]  Loss: 0.3531  Time/Image: 0.1648    lr=0.001681\n"
     ],
     "name": "stderr"
    },
    {
     "output_type": "stream",
     "text": [
      "Iter [103480/104500]  Loss: 0.3531  Time/Image: 0.1648    lr=0.001681\n"
     ],
     "name": "stdout"
    },
    {
     "output_type": "stream",
     "text": [
      "INFO:DR_test:Iter [103490/104500]  Loss: 0.3536  Time/Image: 0.1564    lr=0.001680\n"
     ],
     "name": "stderr"
    },
    {
     "output_type": "stream",
     "text": [
      "Iter [103490/104500]  Loss: 0.3536  Time/Image: 0.1564    lr=0.001680\n"
     ],
     "name": "stdout"
    },
    {
     "output_type": "stream",
     "text": [
      "INFO:DR_test:Iter [103500/104500]  Loss: 0.3533  Time/Image: 0.1612    lr=0.001680\n"
     ],
     "name": "stderr"
    },
    {
     "output_type": "stream",
     "text": [
      "Iter [103500/104500]  Loss: 0.3533  Time/Image: 0.1612    lr=0.001680\n"
     ],
     "name": "stdout"
    },
    {
     "output_type": "stream",
     "text": [
      "INFO:DR_test:Iter 103500 Val Loss: 0.4765\n",
      "INFO:DR_test:Overall Acc: \t: 0.940899823013274\n",
      "INFO:DR_test:Mean Acc : \t: 0.7588801477225262\n",
      "INFO:DR_test:FreqW Acc : \t: 0.8938408177756041\n",
      "INFO:DR_test:Mean IoU : \t: 0.6693602312989198\n",
      "INFO:DR_test:0: 0.9696475920701819\n",
      "INFO:DR_test:1: 0.7708392717859832\n",
      "INFO:DR_test:2: 0.8929643724224438\n",
      "INFO:DR_test:3: 0.41238762677706375\n",
      "INFO:DR_test:4: 0.4687126130332628\n",
      "INFO:DR_test:5: 0.5046039380322646\n",
      "INFO:DR_test:6: 0.5448068964999756\n",
      "INFO:DR_test:7: 0.6573068392077517\n",
      "INFO:DR_test:8: 0.9019727063102649\n",
      "INFO:DR_test:9: 0.534193100639607\n",
      "INFO:DR_test:10: 0.924717559011765\n",
      "INFO:DR_test:11: 0.7212598040972301\n",
      "INFO:DR_test:12: 0.4837170191675855\n",
      "INFO:DR_test:13: 0.9084362856921872\n",
      "INFO:DR_test:14: 0.5605505835713407\n",
      "INFO:DR_test:15: 0.6974158074947069\n",
      "INFO:DR_test:16: 0.6034579847072264\n",
      "INFO:DR_test:17: 0.4821511125281274\n",
      "INFO:DR_test:18: 0.6787032816305075\n",
      "INFO:DR_test:Iter [103510/104500]  Loss: 0.3402  Time/Image: 0.1518    lr=0.001679\n"
     ],
     "name": "stderr"
    },
    {
     "output_type": "stream",
     "text": [
      "Iter [103510/104500]  Loss: 0.3402  Time/Image: 0.1518    lr=0.001679\n"
     ],
     "name": "stdout"
    },
    {
     "output_type": "stream",
     "text": [
      "INFO:DR_test:Iter [103520/104500]  Loss: 0.3721  Time/Image: 0.1536    lr=0.001678\n"
     ],
     "name": "stderr"
    },
    {
     "output_type": "stream",
     "text": [
      "Iter [103520/104500]  Loss: 0.3721  Time/Image: 0.1536    lr=0.001678\n"
     ],
     "name": "stdout"
    },
    {
     "output_type": "stream",
     "text": [
      "INFO:DR_test:Iter [103530/104500]  Loss: 0.3563  Time/Image: 0.1521    lr=0.001677\n"
     ],
     "name": "stderr"
    },
    {
     "output_type": "stream",
     "text": [
      "Iter [103530/104500]  Loss: 0.3563  Time/Image: 0.1521    lr=0.001677\n"
     ],
     "name": "stdout"
    },
    {
     "output_type": "stream",
     "text": [
      "INFO:DR_test:Iter [103540/104500]  Loss: 0.3542  Time/Image: 0.1593    lr=0.001676\n"
     ],
     "name": "stderr"
    },
    {
     "output_type": "stream",
     "text": [
      "Iter [103540/104500]  Loss: 0.3542  Time/Image: 0.1593    lr=0.001676\n"
     ],
     "name": "stdout"
    },
    {
     "output_type": "stream",
     "text": [
      "INFO:DR_test:Iter [103550/104500]  Loss: 0.3539  Time/Image: 0.1532    lr=0.001675\n"
     ],
     "name": "stderr"
    },
    {
     "output_type": "stream",
     "text": [
      "Iter [103550/104500]  Loss: 0.3539  Time/Image: 0.1532    lr=0.001675\n"
     ],
     "name": "stdout"
    },
    {
     "output_type": "stream",
     "text": [
      "INFO:DR_test:Iter [103560/104500]  Loss: 0.3535  Time/Image: 0.1532    lr=0.001674\n"
     ],
     "name": "stderr"
    },
    {
     "output_type": "stream",
     "text": [
      "Iter [103560/104500]  Loss: 0.3535  Time/Image: 0.1532    lr=0.001674\n"
     ],
     "name": "stdout"
    },
    {
     "output_type": "stream",
     "text": [
      "INFO:DR_test:Iter [103570/104500]  Loss: 0.3525  Time/Image: 0.1490    lr=0.001673\n"
     ],
     "name": "stderr"
    },
    {
     "output_type": "stream",
     "text": [
      "Iter [103570/104500]  Loss: 0.3525  Time/Image: 0.1490    lr=0.001673\n"
     ],
     "name": "stdout"
    },
    {
     "output_type": "stream",
     "text": [
      "INFO:DR_test:Iter [103580/104500]  Loss: 0.3509  Time/Image: 0.1513    lr=0.001672\n"
     ],
     "name": "stderr"
    },
    {
     "output_type": "stream",
     "text": [
      "Iter [103580/104500]  Loss: 0.3509  Time/Image: 0.1513    lr=0.001672\n"
     ],
     "name": "stdout"
    },
    {
     "output_type": "stream",
     "text": [
      "INFO:DR_test:Iter [103590/104500]  Loss: 0.3486  Time/Image: 0.1539    lr=0.001671\n"
     ],
     "name": "stderr"
    },
    {
     "output_type": "stream",
     "text": [
      "Iter [103590/104500]  Loss: 0.3486  Time/Image: 0.1539    lr=0.001671\n"
     ],
     "name": "stdout"
    },
    {
     "output_type": "stream",
     "text": [
      "INFO:DR_test:Iter [103600/104500]  Loss: 0.3480  Time/Image: 0.1481    lr=0.001670\n"
     ],
     "name": "stderr"
    },
    {
     "output_type": "stream",
     "text": [
      "Iter [103600/104500]  Loss: 0.3480  Time/Image: 0.1481    lr=0.001670\n"
     ],
     "name": "stdout"
    },
    {
     "output_type": "stream",
     "text": [
      "INFO:DR_test:Iter [103610/104500]  Loss: 0.3468  Time/Image: 0.1539    lr=0.001669\n"
     ],
     "name": "stderr"
    },
    {
     "output_type": "stream",
     "text": [
      "Iter [103610/104500]  Loss: 0.3468  Time/Image: 0.1539    lr=0.001669\n"
     ],
     "name": "stdout"
    },
    {
     "output_type": "stream",
     "text": [
      "INFO:DR_test:Iter [103620/104500]  Loss: 0.3531  Time/Image: 0.1450    lr=0.001669\n"
     ],
     "name": "stderr"
    },
    {
     "output_type": "stream",
     "text": [
      "Iter [103620/104500]  Loss: 0.3531  Time/Image: 0.1450    lr=0.001669\n"
     ],
     "name": "stdout"
    },
    {
     "output_type": "stream",
     "text": [
      "INFO:DR_test:Iter [103630/104500]  Loss: 0.3511  Time/Image: 0.1444    lr=0.001668\n"
     ],
     "name": "stderr"
    },
    {
     "output_type": "stream",
     "text": [
      "Iter [103630/104500]  Loss: 0.3511  Time/Image: 0.1444    lr=0.001668\n"
     ],
     "name": "stdout"
    },
    {
     "output_type": "stream",
     "text": [
      "INFO:DR_test:Iter [103640/104500]  Loss: 0.3508  Time/Image: 0.1514    lr=0.001667\n"
     ],
     "name": "stderr"
    },
    {
     "output_type": "stream",
     "text": [
      "Iter [103640/104500]  Loss: 0.3508  Time/Image: 0.1514    lr=0.001667\n"
     ],
     "name": "stdout"
    },
    {
     "output_type": "stream",
     "text": [
      "INFO:DR_test:Iter [103650/104500]  Loss: 0.3512  Time/Image: 0.1479    lr=0.001666\n"
     ],
     "name": "stderr"
    },
    {
     "output_type": "stream",
     "text": [
      "Iter [103650/104500]  Loss: 0.3512  Time/Image: 0.1479    lr=0.001666\n"
     ],
     "name": "stdout"
    },
    {
     "output_type": "stream",
     "text": [
      "INFO:DR_test:Iter [103660/104500]  Loss: 0.3540  Time/Image: 0.1471    lr=0.001665\n"
     ],
     "name": "stderr"
    },
    {
     "output_type": "stream",
     "text": [
      "Iter [103660/104500]  Loss: 0.3540  Time/Image: 0.1471    lr=0.001665\n"
     ],
     "name": "stdout"
    },
    {
     "output_type": "stream",
     "text": [
      "INFO:DR_test:Iter [103670/104500]  Loss: 0.3530  Time/Image: 0.1448    lr=0.001664\n"
     ],
     "name": "stderr"
    },
    {
     "output_type": "stream",
     "text": [
      "Iter [103670/104500]  Loss: 0.3530  Time/Image: 0.1448    lr=0.001664\n"
     ],
     "name": "stdout"
    },
    {
     "output_type": "stream",
     "text": [
      "INFO:DR_test:Iter [103680/104500]  Loss: 0.3543  Time/Image: 0.1442    lr=0.001663\n"
     ],
     "name": "stderr"
    },
    {
     "output_type": "stream",
     "text": [
      "Iter [103680/104500]  Loss: 0.3543  Time/Image: 0.1442    lr=0.001663\n"
     ],
     "name": "stdout"
    },
    {
     "output_type": "stream",
     "text": [
      "INFO:DR_test:Iter [103690/104500]  Loss: 0.3549  Time/Image: 0.1457    lr=0.001662\n"
     ],
     "name": "stderr"
    },
    {
     "output_type": "stream",
     "text": [
      "Iter [103690/104500]  Loss: 0.3549  Time/Image: 0.1457    lr=0.001662\n"
     ],
     "name": "stdout"
    },
    {
     "output_type": "stream",
     "text": [
      "INFO:DR_test:Iter [103700/104500]  Loss: 0.3543  Time/Image: 0.1447    lr=0.001661\n"
     ],
     "name": "stderr"
    },
    {
     "output_type": "stream",
     "text": [
      "Iter [103700/104500]  Loss: 0.3543  Time/Image: 0.1447    lr=0.001661\n"
     ],
     "name": "stdout"
    },
    {
     "output_type": "stream",
     "text": [
      "INFO:DR_test:Iter [103710/104500]  Loss: 0.3538  Time/Image: 0.1458    lr=0.001660\n"
     ],
     "name": "stderr"
    },
    {
     "output_type": "stream",
     "text": [
      "Iter [103710/104500]  Loss: 0.3538  Time/Image: 0.1458    lr=0.001660\n"
     ],
     "name": "stdout"
    },
    {
     "output_type": "stream",
     "text": [
      "INFO:DR_test:Iter [103720/104500]  Loss: 0.3548  Time/Image: 0.1468    lr=0.001659\n"
     ],
     "name": "stderr"
    },
    {
     "output_type": "stream",
     "text": [
      "Iter [103720/104500]  Loss: 0.3548  Time/Image: 0.1468    lr=0.001659\n"
     ],
     "name": "stdout"
    },
    {
     "output_type": "stream",
     "text": [
      "INFO:DR_test:Iter [103730/104500]  Loss: 0.3533  Time/Image: 0.1465    lr=0.001658\n"
     ],
     "name": "stderr"
    },
    {
     "output_type": "stream",
     "text": [
      "Iter [103730/104500]  Loss: 0.3533  Time/Image: 0.1465    lr=0.001658\n"
     ],
     "name": "stdout"
    },
    {
     "output_type": "stream",
     "text": [
      "INFO:DR_test:Iter [103740/104500]  Loss: 0.3521  Time/Image: 0.1491    lr=0.001658\n"
     ],
     "name": "stderr"
    },
    {
     "output_type": "stream",
     "text": [
      "Iter [103740/104500]  Loss: 0.3521  Time/Image: 0.1491    lr=0.001658\n"
     ],
     "name": "stdout"
    },
    {
     "output_type": "stream",
     "text": [
      "INFO:DR_test:Iter [103750/104500]  Loss: 0.3514  Time/Image: 0.1615    lr=0.001657\n"
     ],
     "name": "stderr"
    },
    {
     "output_type": "stream",
     "text": [
      "Iter [103750/104500]  Loss: 0.3514  Time/Image: 0.1615    lr=0.001657\n"
     ],
     "name": "stdout"
    },
    {
     "output_type": "stream",
     "text": [
      "INFO:DR_test:Iter [103760/104500]  Loss: 0.3513  Time/Image: 0.1604    lr=0.001656\n"
     ],
     "name": "stderr"
    },
    {
     "output_type": "stream",
     "text": [
      "Iter [103760/104500]  Loss: 0.3513  Time/Image: 0.1604    lr=0.001656\n"
     ],
     "name": "stdout"
    },
    {
     "output_type": "stream",
     "text": [
      "INFO:DR_test:Iter [103770/104500]  Loss: 0.3525  Time/Image: 0.1627    lr=0.001655\n"
     ],
     "name": "stderr"
    },
    {
     "output_type": "stream",
     "text": [
      "Iter [103770/104500]  Loss: 0.3525  Time/Image: 0.1627    lr=0.001655\n"
     ],
     "name": "stdout"
    },
    {
     "output_type": "stream",
     "text": [
      "INFO:DR_test:Iter [103780/104500]  Loss: 0.3522  Time/Image: 0.1625    lr=0.001654\n"
     ],
     "name": "stderr"
    },
    {
     "output_type": "stream",
     "text": [
      "Iter [103780/104500]  Loss: 0.3522  Time/Image: 0.1625    lr=0.001654\n"
     ],
     "name": "stdout"
    },
    {
     "output_type": "stream",
     "text": [
      "INFO:DR_test:Iter [103790/104500]  Loss: 0.3520  Time/Image: 0.1576    lr=0.001653\n"
     ],
     "name": "stderr"
    },
    {
     "output_type": "stream",
     "text": [
      "Iter [103790/104500]  Loss: 0.3520  Time/Image: 0.1576    lr=0.001653\n"
     ],
     "name": "stdout"
    },
    {
     "output_type": "stream",
     "text": [
      "INFO:DR_test:Iter [103800/104500]  Loss: 0.3525  Time/Image: 0.1637    lr=0.001652\n"
     ],
     "name": "stderr"
    },
    {
     "output_type": "stream",
     "text": [
      "Iter [103800/104500]  Loss: 0.3525  Time/Image: 0.1637    lr=0.001652\n"
     ],
     "name": "stdout"
    },
    {
     "output_type": "stream",
     "text": [
      "INFO:DR_test:Iter [103810/104500]  Loss: 0.3519  Time/Image: 0.1585    lr=0.001651\n"
     ],
     "name": "stderr"
    },
    {
     "output_type": "stream",
     "text": [
      "Iter [103810/104500]  Loss: 0.3519  Time/Image: 0.1585    lr=0.001651\n"
     ],
     "name": "stdout"
    },
    {
     "output_type": "stream",
     "text": [
      "INFO:DR_test:Iter [103820/104500]  Loss: 0.3520  Time/Image: 0.1583    lr=0.001650\n"
     ],
     "name": "stderr"
    },
    {
     "output_type": "stream",
     "text": [
      "Iter [103820/104500]  Loss: 0.3520  Time/Image: 0.1583    lr=0.001650\n"
     ],
     "name": "stdout"
    },
    {
     "output_type": "stream",
     "text": [
      "INFO:DR_test:Iter [103830/104500]  Loss: 0.3520  Time/Image: 0.1608    lr=0.001649\n"
     ],
     "name": "stderr"
    },
    {
     "output_type": "stream",
     "text": [
      "Iter [103830/104500]  Loss: 0.3520  Time/Image: 0.1608    lr=0.001649\n"
     ],
     "name": "stdout"
    },
    {
     "output_type": "stream",
     "text": [
      "INFO:DR_test:Iter [103840/104500]  Loss: 0.3524  Time/Image: 0.1590    lr=0.001648\n"
     ],
     "name": "stderr"
    },
    {
     "output_type": "stream",
     "text": [
      "Iter [103840/104500]  Loss: 0.3524  Time/Image: 0.1590    lr=0.001648\n"
     ],
     "name": "stdout"
    },
    {
     "output_type": "stream",
     "text": [
      "INFO:DR_test:Iter [103850/104500]  Loss: 0.3520  Time/Image: 0.1490    lr=0.001647\n"
     ],
     "name": "stderr"
    },
    {
     "output_type": "stream",
     "text": [
      "Iter [103850/104500]  Loss: 0.3520  Time/Image: 0.1490    lr=0.001647\n"
     ],
     "name": "stdout"
    },
    {
     "output_type": "stream",
     "text": [
      "INFO:DR_test:Iter [103860/104500]  Loss: 0.3511  Time/Image: 0.1543    lr=0.001647\n"
     ],
     "name": "stderr"
    },
    {
     "output_type": "stream",
     "text": [
      "Iter [103860/104500]  Loss: 0.3511  Time/Image: 0.1543    lr=0.001647\n"
     ],
     "name": "stdout"
    },
    {
     "output_type": "stream",
     "text": [
      "INFO:DR_test:Iter [103870/104500]  Loss: 0.3512  Time/Image: 0.1574    lr=0.001646\n"
     ],
     "name": "stderr"
    },
    {
     "output_type": "stream",
     "text": [
      "Iter [103870/104500]  Loss: 0.3512  Time/Image: 0.1574    lr=0.001646\n"
     ],
     "name": "stdout"
    },
    {
     "output_type": "stream",
     "text": [
      "INFO:DR_test:Iter [103880/104500]  Loss: 0.3526  Time/Image: 0.1532    lr=0.001645\n"
     ],
     "name": "stderr"
    },
    {
     "output_type": "stream",
     "text": [
      "Iter [103880/104500]  Loss: 0.3526  Time/Image: 0.1532    lr=0.001645\n"
     ],
     "name": "stdout"
    },
    {
     "output_type": "stream",
     "text": [
      "INFO:DR_test:Iter [103890/104500]  Loss: 0.3520  Time/Image: 0.1596    lr=0.001644\n"
     ],
     "name": "stderr"
    },
    {
     "output_type": "stream",
     "text": [
      "Iter [103890/104500]  Loss: 0.3520  Time/Image: 0.1596    lr=0.001644\n"
     ],
     "name": "stdout"
    },
    {
     "output_type": "stream",
     "text": [
      "INFO:DR_test:Iter [103900/104500]  Loss: 0.3522  Time/Image: 0.1560    lr=0.001643\n"
     ],
     "name": "stderr"
    },
    {
     "output_type": "stream",
     "text": [
      "Iter [103900/104500]  Loss: 0.3522  Time/Image: 0.1560    lr=0.001643\n"
     ],
     "name": "stdout"
    },
    {
     "output_type": "stream",
     "text": [
      "INFO:DR_test:Iter [103910/104500]  Loss: 0.3524  Time/Image: 0.1508    lr=0.001642\n"
     ],
     "name": "stderr"
    },
    {
     "output_type": "stream",
     "text": [
      "Iter [103910/104500]  Loss: 0.3524  Time/Image: 0.1508    lr=0.001642\n"
     ],
     "name": "stdout"
    },
    {
     "output_type": "stream",
     "text": [
      "INFO:DR_test:Iter [103920/104500]  Loss: 0.3526  Time/Image: 0.1633    lr=0.001641\n"
     ],
     "name": "stderr"
    },
    {
     "output_type": "stream",
     "text": [
      "Iter [103920/104500]  Loss: 0.3526  Time/Image: 0.1633    lr=0.001641\n"
     ],
     "name": "stdout"
    },
    {
     "output_type": "stream",
     "text": [
      "INFO:DR_test:Iter [103930/104500]  Loss: 0.3523  Time/Image: 0.1583    lr=0.001640\n"
     ],
     "name": "stderr"
    },
    {
     "output_type": "stream",
     "text": [
      "Iter [103930/104500]  Loss: 0.3523  Time/Image: 0.1583    lr=0.001640\n"
     ],
     "name": "stdout"
    },
    {
     "output_type": "stream",
     "text": [
      "INFO:DR_test:Iter [103940/104500]  Loss: 0.3516  Time/Image: 0.1574    lr=0.001639\n"
     ],
     "name": "stderr"
    },
    {
     "output_type": "stream",
     "text": [
      "Iter [103940/104500]  Loss: 0.3516  Time/Image: 0.1574    lr=0.001639\n"
     ],
     "name": "stdout"
    },
    {
     "output_type": "stream",
     "text": [
      "INFO:DR_test:Iter [103950/104500]  Loss: 0.3530  Time/Image: 0.1522    lr=0.001638\n"
     ],
     "name": "stderr"
    },
    {
     "output_type": "stream",
     "text": [
      "Iter [103950/104500]  Loss: 0.3530  Time/Image: 0.1522    lr=0.001638\n"
     ],
     "name": "stdout"
    },
    {
     "output_type": "stream",
     "text": [
      "INFO:DR_test:Iter [103960/104500]  Loss: 0.3528  Time/Image: 0.1573    lr=0.001637\n"
     ],
     "name": "stderr"
    },
    {
     "output_type": "stream",
     "text": [
      "Iter [103960/104500]  Loss: 0.3528  Time/Image: 0.1573    lr=0.001637\n"
     ],
     "name": "stdout"
    },
    {
     "output_type": "stream",
     "text": [
      "INFO:DR_test:Iter [103970/104500]  Loss: 0.3522  Time/Image: 0.1551    lr=0.001636\n"
     ],
     "name": "stderr"
    },
    {
     "output_type": "stream",
     "text": [
      "Iter [103970/104500]  Loss: 0.3522  Time/Image: 0.1551    lr=0.001636\n"
     ],
     "name": "stdout"
    },
    {
     "output_type": "stream",
     "text": [
      "INFO:DR_test:Iter [103980/104500]  Loss: 0.3520  Time/Image: 0.1582    lr=0.001636\n"
     ],
     "name": "stderr"
    },
    {
     "output_type": "stream",
     "text": [
      "Iter [103980/104500]  Loss: 0.3520  Time/Image: 0.1582    lr=0.001636\n"
     ],
     "name": "stdout"
    },
    {
     "output_type": "stream",
     "text": [
      "INFO:DR_test:Iter [103990/104500]  Loss: 0.3520  Time/Image: 0.1567    lr=0.001635\n"
     ],
     "name": "stderr"
    },
    {
     "output_type": "stream",
     "text": [
      "Iter [103990/104500]  Loss: 0.3520  Time/Image: 0.1567    lr=0.001635\n"
     ],
     "name": "stdout"
    },
    {
     "output_type": "stream",
     "text": [
      "INFO:DR_test:Iter [104000/104500]  Loss: 0.3521  Time/Image: 0.1603    lr=0.001634\n"
     ],
     "name": "stderr"
    },
    {
     "output_type": "stream",
     "text": [
      "Iter [104000/104500]  Loss: 0.3521  Time/Image: 0.1603    lr=0.001634\n"
     ],
     "name": "stdout"
    },
    {
     "output_type": "stream",
     "text": [
      "INFO:DR_test:Iter 104000 Val Loss: 0.4839\n",
      "INFO:DR_test:Overall Acc: \t: 0.9410147236409756\n",
      "INFO:DR_test:Mean Acc : \t: 0.7609764634002996\n",
      "INFO:DR_test:FreqW Acc : \t: 0.893600904599593\n",
      "INFO:DR_test:Mean IoU : \t: 0.6670224525296429\n",
      "INFO:DR_test:0: 0.971328764290306\n",
      "INFO:DR_test:1: 0.7786046894955865\n",
      "INFO:DR_test:2: 0.8898349977532447\n",
      "INFO:DR_test:3: 0.41956713015074176\n",
      "INFO:DR_test:4: 0.45854409855151085\n",
      "INFO:DR_test:5: 0.48491761915148907\n",
      "INFO:DR_test:6: 0.5591515380741842\n",
      "INFO:DR_test:7: 0.6454536801538867\n",
      "INFO:DR_test:8: 0.9008446483380829\n",
      "INFO:DR_test:9: 0.5154312024024663\n",
      "INFO:DR_test:10: 0.9237150729101143\n",
      "INFO:DR_test:11: 0.7178077300040994\n",
      "INFO:DR_test:12: 0.48715995586076216\n",
      "INFO:DR_test:13: 0.9119136871975586\n",
      "INFO:DR_test:14: 0.5702059789043966\n",
      "INFO:DR_test:15: 0.6939907241343409\n",
      "INFO:DR_test:16: 0.606216156388047\n",
      "INFO:DR_test:17: 0.4662923943093761\n",
      "INFO:DR_test:18: 0.6724465299930201\n",
      "INFO:DR_test:Iter [104010/104500]  Loss: 0.3552  Time/Image: 0.1429    lr=0.001633\n"
     ],
     "name": "stderr"
    },
    {
     "output_type": "stream",
     "text": [
      "Iter [104010/104500]  Loss: 0.3552  Time/Image: 0.1429    lr=0.001633\n"
     ],
     "name": "stdout"
    },
    {
     "output_type": "stream",
     "text": [
      "INFO:DR_test:Iter [104020/104500]  Loss: 0.3479  Time/Image: 0.1467    lr=0.001632\n"
     ],
     "name": "stderr"
    },
    {
     "output_type": "stream",
     "text": [
      "Iter [104020/104500]  Loss: 0.3479  Time/Image: 0.1467    lr=0.001632\n"
     ],
     "name": "stdout"
    },
    {
     "output_type": "stream",
     "text": [
      "INFO:DR_test:Iter [104030/104500]  Loss: 0.3570  Time/Image: 0.1473    lr=0.001631\n"
     ],
     "name": "stderr"
    },
    {
     "output_type": "stream",
     "text": [
      "Iter [104030/104500]  Loss: 0.3570  Time/Image: 0.1473    lr=0.001631\n"
     ],
     "name": "stdout"
    },
    {
     "output_type": "stream",
     "text": [
      "INFO:DR_test:Iter [104040/104500]  Loss: 0.3478  Time/Image: 0.1440    lr=0.001630\n"
     ],
     "name": "stderr"
    },
    {
     "output_type": "stream",
     "text": [
      "Iter [104040/104500]  Loss: 0.3478  Time/Image: 0.1440    lr=0.001630\n"
     ],
     "name": "stdout"
    },
    {
     "output_type": "stream",
     "text": [
      "INFO:DR_test:Iter [104050/104500]  Loss: 0.3533  Time/Image: 0.1432    lr=0.001629\n"
     ],
     "name": "stderr"
    },
    {
     "output_type": "stream",
     "text": [
      "Iter [104050/104500]  Loss: 0.3533  Time/Image: 0.1432    lr=0.001629\n"
     ],
     "name": "stdout"
    },
    {
     "output_type": "stream",
     "text": [
      "INFO:DR_test:Iter [104060/104500]  Loss: 0.3599  Time/Image: 0.1460    lr=0.001628\n"
     ],
     "name": "stderr"
    },
    {
     "output_type": "stream",
     "text": [
      "Iter [104060/104500]  Loss: 0.3599  Time/Image: 0.1460    lr=0.001628\n"
     ],
     "name": "stdout"
    },
    {
     "output_type": "stream",
     "text": [
      "INFO:DR_test:Iter [104070/104500]  Loss: 0.3616  Time/Image: 0.1465    lr=0.001627\n"
     ],
     "name": "stderr"
    },
    {
     "output_type": "stream",
     "text": [
      "Iter [104070/104500]  Loss: 0.3616  Time/Image: 0.1465    lr=0.001627\n"
     ],
     "name": "stdout"
    },
    {
     "output_type": "stream",
     "text": [
      "INFO:DR_test:Iter [104080/104500]  Loss: 0.3591  Time/Image: 0.1429    lr=0.001626\n"
     ],
     "name": "stderr"
    },
    {
     "output_type": "stream",
     "text": [
      "Iter [104080/104500]  Loss: 0.3591  Time/Image: 0.1429    lr=0.001626\n"
     ],
     "name": "stdout"
    },
    {
     "output_type": "stream",
     "text": [
      "INFO:DR_test:Iter [104090/104500]  Loss: 0.3575  Time/Image: 0.1408    lr=0.001625\n"
     ],
     "name": "stderr"
    },
    {
     "output_type": "stream",
     "text": [
      "Iter [104090/104500]  Loss: 0.3575  Time/Image: 0.1408    lr=0.001625\n"
     ],
     "name": "stdout"
    },
    {
     "output_type": "stream",
     "text": [
      "INFO:DR_test:Iter [104100/104500]  Loss: 0.3593  Time/Image: 0.1432    lr=0.001625\n"
     ],
     "name": "stderr"
    },
    {
     "output_type": "stream",
     "text": [
      "Iter [104100/104500]  Loss: 0.3593  Time/Image: 0.1432    lr=0.001625\n"
     ],
     "name": "stdout"
    },
    {
     "output_type": "stream",
     "text": [
      "INFO:DR_test:Iter [104110/104500]  Loss: 0.3605  Time/Image: 0.1453    lr=0.001624\n"
     ],
     "name": "stderr"
    },
    {
     "output_type": "stream",
     "text": [
      "Iter [104110/104500]  Loss: 0.3605  Time/Image: 0.1453    lr=0.001624\n"
     ],
     "name": "stdout"
    },
    {
     "output_type": "stream",
     "text": [
      "INFO:DR_test:Iter [104120/104500]  Loss: 0.3601  Time/Image: 0.1610    lr=0.001623\n"
     ],
     "name": "stderr"
    },
    {
     "output_type": "stream",
     "text": [
      "Iter [104120/104500]  Loss: 0.3601  Time/Image: 0.1610    lr=0.001623\n"
     ],
     "name": "stdout"
    },
    {
     "output_type": "stream",
     "text": [
      "INFO:DR_test:Iter [104130/104500]  Loss: 0.3566  Time/Image: 0.1544    lr=0.001622\n"
     ],
     "name": "stderr"
    },
    {
     "output_type": "stream",
     "text": [
      "Iter [104130/104500]  Loss: 0.3566  Time/Image: 0.1544    lr=0.001622\n"
     ],
     "name": "stdout"
    },
    {
     "output_type": "stream",
     "text": [
      "INFO:DR_test:Iter [104140/104500]  Loss: 0.3578  Time/Image: 0.1614    lr=0.001621\n"
     ],
     "name": "stderr"
    },
    {
     "output_type": "stream",
     "text": [
      "Iter [104140/104500]  Loss: 0.3578  Time/Image: 0.1614    lr=0.001621\n"
     ],
     "name": "stdout"
    },
    {
     "output_type": "stream",
     "text": [
      "INFO:DR_test:Iter [104150/104500]  Loss: 0.3580  Time/Image: 0.1633    lr=0.001620\n"
     ],
     "name": "stderr"
    },
    {
     "output_type": "stream",
     "text": [
      "Iter [104150/104500]  Loss: 0.3580  Time/Image: 0.1633    lr=0.001620\n"
     ],
     "name": "stdout"
    },
    {
     "output_type": "stream",
     "text": [
      "INFO:DR_test:Iter [104160/104500]  Loss: 0.3571  Time/Image: 0.1579    lr=0.001619\n"
     ],
     "name": "stderr"
    },
    {
     "output_type": "stream",
     "text": [
      "Iter [104160/104500]  Loss: 0.3571  Time/Image: 0.1579    lr=0.001619\n"
     ],
     "name": "stdout"
    },
    {
     "output_type": "stream",
     "text": [
      "INFO:DR_test:Iter [104170/104500]  Loss: 0.3574  Time/Image: 0.1563    lr=0.001618\n"
     ],
     "name": "stderr"
    },
    {
     "output_type": "stream",
     "text": [
      "Iter [104170/104500]  Loss: 0.3574  Time/Image: 0.1563    lr=0.001618\n"
     ],
     "name": "stdout"
    },
    {
     "output_type": "stream",
     "text": [
      "INFO:DR_test:Iter [104180/104500]  Loss: 0.3584  Time/Image: 0.1493    lr=0.001617\n"
     ],
     "name": "stderr"
    },
    {
     "output_type": "stream",
     "text": [
      "Iter [104180/104500]  Loss: 0.3584  Time/Image: 0.1493    lr=0.001617\n"
     ],
     "name": "stdout"
    },
    {
     "output_type": "stream",
     "text": [
      "INFO:DR_test:Iter [104190/104500]  Loss: 0.3576  Time/Image: 0.1578    lr=0.001616\n"
     ],
     "name": "stderr"
    },
    {
     "output_type": "stream",
     "text": [
      "Iter [104190/104500]  Loss: 0.3576  Time/Image: 0.1578    lr=0.001616\n"
     ],
     "name": "stdout"
    },
    {
     "output_type": "stream",
     "text": [
      "INFO:DR_test:Iter [104200/104500]  Loss: 0.3580  Time/Image: 0.1669    lr=0.001615\n"
     ],
     "name": "stderr"
    },
    {
     "output_type": "stream",
     "text": [
      "Iter [104200/104500]  Loss: 0.3580  Time/Image: 0.1669    lr=0.001615\n"
     ],
     "name": "stdout"
    },
    {
     "output_type": "stream",
     "text": [
      "INFO:DR_test:Iter [104210/104500]  Loss: 0.3579  Time/Image: 0.1491    lr=0.001614\n"
     ],
     "name": "stderr"
    },
    {
     "output_type": "stream",
     "text": [
      "Iter [104210/104500]  Loss: 0.3579  Time/Image: 0.1491    lr=0.001614\n"
     ],
     "name": "stdout"
    },
    {
     "output_type": "stream",
     "text": [
      "INFO:DR_test:Iter [104220/104500]  Loss: 0.3570  Time/Image: 0.1492    lr=0.001614\n"
     ],
     "name": "stderr"
    },
    {
     "output_type": "stream",
     "text": [
      "Iter [104220/104500]  Loss: 0.3570  Time/Image: 0.1492    lr=0.001614\n"
     ],
     "name": "stdout"
    },
    {
     "output_type": "stream",
     "text": [
      "INFO:DR_test:Iter [104230/104500]  Loss: 0.3561  Time/Image: 0.1544    lr=0.001613\n"
     ],
     "name": "stderr"
    },
    {
     "output_type": "stream",
     "text": [
      "Iter [104230/104500]  Loss: 0.3561  Time/Image: 0.1544    lr=0.001613\n"
     ],
     "name": "stdout"
    },
    {
     "output_type": "stream",
     "text": [
      "INFO:DR_test:Iter [104240/104500]  Loss: 0.3554  Time/Image: 0.1543    lr=0.001612\n"
     ],
     "name": "stderr"
    },
    {
     "output_type": "stream",
     "text": [
      "Iter [104240/104500]  Loss: 0.3554  Time/Image: 0.1543    lr=0.001612\n"
     ],
     "name": "stdout"
    },
    {
     "output_type": "stream",
     "text": [
      "INFO:DR_test:Iter [104250/104500]  Loss: 0.3537  Time/Image: 0.1537    lr=0.001611\n"
     ],
     "name": "stderr"
    },
    {
     "output_type": "stream",
     "text": [
      "Iter [104250/104500]  Loss: 0.3537  Time/Image: 0.1537    lr=0.001611\n"
     ],
     "name": "stdout"
    },
    {
     "output_type": "stream",
     "text": [
      "INFO:DR_test:Iter [104260/104500]  Loss: 0.3543  Time/Image: 0.1507    lr=0.001610\n"
     ],
     "name": "stderr"
    },
    {
     "output_type": "stream",
     "text": [
      "Iter [104260/104500]  Loss: 0.3543  Time/Image: 0.1507    lr=0.001610\n"
     ],
     "name": "stdout"
    },
    {
     "output_type": "stream",
     "text": [
      "INFO:DR_test:Iter [104270/104500]  Loss: 0.3546  Time/Image: 0.1538    lr=0.001609\n"
     ],
     "name": "stderr"
    },
    {
     "output_type": "stream",
     "text": [
      "Iter [104270/104500]  Loss: 0.3546  Time/Image: 0.1538    lr=0.001609\n"
     ],
     "name": "stdout"
    },
    {
     "output_type": "stream",
     "text": [
      "INFO:DR_test:Iter [104280/104500]  Loss: 0.3553  Time/Image: 0.1490    lr=0.001608\n"
     ],
     "name": "stderr"
    },
    {
     "output_type": "stream",
     "text": [
      "Iter [104280/104500]  Loss: 0.3553  Time/Image: 0.1490    lr=0.001608\n"
     ],
     "name": "stdout"
    },
    {
     "output_type": "stream",
     "text": [
      "INFO:DR_test:Iter [104290/104500]  Loss: 0.3558  Time/Image: 0.1531    lr=0.001607\n"
     ],
     "name": "stderr"
    },
    {
     "output_type": "stream",
     "text": [
      "Iter [104290/104500]  Loss: 0.3558  Time/Image: 0.1531    lr=0.001607\n"
     ],
     "name": "stdout"
    },
    {
     "output_type": "stream",
     "text": [
      "INFO:DR_test:Iter [104300/104500]  Loss: 0.3552  Time/Image: 0.1534    lr=0.001606\n"
     ],
     "name": "stderr"
    },
    {
     "output_type": "stream",
     "text": [
      "Iter [104300/104500]  Loss: 0.3552  Time/Image: 0.1534    lr=0.001606\n"
     ],
     "name": "stdout"
    },
    {
     "output_type": "stream",
     "text": [
      "INFO:DR_test:Iter [104310/104500]  Loss: 0.3546  Time/Image: 0.1493    lr=0.001605\n"
     ],
     "name": "stderr"
    },
    {
     "output_type": "stream",
     "text": [
      "Iter [104310/104500]  Loss: 0.3546  Time/Image: 0.1493    lr=0.001605\n"
     ],
     "name": "stdout"
    },
    {
     "output_type": "stream",
     "text": [
      "INFO:DR_test:Iter [104320/104500]  Loss: 0.3546  Time/Image: 0.1515    lr=0.001604\n"
     ],
     "name": "stderr"
    },
    {
     "output_type": "stream",
     "text": [
      "Iter [104320/104500]  Loss: 0.3546  Time/Image: 0.1515    lr=0.001604\n"
     ],
     "name": "stdout"
    },
    {
     "output_type": "stream",
     "text": [
      "INFO:DR_test:Iter [104330/104500]  Loss: 0.3542  Time/Image: 0.1500    lr=0.001603\n"
     ],
     "name": "stderr"
    },
    {
     "output_type": "stream",
     "text": [
      "Iter [104330/104500]  Loss: 0.3542  Time/Image: 0.1500    lr=0.001603\n"
     ],
     "name": "stdout"
    },
    {
     "output_type": "stream",
     "text": [
      "INFO:DR_test:Iter [104340/104500]  Loss: 0.3541  Time/Image: 0.1503    lr=0.001602\n"
     ],
     "name": "stderr"
    },
    {
     "output_type": "stream",
     "text": [
      "Iter [104340/104500]  Loss: 0.3541  Time/Image: 0.1503    lr=0.001602\n"
     ],
     "name": "stdout"
    },
    {
     "output_type": "stream",
     "text": [
      "INFO:DR_test:Iter [104350/104500]  Loss: 0.3532  Time/Image: 0.1459    lr=0.001602\n"
     ],
     "name": "stderr"
    },
    {
     "output_type": "stream",
     "text": [
      "Iter [104350/104500]  Loss: 0.3532  Time/Image: 0.1459    lr=0.001602\n"
     ],
     "name": "stdout"
    },
    {
     "output_type": "stream",
     "text": [
      "INFO:DR_test:Iter [104360/104500]  Loss: 0.3539  Time/Image: 0.1474    lr=0.001601\n"
     ],
     "name": "stderr"
    },
    {
     "output_type": "stream",
     "text": [
      "Iter [104360/104500]  Loss: 0.3539  Time/Image: 0.1474    lr=0.001601\n"
     ],
     "name": "stdout"
    },
    {
     "output_type": "stream",
     "text": [
      "INFO:DR_test:Iter [104370/104500]  Loss: 0.3536  Time/Image: 0.1505    lr=0.001600\n"
     ],
     "name": "stderr"
    },
    {
     "output_type": "stream",
     "text": [
      "Iter [104370/104500]  Loss: 0.3536  Time/Image: 0.1505    lr=0.001600\n"
     ],
     "name": "stdout"
    },
    {
     "output_type": "stream",
     "text": [
      "INFO:DR_test:Iter [104380/104500]  Loss: 0.3535  Time/Image: 0.1507    lr=0.001599\n"
     ],
     "name": "stderr"
    },
    {
     "output_type": "stream",
     "text": [
      "Iter [104380/104500]  Loss: 0.3535  Time/Image: 0.1507    lr=0.001599\n"
     ],
     "name": "stdout"
    },
    {
     "output_type": "stream",
     "text": [
      "INFO:DR_test:Iter [104390/104500]  Loss: 0.3534  Time/Image: 0.1429    lr=0.001598\n"
     ],
     "name": "stderr"
    },
    {
     "output_type": "stream",
     "text": [
      "Iter [104390/104500]  Loss: 0.3534  Time/Image: 0.1429    lr=0.001598\n"
     ],
     "name": "stdout"
    },
    {
     "output_type": "stream",
     "text": [
      "INFO:DR_test:Iter [104400/104500]  Loss: 0.3534  Time/Image: 0.1494    lr=0.001597\n"
     ],
     "name": "stderr"
    },
    {
     "output_type": "stream",
     "text": [
      "Iter [104400/104500]  Loss: 0.3534  Time/Image: 0.1494    lr=0.001597\n"
     ],
     "name": "stdout"
    },
    {
     "output_type": "stream",
     "text": [
      "INFO:DR_test:Iter [104410/104500]  Loss: 0.3539  Time/Image: 0.1493    lr=0.001596\n"
     ],
     "name": "stderr"
    },
    {
     "output_type": "stream",
     "text": [
      "Iter [104410/104500]  Loss: 0.3539  Time/Image: 0.1493    lr=0.001596\n"
     ],
     "name": "stdout"
    },
    {
     "output_type": "stream",
     "text": [
      "INFO:DR_test:Iter [104420/104500]  Loss: 0.3543  Time/Image: 0.1450    lr=0.001595\n"
     ],
     "name": "stderr"
    },
    {
     "output_type": "stream",
     "text": [
      "Iter [104420/104500]  Loss: 0.3543  Time/Image: 0.1450    lr=0.001595\n"
     ],
     "name": "stdout"
    },
    {
     "output_type": "stream",
     "text": [
      "INFO:DR_test:Iter [104430/104500]  Loss: 0.3540  Time/Image: 0.1491    lr=0.001594\n"
     ],
     "name": "stderr"
    },
    {
     "output_type": "stream",
     "text": [
      "Iter [104430/104500]  Loss: 0.3540  Time/Image: 0.1491    lr=0.001594\n"
     ],
     "name": "stdout"
    },
    {
     "output_type": "stream",
     "text": [
      "INFO:DR_test:Iter [104440/104500]  Loss: 0.3541  Time/Image: 0.1469    lr=0.001593\n"
     ],
     "name": "stderr"
    },
    {
     "output_type": "stream",
     "text": [
      "Iter [104440/104500]  Loss: 0.3541  Time/Image: 0.1469    lr=0.001593\n"
     ],
     "name": "stdout"
    },
    {
     "output_type": "stream",
     "text": [
      "INFO:DR_test:Iter [104450/104500]  Loss: 0.3542  Time/Image: 0.1475    lr=0.001592\n"
     ],
     "name": "stderr"
    },
    {
     "output_type": "stream",
     "text": [
      "Iter [104450/104500]  Loss: 0.3542  Time/Image: 0.1475    lr=0.001592\n"
     ],
     "name": "stdout"
    },
    {
     "output_type": "stream",
     "text": [
      "INFO:DR_test:Iter [104460/104500]  Loss: 0.3546  Time/Image: 0.1425    lr=0.001591\n"
     ],
     "name": "stderr"
    },
    {
     "output_type": "stream",
     "text": [
      "Iter [104460/104500]  Loss: 0.3546  Time/Image: 0.1425    lr=0.001591\n"
     ],
     "name": "stdout"
    },
    {
     "output_type": "stream",
     "text": [
      "INFO:DR_test:Iter [104470/104500]  Loss: 0.3544  Time/Image: 0.1449    lr=0.001591\n"
     ],
     "name": "stderr"
    },
    {
     "output_type": "stream",
     "text": [
      "Iter [104470/104500]  Loss: 0.3544  Time/Image: 0.1449    lr=0.001591\n"
     ],
     "name": "stdout"
    },
    {
     "output_type": "stream",
     "text": [
      "INFO:DR_test:Iter [104480/104500]  Loss: 0.3545  Time/Image: 0.1525    lr=0.001590\n"
     ],
     "name": "stderr"
    },
    {
     "output_type": "stream",
     "text": [
      "Iter [104480/104500]  Loss: 0.3545  Time/Image: 0.1525    lr=0.001590\n"
     ],
     "name": "stdout"
    },
    {
     "output_type": "stream",
     "text": [
      "INFO:DR_test:Iter [104490/104500]  Loss: 0.3548  Time/Image: 0.1662    lr=0.001589\n"
     ],
     "name": "stderr"
    },
    {
     "output_type": "stream",
     "text": [
      "Iter [104490/104500]  Loss: 0.3548  Time/Image: 0.1662    lr=0.001589\n"
     ],
     "name": "stdout"
    },
    {
     "output_type": "stream",
     "text": [
      "INFO:DR_test:Iter [104500/104500]  Loss: 0.3541  Time/Image: 0.1694    lr=0.001588\n"
     ],
     "name": "stderr"
    },
    {
     "output_type": "stream",
     "text": [
      "Iter [104500/104500]  Loss: 0.3541  Time/Image: 0.1694    lr=0.001588\n"
     ],
     "name": "stdout"
    },
    {
     "output_type": "stream",
     "text": [
      "INFO:DR_test:Iter 104500 Val Loss: 0.4419\n",
      "INFO:DR_test:Overall Acc: \t: 0.9404063902140145\n",
      "INFO:DR_test:Mean Acc : \t: 0.7629994724307663\n",
      "INFO:DR_test:FreqW Acc : \t: 0.8925960093996492\n",
      "INFO:DR_test:Mean IoU : \t: 0.6712193270915098\n",
      "INFO:DR_test:0: 0.9692278552283156\n",
      "INFO:DR_test:1: 0.7724736929001691\n",
      "INFO:DR_test:2: 0.8917531275958253\n",
      "INFO:DR_test:3: 0.46300007902982276\n",
      "INFO:DR_test:4: 0.42900177267832357\n",
      "INFO:DR_test:5: 0.4923983793023531\n",
      "INFO:DR_test:6: 0.5586599118562047\n",
      "INFO:DR_test:7: 0.6647553757779536\n",
      "INFO:DR_test:8: 0.8972076671498068\n",
      "INFO:DR_test:9: 0.5511378011369199\n",
      "INFO:DR_test:10: 0.9212218751469918\n",
      "INFO:DR_test:11: 0.7231864335869368\n",
      "INFO:DR_test:12: 0.4965910774615758\n",
      "INFO:DR_test:13: 0.909120208542256\n",
      "INFO:DR_test:14: 0.49624766331072134\n",
      "INFO:DR_test:15: 0.7063914154039056\n",
      "INFO:DR_test:16: 0.6462676622001533\n",
      "INFO:DR_test:17: 0.4919852880630198\n",
      "INFO:DR_test:18: 0.6725399283674335\n"
     ],
     "name": "stderr"
    }
   ]
  }
 ]
}